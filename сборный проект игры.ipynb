{
 "cells": [
  {
   "cell_type": "markdown",
   "metadata": {},
   "source": [
    "<div class=\"alert alert-success\">\n",
    "<b> Комментарий от ревьюера 3 ✔️</b>\n",
    "\n",
    "Привет! Оформление комментариев по работе сохраняется. Только обозначим, что это третья итерация. \n",
    "\n",
    "</div>"
   ]
  },
  {
   "cell_type": "markdown",
   "metadata": {},
   "source": [
    "<div class=\"alert alert-success\">\n",
    "<b> Комментарий от ревьюера 2 ✔️</b>\n",
    "\n",
    "Привет еще раз. Оформление комментариев по работе сохраняется. Только обозначим, что это вторая итерация. \n",
    "\n",
    "</div>"
   ]
  },
  {
   "cell_type": "markdown",
   "metadata": {},
   "source": [
    "<b>Комментарий от ревьюера</b>\n",
    "\n",
    "Привет! Меня зовут Ярослав Кальманов, я буду делать ревью твоего проекта. Давай будем общаться на «ты».\n",
    "\n",
    "Мои комментарии будут в ячейках \"Комментарий от ревьюера\".\n",
    "\n",
    "<div class=\"alert alert-danger\"> \n",
    "\n",
    "<b> Комментарий от ревьюера ❗</b>\n",
    "\n",
    "Красным цветом обозначены комментарии, на которые тебе нужно обратить внимание в первую очередь, чтобы я принял проект. \n",
    "</div>\n",
    "<div class=\"alert alert-warning\">\n",
    "\n",
    "<b> Комментарий от ревьюера ⚠️</b>\n",
    "\n",
    "Желтым цветом отмечено то, что ты можешь сделать немного по-другому. Ты можешь учесть эти комментарии при выполнении следующих проектов.\n",
    "</div>\n",
    "<div class=\"alert alert-success\">\n",
    "\n",
    "<b> Комментарий от ревьюера ✔️</b>\n",
    "\n",
    "Зелёным цветом обозначены твои удачные решения, которые ты без сомнения можешь применять в будущих проектах.  \n",
    "</div>\n",
    "\n",
    "Если ты вносишь изменения в проект по моим рекомендациям, указывай, пожалуйста, это в своих комментариях. Будет удобно, если обозначишь свои комментарии заметным цветом или поместишь \n",
    "\n",
    "<div class=\"alert alert-info\">\n",
    "    \n",
    "в такую ячейку\n",
    "</div>\n",
    "\n",
    "Давай при работе с проектом мы будем общаться с тобой в диалоге, поэтому не удаляй и не перемещай мои комментарии, это поможет мне сделать повторную  проверку проекта быстрее.\n",
    "___"
   ]
  },
  {
   "cell_type": "markdown",
   "metadata": {},
   "source": [
    "<div class=\"alert alert-warning\">\n",
    "    \n",
    "<b> Комментарий от ревьюера</b>\n",
    "    \n",
    "В начале работы стоит добавить описание проекта, чтобы твои коллеги понимали цели исследования. Это поможет и тебе, если ты вернешься к проекту спустя время.\n",
    "    \n",
    "Еще сюда можно добавить описание данных и оглавление. Описание поможет быстрее разобраться, что у нас лежит в датафрейме, а оглавление позволит понять охваченные вопросы и поможет сразу перейти к нужному разделу.\n",
    "</div>\n",
    "\n",
    "<div class=\"alert alert-info\">\n",
    "\n",
    "     Нужно выявить определяющие успешность игры закономерности. Это позволит сделать ставку на потенциально популярный продукт и спланировать рекламные кампании.\n",
    "    \n",
    "Описание данных\n",
    "    \n",
    "Name — название игры\n",
    "    \n",
    "Platform — платформа\n",
    "    \n",
    "Year_of_Release — год выпуска\n",
    "    \n",
    "Genre — жанр игры\n",
    "    \n",
    "NA_sales — продажи в Северной Америке (миллионы проданных копий)\n",
    "    \n",
    "EU_sales — продажи в Европе (миллионы проданных копий)\n",
    "    \n",
    "JP_sales — продажи в Японии (миллионы проданных копий)\n",
    "    \n",
    "Other_sales — продажи в других странах (миллионы проданных копий)\n",
    "    \n",
    "Critic_Score — оценка критиков (максимум 100)\n",
    "    \n",
    "User_Score — оценка пользователей (максимум 10)\n",
    "    \n",
    "Rating — рейтинг от организации ESRB (англ. Entertainment Software Rating Board). Эта ассоциация определяет рейтинг компьютерных игр и присваивает им подходящую возрастную категорию.\n",
    "</div>\n"
   ]
  },
  {
   "cell_type": "markdown",
   "metadata": {},
   "source": [
    "<div class=\"alert alert-success\">\n",
    "    \n",
    "<b> Комментарий от ревьюера 2 ✔️</b>\n",
    "\n",
    "👍\n",
    "</div>"
   ]
  },
  {
   "cell_type": "markdown",
   "metadata": {},
   "source": [
    "**Обзор данных**"
   ]
  },
  {
   "cell_type": "code",
   "execution_count": 1,
   "metadata": {
    "scrolled": true
   },
   "outputs": [
    {
     "name": "stdout",
     "output_type": "stream",
     "text": [
      "<class 'pandas.core.frame.DataFrame'>\n",
      "RangeIndex: 16715 entries, 0 to 16714\n",
      "Data columns (total 11 columns):\n",
      " #   Column           Non-Null Count  Dtype  \n",
      "---  ------           --------------  -----  \n",
      " 0   Name             16713 non-null  object \n",
      " 1   Platform         16715 non-null  object \n",
      " 2   Year_of_Release  16446 non-null  float64\n",
      " 3   Genre            16713 non-null  object \n",
      " 4   NA_sales         16715 non-null  float64\n",
      " 5   EU_sales         16715 non-null  float64\n",
      " 6   JP_sales         16715 non-null  float64\n",
      " 7   Other_sales      16715 non-null  float64\n",
      " 8   Critic_Score     8137 non-null   float64\n",
      " 9   User_Score       10014 non-null  object \n",
      " 10  Rating           9949 non-null   object \n",
      "dtypes: float64(6), object(5)\n",
      "memory usage: 1.4+ MB\n"
     ]
    },
    {
     "data": {
      "text/html": [
       "<div>\n",
       "<style scoped>\n",
       "    .dataframe tbody tr th:only-of-type {\n",
       "        vertical-align: middle;\n",
       "    }\n",
       "\n",
       "    .dataframe tbody tr th {\n",
       "        vertical-align: top;\n",
       "    }\n",
       "\n",
       "    .dataframe thead th {\n",
       "        text-align: right;\n",
       "    }\n",
       "</style>\n",
       "<table border=\"1\" class=\"dataframe\">\n",
       "  <thead>\n",
       "    <tr style=\"text-align: right;\">\n",
       "      <th></th>\n",
       "      <th>Name</th>\n",
       "      <th>Platform</th>\n",
       "      <th>Year_of_Release</th>\n",
       "      <th>Genre</th>\n",
       "      <th>NA_sales</th>\n",
       "      <th>EU_sales</th>\n",
       "      <th>JP_sales</th>\n",
       "      <th>Other_sales</th>\n",
       "      <th>Critic_Score</th>\n",
       "      <th>User_Score</th>\n",
       "      <th>Rating</th>\n",
       "    </tr>\n",
       "  </thead>\n",
       "  <tbody>\n",
       "    <tr>\n",
       "      <th>0</th>\n",
       "      <td>Wii Sports</td>\n",
       "      <td>Wii</td>\n",
       "      <td>2006.0</td>\n",
       "      <td>Sports</td>\n",
       "      <td>41.36</td>\n",
       "      <td>28.96</td>\n",
       "      <td>3.77</td>\n",
       "      <td>8.45</td>\n",
       "      <td>76.0</td>\n",
       "      <td>8</td>\n",
       "      <td>E</td>\n",
       "    </tr>\n",
       "    <tr>\n",
       "      <th>1</th>\n",
       "      <td>Super Mario Bros.</td>\n",
       "      <td>NES</td>\n",
       "      <td>1985.0</td>\n",
       "      <td>Platform</td>\n",
       "      <td>29.08</td>\n",
       "      <td>3.58</td>\n",
       "      <td>6.81</td>\n",
       "      <td>0.77</td>\n",
       "      <td>NaN</td>\n",
       "      <td>NaN</td>\n",
       "      <td>NaN</td>\n",
       "    </tr>\n",
       "    <tr>\n",
       "      <th>2</th>\n",
       "      <td>Mario Kart Wii</td>\n",
       "      <td>Wii</td>\n",
       "      <td>2008.0</td>\n",
       "      <td>Racing</td>\n",
       "      <td>15.68</td>\n",
       "      <td>12.76</td>\n",
       "      <td>3.79</td>\n",
       "      <td>3.29</td>\n",
       "      <td>82.0</td>\n",
       "      <td>8.3</td>\n",
       "      <td>E</td>\n",
       "    </tr>\n",
       "    <tr>\n",
       "      <th>3</th>\n",
       "      <td>Wii Sports Resort</td>\n",
       "      <td>Wii</td>\n",
       "      <td>2009.0</td>\n",
       "      <td>Sports</td>\n",
       "      <td>15.61</td>\n",
       "      <td>10.93</td>\n",
       "      <td>3.28</td>\n",
       "      <td>2.95</td>\n",
       "      <td>80.0</td>\n",
       "      <td>8</td>\n",
       "      <td>E</td>\n",
       "    </tr>\n",
       "    <tr>\n",
       "      <th>4</th>\n",
       "      <td>Pokemon Red/Pokemon Blue</td>\n",
       "      <td>GB</td>\n",
       "      <td>1996.0</td>\n",
       "      <td>Role-Playing</td>\n",
       "      <td>11.27</td>\n",
       "      <td>8.89</td>\n",
       "      <td>10.22</td>\n",
       "      <td>1.00</td>\n",
       "      <td>NaN</td>\n",
       "      <td>NaN</td>\n",
       "      <td>NaN</td>\n",
       "    </tr>\n",
       "    <tr>\n",
       "      <th>5</th>\n",
       "      <td>Tetris</td>\n",
       "      <td>GB</td>\n",
       "      <td>1989.0</td>\n",
       "      <td>Puzzle</td>\n",
       "      <td>23.20</td>\n",
       "      <td>2.26</td>\n",
       "      <td>4.22</td>\n",
       "      <td>0.58</td>\n",
       "      <td>NaN</td>\n",
       "      <td>NaN</td>\n",
       "      <td>NaN</td>\n",
       "    </tr>\n",
       "    <tr>\n",
       "      <th>6</th>\n",
       "      <td>New Super Mario Bros.</td>\n",
       "      <td>DS</td>\n",
       "      <td>2006.0</td>\n",
       "      <td>Platform</td>\n",
       "      <td>11.28</td>\n",
       "      <td>9.14</td>\n",
       "      <td>6.50</td>\n",
       "      <td>2.88</td>\n",
       "      <td>89.0</td>\n",
       "      <td>8.5</td>\n",
       "      <td>E</td>\n",
       "    </tr>\n",
       "    <tr>\n",
       "      <th>7</th>\n",
       "      <td>Wii Play</td>\n",
       "      <td>Wii</td>\n",
       "      <td>2006.0</td>\n",
       "      <td>Misc</td>\n",
       "      <td>13.96</td>\n",
       "      <td>9.18</td>\n",
       "      <td>2.93</td>\n",
       "      <td>2.84</td>\n",
       "      <td>58.0</td>\n",
       "      <td>6.6</td>\n",
       "      <td>E</td>\n",
       "    </tr>\n",
       "    <tr>\n",
       "      <th>8</th>\n",
       "      <td>New Super Mario Bros. Wii</td>\n",
       "      <td>Wii</td>\n",
       "      <td>2009.0</td>\n",
       "      <td>Platform</td>\n",
       "      <td>14.44</td>\n",
       "      <td>6.94</td>\n",
       "      <td>4.70</td>\n",
       "      <td>2.24</td>\n",
       "      <td>87.0</td>\n",
       "      <td>8.4</td>\n",
       "      <td>E</td>\n",
       "    </tr>\n",
       "    <tr>\n",
       "      <th>9</th>\n",
       "      <td>Duck Hunt</td>\n",
       "      <td>NES</td>\n",
       "      <td>1984.0</td>\n",
       "      <td>Shooter</td>\n",
       "      <td>26.93</td>\n",
       "      <td>0.63</td>\n",
       "      <td>0.28</td>\n",
       "      <td>0.47</td>\n",
       "      <td>NaN</td>\n",
       "      <td>NaN</td>\n",
       "      <td>NaN</td>\n",
       "    </tr>\n",
       "    <tr>\n",
       "      <th>10</th>\n",
       "      <td>Nintendogs</td>\n",
       "      <td>DS</td>\n",
       "      <td>2005.0</td>\n",
       "      <td>Simulation</td>\n",
       "      <td>9.05</td>\n",
       "      <td>10.95</td>\n",
       "      <td>1.93</td>\n",
       "      <td>2.74</td>\n",
       "      <td>NaN</td>\n",
       "      <td>NaN</td>\n",
       "      <td>NaN</td>\n",
       "    </tr>\n",
       "    <tr>\n",
       "      <th>11</th>\n",
       "      <td>Mario Kart DS</td>\n",
       "      <td>DS</td>\n",
       "      <td>2005.0</td>\n",
       "      <td>Racing</td>\n",
       "      <td>9.71</td>\n",
       "      <td>7.47</td>\n",
       "      <td>4.13</td>\n",
       "      <td>1.90</td>\n",
       "      <td>91.0</td>\n",
       "      <td>8.6</td>\n",
       "      <td>E</td>\n",
       "    </tr>\n",
       "    <tr>\n",
       "      <th>12</th>\n",
       "      <td>Pokemon Gold/Pokemon Silver</td>\n",
       "      <td>GB</td>\n",
       "      <td>1999.0</td>\n",
       "      <td>Role-Playing</td>\n",
       "      <td>9.00</td>\n",
       "      <td>6.18</td>\n",
       "      <td>7.20</td>\n",
       "      <td>0.71</td>\n",
       "      <td>NaN</td>\n",
       "      <td>NaN</td>\n",
       "      <td>NaN</td>\n",
       "    </tr>\n",
       "    <tr>\n",
       "      <th>13</th>\n",
       "      <td>Wii Fit</td>\n",
       "      <td>Wii</td>\n",
       "      <td>2007.0</td>\n",
       "      <td>Sports</td>\n",
       "      <td>8.92</td>\n",
       "      <td>8.03</td>\n",
       "      <td>3.60</td>\n",
       "      <td>2.15</td>\n",
       "      <td>80.0</td>\n",
       "      <td>7.7</td>\n",
       "      <td>E</td>\n",
       "    </tr>\n",
       "    <tr>\n",
       "      <th>14</th>\n",
       "      <td>Kinect Adventures!</td>\n",
       "      <td>X360</td>\n",
       "      <td>2010.0</td>\n",
       "      <td>Misc</td>\n",
       "      <td>15.00</td>\n",
       "      <td>4.89</td>\n",
       "      <td>0.24</td>\n",
       "      <td>1.69</td>\n",
       "      <td>61.0</td>\n",
       "      <td>6.3</td>\n",
       "      <td>E</td>\n",
       "    </tr>\n",
       "  </tbody>\n",
       "</table>\n",
       "</div>"
      ],
      "text/plain": [
       "                           Name Platform  Year_of_Release         Genre  \\\n",
       "0                    Wii Sports      Wii           2006.0        Sports   \n",
       "1             Super Mario Bros.      NES           1985.0      Platform   \n",
       "2                Mario Kart Wii      Wii           2008.0        Racing   \n",
       "3             Wii Sports Resort      Wii           2009.0        Sports   \n",
       "4      Pokemon Red/Pokemon Blue       GB           1996.0  Role-Playing   \n",
       "5                        Tetris       GB           1989.0        Puzzle   \n",
       "6         New Super Mario Bros.       DS           2006.0      Platform   \n",
       "7                      Wii Play      Wii           2006.0          Misc   \n",
       "8     New Super Mario Bros. Wii      Wii           2009.0      Platform   \n",
       "9                     Duck Hunt      NES           1984.0       Shooter   \n",
       "10                   Nintendogs       DS           2005.0    Simulation   \n",
       "11                Mario Kart DS       DS           2005.0        Racing   \n",
       "12  Pokemon Gold/Pokemon Silver       GB           1999.0  Role-Playing   \n",
       "13                      Wii Fit      Wii           2007.0        Sports   \n",
       "14           Kinect Adventures!     X360           2010.0          Misc   \n",
       "\n",
       "    NA_sales  EU_sales  JP_sales  Other_sales  Critic_Score User_Score Rating  \n",
       "0      41.36     28.96      3.77         8.45          76.0          8      E  \n",
       "1      29.08      3.58      6.81         0.77           NaN        NaN    NaN  \n",
       "2      15.68     12.76      3.79         3.29          82.0        8.3      E  \n",
       "3      15.61     10.93      3.28         2.95          80.0          8      E  \n",
       "4      11.27      8.89     10.22         1.00           NaN        NaN    NaN  \n",
       "5      23.20      2.26      4.22         0.58           NaN        NaN    NaN  \n",
       "6      11.28      9.14      6.50         2.88          89.0        8.5      E  \n",
       "7      13.96      9.18      2.93         2.84          58.0        6.6      E  \n",
       "8      14.44      6.94      4.70         2.24          87.0        8.4      E  \n",
       "9      26.93      0.63      0.28         0.47           NaN        NaN    NaN  \n",
       "10      9.05     10.95      1.93         2.74           NaN        NaN    NaN  \n",
       "11      9.71      7.47      4.13         1.90          91.0        8.6      E  \n",
       "12      9.00      6.18      7.20         0.71           NaN        NaN    NaN  \n",
       "13      8.92      8.03      3.60         2.15          80.0        7.7      E  \n",
       "14     15.00      4.89      0.24         1.69          61.0        6.3      E  "
      ]
     },
     "execution_count": 1,
     "metadata": {},
     "output_type": "execute_result"
    }
   ],
   "source": [
    "import pandas as pd\n",
    "import numpy as np\n",
    "import seaborn as sns\n",
    "from scipy import stats as st\n",
    "\n",
    "df=pd.read_csv('/datasets/games.csv',sep=',') #скачка файла\n",
    "df.info() #общая информация о данных\n",
    "df.head(15)\n",
    "\n",
    "#df['Platform'].unique()\n",
    "#df.shape[0]"
   ]
  },
  {
   "cell_type": "markdown",
   "metadata": {},
   "source": [
    "Данные содержат 16715 строк и 11 колонок, большинство показателей численные. Наблюдается необходимость в изменении типов данных."
   ]
  },
  {
   "cell_type": "markdown",
   "metadata": {},
   "source": [
    "<div class=\"alert alert-success\">\n",
    "    \n",
    "<b> Комментарий от ревьюера ✔️</b>\n",
    "    \n",
    "Здорово, что посмотрел на загруженные данные. Теперь мы уверены, что при импорте не возникло проблем \n",
    "\n",
    "</div>"
   ]
  },
  {
   "cell_type": "markdown",
   "metadata": {},
   "source": [
    "# Предобработка данных"
   ]
  },
  {
   "cell_type": "code",
   "execution_count": 2,
   "metadata": {
    "scrolled": true
   },
   "outputs": [],
   "source": [
    "df.columns = df.columns.str.lower() #приводим названия колонок к нижнему регистру\n",
    "\n",
    "df.isna().sum() #просмотр пропусков по столбцам\n",
    "df.head()\n",
    "\n",
    "\n",
    "df.duplicated().sum() #проверка на дубликаты\n",
    "df=df[~df.duplicated(subset=['name','platform'])]\n",
    "\n",
    "#df['full_name']=df.name+df.platform\n",
    "#df['full_name'].duplicated().sum()\n",
    "# были найдены дубликаты, выше с ними было покнчено"
   ]
  },
  {
   "cell_type": "markdown",
   "metadata": {},
   "source": [
    "<div class=\"alert alert-danger\">\n",
    "    \n",
    "<b> Комментарий от ревьюера ❗</b>\n",
    "    \n",
    "> #df.duplicated().sum() проверка на дубликаты\n",
    "    \n",
    "1. Подскажи, почему мы закомментировали код для поиска дубликатов?\n",
    "    \n",
    "1. Уникальным ключом в нашей таблице может быть связка `название игры - платформа`. Давай попробуем найти дубликаты по этим двум признакам, может быть у них будут указаны разные объемы продаж или вроде того. \n",
    "</div>\n",
    "\n",
    "<div class=\"alert alert-info\">\n",
    "    \n",
    "обработал дубликаты\n",
    "</div>\n"
   ]
  },
  {
   "cell_type": "markdown",
   "metadata": {},
   "source": [
    "<div class=\"alert alert-warning\">\n",
    "    \n",
    "<b> Комментарий от ревьюера 2 ⚠️</b>\n",
    "    \n",
    "В целом все супер, но перед удалением лучше посмотреть на дубликаты. Может быть окажется, что это переиздание игры с таким же названием, а не дубль\n",
    "</div>"
   ]
  },
  {
   "cell_type": "code",
   "execution_count": 3,
   "metadata": {},
   "outputs": [
    {
     "name": "stdout",
     "output_type": "stream",
     "text": [
      "0.5798215526033126\n"
     ]
    }
   ],
   "source": [
    "#df.query('name.isna()==True')\n",
    "df.drop(labels = [659],axis = 0,inplace=True)  #удаляем строку без названия игры, так как там почти все данные пустые\n",
    "#df.query('genre.isna()==True') предыдущее действие решает проблему с пропусками в жанрах\n",
    "#df.query('year_of_release.isna()==True')\n",
    "df.dropna(axis=0,inplace=True,subset=['year_of_release']) # удаляем строки без даты (важнейшей метрики проекта), так как пробелы крайне сложно заполнить, а потеря не велика\n",
    "\n",
    "df['total_sales'] = df.na_sales + df.eu_sales + df.jp_sales + df.other_sales # добавляем столбец с суммарными продажами для каждой игры\n",
    "\n",
    "#col = ['name','year_of_release','genre','critic_score','user_score','rating']\n",
    "#for i in col:\n",
    "    #print(df[i].unique())\n",
    "\n",
    "columns_to_retype = ['year_of_release','critic_score','user_score'] #меняем десятичный тип на целочисленный, так как год и оценка критиков здесь не подразумевают доли + меняем строковый тип на десятичный для рейтинга пользователей, так как нам нужны числа, а не текст\n",
    "for vid in columns_to_retype: \n",
    "    df[vid]=pd.to_numeric(df[vid], downcast='integer',errors='coerce')\n",
    "\n",
    "df['user_score']=df['user_score']*10\n",
    "print(df['user_score'].corr(df['critic_score']))"
   ]
  },
  {
   "cell_type": "code",
   "execution_count": 4,
   "metadata": {},
   "outputs": [
    {
     "data": {
      "text/plain": [
       "name                  0\n",
       "platform              0\n",
       "year_of_release       0\n",
       "genre                 0\n",
       "na_sales              0\n",
       "eu_sales              0\n",
       "jp_sales              0\n",
       "other_sales           0\n",
       "critic_score       8461\n",
       "user_score         8981\n",
       "rating                0\n",
       "total_sales           0\n",
       "dtype: int64"
      ]
     },
     "execution_count": 4,
     "metadata": {},
     "output_type": "execute_result"
    }
   ],
   "source": [
    "df.loc[df['rating']=='K-A', 'rating']='E'  # К-А и Е - это одни и те же возрастные рейтинги \n",
    "df['rating']=df['rating'].fillna(value='unknown') # заполняем пропуски в rating на unknown\n",
    "\n",
    "#df.head(26)\n",
    "#df.hist(figsize=(10, 15))\n",
    "#df['user_score'].value_counts()\n",
    "#df.query('99<user_score or user_score<1 or 100<critic_score or critic_score<1') проверка на аномалии рейтингов\n",
    "#df[118:120]\n",
    "df.isna().sum()"
   ]
  },
  {
   "cell_type": "markdown",
   "metadata": {},
   "source": [
    "<div class=\"alert alert-success\">\n",
    "    \n",
    "<b> Комментарий от ревьюера ✔️</b>\n",
    "    \n",
    "Молодец, что нашел неявные дубликаты в rating\n",
    "\n",
    "</div>"
   ]
  },
  {
   "cell_type": "markdown",
   "metadata": {},
   "source": [
    "<div class=\"alert alert-warning\">\n",
    "    \n",
    "<b> Комментарий от ревьюера ⚠️</b>\n",
    "    \n",
    "1. Постарайся не писать весь код в одной ячейке. Лучше разделить ее на несколько логически связанных ячеек и добавить комментарии в ячейках Markdown.\n",
    "1. Все комментарии, которые относятся к логике проекта, а не работе кода, стоит писать в ячейках markdown\n",
    "1. В [стилевом гайде](https://peps.python.org/pep-0008/#maximum-line-length) рекомендуют писать не больше 80 символов в строку. Для динных строк можно использовать переносы\n",
    "</div>\n",
    "\n",
    "<div class=\"alert alert-info\">\n",
    "    \n",
    "прислушался\n",
    "</div>"
   ]
  },
  {
   "cell_type": "markdown",
   "metadata": {},
   "source": [
    "В столбце user_score обнаружено TBD - аббревиатура от английского To Be Determined (будет определено). Значение превращается в пропуск после приведения столбца к числовому виду. Кроме того, в этом столбце значения были умножены на 10 для удобства и сравнения с показателями стобца critic_score. Чтобы заполнить пропуски в указанных столбцах, можно воспользоваться категоризацией и медианными значениями, так как прослеживается высокий показатель коррелляции между столбцами (0,58).\n",
    "\n",
    "Был добавлен столбец total_sales с суммарными продажами для каждой игры.\n",
    "\n",
    "Пропуски в столбцы возрастного рейтинга заполним пометкой unknown. К тому же, так как К-А и Е - это одни и те же возрастные рейтинги, можно проставить вместо первого показателя Е.\n",
    "\n",
    "Причины, которые могли привести к пропускам в данных: технические ошибки, человеческий фактор, сложности в расчете. Например, не удалось получить точные данный по оценочному рейтингу игры, так как она очень старая или непопулярная. Возрастной рейтинг у разных игр на различных платформах в разных странах может отличаться по тем или иным причинам."
   ]
  },
  {
   "cell_type": "markdown",
   "metadata": {},
   "source": [
    "<div class=\"alert alert-success\">\n",
    "    \n",
    "<b> Комментарий от ревьюера ✔️</b>\n",
    "    \n",
    "Ты прав, в рамках проекта нет разницы между tbd и nan\n",
    "\n",
    "</div>"
   ]
  },
  {
   "cell_type": "markdown",
   "metadata": {},
   "source": [
    "<div class=\"alert alert-danger\">\n",
    "    \n",
    "<b> Комментарий от ревьюера ❗</b>\n",
    "    \n",
    "> Пропуски в столбцы возрастного рейтинга заполнить не получится.\n",
    "    \n",
    "Давай подумаем, как можно заполнить пропуски в rating. Это нужно, чтобы игры без возрастного рейтинга отобразились в портретах пользователей.\n",
    "</div>\n"
   ]
  },
  {
   "cell_type": "markdown",
   "metadata": {},
   "source": [
    "<div class=\"alert alert-danger\">\n",
    "    \n",
    "<b> Комментарий от ревьюера ❗</b>\n",
    "    \n",
    "Не нужно заполнять пропуски в critic_score и user_score. Это очень субъективные признаки, и заполнение пропусков приведет к искажению данных\n",
    "</div>\n",
    "\n",
    "<div class=\"alert alert-info\">\n",
    "    \n",
    "оба замечания исправлены, заполнил пропуски в rating на unknown\n",
    "</div>\n",
    "\n",
    "___"
   ]
  },
  {
   "cell_type": "markdown",
   "metadata": {},
   "source": [
    "<div class=\"alert alert-success\">\n",
    "    \n",
    "<b> Комментарий от ревьюера 2 ✔️</b>\n",
    "\n",
    "Замечательно!\n",
    "\n",
    "</div>"
   ]
  },
  {
   "cell_type": "markdown",
   "metadata": {},
   "source": [
    "# Исследовательский анализ"
   ]
  },
  {
   "cell_type": "code",
   "execution_count": 5,
   "metadata": {},
   "outputs": [],
   "source": [
    "#обзор количества игр в разные года\n",
    "df_games=df.pivot_table(index='year_of_release', values='name',aggfunc=['count'])\n",
    "df_games.columns = ['quantity']\n",
    "df_games.sort_values(by='quantity',ascending=False)\n",
    "df=df.query('year_of_release>=1994')\n"
   ]
  },
  {
   "cell_type": "markdown",
   "metadata": {},
   "source": [
    "Данные до 1994 года не особо важны, так как игровая индустрия была развита крайне слабо в то время."
   ]
  },
  {
   "cell_type": "markdown",
   "metadata": {},
   "source": [
    "<div class=\"alert alert-danger\">\n",
    "    \n",
    "<b> Комментарий от ревьюера ❗</b>\n",
    "    \n",
    "> Данные до 1994 года не особо важны, так как игровая индустрия была развита крайне слабо в то время.\n",
    "    \n",
    "Подскажи, как мы это поняли?\n",
    "</div>\n",
    "\n",
    "<div class=\"alert alert-info\">\n",
    "    \n",
    "До 1994 года крайне малое количество игр в целом было выпущено, индустрия только набирала обороты. Для целей нашего проекта старые данные вообще не пригодятся.\n",
    "</div>"
   ]
  },
  {
   "cell_type": "markdown",
   "metadata": {},
   "source": [
    "<div class=\"alert alert-success\">\n",
    "    \n",
    "<b> Комментарий от ревьюера 2 ✔️</b>\n",
    "    \n",
    "Ты прав, но было бы неплохо вывести на экран таблицу df_games (может быть в виде графика), чтобы у коллег не возникло вопросов в этом месте.\n",
    "</div>"
   ]
  },
  {
   "cell_type": "code",
   "execution_count": 6,
   "metadata": {},
   "outputs": [
    {
     "data": {
      "text/plain": [
       "<AxesSubplot:title={'center':'Рейтинг продаж топ-10 платформ'}, xlabel='year_of_release'>"
      ]
     },
     "execution_count": 6,
     "metadata": {},
     "output_type": "execute_result"
    },
    {
     "data": {
      "image/png": "[encoded data removed]",
      "text/plain": [
       "<Figure size 576x360 with 1 Axes>"
      ]
     },
     "metadata": {
      "needs_background": "light"
     },
     "output_type": "display_data"
    }
   ],
   "source": [
    "#обзор продаж по платформам\n",
    "#df_plats=df.pivot_table(index='platform', columns='year_of_release',values='total_sales',aggfunc=['sum'])\n",
    "\n",
    "\n",
    "df_plats=df.pivot_table(index='platform', values='total_sales',aggfunc=['sum']) \n",
    "df_plats.columns=['sales']\n",
    "top_plats=df_plats.sort_values(by='sales',ascending=False).head(10)\n",
    "top_list=list(top_plats.index[:10])\n",
    "top_data=df.loc[df['platform'].isin(top_list)]\n",
    "df_stats=top_data.pivot_table(index='platform', columns='year_of_release',values='total_sales',aggfunc=['sum'])\n",
    "df_stats_t = df_stats.T #упорядочивание столбцов\n",
    "df_stats_t.plot(xlabel='year_of_release',grid=True,figsize=(8, 5),title='Рейтинг продаж топ-10 платформ') #распределение по годам\n",
    "\n"
   ]
  },
  {
   "cell_type": "markdown",
   "metadata": {},
   "source": [
    "В среднем можно наблюдать, что новые платформы появляются каждые 2 года и каждые 6 лет, если речь идет об одной компании, а старые платформы исчезают за 9-10 лет.\n",
    "\n",
    "Актуальный период исследования сводится к периоду 2013-2016, так как именно с 2013 года на рынке сформировалась жесткая конкуренция при одновременном уходе старых платформ."
   ]
  },
  {
   "cell_type": "markdown",
   "metadata": {},
   "source": [
    "<div class=\"alert alert-success\">\n",
    "    \n",
    "<b> Комментарий от ревьюера ✔️</b>\n",
    "    \n",
    "С определением продолжительности жизни платформ все замечательно!\n",
    "\n",
    "</div>"
   ]
  },
  {
   "cell_type": "markdown",
   "metadata": {},
   "source": [
    "<div class=\"alert alert-danger\">\n",
    "    \n",
    "<b> Комментарий от ревьюера ❗</b>\n",
    "    \n",
    "Нужно уменьшить актуальный период.\n",
    "\n",
    "Если мы будем рассматривать данные с 2008 по 2016 гг, то захватим период смены тренда на рынке видеоигр, плюс мы видим по графику выше, что многие платформы за это время успели потерять свою популярность.\n",
    "\n",
    "Еще подумай, пожалуйста, о жизненном цикле продукта (через сколько лет после релиза у платформ наступает пик продаж) и годе выхода последнего поколения платформ. Будет здорово, если в актуальный период не попадут старые тренды, которые могут негативно повлиять на наши рекомендации.\n",
    "</div>\n",
    "\n",
    "<div class=\"alert alert-info\">\n",
    "    \n",
    "Пик продаж происходит в среднем через 4 года после выхода новой платформы. Если посмотреть на успешную PS, то можно заметить, что каждые 6 лет выходит следующее поколение платформы. PS4 в нашем проекте самая свежая, вышла в 2013 году.\n",
    "    \n",
    "    Актуальный период сократим до 2013-2016.\n",
    "</div>"
   ]
  },
  {
   "cell_type": "markdown",
   "metadata": {},
   "source": [
    "<div class=\"alert alert-success\">\n",
    "    \n",
    "<b> Комментарий от ревьюера 2 ✔️</b>\n",
    "\n",
    "Действительно, данных с 2013 года будет достаточно для прогноза на 2017\n",
    "\n",
    "</div>"
   ]
  },
  {
   "cell_type": "code",
   "execution_count": 7,
   "metadata": {},
   "outputs": [
    {
     "data": {
      "text/html": [
       "<div>\n",
       "<style scoped>\n",
       "    .dataframe tbody tr th:only-of-type {\n",
       "        vertical-align: middle;\n",
       "    }\n",
       "\n",
       "    .dataframe tbody tr th {\n",
       "        vertical-align: top;\n",
       "    }\n",
       "\n",
       "    .dataframe thead th {\n",
       "        text-align: right;\n",
       "    }\n",
       "</style>\n",
       "<table border=\"1\" class=\"dataframe\">\n",
       "  <thead>\n",
       "    <tr style=\"text-align: right;\">\n",
       "      <th></th>\n",
       "      <th>platform</th>\n",
       "      <th>3DS</th>\n",
       "      <th>DS</th>\n",
       "      <th>GBA</th>\n",
       "      <th>PS</th>\n",
       "      <th>PS2</th>\n",
       "      <th>PS3</th>\n",
       "      <th>PS4</th>\n",
       "      <th>PSP</th>\n",
       "      <th>Wii</th>\n",
       "      <th>X360</th>\n",
       "    </tr>\n",
       "    <tr>\n",
       "      <th></th>\n",
       "      <th>year_of_release</th>\n",
       "      <th></th>\n",
       "      <th></th>\n",
       "      <th></th>\n",
       "      <th></th>\n",
       "      <th></th>\n",
       "      <th></th>\n",
       "      <th></th>\n",
       "      <th></th>\n",
       "      <th></th>\n",
       "      <th></th>\n",
       "    </tr>\n",
       "  </thead>\n",
       "  <tbody>\n",
       "    <tr>\n",
       "      <th rowspan=\"4\" valign=\"top\">sum</th>\n",
       "      <th>2013</th>\n",
       "      <td>56.57</td>\n",
       "      <td>1.54</td>\n",
       "      <td>NaN</td>\n",
       "      <td>NaN</td>\n",
       "      <td>NaN</td>\n",
       "      <td>113.25</td>\n",
       "      <td>25.99</td>\n",
       "      <td>3.14</td>\n",
       "      <td>8.59</td>\n",
       "      <td>88.58</td>\n",
       "    </tr>\n",
       "    <tr>\n",
       "      <th>2014</th>\n",
       "      <td>43.76</td>\n",
       "      <td>NaN</td>\n",
       "      <td>NaN</td>\n",
       "      <td>NaN</td>\n",
       "      <td>NaN</td>\n",
       "      <td>47.76</td>\n",
       "      <td>100.00</td>\n",
       "      <td>0.24</td>\n",
       "      <td>3.75</td>\n",
       "      <td>34.74</td>\n",
       "    </tr>\n",
       "    <tr>\n",
       "      <th>2015</th>\n",
       "      <td>27.78</td>\n",
       "      <td>NaN</td>\n",
       "      <td>NaN</td>\n",
       "      <td>NaN</td>\n",
       "      <td>NaN</td>\n",
       "      <td>16.82</td>\n",
       "      <td>118.90</td>\n",
       "      <td>0.12</td>\n",
       "      <td>1.14</td>\n",
       "      <td>11.96</td>\n",
       "    </tr>\n",
       "    <tr>\n",
       "      <th>2016</th>\n",
       "      <td>15.14</td>\n",
       "      <td>NaN</td>\n",
       "      <td>NaN</td>\n",
       "      <td>NaN</td>\n",
       "      <td>NaN</td>\n",
       "      <td>3.60</td>\n",
       "      <td>69.25</td>\n",
       "      <td>NaN</td>\n",
       "      <td>0.18</td>\n",
       "      <td>1.52</td>\n",
       "    </tr>\n",
       "  </tbody>\n",
       "</table>\n",
       "</div>"
      ],
      "text/plain": [
       "platform               3DS    DS  GBA  PS  PS2     PS3     PS4   PSP   Wii  \\\n",
       "    year_of_release                                                          \n",
       "sum 2013             56.57  1.54  NaN NaN  NaN  113.25   25.99  3.14  8.59   \n",
       "    2014             43.76   NaN  NaN NaN  NaN   47.76  100.00  0.24  3.75   \n",
       "    2015             27.78   NaN  NaN NaN  NaN   16.82  118.90  0.12  1.14   \n",
       "    2016             15.14   NaN  NaN NaN  NaN    3.60   69.25   NaN  0.18   \n",
       "\n",
       "platform              X360  \n",
       "    year_of_release         \n",
       "sum 2013             88.58  \n",
       "    2014             34.74  \n",
       "    2015             11.96  \n",
       "    2016              1.52  "
      ]
     },
     "execution_count": 7,
     "metadata": {},
     "output_type": "execute_result"
    },
    {
     "data": {
      "image/png": "[encoded data removed]",
      "text/plain": [
       "<Figure size 720x576 with 1 Axes>"
      ]
     },
     "metadata": {
      "needs_background": "light"
     },
     "output_type": "display_data"
    }
   ],
   "source": [
    "df_stats_t=df_stats_t.query('year_of_release>=2013') #актуальизируем данные\n",
    "df_stats_t.plot(xlabel='year_of_release',grid=True,fontsize=10,figsize=(10, 8),title='Рейтинг продаж лучших платформ c 2013 года') #отслеживание динамики продаж\n",
    "df_stats_t\n"
   ]
  },
  {
   "cell_type": "code",
   "execution_count": 8,
   "metadata": {},
   "outputs": [
    {
     "data": {
      "text/plain": [
       "<AxesSubplot:title={'center':'Продажи платформ 2013-2016'}, xlabel='year_of_release'>"
      ]
     },
     "execution_count": 8,
     "metadata": {},
     "output_type": "execute_result"
    },
    {
     "data": {
      "image/png": "[encoded data removed]",
      "text/plain": [
       "<Figure size 576x360 with 1 Axes>"
      ]
     },
     "metadata": {
      "needs_background": "light"
     },
     "output_type": "display_data"
    }
   ],
   "source": [
    "df13=df.query('year_of_release>=2013')\n",
    "df_actual=df13.pivot_table(index='platform', columns='year_of_release',values='total_sales',aggfunc=['sum'])\n",
    "df_actual = df_actual.T #упорядочивание столбцов\n",
    "df_actual.plot(xlabel='year_of_release',grid=True,figsize=(8, 5),title='Продажи платформ 2013-2016') \n",
    "#df_actual"
   ]
  },
  {
   "cell_type": "markdown",
   "metadata": {},
   "source": [
    "Лидерами суммарных продаж в актуальном периоде являются PS3, 3DS, PS4, XOne. Потенциал долгосрочного роста сохранила лишь платформа PS4, так как среди указанных она является наиболее свежей и в 2015 году уже показала пик продаж, относительно данной выборки - 118.9. Топ-3 потенциально прибыльных платформ в 2017 году включает PS3, 3DS и PS4.\n",
    "\n",
    "В основной массе платформ заметна тенденция к снижению продаж. Игры на X360 очень слабо продаются в периоде 2014-2016 и ежегодно уступают по продажам платформе PS3. По 3DS заметно планомерное, не такое резкое снижение продаж и устаревание устройства, но в 2016 году только игры на передовую PS4 обошли показатели японской платформы.\n",
    "\n",
    "Продажи игр на PSP с 2013 года резко падают, аналогичную картину можно наблюдать у Wii, продажи игр на которую в 2016 году почти равны продажам игр на PSP в 2015. Потенциал роста продаж в 2017 году у данных платформ отсутствует. \n",
    "\n",
    "WiiU показывает в разы лучше результаты, чем предыдущая модель в актуальном периоде, однако потенциал платформы на 2017 год такой же низкий, как у PC, PSV и X360. XOne является серьезным претендентом на топ-3, однако важно учитывать фактор диверсификации продукции магазина, ведь концентрация исключительно на консолях не является правильным путем развития, учитывая скачкообразное поведение продаж игр на консоли, в отличие от 3DS. Интересно, что график PC практически совпадает с графиком PSV, хотя платформы сильно отличаются."
   ]
  },
  {
   "cell_type": "markdown",
   "metadata": {},
   "source": [
    "<div class=\"alert alert-danger\">\n",
    "    \n",
    "<b> Комментарий от ревьюера ❗</b>\n",
    "    \n",
    "> Лидерами продаж в актуальном периоде являются PS3, 3DS, PS4, X360,\n",
    "  \n",
    "Нужно дополнить комментарий.\n",
    "    \n",
    "По графику видно, что продажи PS3 в 2015-2016 гг почти равны нули. Разве мы можем назвать ее потенциально прибыльной в 2017? И рассмотри, пожалуйста, все платформы, у которых были продажи за актуальный период.\n",
    "</div>\n",
    "\n",
    "<div class=\"alert alert-info\">\n",
    "    \n",
    "Переделал, собрал новый топ-3 потенциально прибыльных платформ. Дописал промежуточный вывод\n",
    "</div>"
   ]
  },
  {
   "cell_type": "markdown",
   "metadata": {},
   "source": [
    "<div class=\"alert alert-danger\">\n",
    "    \n",
    "<b> Комментарий от ревьюера 2 ❗</b>\n",
    "    \n",
    "Отлично! Только рассмотри, пожалуйста, все платформы, у которых были продажи за актуальный период. Например, на этот график не попал XOne.\n",
    "</div>\n",
    "\n",
    "<div class=\"alert alert-info\">\n",
    "    Добавил ячейку кода и график для продаж в актуальном приоде для всех платформ, дополнил промежуточный вывод\n",
    "\n",
    "</div>"
   ]
  },
  {
   "cell_type": "markdown",
   "metadata": {},
   "source": [
    "<div class=\"alert alert-success\">\n",
    "    \n",
    "<b> Комментарий от ревьюера 3 ✔️</b>\n",
    "\n",
    "Здорово, что дополнил исследование!\n",
    "\n",
    "</div>"
   ]
  },
  {
   "cell_type": "code",
   "execution_count": 9,
   "metadata": {},
   "outputs": [
    {
     "data": {
      "text/plain": [
       "<AxesSubplot:xlabel='platform'>"
      ]
     },
     "execution_count": 9,
     "metadata": {},
     "output_type": "execute_result"
    },
    {
     "data": {
      "image/png": "[encoded data removed]",
      "text/plain": [
       "<Figure size 432x288 with 1 Axes>"
      ]
     },
     "metadata": {
      "needs_background": "light"
     },
     "output_type": "display_data"
    }
   ],
   "source": [
    "df_stats_t3=df_stats_t.query('year_of_release>=2013') #отдельная переменная для будущего топ-3\n",
    "col=['X360', 'DS', 'PS2', 'PSP', 'Wii','PS','GBA'] # сохраним лишь потенциально прибыльные платформы \n",
    "for i in col:\n",
    "    df_stats_t3.pop(i)\n",
    "sns.boxplot(data=df_stats_t3) #ящик с усами\n"
   ]
  },
  {
   "cell_type": "markdown",
   "metadata": {},
   "source": [
    "Диаграмма показывает, что уровень продаж PS3 имеет наибольший размах, а 3DS в связи со своей портативностью и региональной зависимостью наименьший. Наибольшие продажи игр приходятся на платформу PS4, судя по медианному значению в районе 90. PS3 уступает 3DS по медианному показателю продаж в связи с провальными результатами в 2015-2016 гг."
   ]
  },
  {
   "cell_type": "markdown",
   "metadata": {},
   "source": [
    "<div class=\"alert alert-warning\">\n",
    "    \n",
    "<b> Комментарий от ревьюера ⚠️</b>\n",
    "    \n",
    "Давай рассмотрим все платформы за актуальный период, чтобы видеть картину рынка целиком.\n",
    "    \n",
    "Думаю, мы можем взять данные из таблицы df за актуальный период и построить боксплоты в разрезе платформ (используй параметр by метода boxplot) по признаку total_sales. Это позволит рассмотреть распределение продаж для разных платформ и определить лидеров. На графике будет много выбросов (можно сказать о них пару слов в выводе), поэтому стоит добавить второй такой же график с plt.ylim(...), чтобы ограничить значения по оси Y и рассмотреть квартили и усы распределений. \n",
    "</div>\n"
   ]
  },
  {
   "cell_type": "code",
   "execution_count": 10,
   "metadata": {},
   "outputs": [
    {
     "name": "stdout",
     "output_type": "stream",
     "text": [
      "Корреляция продаж и отзывов критиков у PS3: 0.3342853393371919\n",
      "Корреляция продаж и отзывов пользователей у PS3: 0.0023944027357567176\n"
     ]
    },
    {
     "data": {
      "image/png": "[encoded data removed]",
      "text/plain": [
       "<Figure size 432x288 with 1 Axes>"
      ]
     },
     "metadata": {
      "needs_background": "light"
     },
     "output_type": "display_data"
    },
    {
     "data": {
      "image/png": "[encoded data removed]",
      "text/plain": [
       "<Figure size 432x288 with 1 Axes>"
      ]
     },
     "metadata": {
      "needs_background": "light"
     },
     "output_type": "display_data"
    }
   ],
   "source": [
    "\n",
    "#df_stats_ps3=df_stats_t3.query('year_of_release>=2013') #отдельная переменная для будущего топ-3\n",
    "#col2=['PS4','X360'] # сохраним лишь прибыльные платформы \n",
    "#for g in col2:\n",
    " #   df_stats_ps3.pop(g)\n",
    "\n",
    "#df_scores=df.pivot_table(index='platform', values=['user_score','critic_score'])\n",
    "#df_scores\n",
    "#df_stats_ps3.join\n",
    "\n",
    "df_stats_ps3=df.query('platform==\"PS3\" and year_of_release>=2013')\n",
    "df_stats_ps3\n",
    "\n",
    "df_stats_ps3.plot(y='critic_score',x='total_sales', grid=True,kind='scatter',alpha=0.3)\n",
    "df_stats_ps3.plot(y='user_score',x='total_sales', grid=True,kind='scatter',alpha=0.3)\n",
    "print('Корреляция продаж и отзывов критиков у PS3:', df_stats_ps3['critic_score'].corr(df_stats_ps3['total_sales']))\n",
    "print('Корреляция продаж и отзывов пользователей у PS3:', df_stats_ps3['user_score'].corr(df_stats_ps3['total_sales']))"
   ]
  },
  {
   "cell_type": "markdown",
   "metadata": {},
   "source": [
    "По платформе PS3 можно сказать, что корреляция продаж и отзывов пользователей крайне низкая, однако с отзывами критиков ситуация намного лучше, что говорит о прямой зависимости данных показателей. Игры с рейтингом критиков выше 80 имеют наибольшие продажи и в целом график показывает, что чем ниже рейтинг, тем ниже продажи у игр на PS3. Также стоит отметить, что критики высоко оценивают игры на данной платформе, что заметно по значительной скученности точек выше оценки 60."
   ]
  },
  {
   "cell_type": "markdown",
   "metadata": {},
   "source": [
    "<div class=\"alert alert-success\">\n",
    "    \n",
    "<b> Комментарий от ревьюера ✔️</b>\n",
    "    \n",
    "Ты правильно определил зависимость продаж от оценок критиков и пользователей. Только обрати внимание, что при коэффициенте корреляции от -0.25 до 0.25 говорят, что линейной связи признаков нет.\n",
    "\n",
    "</div>\n"
   ]
  },
  {
   "cell_type": "code",
   "execution_count": 11,
   "metadata": {
    "scrolled": false
   },
   "outputs": [
    {
     "name": "stdout",
     "output_type": "stream",
     "text": [
      "Корреляция продаж и отзывов критиков у PS4: 0.40656790206178095\n",
      "Корреляция продаж и отзывов пользователей у PS4: -0.03195711020455641\n",
      "Корреляция продаж и отзывов критиков у 3DS: 0.3570566142288103\n",
      "Корреляция продаж и отзывов пользователей у 3DS: 0.24150411773563002\n"
     ]
    },
    {
     "data": {
      "image/png": "[encoded data removed]",
      "text/plain": [
       "<Figure size 432x288 with 1 Axes>"
      ]
     },
     "metadata": {
      "needs_background": "light"
     },
     "output_type": "display_data"
    },
    {
     "data": {
      "image/png": "[encoded data removed]",
      "text/plain": [
       "<Figure size 432x288 with 1 Axes>"
      ]
     },
     "metadata": {
      "needs_background": "light"
     },
     "output_type": "display_data"
    },
    {
     "data": {
      "image/png": "[encoded data removed]",
      "text/plain": [
       "<Figure size 432x288 with 1 Axes>"
      ]
     },
     "metadata": {
      "needs_background": "light"
     },
     "output_type": "display_data"
    },
    {
     "data": {
      "image/png": "[encoded data removed]",
      "text/plain": [
       "<Figure size 432x288 with 1 Axes>"
      ]
     },
     "metadata": {
      "needs_background": "light"
     },
     "output_type": "display_data"
    }
   ],
   "source": [
    "df_stats_ps4=df.query('platform==\"PS4\" and year_of_release>=2013')\n",
    "df_stats_ps4\n",
    "\n",
    "df_stats_ps4.plot(y='critic_score',x='total_sales', grid=True,kind='scatter',alpha=0.3)\n",
    "df_stats_ps4.plot(y='user_score',x='total_sales', grid=True,kind='scatter',alpha=0.3)\n",
    "print('Корреляция продаж и отзывов критиков у PS4:', df_stats_ps4['critic_score'].corr(df_stats_ps4['total_sales']))\n",
    "print('Корреляция продаж и отзывов пользователей у PS4:', df_stats_ps4['user_score'].corr(df_stats_ps4['total_sales']))\n",
    "\n",
    "df_stats_3DS=df.query('platform==\"3DS\" and year_of_release>=2013')\n",
    "df_stats_3DS\n",
    "\n",
    "df_stats_3DS.plot(y='critic_score',x='total_sales', grid=True,kind='scatter',alpha=0.3)\n",
    "df_stats_3DS.plot(y='user_score',x='total_sales', grid=True,kind='scatter',alpha=0.3)\n",
    "print('Корреляция продаж и отзывов критиков у 3DS:', df_stats_3DS['critic_score'].corr(df_stats_3DS['total_sales']))\n",
    "print('Корреляция продаж и отзывов пользователей у 3DS:', df_stats_3DS['user_score'].corr(df_stats_3DS['total_sales']))"
   ]
  },
  {
   "cell_type": "markdown",
   "metadata": {},
   "source": [
    "По платформе PS4 и 3DS можно также сказать, что корреляция продаж и отзывов пользователей весьма низкая, поэтому о линейной зависимости говорить не приходится. На графиках заметен существенный разброс показателей, что подчеркивает незначительное влияние отзывов пользователей на продажи. Наибольшая зависимость продаж и отзывов критиков у PS4, наименьшая у 3DS. По всем трем платформам зависимость данных показателей прямая. График по PS4 отличается тем, что именно на данной платформе многие игры оцениваются критиками крайне высоко. По 3DS похожая ситуация, но данных намного меньше. \n",
    "\n",
    "Таким образом, люди внимательнее относятся к отзывам критиков, нежели игроков, поэтому именно критики в значительной степени влияют на продажи."
   ]
  },
  {
   "cell_type": "markdown",
   "metadata": {},
   "source": [
    "<div class=\"alert alert-success\">\n",
    "    \n",
    "<b> Комментарий от ревьюера ✔️</b>\n",
    "    \n",
    "Все верно \n",
    "\n",
    "</div>\n"
   ]
  },
  {
   "cell_type": "code",
   "execution_count": 12,
   "metadata": {},
   "outputs": [
    {
     "name": "stdout",
     "output_type": "stream",
     "text": [
      "Медианные продажи игр по жанру Action : 84.62499999999994\n",
      "Медианные продажи игр по жанру Misc : 17.475\n",
      "Медианные продажи игр по жанру Role-Playing : 41.045\n",
      "Медианные продажи игр по жанру Shooter : 63.624999999999986\n",
      "Медианные продажи игр по жанру Sports : 41.00500000000001\n"
     ]
    },
    {
     "data": {
      "text/html": [
       "<div>\n",
       "<style scoped>\n",
       "    .dataframe tbody tr th:only-of-type {\n",
       "        vertical-align: middle;\n",
       "    }\n",
       "\n",
       "    .dataframe tbody tr th {\n",
       "        vertical-align: top;\n",
       "    }\n",
       "\n",
       "    .dataframe thead th {\n",
       "        text-align: right;\n",
       "    }\n",
       "</style>\n",
       "<table border=\"1\" class=\"dataframe\">\n",
       "  <thead>\n",
       "    <tr style=\"text-align: right;\">\n",
       "      <th></th>\n",
       "      <th>genre</th>\n",
       "      <th>Action</th>\n",
       "      <th>Misc</th>\n",
       "      <th>Role-Playing</th>\n",
       "      <th>Shooter</th>\n",
       "      <th>Sports</th>\n",
       "    </tr>\n",
       "    <tr>\n",
       "      <th></th>\n",
       "      <th>year_of_release</th>\n",
       "      <th></th>\n",
       "      <th></th>\n",
       "      <th></th>\n",
       "      <th></th>\n",
       "      <th></th>\n",
       "    </tr>\n",
       "  </thead>\n",
       "  <tbody>\n",
       "    <tr>\n",
       "      <th rowspan=\"4\" valign=\"top\">sum</th>\n",
       "      <th>2013</th>\n",
       "      <td>122.51</td>\n",
       "      <td>25.27</td>\n",
       "      <td>44.45</td>\n",
       "      <td>62.04</td>\n",
       "      <td>41.17</td>\n",
       "    </tr>\n",
       "    <tr>\n",
       "      <th>2014</th>\n",
       "      <td>97.23</td>\n",
       "      <td>23.38</td>\n",
       "      <td>45.62</td>\n",
       "      <td>65.21</td>\n",
       "      <td>45.15</td>\n",
       "    </tr>\n",
       "    <tr>\n",
       "      <th>2015</th>\n",
       "      <td>72.02</td>\n",
       "      <td>11.57</td>\n",
       "      <td>37.64</td>\n",
       "      <td>67.51</td>\n",
       "      <td>40.84</td>\n",
       "    </tr>\n",
       "    <tr>\n",
       "      <th>2016</th>\n",
       "      <td>30.11</td>\n",
       "      <td>2.60</td>\n",
       "      <td>18.18</td>\n",
       "      <td>38.22</td>\n",
       "      <td>23.49</td>\n",
       "    </tr>\n",
       "  </tbody>\n",
       "</table>\n",
       "</div>"
      ],
      "text/plain": [
       "genre                Action   Misc  Role-Playing  Shooter  Sports\n",
       "    year_of_release                                              \n",
       "sum 2013             122.51  25.27         44.45    62.04   41.17\n",
       "    2014              97.23  23.38         45.62    65.21   45.15\n",
       "    2015              72.02  11.57         37.64    67.51   40.84\n",
       "    2016              30.11   2.60         18.18    38.22   23.49"
      ]
     },
     "execution_count": 12,
     "metadata": {},
     "output_type": "execute_result"
    },
    {
     "data": {
      "image/png": "[encoded data removed]",
      "text/plain": [
       "<Figure size 720x648 with 1 Axes>"
      ]
     },
     "metadata": {
      "needs_background": "light"
     },
     "output_type": "display_data"
    },
    {
     "data": {
      "image/png": "[encoded data removed]",
      "text/plain": [
       "<Figure size 720x648 with 1 Axes>"
      ]
     },
     "metadata": {
      "needs_background": "light"
     },
     "output_type": "display_data"
    }
   ],
   "source": [
    "df_gen=df.pivot_table(index='genre', values='total_sales',aggfunc=['sum']) \n",
    "df_gen.columns=['sales']\n",
    "top_gen=df_gen.sort_values(by='sales',ascending=False).head(10)\n",
    "top_list2=list(top_gen.index[:5]) #выделяем топ-5 жанров\n",
    "top_data2=df.loc[df['genre'].isin(top_list2)]\n",
    "\n",
    "df_stats2=top_data2.pivot_table(index='genre', columns='year_of_release',values='total_sales',aggfunc=['sum'])\n",
    "df_stats_t2 = df_stats2.T #упорядочивание столбцов\n",
    "df_stats_t2=df_stats_t2.query('year_of_release>=2013') #актуальизируем данные\n",
    "df_stats_t2.plot(xlabel='year_of_release',fontsize=9,grid=True,figsize=(10, 9),title='Рейтинг продаж топ-5 жанров') \n",
    "\n",
    "df_statsQ=top_data2.pivot_table(index='genre', columns='year_of_release',values='name',aggfunc=['count']) \n",
    "df_stats_t3 = df_statsQ.T #упорядочивание столбцов\n",
    "df_stats_t3=df_stats_t3.query('year_of_release>=2013') #актуальизируем данные\n",
    "df_stats_t3.plot(xlabel='year_of_release',fontsize=9,grid=True,figsize=(10, 9),title='Рейтинг количества игр в топ-5 жанров')\n",
    "\n",
    "gen = ['Action','Misc','Role-Playing','Shooter','Sports']\n",
    "for j in gen:\n",
    "    print('Медианные продажи игр по жанру', j, ':', df_stats_t2[j].median())\n",
    "df_stats_t2"
   ]
  },
  {
   "cell_type": "markdown",
   "metadata": {},
   "source": [
    "Среди 5 наиболее прибыльных жанров выделяются action и shooter, демонстрируя высокие показатели на протяжении всего периода. Как бы то ни было, отметим нисходящий тренд в продажах игр, особенно жанра misc (худший показатель) и role-playing. По спортиным играм был пик продаж в 2009 году, однако после резкого падения продаж, только в 2012 году удалось изменить тренд, но лишь на 2 года и сейчас график практически повторяет движение игр жанра role-playing. До середины 2015 года игры жанра action обладали наибольшими продажами, но к 2016 году шутеры все-таки отвоевали лидерство.\n",
    "\n",
    "Интересная ситуация складывается вокруг количества игр у топовых жанров. Безоговорочное лидерство имеют игры жанра Action, их в разы больше преследователей и, возможно, за счет объемов удается добиться высоких продаж по этому жанру. В 2015 году был пик по выпуску экшн игр - более 250. Однако говорить о прямой зависимости количества игр в каждом жанре и продаж в целом не приходится, так как шутеров в актуальной выборке представлено совсем немного, но по продажам данный жанр наиболее перспективен. Стоит отметить большое количество игр жанра Role-playing, однако суммарные продажи в актуальном периоде находятся примерно на уровне спортивных игр. Жанр Misc является аутсайдером в обоих статистических сводках.\n",
    "\n",
    "Медианные продажи игр по жанрам показывают, что экшн игры имеют лучшие продажи, отрываясь от шутеров, в то время как по Role-Playing и Sports показатели крайне близки. Низкие продажи у игр жанра Misc."
   ]
  },
  {
   "cell_type": "markdown",
   "metadata": {},
   "source": [
    "<div class=\"alert alert-success\">\n",
    "    \n",
    "<b> Комментарий от ревьюера ✔️</b>\n",
    "    \n",
    "Обрати внимание, ты сам пишешь о том, что тренды меняются, а нам в рамках исследования нужно не просто изучить рынок, а спланировать рекламную кампанию на следующий год, поэтому стоит взять меньший промежуток времени для анализа.\n",
    "\n",
    "</div>"
   ]
  },
  {
   "cell_type": "markdown",
   "metadata": {},
   "source": [
    "<div class=\"alert alert-danger\">\n",
    "    \n",
    "<b> Комментарий от ревьюера ❗</b>\n",
    "    \n",
    "Молодец, что рассмотрел суммарные продажи игр по жанрам. Давай еще посмотрим на количество игр в каждом жанре. Если количество игр будет сильно различаться, предлагаю посчитать медианные продажи игр по жанрам, чтобы понять, какой жанр обычно продается лучше.\n",
    "</div>\n",
    "\n",
    "<div class=\"alert alert-info\">\n",
    "    \n",
    "Дополнил вывод и сделал диаграмму с количеством игр по жанрам.\n",
    "</div>"
   ]
  },
  {
   "cell_type": "markdown",
   "metadata": {},
   "source": [
    "<div class=\"alert alert-danger\">\n",
    "    \n",
    "<b> Комментарий от ревьюера 2 ❗</b>\n",
    "    \n",
    "Мы видим, что количество игр для жанров сильно различается. Давай посчитаем медианные продажи игр по жанрам, чтобы определить жанры с высокими и низкими продажами\n",
    "</div>\n",
    "\n",
    "<div class=\"alert alert-info\">\n",
    "    \n",
    "Дополнил вывод и сделал медианы\n",
    "</div>"
   ]
  },
  {
   "cell_type": "markdown",
   "metadata": {},
   "source": [
    "<div class=\"alert alert-warning\">\n",
    "    \n",
    "<b> Комментарий от ревьюера 3 ⚠️</b>\n",
    "\n",
    "Медианные продажи игр в определенном жанре стоит считать по таблице df, а не по агрегированным данным. Подойдет такой код   \n",
    "\n",
    "    (\n",
    "        df\n",
    "        .query('year_of_release>=2013')\n",
    "        .groupby('genre')\n",
    "        .total_sales.agg(['sum','count','median'])\n",
    "        .sort_values('median', ascending=False)\n",
    "    )   \n",
    "\n",
    "Так мы сразу увидим, что в жанре action игры обычно продаются не очень большим тиражом, а лидирует shooter\n",
    "    \n",
    "</div>"
   ]
  },
  {
   "cell_type": "code",
   "execution_count": 13,
   "metadata": {},
   "outputs": [
    {
     "name": "stdout",
     "output_type": "stream",
     "text": [
      "Регион NA: топ-5 платформ platform\n",
      "PS4     108.74\n",
      "XOne     93.12\n",
      "X360     81.66\n",
      "PS3      63.50\n",
      "3DS      38.20\n",
      "Name: na_sales, dtype: float64 \n",
      "\n",
      "Регион EU: топ-5 платформ platform\n",
      "PS4     141.09\n",
      "PS3      67.81\n",
      "XOne     51.59\n",
      "X360     42.52\n",
      "3DS      30.96\n",
      "Name: eu_sales, dtype: float64 \n",
      "\n",
      "Регион JP: топ-5 платформ platform\n",
      "3DS     67.81\n",
      "PS3     23.35\n",
      "PSV     18.59\n",
      "PS4     15.96\n",
      "WiiU    10.88\n",
      "Name: jp_sales, dtype: float64 \n",
      "\n",
      "Регион NA: доля продаж топ-5 платформ platform\n",
      "PS4     24.842933\n",
      "XOne    21.274360\n",
      "X360    18.656188\n",
      "PS3     14.507322\n",
      "3DS      8.727239\n",
      "Name: na_sales, dtype: float64 \n",
      "\n",
      "Регион EU: доля продаж топ-5 платформ platform\n",
      "PS4     35.971241\n",
      "PS3     17.288326\n",
      "XOne    13.152997\n",
      "X360    10.840578\n",
      "3DS      7.893328\n",
      "Name: eu_sales, dtype: float64 \n",
      "\n",
      "Регион JP: доля продаж топ-5 платформ platform\n",
      "3DS     48.167353\n",
      "PS3     16.586163\n",
      "PSV     13.205001\n",
      "PS4     11.336838\n",
      "WiiU     7.728371\n",
      "Name: jp_sales, dtype: float64 \n",
      "\n",
      "Регион NA: топ-5 жанров genre\n",
      "Action          126.05\n",
      "Shooter         109.74\n",
      "Sports           65.27\n",
      "Role-Playing     46.40\n",
      "Misc             27.49\n",
      "Name: na_sales, dtype: float64 \n",
      "\n",
      "Регион EU: топ-5 жанров genre\n",
      "Action          118.13\n",
      "Shooter          87.86\n",
      "Sports           60.52\n",
      "Role-Playing     36.97\n",
      "Racing           20.19\n",
      "Name: eu_sales, dtype: float64 \n",
      "\n",
      "Регион JP: топ-5 жанров genre\n",
      "Role-Playing    51.04\n",
      "Action          40.49\n",
      "Misc             9.20\n",
      "Fighting         7.65\n",
      "Shooter          6.61\n",
      "Name: jp_sales, dtype: float64 \n",
      "\n",
      "Регион NA: топ-5 ESRB rating\n",
      "M          165.21\n",
      "unknown     89.42\n",
      "E           79.05\n",
      "E10+        54.24\n",
      "T           49.79\n",
      "Name: na_sales, dtype: float64 \n",
      "\n",
      "Регион EU: топ-5 ESRB rating\n",
      "M          145.32\n",
      "E           83.36\n",
      "unknown     78.91\n",
      "E10+        42.69\n",
      "T           41.95\n",
      "Name: eu_sales, dtype: float64 \n",
      "\n",
      "Регион JP: топ-5 ESRB rating\n",
      "unknown    85.05\n",
      "T          20.59\n",
      "E          15.14\n",
      "M          14.11\n",
      "E10+        5.89\n",
      "Name: jp_sales, dtype: float64 \n",
      "\n"
     ]
    }
   ],
   "source": [
    "#портрет пользователя каждого региона\n",
    "df2013=df.query('year_of_release>=2013')\n",
    "\n",
    "na_plats = df2013.groupby('platform')['na_sales'].sum().sort_values(ascending=False).head()\n",
    "na_total=df2013['na_sales'].sum()\n",
    "na_plats2=na_plats/na_total*100\n",
    "na_gen = df2013.groupby('genre')['na_sales'].sum().sort_values(ascending=False).head()\n",
    "na_r = df2013.groupby('rating')['na_sales'].sum().sort_values(ascending=False).head()\n",
    "\n",
    "\n",
    "eu_plats = df2013.groupby('platform')['eu_sales'].sum().sort_values(ascending=False).head()\n",
    "eu_total=df2013['eu_sales'].sum()\n",
    "eu_plats2=eu_plats/eu_total*100\n",
    "eu_gen = df2013.groupby('genre')['eu_sales'].sum().sort_values(ascending=False).head()\n",
    "eu_r = df2013.groupby('rating')['eu_sales'].sum().sort_values(ascending=False).head()\n",
    "\n",
    "jp_plats = df2013.groupby('platform')['jp_sales'].sum().sort_values(ascending=False).head()\n",
    "jp_total=df2013['jp_sales'].sum()\n",
    "jp_plats2=jp_plats/jp_total*100\n",
    "jp_gen = df2013.groupby('genre')['jp_sales'].sum().sort_values(ascending=False).head()\n",
    "jp_r = df2013.groupby('rating')['jp_sales'].sum().sort_values(ascending=False).head()\n",
    "\n",
    "print('Регион NA: топ-5 платформ', na_plats, \"\\n\")\n",
    "print('Регион EU: топ-5 платформ', eu_plats, \"\\n\")\n",
    "print('Регион JP: топ-5 платформ', jp_plats, \"\\n\")\n",
    "print('Регион NA: доля продаж топ-5 платформ', na_plats2, \"\\n\")\n",
    "print('Регион EU: доля продаж топ-5 платформ', eu_plats2, \"\\n\")\n",
    "print('Регион JP: доля продаж топ-5 платформ', jp_plats2, \"\\n\")\n",
    "print('Регион NA: топ-5 жанров', na_gen, \"\\n\")\n",
    "print('Регион EU: топ-5 жанров', eu_gen, \"\\n\")\n",
    "print('Регион JP: топ-5 жанров', jp_gen, \"\\n\")\n",
    "print('Регион NA: топ-5 ESRB', na_r, \"\\n\")\n",
    "print('Регион EU: топ-5 ESRB', eu_r, \"\\n\")\n",
    "print('Регион JP: топ-5 ESRB', jp_r, \"\\n\")\n",
    "\n",
    "#графики\n",
    "#print(na_plats.plot(y='platform',grid=True,title='Регион NA: топ-5 платформ'))\n",
    "#print(eu_plats.plot(y='platform',grid=True,title='Регион EU: топ-5 платформ'))\n",
    "#print(jp_plats.plot(y='platform',grid=True,title='Регион JP: топ-5 платформ'))"
   ]
  },
  {
   "cell_type": "markdown",
   "metadata": {},
   "source": [
    "<div class=\"alert alert-warning\">\n",
    "    \n",
    "<b> Комментарий от ревьюера ⚠️</b>\n",
    "    \n",
    "Повторяющийся код лучше оформлять в виде функций или циклов.\n",
    "</div>"
   ]
  },
  {
   "cell_type": "markdown",
   "metadata": {},
   "source": [
    "<div class=\"alert alert-danger\">\n",
    "    \n",
    "<b> Комментарий от ревьюера ❗</b>\n",
    "    \n",
    "Посчитай, пожалуйста, долю продаж топовых платформ внутри региона.\n",
    "    \n",
    "И попробуй поправить вывод данных на экран, чтобы таблицы не сливались в одну простыню. Можно добавить пустые строки или использовать графики.\n",
    "</div>\n",
    "\n",
    "<div class=\"alert alert-info\">\n",
    "    \n",
    "Добавил пустые строки (отступы) и расчет долей\n",
    "</div>"
   ]
  },
  {
   "cell_type": "markdown",
   "metadata": {},
   "source": [
    "<div class=\"alert alert-success\">\n",
    "    \n",
    "<b> Комментарий от ревьюера 2 ✔️</b>\n",
    "    \n",
    "👍\n",
    "</div>"
   ]
  },
  {
   "cell_type": "markdown",
   "metadata": {},
   "source": [
    "**Топ-5 платформ в 3 регионах сильно разнится по популярности.**\n",
    "\n",
    "В американском регионе в целом наибольшие продажи и PS4 занимает первое место в топе так же, как и в европейском регионе, хотя и отрыв от XOne не такой большой в отличие от PS3 в Европе. 3DS является аутсайдером в данных регионах, однако в Японии отечественная платформа лидирует по продажам игр. PS3, PSV и PS4 имеют схожие показатели, а Wii замыкает топ, не появляясь в рейтингах других регионов. Отмечаем популярность портативных платформ в Японии. Игры на PS3 в Северной Америке и Европе продаются примерно на равных, что не сказать про X360 - европейский регион уступает в 2 раза.\n"
   ]
  },
  {
   "cell_type": "markdown",
   "metadata": {},
   "source": [
    "**Жанровые предпочтения.**\n",
    "\n",
    "Сразу заметны высокие продажи экшн игр во всех регионах, однако японцы все же в разы больше покупают Role-Playing в связи с культурными особенностями, причем показатель здесь опережает европейские гонки и американские Misc игры. Американские и европейские топ-4 симметричны: спортивные игры немного уступают шутерам, которые дышат в спину экшн играм. В Японии аутсайдером топа являются игры жанра Fighting, не представленного в топе других регионов. Неожиданным является то, что шутеры в Японии так же не особо популярны. Гонки и драки в данных регионах продаются реже всего."
   ]
  },
  {
   "cell_type": "markdown",
   "metadata": {},
   "source": [
    "**Влияет ли рейтинг ESRB на продажи в отдельном регионе?**\n",
    "\n",
    "Касаемо рейтинга ESRB, можно отметить, что большие продажи в регионах NA и EU имеют игры, предназначенные для аудитории 17+,так как именно под эти категории попадают самые кассовые и популярные игры.\n",
    "На втором месте в NA располагаются игры без указания рейтинга, и они же на вершине в Японии, топ-2 в Европе. Крайне популярными являются игры для всех возрастов, однако в Японии они уступают ограничению 13+. Данное ограничение замыкает топ в остальных регионах.\n",
    "\n",
    " Игры с рейтингом 10+ в Европе и Северной Америке на предпоследнем месте, в связи с недоступностью для детей помладше, а в Японии вовсе на последнем, так как уступают маркировке 17+.\n",
    " \n",
    " Очевидно, что разработчики стараются добиться пограничного рейтинга с меткой 18+, чтобы захватить подростковую аудиторию. Отметим серьезное отличие предпочтений в японском регионе и схожие черты в Европе и Северной Америке."
   ]
  },
  {
   "cell_type": "markdown",
   "metadata": {},
   "source": [
    "<div class=\"alert alert-success\">\n",
    "    \n",
    "<b> Комментарий от ревьюера ✔️</b>\n",
    "    \n",
    "Отличные комментарии!\n",
    "\n",
    "</div>"
   ]
  },
  {
   "cell_type": "markdown",
   "metadata": {},
   "source": [
    "# Проверка гипотез\n",
    "H_0: Средние пользовательские рейтинги платформ Xbox One и PC одинаковые\n",
    "\n",
    "H_a: Средние пользовательские рейтинги платформ Xbox One и PC различаются"
   ]
  },
  {
   "cell_type": "code",
   "execution_count": 14,
   "metadata": {},
   "outputs": [
    {
     "name": "stdout",
     "output_type": "stream",
     "text": [
      "p-значение: 0.1475959401343053\n",
      "Не получилось отвергнуть нулевую гипотезу\n"
     ]
    }
   ],
   "source": [
    "\n",
    "#df_hyp=df.dropna() # отбросим пропуски\n",
    "alpha = .05\n",
    "\n",
    "results = st.ttest_ind(\n",
    "    df2013[df2013['platform'] == 'XOne']['user_score'], \n",
    "    df2013[df2013['platform'] == 'PC']['user_score'],\n",
    "    equal_var=False,\n",
    "    nan_policy='omit')\n",
    "\n",
    "print('p-значение:', results.pvalue)\n",
    "\n",
    "if results.pvalue < alpha:\n",
    "    print(\"Отвергаем нулевую гипотезу\")\n",
    "else:\n",
    "    print(\"Не получилось отвергнуть нулевую гипотезу\") "
   ]
  },
  {
   "cell_type": "markdown",
   "metadata": {},
   "source": [
    "<div class=\"alert alert-warning\">\n",
    "    \n",
    "<b> Комментарий от ревьюера ⚠️</b>\n",
    "    \n",
    "Все библиотеки лучше импортировать в начале файла. Об этом говорится в [стилевом гайде по питону](https://www.python.org/dev/peps/pep-0008/#imports)\n",
    "    \n",
    "    Imports are always put at the top of the file, just after any module comments and docstrings, and before module globals and constants.\n",
    "</div>\n",
    "\n",
    "<div class=\"alert alert-info\">\n",
    "    \n",
    "Прислушался\n",
    "</div>"
   ]
  },
  {
   "cell_type": "markdown",
   "metadata": {},
   "source": [
    "Вероятность случайно получить такое или большее различие равно почти 15%. Это явно слишком большая вероятность, чтобы делать вывод о значимом различии между рейтингами.\n",
    "\n",
    "**Гипотеза подтверждена: средние пользовательские рейтинги платформ Xbox One и PC схожи**"
   ]
  },
  {
   "cell_type": "markdown",
   "metadata": {},
   "source": [
    "<div class=\"alert alert-success\">\n",
    "    \n",
    "<b> Комментарий от ревьюера ✔️</b>\n",
    "    \n",
    "Ты правильно сформулировал гипотезы и выбрал подходящий способ проверки\n",
    "</div>\n"
   ]
  },
  {
   "cell_type": "markdown",
   "metadata": {},
   "source": [
    "Для удобства сделаем аналогичную проверку по жанрам Action и Sports, но вывод сделаем относительно альтернативного исхода.\n",
    "\n",
    "H_0: Средние пользовательские рейтинги жанров Action и Sports одинаковые\n",
    "\n",
    "H_а: Средние пользовательские рейтинги жанров Action и Sports разные"
   ]
  },
  {
   "cell_type": "code",
   "execution_count": 15,
   "metadata": {},
   "outputs": [
    {
     "name": "stdout",
     "output_type": "stream",
     "text": [
      "p-значение: 1.4460039700704734e-20\n",
      "Отвергаем нулевую гипотезу\n"
     ]
    }
   ],
   "source": [
    "alpha = .05\n",
    "\n",
    "results = st.ttest_ind(\n",
    "    df2013[df2013['genre'] == 'Action']['user_score'], \n",
    "    df2013[df2013['genre'] == 'Sports']['user_score'],\n",
    "    equal_var=False,\n",
    "    nan_policy='omit')\n",
    "\n",
    "print('p-значение:', results.pvalue)\n",
    "\n",
    "if results.pvalue < alpha:\n",
    "    print(\"Отвергаем нулевую гипотезу\")\n",
    "else:\n",
    "    print(\"Не получилось отвергнуть нулевую гипотезу\") "
   ]
  },
  {
   "cell_type": "markdown",
   "metadata": {},
   "source": [
    "Вероятность случайно получить такое или большее различие крайне мало.\n",
    "\n",
    "**Гипотеза подтверждена: рейтинги жанров Action и Sports разные**"
   ]
  },
  {
   "cell_type": "markdown",
   "metadata": {},
   "source": [
    "Критерий для проверки гипотез сводится к сравнению pvalue и уровня критической значимости, так как нулевая гипотеза отвергается, если вероятность получить то среднее, которое имеется в выборочных данных, слишком мала."
   ]
  },
  {
   "cell_type": "markdown",
   "metadata": {},
   "source": [
    "<div class=\"alert alert-success\">\n",
    "    \n",
    "<b> Комментарий от ревьюера ✔️</b>\n",
    "    \n",
    "Все верно \n",
    "\n",
    "</div>\n"
   ]
  },
  {
   "cell_type": "markdown",
   "metadata": {},
   "source": [
    "# Общий вывод "
   ]
  },
  {
   "cell_type": "markdown",
   "metadata": {},
   "source": [
    "\n",
    "В процессе исследования было определено, что данные до 1994 года вовсе не интересны, так как индустрия была развита крайне слабо в то время. В дальнейшем актуальный период сузился до 2013-2016, так как он характеризуется значительным уровнем конкуренции при одновременном уходе старых платформ. Был сделан вывод о том, что новые платформы появляются в среднем каждые 2 года, а старые платформы исчезают за 9-10 лет.\n",
    "\n",
    "Лидерами суммарных продаж в актуальном периоде являются PS3, 3DS, PS4, X360. Потенциал долгосрочного роста сохранила лишь платформа PS4, так как среди указанных она является наиболее свежей и в 2015 году уже показала пик продаж, относительно данной выборки - 118.9. \n",
    "\n",
    "**Топ-3 потенциально прибыльных платформ в 2017 году включает PS3, 3DS и PS4. При провале 3DS в новом году можно переключиться на XOne**\n",
    "\n",
    "В основной массе платформ заметна тенденция к снижению продаж. Игры на X360 очень слабо продаются в периоде 2014-2016 и ежегодно уступают по продажам платформе PS3. По 3DS заметно планомерное, не такое резкое снижение продаж и устаревание устройства, но в 2016 году только игры на передовую PS4 обошли показатели японской платформы.\n",
    "\n",
    "Продажи игр на PSP с 2013 года резко падают, аналогичную картину можно наблюдать у Wii, продажи игр на которую в 2016 году почти равны продажам игр на PSP в 2015. Потенциал роста продаж в 2017 году у данных платформ отсутствует.\n",
    "\n",
    "В основной массе платформ заметна тенденция к снижению продаж. Однако магазин в своей рекламной кампании, сделав ставку на самую новую платформу, не промахнется. С появлением новых игр продажи будут неизбежно расти, так как **отзывы критиков на игры для PS4 самые высокие, а корреляция отзывов и продаж подчеркивает важность данной точки роста.**\n",
    "\n",
    "Очевидно, что с выходом свежей платформы далеко не все пользователи торопятся предать предыдущую и с трепетом ждут новых игр, адаптированных под обе платформы. Такая ситуация складывается у PS3, которая продолжает быть привлекательными для пользователей, особенно из Европы и Японии, где игры на данные платформы продаются в больших объемах. Так как оценки игр на PS4 бьют рекорды, есть смысл отдать предпочтение в новом году предыдущей версии платформы на равне со свежей.\n",
    "\n",
    "Наибольшая зависимость продаж и отзывов критиков у PS4, наименьшая у 3DS. По всем трем платформам зависимость данных показателей прямая. Корреляция продаж и отзывов пользователей (в отличие от отзывов критиков) крайне низкая у топ-3 платформ, соответственно люди внимательнее относятся к отзывам критиков, нежели игроков, поэтому именно критики на прямую влияют на продажи. \n",
    "\n",
    "**Среди 5 наиболее прибыльных жанров выделяются action и shooter**, демонстрируя высокие показатели на протяжении всего периода. Жанр Misc имеет худший показатель, игры Role-playing держатся в топе, во  многом благодаря японскому региону. По спортиным играм был пик продаж в 2009 году, однако после резкого падения продаж, только в 2012 году удалось изменить тренд, но лишь на 2 года. До середины 2015 года игры жанра action обладали наибольшими продажами, но к 2016 году шутеры все-таки отвоевали лидерство. Американские и европейские топ-4 игровых жанров симметричны. Гонки и драки в данных регионах продаются реже всего.\n",
    "\n",
    "**Портрет пользователя**\n",
    "\n",
    "Регион NA: PS4, Action, игры 17+\n",
    "\n",
    "Регион EU: PS4, Action, игры 17+\n",
    "\n",
    "Регион JP: 3DS, Role-playing, игры 13+\n",
    "\n",
    "Рейтинг ESRB влияет на продажи, поэтому разработчики стараются добиться пограничного рейтинга с меткой 18+, чтобы захватить подростковую аудиторию, либо выпускать игры для всех возрастов. Отметим серьезное отличие предпочтений в японском регионе и схожие черты в Европе и Северной Америке.\n",
    "\n",
    "**Средние пользовательские рейтинги платформ Xbox One и PC одинаковые**\n",
    "\n",
    "**Средние пользовательские рейтинги жанров Action и Sports разные**\n",
    "\n",
    "\n",
    "\n",
    "\n",
    "\n",
    "\n",
    "\n",
    "\n",
    "\n"
   ]
  },
  {
   "cell_type": "markdown",
   "metadata": {},
   "source": [
    "<div class=\"alert alert-success\">\n",
    "    \n",
    "<b> Комментарий от ревьюера ✔️</b>\n",
    "    \n",
    "Хороший вывод\n",
    "\n",
    "</div>"
   ]
  },
  {
   "cell_type": "markdown",
   "metadata": {},
   "source": [
    "<div class=\"alert alert-success\">\n",
    "    \n",
    "<b> Комментарий от ревьюера ✔️</b>\n",
    "    \n",
    "Спасибо за твою работу! Ты хорошо справился с подготовкой и анализом данных.\n",
    "    \n",
    "Осталось немного дополнить проект:\n",
    "    \n",
    "- проверить дубликаты в таблице\n",
    "- поправить обработку пропусков\n",
    "- уменьшить актуальный период\n",
    "- определить потенциально прибыльные платформы в 2017 году\n",
    "- посчитать медианные продажи игр по жанрам\n",
    "- посчитать доли платформ в портретах пользователей\n",
    "- проверить актуальность всех комментариев и выводов после внесения изменений\n",
    "\n",
    "Задавай вопросы к моим комментариям, если есть. Жду твои исправления :)\n",
    "</div>\n",
    "\n",
    "<div class=\"alert alert-info\">\n",
    "    \n",
    "Все выводы скорретированы, замечания отработаны\n",
    "</div>"
   ]
  },
  {
   "cell_type": "markdown",
   "metadata": {},
   "source": [
    "<div class=\"alert alert-success\">\n",
    "    \n",
    "<b> Комментарий от ревьюера 2 ✔️</b>\n",
    "\n",
    "Осталось совсем чуть-чуть:\n",
    "    \n",
    "- определить потенциально прибыльные платформы в 2017 году\n",
    "- посчитать медианные продажи игр по жанрам\n",
    "    \n",
    "Жду твои исправления\n",
    "</div>\n",
    "\n",
    "<div class=\"alert alert-info\">\n",
    "    \n",
    "Дополнил немного общий вывод \n",
    "</div>"
   ]
  },
  {
   "cell_type": "markdown",
   "metadata": {},
   "source": [
    "<div class=\"alert alert-success\">\n",
    "<b> Комментарий от ревьюера 3 ✔️</b>\n",
    "\n",
    "Спасибо, что учел мои комментарии. Надеюсь, эта работа была полезна для тебя. Я принимаю проект и желаю удачи в прохождении курса!\n",
    "\n",
    "</div>"
   ]
  }
 ],
 "metadata": {
  "ExecuteTimeLog": [
   {
    "duration": 839,
    "start_time": "2022-08-24T07:58:04.666Z"
   },
   {
    "duration": 67,
    "start_time": "2022-08-24T07:58:19.888Z"
   },
   {
    "duration": 926,
    "start_time": "2022-08-24T07:58:52.829Z"
   },
   {
    "duration": 1041,
    "start_time": "2022-08-24T07:59:00.698Z"
   },
   {
    "duration": 53,
    "start_time": "2022-08-24T07:59:13.169Z"
   },
   {
    "duration": 46,
    "start_time": "2022-08-24T07:59:27.530Z"
   },
   {
    "duration": 503,
    "start_time": "2022-08-24T10:01:54.364Z"
   },
   {
    "duration": 52,
    "start_time": "2022-08-24T10:02:01.095Z"
   },
   {
    "duration": 70,
    "start_time": "2022-08-24T10:02:11.218Z"
   },
   {
    "duration": 75,
    "start_time": "2022-08-24T10:02:22.545Z"
   },
   {
    "duration": 78,
    "start_time": "2022-08-24T10:02:45.269Z"
   },
   {
    "duration": 72,
    "start_time": "2022-08-24T10:15:35.081Z"
   },
   {
    "duration": 65,
    "start_time": "2022-08-24T10:15:35.155Z"
   },
   {
    "duration": 78,
    "start_time": "2022-08-24T10:16:48.744Z"
   },
   {
    "duration": 12,
    "start_time": "2022-08-24T10:16:48.824Z"
   },
   {
    "duration": 75,
    "start_time": "2022-08-24T10:17:56.829Z"
   },
   {
    "duration": 13,
    "start_time": "2022-08-24T10:17:56.905Z"
   },
   {
    "duration": 80,
    "start_time": "2022-08-24T10:18:06.035Z"
   },
   {
    "duration": 12,
    "start_time": "2022-08-24T10:18:06.117Z"
   },
   {
    "duration": 1140,
    "start_time": "2022-08-24T10:18:56.788Z"
   },
   {
    "duration": 22,
    "start_time": "2022-08-24T10:18:57.930Z"
   },
   {
    "duration": 755,
    "start_time": "2022-08-24T10:19:12.875Z"
   },
   {
    "duration": 14,
    "start_time": "2022-08-24T10:19:13.632Z"
   },
   {
    "duration": 65,
    "start_time": "2022-08-24T10:19:39.451Z"
   },
   {
    "duration": 13,
    "start_time": "2022-08-24T10:19:39.518Z"
   },
   {
    "duration": 86,
    "start_time": "2022-08-24T10:19:53.871Z"
   },
   {
    "duration": 14,
    "start_time": "2022-08-24T10:19:53.960Z"
   },
   {
    "duration": 71,
    "start_time": "2022-08-24T10:20:47.881Z"
   },
   {
    "duration": 12,
    "start_time": "2022-08-24T10:20:47.954Z"
   },
   {
    "duration": 71,
    "start_time": "2022-08-24T10:29:54.913Z"
   },
   {
    "duration": 20,
    "start_time": "2022-08-24T10:29:54.986Z"
   },
   {
    "duration": 69,
    "start_time": "2022-08-24T10:31:49.214Z"
   },
   {
    "duration": 22,
    "start_time": "2022-08-24T10:31:49.286Z"
   },
   {
    "duration": 77,
    "start_time": "2022-08-24T10:31:55.164Z"
   },
   {
    "duration": 11,
    "start_time": "2022-08-24T10:31:55.243Z"
   },
   {
    "duration": 10,
    "start_time": "2022-08-24T10:32:05.555Z"
   },
   {
    "duration": 77,
    "start_time": "2022-08-24T10:32:14.832Z"
   },
   {
    "duration": 9,
    "start_time": "2022-08-24T10:32:14.911Z"
   },
   {
    "duration": 71,
    "start_time": "2022-08-24T10:33:50.251Z"
   },
   {
    "duration": 26,
    "start_time": "2022-08-24T10:33:50.324Z"
   },
   {
    "duration": 70,
    "start_time": "2022-08-24T10:34:07.581Z"
   },
   {
    "duration": 8,
    "start_time": "2022-08-24T10:34:07.653Z"
   },
   {
    "duration": 86,
    "start_time": "2022-08-24T10:34:32.650Z"
   },
   {
    "duration": 23,
    "start_time": "2022-08-24T10:34:32.738Z"
   },
   {
    "duration": 73,
    "start_time": "2022-08-24T10:35:02.210Z"
   },
   {
    "duration": 22,
    "start_time": "2022-08-24T10:35:02.285Z"
   },
   {
    "duration": 76,
    "start_time": "2022-08-24T10:35:14.940Z"
   },
   {
    "duration": 26,
    "start_time": "2022-08-24T10:35:15.018Z"
   },
   {
    "duration": 71,
    "start_time": "2022-08-24T10:35:21.788Z"
   },
   {
    "duration": 20,
    "start_time": "2022-08-24T10:35:21.861Z"
   },
   {
    "duration": 71,
    "start_time": "2022-08-24T10:35:29.037Z"
   },
   {
    "duration": 29,
    "start_time": "2022-08-24T10:35:29.111Z"
   },
   {
    "duration": 89,
    "start_time": "2022-08-24T10:35:51.298Z"
   },
   {
    "duration": 12,
    "start_time": "2022-08-24T10:35:51.389Z"
   },
   {
    "duration": 78,
    "start_time": "2022-08-24T10:37:41.038Z"
   },
   {
    "duration": 18,
    "start_time": "2022-08-24T10:37:41.118Z"
   },
   {
    "duration": 77,
    "start_time": "2022-08-24T10:43:28.175Z"
   },
   {
    "duration": 12,
    "start_time": "2022-08-24T10:43:28.254Z"
   },
   {
    "duration": 80,
    "start_time": "2022-08-24T10:44:08.575Z"
   },
   {
    "duration": 11,
    "start_time": "2022-08-24T10:44:08.657Z"
   },
   {
    "duration": 76,
    "start_time": "2022-08-24T10:46:13.146Z"
   },
   {
    "duration": 10,
    "start_time": "2022-08-24T10:46:13.224Z"
   },
   {
    "duration": 80,
    "start_time": "2022-08-24T10:51:04.253Z"
   },
   {
    "duration": 55,
    "start_time": "2022-08-24T10:51:04.335Z"
   },
   {
    "duration": 89,
    "start_time": "2022-08-24T10:51:12.634Z"
   },
   {
    "duration": 35,
    "start_time": "2022-08-24T10:51:12.725Z"
   },
   {
    "duration": 72,
    "start_time": "2022-08-24T10:51:29.867Z"
   },
   {
    "duration": 23,
    "start_time": "2022-08-24T10:51:29.942Z"
   },
   {
    "duration": 93,
    "start_time": "2022-08-24T10:53:36.459Z"
   },
   {
    "duration": 17,
    "start_time": "2022-08-24T10:53:36.554Z"
   },
   {
    "duration": 88,
    "start_time": "2022-08-24T10:54:08.131Z"
   },
   {
    "duration": 23,
    "start_time": "2022-08-24T10:54:08.221Z"
   },
   {
    "duration": 77,
    "start_time": "2022-08-24T10:54:36.363Z"
   },
   {
    "duration": 15,
    "start_time": "2022-08-24T10:54:36.441Z"
   },
   {
    "duration": 77,
    "start_time": "2022-08-24T10:54:45.311Z"
   },
   {
    "duration": 10,
    "start_time": "2022-08-24T10:54:45.390Z"
   },
   {
    "duration": 75,
    "start_time": "2022-08-24T10:54:55.043Z"
   },
   {
    "duration": 21,
    "start_time": "2022-08-24T10:54:55.121Z"
   },
   {
    "duration": 72,
    "start_time": "2022-08-24T10:56:14.126Z"
   },
   {
    "duration": 9,
    "start_time": "2022-08-24T10:56:14.200Z"
   },
   {
    "duration": 84,
    "start_time": "2022-08-24T10:56:18.965Z"
   },
   {
    "duration": 9,
    "start_time": "2022-08-24T10:56:19.051Z"
   },
   {
    "duration": 72,
    "start_time": "2022-08-24T10:57:13.644Z"
   },
   {
    "duration": 8,
    "start_time": "2022-08-24T10:57:13.718Z"
   },
   {
    "duration": 30,
    "start_time": "2022-08-24T10:57:13.728Z"
   },
   {
    "duration": 74,
    "start_time": "2022-08-24T11:02:42.549Z"
   },
   {
    "duration": 8,
    "start_time": "2022-08-24T11:02:42.625Z"
   },
   {
    "duration": 27,
    "start_time": "2022-08-24T11:02:42.635Z"
   },
   {
    "duration": 74,
    "start_time": "2022-08-24T11:03:00.189Z"
   },
   {
    "duration": 10,
    "start_time": "2022-08-24T11:03:00.264Z"
   },
   {
    "duration": 31,
    "start_time": "2022-08-24T11:03:00.276Z"
   },
   {
    "duration": 18,
    "start_time": "2022-08-24T11:03:09.692Z"
   },
   {
    "duration": 74,
    "start_time": "2022-08-24T11:03:26.450Z"
   },
   {
    "duration": 9,
    "start_time": "2022-08-24T11:03:26.526Z"
   },
   {
    "duration": 16,
    "start_time": "2022-08-24T11:03:26.537Z"
   },
   {
    "duration": 78,
    "start_time": "2022-08-24T11:03:43.798Z"
   },
   {
    "duration": 12,
    "start_time": "2022-08-24T11:03:43.879Z"
   },
   {
    "duration": 19,
    "start_time": "2022-08-24T11:03:43.893Z"
   },
   {
    "duration": 74,
    "start_time": "2022-08-24T11:06:26.603Z"
   },
   {
    "duration": 10,
    "start_time": "2022-08-24T11:06:26.679Z"
   },
   {
    "duration": 22,
    "start_time": "2022-08-24T11:06:26.691Z"
   },
   {
    "duration": 72,
    "start_time": "2022-08-24T11:07:04.243Z"
   },
   {
    "duration": 8,
    "start_time": "2022-08-24T11:07:04.317Z"
   },
   {
    "duration": 24,
    "start_time": "2022-08-24T11:07:04.326Z"
   },
   {
    "duration": 73,
    "start_time": "2022-08-24T11:07:20.464Z"
   },
   {
    "duration": 9,
    "start_time": "2022-08-24T11:07:20.539Z"
   },
   {
    "duration": 28,
    "start_time": "2022-08-24T11:07:20.550Z"
   },
   {
    "duration": 72,
    "start_time": "2022-08-24T11:07:37.174Z"
   },
   {
    "duration": 9,
    "start_time": "2022-08-24T11:07:37.248Z"
   },
   {
    "duration": 25,
    "start_time": "2022-08-24T11:07:37.258Z"
   },
   {
    "duration": 74,
    "start_time": "2022-08-24T11:08:05.910Z"
   },
   {
    "duration": 2090,
    "start_time": "2022-08-24T11:08:05.986Z"
   },
   {
    "duration": 0,
    "start_time": "2022-08-24T11:08:08.078Z"
   },
   {
    "duration": 76,
    "start_time": "2022-08-24T11:08:13.846Z"
   },
   {
    "duration": 22,
    "start_time": "2022-08-24T11:08:13.924Z"
   },
   {
    "duration": 0,
    "start_time": "2022-08-24T11:08:13.947Z"
   },
   {
    "duration": 75,
    "start_time": "2022-08-24T11:08:32.022Z"
   },
   {
    "duration": 11,
    "start_time": "2022-08-24T11:08:32.100Z"
   },
   {
    "duration": 22,
    "start_time": "2022-08-24T11:08:32.112Z"
   },
   {
    "duration": 78,
    "start_time": "2022-08-24T11:09:02.451Z"
   },
   {
    "duration": 11,
    "start_time": "2022-08-24T11:09:02.531Z"
   },
   {
    "duration": 17,
    "start_time": "2022-08-24T11:09:02.544Z"
   },
   {
    "duration": 73,
    "start_time": "2022-08-24T11:16:19.084Z"
   },
   {
    "duration": 8,
    "start_time": "2022-08-24T11:16:19.159Z"
   },
   {
    "duration": 33,
    "start_time": "2022-08-24T11:16:19.168Z"
   },
   {
    "duration": 73,
    "start_time": "2022-08-24T11:20:49.105Z"
   },
   {
    "duration": 10,
    "start_time": "2022-08-24T11:20:49.181Z"
   },
   {
    "duration": 24,
    "start_time": "2022-08-24T11:20:49.193Z"
   },
   {
    "duration": 73,
    "start_time": "2022-08-24T11:20:56.576Z"
   },
   {
    "duration": 8,
    "start_time": "2022-08-24T11:20:56.651Z"
   },
   {
    "duration": 45,
    "start_time": "2022-08-24T11:20:56.661Z"
   },
   {
    "duration": 73,
    "start_time": "2022-08-24T11:21:35.668Z"
   },
   {
    "duration": 11,
    "start_time": "2022-08-24T11:21:35.743Z"
   },
   {
    "duration": 49,
    "start_time": "2022-08-24T11:21:35.755Z"
   },
   {
    "duration": 89,
    "start_time": "2022-08-24T11:22:11.296Z"
   },
   {
    "duration": 8,
    "start_time": "2022-08-24T11:22:11.387Z"
   },
   {
    "duration": 31,
    "start_time": "2022-08-24T11:22:11.397Z"
   },
   {
    "duration": 75,
    "start_time": "2022-08-24T11:22:31.303Z"
   },
   {
    "duration": 9,
    "start_time": "2022-08-24T11:22:31.380Z"
   },
   {
    "duration": 52,
    "start_time": "2022-08-24T11:22:31.391Z"
   },
   {
    "duration": 76,
    "start_time": "2022-08-24T12:23:14.519Z"
   },
   {
    "duration": 9,
    "start_time": "2022-08-24T12:23:14.596Z"
   },
   {
    "duration": 44,
    "start_time": "2022-08-24T12:23:14.606Z"
   },
   {
    "duration": 73,
    "start_time": "2022-08-24T12:36:17.927Z"
   },
   {
    "duration": 8,
    "start_time": "2022-08-24T12:36:18.002Z"
   },
   {
    "duration": 46,
    "start_time": "2022-08-24T12:36:18.012Z"
   },
   {
    "duration": 76,
    "start_time": "2022-08-24T12:36:50.308Z"
   },
   {
    "duration": 9,
    "start_time": "2022-08-24T12:36:50.386Z"
   },
   {
    "duration": 23,
    "start_time": "2022-08-24T12:36:50.397Z"
   },
   {
    "duration": 71,
    "start_time": "2022-08-24T12:38:28.888Z"
   },
   {
    "duration": 10,
    "start_time": "2022-08-24T12:38:28.961Z"
   },
   {
    "duration": 39,
    "start_time": "2022-08-24T12:38:28.972Z"
   },
   {
    "duration": 77,
    "start_time": "2022-08-24T12:38:52.591Z"
   },
   {
    "duration": 9,
    "start_time": "2022-08-24T12:38:52.671Z"
   },
   {
    "duration": 33,
    "start_time": "2022-08-24T12:38:52.682Z"
   },
   {
    "duration": 72,
    "start_time": "2022-08-24T12:39:05.000Z"
   },
   {
    "duration": 9,
    "start_time": "2022-08-24T12:39:05.074Z"
   },
   {
    "duration": 45,
    "start_time": "2022-08-24T12:39:05.084Z"
   },
   {
    "duration": 71,
    "start_time": "2022-08-24T12:39:11.566Z"
   },
   {
    "duration": 12,
    "start_time": "2022-08-24T12:39:11.639Z"
   },
   {
    "duration": 61,
    "start_time": "2022-08-24T12:39:11.652Z"
   },
   {
    "duration": 77,
    "start_time": "2022-08-24T12:42:14.319Z"
   },
   {
    "duration": 13,
    "start_time": "2022-08-24T12:42:14.398Z"
   },
   {
    "duration": 57,
    "start_time": "2022-08-24T12:42:14.412Z"
   },
   {
    "duration": 76,
    "start_time": "2022-08-24T12:43:02.734Z"
   },
   {
    "duration": 10,
    "start_time": "2022-08-24T12:43:02.812Z"
   },
   {
    "duration": 48,
    "start_time": "2022-08-24T12:43:02.823Z"
   },
   {
    "duration": 75,
    "start_time": "2022-08-24T12:44:13.819Z"
   },
   {
    "duration": 10,
    "start_time": "2022-08-24T12:44:13.896Z"
   },
   {
    "duration": 1630,
    "start_time": "2022-08-24T12:44:13.908Z"
   },
   {
    "duration": 73,
    "start_time": "2022-08-24T12:46:24.083Z"
   },
   {
    "duration": 11,
    "start_time": "2022-08-24T12:46:24.158Z"
   },
   {
    "duration": 39,
    "start_time": "2022-08-24T12:46:24.171Z"
   },
   {
    "duration": 72,
    "start_time": "2022-08-24T12:46:44.445Z"
   },
   {
    "duration": 9,
    "start_time": "2022-08-24T12:46:44.518Z"
   },
   {
    "duration": 37,
    "start_time": "2022-08-24T12:46:44.529Z"
   },
   {
    "duration": 77,
    "start_time": "2022-08-24T13:00:09.009Z"
   },
   {
    "duration": 10,
    "start_time": "2022-08-24T13:00:09.087Z"
   },
   {
    "duration": 31,
    "start_time": "2022-08-24T13:00:09.099Z"
   },
   {
    "duration": 72,
    "start_time": "2022-08-24T13:02:25.686Z"
   },
   {
    "duration": 11,
    "start_time": "2022-08-24T13:02:25.761Z"
   },
   {
    "duration": 38,
    "start_time": "2022-08-24T13:02:25.774Z"
   },
   {
    "duration": 86,
    "start_time": "2022-08-24T13:02:46.678Z"
   },
   {
    "duration": 13,
    "start_time": "2022-08-24T13:02:46.766Z"
   },
   {
    "duration": 53,
    "start_time": "2022-08-24T13:02:46.781Z"
   },
   {
    "duration": 71,
    "start_time": "2022-08-24T13:03:27.482Z"
   },
   {
    "duration": 9,
    "start_time": "2022-08-24T13:03:27.555Z"
   },
   {
    "duration": 49,
    "start_time": "2022-08-24T13:03:27.565Z"
   },
   {
    "duration": 75,
    "start_time": "2022-08-24T13:04:41.787Z"
   },
   {
    "duration": 10,
    "start_time": "2022-08-24T13:04:41.864Z"
   },
   {
    "duration": 44,
    "start_time": "2022-08-24T13:04:41.875Z"
   },
   {
    "duration": 113,
    "start_time": "2022-08-24T13:13:07.018Z"
   },
   {
    "duration": 11,
    "start_time": "2022-08-24T13:13:07.133Z"
   },
   {
    "duration": 70,
    "start_time": "2022-08-24T13:13:07.146Z"
   },
   {
    "duration": 796,
    "start_time": "2022-08-24T13:15:14.576Z"
   },
   {
    "duration": 11,
    "start_time": "2022-08-24T13:15:15.374Z"
   },
   {
    "duration": 21,
    "start_time": "2022-08-24T13:15:15.407Z"
   },
   {
    "duration": 86,
    "start_time": "2022-08-24T13:15:39.510Z"
   },
   {
    "duration": 16,
    "start_time": "2022-08-24T13:15:39.598Z"
   },
   {
    "duration": 982,
    "start_time": "2022-08-24T13:15:39.616Z"
   },
   {
    "duration": 81,
    "start_time": "2022-08-24T13:18:15.900Z"
   },
   {
    "duration": 10,
    "start_time": "2022-08-24T13:18:15.983Z"
   },
   {
    "duration": 904,
    "start_time": "2022-08-24T13:18:15.994Z"
   },
   {
    "duration": 90,
    "start_time": "2022-08-24T13:23:26.886Z"
   },
   {
    "duration": 10,
    "start_time": "2022-08-24T13:23:26.978Z"
   },
   {
    "duration": 30,
    "start_time": "2022-08-24T13:23:26.990Z"
   },
   {
    "duration": 85,
    "start_time": "2022-08-24T13:23:50.879Z"
   },
   {
    "duration": 10,
    "start_time": "2022-08-24T13:23:50.966Z"
   },
   {
    "duration": 60,
    "start_time": "2022-08-24T13:23:50.978Z"
   },
   {
    "duration": 76,
    "start_time": "2022-08-24T13:33:21.077Z"
   },
   {
    "duration": 11,
    "start_time": "2022-08-24T13:33:21.155Z"
   },
   {
    "duration": 81,
    "start_time": "2022-08-24T13:33:21.169Z"
   },
   {
    "duration": 26,
    "start_time": "2022-08-24T13:33:21.252Z"
   },
   {
    "duration": 43,
    "start_time": "2022-08-24T13:33:21.280Z"
   },
   {
    "duration": 82,
    "start_time": "2022-08-24T13:33:54.227Z"
   },
   {
    "duration": 12,
    "start_time": "2022-08-24T13:33:54.312Z"
   },
   {
    "duration": 45,
    "start_time": "2022-08-24T13:33:54.326Z"
   },
   {
    "duration": 20,
    "start_time": "2022-08-24T13:33:54.399Z"
   },
   {
    "duration": 36,
    "start_time": "2022-08-24T13:33:54.422Z"
   },
   {
    "duration": 85,
    "start_time": "2022-08-24T13:35:50.049Z"
   },
   {
    "duration": 10,
    "start_time": "2022-08-24T13:35:50.136Z"
   },
   {
    "duration": 58,
    "start_time": "2022-08-24T13:35:50.148Z"
   },
   {
    "duration": 17,
    "start_time": "2022-08-24T13:35:50.209Z"
   },
   {
    "duration": 34,
    "start_time": "2022-08-24T13:35:50.228Z"
   },
   {
    "duration": 90,
    "start_time": "2022-08-24T13:42:22.961Z"
   },
   {
    "duration": 12,
    "start_time": "2022-08-24T13:42:23.053Z"
   },
   {
    "duration": 60,
    "start_time": "2022-08-24T13:42:23.066Z"
   },
   {
    "duration": 1004,
    "start_time": "2022-08-24T13:42:23.129Z"
   },
   {
    "duration": 0,
    "start_time": "2022-08-24T13:42:24.135Z"
   },
   {
    "duration": 78,
    "start_time": "2022-08-24T13:42:44.409Z"
   },
   {
    "duration": 10,
    "start_time": "2022-08-24T13:42:44.488Z"
   },
   {
    "duration": 42,
    "start_time": "2022-08-24T13:42:44.499Z"
   },
   {
    "duration": 65,
    "start_time": "2022-08-24T13:42:44.543Z"
   },
   {
    "duration": 2,
    "start_time": "2022-08-24T13:42:44.610Z"
   },
   {
    "duration": 78,
    "start_time": "2022-08-24T13:43:47.580Z"
   },
   {
    "duration": 10,
    "start_time": "2022-08-24T13:43:47.660Z"
   },
   {
    "duration": 45,
    "start_time": "2022-08-24T13:43:47.672Z"
   },
   {
    "duration": 43,
    "start_time": "2022-08-24T13:43:47.719Z"
   },
   {
    "duration": 3,
    "start_time": "2022-08-24T13:43:47.763Z"
   },
   {
    "duration": 75,
    "start_time": "2022-08-24T13:45:12.437Z"
   },
   {
    "duration": 10,
    "start_time": "2022-08-24T13:45:12.514Z"
   },
   {
    "duration": 28,
    "start_time": "2022-08-24T13:45:12.526Z"
   },
   {
    "duration": 75,
    "start_time": "2022-08-24T13:45:12.556Z"
   },
   {
    "duration": 3,
    "start_time": "2022-08-24T13:45:12.633Z"
   },
   {
    "duration": 72,
    "start_time": "2022-08-24T13:46:19.590Z"
   },
   {
    "duration": 9,
    "start_time": "2022-08-24T13:46:19.664Z"
   },
   {
    "duration": 36,
    "start_time": "2022-08-24T13:46:19.675Z"
   },
   {
    "duration": 45,
    "start_time": "2022-08-24T13:46:19.713Z"
   },
   {
    "duration": 3,
    "start_time": "2022-08-24T13:46:19.760Z"
   },
   {
    "duration": 74,
    "start_time": "2022-08-24T13:48:29.946Z"
   },
   {
    "duration": 11,
    "start_time": "2022-08-24T13:48:30.022Z"
   },
   {
    "duration": 38,
    "start_time": "2022-08-24T13:48:30.034Z"
   },
   {
    "duration": 70,
    "start_time": "2022-08-24T13:48:30.075Z"
   },
   {
    "duration": 2,
    "start_time": "2022-08-24T13:48:30.147Z"
   },
   {
    "duration": 95,
    "start_time": "2022-08-24T13:49:14.667Z"
   },
   {
    "duration": 16,
    "start_time": "2022-08-24T13:49:14.764Z"
   },
   {
    "duration": 63,
    "start_time": "2022-08-24T13:49:14.782Z"
   },
   {
    "duration": 82,
    "start_time": "2022-08-24T13:49:14.847Z"
   },
   {
    "duration": 39,
    "start_time": "2022-08-24T13:49:14.931Z"
   },
   {
    "duration": 98,
    "start_time": "2022-08-24T13:49:51.872Z"
   },
   {
    "duration": 31,
    "start_time": "2022-08-24T13:49:51.973Z"
   },
   {
    "duration": 39,
    "start_time": "2022-08-24T13:49:52.005Z"
   },
   {
    "duration": 74,
    "start_time": "2022-08-24T13:49:52.046Z"
   },
   {
    "duration": 88,
    "start_time": "2022-08-24T13:49:52.123Z"
   },
   {
    "duration": 103,
    "start_time": "2022-08-24T13:50:23.228Z"
   },
   {
    "duration": 13,
    "start_time": "2022-08-24T13:50:23.334Z"
   },
   {
    "duration": 52,
    "start_time": "2022-08-24T13:50:23.349Z"
   },
   {
    "duration": 47,
    "start_time": "2022-08-24T13:50:23.404Z"
   },
   {
    "duration": 72,
    "start_time": "2022-08-24T13:50:23.453Z"
   },
   {
    "duration": 76,
    "start_time": "2022-08-24T14:49:35.758Z"
   },
   {
    "duration": 10,
    "start_time": "2022-08-24T14:49:35.836Z"
   },
   {
    "duration": 54,
    "start_time": "2022-08-24T14:49:35.848Z"
   },
   {
    "duration": 26,
    "start_time": "2022-08-24T14:49:35.906Z"
   },
   {
    "duration": 41,
    "start_time": "2022-08-24T14:49:35.935Z"
   },
   {
    "duration": 84,
    "start_time": "2022-08-24T14:55:14.585Z"
   },
   {
    "duration": 10,
    "start_time": "2022-08-24T14:55:14.671Z"
   },
   {
    "duration": 44,
    "start_time": "2022-08-24T14:55:14.682Z"
   },
   {
    "duration": 18,
    "start_time": "2022-08-24T14:55:14.729Z"
   },
   {
    "duration": 59,
    "start_time": "2022-08-24T14:55:14.749Z"
   },
   {
    "duration": 15,
    "start_time": "2022-08-24T14:55:14.813Z"
   },
   {
    "duration": 78,
    "start_time": "2022-08-24T14:55:57.069Z"
   },
   {
    "duration": 8,
    "start_time": "2022-08-24T14:55:57.149Z"
   },
   {
    "duration": 32,
    "start_time": "2022-08-24T14:55:57.159Z"
   },
   {
    "duration": 23,
    "start_time": "2022-08-24T14:55:57.203Z"
   },
   {
    "duration": 46,
    "start_time": "2022-08-24T14:55:57.227Z"
   },
   {
    "duration": 38,
    "start_time": "2022-08-24T14:55:57.274Z"
   },
   {
    "duration": 85,
    "start_time": "2022-08-24T14:56:31.863Z"
   },
   {
    "duration": 9,
    "start_time": "2022-08-24T14:56:31.950Z"
   },
   {
    "duration": 44,
    "start_time": "2022-08-24T14:56:31.961Z"
   },
   {
    "duration": 24,
    "start_time": "2022-08-24T14:56:32.007Z"
   },
   {
    "duration": 41,
    "start_time": "2022-08-24T14:56:32.032Z"
   },
   {
    "duration": 49,
    "start_time": "2022-08-24T14:56:32.074Z"
   },
   {
    "duration": 76,
    "start_time": "2022-08-24T15:10:28.546Z"
   },
   {
    "duration": 10,
    "start_time": "2022-08-24T15:10:28.624Z"
   },
   {
    "duration": 41,
    "start_time": "2022-08-24T15:10:28.637Z"
   },
   {
    "duration": 44,
    "start_time": "2022-08-24T15:10:28.680Z"
   },
   {
    "duration": 41,
    "start_time": "2022-08-24T15:10:28.726Z"
   },
   {
    "duration": 49,
    "start_time": "2022-08-24T15:10:28.769Z"
   },
   {
    "duration": 19,
    "start_time": "2022-08-24T15:10:28.822Z"
   },
   {
    "duration": 72,
    "start_time": "2022-08-24T15:10:59.114Z"
   },
   {
    "duration": 15,
    "start_time": "2022-08-24T15:10:59.189Z"
   },
   {
    "duration": 58,
    "start_time": "2022-08-24T15:10:59.207Z"
   },
   {
    "duration": 19,
    "start_time": "2022-08-24T15:10:59.267Z"
   },
   {
    "duration": 74,
    "start_time": "2022-08-24T15:10:59.288Z"
   },
   {
    "duration": 17,
    "start_time": "2022-08-24T15:10:59.363Z"
   },
   {
    "duration": 27,
    "start_time": "2022-08-24T15:10:59.382Z"
   },
   {
    "duration": 77,
    "start_time": "2022-08-24T15:11:55.117Z"
   },
   {
    "duration": 19,
    "start_time": "2022-08-24T15:11:55.196Z"
   },
   {
    "duration": 35,
    "start_time": "2022-08-24T15:11:55.217Z"
   },
   {
    "duration": 17,
    "start_time": "2022-08-24T15:11:55.253Z"
   },
   {
    "duration": 65,
    "start_time": "2022-08-24T15:11:55.272Z"
   },
   {
    "duration": 19,
    "start_time": "2022-08-24T15:11:55.340Z"
   },
   {
    "duration": 47,
    "start_time": "2022-08-24T15:11:55.361Z"
   },
   {
    "duration": 79,
    "start_time": "2022-08-24T15:12:08.116Z"
   },
   {
    "duration": 19,
    "start_time": "2022-08-24T15:12:08.197Z"
   },
   {
    "duration": 34,
    "start_time": "2022-08-24T15:12:08.218Z"
   },
   {
    "duration": 20,
    "start_time": "2022-08-24T15:12:08.254Z"
   },
   {
    "duration": 67,
    "start_time": "2022-08-24T15:12:08.276Z"
   },
   {
    "duration": 17,
    "start_time": "2022-08-24T15:12:08.344Z"
   },
   {
    "duration": 53,
    "start_time": "2022-08-24T15:12:08.363Z"
   },
   {
    "duration": 76,
    "start_time": "2022-08-24T15:12:17.172Z"
   },
   {
    "duration": 12,
    "start_time": "2022-08-24T15:12:17.250Z"
   },
   {
    "duration": 50,
    "start_time": "2022-08-24T15:12:17.264Z"
   },
   {
    "duration": 20,
    "start_time": "2022-08-24T15:12:17.316Z"
   },
   {
    "duration": 43,
    "start_time": "2022-08-24T15:12:17.338Z"
   },
   {
    "duration": 37,
    "start_time": "2022-08-24T15:12:17.383Z"
   },
   {
    "duration": 16,
    "start_time": "2022-08-24T15:12:17.421Z"
   },
   {
    "duration": 81,
    "start_time": "2022-08-24T15:12:41.141Z"
   },
   {
    "duration": 12,
    "start_time": "2022-08-24T15:12:41.225Z"
   },
   {
    "duration": 31,
    "start_time": "2022-08-24T15:12:41.240Z"
   },
   {
    "duration": 25,
    "start_time": "2022-08-24T15:12:41.302Z"
   },
   {
    "duration": 43,
    "start_time": "2022-08-24T15:12:41.330Z"
   },
   {
    "duration": 29,
    "start_time": "2022-08-24T15:12:41.402Z"
   },
   {
    "duration": 21,
    "start_time": "2022-08-24T15:12:41.434Z"
   },
   {
    "duration": 82,
    "start_time": "2022-08-24T15:12:56.996Z"
   },
   {
    "duration": 9,
    "start_time": "2022-08-24T15:12:57.079Z"
   },
   {
    "duration": 33,
    "start_time": "2022-08-24T15:12:57.090Z"
   },
   {
    "duration": 19,
    "start_time": "2022-08-24T15:12:57.125Z"
   },
   {
    "duration": 65,
    "start_time": "2022-08-24T15:12:57.146Z"
   },
   {
    "duration": 28,
    "start_time": "2022-08-24T15:12:57.212Z"
   },
   {
    "duration": 16,
    "start_time": "2022-08-24T15:12:57.242Z"
   },
   {
    "duration": 559,
    "start_time": "2022-08-25T09:31:02.457Z"
   },
   {
    "duration": 9,
    "start_time": "2022-08-25T09:31:03.018Z"
   },
   {
    "duration": 30,
    "start_time": "2022-08-25T09:31:03.029Z"
   },
   {
    "duration": 19,
    "start_time": "2022-08-25T09:31:03.060Z"
   },
   {
    "duration": 49,
    "start_time": "2022-08-25T09:31:03.080Z"
   },
   {
    "duration": 39,
    "start_time": "2022-08-25T09:31:03.131Z"
   },
   {
    "duration": 423,
    "start_time": "2022-08-25T09:31:03.172Z"
   },
   {
    "duration": 74,
    "start_time": "2022-08-25T09:31:23.319Z"
   },
   {
    "duration": 8,
    "start_time": "2022-08-25T09:31:23.395Z"
   },
   {
    "duration": 30,
    "start_time": "2022-08-25T09:31:23.405Z"
   },
   {
    "duration": 30,
    "start_time": "2022-08-25T09:31:23.437Z"
   },
   {
    "duration": 42,
    "start_time": "2022-08-25T09:31:23.469Z"
   },
   {
    "duration": 16,
    "start_time": "2022-08-25T09:31:23.513Z"
   },
   {
    "duration": 75,
    "start_time": "2022-08-25T09:31:23.531Z"
   },
   {
    "duration": 72,
    "start_time": "2022-08-25T09:33:20.524Z"
   },
   {
    "duration": 9,
    "start_time": "2022-08-25T09:33:20.598Z"
   },
   {
    "duration": 42,
    "start_time": "2022-08-25T09:33:20.609Z"
   },
   {
    "duration": 31,
    "start_time": "2022-08-25T09:33:20.653Z"
   },
   {
    "duration": 60,
    "start_time": "2022-08-25T09:33:20.685Z"
   },
   {
    "duration": 16,
    "start_time": "2022-08-25T09:33:20.746Z"
   },
   {
    "duration": 23,
    "start_time": "2022-08-25T09:33:20.763Z"
   },
   {
    "duration": 74,
    "start_time": "2022-08-25T09:33:43.762Z"
   },
   {
    "duration": 9,
    "start_time": "2022-08-25T09:33:43.837Z"
   },
   {
    "duration": 35,
    "start_time": "2022-08-25T09:33:43.848Z"
   },
   {
    "duration": 19,
    "start_time": "2022-08-25T09:33:43.885Z"
   },
   {
    "duration": 42,
    "start_time": "2022-08-25T09:33:43.906Z"
   },
   {
    "duration": 21,
    "start_time": "2022-08-25T09:33:43.950Z"
   },
   {
    "duration": 315,
    "start_time": "2022-08-25T09:33:43.972Z"
   },
   {
    "duration": 71,
    "start_time": "2022-08-25T09:34:08.241Z"
   },
   {
    "duration": 10,
    "start_time": "2022-08-25T09:34:08.314Z"
   },
   {
    "duration": 38,
    "start_time": "2022-08-25T09:34:08.326Z"
   },
   {
    "duration": 17,
    "start_time": "2022-08-25T09:34:08.367Z"
   },
   {
    "duration": 44,
    "start_time": "2022-08-25T09:34:08.386Z"
   },
   {
    "duration": 35,
    "start_time": "2022-08-25T09:34:08.432Z"
   },
   {
    "duration": 23,
    "start_time": "2022-08-25T09:34:08.469Z"
   },
   {
    "duration": 80,
    "start_time": "2022-08-25T09:34:32.201Z"
   },
   {
    "duration": 11,
    "start_time": "2022-08-25T09:34:32.283Z"
   },
   {
    "duration": 103,
    "start_time": "2022-08-25T09:34:32.296Z"
   },
   {
    "duration": 19,
    "start_time": "2022-08-25T09:34:32.401Z"
   },
   {
    "duration": 68,
    "start_time": "2022-08-25T09:34:32.422Z"
   },
   {
    "duration": 18,
    "start_time": "2022-08-25T09:34:32.493Z"
   },
   {
    "duration": 22,
    "start_time": "2022-08-25T09:34:32.513Z"
   },
   {
    "duration": 78,
    "start_time": "2022-08-25T09:34:39.873Z"
   },
   {
    "duration": 10,
    "start_time": "2022-08-25T09:34:39.954Z"
   },
   {
    "duration": 41,
    "start_time": "2022-08-25T09:34:39.966Z"
   },
   {
    "duration": 19,
    "start_time": "2022-08-25T09:34:40.009Z"
   },
   {
    "duration": 59,
    "start_time": "2022-08-25T09:34:40.030Z"
   },
   {
    "duration": 17,
    "start_time": "2022-08-25T09:34:40.091Z"
   },
   {
    "duration": 80,
    "start_time": "2022-08-25T09:34:40.110Z"
   },
   {
    "duration": 74,
    "start_time": "2022-08-25T09:36:38.751Z"
   },
   {
    "duration": 10,
    "start_time": "2022-08-25T09:36:38.827Z"
   },
   {
    "duration": 28,
    "start_time": "2022-08-25T09:36:38.839Z"
   },
   {
    "duration": 18,
    "start_time": "2022-08-25T09:36:38.869Z"
   },
   {
    "duration": 64,
    "start_time": "2022-08-25T09:36:38.888Z"
   },
   {
    "duration": 21,
    "start_time": "2022-08-25T09:36:38.954Z"
   },
   {
    "duration": 21,
    "start_time": "2022-08-25T09:36:38.977Z"
   },
   {
    "duration": 71,
    "start_time": "2022-08-25T09:36:53.103Z"
   },
   {
    "duration": 8,
    "start_time": "2022-08-25T09:36:53.176Z"
   },
   {
    "duration": 33,
    "start_time": "2022-08-25T09:36:53.186Z"
   },
   {
    "duration": 41,
    "start_time": "2022-08-25T09:36:53.221Z"
   },
   {
    "duration": 47,
    "start_time": "2022-08-25T09:36:53.264Z"
   },
   {
    "duration": 16,
    "start_time": "2022-08-25T09:36:53.313Z"
   },
   {
    "duration": 77,
    "start_time": "2022-08-25T09:36:53.331Z"
   },
   {
    "duration": 73,
    "start_time": "2022-08-25T09:37:48.710Z"
   },
   {
    "duration": 10,
    "start_time": "2022-08-25T09:37:48.786Z"
   },
   {
    "duration": 44,
    "start_time": "2022-08-25T09:37:48.797Z"
   },
   {
    "duration": 23,
    "start_time": "2022-08-25T09:37:48.844Z"
   },
   {
    "duration": 39,
    "start_time": "2022-08-25T09:37:48.869Z"
   },
   {
    "duration": 16,
    "start_time": "2022-08-25T09:37:48.910Z"
   },
   {
    "duration": 43,
    "start_time": "2022-08-25T09:37:48.928Z"
   },
   {
    "duration": 80,
    "start_time": "2022-08-25T09:38:15.529Z"
   },
   {
    "duration": 9,
    "start_time": "2022-08-25T09:38:15.611Z"
   },
   {
    "duration": 38,
    "start_time": "2022-08-25T09:38:15.621Z"
   },
   {
    "duration": 17,
    "start_time": "2022-08-25T09:38:15.662Z"
   },
   {
    "duration": 50,
    "start_time": "2022-08-25T09:38:15.681Z"
   },
   {
    "duration": 22,
    "start_time": "2022-08-25T09:38:15.758Z"
   },
   {
    "duration": 30,
    "start_time": "2022-08-25T09:38:15.782Z"
   },
   {
    "duration": 74,
    "start_time": "2022-08-25T09:43:50.683Z"
   },
   {
    "duration": 10,
    "start_time": "2022-08-25T09:43:50.758Z"
   },
   {
    "duration": 29,
    "start_time": "2022-08-25T09:43:50.770Z"
   },
   {
    "duration": 19,
    "start_time": "2022-08-25T09:43:50.802Z"
   },
   {
    "duration": 65,
    "start_time": "2022-08-25T09:43:50.822Z"
   },
   {
    "duration": 17,
    "start_time": "2022-08-25T09:43:50.889Z"
   },
   {
    "duration": 9,
    "start_time": "2022-08-25T09:43:50.908Z"
   },
   {
    "duration": 75,
    "start_time": "2022-08-25T09:44:28.518Z"
   },
   {
    "duration": 8,
    "start_time": "2022-08-25T09:44:28.595Z"
   },
   {
    "duration": 25,
    "start_time": "2022-08-25T09:44:28.605Z"
   },
   {
    "duration": 36,
    "start_time": "2022-08-25T09:44:28.632Z"
   },
   {
    "duration": 47,
    "start_time": "2022-08-25T09:44:28.669Z"
   },
   {
    "duration": 16,
    "start_time": "2022-08-25T09:44:28.718Z"
   },
   {
    "duration": 33,
    "start_time": "2022-08-25T09:44:28.736Z"
   },
   {
    "duration": 94,
    "start_time": "2022-08-25T09:47:40.421Z"
   },
   {
    "duration": 10,
    "start_time": "2022-08-25T09:47:40.517Z"
   },
   {
    "duration": 36,
    "start_time": "2022-08-25T09:47:40.529Z"
   },
   {
    "duration": 30,
    "start_time": "2022-08-25T09:47:40.567Z"
   },
   {
    "duration": 64,
    "start_time": "2022-08-25T09:47:40.598Z"
   },
   {
    "duration": 25,
    "start_time": "2022-08-25T09:47:40.665Z"
   },
   {
    "duration": 16,
    "start_time": "2022-08-25T09:47:40.692Z"
   },
   {
    "duration": 88,
    "start_time": "2022-08-25T09:47:54.493Z"
   },
   {
    "duration": 14,
    "start_time": "2022-08-25T09:47:54.585Z"
   },
   {
    "duration": 32,
    "start_time": "2022-08-25T09:47:54.601Z"
   },
   {
    "duration": 54,
    "start_time": "2022-08-25T09:47:54.635Z"
   },
   {
    "duration": 40,
    "start_time": "2022-08-25T09:47:54.690Z"
   },
   {
    "duration": 34,
    "start_time": "2022-08-25T09:47:54.732Z"
   },
   {
    "duration": 26,
    "start_time": "2022-08-25T09:47:54.768Z"
   },
   {
    "duration": 88,
    "start_time": "2022-08-25T09:48:16.644Z"
   },
   {
    "duration": 9,
    "start_time": "2022-08-25T09:48:16.734Z"
   },
   {
    "duration": 31,
    "start_time": "2022-08-25T09:48:16.744Z"
   },
   {
    "duration": 24,
    "start_time": "2022-08-25T09:48:16.778Z"
   },
   {
    "duration": 61,
    "start_time": "2022-08-25T09:48:16.804Z"
   },
   {
    "duration": 25,
    "start_time": "2022-08-25T09:48:16.867Z"
   },
   {
    "duration": 15,
    "start_time": "2022-08-25T09:48:16.893Z"
   },
   {
    "duration": 93,
    "start_time": "2022-08-25T09:49:00.625Z"
   },
   {
    "duration": 9,
    "start_time": "2022-08-25T09:49:00.719Z"
   },
   {
    "duration": 65,
    "start_time": "2022-08-25T09:49:00.729Z"
   },
   {
    "duration": 48,
    "start_time": "2022-08-25T09:49:00.796Z"
   },
   {
    "duration": 95,
    "start_time": "2022-08-25T09:49:00.846Z"
   },
   {
    "duration": 16,
    "start_time": "2022-08-25T09:49:00.943Z"
   },
   {
    "duration": 82,
    "start_time": "2022-08-25T09:49:00.961Z"
   },
   {
    "duration": 70,
    "start_time": "2022-08-25T09:52:26.757Z"
   },
   {
    "duration": 9,
    "start_time": "2022-08-25T09:52:26.829Z"
   },
   {
    "duration": 68,
    "start_time": "2022-08-25T09:52:26.839Z"
   },
   {
    "duration": 24,
    "start_time": "2022-08-25T09:52:26.909Z"
   },
   {
    "duration": 57,
    "start_time": "2022-08-25T09:52:26.936Z"
   },
   {
    "duration": 16,
    "start_time": "2022-08-25T09:52:26.995Z"
   },
   {
    "duration": 11,
    "start_time": "2022-08-25T09:52:27.013Z"
   },
   {
    "duration": 87,
    "start_time": "2022-08-25T09:52:35.176Z"
   },
   {
    "duration": 23,
    "start_time": "2022-08-25T09:52:35.266Z"
   },
   {
    "duration": 104,
    "start_time": "2022-08-25T09:52:35.292Z"
   },
   {
    "duration": 29,
    "start_time": "2022-08-25T09:52:35.400Z"
   },
   {
    "duration": 59,
    "start_time": "2022-08-25T09:52:35.432Z"
   },
   {
    "duration": 46,
    "start_time": "2022-08-25T09:52:35.493Z"
   },
   {
    "duration": 22,
    "start_time": "2022-08-25T09:52:35.541Z"
   },
   {
    "duration": 82,
    "start_time": "2022-08-25T09:56:09.003Z"
   },
   {
    "duration": 10,
    "start_time": "2022-08-25T09:56:09.087Z"
   },
   {
    "duration": 30,
    "start_time": "2022-08-25T09:56:09.098Z"
   },
   {
    "duration": 42,
    "start_time": "2022-08-25T09:56:09.131Z"
   },
   {
    "duration": 44,
    "start_time": "2022-08-25T09:56:09.174Z"
   },
   {
    "duration": 20,
    "start_time": "2022-08-25T09:56:09.219Z"
   },
   {
    "duration": 38,
    "start_time": "2022-08-25T09:56:09.241Z"
   },
   {
    "duration": 73,
    "start_time": "2022-08-25T09:56:33.261Z"
   },
   {
    "duration": 10,
    "start_time": "2022-08-25T09:56:33.336Z"
   },
   {
    "duration": 31,
    "start_time": "2022-08-25T09:56:33.348Z"
   },
   {
    "duration": 17,
    "start_time": "2022-08-25T09:56:33.381Z"
   },
   {
    "duration": 44,
    "start_time": "2022-08-25T09:56:33.400Z"
   },
   {
    "duration": 23,
    "start_time": "2022-08-25T09:56:33.446Z"
   },
   {
    "duration": 13,
    "start_time": "2022-08-25T09:56:33.471Z"
   },
   {
    "duration": 72,
    "start_time": "2022-08-25T09:57:22.922Z"
   },
   {
    "duration": 9,
    "start_time": "2022-08-25T09:57:22.996Z"
   },
   {
    "duration": 33,
    "start_time": "2022-08-25T09:57:23.007Z"
   },
   {
    "duration": 18,
    "start_time": "2022-08-25T09:57:23.058Z"
   },
   {
    "duration": 46,
    "start_time": "2022-08-25T09:57:23.077Z"
   },
   {
    "duration": 14,
    "start_time": "2022-08-25T09:57:23.124Z"
   },
   {
    "duration": 44,
    "start_time": "2022-08-25T09:57:23.140Z"
   },
   {
    "duration": 73,
    "start_time": "2022-08-25T09:57:58.075Z"
   },
   {
    "duration": 13,
    "start_time": "2022-08-25T09:57:58.150Z"
   },
   {
    "duration": 36,
    "start_time": "2022-08-25T09:57:58.165Z"
   },
   {
    "duration": 38,
    "start_time": "2022-08-25T09:57:58.203Z"
   },
   {
    "duration": 66,
    "start_time": "2022-08-25T09:57:58.242Z"
   },
   {
    "duration": 15,
    "start_time": "2022-08-25T09:57:58.310Z"
   },
   {
    "duration": 34,
    "start_time": "2022-08-25T09:57:58.326Z"
   },
   {
    "duration": 72,
    "start_time": "2022-08-25T09:58:04.616Z"
   },
   {
    "duration": 9,
    "start_time": "2022-08-25T09:58:04.690Z"
   },
   {
    "duration": 31,
    "start_time": "2022-08-25T09:58:04.700Z"
   },
   {
    "duration": 32,
    "start_time": "2022-08-25T09:58:04.734Z"
   },
   {
    "duration": 44,
    "start_time": "2022-08-25T09:58:04.767Z"
   },
   {
    "duration": 21,
    "start_time": "2022-08-25T09:58:04.812Z"
   },
   {
    "duration": 75,
    "start_time": "2022-08-25T09:58:04.834Z"
   },
   {
    "duration": 75,
    "start_time": "2022-08-25T10:02:00.477Z"
   },
   {
    "duration": 10,
    "start_time": "2022-08-25T10:02:00.554Z"
   },
   {
    "duration": 37,
    "start_time": "2022-08-25T10:02:00.565Z"
   },
   {
    "duration": 17,
    "start_time": "2022-08-25T10:02:00.604Z"
   },
   {
    "duration": 61,
    "start_time": "2022-08-25T10:02:00.623Z"
   },
   {
    "duration": 25,
    "start_time": "2022-08-25T10:02:00.686Z"
   },
   {
    "duration": 32,
    "start_time": "2022-08-25T10:02:00.713Z"
   },
   {
    "duration": 73,
    "start_time": "2022-08-25T10:02:53.858Z"
   },
   {
    "duration": 9,
    "start_time": "2022-08-25T10:02:53.932Z"
   },
   {
    "duration": 29,
    "start_time": "2022-08-25T10:02:53.942Z"
   },
   {
    "duration": 28,
    "start_time": "2022-08-25T10:02:53.974Z"
   },
   {
    "duration": 55,
    "start_time": "2022-08-25T10:02:54.004Z"
   },
   {
    "duration": 15,
    "start_time": "2022-08-25T10:02:54.061Z"
   },
   {
    "duration": 40,
    "start_time": "2022-08-25T10:02:54.078Z"
   },
   {
    "duration": 71,
    "start_time": "2022-08-25T10:21:19.081Z"
   },
   {
    "duration": 9,
    "start_time": "2022-08-25T10:21:19.155Z"
   },
   {
    "duration": 25,
    "start_time": "2022-08-25T10:21:19.165Z"
   },
   {
    "duration": 16,
    "start_time": "2022-08-25T10:21:19.192Z"
   },
   {
    "duration": 65,
    "start_time": "2022-08-25T10:21:19.209Z"
   },
   {
    "duration": 19,
    "start_time": "2022-08-25T10:21:19.276Z"
   },
   {
    "duration": 1759,
    "start_time": "2022-08-25T10:21:19.297Z"
   },
   {
    "duration": 75,
    "start_time": "2022-08-25T10:21:38.908Z"
   },
   {
    "duration": 9,
    "start_time": "2022-08-25T10:21:38.985Z"
   },
   {
    "duration": 26,
    "start_time": "2022-08-25T10:21:38.995Z"
   },
   {
    "duration": 35,
    "start_time": "2022-08-25T10:21:39.022Z"
   },
   {
    "duration": 39,
    "start_time": "2022-08-25T10:21:39.059Z"
   },
   {
    "duration": 15,
    "start_time": "2022-08-25T10:21:39.099Z"
   },
   {
    "duration": 351,
    "start_time": "2022-08-25T10:21:39.115Z"
   },
   {
    "duration": 80,
    "start_time": "2022-08-25T10:22:49.030Z"
   },
   {
    "duration": 12,
    "start_time": "2022-08-25T10:22:49.113Z"
   },
   {
    "duration": 105,
    "start_time": "2022-08-25T10:22:49.127Z"
   },
   {
    "duration": 24,
    "start_time": "2022-08-25T10:22:49.235Z"
   },
   {
    "duration": 53,
    "start_time": "2022-08-25T10:22:49.262Z"
   },
   {
    "duration": 16,
    "start_time": "2022-08-25T10:22:49.317Z"
   },
   {
    "duration": 279,
    "start_time": "2022-08-25T10:22:49.334Z"
   },
   {
    "duration": 84,
    "start_time": "2022-08-25T10:23:29.986Z"
   },
   {
    "duration": 10,
    "start_time": "2022-08-25T10:23:30.072Z"
   },
   {
    "duration": 29,
    "start_time": "2022-08-25T10:23:30.084Z"
   },
   {
    "duration": 19,
    "start_time": "2022-08-25T10:23:30.115Z"
   },
   {
    "duration": 40,
    "start_time": "2022-08-25T10:23:30.158Z"
   },
   {
    "duration": 18,
    "start_time": "2022-08-25T10:23:30.200Z"
   },
   {
    "duration": 370,
    "start_time": "2022-08-25T10:23:30.219Z"
   },
   {
    "duration": 76,
    "start_time": "2022-08-25T10:23:39.157Z"
   },
   {
    "duration": 12,
    "start_time": "2022-08-25T10:23:39.235Z"
   },
   {
    "duration": 33,
    "start_time": "2022-08-25T10:23:39.249Z"
   },
   {
    "duration": 26,
    "start_time": "2022-08-25T10:23:39.284Z"
   },
   {
    "duration": 64,
    "start_time": "2022-08-25T10:23:39.312Z"
   },
   {
    "duration": 14,
    "start_time": "2022-08-25T10:23:39.377Z"
   },
   {
    "duration": 284,
    "start_time": "2022-08-25T10:23:39.393Z"
   },
   {
    "duration": 73,
    "start_time": "2022-08-25T10:23:51.128Z"
   },
   {
    "duration": 9,
    "start_time": "2022-08-25T10:23:51.202Z"
   },
   {
    "duration": 45,
    "start_time": "2022-08-25T10:23:51.213Z"
   },
   {
    "duration": 23,
    "start_time": "2022-08-25T10:23:51.260Z"
   },
   {
    "duration": 59,
    "start_time": "2022-08-25T10:23:51.285Z"
   },
   {
    "duration": 16,
    "start_time": "2022-08-25T10:23:51.346Z"
   },
   {
    "duration": 285,
    "start_time": "2022-08-25T10:23:51.364Z"
   },
   {
    "duration": 74,
    "start_time": "2022-08-25T10:24:50.664Z"
   },
   {
    "duration": 9,
    "start_time": "2022-08-25T10:24:50.739Z"
   },
   {
    "duration": 36,
    "start_time": "2022-08-25T10:24:50.750Z"
   },
   {
    "duration": 18,
    "start_time": "2022-08-25T10:24:50.788Z"
   },
   {
    "duration": 81,
    "start_time": "2022-08-25T10:24:50.808Z"
   },
   {
    "duration": 16,
    "start_time": "2022-08-25T10:24:50.891Z"
   },
   {
    "duration": 157,
    "start_time": "2022-08-25T10:24:50.909Z"
   },
   {
    "duration": 72,
    "start_time": "2022-08-25T10:25:00.238Z"
   },
   {
    "duration": 9,
    "start_time": "2022-08-25T10:25:00.312Z"
   },
   {
    "duration": 60,
    "start_time": "2022-08-25T10:25:00.323Z"
   },
   {
    "duration": 17,
    "start_time": "2022-08-25T10:25:00.384Z"
   },
   {
    "duration": 62,
    "start_time": "2022-08-25T10:25:00.403Z"
   },
   {
    "duration": 14,
    "start_time": "2022-08-25T10:25:00.467Z"
   },
   {
    "duration": 262,
    "start_time": "2022-08-25T10:25:00.482Z"
   },
   {
    "duration": 73,
    "start_time": "2022-08-25T10:27:19.450Z"
   },
   {
    "duration": 9,
    "start_time": "2022-08-25T10:27:19.525Z"
   },
   {
    "duration": 30,
    "start_time": "2022-08-25T10:27:19.535Z"
   },
   {
    "duration": 17,
    "start_time": "2022-08-25T10:27:19.568Z"
   },
   {
    "duration": 41,
    "start_time": "2022-08-25T10:27:19.587Z"
   },
   {
    "duration": 32,
    "start_time": "2022-08-25T10:27:19.630Z"
   },
   {
    "duration": 257,
    "start_time": "2022-08-25T10:27:19.663Z"
   },
   {
    "duration": 75,
    "start_time": "2022-08-25T10:30:01.045Z"
   },
   {
    "duration": 9,
    "start_time": "2022-08-25T10:30:01.122Z"
   },
   {
    "duration": 41,
    "start_time": "2022-08-25T10:30:01.133Z"
   },
   {
    "duration": 27,
    "start_time": "2022-08-25T10:30:01.177Z"
   },
   {
    "duration": 72,
    "start_time": "2022-08-25T10:30:01.205Z"
   },
   {
    "duration": 16,
    "start_time": "2022-08-25T10:30:01.280Z"
   },
   {
    "duration": 286,
    "start_time": "2022-08-25T10:30:01.297Z"
   },
   {
    "duration": 76,
    "start_time": "2022-08-25T10:30:10.345Z"
   },
   {
    "duration": 10,
    "start_time": "2022-08-25T10:30:10.424Z"
   },
   {
    "duration": 32,
    "start_time": "2022-08-25T10:30:10.436Z"
   },
   {
    "duration": 19,
    "start_time": "2022-08-25T10:30:10.470Z"
   },
   {
    "duration": 49,
    "start_time": "2022-08-25T10:30:10.491Z"
   },
   {
    "duration": 29,
    "start_time": "2022-08-25T10:30:10.542Z"
   },
   {
    "duration": 256,
    "start_time": "2022-08-25T10:30:10.573Z"
   },
   {
    "duration": 73,
    "start_time": "2022-08-25T10:30:18.619Z"
   },
   {
    "duration": 10,
    "start_time": "2022-08-25T10:30:18.694Z"
   },
   {
    "duration": 25,
    "start_time": "2022-08-25T10:30:18.706Z"
   },
   {
    "duration": 19,
    "start_time": "2022-08-25T10:30:18.758Z"
   },
   {
    "duration": 45,
    "start_time": "2022-08-25T10:30:18.778Z"
   },
   {
    "duration": 13,
    "start_time": "2022-08-25T10:30:18.825Z"
   },
   {
    "duration": 259,
    "start_time": "2022-08-25T10:30:18.840Z"
   },
   {
    "duration": 110,
    "start_time": "2022-08-25T10:37:56.938Z"
   },
   {
    "duration": 3,
    "start_time": "2022-08-25T11:03:44.970Z"
   },
   {
    "duration": 71,
    "start_time": "2022-08-25T11:07:55.893Z"
   },
   {
    "duration": 9,
    "start_time": "2022-08-25T11:07:55.966Z"
   },
   {
    "duration": 30,
    "start_time": "2022-08-25T11:07:55.976Z"
   },
   {
    "duration": 18,
    "start_time": "2022-08-25T11:07:56.008Z"
   },
   {
    "duration": 57,
    "start_time": "2022-08-25T11:07:56.028Z"
   },
   {
    "duration": 15,
    "start_time": "2022-08-25T11:07:56.086Z"
   },
   {
    "duration": 565,
    "start_time": "2022-08-25T11:07:56.103Z"
   },
   {
    "duration": 76,
    "start_time": "2022-08-25T11:09:44.157Z"
   },
   {
    "duration": 10,
    "start_time": "2022-08-25T11:09:44.234Z"
   },
   {
    "duration": 31,
    "start_time": "2022-08-25T11:09:44.245Z"
   },
   {
    "duration": 21,
    "start_time": "2022-08-25T11:09:44.279Z"
   },
   {
    "duration": 53,
    "start_time": "2022-08-25T11:09:44.302Z"
   },
   {
    "duration": 15,
    "start_time": "2022-08-25T11:09:44.357Z"
   },
   {
    "duration": 270,
    "start_time": "2022-08-25T11:09:44.373Z"
   },
   {
    "duration": 249,
    "start_time": "2022-08-25T11:09:44.645Z"
   },
   {
    "duration": 85,
    "start_time": "2022-08-25T11:12:27.289Z"
   },
   {
    "duration": 10,
    "start_time": "2022-08-25T11:12:27.376Z"
   },
   {
    "duration": 30,
    "start_time": "2022-08-25T11:12:27.387Z"
   },
   {
    "duration": 46,
    "start_time": "2022-08-25T11:12:27.420Z"
   },
   {
    "duration": 50,
    "start_time": "2022-08-25T11:12:27.468Z"
   },
   {
    "duration": 16,
    "start_time": "2022-08-25T11:12:27.520Z"
   },
   {
    "duration": 306,
    "start_time": "2022-08-25T11:12:27.538Z"
   },
   {
    "duration": 258,
    "start_time": "2022-08-25T11:12:27.846Z"
   },
   {
    "duration": 72,
    "start_time": "2022-08-25T11:13:21.710Z"
   },
   {
    "duration": 8,
    "start_time": "2022-08-25T11:13:21.784Z"
   },
   {
    "duration": 39,
    "start_time": "2022-08-25T11:13:21.794Z"
   },
   {
    "duration": 29,
    "start_time": "2022-08-25T11:13:21.835Z"
   },
   {
    "duration": 68,
    "start_time": "2022-08-25T11:13:21.866Z"
   },
   {
    "duration": 14,
    "start_time": "2022-08-25T11:13:21.936Z"
   },
   {
    "duration": 255,
    "start_time": "2022-08-25T11:13:21.952Z"
   },
   {
    "duration": 250,
    "start_time": "2022-08-25T11:13:22.209Z"
   },
   {
    "duration": 75,
    "start_time": "2022-08-25T11:13:31.246Z"
   },
   {
    "duration": 10,
    "start_time": "2022-08-25T11:13:31.323Z"
   },
   {
    "duration": 30,
    "start_time": "2022-08-25T11:13:31.334Z"
   },
   {
    "duration": 17,
    "start_time": "2022-08-25T11:13:31.366Z"
   },
   {
    "duration": 62,
    "start_time": "2022-08-25T11:13:31.385Z"
   },
   {
    "duration": 42,
    "start_time": "2022-08-25T11:13:31.448Z"
   },
   {
    "duration": 265,
    "start_time": "2022-08-25T11:13:31.492Z"
   },
   {
    "duration": 258,
    "start_time": "2022-08-25T11:13:31.759Z"
   },
   {
    "duration": 71,
    "start_time": "2022-08-25T11:13:44.448Z"
   },
   {
    "duration": 8,
    "start_time": "2022-08-25T11:13:44.521Z"
   },
   {
    "duration": 28,
    "start_time": "2022-08-25T11:13:44.531Z"
   },
   {
    "duration": 22,
    "start_time": "2022-08-25T11:13:44.561Z"
   },
   {
    "duration": 50,
    "start_time": "2022-08-25T11:13:44.585Z"
   },
   {
    "duration": 20,
    "start_time": "2022-08-25T11:13:44.637Z"
   },
   {
    "duration": 260,
    "start_time": "2022-08-25T11:13:44.659Z"
   },
   {
    "duration": 280,
    "start_time": "2022-08-25T11:13:44.921Z"
   },
   {
    "duration": 73,
    "start_time": "2022-08-25T11:14:50.097Z"
   },
   {
    "duration": 9,
    "start_time": "2022-08-25T11:14:50.172Z"
   },
   {
    "duration": 128,
    "start_time": "2022-08-25T11:14:50.183Z"
   },
   {
    "duration": 17,
    "start_time": "2022-08-25T11:14:50.313Z"
   },
   {
    "duration": 52,
    "start_time": "2022-08-25T11:14:50.332Z"
   },
   {
    "duration": 15,
    "start_time": "2022-08-25T11:14:50.386Z"
   },
   {
    "duration": 275,
    "start_time": "2022-08-25T11:14:50.403Z"
   },
   {
    "duration": 1096,
    "start_time": "2022-08-25T11:14:50.679Z"
   },
   {
    "duration": 72,
    "start_time": "2022-08-25T11:15:10.643Z"
   },
   {
    "duration": 8,
    "start_time": "2022-08-25T11:15:10.717Z"
   },
   {
    "duration": 54,
    "start_time": "2022-08-25T11:15:10.727Z"
   },
   {
    "duration": 23,
    "start_time": "2022-08-25T11:15:10.783Z"
   },
   {
    "duration": 60,
    "start_time": "2022-08-25T11:15:10.808Z"
   },
   {
    "duration": 15,
    "start_time": "2022-08-25T11:15:10.869Z"
   },
   {
    "duration": 265,
    "start_time": "2022-08-25T11:15:10.885Z"
   },
   {
    "duration": 669,
    "start_time": "2022-08-25T11:15:11.152Z"
   },
   {
    "duration": 74,
    "start_time": "2022-08-25T11:15:24.225Z"
   },
   {
    "duration": 14,
    "start_time": "2022-08-25T11:15:24.301Z"
   },
   {
    "duration": 55,
    "start_time": "2022-08-25T11:15:24.317Z"
   },
   {
    "duration": 22,
    "start_time": "2022-08-25T11:15:24.374Z"
   },
   {
    "duration": 83,
    "start_time": "2022-08-25T11:15:24.397Z"
   },
   {
    "duration": 15,
    "start_time": "2022-08-25T11:15:24.482Z"
   },
   {
    "duration": 271,
    "start_time": "2022-08-25T11:15:24.499Z"
   },
   {
    "duration": 257,
    "start_time": "2022-08-25T11:15:24.772Z"
   },
   {
    "duration": 73,
    "start_time": "2022-08-25T11:15:37.348Z"
   },
   {
    "duration": 9,
    "start_time": "2022-08-25T11:15:37.423Z"
   },
   {
    "duration": 27,
    "start_time": "2022-08-25T11:15:37.433Z"
   },
   {
    "duration": 17,
    "start_time": "2022-08-25T11:15:37.462Z"
   },
   {
    "duration": 38,
    "start_time": "2022-08-25T11:15:37.481Z"
   },
   {
    "duration": 14,
    "start_time": "2022-08-25T11:15:37.521Z"
   },
   {
    "duration": 272,
    "start_time": "2022-08-25T11:15:37.537Z"
   },
   {
    "duration": 261,
    "start_time": "2022-08-25T11:15:37.811Z"
   },
   {
    "duration": 74,
    "start_time": "2022-08-25T11:17:24.626Z"
   },
   {
    "duration": 9,
    "start_time": "2022-08-25T11:17:24.702Z"
   },
   {
    "duration": 29,
    "start_time": "2022-08-25T11:17:24.713Z"
   },
   {
    "duration": 17,
    "start_time": "2022-08-25T11:17:24.756Z"
   },
   {
    "duration": 49,
    "start_time": "2022-08-25T11:17:24.774Z"
   },
   {
    "duration": 14,
    "start_time": "2022-08-25T11:17:24.824Z"
   },
   {
    "duration": 267,
    "start_time": "2022-08-25T11:17:24.840Z"
   },
   {
    "duration": 25,
    "start_time": "2022-08-25T11:17:25.109Z"
   },
   {
    "duration": 75,
    "start_time": "2022-08-25T11:20:11.833Z"
   },
   {
    "duration": 9,
    "start_time": "2022-08-25T11:20:11.910Z"
   },
   {
    "duration": 42,
    "start_time": "2022-08-25T11:20:11.920Z"
   },
   {
    "duration": 18,
    "start_time": "2022-08-25T11:20:11.964Z"
   },
   {
    "duration": 40,
    "start_time": "2022-08-25T11:20:11.984Z"
   },
   {
    "duration": 33,
    "start_time": "2022-08-25T11:20:12.025Z"
   },
   {
    "duration": 255,
    "start_time": "2022-08-25T11:20:12.059Z"
   },
   {
    "duration": 14,
    "start_time": "2022-08-25T11:20:12.315Z"
   },
   {
    "duration": 72,
    "start_time": "2022-08-25T11:20:47.772Z"
   },
   {
    "duration": 9,
    "start_time": "2022-08-25T11:20:47.845Z"
   },
   {
    "duration": 24,
    "start_time": "2022-08-25T11:20:47.856Z"
   },
   {
    "duration": 18,
    "start_time": "2022-08-25T11:20:47.882Z"
   },
   {
    "duration": 56,
    "start_time": "2022-08-25T11:20:47.902Z"
   },
   {
    "duration": 15,
    "start_time": "2022-08-25T11:20:47.960Z"
   },
   {
    "duration": 257,
    "start_time": "2022-08-25T11:20:47.976Z"
   },
   {
    "duration": 402,
    "start_time": "2022-08-25T11:20:48.235Z"
   },
   {
    "duration": 71,
    "start_time": "2022-08-25T11:22:28.640Z"
   },
   {
    "duration": 9,
    "start_time": "2022-08-25T11:22:28.713Z"
   },
   {
    "duration": 77,
    "start_time": "2022-08-25T11:22:28.724Z"
   },
   {
    "duration": 19,
    "start_time": "2022-08-25T11:22:28.803Z"
   },
   {
    "duration": 39,
    "start_time": "2022-08-25T11:22:28.824Z"
   },
   {
    "duration": 15,
    "start_time": "2022-08-25T11:22:28.865Z"
   },
   {
    "duration": 262,
    "start_time": "2022-08-25T11:22:28.882Z"
   },
   {
    "duration": 295,
    "start_time": "2022-08-25T11:22:29.145Z"
   },
   {
    "duration": 82,
    "start_time": "2022-08-25T11:23:43.270Z"
   },
   {
    "duration": 9,
    "start_time": "2022-08-25T11:23:43.354Z"
   },
   {
    "duration": 26,
    "start_time": "2022-08-25T11:23:43.364Z"
   },
   {
    "duration": 17,
    "start_time": "2022-08-25T11:23:43.392Z"
   },
   {
    "duration": 54,
    "start_time": "2022-08-25T11:23:43.411Z"
   },
   {
    "duration": 14,
    "start_time": "2022-08-25T11:23:43.466Z"
   },
   {
    "duration": 264,
    "start_time": "2022-08-25T11:23:43.482Z"
   },
   {
    "duration": 274,
    "start_time": "2022-08-25T11:23:43.747Z"
   },
   {
    "duration": 72,
    "start_time": "2022-08-25T11:24:47.401Z"
   },
   {
    "duration": 9,
    "start_time": "2022-08-25T11:24:47.475Z"
   },
   {
    "duration": 55,
    "start_time": "2022-08-25T11:24:47.485Z"
   },
   {
    "duration": 17,
    "start_time": "2022-08-25T11:24:47.542Z"
   },
   {
    "duration": 38,
    "start_time": "2022-08-25T11:24:47.561Z"
   },
   {
    "duration": 15,
    "start_time": "2022-08-25T11:24:47.600Z"
   },
   {
    "duration": 262,
    "start_time": "2022-08-25T11:24:47.616Z"
   },
   {
    "duration": 254,
    "start_time": "2022-08-25T11:24:47.879Z"
   },
   {
    "duration": 70,
    "start_time": "2022-08-25T11:24:58.610Z"
   },
   {
    "duration": 9,
    "start_time": "2022-08-25T11:24:58.682Z"
   },
   {
    "duration": 27,
    "start_time": "2022-08-25T11:24:58.693Z"
   },
   {
    "duration": 36,
    "start_time": "2022-08-25T11:24:58.722Z"
   },
   {
    "duration": 38,
    "start_time": "2022-08-25T11:24:58.759Z"
   },
   {
    "duration": 15,
    "start_time": "2022-08-25T11:24:58.798Z"
   },
   {
    "duration": 269,
    "start_time": "2022-08-25T11:24:58.815Z"
   },
   {
    "duration": 266,
    "start_time": "2022-08-25T11:24:59.085Z"
   },
   {
    "duration": 71,
    "start_time": "2022-08-25T11:27:56.786Z"
   },
   {
    "duration": 9,
    "start_time": "2022-08-25T11:27:56.860Z"
   },
   {
    "duration": 26,
    "start_time": "2022-08-25T11:27:56.871Z"
   },
   {
    "duration": 19,
    "start_time": "2022-08-25T11:27:56.899Z"
   },
   {
    "duration": 72,
    "start_time": "2022-08-25T11:27:56.919Z"
   },
   {
    "duration": 16,
    "start_time": "2022-08-25T11:27:56.993Z"
   },
   {
    "duration": 271,
    "start_time": "2022-08-25T11:27:57.010Z"
   },
   {
    "duration": 274,
    "start_time": "2022-08-25T11:27:57.283Z"
   },
   {
    "duration": 627,
    "start_time": "2022-08-25T11:38:50.653Z"
   },
   {
    "duration": 9,
    "start_time": "2022-08-25T11:38:51.282Z"
   },
   {
    "duration": 25,
    "start_time": "2022-08-25T11:38:51.293Z"
   },
   {
    "duration": 18,
    "start_time": "2022-08-25T11:38:51.320Z"
   },
   {
    "duration": 60,
    "start_time": "2022-08-25T11:38:51.339Z"
   },
   {
    "duration": 16,
    "start_time": "2022-08-25T11:38:51.400Z"
   },
   {
    "duration": 280,
    "start_time": "2022-08-25T11:38:51.418Z"
   },
   {
    "duration": 260,
    "start_time": "2022-08-25T11:38:51.700Z"
   },
   {
    "duration": 38,
    "start_time": "2022-08-25T11:38:51.962Z"
   },
   {
    "duration": 74,
    "start_time": "2022-08-25T11:39:03.282Z"
   },
   {
    "duration": 10,
    "start_time": "2022-08-25T11:39:03.358Z"
   },
   {
    "duration": 30,
    "start_time": "2022-08-25T11:39:03.370Z"
   },
   {
    "duration": 19,
    "start_time": "2022-08-25T11:39:03.402Z"
   },
   {
    "duration": 62,
    "start_time": "2022-08-25T11:39:03.423Z"
   },
   {
    "duration": 16,
    "start_time": "2022-08-25T11:39:03.487Z"
   },
   {
    "duration": 277,
    "start_time": "2022-08-25T11:39:03.504Z"
   },
   {
    "duration": 277,
    "start_time": "2022-08-25T11:39:03.783Z"
   },
   {
    "duration": 12,
    "start_time": "2022-08-25T11:39:04.061Z"
   },
   {
    "duration": 71,
    "start_time": "2022-08-25T11:39:16.617Z"
   },
   {
    "duration": 8,
    "start_time": "2022-08-25T11:39:16.690Z"
   },
   {
    "duration": 25,
    "start_time": "2022-08-25T11:39:16.700Z"
   },
   {
    "duration": 39,
    "start_time": "2022-08-25T11:39:16.728Z"
   },
   {
    "duration": 40,
    "start_time": "2022-08-25T11:39:16.768Z"
   },
   {
    "duration": 16,
    "start_time": "2022-08-25T11:39:16.810Z"
   },
   {
    "duration": 272,
    "start_time": "2022-08-25T11:39:16.828Z"
   },
   {
    "duration": 281,
    "start_time": "2022-08-25T11:39:17.102Z"
   },
   {
    "duration": 11,
    "start_time": "2022-08-25T11:39:17.384Z"
   },
   {
    "duration": 69,
    "start_time": "2022-08-25T11:39:28.699Z"
   },
   {
    "duration": 8,
    "start_time": "2022-08-25T11:39:28.770Z"
   },
   {
    "duration": 31,
    "start_time": "2022-08-25T11:39:28.779Z"
   },
   {
    "duration": 20,
    "start_time": "2022-08-25T11:39:28.812Z"
   },
   {
    "duration": 50,
    "start_time": "2022-08-25T11:39:28.834Z"
   },
   {
    "duration": 14,
    "start_time": "2022-08-25T11:39:28.886Z"
   },
   {
    "duration": 285,
    "start_time": "2022-08-25T11:39:28.901Z"
   },
   {
    "duration": 272,
    "start_time": "2022-08-25T11:39:29.188Z"
   },
   {
    "duration": 346,
    "start_time": "2022-08-25T11:39:29.461Z"
   },
   {
    "duration": 73,
    "start_time": "2022-08-25T11:40:05.473Z"
   },
   {
    "duration": 9,
    "start_time": "2022-08-25T11:40:05.547Z"
   },
   {
    "duration": 31,
    "start_time": "2022-08-25T11:40:05.558Z"
   },
   {
    "duration": 27,
    "start_time": "2022-08-25T11:40:05.591Z"
   },
   {
    "duration": 67,
    "start_time": "2022-08-25T11:40:05.620Z"
   },
   {
    "duration": 16,
    "start_time": "2022-08-25T11:40:05.689Z"
   },
   {
    "duration": 289,
    "start_time": "2022-08-25T11:40:05.707Z"
   },
   {
    "duration": 285,
    "start_time": "2022-08-25T11:40:05.998Z"
   },
   {
    "duration": 212,
    "start_time": "2022-08-25T11:40:06.285Z"
   },
   {
    "duration": 72,
    "start_time": "2022-08-25T11:40:13.026Z"
   },
   {
    "duration": 9,
    "start_time": "2022-08-25T11:40:13.100Z"
   },
   {
    "duration": 84,
    "start_time": "2022-08-25T11:40:13.110Z"
   },
   {
    "duration": 90,
    "start_time": "2022-08-25T11:40:13.196Z"
   },
   {
    "duration": 118,
    "start_time": "2022-08-25T11:40:13.289Z"
   },
   {
    "duration": 43,
    "start_time": "2022-08-25T11:40:13.409Z"
   },
   {
    "duration": 342,
    "start_time": "2022-08-25T11:40:13.454Z"
   },
   {
    "duration": 258,
    "start_time": "2022-08-25T11:40:13.797Z"
   },
   {
    "duration": 4,
    "start_time": "2022-08-25T11:40:14.057Z"
   },
   {
    "duration": 74,
    "start_time": "2022-08-25T11:41:01.674Z"
   },
   {
    "duration": 9,
    "start_time": "2022-08-25T11:41:01.750Z"
   },
   {
    "duration": 82,
    "start_time": "2022-08-25T11:41:01.761Z"
   },
   {
    "duration": 18,
    "start_time": "2022-08-25T11:41:01.845Z"
   },
   {
    "duration": 95,
    "start_time": "2022-08-25T11:41:01.865Z"
   },
   {
    "duration": 24,
    "start_time": "2022-08-25T11:41:01.962Z"
   },
   {
    "duration": 265,
    "start_time": "2022-08-25T11:41:01.988Z"
   },
   {
    "duration": 269,
    "start_time": "2022-08-25T11:41:02.255Z"
   },
   {
    "duration": 293,
    "start_time": "2022-08-25T11:41:02.526Z"
   },
   {
    "duration": 70,
    "start_time": "2022-08-25T11:42:53.866Z"
   },
   {
    "duration": 9,
    "start_time": "2022-08-25T11:42:53.938Z"
   },
   {
    "duration": 36,
    "start_time": "2022-08-25T11:42:53.948Z"
   },
   {
    "duration": 17,
    "start_time": "2022-08-25T11:42:53.987Z"
   },
   {
    "duration": 60,
    "start_time": "2022-08-25T11:42:54.006Z"
   },
   {
    "duration": 15,
    "start_time": "2022-08-25T11:42:54.067Z"
   },
   {
    "duration": 274,
    "start_time": "2022-08-25T11:42:54.083Z"
   },
   {
    "duration": 262,
    "start_time": "2022-08-25T11:42:54.359Z"
   },
   {
    "duration": 2063,
    "start_time": "2022-08-25T11:42:54.622Z"
   },
   {
    "duration": 71,
    "start_time": "2022-08-25T11:43:34.667Z"
   },
   {
    "duration": 8,
    "start_time": "2022-08-25T11:43:34.740Z"
   },
   {
    "duration": 27,
    "start_time": "2022-08-25T11:43:34.749Z"
   },
   {
    "duration": 18,
    "start_time": "2022-08-25T11:43:34.778Z"
   },
   {
    "duration": 42,
    "start_time": "2022-08-25T11:43:34.797Z"
   },
   {
    "duration": 28,
    "start_time": "2022-08-25T11:43:34.840Z"
   },
   {
    "duration": 263,
    "start_time": "2022-08-25T11:43:34.869Z"
   },
   {
    "duration": 335,
    "start_time": "2022-08-25T11:43:35.134Z"
   },
   {
    "duration": 1626,
    "start_time": "2022-08-25T11:43:35.471Z"
   },
   {
    "duration": 72,
    "start_time": "2022-08-25T11:44:01.585Z"
   },
   {
    "duration": 9,
    "start_time": "2022-08-25T11:44:01.660Z"
   },
   {
    "duration": 39,
    "start_time": "2022-08-25T11:44:01.671Z"
   },
   {
    "duration": 17,
    "start_time": "2022-08-25T11:44:01.713Z"
   },
   {
    "duration": 51,
    "start_time": "2022-08-25T11:44:01.731Z"
   },
   {
    "duration": 15,
    "start_time": "2022-08-25T11:44:01.784Z"
   },
   {
    "duration": 267,
    "start_time": "2022-08-25T11:44:01.801Z"
   },
   {
    "duration": 303,
    "start_time": "2022-08-25T11:44:02.069Z"
   },
   {
    "duration": 6,
    "start_time": "2022-08-25T11:44:02.374Z"
   },
   {
    "duration": 72,
    "start_time": "2022-08-25T11:44:52.851Z"
   },
   {
    "duration": 10,
    "start_time": "2022-08-25T11:44:52.925Z"
   },
   {
    "duration": 36,
    "start_time": "2022-08-25T11:44:52.936Z"
   },
   {
    "duration": 19,
    "start_time": "2022-08-25T11:44:52.975Z"
   },
   {
    "duration": 47,
    "start_time": "2022-08-25T11:44:52.995Z"
   },
   {
    "duration": 27,
    "start_time": "2022-08-25T11:44:53.044Z"
   },
   {
    "duration": 278,
    "start_time": "2022-08-25T11:44:53.073Z"
   },
   {
    "duration": 425,
    "start_time": "2022-08-25T11:44:53.357Z"
   },
   {
    "duration": 14,
    "start_time": "2022-08-25T11:44:53.783Z"
   },
   {
    "duration": 73,
    "start_time": "2022-08-25T11:46:09.227Z"
   },
   {
    "duration": 10,
    "start_time": "2022-08-25T11:46:09.302Z"
   },
   {
    "duration": 59,
    "start_time": "2022-08-25T11:46:09.314Z"
   },
   {
    "duration": 28,
    "start_time": "2022-08-25T11:46:09.377Z"
   },
   {
    "duration": 53,
    "start_time": "2022-08-25T11:46:09.407Z"
   },
   {
    "duration": 16,
    "start_time": "2022-08-25T11:46:09.462Z"
   },
   {
    "duration": 285,
    "start_time": "2022-08-25T11:46:09.479Z"
   },
   {
    "duration": 305,
    "start_time": "2022-08-25T11:46:09.766Z"
   },
   {
    "duration": 13,
    "start_time": "2022-08-25T11:46:10.073Z"
   },
   {
    "duration": 74,
    "start_time": "2022-08-25T11:51:06.827Z"
   },
   {
    "duration": 9,
    "start_time": "2022-08-25T11:51:06.903Z"
   },
   {
    "duration": 29,
    "start_time": "2022-08-25T11:51:06.913Z"
   },
   {
    "duration": 19,
    "start_time": "2022-08-25T11:51:06.956Z"
   },
   {
    "duration": 46,
    "start_time": "2022-08-25T11:51:06.977Z"
   },
   {
    "duration": 16,
    "start_time": "2022-08-25T11:51:07.025Z"
   },
   {
    "duration": 309,
    "start_time": "2022-08-25T11:51:07.056Z"
   },
   {
    "duration": 286,
    "start_time": "2022-08-25T11:51:07.366Z"
   },
   {
    "duration": 192,
    "start_time": "2022-08-25T11:51:07.657Z"
   },
   {
    "duration": 90,
    "start_time": "2022-08-25T11:52:18.716Z"
   },
   {
    "duration": 9,
    "start_time": "2022-08-25T11:52:18.808Z"
   },
   {
    "duration": 43,
    "start_time": "2022-08-25T11:52:18.818Z"
   },
   {
    "duration": 16,
    "start_time": "2022-08-25T11:52:18.864Z"
   },
   {
    "duration": 44,
    "start_time": "2022-08-25T11:52:18.882Z"
   },
   {
    "duration": 39,
    "start_time": "2022-08-25T11:52:18.928Z"
   },
   {
    "duration": 270,
    "start_time": "2022-08-25T11:52:18.969Z"
   },
   {
    "duration": 277,
    "start_time": "2022-08-25T11:52:19.241Z"
   },
   {
    "duration": 2252,
    "start_time": "2022-08-25T11:52:19.519Z"
   },
   {
    "duration": 71,
    "start_time": "2022-08-25T11:52:46.998Z"
   },
   {
    "duration": 9,
    "start_time": "2022-08-25T11:52:47.070Z"
   },
   {
    "duration": 25,
    "start_time": "2022-08-25T11:52:47.080Z"
   },
   {
    "duration": 22,
    "start_time": "2022-08-25T11:52:47.107Z"
   },
   {
    "duration": 63,
    "start_time": "2022-08-25T11:52:47.131Z"
   },
   {
    "duration": 14,
    "start_time": "2022-08-25T11:52:47.196Z"
   },
   {
    "duration": 266,
    "start_time": "2022-08-25T11:52:47.211Z"
   },
   {
    "duration": 266,
    "start_time": "2022-08-25T11:52:47.478Z"
   },
   {
    "duration": 187,
    "start_time": "2022-08-25T11:52:47.746Z"
   },
   {
    "duration": 70,
    "start_time": "2022-08-25T11:53:49.605Z"
   },
   {
    "duration": 8,
    "start_time": "2022-08-25T11:53:49.676Z"
   },
   {
    "duration": 34,
    "start_time": "2022-08-25T11:53:49.686Z"
   },
   {
    "duration": 23,
    "start_time": "2022-08-25T11:53:49.722Z"
   },
   {
    "duration": 66,
    "start_time": "2022-08-25T11:53:49.747Z"
   },
   {
    "duration": 15,
    "start_time": "2022-08-25T11:53:49.815Z"
   },
   {
    "duration": 269,
    "start_time": "2022-08-25T11:53:49.832Z"
   },
   {
    "duration": 297,
    "start_time": "2022-08-25T11:53:50.103Z"
   },
   {
    "duration": 9,
    "start_time": "2022-08-25T11:53:50.402Z"
   },
   {
    "duration": 74,
    "start_time": "2022-08-25T11:54:06.646Z"
   },
   {
    "duration": 11,
    "start_time": "2022-08-25T11:54:06.723Z"
   },
   {
    "duration": 36,
    "start_time": "2022-08-25T11:54:06.736Z"
   },
   {
    "duration": 27,
    "start_time": "2022-08-25T11:54:06.774Z"
   },
   {
    "duration": 56,
    "start_time": "2022-08-25T11:54:06.802Z"
   },
   {
    "duration": 17,
    "start_time": "2022-08-25T11:54:06.860Z"
   },
   {
    "duration": 299,
    "start_time": "2022-08-25T11:54:06.879Z"
   },
   {
    "duration": 312,
    "start_time": "2022-08-25T11:54:07.180Z"
   },
   {
    "duration": 1184,
    "start_time": "2022-08-25T11:54:07.493Z"
   },
   {
    "duration": 74,
    "start_time": "2022-08-25T11:54:30.904Z"
   },
   {
    "duration": 10,
    "start_time": "2022-08-25T11:54:30.980Z"
   },
   {
    "duration": 39,
    "start_time": "2022-08-25T11:54:30.991Z"
   },
   {
    "duration": 28,
    "start_time": "2022-08-25T11:54:31.032Z"
   },
   {
    "duration": 84,
    "start_time": "2022-08-25T11:54:31.061Z"
   },
   {
    "duration": 22,
    "start_time": "2022-08-25T11:54:31.147Z"
   },
   {
    "duration": 297,
    "start_time": "2022-08-25T11:54:31.171Z"
   },
   {
    "duration": 301,
    "start_time": "2022-08-25T11:54:31.470Z"
   },
   {
    "duration": 195,
    "start_time": "2022-08-25T11:54:31.774Z"
   },
   {
    "duration": 70,
    "start_time": "2022-08-25T11:55:54.889Z"
   },
   {
    "duration": 8,
    "start_time": "2022-08-25T11:55:54.962Z"
   },
   {
    "duration": 228,
    "start_time": "2022-08-25T11:55:54.971Z"
   },
   {
    "duration": 26,
    "start_time": "2022-08-25T11:55:55.202Z"
   },
   {
    "duration": 65,
    "start_time": "2022-08-25T11:55:55.230Z"
   },
   {
    "duration": 19,
    "start_time": "2022-08-25T11:55:55.297Z"
   },
   {
    "duration": 305,
    "start_time": "2022-08-25T11:55:55.318Z"
   },
   {
    "duration": 304,
    "start_time": "2022-08-25T11:55:55.625Z"
   },
   {
    "duration": 133,
    "start_time": "2022-08-25T11:55:55.930Z"
   },
   {
    "duration": 71,
    "start_time": "2022-08-25T11:57:36.081Z"
   },
   {
    "duration": 10,
    "start_time": "2022-08-25T11:57:36.154Z"
   },
   {
    "duration": 27,
    "start_time": "2022-08-25T11:57:36.166Z"
   },
   {
    "duration": 17,
    "start_time": "2022-08-25T11:57:36.195Z"
   },
   {
    "duration": 56,
    "start_time": "2022-08-25T11:57:36.213Z"
   },
   {
    "duration": 15,
    "start_time": "2022-08-25T11:57:36.271Z"
   },
   {
    "duration": 268,
    "start_time": "2022-08-25T11:57:36.287Z"
   },
   {
    "duration": 265,
    "start_time": "2022-08-25T11:57:36.557Z"
   },
   {
    "duration": 112,
    "start_time": "2022-08-25T11:57:36.824Z"
   },
   {
    "duration": 71,
    "start_time": "2022-08-25T11:57:49.288Z"
   },
   {
    "duration": 10,
    "start_time": "2022-08-25T11:57:49.361Z"
   },
   {
    "duration": 27,
    "start_time": "2022-08-25T11:57:49.372Z"
   },
   {
    "duration": 18,
    "start_time": "2022-08-25T11:57:49.401Z"
   },
   {
    "duration": 67,
    "start_time": "2022-08-25T11:57:49.421Z"
   },
   {
    "duration": 15,
    "start_time": "2022-08-25T11:57:49.490Z"
   },
   {
    "duration": 320,
    "start_time": "2022-08-25T11:57:49.507Z"
   },
   {
    "duration": 285,
    "start_time": "2022-08-25T11:57:49.829Z"
   },
   {
    "duration": 145,
    "start_time": "2022-08-25T11:57:50.116Z"
   },
   {
    "duration": 94,
    "start_time": "2022-08-25T11:58:50.371Z"
   },
   {
    "duration": 11,
    "start_time": "2022-08-25T11:58:50.467Z"
   },
   {
    "duration": 26,
    "start_time": "2022-08-25T11:58:50.479Z"
   },
   {
    "duration": 54,
    "start_time": "2022-08-25T11:58:50.507Z"
   },
   {
    "duration": 54,
    "start_time": "2022-08-25T11:58:50.565Z"
   },
   {
    "duration": 36,
    "start_time": "2022-08-25T11:58:50.621Z"
   },
   {
    "duration": 297,
    "start_time": "2022-08-25T11:58:50.660Z"
   },
   {
    "duration": 331,
    "start_time": "2022-08-25T11:58:50.959Z"
   },
   {
    "duration": 101,
    "start_time": "2022-08-25T11:58:51.292Z"
   },
   {
    "duration": 72,
    "start_time": "2022-08-25T11:59:14.774Z"
   },
   {
    "duration": 9,
    "start_time": "2022-08-25T11:59:14.848Z"
   },
   {
    "duration": 27,
    "start_time": "2022-08-25T11:59:14.858Z"
   },
   {
    "duration": 17,
    "start_time": "2022-08-25T11:59:14.887Z"
   },
   {
    "duration": 57,
    "start_time": "2022-08-25T11:59:14.905Z"
   },
   {
    "duration": 17,
    "start_time": "2022-08-25T11:59:14.964Z"
   },
   {
    "duration": 277,
    "start_time": "2022-08-25T11:59:14.983Z"
   },
   {
    "duration": 310,
    "start_time": "2022-08-25T11:59:15.262Z"
   },
   {
    "duration": 175,
    "start_time": "2022-08-25T11:59:15.578Z"
   },
   {
    "duration": 72,
    "start_time": "2022-08-25T12:01:13.996Z"
   },
   {
    "duration": 9,
    "start_time": "2022-08-25T12:01:14.070Z"
   },
   {
    "duration": 34,
    "start_time": "2022-08-25T12:01:14.081Z"
   },
   {
    "duration": 19,
    "start_time": "2022-08-25T12:01:14.117Z"
   },
   {
    "duration": 64,
    "start_time": "2022-08-25T12:01:14.137Z"
   },
   {
    "duration": 15,
    "start_time": "2022-08-25T12:01:14.203Z"
   },
   {
    "duration": 270,
    "start_time": "2022-08-25T12:01:14.220Z"
   },
   {
    "duration": 290,
    "start_time": "2022-08-25T12:01:14.492Z"
   },
   {
    "duration": 142,
    "start_time": "2022-08-25T12:01:14.784Z"
   },
   {
    "duration": 72,
    "start_time": "2022-08-25T12:01:35.787Z"
   },
   {
    "duration": 10,
    "start_time": "2022-08-25T12:01:35.861Z"
   },
   {
    "duration": 32,
    "start_time": "2022-08-25T12:01:35.872Z"
   },
   {
    "duration": 18,
    "start_time": "2022-08-25T12:01:35.906Z"
   },
   {
    "duration": 90,
    "start_time": "2022-08-25T12:01:35.926Z"
   },
   {
    "duration": 15,
    "start_time": "2022-08-25T12:01:36.019Z"
   },
   {
    "duration": 292,
    "start_time": "2022-08-25T12:01:36.035Z"
   },
   {
    "duration": 269,
    "start_time": "2022-08-25T12:01:36.328Z"
   },
   {
    "duration": 129,
    "start_time": "2022-08-25T12:01:36.599Z"
   },
   {
    "duration": 71,
    "start_time": "2022-08-25T12:03:48.517Z"
   },
   {
    "duration": 9,
    "start_time": "2022-08-25T12:03:48.589Z"
   },
   {
    "duration": 24,
    "start_time": "2022-08-25T12:03:48.600Z"
   },
   {
    "duration": 35,
    "start_time": "2022-08-25T12:03:48.626Z"
   },
   {
    "duration": 44,
    "start_time": "2022-08-25T12:03:48.663Z"
   },
   {
    "duration": 15,
    "start_time": "2022-08-25T12:03:48.708Z"
   },
   {
    "duration": 274,
    "start_time": "2022-08-25T12:03:48.725Z"
   },
   {
    "duration": 306,
    "start_time": "2022-08-25T12:03:49.000Z"
   },
   {
    "duration": 135,
    "start_time": "2022-08-25T12:03:49.308Z"
   },
   {
    "duration": 71,
    "start_time": "2022-08-25T12:03:54.626Z"
   },
   {
    "duration": 9,
    "start_time": "2022-08-25T12:03:54.699Z"
   },
   {
    "duration": 25,
    "start_time": "2022-08-25T12:03:54.709Z"
   },
   {
    "duration": 35,
    "start_time": "2022-08-25T12:03:54.736Z"
   },
   {
    "duration": 40,
    "start_time": "2022-08-25T12:03:54.774Z"
   },
   {
    "duration": 15,
    "start_time": "2022-08-25T12:03:54.816Z"
   },
   {
    "duration": 280,
    "start_time": "2022-08-25T12:03:54.832Z"
   },
   {
    "duration": 566,
    "start_time": "2022-08-25T12:03:55.114Z"
   },
   {
    "duration": 151,
    "start_time": "2022-08-25T12:03:55.682Z"
   },
   {
    "duration": 73,
    "start_time": "2022-08-25T12:06:31.977Z"
   },
   {
    "duration": 9,
    "start_time": "2022-08-25T12:06:32.052Z"
   },
   {
    "duration": 56,
    "start_time": "2022-08-25T12:06:32.062Z"
   },
   {
    "duration": 49,
    "start_time": "2022-08-25T12:06:32.120Z"
   },
   {
    "duration": 64,
    "start_time": "2022-08-25T12:06:32.171Z"
   },
   {
    "duration": 16,
    "start_time": "2022-08-25T12:06:32.237Z"
   },
   {
    "duration": 254,
    "start_time": "2022-08-25T12:06:32.254Z"
   },
   {
    "duration": 284,
    "start_time": "2022-08-25T12:06:32.509Z"
   },
   {
    "duration": 148,
    "start_time": "2022-08-25T12:06:32.795Z"
   },
   {
    "duration": 71,
    "start_time": "2022-08-25T12:07:23.819Z"
   },
   {
    "duration": 8,
    "start_time": "2022-08-25T12:07:23.892Z"
   },
   {
    "duration": 25,
    "start_time": "2022-08-25T12:07:23.902Z"
   },
   {
    "duration": 36,
    "start_time": "2022-08-25T12:07:23.929Z"
   },
   {
    "duration": 49,
    "start_time": "2022-08-25T12:07:23.966Z"
   },
   {
    "duration": 15,
    "start_time": "2022-08-25T12:07:24.016Z"
   },
   {
    "duration": 265,
    "start_time": "2022-08-25T12:07:24.032Z"
   },
   {
    "duration": 286,
    "start_time": "2022-08-25T12:07:24.299Z"
   },
   {
    "duration": 94,
    "start_time": "2022-08-25T12:07:24.587Z"
   },
   {
    "duration": 76,
    "start_time": "2022-08-25T12:08:03.197Z"
   },
   {
    "duration": 11,
    "start_time": "2022-08-25T12:08:03.274Z"
   },
   {
    "duration": 48,
    "start_time": "2022-08-25T12:08:03.286Z"
   },
   {
    "duration": 25,
    "start_time": "2022-08-25T12:08:03.336Z"
   },
   {
    "duration": 55,
    "start_time": "2022-08-25T12:08:03.363Z"
   },
   {
    "duration": 16,
    "start_time": "2022-08-25T12:08:03.419Z"
   },
   {
    "duration": 275,
    "start_time": "2022-08-25T12:08:03.436Z"
   },
   {
    "duration": 291,
    "start_time": "2022-08-25T12:08:03.713Z"
   },
   {
    "duration": 157,
    "start_time": "2022-08-25T12:08:04.006Z"
   },
   {
    "duration": 74,
    "start_time": "2022-08-25T12:09:54.673Z"
   },
   {
    "duration": 9,
    "start_time": "2022-08-25T12:09:54.748Z"
   },
   {
    "duration": 25,
    "start_time": "2022-08-25T12:09:54.759Z"
   },
   {
    "duration": 17,
    "start_time": "2022-08-25T12:09:54.785Z"
   },
   {
    "duration": 55,
    "start_time": "2022-08-25T12:09:54.803Z"
   },
   {
    "duration": 14,
    "start_time": "2022-08-25T12:09:54.859Z"
   },
   {
    "duration": 261,
    "start_time": "2022-08-25T12:09:54.875Z"
   },
   {
    "duration": 353,
    "start_time": "2022-08-25T12:09:55.138Z"
   },
   {
    "duration": 149,
    "start_time": "2022-08-25T12:09:55.493Z"
   },
   {
    "duration": 71,
    "start_time": "2022-08-25T12:11:04.166Z"
   },
   {
    "duration": 9,
    "start_time": "2022-08-25T12:11:04.239Z"
   },
   {
    "duration": 26,
    "start_time": "2022-08-25T12:11:04.249Z"
   },
   {
    "duration": 16,
    "start_time": "2022-08-25T12:11:04.277Z"
   },
   {
    "duration": 43,
    "start_time": "2022-08-25T12:11:04.295Z"
   },
   {
    "duration": 25,
    "start_time": "2022-08-25T12:11:04.339Z"
   },
   {
    "duration": 260,
    "start_time": "2022-08-25T12:11:04.365Z"
   },
   {
    "duration": 285,
    "start_time": "2022-08-25T12:11:04.627Z"
   },
   {
    "duration": 146,
    "start_time": "2022-08-25T12:11:04.914Z"
   },
   {
    "duration": 72,
    "start_time": "2022-08-25T13:24:43.468Z"
   },
   {
    "duration": 8,
    "start_time": "2022-08-25T13:24:43.542Z"
   },
   {
    "duration": 24,
    "start_time": "2022-08-25T13:24:43.552Z"
   },
   {
    "duration": 16,
    "start_time": "2022-08-25T13:24:43.578Z"
   },
   {
    "duration": 46,
    "start_time": "2022-08-25T13:24:43.596Z"
   },
   {
    "duration": 25,
    "start_time": "2022-08-25T13:24:43.644Z"
   },
   {
    "duration": 262,
    "start_time": "2022-08-25T13:24:43.671Z"
   },
   {
    "duration": 284,
    "start_time": "2022-08-25T13:24:43.935Z"
   },
   {
    "duration": 152,
    "start_time": "2022-08-25T13:24:44.221Z"
   },
   {
    "duration": 6,
    "start_time": "2022-08-25T13:24:44.376Z"
   },
   {
    "duration": 73,
    "start_time": "2022-08-25T13:25:17.244Z"
   },
   {
    "duration": 8,
    "start_time": "2022-08-25T13:25:17.319Z"
   },
   {
    "duration": 29,
    "start_time": "2022-08-25T13:25:17.329Z"
   },
   {
    "duration": 21,
    "start_time": "2022-08-25T13:25:17.360Z"
   },
   {
    "duration": 45,
    "start_time": "2022-08-25T13:25:17.383Z"
   },
   {
    "duration": 27,
    "start_time": "2022-08-25T13:25:17.430Z"
   },
   {
    "duration": 269,
    "start_time": "2022-08-25T13:25:17.459Z"
   },
   {
    "duration": 271,
    "start_time": "2022-08-25T13:25:17.730Z"
   },
   {
    "duration": 137,
    "start_time": "2022-08-25T13:25:18.003Z"
   },
   {
    "duration": 14,
    "start_time": "2022-08-25T13:25:18.144Z"
   },
   {
    "duration": 70,
    "start_time": "2022-08-25T13:27:13.268Z"
   },
   {
    "duration": 10,
    "start_time": "2022-08-25T13:27:13.340Z"
   },
   {
    "duration": 27,
    "start_time": "2022-08-25T13:27:13.352Z"
   },
   {
    "duration": 17,
    "start_time": "2022-08-25T13:27:13.381Z"
   },
   {
    "duration": 71,
    "start_time": "2022-08-25T13:27:13.400Z"
   },
   {
    "duration": 15,
    "start_time": "2022-08-25T13:27:13.473Z"
   },
   {
    "duration": 267,
    "start_time": "2022-08-25T13:27:13.490Z"
   },
   {
    "duration": 283,
    "start_time": "2022-08-25T13:27:13.759Z"
   },
   {
    "duration": 140,
    "start_time": "2022-08-25T13:27:14.043Z"
   },
   {
    "duration": 27,
    "start_time": "2022-08-25T13:27:14.185Z"
   },
   {
    "duration": 82,
    "start_time": "2022-08-25T13:29:09.351Z"
   },
   {
    "duration": 8,
    "start_time": "2022-08-25T13:29:09.436Z"
   },
   {
    "duration": 25,
    "start_time": "2022-08-25T13:29:09.446Z"
   },
   {
    "duration": 17,
    "start_time": "2022-08-25T13:29:09.473Z"
   },
   {
    "duration": 40,
    "start_time": "2022-08-25T13:29:09.492Z"
   },
   {
    "duration": 32,
    "start_time": "2022-08-25T13:29:09.533Z"
   },
   {
    "duration": 261,
    "start_time": "2022-08-25T13:29:09.567Z"
   },
   {
    "duration": 571,
    "start_time": "2022-08-25T13:29:09.830Z"
   },
   {
    "duration": 135,
    "start_time": "2022-08-25T13:29:10.403Z"
   },
   {
    "duration": 1156,
    "start_time": "2022-08-25T13:29:10.541Z"
   },
   {
    "duration": 76,
    "start_time": "2022-08-25T13:29:26.158Z"
   },
   {
    "duration": 10,
    "start_time": "2022-08-25T13:29:26.236Z"
   },
   {
    "duration": 28,
    "start_time": "2022-08-25T13:29:26.247Z"
   },
   {
    "duration": 25,
    "start_time": "2022-08-25T13:29:26.278Z"
   },
   {
    "duration": 66,
    "start_time": "2022-08-25T13:29:26.305Z"
   },
   {
    "duration": 15,
    "start_time": "2022-08-25T13:29:26.373Z"
   },
   {
    "duration": 270,
    "start_time": "2022-08-25T13:29:26.389Z"
   },
   {
    "duration": 282,
    "start_time": "2022-08-25T13:29:26.660Z"
   },
   {
    "duration": 145,
    "start_time": "2022-08-25T13:29:26.944Z"
   },
   {
    "duration": 970,
    "start_time": "2022-08-25T13:29:27.092Z"
   },
   {
    "duration": 88,
    "start_time": "2022-08-25T13:30:32.251Z"
   },
   {
    "duration": 14,
    "start_time": "2022-08-25T13:30:32.341Z"
   },
   {
    "duration": 36,
    "start_time": "2022-08-25T13:30:32.357Z"
   },
   {
    "duration": 19,
    "start_time": "2022-08-25T13:30:32.395Z"
   },
   {
    "duration": 58,
    "start_time": "2022-08-25T13:30:32.415Z"
   },
   {
    "duration": 18,
    "start_time": "2022-08-25T13:30:32.475Z"
   },
   {
    "duration": 290,
    "start_time": "2022-08-25T13:30:32.494Z"
   },
   {
    "duration": 314,
    "start_time": "2022-08-25T13:30:32.786Z"
   },
   {
    "duration": 169,
    "start_time": "2022-08-25T13:30:33.102Z"
   },
   {
    "duration": 1071,
    "start_time": "2022-08-25T13:30:33.273Z"
   },
   {
    "duration": 73,
    "start_time": "2022-08-25T13:34:35.930Z"
   },
   {
    "duration": 10,
    "start_time": "2022-08-25T13:34:36.005Z"
   },
   {
    "duration": 29,
    "start_time": "2022-08-25T13:34:36.017Z"
   },
   {
    "duration": 18,
    "start_time": "2022-08-25T13:34:36.058Z"
   },
   {
    "duration": 42,
    "start_time": "2022-08-25T13:34:36.078Z"
   },
   {
    "duration": 15,
    "start_time": "2022-08-25T13:34:36.121Z"
   },
   {
    "duration": 273,
    "start_time": "2022-08-25T13:34:36.156Z"
   },
   {
    "duration": 281,
    "start_time": "2022-08-25T13:34:36.431Z"
   },
   {
    "duration": 143,
    "start_time": "2022-08-25T13:34:36.714Z"
   },
   {
    "duration": 22,
    "start_time": "2022-08-25T13:34:36.859Z"
   },
   {
    "duration": 76,
    "start_time": "2022-08-25T13:34:50.436Z"
   },
   {
    "duration": 10,
    "start_time": "2022-08-25T13:34:50.514Z"
   },
   {
    "duration": 48,
    "start_time": "2022-08-25T13:34:50.526Z"
   },
   {
    "duration": 18,
    "start_time": "2022-08-25T13:34:50.577Z"
   },
   {
    "duration": 50,
    "start_time": "2022-08-25T13:34:50.597Z"
   },
   {
    "duration": 23,
    "start_time": "2022-08-25T13:34:50.648Z"
   },
   {
    "duration": 291,
    "start_time": "2022-08-25T13:34:50.673Z"
   },
   {
    "duration": 315,
    "start_time": "2022-08-25T13:34:50.966Z"
   },
   {
    "duration": 150,
    "start_time": "2022-08-25T13:34:51.283Z"
   },
   {
    "duration": 36,
    "start_time": "2022-08-25T13:34:51.436Z"
   },
   {
    "duration": 82,
    "start_time": "2022-08-25T13:35:35.159Z"
   },
   {
    "duration": 11,
    "start_time": "2022-08-25T13:35:35.244Z"
   },
   {
    "duration": 36,
    "start_time": "2022-08-25T13:35:35.257Z"
   },
   {
    "duration": 23,
    "start_time": "2022-08-25T13:35:35.296Z"
   },
   {
    "duration": 66,
    "start_time": "2022-08-25T13:35:35.322Z"
   },
   {
    "duration": 21,
    "start_time": "2022-08-25T13:35:35.390Z"
   },
   {
    "duration": 284,
    "start_time": "2022-08-25T13:35:35.414Z"
   },
   {
    "duration": 277,
    "start_time": "2022-08-25T13:35:35.700Z"
   },
   {
    "duration": 147,
    "start_time": "2022-08-25T13:35:35.979Z"
   },
   {
    "duration": 776,
    "start_time": "2022-08-25T13:35:36.128Z"
   },
   {
    "duration": 73,
    "start_time": "2022-08-25T13:36:08.908Z"
   },
   {
    "duration": 9,
    "start_time": "2022-08-25T13:36:08.983Z"
   },
   {
    "duration": 40,
    "start_time": "2022-08-25T13:36:08.994Z"
   },
   {
    "duration": 27,
    "start_time": "2022-08-25T13:36:09.035Z"
   },
   {
    "duration": 48,
    "start_time": "2022-08-25T13:36:09.065Z"
   },
   {
    "duration": 16,
    "start_time": "2022-08-25T13:36:09.115Z"
   },
   {
    "duration": 288,
    "start_time": "2022-08-25T13:36:09.133Z"
   },
   {
    "duration": 286,
    "start_time": "2022-08-25T13:36:09.423Z"
   },
   {
    "duration": 146,
    "start_time": "2022-08-25T13:36:09.711Z"
   },
   {
    "duration": 938,
    "start_time": "2022-08-25T13:36:09.859Z"
   },
   {
    "duration": 73,
    "start_time": "2022-08-25T13:36:38.462Z"
   },
   {
    "duration": 8,
    "start_time": "2022-08-25T13:36:38.537Z"
   },
   {
    "duration": 30,
    "start_time": "2022-08-25T13:36:38.546Z"
   },
   {
    "duration": 18,
    "start_time": "2022-08-25T13:36:38.578Z"
   },
   {
    "duration": 41,
    "start_time": "2022-08-25T13:36:38.598Z"
   },
   {
    "duration": 30,
    "start_time": "2022-08-25T13:36:38.641Z"
   },
   {
    "duration": 276,
    "start_time": "2022-08-25T13:36:38.674Z"
   },
   {
    "duration": 285,
    "start_time": "2022-08-25T13:36:38.952Z"
   },
   {
    "duration": 151,
    "start_time": "2022-08-25T13:36:39.238Z"
   },
   {
    "duration": 34,
    "start_time": "2022-08-25T13:36:39.391Z"
   },
   {
    "duration": 74,
    "start_time": "2022-08-25T13:37:05.003Z"
   },
   {
    "duration": 10,
    "start_time": "2022-08-25T13:37:05.078Z"
   },
   {
    "duration": 32,
    "start_time": "2022-08-25T13:37:05.089Z"
   },
   {
    "duration": 17,
    "start_time": "2022-08-25T13:37:05.123Z"
   },
   {
    "duration": 66,
    "start_time": "2022-08-25T13:37:05.142Z"
   },
   {
    "duration": 21,
    "start_time": "2022-08-25T13:37:05.210Z"
   },
   {
    "duration": 326,
    "start_time": "2022-08-25T13:37:05.233Z"
   },
   {
    "duration": 302,
    "start_time": "2022-08-25T13:37:05.560Z"
   },
   {
    "duration": 128,
    "start_time": "2022-08-25T13:37:05.864Z"
   },
   {
    "duration": 19,
    "start_time": "2022-08-25T13:37:05.994Z"
   },
   {
    "duration": 73,
    "start_time": "2022-08-25T13:37:48.765Z"
   },
   {
    "duration": 9,
    "start_time": "2022-08-25T13:37:48.840Z"
   },
   {
    "duration": 30,
    "start_time": "2022-08-25T13:37:48.850Z"
   },
   {
    "duration": 18,
    "start_time": "2022-08-25T13:37:48.882Z"
   },
   {
    "duration": 42,
    "start_time": "2022-08-25T13:37:48.901Z"
   },
   {
    "duration": 26,
    "start_time": "2022-08-25T13:37:48.944Z"
   },
   {
    "duration": 273,
    "start_time": "2022-08-25T13:37:48.972Z"
   },
   {
    "duration": 284,
    "start_time": "2022-08-25T13:37:49.246Z"
   },
   {
    "duration": 141,
    "start_time": "2022-08-25T13:37:49.532Z"
   },
   {
    "duration": 13,
    "start_time": "2022-08-25T13:37:49.675Z"
   },
   {
    "duration": 77,
    "start_time": "2022-08-25T13:37:59.228Z"
   },
   {
    "duration": 10,
    "start_time": "2022-08-25T13:37:59.306Z"
   },
   {
    "duration": 40,
    "start_time": "2022-08-25T13:37:59.318Z"
   },
   {
    "duration": 16,
    "start_time": "2022-08-25T13:37:59.360Z"
   },
   {
    "duration": 45,
    "start_time": "2022-08-25T13:37:59.378Z"
   },
   {
    "duration": 13,
    "start_time": "2022-08-25T13:37:59.425Z"
   },
   {
    "duration": 263,
    "start_time": "2022-08-25T13:37:59.440Z"
   },
   {
    "duration": 584,
    "start_time": "2022-08-25T13:37:59.705Z"
   },
   {
    "duration": 144,
    "start_time": "2022-08-25T13:38:00.290Z"
   },
   {
    "duration": 29,
    "start_time": "2022-08-25T13:38:00.436Z"
   },
   {
    "duration": 71,
    "start_time": "2022-08-25T13:38:28.601Z"
   },
   {
    "duration": 9,
    "start_time": "2022-08-25T13:38:28.674Z"
   },
   {
    "duration": 29,
    "start_time": "2022-08-25T13:38:28.685Z"
   },
   {
    "duration": 17,
    "start_time": "2022-08-25T13:38:28.717Z"
   },
   {
    "duration": 58,
    "start_time": "2022-08-25T13:38:28.736Z"
   },
   {
    "duration": 16,
    "start_time": "2022-08-25T13:38:28.796Z"
   },
   {
    "duration": 292,
    "start_time": "2022-08-25T13:38:28.813Z"
   },
   {
    "duration": 314,
    "start_time": "2022-08-25T13:38:29.106Z"
   },
   {
    "duration": 151,
    "start_time": "2022-08-25T13:38:29.421Z"
   },
   {
    "duration": 18,
    "start_time": "2022-08-25T13:38:29.574Z"
   },
   {
    "duration": 73,
    "start_time": "2022-08-25T13:38:53.697Z"
   },
   {
    "duration": 10,
    "start_time": "2022-08-25T13:38:53.773Z"
   },
   {
    "duration": 52,
    "start_time": "2022-08-25T13:38:53.784Z"
   },
   {
    "duration": 21,
    "start_time": "2022-08-25T13:38:53.839Z"
   },
   {
    "duration": 60,
    "start_time": "2022-08-25T13:38:53.862Z"
   },
   {
    "duration": 16,
    "start_time": "2022-08-25T13:38:53.924Z"
   },
   {
    "duration": 244,
    "start_time": "2022-08-25T13:38:53.942Z"
   },
   {
    "duration": 274,
    "start_time": "2022-08-25T13:38:54.188Z"
   },
   {
    "duration": 136,
    "start_time": "2022-08-25T13:38:54.464Z"
   },
   {
    "duration": 30,
    "start_time": "2022-08-25T13:38:54.603Z"
   },
   {
    "duration": 72,
    "start_time": "2022-08-25T13:39:23.313Z"
   },
   {
    "duration": 9,
    "start_time": "2022-08-25T13:39:23.388Z"
   },
   {
    "duration": 25,
    "start_time": "2022-08-25T13:39:23.399Z"
   },
   {
    "duration": 34,
    "start_time": "2022-08-25T13:39:23.426Z"
   },
   {
    "duration": 45,
    "start_time": "2022-08-25T13:39:23.461Z"
   },
   {
    "duration": 15,
    "start_time": "2022-08-25T13:39:23.507Z"
   },
   {
    "duration": 278,
    "start_time": "2022-08-25T13:39:23.523Z"
   },
   {
    "duration": 276,
    "start_time": "2022-08-25T13:39:23.803Z"
   },
   {
    "duration": 137,
    "start_time": "2022-08-25T13:39:24.081Z"
   },
   {
    "duration": 20,
    "start_time": "2022-08-25T13:39:24.220Z"
   },
   {
    "duration": 73,
    "start_time": "2022-08-25T13:41:19.636Z"
   },
   {
    "duration": 9,
    "start_time": "2022-08-25T13:41:19.711Z"
   },
   {
    "duration": 48,
    "start_time": "2022-08-25T13:41:19.722Z"
   },
   {
    "duration": 17,
    "start_time": "2022-08-25T13:41:19.772Z"
   },
   {
    "duration": 42,
    "start_time": "2022-08-25T13:41:19.790Z"
   },
   {
    "duration": 28,
    "start_time": "2022-08-25T13:41:19.833Z"
   },
   {
    "duration": 254,
    "start_time": "2022-08-25T13:41:19.862Z"
   },
   {
    "duration": 266,
    "start_time": "2022-08-25T13:41:20.118Z"
   },
   {
    "duration": 136,
    "start_time": "2022-08-25T13:41:20.385Z"
   },
   {
    "duration": 41,
    "start_time": "2022-08-25T13:41:20.523Z"
   },
   {
    "duration": 72,
    "start_time": "2022-08-25T13:42:38.603Z"
   },
   {
    "duration": 8,
    "start_time": "2022-08-25T13:42:38.677Z"
   },
   {
    "duration": 36,
    "start_time": "2022-08-25T13:42:38.686Z"
   },
   {
    "duration": 17,
    "start_time": "2022-08-25T13:42:38.724Z"
   },
   {
    "duration": 51,
    "start_time": "2022-08-25T13:42:38.742Z"
   },
   {
    "duration": 15,
    "start_time": "2022-08-25T13:42:38.795Z"
   },
   {
    "duration": 265,
    "start_time": "2022-08-25T13:42:38.811Z"
   },
   {
    "duration": 272,
    "start_time": "2022-08-25T13:42:39.078Z"
   },
   {
    "duration": 133,
    "start_time": "2022-08-25T13:42:39.357Z"
   },
   {
    "duration": 16,
    "start_time": "2022-08-25T13:42:39.492Z"
   },
   {
    "duration": 70,
    "start_time": "2022-08-25T13:43:06.674Z"
   },
   {
    "duration": 9,
    "start_time": "2022-08-25T13:43:06.746Z"
   },
   {
    "duration": 32,
    "start_time": "2022-08-25T13:43:06.756Z"
   },
   {
    "duration": 16,
    "start_time": "2022-08-25T13:43:06.790Z"
   },
   {
    "duration": 49,
    "start_time": "2022-08-25T13:43:06.807Z"
   },
   {
    "duration": 14,
    "start_time": "2022-08-25T13:43:06.858Z"
   },
   {
    "duration": 262,
    "start_time": "2022-08-25T13:43:06.874Z"
   },
   {
    "duration": 275,
    "start_time": "2022-08-25T13:43:07.137Z"
   },
   {
    "duration": 143,
    "start_time": "2022-08-25T13:43:07.414Z"
   },
   {
    "duration": 10,
    "start_time": "2022-08-25T13:43:07.559Z"
   },
   {
    "duration": 73,
    "start_time": "2022-08-25T13:44:46.085Z"
   },
   {
    "duration": 8,
    "start_time": "2022-08-25T13:44:46.161Z"
   },
   {
    "duration": 26,
    "start_time": "2022-08-25T13:44:46.171Z"
   },
   {
    "duration": 16,
    "start_time": "2022-08-25T13:44:46.199Z"
   },
   {
    "duration": 66,
    "start_time": "2022-08-25T13:44:46.217Z"
   },
   {
    "duration": 14,
    "start_time": "2022-08-25T13:44:46.286Z"
   },
   {
    "duration": 263,
    "start_time": "2022-08-25T13:44:46.301Z"
   },
   {
    "duration": 273,
    "start_time": "2022-08-25T13:44:46.565Z"
   },
   {
    "duration": 135,
    "start_time": "2022-08-25T13:44:46.839Z"
   },
   {
    "duration": 12,
    "start_time": "2022-08-25T13:44:46.977Z"
   },
   {
    "duration": 76,
    "start_time": "2022-08-25T13:49:56.836Z"
   },
   {
    "duration": 8,
    "start_time": "2022-08-25T13:49:56.914Z"
   },
   {
    "duration": 33,
    "start_time": "2022-08-25T13:49:56.924Z"
   },
   {
    "duration": 16,
    "start_time": "2022-08-25T13:49:56.959Z"
   },
   {
    "duration": 38,
    "start_time": "2022-08-25T13:49:56.977Z"
   },
   {
    "duration": 14,
    "start_time": "2022-08-25T13:49:57.016Z"
   },
   {
    "duration": 268,
    "start_time": "2022-08-25T13:49:57.032Z"
   },
   {
    "duration": 264,
    "start_time": "2022-08-25T13:49:57.301Z"
   },
   {
    "duration": 132,
    "start_time": "2022-08-25T13:49:57.567Z"
   },
   {
    "duration": 26,
    "start_time": "2022-08-25T13:49:57.701Z"
   },
   {
    "duration": 81,
    "start_time": "2022-08-25T13:51:43.135Z"
   },
   {
    "duration": 14,
    "start_time": "2022-08-25T13:51:43.218Z"
   },
   {
    "duration": 51,
    "start_time": "2022-08-25T13:51:43.234Z"
   },
   {
    "duration": 25,
    "start_time": "2022-08-25T13:51:43.287Z"
   },
   {
    "duration": 64,
    "start_time": "2022-08-25T13:51:43.313Z"
   },
   {
    "duration": 17,
    "start_time": "2022-08-25T13:51:43.379Z"
   },
   {
    "duration": 305,
    "start_time": "2022-08-25T13:51:43.398Z"
   },
   {
    "duration": 330,
    "start_time": "2022-08-25T13:51:43.706Z"
   },
   {
    "duration": 179,
    "start_time": "2022-08-25T13:51:44.038Z"
   },
   {
    "duration": 39,
    "start_time": "2022-08-25T13:51:44.220Z"
   },
   {
    "duration": 71,
    "start_time": "2022-08-25T13:54:03.858Z"
   },
   {
    "duration": 9,
    "start_time": "2022-08-25T13:54:03.931Z"
   },
   {
    "duration": 35,
    "start_time": "2022-08-25T13:54:03.941Z"
   },
   {
    "duration": 24,
    "start_time": "2022-08-25T13:54:03.978Z"
   },
   {
    "duration": 52,
    "start_time": "2022-08-25T13:54:04.004Z"
   },
   {
    "duration": 17,
    "start_time": "2022-08-25T13:54:04.057Z"
   },
   {
    "duration": 271,
    "start_time": "2022-08-25T13:54:04.075Z"
   },
   {
    "duration": 263,
    "start_time": "2022-08-25T13:54:04.357Z"
   },
   {
    "duration": 147,
    "start_time": "2022-08-25T13:54:04.622Z"
   },
   {
    "duration": 15,
    "start_time": "2022-08-25T13:54:04.771Z"
   },
   {
    "duration": 70,
    "start_time": "2022-08-25T13:55:16.831Z"
   },
   {
    "duration": 8,
    "start_time": "2022-08-25T13:55:16.904Z"
   },
   {
    "duration": 25,
    "start_time": "2022-08-25T13:55:16.914Z"
   },
   {
    "duration": 29,
    "start_time": "2022-08-25T13:55:16.942Z"
   },
   {
    "duration": 41,
    "start_time": "2022-08-25T13:55:16.973Z"
   },
   {
    "duration": 15,
    "start_time": "2022-08-25T13:55:17.016Z"
   },
   {
    "duration": 266,
    "start_time": "2022-08-25T13:55:17.032Z"
   },
   {
    "duration": 294,
    "start_time": "2022-08-25T13:55:17.299Z"
   },
   {
    "duration": 465,
    "start_time": "2022-08-25T13:55:17.594Z"
   },
   {
    "duration": 29,
    "start_time": "2022-08-25T13:55:18.062Z"
   },
   {
    "duration": 70,
    "start_time": "2022-08-25T13:56:06.738Z"
   },
   {
    "duration": 9,
    "start_time": "2022-08-25T13:56:06.809Z"
   },
   {
    "duration": 38,
    "start_time": "2022-08-25T13:56:06.820Z"
   },
   {
    "duration": 16,
    "start_time": "2022-08-25T13:56:06.860Z"
   },
   {
    "duration": 42,
    "start_time": "2022-08-25T13:56:06.878Z"
   },
   {
    "duration": 16,
    "start_time": "2022-08-25T13:56:06.921Z"
   },
   {
    "duration": 267,
    "start_time": "2022-08-25T13:56:06.938Z"
   },
   {
    "duration": 279,
    "start_time": "2022-08-25T13:56:07.208Z"
   },
   {
    "duration": 138,
    "start_time": "2022-08-25T13:56:07.489Z"
   },
   {
    "duration": 38,
    "start_time": "2022-08-25T13:56:07.630Z"
   },
   {
    "duration": 91,
    "start_time": "2022-08-25T13:56:43.577Z"
   },
   {
    "duration": 10,
    "start_time": "2022-08-25T13:56:43.670Z"
   },
   {
    "duration": 25,
    "start_time": "2022-08-25T13:56:43.681Z"
   },
   {
    "duration": 18,
    "start_time": "2022-08-25T13:56:43.708Z"
   },
   {
    "duration": 64,
    "start_time": "2022-08-25T13:56:43.727Z"
   },
   {
    "duration": 15,
    "start_time": "2022-08-25T13:56:43.792Z"
   },
   {
    "duration": 287,
    "start_time": "2022-08-25T13:56:43.809Z"
   },
   {
    "duration": 268,
    "start_time": "2022-08-25T13:56:44.098Z"
   },
   {
    "duration": 136,
    "start_time": "2022-08-25T13:56:44.368Z"
   },
   {
    "duration": 136,
    "start_time": "2022-08-25T13:56:44.506Z"
   },
   {
    "duration": 71,
    "start_time": "2022-08-25T13:56:52.743Z"
   },
   {
    "duration": 9,
    "start_time": "2022-08-25T13:56:52.816Z"
   },
   {
    "duration": 32,
    "start_time": "2022-08-25T13:56:52.826Z"
   },
   {
    "duration": 19,
    "start_time": "2022-08-25T13:56:52.860Z"
   },
   {
    "duration": 45,
    "start_time": "2022-08-25T13:56:52.881Z"
   },
   {
    "duration": 29,
    "start_time": "2022-08-25T13:56:52.928Z"
   },
   {
    "duration": 271,
    "start_time": "2022-08-25T13:56:52.959Z"
   },
   {
    "duration": 271,
    "start_time": "2022-08-25T13:56:53.231Z"
   },
   {
    "duration": 132,
    "start_time": "2022-08-25T13:56:53.504Z"
   },
   {
    "duration": 144,
    "start_time": "2022-08-25T13:56:53.639Z"
   },
   {
    "duration": 70,
    "start_time": "2022-08-25T13:57:48.748Z"
   },
   {
    "duration": 10,
    "start_time": "2022-08-25T13:57:48.820Z"
   },
   {
    "duration": 32,
    "start_time": "2022-08-25T13:57:48.832Z"
   },
   {
    "duration": 19,
    "start_time": "2022-08-25T13:57:48.866Z"
   },
   {
    "duration": 40,
    "start_time": "2022-08-25T13:57:48.886Z"
   },
   {
    "duration": 41,
    "start_time": "2022-08-25T13:57:48.927Z"
   },
   {
    "duration": 261,
    "start_time": "2022-08-25T13:57:48.970Z"
   },
   {
    "duration": 289,
    "start_time": "2022-08-25T13:57:49.233Z"
   },
   {
    "duration": 142,
    "start_time": "2022-08-25T13:57:49.524Z"
   },
   {
    "duration": 143,
    "start_time": "2022-08-25T13:57:49.668Z"
   },
   {
    "duration": 78,
    "start_time": "2022-08-25T13:59:13.181Z"
   },
   {
    "duration": 9,
    "start_time": "2022-08-25T13:59:13.262Z"
   },
   {
    "duration": 26,
    "start_time": "2022-08-25T13:59:13.272Z"
   },
   {
    "duration": 17,
    "start_time": "2022-08-25T13:59:13.301Z"
   },
   {
    "duration": 67,
    "start_time": "2022-08-25T13:59:13.319Z"
   },
   {
    "duration": 16,
    "start_time": "2022-08-25T13:59:13.388Z"
   },
   {
    "duration": 274,
    "start_time": "2022-08-25T13:59:13.405Z"
   },
   {
    "duration": 271,
    "start_time": "2022-08-25T13:59:13.681Z"
   },
   {
    "duration": 147,
    "start_time": "2022-08-25T13:59:13.953Z"
   },
   {
    "duration": 143,
    "start_time": "2022-08-25T13:59:14.102Z"
   },
   {
    "duration": 72,
    "start_time": "2022-08-25T13:59:40.473Z"
   },
   {
    "duration": 9,
    "start_time": "2022-08-25T13:59:40.546Z"
   },
   {
    "duration": 29,
    "start_time": "2022-08-25T13:59:40.556Z"
   },
   {
    "duration": 16,
    "start_time": "2022-08-25T13:59:40.587Z"
   },
   {
    "duration": 39,
    "start_time": "2022-08-25T13:59:40.605Z"
   },
   {
    "duration": 24,
    "start_time": "2022-08-25T13:59:40.646Z"
   },
   {
    "duration": 262,
    "start_time": "2022-08-25T13:59:40.671Z"
   },
   {
    "duration": 283,
    "start_time": "2022-08-25T13:59:40.935Z"
   },
   {
    "duration": 150,
    "start_time": "2022-08-25T13:59:41.220Z"
   },
   {
    "duration": 134,
    "start_time": "2022-08-25T13:59:41.372Z"
   },
   {
    "duration": 71,
    "start_time": "2022-08-25T14:00:40.982Z"
   },
   {
    "duration": 9,
    "start_time": "2022-08-25T14:00:41.055Z"
   },
   {
    "duration": 24,
    "start_time": "2022-08-25T14:00:41.065Z"
   },
   {
    "duration": 16,
    "start_time": "2022-08-25T14:00:41.091Z"
   },
   {
    "duration": 61,
    "start_time": "2022-08-25T14:00:41.110Z"
   },
   {
    "duration": 15,
    "start_time": "2022-08-25T14:00:41.173Z"
   },
   {
    "duration": 268,
    "start_time": "2022-08-25T14:00:41.189Z"
   },
   {
    "duration": 280,
    "start_time": "2022-08-25T14:00:41.459Z"
   },
   {
    "duration": 133,
    "start_time": "2022-08-25T14:00:41.740Z"
   },
   {
    "duration": 131,
    "start_time": "2022-08-25T14:00:41.874Z"
   },
   {
    "duration": 75,
    "start_time": "2022-08-25T14:00:54.172Z"
   },
   {
    "duration": 9,
    "start_time": "2022-08-25T14:00:54.248Z"
   },
   {
    "duration": 28,
    "start_time": "2022-08-25T14:00:54.259Z"
   },
   {
    "duration": 30,
    "start_time": "2022-08-25T14:00:54.290Z"
   },
   {
    "duration": 60,
    "start_time": "2022-08-25T14:00:54.322Z"
   },
   {
    "duration": 17,
    "start_time": "2022-08-25T14:00:54.384Z"
   },
   {
    "duration": 297,
    "start_time": "2022-08-25T14:00:54.403Z"
   },
   {
    "duration": 299,
    "start_time": "2022-08-25T14:00:54.702Z"
   },
   {
    "duration": 154,
    "start_time": "2022-08-25T14:00:55.003Z"
   },
   {
    "duration": 201,
    "start_time": "2022-08-25T14:00:55.159Z"
   },
   {
    "duration": 77,
    "start_time": "2022-08-25T14:01:07.202Z"
   },
   {
    "duration": 8,
    "start_time": "2022-08-25T14:01:07.281Z"
   },
   {
    "duration": 24,
    "start_time": "2022-08-25T14:01:07.291Z"
   },
   {
    "duration": 20,
    "start_time": "2022-08-25T14:01:07.316Z"
   },
   {
    "duration": 57,
    "start_time": "2022-08-25T14:01:07.338Z"
   },
   {
    "duration": 16,
    "start_time": "2022-08-25T14:01:07.397Z"
   },
   {
    "duration": 276,
    "start_time": "2022-08-25T14:01:07.415Z"
   },
   {
    "duration": 271,
    "start_time": "2022-08-25T14:01:07.693Z"
   },
   {
    "duration": 146,
    "start_time": "2022-08-25T14:01:07.966Z"
   },
   {
    "duration": 11,
    "start_time": "2022-08-25T14:01:08.114Z"
   },
   {
    "duration": 72,
    "start_time": "2022-08-25T14:01:27.412Z"
   },
   {
    "duration": 9,
    "start_time": "2022-08-25T14:01:27.485Z"
   },
   {
    "duration": 26,
    "start_time": "2022-08-25T14:01:27.496Z"
   },
   {
    "duration": 34,
    "start_time": "2022-08-25T14:01:27.525Z"
   },
   {
    "duration": 48,
    "start_time": "2022-08-25T14:01:27.561Z"
   },
   {
    "duration": 15,
    "start_time": "2022-08-25T14:01:27.611Z"
   },
   {
    "duration": 260,
    "start_time": "2022-08-25T14:01:27.628Z"
   },
   {
    "duration": 277,
    "start_time": "2022-08-25T14:01:27.890Z"
   },
   {
    "duration": 148,
    "start_time": "2022-08-25T14:01:28.169Z"
   },
   {
    "duration": 11,
    "start_time": "2022-08-25T14:01:28.319Z"
   },
   {
    "duration": 71,
    "start_time": "2022-08-25T14:01:35.774Z"
   },
   {
    "duration": 9,
    "start_time": "2022-08-25T14:01:35.847Z"
   },
   {
    "duration": 54,
    "start_time": "2022-08-25T14:01:35.858Z"
   },
   {
    "duration": 53,
    "start_time": "2022-08-25T14:01:35.914Z"
   },
   {
    "duration": 43,
    "start_time": "2022-08-25T14:01:35.968Z"
   },
   {
    "duration": 15,
    "start_time": "2022-08-25T14:01:36.013Z"
   },
   {
    "duration": 267,
    "start_time": "2022-08-25T14:01:36.030Z"
   },
   {
    "duration": 282,
    "start_time": "2022-08-25T14:01:36.298Z"
   },
   {
    "duration": 139,
    "start_time": "2022-08-25T14:01:36.582Z"
   },
   {
    "duration": 136,
    "start_time": "2022-08-25T14:01:36.723Z"
   },
   {
    "duration": 79,
    "start_time": "2022-08-25T14:02:03.331Z"
   },
   {
    "duration": 10,
    "start_time": "2022-08-25T14:02:03.412Z"
   },
   {
    "duration": 46,
    "start_time": "2022-08-25T14:02:03.424Z"
   },
   {
    "duration": 23,
    "start_time": "2022-08-25T14:02:03.472Z"
   },
   {
    "duration": 475,
    "start_time": "2022-08-25T14:02:03.497Z"
   },
   {
    "duration": 21,
    "start_time": "2022-08-25T14:02:03.974Z"
   },
   {
    "duration": 311,
    "start_time": "2022-08-25T14:02:03.997Z"
   },
   {
    "duration": 282,
    "start_time": "2022-08-25T14:02:04.310Z"
   },
   {
    "duration": 137,
    "start_time": "2022-08-25T14:02:04.594Z"
   },
   {
    "duration": 139,
    "start_time": "2022-08-25T14:02:04.734Z"
   },
   {
    "duration": 72,
    "start_time": "2022-08-25T14:02:13.951Z"
   },
   {
    "duration": 10,
    "start_time": "2022-08-25T14:02:14.025Z"
   },
   {
    "duration": 33,
    "start_time": "2022-08-25T14:02:14.037Z"
   },
   {
    "duration": 18,
    "start_time": "2022-08-25T14:02:14.072Z"
   },
   {
    "duration": 47,
    "start_time": "2022-08-25T14:02:14.092Z"
   },
   {
    "duration": 25,
    "start_time": "2022-08-25T14:02:14.140Z"
   },
   {
    "duration": 270,
    "start_time": "2022-08-25T14:02:14.167Z"
   },
   {
    "duration": 285,
    "start_time": "2022-08-25T14:02:14.439Z"
   },
   {
    "duration": 136,
    "start_time": "2022-08-25T14:02:14.726Z"
   },
   {
    "duration": 140,
    "start_time": "2022-08-25T14:02:14.864Z"
   },
   {
    "duration": 74,
    "start_time": "2022-08-25T14:03:01.743Z"
   },
   {
    "duration": 10,
    "start_time": "2022-08-25T14:03:01.820Z"
   },
   {
    "duration": 57,
    "start_time": "2022-08-25T14:03:01.832Z"
   },
   {
    "duration": 50,
    "start_time": "2022-08-25T14:03:01.891Z"
   },
   {
    "duration": 117,
    "start_time": "2022-08-25T14:03:01.943Z"
   },
   {
    "duration": 16,
    "start_time": "2022-08-25T14:03:02.062Z"
   },
   {
    "duration": 269,
    "start_time": "2022-08-25T14:03:02.080Z"
   },
   {
    "duration": 299,
    "start_time": "2022-08-25T14:03:02.350Z"
   },
   {
    "duration": 141,
    "start_time": "2022-08-25T14:03:02.651Z"
   },
   {
    "duration": 144,
    "start_time": "2022-08-25T14:03:02.794Z"
   },
   {
    "duration": 83,
    "start_time": "2022-08-25T14:03:13.357Z"
   },
   {
    "duration": 10,
    "start_time": "2022-08-25T14:03:13.442Z"
   },
   {
    "duration": 26,
    "start_time": "2022-08-25T14:03:13.454Z"
   },
   {
    "duration": 17,
    "start_time": "2022-08-25T14:03:13.483Z"
   },
   {
    "duration": 53,
    "start_time": "2022-08-25T14:03:13.502Z"
   },
   {
    "duration": 16,
    "start_time": "2022-08-25T14:03:13.558Z"
   },
   {
    "duration": 267,
    "start_time": "2022-08-25T14:03:13.575Z"
   },
   {
    "duration": 284,
    "start_time": "2022-08-25T14:03:13.844Z"
   },
   {
    "duration": 150,
    "start_time": "2022-08-25T14:03:14.130Z"
   },
   {
    "duration": 136,
    "start_time": "2022-08-25T14:03:14.282Z"
   },
   {
    "duration": 1379,
    "start_time": "2022-08-26T11:24:03.334Z"
   },
   {
    "duration": 8,
    "start_time": "2022-08-26T11:24:04.715Z"
   },
   {
    "duration": 25,
    "start_time": "2022-08-26T11:24:04.725Z"
   },
   {
    "duration": 33,
    "start_time": "2022-08-26T11:24:04.752Z"
   },
   {
    "duration": 40,
    "start_time": "2022-08-26T11:24:04.787Z"
   },
   {
    "duration": 15,
    "start_time": "2022-08-26T11:24:04.829Z"
   },
   {
    "duration": 305,
    "start_time": "2022-08-26T11:24:04.846Z"
   },
   {
    "duration": 255,
    "start_time": "2022-08-26T11:24:05.153Z"
   },
   {
    "duration": 141,
    "start_time": "2022-08-26T11:24:05.410Z"
   },
   {
    "duration": 139,
    "start_time": "2022-08-26T11:24:05.553Z"
   },
   {
    "duration": 280,
    "start_time": "2022-08-26T11:24:05.694Z"
   },
   {
    "duration": 958,
    "start_time": "2022-08-26T11:29:43.651Z"
   },
   {
    "duration": 0,
    "start_time": "2022-08-26T11:29:44.611Z"
   },
   {
    "duration": 0,
    "start_time": "2022-08-26T11:29:44.613Z"
   },
   {
    "duration": 0,
    "start_time": "2022-08-26T11:29:44.614Z"
   },
   {
    "duration": 0,
    "start_time": "2022-08-26T11:29:44.615Z"
   },
   {
    "duration": 0,
    "start_time": "2022-08-26T11:29:44.616Z"
   },
   {
    "duration": 0,
    "start_time": "2022-08-26T11:29:44.617Z"
   },
   {
    "duration": 0,
    "start_time": "2022-08-26T11:29:44.618Z"
   },
   {
    "duration": 0,
    "start_time": "2022-08-26T11:29:44.619Z"
   },
   {
    "duration": 0,
    "start_time": "2022-08-26T11:29:44.620Z"
   },
   {
    "duration": 0,
    "start_time": "2022-08-26T11:29:44.621Z"
   },
   {
    "duration": 69,
    "start_time": "2022-08-26T11:29:59.893Z"
   },
   {
    "duration": 8,
    "start_time": "2022-08-26T11:29:59.964Z"
   },
   {
    "duration": 25,
    "start_time": "2022-08-26T11:29:59.973Z"
   },
   {
    "duration": 19,
    "start_time": "2022-08-26T11:29:59.999Z"
   },
   {
    "duration": 44,
    "start_time": "2022-08-26T11:30:00.020Z"
   },
   {
    "duration": 29,
    "start_time": "2022-08-26T11:30:00.065Z"
   },
   {
    "duration": 268,
    "start_time": "2022-08-26T11:30:00.096Z"
   },
   {
    "duration": 290,
    "start_time": "2022-08-26T11:30:00.366Z"
   },
   {
    "duration": 138,
    "start_time": "2022-08-26T11:30:00.657Z"
   },
   {
    "duration": 208,
    "start_time": "2022-08-26T11:30:00.797Z"
   },
   {
    "duration": 313,
    "start_time": "2022-08-26T11:30:01.008Z"
   },
   {
    "duration": 65,
    "start_time": "2022-08-26T11:30:16.210Z"
   },
   {
    "duration": 9,
    "start_time": "2022-08-26T11:30:16.277Z"
   },
   {
    "duration": 26,
    "start_time": "2022-08-26T11:30:16.287Z"
   },
   {
    "duration": 16,
    "start_time": "2022-08-26T11:30:16.315Z"
   },
   {
    "duration": 53,
    "start_time": "2022-08-26T11:30:16.332Z"
   },
   {
    "duration": 13,
    "start_time": "2022-08-26T11:30:16.386Z"
   },
   {
    "duration": 245,
    "start_time": "2022-08-26T11:30:16.401Z"
   },
   {
    "duration": 265,
    "start_time": "2022-08-26T11:30:16.648Z"
   },
   {
    "duration": 128,
    "start_time": "2022-08-26T11:30:16.914Z"
   },
   {
    "duration": 129,
    "start_time": "2022-08-26T11:30:17.044Z"
   },
   {
    "duration": 271,
    "start_time": "2022-08-26T11:30:17.174Z"
   },
   {
    "duration": 71,
    "start_time": "2022-08-26T11:30:47.498Z"
   },
   {
    "duration": 8,
    "start_time": "2022-08-26T11:30:47.571Z"
   },
   {
    "duration": 26,
    "start_time": "2022-08-26T11:30:47.580Z"
   },
   {
    "duration": 15,
    "start_time": "2022-08-26T11:30:47.608Z"
   },
   {
    "duration": 39,
    "start_time": "2022-08-26T11:30:47.625Z"
   },
   {
    "duration": 24,
    "start_time": "2022-08-26T11:30:47.665Z"
   },
   {
    "duration": 247,
    "start_time": "2022-08-26T11:30:47.690Z"
   },
   {
    "duration": 275,
    "start_time": "2022-08-26T11:30:47.939Z"
   },
   {
    "duration": 137,
    "start_time": "2022-08-26T11:30:48.215Z"
   },
   {
    "duration": 136,
    "start_time": "2022-08-26T11:30:48.354Z"
   },
   {
    "duration": 341,
    "start_time": "2022-08-26T11:30:48.491Z"
   },
   {
    "duration": 73,
    "start_time": "2022-08-26T11:31:00.338Z"
   },
   {
    "duration": 18,
    "start_time": "2022-08-26T11:31:00.413Z"
   },
   {
    "duration": 47,
    "start_time": "2022-08-26T11:31:00.432Z"
   },
   {
    "duration": 19,
    "start_time": "2022-08-26T11:31:00.481Z"
   },
   {
    "duration": 71,
    "start_time": "2022-08-26T11:31:00.502Z"
   },
   {
    "duration": 14,
    "start_time": "2022-08-26T11:31:00.575Z"
   },
   {
    "duration": 262,
    "start_time": "2022-08-26T11:31:00.590Z"
   },
   {
    "duration": 257,
    "start_time": "2022-08-26T11:31:00.854Z"
   },
   {
    "duration": 131,
    "start_time": "2022-08-26T11:31:01.113Z"
   },
   {
    "duration": 130,
    "start_time": "2022-08-26T11:31:01.246Z"
   },
   {
    "duration": 283,
    "start_time": "2022-08-26T11:31:01.385Z"
   },
   {
    "duration": 81,
    "start_time": "2022-08-26T11:41:20.323Z"
   },
   {
    "duration": 17,
    "start_time": "2022-08-26T11:41:20.406Z"
   },
   {
    "duration": 24,
    "start_time": "2022-08-26T11:41:20.425Z"
   },
   {
    "duration": 35,
    "start_time": "2022-08-26T11:41:20.451Z"
   },
   {
    "duration": 44,
    "start_time": "2022-08-26T11:41:20.487Z"
   },
   {
    "duration": 16,
    "start_time": "2022-08-26T11:41:20.532Z"
   },
   {
    "duration": 283,
    "start_time": "2022-08-26T11:41:20.550Z"
   },
   {
    "duration": 291,
    "start_time": "2022-08-26T11:41:20.835Z"
   },
   {
    "duration": 161,
    "start_time": "2022-08-26T11:41:21.127Z"
   },
   {
    "duration": 283,
    "start_time": "2022-08-26T11:41:21.291Z"
   },
   {
    "duration": 610,
    "start_time": "2022-08-26T11:41:21.576Z"
   },
   {
    "duration": 74,
    "start_time": "2022-08-26T12:00:51.808Z"
   },
   {
    "duration": 17,
    "start_time": "2022-08-26T12:00:51.884Z"
   },
   {
    "duration": 24,
    "start_time": "2022-08-26T12:00:51.902Z"
   },
   {
    "duration": 14,
    "start_time": "2022-08-26T12:00:51.928Z"
   },
   {
    "duration": 53,
    "start_time": "2022-08-26T12:00:51.944Z"
   },
   {
    "duration": 15,
    "start_time": "2022-08-26T12:00:51.998Z"
   },
   {
    "duration": 264,
    "start_time": "2022-08-26T12:00:52.014Z"
   },
   {
    "duration": 256,
    "start_time": "2022-08-26T12:00:52.280Z"
   },
   {
    "duration": 136,
    "start_time": "2022-08-26T12:00:52.538Z"
   },
   {
    "duration": 291,
    "start_time": "2022-08-26T12:00:52.685Z"
   },
   {
    "duration": 491,
    "start_time": "2022-08-26T12:00:52.978Z"
   },
   {
    "duration": 253,
    "start_time": "2022-08-26T12:00:53.470Z"
   },
   {
    "duration": 74,
    "start_time": "2022-08-26T12:01:24.141Z"
   },
   {
    "duration": 16,
    "start_time": "2022-08-26T12:01:24.217Z"
   },
   {
    "duration": 29,
    "start_time": "2022-08-26T12:01:24.234Z"
   },
   {
    "duration": 35,
    "start_time": "2022-08-26T12:01:24.264Z"
   },
   {
    "duration": 37,
    "start_time": "2022-08-26T12:01:24.301Z"
   },
   {
    "duration": 14,
    "start_time": "2022-08-26T12:01:24.340Z"
   },
   {
    "duration": 314,
    "start_time": "2022-08-26T12:01:24.355Z"
   },
   {
    "duration": 256,
    "start_time": "2022-08-26T12:01:24.671Z"
   },
   {
    "duration": 136,
    "start_time": "2022-08-26T12:01:24.928Z"
   },
   {
    "duration": 364,
    "start_time": "2022-08-26T12:01:25.066Z"
   },
   {
    "duration": 516,
    "start_time": "2022-08-26T12:01:25.432Z"
   },
   {
    "duration": 213,
    "start_time": "2022-08-26T12:01:25.950Z"
   },
   {
    "duration": 75,
    "start_time": "2022-08-26T12:01:35.398Z"
   },
   {
    "duration": 17,
    "start_time": "2022-08-26T12:01:35.475Z"
   },
   {
    "duration": 30,
    "start_time": "2022-08-26T12:01:35.493Z"
   },
   {
    "duration": 18,
    "start_time": "2022-08-26T12:01:35.524Z"
   },
   {
    "duration": 53,
    "start_time": "2022-08-26T12:01:35.544Z"
   },
   {
    "duration": 18,
    "start_time": "2022-08-26T12:01:35.598Z"
   },
   {
    "duration": 278,
    "start_time": "2022-08-26T12:01:35.617Z"
   },
   {
    "duration": 282,
    "start_time": "2022-08-26T12:01:35.897Z"
   },
   {
    "duration": 145,
    "start_time": "2022-08-26T12:01:36.181Z"
   },
   {
    "duration": 275,
    "start_time": "2022-08-26T12:01:36.328Z"
   },
   {
    "duration": 536,
    "start_time": "2022-08-26T12:01:36.605Z"
   },
   {
    "duration": 263,
    "start_time": "2022-08-26T12:01:37.143Z"
   },
   {
    "duration": 72,
    "start_time": "2022-08-26T12:03:29.461Z"
   },
   {
    "duration": 16,
    "start_time": "2022-08-26T12:03:29.534Z"
   },
   {
    "duration": 42,
    "start_time": "2022-08-26T12:03:29.551Z"
   },
   {
    "duration": 16,
    "start_time": "2022-08-26T12:03:29.595Z"
   },
   {
    "duration": 41,
    "start_time": "2022-08-26T12:03:29.612Z"
   },
   {
    "duration": 140,
    "start_time": "2022-08-26T12:03:29.654Z"
   },
   {
    "duration": 250,
    "start_time": "2022-08-26T12:03:29.796Z"
   },
   {
    "duration": 289,
    "start_time": "2022-08-26T12:03:30.048Z"
   },
   {
    "duration": 148,
    "start_time": "2022-08-26T12:03:30.339Z"
   },
   {
    "duration": 280,
    "start_time": "2022-08-26T12:03:30.489Z"
   },
   {
    "duration": 544,
    "start_time": "2022-08-26T12:03:30.771Z"
   },
   {
    "duration": 221,
    "start_time": "2022-08-26T12:03:31.317Z"
   },
   {
    "duration": 90,
    "start_time": "2022-08-26T12:04:12.761Z"
   },
   {
    "duration": 23,
    "start_time": "2022-08-26T12:04:12.854Z"
   },
   {
    "duration": 34,
    "start_time": "2022-08-26T12:04:12.884Z"
   },
   {
    "duration": 22,
    "start_time": "2022-08-26T12:04:12.920Z"
   },
   {
    "duration": 65,
    "start_time": "2022-08-26T12:04:12.944Z"
   },
   {
    "duration": 18,
    "start_time": "2022-08-26T12:04:13.011Z"
   },
   {
    "duration": 282,
    "start_time": "2022-08-26T12:04:13.031Z"
   },
   {
    "duration": 263,
    "start_time": "2022-08-26T12:04:13.315Z"
   },
   {
    "duration": 131,
    "start_time": "2022-08-26T12:04:13.580Z"
   },
   {
    "duration": 278,
    "start_time": "2022-08-26T12:04:13.713Z"
   },
   {
    "duration": 667,
    "start_time": "2022-08-26T12:04:13.993Z"
   },
   {
    "duration": 223,
    "start_time": "2022-08-26T12:04:14.662Z"
   },
   {
    "duration": 79,
    "start_time": "2022-08-26T12:04:22.448Z"
   },
   {
    "duration": 18,
    "start_time": "2022-08-26T12:04:22.529Z"
   },
   {
    "duration": 43,
    "start_time": "2022-08-26T12:04:22.549Z"
   },
   {
    "duration": 17,
    "start_time": "2022-08-26T12:04:22.594Z"
   },
   {
    "duration": 38,
    "start_time": "2022-08-26T12:04:22.613Z"
   },
   {
    "duration": 38,
    "start_time": "2022-08-26T12:04:22.652Z"
   },
   {
    "duration": 294,
    "start_time": "2022-08-26T12:04:22.691Z"
   },
   {
    "duration": 281,
    "start_time": "2022-08-26T12:04:22.987Z"
   },
   {
    "duration": 138,
    "start_time": "2022-08-26T12:04:23.270Z"
   },
   {
    "duration": 257,
    "start_time": "2022-08-26T12:04:23.409Z"
   },
   {
    "duration": 530,
    "start_time": "2022-08-26T12:04:23.668Z"
   },
   {
    "duration": 322,
    "start_time": "2022-08-26T12:04:24.200Z"
   },
   {
    "duration": 78,
    "start_time": "2022-08-26T12:04:39.518Z"
   },
   {
    "duration": 18,
    "start_time": "2022-08-26T12:04:39.598Z"
   },
   {
    "duration": 26,
    "start_time": "2022-08-26T12:04:39.618Z"
   },
   {
    "duration": 40,
    "start_time": "2022-08-26T12:04:39.646Z"
   },
   {
    "duration": 47,
    "start_time": "2022-08-26T12:04:39.687Z"
   },
   {
    "duration": 14,
    "start_time": "2022-08-26T12:04:39.735Z"
   },
   {
    "duration": 268,
    "start_time": "2022-08-26T12:04:39.750Z"
   },
   {
    "duration": 296,
    "start_time": "2022-08-26T12:04:40.020Z"
   },
   {
    "duration": 130,
    "start_time": "2022-08-26T12:04:40.318Z"
   },
   {
    "duration": 265,
    "start_time": "2022-08-26T12:04:40.450Z"
   },
   {
    "duration": 660,
    "start_time": "2022-08-26T12:04:40.717Z"
   },
   {
    "duration": 267,
    "start_time": "2022-08-26T12:04:41.384Z"
   },
   {
    "duration": 73,
    "start_time": "2022-08-26T12:04:51.675Z"
   },
   {
    "duration": 19,
    "start_time": "2022-08-26T12:04:51.750Z"
   },
   {
    "duration": 33,
    "start_time": "2022-08-26T12:04:51.770Z"
   },
   {
    "duration": 17,
    "start_time": "2022-08-26T12:04:51.805Z"
   },
   {
    "duration": 41,
    "start_time": "2022-08-26T12:04:51.824Z"
   },
   {
    "duration": 31,
    "start_time": "2022-08-26T12:04:51.867Z"
   },
   {
    "duration": 266,
    "start_time": "2022-08-26T12:04:51.900Z"
   },
   {
    "duration": 267,
    "start_time": "2022-08-26T12:04:52.168Z"
   },
   {
    "duration": 132,
    "start_time": "2022-08-26T12:04:52.437Z"
   },
   {
    "duration": 282,
    "start_time": "2022-08-26T12:04:52.572Z"
   },
   {
    "duration": 547,
    "start_time": "2022-08-26T12:04:52.856Z"
   },
   {
    "duration": 277,
    "start_time": "2022-08-26T12:04:53.404Z"
   },
   {
    "duration": 70,
    "start_time": "2022-08-26T12:05:01.532Z"
   },
   {
    "duration": 18,
    "start_time": "2022-08-26T12:05:01.604Z"
   },
   {
    "duration": 24,
    "start_time": "2022-08-26T12:05:01.624Z"
   },
   {
    "duration": 37,
    "start_time": "2022-08-26T12:05:01.651Z"
   },
   {
    "duration": 69,
    "start_time": "2022-08-26T12:05:01.689Z"
   },
   {
    "duration": 14,
    "start_time": "2022-08-26T12:05:01.760Z"
   },
   {
    "duration": 253,
    "start_time": "2022-08-26T12:05:01.775Z"
   },
   {
    "duration": 291,
    "start_time": "2022-08-26T12:05:02.029Z"
   },
   {
    "duration": 133,
    "start_time": "2022-08-26T12:05:02.321Z"
   },
   {
    "duration": 277,
    "start_time": "2022-08-26T12:05:02.457Z"
   },
   {
    "duration": 554,
    "start_time": "2022-08-26T12:05:02.736Z"
   },
   {
    "duration": 430,
    "start_time": "2022-08-26T12:05:03.292Z"
   },
   {
    "duration": 72,
    "start_time": "2022-08-26T12:05:14.130Z"
   },
   {
    "duration": 17,
    "start_time": "2022-08-26T12:05:14.204Z"
   },
   {
    "duration": 25,
    "start_time": "2022-08-26T12:05:14.222Z"
   },
   {
    "duration": 41,
    "start_time": "2022-08-26T12:05:14.248Z"
   },
   {
    "duration": 39,
    "start_time": "2022-08-26T12:05:14.291Z"
   },
   {
    "duration": 15,
    "start_time": "2022-08-26T12:05:14.331Z"
   },
   {
    "duration": 287,
    "start_time": "2022-08-26T12:05:14.347Z"
   },
   {
    "duration": 261,
    "start_time": "2022-08-26T12:05:14.636Z"
   },
   {
    "duration": 144,
    "start_time": "2022-08-26T12:05:14.899Z"
   },
   {
    "duration": 278,
    "start_time": "2022-08-26T12:05:15.046Z"
   },
   {
    "duration": 499,
    "start_time": "2022-08-26T12:05:15.325Z"
   },
   {
    "duration": 225,
    "start_time": "2022-08-26T12:05:15.825Z"
   },
   {
    "duration": 81,
    "start_time": "2022-08-26T12:05:27.824Z"
   },
   {
    "duration": 19,
    "start_time": "2022-08-26T12:05:27.908Z"
   },
   {
    "duration": 24,
    "start_time": "2022-08-26T12:05:27.929Z"
   },
   {
    "duration": 39,
    "start_time": "2022-08-26T12:05:27.955Z"
   },
   {
    "duration": 38,
    "start_time": "2022-08-26T12:05:27.996Z"
   },
   {
    "duration": 14,
    "start_time": "2022-08-26T12:05:28.036Z"
   },
   {
    "duration": 253,
    "start_time": "2022-08-26T12:05:28.052Z"
   },
   {
    "duration": 260,
    "start_time": "2022-08-26T12:05:28.307Z"
   },
   {
    "duration": 151,
    "start_time": "2022-08-26T12:05:28.569Z"
   },
   {
    "duration": 277,
    "start_time": "2022-08-26T12:05:28.723Z"
   },
   {
    "duration": 500,
    "start_time": "2022-08-26T12:05:29.002Z"
   },
   {
    "duration": 245,
    "start_time": "2022-08-26T12:05:29.504Z"
   },
   {
    "duration": 72,
    "start_time": "2022-08-26T12:05:36.333Z"
   },
   {
    "duration": 17,
    "start_time": "2022-08-26T12:05:36.406Z"
   },
   {
    "duration": 25,
    "start_time": "2022-08-26T12:05:36.425Z"
   },
   {
    "duration": 35,
    "start_time": "2022-08-26T12:05:36.452Z"
   },
   {
    "duration": 39,
    "start_time": "2022-08-26T12:05:36.489Z"
   },
   {
    "duration": 15,
    "start_time": "2022-08-26T12:05:36.529Z"
   },
   {
    "duration": 267,
    "start_time": "2022-08-26T12:05:36.545Z"
   },
   {
    "duration": 434,
    "start_time": "2022-08-26T12:05:36.814Z"
   },
   {
    "duration": 127,
    "start_time": "2022-08-26T12:05:37.250Z"
   },
   {
    "duration": 266,
    "start_time": "2022-08-26T12:05:37.385Z"
   },
   {
    "duration": 525,
    "start_time": "2022-08-26T12:05:37.652Z"
   },
   {
    "duration": 260,
    "start_time": "2022-08-26T12:05:38.184Z"
   },
   {
    "duration": 72,
    "start_time": "2022-08-26T12:25:50.253Z"
   },
   {
    "duration": 17,
    "start_time": "2022-08-26T12:25:50.327Z"
   },
   {
    "duration": 41,
    "start_time": "2022-08-26T12:25:50.346Z"
   },
   {
    "duration": 18,
    "start_time": "2022-08-26T12:25:50.389Z"
   },
   {
    "duration": 39,
    "start_time": "2022-08-26T12:25:50.408Z"
   },
   {
    "duration": 15,
    "start_time": "2022-08-26T12:25:50.448Z"
   },
   {
    "duration": 281,
    "start_time": "2022-08-26T12:25:50.485Z"
   },
   {
    "duration": 276,
    "start_time": "2022-08-26T12:25:50.768Z"
   },
   {
    "duration": 130,
    "start_time": "2022-08-26T12:25:51.046Z"
   },
   {
    "duration": 263,
    "start_time": "2022-08-26T12:25:51.179Z"
   },
   {
    "duration": 497,
    "start_time": "2022-08-26T12:25:51.443Z"
   },
   {
    "duration": 255,
    "start_time": "2022-08-26T12:25:51.941Z"
   },
   {
    "duration": 5,
    "start_time": "2022-08-26T12:25:52.198Z"
   },
   {
    "duration": 70,
    "start_time": "2022-08-26T12:26:39.827Z"
   },
   {
    "duration": 16,
    "start_time": "2022-08-26T12:26:39.899Z"
   },
   {
    "duration": 23,
    "start_time": "2022-08-26T12:26:39.917Z"
   },
   {
    "duration": 16,
    "start_time": "2022-08-26T12:26:39.943Z"
   },
   {
    "duration": 65,
    "start_time": "2022-08-26T12:26:39.961Z"
   },
   {
    "duration": 16,
    "start_time": "2022-08-26T12:26:40.027Z"
   },
   {
    "duration": 284,
    "start_time": "2022-08-26T12:26:40.045Z"
   },
   {
    "duration": 267,
    "start_time": "2022-08-26T12:26:40.330Z"
   },
   {
    "duration": 136,
    "start_time": "2022-08-26T12:26:40.598Z"
   },
   {
    "duration": 259,
    "start_time": "2022-08-26T12:26:40.737Z"
   },
   {
    "duration": 692,
    "start_time": "2022-08-26T12:26:40.998Z"
   },
   {
    "duration": 262,
    "start_time": "2022-08-26T12:26:41.691Z"
   },
   {
    "duration": 8,
    "start_time": "2022-08-26T12:26:41.955Z"
   },
   {
    "duration": 74,
    "start_time": "2022-08-26T12:27:16.679Z"
   },
   {
    "duration": 22,
    "start_time": "2022-08-26T12:27:16.755Z"
   },
   {
    "duration": 31,
    "start_time": "2022-08-26T12:27:16.779Z"
   },
   {
    "duration": 18,
    "start_time": "2022-08-26T12:27:16.812Z"
   },
   {
    "duration": 60,
    "start_time": "2022-08-26T12:27:16.832Z"
   },
   {
    "duration": 17,
    "start_time": "2022-08-26T12:27:16.894Z"
   },
   {
    "duration": 285,
    "start_time": "2022-08-26T12:27:16.912Z"
   },
   {
    "duration": 268,
    "start_time": "2022-08-26T12:27:17.199Z"
   },
   {
    "duration": 137,
    "start_time": "2022-08-26T12:27:17.469Z"
   },
   {
    "duration": 293,
    "start_time": "2022-08-26T12:27:17.608Z"
   },
   {
    "duration": 562,
    "start_time": "2022-08-26T12:27:17.902Z"
   },
   {
    "duration": 271,
    "start_time": "2022-08-26T12:27:18.466Z"
   },
   {
    "duration": 8,
    "start_time": "2022-08-26T12:27:18.739Z"
   },
   {
    "duration": 73,
    "start_time": "2022-08-26T12:27:33.399Z"
   },
   {
    "duration": 18,
    "start_time": "2022-08-26T12:27:33.474Z"
   },
   {
    "duration": 25,
    "start_time": "2022-08-26T12:27:33.493Z"
   },
   {
    "duration": 16,
    "start_time": "2022-08-26T12:27:33.520Z"
   },
   {
    "duration": 50,
    "start_time": "2022-08-26T12:27:33.538Z"
   },
   {
    "duration": 15,
    "start_time": "2022-08-26T12:27:33.589Z"
   },
   {
    "duration": 273,
    "start_time": "2022-08-26T12:27:33.605Z"
   },
   {
    "duration": 277,
    "start_time": "2022-08-26T12:27:33.880Z"
   },
   {
    "duration": 133,
    "start_time": "2022-08-26T12:27:34.159Z"
   },
   {
    "duration": 295,
    "start_time": "2022-08-26T12:27:34.294Z"
   },
   {
    "duration": 534,
    "start_time": "2022-08-26T12:27:34.591Z"
   },
   {
    "duration": 254,
    "start_time": "2022-08-26T12:27:35.127Z"
   },
   {
    "duration": 7,
    "start_time": "2022-08-26T12:27:35.382Z"
   },
   {
    "duration": 88,
    "start_time": "2022-08-26T12:28:59.334Z"
   },
   {
    "duration": 18,
    "start_time": "2022-08-26T12:28:59.424Z"
   },
   {
    "duration": 42,
    "start_time": "2022-08-26T12:28:59.444Z"
   },
   {
    "duration": 19,
    "start_time": "2022-08-26T12:28:59.488Z"
   },
   {
    "duration": 41,
    "start_time": "2022-08-26T12:28:59.509Z"
   },
   {
    "duration": 38,
    "start_time": "2022-08-26T12:28:59.552Z"
   },
   {
    "duration": 245,
    "start_time": "2022-08-26T12:28:59.591Z"
   },
   {
    "duration": 254,
    "start_time": "2022-08-26T12:28:59.838Z"
   },
   {
    "duration": 145,
    "start_time": "2022-08-26T12:29:00.094Z"
   },
   {
    "duration": 263,
    "start_time": "2022-08-26T12:29:00.241Z"
   },
   {
    "duration": 767,
    "start_time": "2022-08-26T12:29:00.506Z"
   },
   {
    "duration": 241,
    "start_time": "2022-08-26T12:29:01.284Z"
   },
   {
    "duration": 12,
    "start_time": "2022-08-26T12:29:01.526Z"
   },
   {
    "duration": 74,
    "start_time": "2022-08-26T12:29:38.984Z"
   },
   {
    "duration": 21,
    "start_time": "2022-08-26T12:29:39.059Z"
   },
   {
    "duration": 34,
    "start_time": "2022-08-26T12:29:39.084Z"
   },
   {
    "duration": 19,
    "start_time": "2022-08-26T12:29:39.121Z"
   },
   {
    "duration": 68,
    "start_time": "2022-08-26T12:29:39.142Z"
   },
   {
    "duration": 17,
    "start_time": "2022-08-26T12:29:39.212Z"
   },
   {
    "duration": 290,
    "start_time": "2022-08-26T12:29:39.230Z"
   },
   {
    "duration": 293,
    "start_time": "2022-08-26T12:29:39.522Z"
   },
   {
    "duration": 147,
    "start_time": "2022-08-26T12:29:39.816Z"
   },
   {
    "duration": 304,
    "start_time": "2022-08-26T12:29:39.965Z"
   },
   {
    "duration": 579,
    "start_time": "2022-08-26T12:29:40.271Z"
   },
   {
    "duration": 269,
    "start_time": "2022-08-26T12:29:40.852Z"
   },
   {
    "duration": 15,
    "start_time": "2022-08-26T12:29:41.124Z"
   },
   {
    "duration": 77,
    "start_time": "2022-08-26T12:29:58.328Z"
   },
   {
    "duration": 21,
    "start_time": "2022-08-26T12:29:58.407Z"
   },
   {
    "duration": 28,
    "start_time": "2022-08-26T12:29:58.430Z"
   },
   {
    "duration": 38,
    "start_time": "2022-08-26T12:29:58.460Z"
   },
   {
    "duration": 45,
    "start_time": "2022-08-26T12:29:58.501Z"
   },
   {
    "duration": 15,
    "start_time": "2022-08-26T12:29:58.548Z"
   },
   {
    "duration": 285,
    "start_time": "2022-08-26T12:29:58.564Z"
   },
   {
    "duration": 296,
    "start_time": "2022-08-26T12:29:58.851Z"
   },
   {
    "duration": 148,
    "start_time": "2022-08-26T12:29:59.148Z"
   },
   {
    "duration": 320,
    "start_time": "2022-08-26T12:29:59.299Z"
   },
   {
    "duration": 571,
    "start_time": "2022-08-26T12:29:59.621Z"
   },
   {
    "duration": 283,
    "start_time": "2022-08-26T12:30:00.194Z"
   },
   {
    "duration": 16,
    "start_time": "2022-08-26T12:30:00.479Z"
   },
   {
    "duration": 74,
    "start_time": "2022-08-26T12:39:47.428Z"
   },
   {
    "duration": 21,
    "start_time": "2022-08-26T12:39:47.504Z"
   },
   {
    "duration": 28,
    "start_time": "2022-08-26T12:39:47.528Z"
   },
   {
    "duration": 37,
    "start_time": "2022-08-26T12:39:47.558Z"
   },
   {
    "duration": 43,
    "start_time": "2022-08-26T12:39:47.597Z"
   },
   {
    "duration": 13,
    "start_time": "2022-08-26T12:39:47.642Z"
   },
   {
    "duration": 299,
    "start_time": "2022-08-26T12:39:47.657Z"
   },
   {
    "duration": 297,
    "start_time": "2022-08-26T12:39:47.958Z"
   },
   {
    "duration": 157,
    "start_time": "2022-08-26T12:39:48.256Z"
   },
   {
    "duration": 289,
    "start_time": "2022-08-26T12:39:48.415Z"
   },
   {
    "duration": 852,
    "start_time": "2022-08-26T12:39:48.706Z"
   },
   {
    "duration": 260,
    "start_time": "2022-08-26T12:39:49.560Z"
   },
   {
    "duration": 15,
    "start_time": "2022-08-26T12:39:49.822Z"
   },
   {
    "duration": 79,
    "start_time": "2022-08-26T12:40:10.693Z"
   },
   {
    "duration": 20,
    "start_time": "2022-08-26T12:40:10.774Z"
   },
   {
    "duration": 32,
    "start_time": "2022-08-26T12:40:10.796Z"
   },
   {
    "duration": 17,
    "start_time": "2022-08-26T12:40:10.830Z"
   },
   {
    "duration": 66,
    "start_time": "2022-08-26T12:40:10.849Z"
   },
   {
    "duration": 18,
    "start_time": "2022-08-26T12:40:10.917Z"
   },
   {
    "duration": 304,
    "start_time": "2022-08-26T12:40:10.937Z"
   },
   {
    "duration": 294,
    "start_time": "2022-08-26T12:40:11.243Z"
   },
   {
    "duration": 148,
    "start_time": "2022-08-26T12:40:11.539Z"
   },
   {
    "duration": 288,
    "start_time": "2022-08-26T12:40:11.689Z"
   },
   {
    "duration": 563,
    "start_time": "2022-08-26T12:40:11.979Z"
   },
   {
    "duration": 286,
    "start_time": "2022-08-26T12:40:12.543Z"
   },
   {
    "duration": 17,
    "start_time": "2022-08-26T12:40:12.831Z"
   },
   {
    "duration": 70,
    "start_time": "2022-08-26T12:41:13.209Z"
   },
   {
    "duration": 17,
    "start_time": "2022-08-26T12:41:13.282Z"
   },
   {
    "duration": 24,
    "start_time": "2022-08-26T12:41:13.301Z"
   },
   {
    "duration": 17,
    "start_time": "2022-08-26T12:41:13.327Z"
   },
   {
    "duration": 62,
    "start_time": "2022-08-26T12:41:13.345Z"
   },
   {
    "duration": 14,
    "start_time": "2022-08-26T12:41:13.409Z"
   },
   {
    "duration": 262,
    "start_time": "2022-08-26T12:41:13.424Z"
   },
   {
    "duration": 281,
    "start_time": "2022-08-26T12:41:13.688Z"
   },
   {
    "duration": 142,
    "start_time": "2022-08-26T12:41:13.971Z"
   },
   {
    "duration": 280,
    "start_time": "2022-08-26T12:41:14.116Z"
   },
   {
    "duration": 547,
    "start_time": "2022-08-26T12:41:14.398Z"
   },
   {
    "duration": 243,
    "start_time": "2022-08-26T12:41:14.947Z"
   },
   {
    "duration": 13,
    "start_time": "2022-08-26T12:41:15.191Z"
   },
   {
    "duration": 72,
    "start_time": "2022-08-26T12:41:36.736Z"
   },
   {
    "duration": 17,
    "start_time": "2022-08-26T12:41:36.810Z"
   },
   {
    "duration": 25,
    "start_time": "2022-08-26T12:41:36.828Z"
   },
   {
    "duration": 36,
    "start_time": "2022-08-26T12:41:36.855Z"
   },
   {
    "duration": 41,
    "start_time": "2022-08-26T12:41:36.893Z"
   },
   {
    "duration": 16,
    "start_time": "2022-08-26T12:41:36.935Z"
   },
   {
    "duration": 280,
    "start_time": "2022-08-26T12:41:36.952Z"
   },
   {
    "duration": 285,
    "start_time": "2022-08-26T12:41:37.234Z"
   },
   {
    "duration": 146,
    "start_time": "2022-08-26T12:41:37.521Z"
   },
   {
    "duration": 272,
    "start_time": "2022-08-26T12:41:37.670Z"
   },
   {
    "duration": 829,
    "start_time": "2022-08-26T12:41:37.944Z"
   },
   {
    "duration": 263,
    "start_time": "2022-08-26T12:41:38.774Z"
   },
   {
    "duration": 14,
    "start_time": "2022-08-26T12:41:39.039Z"
   },
   {
    "duration": 88,
    "start_time": "2022-08-26T12:42:39.692Z"
   },
   {
    "duration": 18,
    "start_time": "2022-08-26T12:42:39.782Z"
   },
   {
    "duration": 28,
    "start_time": "2022-08-26T12:42:39.802Z"
   },
   {
    "duration": 18,
    "start_time": "2022-08-26T12:42:39.832Z"
   },
   {
    "duration": 66,
    "start_time": "2022-08-26T12:42:39.852Z"
   },
   {
    "duration": 17,
    "start_time": "2022-08-26T12:42:39.920Z"
   },
   {
    "duration": 288,
    "start_time": "2022-08-26T12:42:39.939Z"
   },
   {
    "duration": 313,
    "start_time": "2022-08-26T12:42:40.229Z"
   },
   {
    "duration": 141,
    "start_time": "2022-08-26T12:42:40.543Z"
   },
   {
    "duration": 270,
    "start_time": "2022-08-26T12:42:40.687Z"
   },
   {
    "duration": 558,
    "start_time": "2022-08-26T12:42:40.958Z"
   },
   {
    "duration": 249,
    "start_time": "2022-08-26T12:42:41.517Z"
   },
   {
    "duration": 32,
    "start_time": "2022-08-26T12:42:41.769Z"
   },
   {
    "duration": 71,
    "start_time": "2022-08-26T12:43:32.992Z"
   },
   {
    "duration": 17,
    "start_time": "2022-08-26T12:43:33.065Z"
   },
   {
    "duration": 25,
    "start_time": "2022-08-26T12:43:33.084Z"
   },
   {
    "duration": 17,
    "start_time": "2022-08-26T12:43:33.112Z"
   },
   {
    "duration": 58,
    "start_time": "2022-08-26T12:43:33.131Z"
   },
   {
    "duration": 18,
    "start_time": "2022-08-26T12:43:33.191Z"
   },
   {
    "duration": 261,
    "start_time": "2022-08-26T12:43:33.211Z"
   },
   {
    "duration": 275,
    "start_time": "2022-08-26T12:43:33.474Z"
   },
   {
    "duration": 136,
    "start_time": "2022-08-26T12:43:33.751Z"
   },
   {
    "duration": 277,
    "start_time": "2022-08-26T12:43:33.889Z"
   },
   {
    "duration": 564,
    "start_time": "2022-08-26T12:43:34.168Z"
   },
   {
    "duration": 241,
    "start_time": "2022-08-26T12:43:34.734Z"
   },
   {
    "duration": 27,
    "start_time": "2022-08-26T12:43:34.976Z"
   },
   {
    "duration": 74,
    "start_time": "2022-08-26T12:46:10.302Z"
   },
   {
    "duration": 17,
    "start_time": "2022-08-26T12:46:10.377Z"
   },
   {
    "duration": 27,
    "start_time": "2022-08-26T12:46:10.396Z"
   },
   {
    "duration": 17,
    "start_time": "2022-08-26T12:46:10.424Z"
   },
   {
    "duration": 53,
    "start_time": "2022-08-26T12:46:10.442Z"
   },
   {
    "duration": 14,
    "start_time": "2022-08-26T12:46:10.497Z"
   },
   {
    "duration": 257,
    "start_time": "2022-08-26T12:46:10.513Z"
   },
   {
    "duration": 255,
    "start_time": "2022-08-26T12:46:10.772Z"
   },
   {
    "duration": 138,
    "start_time": "2022-08-26T12:46:11.029Z"
   },
   {
    "duration": 268,
    "start_time": "2022-08-26T12:46:11.169Z"
   },
   {
    "duration": 531,
    "start_time": "2022-08-26T12:46:11.438Z"
   },
   {
    "duration": 248,
    "start_time": "2022-08-26T12:46:11.970Z"
   },
   {
    "duration": 25,
    "start_time": "2022-08-26T12:46:12.220Z"
   },
   {
    "duration": 71,
    "start_time": "2022-08-26T12:48:22.323Z"
   },
   {
    "duration": 17,
    "start_time": "2022-08-26T12:48:22.396Z"
   },
   {
    "duration": 30,
    "start_time": "2022-08-26T12:48:22.415Z"
   },
   {
    "duration": 38,
    "start_time": "2022-08-26T12:48:22.447Z"
   },
   {
    "duration": 35,
    "start_time": "2022-08-26T12:48:22.487Z"
   },
   {
    "duration": 13,
    "start_time": "2022-08-26T12:48:22.524Z"
   },
   {
    "duration": 264,
    "start_time": "2022-08-26T12:48:22.539Z"
   },
   {
    "duration": 336,
    "start_time": "2022-08-26T12:48:22.806Z"
   },
   {
    "duration": 427,
    "start_time": "2022-08-26T12:48:23.144Z"
   },
   {
    "duration": 325,
    "start_time": "2022-08-26T12:48:23.573Z"
   },
   {
    "duration": 653,
    "start_time": "2022-08-26T12:48:23.902Z"
   },
   {
    "duration": 260,
    "start_time": "2022-08-26T12:48:24.558Z"
   },
   {
    "duration": 34,
    "start_time": "2022-08-26T12:48:24.820Z"
   },
   {
    "duration": 73,
    "start_time": "2022-08-26T12:50:13.601Z"
   },
   {
    "duration": 18,
    "start_time": "2022-08-26T12:50:13.676Z"
   },
   {
    "duration": 26,
    "start_time": "2022-08-26T12:50:13.696Z"
   },
   {
    "duration": 24,
    "start_time": "2022-08-26T12:50:13.724Z"
   },
   {
    "duration": 51,
    "start_time": "2022-08-26T12:50:13.749Z"
   },
   {
    "duration": 14,
    "start_time": "2022-08-26T12:50:13.802Z"
   },
   {
    "duration": 245,
    "start_time": "2022-08-26T12:50:13.817Z"
   },
   {
    "duration": 267,
    "start_time": "2022-08-26T12:50:14.063Z"
   },
   {
    "duration": 153,
    "start_time": "2022-08-26T12:50:14.332Z"
   },
   {
    "duration": 261,
    "start_time": "2022-08-26T12:50:14.487Z"
   },
   {
    "duration": 503,
    "start_time": "2022-08-26T12:50:14.749Z"
   },
   {
    "duration": 233,
    "start_time": "2022-08-26T12:50:15.253Z"
   },
   {
    "duration": 148,
    "start_time": "2022-08-26T12:50:15.487Z"
   },
   {
    "duration": 74,
    "start_time": "2022-08-26T12:50:26.481Z"
   },
   {
    "duration": 18,
    "start_time": "2022-08-26T12:50:26.557Z"
   },
   {
    "duration": 30,
    "start_time": "2022-08-26T12:50:26.577Z"
   },
   {
    "duration": 17,
    "start_time": "2022-08-26T12:50:26.609Z"
   },
   {
    "duration": 40,
    "start_time": "2022-08-26T12:50:26.627Z"
   },
   {
    "duration": 30,
    "start_time": "2022-08-26T12:50:26.668Z"
   },
   {
    "duration": 257,
    "start_time": "2022-08-26T12:50:26.700Z"
   },
   {
    "duration": 272,
    "start_time": "2022-08-26T12:50:26.959Z"
   },
   {
    "duration": 126,
    "start_time": "2022-08-26T12:50:27.233Z"
   },
   {
    "duration": 254,
    "start_time": "2022-08-26T12:50:27.361Z"
   },
   {
    "duration": 520,
    "start_time": "2022-08-26T12:50:27.616Z"
   },
   {
    "duration": 258,
    "start_time": "2022-08-26T12:50:28.137Z"
   },
   {
    "duration": 97,
    "start_time": "2022-08-26T12:50:28.397Z"
   },
   {
    "duration": 72,
    "start_time": "2022-08-26T12:50:58.519Z"
   },
   {
    "duration": 18,
    "start_time": "2022-08-26T12:50:58.593Z"
   },
   {
    "duration": 25,
    "start_time": "2022-08-26T12:50:58.612Z"
   },
   {
    "duration": 17,
    "start_time": "2022-08-26T12:50:58.639Z"
   },
   {
    "duration": 64,
    "start_time": "2022-08-26T12:50:58.658Z"
   },
   {
    "duration": 14,
    "start_time": "2022-08-26T12:50:58.724Z"
   },
   {
    "duration": 281,
    "start_time": "2022-08-26T12:50:58.740Z"
   },
   {
    "duration": 286,
    "start_time": "2022-08-26T12:50:59.022Z"
   },
   {
    "duration": 144,
    "start_time": "2022-08-26T12:50:59.309Z"
   },
   {
    "duration": 286,
    "start_time": "2022-08-26T12:50:59.456Z"
   },
   {
    "duration": 526,
    "start_time": "2022-08-26T12:50:59.744Z"
   },
   {
    "duration": 266,
    "start_time": "2022-08-26T12:51:00.272Z"
   },
   {
    "duration": 488,
    "start_time": "2022-08-26T12:51:00.540Z"
   },
   {
    "duration": 73,
    "start_time": "2022-08-26T12:52:18.675Z"
   },
   {
    "duration": 18,
    "start_time": "2022-08-26T12:52:18.751Z"
   },
   {
    "duration": 33,
    "start_time": "2022-08-26T12:52:18.771Z"
   },
   {
    "duration": 17,
    "start_time": "2022-08-26T12:52:18.806Z"
   },
   {
    "duration": 39,
    "start_time": "2022-08-26T12:52:18.825Z"
   },
   {
    "duration": 32,
    "start_time": "2022-08-26T12:52:18.867Z"
   },
   {
    "duration": 276,
    "start_time": "2022-08-26T12:52:18.901Z"
   },
   {
    "duration": 259,
    "start_time": "2022-08-26T12:52:19.184Z"
   },
   {
    "duration": 122,
    "start_time": "2022-08-26T12:52:19.444Z"
   },
   {
    "duration": 264,
    "start_time": "2022-08-26T12:52:19.568Z"
   },
   {
    "duration": 533,
    "start_time": "2022-08-26T12:52:19.834Z"
   },
   {
    "duration": 250,
    "start_time": "2022-08-26T12:52:20.369Z"
   },
   {
    "duration": 170,
    "start_time": "2022-08-26T12:52:20.621Z"
   },
   {
    "duration": 73,
    "start_time": "2022-08-26T12:52:42.287Z"
   },
   {
    "duration": 19,
    "start_time": "2022-08-26T12:52:42.363Z"
   },
   {
    "duration": 63,
    "start_time": "2022-08-26T12:52:42.384Z"
   },
   {
    "duration": 67,
    "start_time": "2022-08-26T12:52:42.450Z"
   },
   {
    "duration": 50,
    "start_time": "2022-08-26T12:52:42.519Z"
   },
   {
    "duration": 18,
    "start_time": "2022-08-26T12:52:42.570Z"
   },
   {
    "duration": 277,
    "start_time": "2022-08-26T12:52:42.590Z"
   },
   {
    "duration": 286,
    "start_time": "2022-08-26T12:52:42.869Z"
   },
   {
    "duration": 136,
    "start_time": "2022-08-26T12:52:43.157Z"
   },
   {
    "duration": 268,
    "start_time": "2022-08-26T12:52:43.295Z"
   },
   {
    "duration": 531,
    "start_time": "2022-08-26T12:52:43.565Z"
   },
   {
    "duration": 260,
    "start_time": "2022-08-26T12:52:44.098Z"
   },
   {
    "duration": 211,
    "start_time": "2022-08-26T12:52:44.359Z"
   },
   {
    "duration": 69,
    "start_time": "2022-08-26T12:52:54.900Z"
   },
   {
    "duration": 16,
    "start_time": "2022-08-26T12:52:54.971Z"
   },
   {
    "duration": 25,
    "start_time": "2022-08-26T12:52:54.988Z"
   },
   {
    "duration": 18,
    "start_time": "2022-08-26T12:52:55.015Z"
   },
   {
    "duration": 57,
    "start_time": "2022-08-26T12:52:55.035Z"
   },
   {
    "duration": 15,
    "start_time": "2022-08-26T12:52:55.093Z"
   },
   {
    "duration": 282,
    "start_time": "2022-08-26T12:52:55.110Z"
   },
   {
    "duration": 287,
    "start_time": "2022-08-26T12:52:55.393Z"
   },
   {
    "duration": 141,
    "start_time": "2022-08-26T12:52:55.684Z"
   },
   {
    "duration": 276,
    "start_time": "2022-08-26T12:52:55.828Z"
   },
   {
    "duration": 530,
    "start_time": "2022-08-26T12:52:56.106Z"
   },
   {
    "duration": 248,
    "start_time": "2022-08-26T12:52:56.637Z"
   },
   {
    "duration": 142,
    "start_time": "2022-08-26T12:52:56.886Z"
   },
   {
    "duration": 73,
    "start_time": "2022-08-26T12:53:21.597Z"
   },
   {
    "duration": 18,
    "start_time": "2022-08-26T12:53:21.671Z"
   },
   {
    "duration": 25,
    "start_time": "2022-08-26T12:53:21.691Z"
   },
   {
    "duration": 18,
    "start_time": "2022-08-26T12:53:21.718Z"
   },
   {
    "duration": 59,
    "start_time": "2022-08-26T12:53:21.737Z"
   },
   {
    "duration": 14,
    "start_time": "2022-08-26T12:53:21.798Z"
   },
   {
    "duration": 254,
    "start_time": "2022-08-26T12:53:21.814Z"
   },
   {
    "duration": 258,
    "start_time": "2022-08-26T12:53:22.070Z"
   },
   {
    "duration": 120,
    "start_time": "2022-08-26T12:53:22.330Z"
   },
   {
    "duration": 264,
    "start_time": "2022-08-26T12:53:22.452Z"
   },
   {
    "duration": 841,
    "start_time": "2022-08-26T12:53:22.718Z"
   },
   {
    "duration": 262,
    "start_time": "2022-08-26T12:53:23.560Z"
   },
   {
    "duration": 141,
    "start_time": "2022-08-26T12:53:23.823Z"
   },
   {
    "duration": 74,
    "start_time": "2022-08-26T12:54:05.078Z"
   },
   {
    "duration": 19,
    "start_time": "2022-08-26T12:54:05.154Z"
   },
   {
    "duration": 33,
    "start_time": "2022-08-26T12:54:05.174Z"
   },
   {
    "duration": 18,
    "start_time": "2022-08-26T12:54:05.208Z"
   },
   {
    "duration": 38,
    "start_time": "2022-08-26T12:54:05.228Z"
   },
   {
    "duration": 30,
    "start_time": "2022-08-26T12:54:05.268Z"
   },
   {
    "duration": 252,
    "start_time": "2022-08-26T12:54:05.300Z"
   },
   {
    "duration": 274,
    "start_time": "2022-08-26T12:54:05.553Z"
   },
   {
    "duration": 123,
    "start_time": "2022-08-26T12:54:05.828Z"
   },
   {
    "duration": 280,
    "start_time": "2022-08-26T12:54:05.953Z"
   },
   {
    "duration": 495,
    "start_time": "2022-08-26T12:54:06.235Z"
   },
   {
    "duration": 258,
    "start_time": "2022-08-26T12:54:06.731Z"
   },
   {
    "duration": 146,
    "start_time": "2022-08-26T12:54:06.991Z"
   },
   {
    "duration": 82,
    "start_time": "2022-08-26T12:59:42.791Z"
   },
   {
    "duration": 24,
    "start_time": "2022-08-26T12:59:42.879Z"
   },
   {
    "duration": 29,
    "start_time": "2022-08-26T12:59:42.906Z"
   },
   {
    "duration": 19,
    "start_time": "2022-08-26T12:59:42.937Z"
   },
   {
    "duration": 59,
    "start_time": "2022-08-26T12:59:42.957Z"
   },
   {
    "duration": 15,
    "start_time": "2022-08-26T12:59:43.018Z"
   },
   {
    "duration": 293,
    "start_time": "2022-08-26T12:59:43.035Z"
   },
   {
    "duration": 281,
    "start_time": "2022-08-26T12:59:43.330Z"
   },
   {
    "duration": 139,
    "start_time": "2022-08-26T12:59:43.618Z"
   },
   {
    "duration": 264,
    "start_time": "2022-08-26T12:59:43.759Z"
   },
   {
    "duration": 544,
    "start_time": "2022-08-26T12:59:44.024Z"
   },
   {
    "duration": 258,
    "start_time": "2022-08-26T12:59:44.570Z"
   },
   {
    "duration": 246,
    "start_time": "2022-08-26T12:59:44.830Z"
   },
   {
    "duration": 75,
    "start_time": "2022-08-26T13:00:37.350Z"
   },
   {
    "duration": 18,
    "start_time": "2022-08-26T13:00:37.427Z"
   },
   {
    "duration": 43,
    "start_time": "2022-08-26T13:00:37.447Z"
   },
   {
    "duration": 16,
    "start_time": "2022-08-26T13:00:37.492Z"
   },
   {
    "duration": 36,
    "start_time": "2022-08-26T13:00:37.510Z"
   },
   {
    "duration": 14,
    "start_time": "2022-08-26T13:00:37.548Z"
   },
   {
    "duration": 260,
    "start_time": "2022-08-26T13:00:37.564Z"
   },
   {
    "duration": 266,
    "start_time": "2022-08-26T13:00:37.825Z"
   },
   {
    "duration": 139,
    "start_time": "2022-08-26T13:00:38.092Z"
   },
   {
    "duration": 291,
    "start_time": "2022-08-26T13:00:38.234Z"
   },
   {
    "duration": 501,
    "start_time": "2022-08-26T13:00:38.527Z"
   },
   {
    "duration": 248,
    "start_time": "2022-08-26T13:00:39.030Z"
   },
   {
    "duration": 206,
    "start_time": "2022-08-26T13:00:39.279Z"
   },
   {
    "duration": 71,
    "start_time": "2022-08-26T13:01:26.025Z"
   },
   {
    "duration": 24,
    "start_time": "2022-08-26T13:01:26.098Z"
   },
   {
    "duration": 42,
    "start_time": "2022-08-26T13:01:26.123Z"
   },
   {
    "duration": 17,
    "start_time": "2022-08-26T13:01:26.186Z"
   },
   {
    "duration": 43,
    "start_time": "2022-08-26T13:01:26.205Z"
   },
   {
    "duration": 15,
    "start_time": "2022-08-26T13:01:26.250Z"
   },
   {
    "duration": 272,
    "start_time": "2022-08-26T13:01:26.267Z"
   },
   {
    "duration": 261,
    "start_time": "2022-08-26T13:01:26.541Z"
   },
   {
    "duration": 127,
    "start_time": "2022-08-26T13:01:26.803Z"
   },
   {
    "duration": 261,
    "start_time": "2022-08-26T13:01:26.932Z"
   },
   {
    "duration": 492,
    "start_time": "2022-08-26T13:01:27.195Z"
   },
   {
    "duration": 258,
    "start_time": "2022-08-26T13:01:27.688Z"
   },
   {
    "duration": 539,
    "start_time": "2022-08-26T13:01:27.948Z"
   },
   {
    "duration": 74,
    "start_time": "2022-08-26T13:01:59.308Z"
   },
   {
    "duration": 17,
    "start_time": "2022-08-26T13:01:59.384Z"
   },
   {
    "duration": 30,
    "start_time": "2022-08-26T13:01:59.403Z"
   },
   {
    "duration": 17,
    "start_time": "2022-08-26T13:01:59.435Z"
   },
   {
    "duration": 50,
    "start_time": "2022-08-26T13:01:59.453Z"
   },
   {
    "duration": 15,
    "start_time": "2022-08-26T13:01:59.504Z"
   },
   {
    "duration": 255,
    "start_time": "2022-08-26T13:01:59.520Z"
   },
   {
    "duration": 254,
    "start_time": "2022-08-26T13:01:59.777Z"
   },
   {
    "duration": 132,
    "start_time": "2022-08-26T13:02:00.033Z"
   },
   {
    "duration": 282,
    "start_time": "2022-08-26T13:02:00.168Z"
   },
   {
    "duration": 536,
    "start_time": "2022-08-26T13:02:00.452Z"
   },
   {
    "duration": 268,
    "start_time": "2022-08-26T13:02:00.990Z"
   },
   {
    "duration": 152,
    "start_time": "2022-08-26T13:02:01.260Z"
   },
   {
    "duration": 73,
    "start_time": "2022-08-26T13:02:23.619Z"
   },
   {
    "duration": 19,
    "start_time": "2022-08-26T13:02:23.694Z"
   },
   {
    "duration": 29,
    "start_time": "2022-08-26T13:02:23.715Z"
   },
   {
    "duration": 16,
    "start_time": "2022-08-26T13:02:23.746Z"
   },
   {
    "duration": 54,
    "start_time": "2022-08-26T13:02:23.764Z"
   },
   {
    "duration": 15,
    "start_time": "2022-08-26T13:02:23.820Z"
   },
   {
    "duration": 258,
    "start_time": "2022-08-26T13:02:23.836Z"
   },
   {
    "duration": 281,
    "start_time": "2022-08-26T13:02:24.095Z"
   },
   {
    "duration": 185,
    "start_time": "2022-08-26T13:02:24.378Z"
   },
   {
    "duration": 264,
    "start_time": "2022-08-26T13:02:24.566Z"
   },
   {
    "duration": 514,
    "start_time": "2022-08-26T13:02:24.832Z"
   },
   {
    "duration": 242,
    "start_time": "2022-08-26T13:02:25.348Z"
   },
   {
    "duration": 176,
    "start_time": "2022-08-26T13:02:25.591Z"
   },
   {
    "duration": 69,
    "start_time": "2022-08-26T13:03:23.537Z"
   },
   {
    "duration": 17,
    "start_time": "2022-08-26T13:03:23.608Z"
   },
   {
    "duration": 25,
    "start_time": "2022-08-26T13:03:23.626Z"
   },
   {
    "duration": 40,
    "start_time": "2022-08-26T13:03:23.654Z"
   },
   {
    "duration": 37,
    "start_time": "2022-08-26T13:03:23.695Z"
   },
   {
    "duration": 14,
    "start_time": "2022-08-26T13:03:23.733Z"
   },
   {
    "duration": 258,
    "start_time": "2022-08-26T13:03:23.748Z"
   },
   {
    "duration": 267,
    "start_time": "2022-08-26T13:03:24.009Z"
   },
   {
    "duration": 143,
    "start_time": "2022-08-26T13:03:24.278Z"
   },
   {
    "duration": 305,
    "start_time": "2022-08-26T13:03:24.423Z"
   },
   {
    "duration": 528,
    "start_time": "2022-08-26T13:03:24.729Z"
   },
   {
    "duration": 239,
    "start_time": "2022-08-26T13:03:25.258Z"
   },
   {
    "duration": 204,
    "start_time": "2022-08-26T13:03:25.499Z"
   },
   {
    "duration": 71,
    "start_time": "2022-08-26T13:03:54.798Z"
   },
   {
    "duration": 20,
    "start_time": "2022-08-26T13:03:54.871Z"
   },
   {
    "duration": 29,
    "start_time": "2022-08-26T13:03:54.893Z"
   },
   {
    "duration": 20,
    "start_time": "2022-08-26T13:03:54.924Z"
   },
   {
    "duration": 49,
    "start_time": "2022-08-26T13:03:54.946Z"
   },
   {
    "duration": 16,
    "start_time": "2022-08-26T13:03:54.996Z"
   },
   {
    "duration": 271,
    "start_time": "2022-08-26T13:03:55.013Z"
   },
   {
    "duration": 278,
    "start_time": "2022-08-26T13:03:55.286Z"
   },
   {
    "duration": 138,
    "start_time": "2022-08-26T13:03:55.566Z"
   },
   {
    "duration": 263,
    "start_time": "2022-08-26T13:03:55.707Z"
   },
   {
    "duration": 519,
    "start_time": "2022-08-26T13:03:55.972Z"
   },
   {
    "duration": 249,
    "start_time": "2022-08-26T13:03:56.493Z"
   },
   {
    "duration": 157,
    "start_time": "2022-08-26T13:03:56.744Z"
   },
   {
    "duration": 73,
    "start_time": "2022-08-26T13:05:30.707Z"
   },
   {
    "duration": 19,
    "start_time": "2022-08-26T13:05:30.782Z"
   },
   {
    "duration": 51,
    "start_time": "2022-08-26T13:05:30.803Z"
   },
   {
    "duration": 22,
    "start_time": "2022-08-26T13:05:30.856Z"
   },
   {
    "duration": 64,
    "start_time": "2022-08-26T13:05:30.880Z"
   },
   {
    "duration": 15,
    "start_time": "2022-08-26T13:05:30.946Z"
   },
   {
    "duration": 276,
    "start_time": "2022-08-26T13:05:30.962Z"
   },
   {
    "duration": 271,
    "start_time": "2022-08-26T13:05:31.240Z"
   },
   {
    "duration": 144,
    "start_time": "2022-08-26T13:05:31.512Z"
   },
   {
    "duration": 260,
    "start_time": "2022-08-26T13:05:31.659Z"
   },
   {
    "duration": 1064,
    "start_time": "2022-08-26T13:05:31.920Z"
   },
   {
    "duration": 249,
    "start_time": "2022-08-26T13:05:32.986Z"
   },
   {
    "duration": 31,
    "start_time": "2022-08-26T13:05:33.237Z"
   },
   {
    "duration": 84,
    "start_time": "2022-08-26T13:51:21.081Z"
   },
   {
    "duration": 20,
    "start_time": "2022-08-26T13:51:21.167Z"
   },
   {
    "duration": 30,
    "start_time": "2022-08-26T13:51:21.189Z"
   },
   {
    "duration": 20,
    "start_time": "2022-08-26T13:51:21.220Z"
   },
   {
    "duration": 57,
    "start_time": "2022-08-26T13:51:21.241Z"
   },
   {
    "duration": 15,
    "start_time": "2022-08-26T13:51:21.299Z"
   },
   {
    "duration": 259,
    "start_time": "2022-08-26T13:51:21.315Z"
   },
   {
    "duration": 275,
    "start_time": "2022-08-26T13:51:21.575Z"
   },
   {
    "duration": 152,
    "start_time": "2022-08-26T13:51:21.853Z"
   },
   {
    "duration": 271,
    "start_time": "2022-08-26T13:51:22.007Z"
   },
   {
    "duration": 524,
    "start_time": "2022-08-26T13:51:22.280Z"
   },
   {
    "duration": 282,
    "start_time": "2022-08-26T13:51:22.806Z"
   },
   {
    "duration": 33,
    "start_time": "2022-08-26T13:51:23.089Z"
   },
   {
    "duration": 1451,
    "start_time": "2022-08-27T08:27:28.685Z"
   },
   {
    "duration": 28,
    "start_time": "2022-08-27T08:27:30.138Z"
   },
   {
    "duration": 33,
    "start_time": "2022-08-27T08:27:30.168Z"
   },
   {
    "duration": 19,
    "start_time": "2022-08-27T08:27:30.203Z"
   },
   {
    "duration": 52,
    "start_time": "2022-08-27T08:27:30.224Z"
   },
   {
    "duration": 23,
    "start_time": "2022-08-27T08:27:30.277Z"
   },
   {
    "duration": 317,
    "start_time": "2022-08-27T08:27:30.301Z"
   },
   {
    "duration": 283,
    "start_time": "2022-08-27T08:27:30.620Z"
   },
   {
    "duration": 161,
    "start_time": "2022-08-27T08:27:30.906Z"
   },
   {
    "duration": 251,
    "start_time": "2022-08-27T08:27:31.070Z"
   },
   {
    "duration": 0,
    "start_time": "2022-08-27T08:27:31.323Z"
   },
   {
    "duration": 0,
    "start_time": "2022-08-27T08:27:31.324Z"
   },
   {
    "duration": 0,
    "start_time": "2022-08-27T08:27:31.326Z"
   },
   {
    "duration": 0,
    "start_time": "2022-08-27T08:27:31.327Z"
   },
   {
    "duration": 84,
    "start_time": "2022-08-27T08:27:39.535Z"
   },
   {
    "duration": 19,
    "start_time": "2022-08-27T08:27:39.620Z"
   },
   {
    "duration": 26,
    "start_time": "2022-08-27T08:27:39.640Z"
   },
   {
    "duration": 30,
    "start_time": "2022-08-27T08:27:39.687Z"
   },
   {
    "duration": 40,
    "start_time": "2022-08-27T08:27:39.719Z"
   },
   {
    "duration": 39,
    "start_time": "2022-08-27T08:27:39.761Z"
   },
   {
    "duration": 259,
    "start_time": "2022-08-27T08:27:39.802Z"
   },
   {
    "duration": 313,
    "start_time": "2022-08-27T08:27:40.063Z"
   },
   {
    "duration": 150,
    "start_time": "2022-08-27T08:27:40.378Z"
   },
   {
    "duration": 146,
    "start_time": "2022-08-27T08:27:40.530Z"
   },
   {
    "duration": 0,
    "start_time": "2022-08-27T08:27:40.678Z"
   },
   {
    "duration": 0,
    "start_time": "2022-08-27T08:27:40.685Z"
   },
   {
    "duration": 0,
    "start_time": "2022-08-27T08:27:40.687Z"
   },
   {
    "duration": 0,
    "start_time": "2022-08-27T08:27:40.691Z"
   },
   {
    "duration": 74,
    "start_time": "2022-08-27T08:28:06.508Z"
   },
   {
    "duration": 18,
    "start_time": "2022-08-27T08:28:06.584Z"
   },
   {
    "duration": 32,
    "start_time": "2022-08-27T08:28:06.603Z"
   },
   {
    "duration": 18,
    "start_time": "2022-08-27T08:28:06.637Z"
   },
   {
    "duration": 131,
    "start_time": "2022-08-27T08:28:06.657Z"
   },
   {
    "duration": 15,
    "start_time": "2022-08-27T08:28:06.790Z"
   },
   {
    "duration": 267,
    "start_time": "2022-08-27T08:28:06.807Z"
   },
   {
    "duration": 296,
    "start_time": "2022-08-27T08:28:07.076Z"
   },
   {
    "duration": 152,
    "start_time": "2022-08-27T08:28:07.373Z"
   },
   {
    "duration": 145,
    "start_time": "2022-08-27T08:28:07.527Z"
   },
   {
    "duration": 0,
    "start_time": "2022-08-27T08:28:07.673Z"
   },
   {
    "duration": 0,
    "start_time": "2022-08-27T08:28:07.686Z"
   },
   {
    "duration": 0,
    "start_time": "2022-08-27T08:28:07.687Z"
   },
   {
    "duration": 1,
    "start_time": "2022-08-27T08:28:07.689Z"
   },
   {
    "duration": 78,
    "start_time": "2022-08-27T08:28:59.413Z"
   },
   {
    "duration": 16,
    "start_time": "2022-08-27T08:28:59.493Z"
   },
   {
    "duration": 22,
    "start_time": "2022-08-27T08:28:59.510Z"
   },
   {
    "duration": 16,
    "start_time": "2022-08-27T08:28:59.534Z"
   },
   {
    "duration": 71,
    "start_time": "2022-08-27T08:28:59.552Z"
   },
   {
    "duration": 14,
    "start_time": "2022-08-27T08:28:59.625Z"
   },
   {
    "duration": 261,
    "start_time": "2022-08-27T08:28:59.641Z"
   },
   {
    "duration": 265,
    "start_time": "2022-08-27T08:28:59.904Z"
   },
   {
    "duration": 133,
    "start_time": "2022-08-27T08:29:00.171Z"
   },
   {
    "duration": 245,
    "start_time": "2022-08-27T08:29:00.306Z"
   },
   {
    "duration": 562,
    "start_time": "2022-08-27T08:29:00.552Z"
   },
   {
    "duration": 257,
    "start_time": "2022-08-27T08:29:01.116Z"
   },
   {
    "duration": 129,
    "start_time": "2022-08-27T08:29:01.376Z"
   },
   {
    "duration": 10,
    "start_time": "2022-08-27T08:29:01.507Z"
   },
   {
    "duration": 97,
    "start_time": "2022-08-27T08:30:48.357Z"
   },
   {
    "duration": 19,
    "start_time": "2022-08-27T08:30:48.456Z"
   },
   {
    "duration": 28,
    "start_time": "2022-08-27T08:30:48.485Z"
   },
   {
    "duration": 19,
    "start_time": "2022-08-27T08:30:48.515Z"
   },
   {
    "duration": 60,
    "start_time": "2022-08-27T08:30:48.535Z"
   },
   {
    "duration": 15,
    "start_time": "2022-08-27T08:30:48.597Z"
   },
   {
    "duration": 268,
    "start_time": "2022-08-27T08:30:48.613Z"
   },
   {
    "duration": 275,
    "start_time": "2022-08-27T08:30:48.885Z"
   },
   {
    "duration": 140,
    "start_time": "2022-08-27T08:30:49.162Z"
   },
   {
    "duration": 242,
    "start_time": "2022-08-27T08:30:49.305Z"
   },
   {
    "duration": 521,
    "start_time": "2022-08-27T08:30:49.549Z"
   },
   {
    "duration": 281,
    "start_time": "2022-08-27T08:30:50.072Z"
   },
   {
    "duration": 38,
    "start_time": "2022-08-27T08:30:50.355Z"
   },
   {
    "duration": 9,
    "start_time": "2022-08-27T08:30:50.396Z"
   },
   {
    "duration": 79,
    "start_time": "2022-08-27T08:34:32.296Z"
   },
   {
    "duration": 18,
    "start_time": "2022-08-27T08:34:32.377Z"
   },
   {
    "duration": 26,
    "start_time": "2022-08-27T08:34:32.397Z"
   },
   {
    "duration": 18,
    "start_time": "2022-08-27T08:34:32.425Z"
   },
   {
    "duration": 66,
    "start_time": "2022-08-27T08:34:32.444Z"
   },
   {
    "duration": 15,
    "start_time": "2022-08-27T08:34:32.512Z"
   },
   {
    "duration": 315,
    "start_time": "2022-08-27T08:34:32.529Z"
   },
   {
    "duration": 313,
    "start_time": "2022-08-27T08:34:32.847Z"
   },
   {
    "duration": 153,
    "start_time": "2022-08-27T08:34:33.162Z"
   },
   {
    "duration": 270,
    "start_time": "2022-08-27T08:34:33.317Z"
   },
   {
    "duration": 633,
    "start_time": "2022-08-27T08:34:33.589Z"
   },
   {
    "duration": 265,
    "start_time": "2022-08-27T08:34:34.224Z"
   },
   {
    "duration": 41,
    "start_time": "2022-08-27T08:34:34.491Z"
   },
   {
    "duration": 10,
    "start_time": "2022-08-27T08:34:34.534Z"
   },
   {
    "duration": 47,
    "start_time": "2022-08-27T08:34:34.546Z"
   },
   {
    "duration": 75,
    "start_time": "2022-08-27T08:34:46.256Z"
   },
   {
    "duration": 19,
    "start_time": "2022-08-27T08:34:46.333Z"
   },
   {
    "duration": 42,
    "start_time": "2022-08-27T08:34:46.354Z"
   },
   {
    "duration": 17,
    "start_time": "2022-08-27T08:34:46.397Z"
   },
   {
    "duration": 38,
    "start_time": "2022-08-27T08:34:46.416Z"
   },
   {
    "duration": 38,
    "start_time": "2022-08-27T08:34:46.456Z"
   },
   {
    "duration": 278,
    "start_time": "2022-08-27T08:34:46.495Z"
   },
   {
    "duration": 271,
    "start_time": "2022-08-27T08:34:46.775Z"
   },
   {
    "duration": 152,
    "start_time": "2022-08-27T08:34:47.047Z"
   },
   {
    "duration": 259,
    "start_time": "2022-08-27T08:34:47.202Z"
   },
   {
    "duration": 544,
    "start_time": "2022-08-27T08:34:47.463Z"
   },
   {
    "duration": 260,
    "start_time": "2022-08-27T08:34:48.010Z"
   },
   {
    "duration": 35,
    "start_time": "2022-08-27T08:34:48.272Z"
   },
   {
    "duration": 10,
    "start_time": "2022-08-27T08:34:48.308Z"
   },
   {
    "duration": 26,
    "start_time": "2022-08-27T08:34:48.319Z"
   },
   {
    "duration": 80,
    "start_time": "2022-08-27T08:38:11.387Z"
   },
   {
    "duration": 20,
    "start_time": "2022-08-27T08:38:11.468Z"
   },
   {
    "duration": 31,
    "start_time": "2022-08-27T08:38:11.489Z"
   },
   {
    "duration": 16,
    "start_time": "2022-08-27T08:38:11.522Z"
   },
   {
    "duration": 54,
    "start_time": "2022-08-27T08:38:11.540Z"
   },
   {
    "duration": 15,
    "start_time": "2022-08-27T08:38:11.595Z"
   },
   {
    "duration": 265,
    "start_time": "2022-08-27T08:38:11.612Z"
   },
   {
    "duration": 395,
    "start_time": "2022-08-27T08:38:11.884Z"
   },
   {
    "duration": 136,
    "start_time": "2022-08-27T08:38:12.280Z"
   },
   {
    "duration": 246,
    "start_time": "2022-08-27T08:38:12.418Z"
   },
   {
    "duration": 608,
    "start_time": "2022-08-27T08:38:12.666Z"
   },
   {
    "duration": 278,
    "start_time": "2022-08-27T08:38:13.276Z"
   },
   {
    "duration": 36,
    "start_time": "2022-08-27T08:38:13.556Z"
   },
   {
    "duration": 8,
    "start_time": "2022-08-27T08:38:13.594Z"
   },
   {
    "duration": 24,
    "start_time": "2022-08-27T08:38:13.604Z"
   },
   {
    "duration": 72,
    "start_time": "2022-08-27T08:39:02.015Z"
   },
   {
    "duration": 16,
    "start_time": "2022-08-27T08:39:02.089Z"
   },
   {
    "duration": 33,
    "start_time": "2022-08-27T08:39:02.107Z"
   },
   {
    "duration": 26,
    "start_time": "2022-08-27T08:39:02.142Z"
   },
   {
    "duration": 61,
    "start_time": "2022-08-27T08:39:02.170Z"
   },
   {
    "duration": 15,
    "start_time": "2022-08-27T08:39:02.232Z"
   },
   {
    "duration": 277,
    "start_time": "2022-08-27T08:39:02.248Z"
   },
   {
    "duration": 288,
    "start_time": "2022-08-27T08:39:02.527Z"
   },
   {
    "duration": 168,
    "start_time": "2022-08-27T08:39:02.817Z"
   },
   {
    "duration": 254,
    "start_time": "2022-08-27T08:39:02.988Z"
   },
   {
    "duration": 542,
    "start_time": "2022-08-27T08:39:03.243Z"
   },
   {
    "duration": 408,
    "start_time": "2022-08-27T08:39:03.786Z"
   },
   {
    "duration": 32,
    "start_time": "2022-08-27T08:39:04.196Z"
   },
   {
    "duration": 9,
    "start_time": "2022-08-27T08:39:04.229Z"
   },
   {
    "duration": 8,
    "start_time": "2022-08-27T08:39:04.240Z"
   },
   {
    "duration": 72,
    "start_time": "2022-08-27T08:39:17.424Z"
   },
   {
    "duration": 20,
    "start_time": "2022-08-27T08:39:17.498Z"
   },
   {
    "duration": 24,
    "start_time": "2022-08-27T08:39:17.519Z"
   },
   {
    "duration": 15,
    "start_time": "2022-08-27T08:39:17.546Z"
   },
   {
    "duration": 37,
    "start_time": "2022-08-27T08:39:17.584Z"
   },
   {
    "duration": 15,
    "start_time": "2022-08-27T08:39:17.624Z"
   },
   {
    "duration": 292,
    "start_time": "2022-08-27T08:39:17.641Z"
   },
   {
    "duration": 275,
    "start_time": "2022-08-27T08:39:17.935Z"
   },
   {
    "duration": 139,
    "start_time": "2022-08-27T08:39:18.211Z"
   },
   {
    "duration": 259,
    "start_time": "2022-08-27T08:39:18.352Z"
   },
   {
    "duration": 543,
    "start_time": "2022-08-27T08:39:18.613Z"
   },
   {
    "duration": 250,
    "start_time": "2022-08-27T08:39:19.159Z"
   },
   {
    "duration": 31,
    "start_time": "2022-08-27T08:39:19.411Z"
   },
   {
    "duration": 9,
    "start_time": "2022-08-27T08:39:19.443Z"
   },
   {
    "duration": 11,
    "start_time": "2022-08-27T08:39:19.454Z"
   },
   {
    "duration": 81,
    "start_time": "2022-08-27T08:51:30.342Z"
   },
   {
    "duration": 23,
    "start_time": "2022-08-27T08:51:30.425Z"
   },
   {
    "duration": 38,
    "start_time": "2022-08-27T08:51:30.449Z"
   },
   {
    "duration": 17,
    "start_time": "2022-08-27T08:51:30.490Z"
   },
   {
    "duration": 94,
    "start_time": "2022-08-27T08:51:30.509Z"
   },
   {
    "duration": 16,
    "start_time": "2022-08-27T08:51:30.604Z"
   },
   {
    "duration": 295,
    "start_time": "2022-08-27T08:51:30.621Z"
   },
   {
    "duration": 298,
    "start_time": "2022-08-27T08:51:30.918Z"
   },
   {
    "duration": 133,
    "start_time": "2022-08-27T08:51:31.217Z"
   },
   {
    "duration": 282,
    "start_time": "2022-08-27T08:51:31.353Z"
   },
   {
    "duration": 668,
    "start_time": "2022-08-27T08:51:31.637Z"
   },
   {
    "duration": 249,
    "start_time": "2022-08-27T08:51:32.307Z"
   },
   {
    "duration": 40,
    "start_time": "2022-08-27T08:51:32.557Z"
   },
   {
    "duration": 8,
    "start_time": "2022-08-27T08:51:32.599Z"
   },
   {
    "duration": 12,
    "start_time": "2022-08-27T08:51:32.608Z"
   },
   {
    "duration": 73,
    "start_time": "2022-08-27T08:53:42.694Z"
   },
   {
    "duration": 20,
    "start_time": "2022-08-27T08:53:42.769Z"
   },
   {
    "duration": 27,
    "start_time": "2022-08-27T08:53:42.790Z"
   },
   {
    "duration": 21,
    "start_time": "2022-08-27T08:53:42.819Z"
   },
   {
    "duration": 71,
    "start_time": "2022-08-27T08:53:42.842Z"
   },
   {
    "duration": 21,
    "start_time": "2022-08-27T08:53:42.916Z"
   },
   {
    "duration": 286,
    "start_time": "2022-08-27T08:53:42.939Z"
   },
   {
    "duration": 297,
    "start_time": "2022-08-27T08:53:43.226Z"
   },
   {
    "duration": 133,
    "start_time": "2022-08-27T08:53:43.524Z"
   },
   {
    "duration": 265,
    "start_time": "2022-08-27T08:53:43.659Z"
   },
   {
    "duration": 565,
    "start_time": "2022-08-27T08:53:43.926Z"
   },
   {
    "duration": 270,
    "start_time": "2022-08-27T08:53:44.493Z"
   },
   {
    "duration": 39,
    "start_time": "2022-08-27T08:53:44.765Z"
   },
   {
    "duration": 10,
    "start_time": "2022-08-27T08:53:44.806Z"
   },
   {
    "duration": 10,
    "start_time": "2022-08-27T08:53:44.818Z"
   },
   {
    "duration": 8,
    "start_time": "2022-08-27T08:53:44.830Z"
   },
   {
    "duration": 75,
    "start_time": "2022-08-27T08:58:38.601Z"
   },
   {
    "duration": 18,
    "start_time": "2022-08-27T08:58:38.677Z"
   },
   {
    "duration": 26,
    "start_time": "2022-08-27T08:58:38.697Z"
   },
   {
    "duration": 17,
    "start_time": "2022-08-27T08:58:38.725Z"
   },
   {
    "duration": 62,
    "start_time": "2022-08-27T08:58:38.744Z"
   },
   {
    "duration": 17,
    "start_time": "2022-08-27T08:58:38.807Z"
   },
   {
    "duration": 257,
    "start_time": "2022-08-27T08:58:38.825Z"
   },
   {
    "duration": 272,
    "start_time": "2022-08-27T08:58:39.084Z"
   },
   {
    "duration": 138,
    "start_time": "2022-08-27T08:58:39.357Z"
   },
   {
    "duration": 252,
    "start_time": "2022-08-27T08:58:39.497Z"
   },
   {
    "duration": 696,
    "start_time": "2022-08-27T08:58:39.750Z"
   },
   {
    "duration": 250,
    "start_time": "2022-08-27T08:58:40.448Z"
   },
   {
    "duration": 32,
    "start_time": "2022-08-27T08:58:40.699Z"
   },
   {
    "duration": 9,
    "start_time": "2022-08-27T08:58:40.733Z"
   },
   {
    "duration": 12,
    "start_time": "2022-08-27T08:58:40.743Z"
   },
   {
    "duration": 71,
    "start_time": "2022-08-27T09:07:57.536Z"
   },
   {
    "duration": 16,
    "start_time": "2022-08-27T09:07:57.609Z"
   },
   {
    "duration": 24,
    "start_time": "2022-08-27T09:07:57.627Z"
   },
   {
    "duration": 43,
    "start_time": "2022-08-27T09:07:57.653Z"
   },
   {
    "duration": 39,
    "start_time": "2022-08-27T09:07:57.698Z"
   },
   {
    "duration": 15,
    "start_time": "2022-08-27T09:07:57.738Z"
   },
   {
    "duration": 280,
    "start_time": "2022-08-27T09:07:57.754Z"
   },
   {
    "duration": 269,
    "start_time": "2022-08-27T09:07:58.036Z"
   },
   {
    "duration": 142,
    "start_time": "2022-08-27T09:07:58.307Z"
   },
   {
    "duration": 265,
    "start_time": "2022-08-27T09:07:58.451Z"
   },
   {
    "duration": 519,
    "start_time": "2022-08-27T09:07:58.717Z"
   },
   {
    "duration": 231,
    "start_time": "2022-08-27T09:07:59.237Z"
   },
   {
    "duration": 38,
    "start_time": "2022-08-27T09:07:59.470Z"
   },
   {
    "duration": 8,
    "start_time": "2022-08-27T09:07:59.510Z"
   },
   {
    "duration": 11,
    "start_time": "2022-08-27T09:07:59.520Z"
   },
   {
    "duration": 73,
    "start_time": "2022-08-27T09:08:05.427Z"
   },
   {
    "duration": 19,
    "start_time": "2022-08-27T09:08:05.501Z"
   },
   {
    "duration": 30,
    "start_time": "2022-08-27T09:08:05.521Z"
   },
   {
    "duration": 37,
    "start_time": "2022-08-27T09:08:05.552Z"
   },
   {
    "duration": 39,
    "start_time": "2022-08-27T09:08:05.594Z"
   },
   {
    "duration": 17,
    "start_time": "2022-08-27T09:08:05.634Z"
   },
   {
    "duration": 282,
    "start_time": "2022-08-27T09:08:05.652Z"
   },
   {
    "duration": 289,
    "start_time": "2022-08-27T09:08:05.936Z"
   },
   {
    "duration": 140,
    "start_time": "2022-08-27T09:08:06.227Z"
   },
   {
    "duration": 248,
    "start_time": "2022-08-27T09:08:06.369Z"
   },
   {
    "duration": 582,
    "start_time": "2022-08-27T09:08:06.619Z"
   },
   {
    "duration": 267,
    "start_time": "2022-08-27T09:08:07.203Z"
   },
   {
    "duration": 200,
    "start_time": "2022-08-27T09:08:07.472Z"
   },
   {
    "duration": 79,
    "start_time": "2022-08-27T09:08:07.674Z"
   },
   {
    "duration": 12,
    "start_time": "2022-08-27T09:08:07.754Z"
   },
   {
    "duration": 81,
    "start_time": "2022-08-27T09:13:41.656Z"
   },
   {
    "duration": 17,
    "start_time": "2022-08-27T09:13:41.740Z"
   },
   {
    "duration": 0,
    "start_time": "2022-08-27T09:13:41.760Z"
   },
   {
    "duration": 0,
    "start_time": "2022-08-27T09:13:41.761Z"
   },
   {
    "duration": 1,
    "start_time": "2022-08-27T09:13:41.762Z"
   },
   {
    "duration": 0,
    "start_time": "2022-08-27T09:13:41.764Z"
   },
   {
    "duration": 0,
    "start_time": "2022-08-27T09:13:41.785Z"
   },
   {
    "duration": 0,
    "start_time": "2022-08-27T09:13:41.787Z"
   },
   {
    "duration": 0,
    "start_time": "2022-08-27T09:13:41.788Z"
   },
   {
    "duration": 0,
    "start_time": "2022-08-27T09:13:41.789Z"
   },
   {
    "duration": 0,
    "start_time": "2022-08-27T09:13:41.791Z"
   },
   {
    "duration": 0,
    "start_time": "2022-08-27T09:13:41.792Z"
   },
   {
    "duration": 0,
    "start_time": "2022-08-27T09:13:41.793Z"
   },
   {
    "duration": 0,
    "start_time": "2022-08-27T09:13:41.794Z"
   },
   {
    "duration": 0,
    "start_time": "2022-08-27T09:13:41.795Z"
   },
   {
    "duration": 21,
    "start_time": "2022-08-27T09:13:55.165Z"
   },
   {
    "duration": 27,
    "start_time": "2022-08-27T09:13:55.188Z"
   },
   {
    "duration": 17,
    "start_time": "2022-08-27T09:13:55.217Z"
   },
   {
    "duration": 58,
    "start_time": "2022-08-27T09:13:55.235Z"
   },
   {
    "duration": 15,
    "start_time": "2022-08-27T09:13:55.294Z"
   },
   {
    "duration": 259,
    "start_time": "2022-08-27T09:13:55.310Z"
   },
   {
    "duration": 315,
    "start_time": "2022-08-27T09:13:55.571Z"
   },
   {
    "duration": 132,
    "start_time": "2022-08-27T09:13:55.888Z"
   },
   {
    "duration": 339,
    "start_time": "2022-08-27T09:13:56.022Z"
   },
   {
    "duration": 529,
    "start_time": "2022-08-27T09:13:56.363Z"
   },
   {
    "duration": 250,
    "start_time": "2022-08-27T09:13:56.893Z"
   },
   {
    "duration": 40,
    "start_time": "2022-08-27T09:13:57.144Z"
   },
   {
    "duration": 9,
    "start_time": "2022-08-27T09:13:57.186Z"
   },
   {
    "duration": 12,
    "start_time": "2022-08-27T09:13:57.196Z"
   },
   {
    "duration": 76,
    "start_time": "2022-08-27T09:14:26.165Z"
   },
   {
    "duration": 20,
    "start_time": "2022-08-27T09:14:26.243Z"
   },
   {
    "duration": 34,
    "start_time": "2022-08-27T09:14:26.264Z"
   },
   {
    "duration": 16,
    "start_time": "2022-08-27T09:14:26.300Z"
   },
   {
    "duration": 39,
    "start_time": "2022-08-27T09:14:26.318Z"
   },
   {
    "duration": 34,
    "start_time": "2022-08-27T09:14:26.359Z"
   },
   {
    "duration": 240,
    "start_time": "2022-08-27T09:14:26.394Z"
   },
   {
    "duration": 289,
    "start_time": "2022-08-27T09:14:26.636Z"
   },
   {
    "duration": 129,
    "start_time": "2022-08-27T09:14:26.927Z"
   },
   {
    "duration": 238,
    "start_time": "2022-08-27T09:14:27.057Z"
   },
   {
    "duration": 538,
    "start_time": "2022-08-27T09:14:27.297Z"
   },
   {
    "duration": 279,
    "start_time": "2022-08-27T09:14:27.837Z"
   },
   {
    "duration": 35,
    "start_time": "2022-08-27T09:14:28.117Z"
   },
   {
    "duration": 7,
    "start_time": "2022-08-27T09:14:28.155Z"
   },
   {
    "duration": 25,
    "start_time": "2022-08-27T09:14:28.164Z"
   },
   {
    "duration": 94,
    "start_time": "2022-08-27T09:55:54.448Z"
   },
   {
    "duration": 23,
    "start_time": "2022-08-27T09:55:54.544Z"
   },
   {
    "duration": 50,
    "start_time": "2022-08-27T09:55:54.569Z"
   },
   {
    "duration": 31,
    "start_time": "2022-08-27T09:55:54.622Z"
   },
   {
    "duration": 76,
    "start_time": "2022-08-27T09:55:54.656Z"
   },
   {
    "duration": 15,
    "start_time": "2022-08-27T09:55:54.734Z"
   },
   {
    "duration": 276,
    "start_time": "2022-08-27T09:55:54.751Z"
   },
   {
    "duration": 295,
    "start_time": "2022-08-27T09:55:55.029Z"
   },
   {
    "duration": 336,
    "start_time": "2022-08-27T09:55:55.325Z"
   },
   {
    "duration": 312,
    "start_time": "2022-08-27T09:55:55.663Z"
   },
   {
    "duration": 683,
    "start_time": "2022-08-27T09:55:55.976Z"
   },
   {
    "duration": 291,
    "start_time": "2022-08-27T09:55:56.661Z"
   },
   {
    "duration": 44,
    "start_time": "2022-08-27T09:55:56.954Z"
   },
   {
    "duration": 15,
    "start_time": "2022-08-27T09:55:57.000Z"
   },
   {
    "duration": 9,
    "start_time": "2022-08-27T09:55:57.016Z"
   },
   {
    "duration": 73,
    "start_time": "2022-08-27T09:57:20.209Z"
   },
   {
    "duration": 25,
    "start_time": "2022-08-27T09:57:20.283Z"
   },
   {
    "duration": 40,
    "start_time": "2022-08-27T09:57:20.311Z"
   },
   {
    "duration": 23,
    "start_time": "2022-08-27T09:57:20.354Z"
   },
   {
    "duration": 70,
    "start_time": "2022-08-27T09:57:20.378Z"
   },
   {
    "duration": 16,
    "start_time": "2022-08-27T09:57:20.450Z"
   },
   {
    "duration": 294,
    "start_time": "2022-08-27T09:57:20.467Z"
   },
   {
    "duration": 316,
    "start_time": "2022-08-27T09:57:20.763Z"
   },
   {
    "duration": 173,
    "start_time": "2022-08-27T09:57:21.081Z"
   },
   {
    "duration": 266,
    "start_time": "2022-08-27T09:57:21.256Z"
   },
   {
    "duration": 620,
    "start_time": "2022-08-27T09:57:21.524Z"
   },
   {
    "duration": 298,
    "start_time": "2022-08-27T09:57:22.146Z"
   },
   {
    "duration": 39,
    "start_time": "2022-08-27T09:57:22.446Z"
   },
   {
    "duration": 19,
    "start_time": "2022-08-27T09:57:22.487Z"
   },
   {
    "duration": 16,
    "start_time": "2022-08-27T09:57:22.508Z"
   },
   {
    "duration": 80,
    "start_time": "2022-08-27T10:00:54.764Z"
   },
   {
    "duration": 20,
    "start_time": "2022-08-27T10:00:54.846Z"
   },
   {
    "duration": 47,
    "start_time": "2022-08-27T10:00:54.868Z"
   },
   {
    "duration": 18,
    "start_time": "2022-08-27T10:00:54.917Z"
   },
   {
    "duration": 58,
    "start_time": "2022-08-27T10:00:54.937Z"
   },
   {
    "duration": 17,
    "start_time": "2022-08-27T10:00:54.997Z"
   },
   {
    "duration": 275,
    "start_time": "2022-08-27T10:00:55.016Z"
   },
   {
    "duration": 276,
    "start_time": "2022-08-27T10:00:55.293Z"
   },
   {
    "duration": 153,
    "start_time": "2022-08-27T10:00:55.571Z"
   },
   {
    "duration": 244,
    "start_time": "2022-08-27T10:00:55.726Z"
   },
   {
    "duration": 596,
    "start_time": "2022-08-27T10:00:55.972Z"
   },
   {
    "duration": 503,
    "start_time": "2022-08-27T10:00:56.569Z"
   },
   {
    "duration": 43,
    "start_time": "2022-08-27T10:00:57.073Z"
   },
   {
    "duration": 14,
    "start_time": "2022-08-27T10:00:57.118Z"
   },
   {
    "duration": 9,
    "start_time": "2022-08-27T10:00:57.134Z"
   },
   {
    "duration": 98,
    "start_time": "2022-08-27T10:01:12.780Z"
   },
   {
    "duration": 39,
    "start_time": "2022-08-27T10:01:12.880Z"
   },
   {
    "duration": 38,
    "start_time": "2022-08-27T10:01:12.922Z"
   },
   {
    "duration": 32,
    "start_time": "2022-08-27T10:01:12.963Z"
   },
   {
    "duration": 42,
    "start_time": "2022-08-27T10:01:12.997Z"
   },
   {
    "duration": 16,
    "start_time": "2022-08-27T10:01:13.040Z"
   },
   {
    "duration": 311,
    "start_time": "2022-08-27T10:01:13.057Z"
   },
   {
    "duration": 301,
    "start_time": "2022-08-27T10:01:13.369Z"
   },
   {
    "duration": 164,
    "start_time": "2022-08-27T10:01:13.671Z"
   },
   {
    "duration": 289,
    "start_time": "2022-08-27T10:01:13.837Z"
   },
   {
    "duration": 635,
    "start_time": "2022-08-27T10:01:14.128Z"
   },
   {
    "duration": 271,
    "start_time": "2022-08-27T10:01:14.765Z"
   },
   {
    "duration": 34,
    "start_time": "2022-08-27T10:01:15.038Z"
   },
   {
    "duration": 21,
    "start_time": "2022-08-27T10:01:15.085Z"
   },
   {
    "duration": 16,
    "start_time": "2022-08-27T10:01:15.109Z"
   },
   {
    "duration": 94,
    "start_time": "2022-08-27T10:02:04.459Z"
   },
   {
    "duration": 48,
    "start_time": "2022-08-27T10:02:04.556Z"
   },
   {
    "duration": 45,
    "start_time": "2022-08-27T10:02:04.608Z"
   },
   {
    "duration": 23,
    "start_time": "2022-08-27T10:02:04.655Z"
   },
   {
    "duration": 55,
    "start_time": "2022-08-27T10:02:04.686Z"
   },
   {
    "duration": 15,
    "start_time": "2022-08-27T10:02:04.743Z"
   },
   {
    "duration": 287,
    "start_time": "2022-08-27T10:02:04.760Z"
   },
   {
    "duration": 309,
    "start_time": "2022-08-27T10:02:05.049Z"
   },
   {
    "duration": 161,
    "start_time": "2022-08-27T10:02:05.361Z"
   },
   {
    "duration": 295,
    "start_time": "2022-08-27T10:02:05.525Z"
   },
   {
    "duration": 594,
    "start_time": "2022-08-27T10:02:05.821Z"
   },
   {
    "duration": 271,
    "start_time": "2022-08-27T10:02:06.417Z"
   },
   {
    "duration": 33,
    "start_time": "2022-08-27T10:02:06.690Z"
   },
   {
    "duration": 9,
    "start_time": "2022-08-27T10:02:06.724Z"
   },
   {
    "duration": 11,
    "start_time": "2022-08-27T10:02:06.735Z"
   },
   {
    "duration": 74,
    "start_time": "2022-08-27T11:15:17.043Z"
   },
   {
    "duration": 18,
    "start_time": "2022-08-27T11:15:17.118Z"
   },
   {
    "duration": 26,
    "start_time": "2022-08-27T11:15:17.137Z"
   },
   {
    "duration": 33,
    "start_time": "2022-08-27T11:15:17.165Z"
   },
   {
    "duration": 40,
    "start_time": "2022-08-27T11:15:17.200Z"
   },
   {
    "duration": 14,
    "start_time": "2022-08-27T11:15:17.242Z"
   },
   {
    "duration": 265,
    "start_time": "2022-08-27T11:15:17.257Z"
   },
   {
    "duration": 265,
    "start_time": "2022-08-27T11:15:17.523Z"
   },
   {
    "duration": 140,
    "start_time": "2022-08-27T11:15:17.789Z"
   },
   {
    "duration": 259,
    "start_time": "2022-08-27T11:15:17.931Z"
   },
   {
    "duration": 764,
    "start_time": "2022-08-27T11:15:18.192Z"
   },
   {
    "duration": 254,
    "start_time": "2022-08-27T11:15:18.957Z"
   },
   {
    "duration": 31,
    "start_time": "2022-08-27T11:15:19.213Z"
   },
   {
    "duration": 9,
    "start_time": "2022-08-27T11:15:19.246Z"
   },
   {
    "duration": 33,
    "start_time": "2022-08-27T11:15:19.256Z"
   },
   {
    "duration": 1655,
    "start_time": "2022-08-27T20:53:44.522Z"
   },
   {
    "duration": 23,
    "start_time": "2022-08-27T20:53:46.179Z"
   },
   {
    "duration": 44,
    "start_time": "2022-08-27T20:53:46.203Z"
   },
   {
    "duration": 33,
    "start_time": "2022-08-27T20:53:46.249Z"
   },
   {
    "duration": 64,
    "start_time": "2022-08-27T20:53:46.286Z"
   },
   {
    "duration": 18,
    "start_time": "2022-08-27T20:53:46.352Z"
   },
   {
    "duration": 408,
    "start_time": "2022-08-27T20:53:46.372Z"
   },
   {
    "duration": 297,
    "start_time": "2022-08-27T20:53:46.782Z"
   },
   {
    "duration": 158,
    "start_time": "2022-08-27T20:53:47.080Z"
   },
   {
    "duration": 240,
    "start_time": "2022-08-27T20:53:47.240Z"
   },
   {
    "duration": 545,
    "start_time": "2022-08-27T20:53:47.482Z"
   },
   {
    "duration": 256,
    "start_time": "2022-08-27T20:53:48.028Z"
   },
   {
    "duration": 43,
    "start_time": "2022-08-27T20:53:48.286Z"
   },
   {
    "duration": 9,
    "start_time": "2022-08-27T20:53:48.330Z"
   },
   {
    "duration": 16,
    "start_time": "2022-08-27T20:53:48.341Z"
   },
   {
    "duration": 30,
    "start_time": "2022-08-27T21:07:45.253Z"
   },
   {
    "duration": 16,
    "start_time": "2022-08-27T21:43:37.793Z"
   },
   {
    "duration": 1603,
    "start_time": "2022-08-28T13:11:45.323Z"
   },
   {
    "duration": 75,
    "start_time": "2022-08-28T13:11:46.928Z"
   },
   {
    "duration": 0,
    "start_time": "2022-08-28T13:11:47.005Z"
   },
   {
    "duration": 0,
    "start_time": "2022-08-28T13:11:47.006Z"
   },
   {
    "duration": 0,
    "start_time": "2022-08-28T13:11:47.007Z"
   },
   {
    "duration": 0,
    "start_time": "2022-08-28T13:11:47.009Z"
   },
   {
    "duration": 0,
    "start_time": "2022-08-28T13:11:47.010Z"
   },
   {
    "duration": 0,
    "start_time": "2022-08-28T13:11:47.011Z"
   },
   {
    "duration": 0,
    "start_time": "2022-08-28T13:11:47.012Z"
   },
   {
    "duration": 0,
    "start_time": "2022-08-28T13:11:47.013Z"
   },
   {
    "duration": 0,
    "start_time": "2022-08-28T13:11:47.014Z"
   },
   {
    "duration": 0,
    "start_time": "2022-08-28T13:11:47.015Z"
   },
   {
    "duration": 0,
    "start_time": "2022-08-28T13:11:47.016Z"
   },
   {
    "duration": 0,
    "start_time": "2022-08-28T13:11:47.017Z"
   },
   {
    "duration": 0,
    "start_time": "2022-08-28T13:11:47.018Z"
   },
   {
    "duration": 22,
    "start_time": "2022-08-28T13:12:30.467Z"
   },
   {
    "duration": 76,
    "start_time": "2022-08-28T14:42:38.590Z"
   },
   {
    "duration": 20,
    "start_time": "2022-08-28T14:42:38.668Z"
   },
   {
    "duration": 31,
    "start_time": "2022-08-28T14:42:38.689Z"
   },
   {
    "duration": 14,
    "start_time": "2022-08-28T14:42:38.738Z"
   },
   {
    "duration": 379,
    "start_time": "2022-08-28T14:42:38.754Z"
   },
   {
    "duration": 297,
    "start_time": "2022-08-28T14:42:39.136Z"
   },
   {
    "duration": 143,
    "start_time": "2022-08-28T14:42:39.435Z"
   },
   {
    "duration": 270,
    "start_time": "2022-08-28T14:42:39.580Z"
   },
   {
    "duration": 593,
    "start_time": "2022-08-28T14:42:39.852Z"
   },
   {
    "duration": 259,
    "start_time": "2022-08-28T14:42:40.447Z"
   },
   {
    "duration": 42,
    "start_time": "2022-08-28T14:42:40.708Z"
   },
   {
    "duration": 9,
    "start_time": "2022-08-28T14:42:40.752Z"
   },
   {
    "duration": 29,
    "start_time": "2022-08-28T14:42:40.763Z"
   },
   {
    "duration": 80,
    "start_time": "2022-08-28T14:49:51.401Z"
   },
   {
    "duration": 25,
    "start_time": "2022-08-28T14:49:51.483Z"
   },
   {
    "duration": 45,
    "start_time": "2022-08-28T14:49:51.510Z"
   },
   {
    "duration": 15,
    "start_time": "2022-08-28T14:49:51.557Z"
   },
   {
    "duration": 297,
    "start_time": "2022-08-28T14:49:51.574Z"
   },
   {
    "duration": 321,
    "start_time": "2022-08-28T14:49:51.873Z"
   },
   {
    "duration": 228,
    "start_time": "2022-08-28T14:49:52.196Z"
   },
   {
    "duration": 269,
    "start_time": "2022-08-28T14:49:52.426Z"
   },
   {
    "duration": 579,
    "start_time": "2022-08-28T14:49:52.697Z"
   },
   {
    "duration": 262,
    "start_time": "2022-08-28T14:49:53.277Z"
   },
   {
    "duration": 31,
    "start_time": "2022-08-28T14:49:53.541Z"
   },
   {
    "duration": 17,
    "start_time": "2022-08-28T14:49:53.574Z"
   },
   {
    "duration": 32,
    "start_time": "2022-08-28T14:49:53.592Z"
   },
   {
    "duration": 81,
    "start_time": "2022-08-28T14:52:47.090Z"
   },
   {
    "duration": 23,
    "start_time": "2022-08-28T14:52:47.173Z"
   },
   {
    "duration": 44,
    "start_time": "2022-08-28T14:52:47.197Z"
   },
   {
    "duration": 14,
    "start_time": "2022-08-28T14:52:47.243Z"
   },
   {
    "duration": 282,
    "start_time": "2022-08-28T14:52:47.259Z"
   },
   {
    "duration": 311,
    "start_time": "2022-08-28T14:52:47.543Z"
   },
   {
    "duration": 137,
    "start_time": "2022-08-28T14:52:47.855Z"
   },
   {
    "duration": 261,
    "start_time": "2022-08-28T14:52:47.993Z"
   },
   {
    "duration": 572,
    "start_time": "2022-08-28T14:52:48.255Z"
   },
   {
    "duration": 425,
    "start_time": "2022-08-28T14:52:48.829Z"
   },
   {
    "duration": 35,
    "start_time": "2022-08-28T14:52:49.255Z"
   },
   {
    "duration": 10,
    "start_time": "2022-08-28T14:52:49.291Z"
   },
   {
    "duration": 34,
    "start_time": "2022-08-28T14:52:49.304Z"
   },
   {
    "duration": 31,
    "start_time": "2022-08-28T14:56:23.747Z"
   },
   {
    "duration": 78,
    "start_time": "2022-08-28T14:56:49.472Z"
   },
   {
    "duration": 42,
    "start_time": "2022-08-28T14:56:49.552Z"
   },
   {
    "duration": 47,
    "start_time": "2022-08-28T14:56:49.596Z"
   },
   {
    "duration": 15,
    "start_time": "2022-08-28T14:56:49.646Z"
   },
   {
    "duration": 295,
    "start_time": "2022-08-28T14:56:49.663Z"
   },
   {
    "duration": 332,
    "start_time": "2022-08-28T14:56:49.961Z"
   },
   {
    "duration": 158,
    "start_time": "2022-08-28T14:56:50.295Z"
   },
   {
    "duration": 273,
    "start_time": "2022-08-28T14:56:50.455Z"
   },
   {
    "duration": 688,
    "start_time": "2022-08-28T14:56:50.739Z"
   },
   {
    "duration": 313,
    "start_time": "2022-08-28T14:56:51.431Z"
   },
   {
    "duration": 37,
    "start_time": "2022-08-28T14:56:51.746Z"
   },
   {
    "duration": 9,
    "start_time": "2022-08-28T14:56:51.785Z"
   },
   {
    "duration": 34,
    "start_time": "2022-08-28T14:56:51.796Z"
   },
   {
    "duration": 31,
    "start_time": "2022-08-28T14:59:36.984Z"
   },
   {
    "duration": 35,
    "start_time": "2022-08-28T15:00:54.970Z"
   },
   {
    "duration": 79,
    "start_time": "2022-08-28T15:01:07.393Z"
   },
   {
    "duration": 32,
    "start_time": "2022-08-28T15:01:07.474Z"
   },
   {
    "duration": 50,
    "start_time": "2022-08-28T15:01:07.508Z"
   },
   {
    "duration": 16,
    "start_time": "2022-08-28T15:01:07.561Z"
   },
   {
    "duration": 292,
    "start_time": "2022-08-28T15:01:07.579Z"
   },
   {
    "duration": 286,
    "start_time": "2022-08-28T15:01:07.873Z"
   },
   {
    "duration": 150,
    "start_time": "2022-08-28T15:01:08.160Z"
   },
   {
    "duration": 360,
    "start_time": "2022-08-28T15:01:08.311Z"
   },
   {
    "duration": 644,
    "start_time": "2022-08-28T15:01:08.672Z"
   },
   {
    "duration": 294,
    "start_time": "2022-08-28T15:01:09.319Z"
   },
   {
    "duration": 40,
    "start_time": "2022-08-28T15:01:09.615Z"
   },
   {
    "duration": 9,
    "start_time": "2022-08-28T15:01:09.657Z"
   },
   {
    "duration": 12,
    "start_time": "2022-08-28T15:01:09.668Z"
   },
   {
    "duration": 78,
    "start_time": "2022-08-28T15:02:16.708Z"
   },
   {
    "duration": 34,
    "start_time": "2022-08-28T15:02:16.788Z"
   },
   {
    "duration": 49,
    "start_time": "2022-08-28T15:02:16.823Z"
   },
   {
    "duration": 23,
    "start_time": "2022-08-28T15:02:16.877Z"
   },
   {
    "duration": 304,
    "start_time": "2022-08-28T15:02:16.902Z"
   },
   {
    "duration": 289,
    "start_time": "2022-08-28T15:02:17.207Z"
   },
   {
    "duration": 152,
    "start_time": "2022-08-28T15:02:17.498Z"
   },
   {
    "duration": 266,
    "start_time": "2022-08-28T15:02:17.652Z"
   },
   {
    "duration": 561,
    "start_time": "2022-08-28T15:02:17.920Z"
   },
   {
    "duration": 262,
    "start_time": "2022-08-28T15:02:18.484Z"
   },
   {
    "duration": 166,
    "start_time": "2022-08-28T15:02:18.748Z"
   },
   {
    "duration": 23,
    "start_time": "2022-08-28T15:02:18.915Z"
   },
   {
    "duration": 12,
    "start_time": "2022-08-28T15:02:18.941Z"
   },
   {
    "duration": 79,
    "start_time": "2022-08-28T15:03:13.937Z"
   },
   {
    "duration": 121,
    "start_time": "2022-08-28T15:03:14.019Z"
   },
   {
    "duration": 0,
    "start_time": "2022-08-28T15:03:14.142Z"
   },
   {
    "duration": 0,
    "start_time": "2022-08-28T15:03:14.143Z"
   },
   {
    "duration": 0,
    "start_time": "2022-08-28T15:03:14.144Z"
   },
   {
    "duration": 0,
    "start_time": "2022-08-28T15:03:14.145Z"
   },
   {
    "duration": 0,
    "start_time": "2022-08-28T15:03:14.146Z"
   },
   {
    "duration": 0,
    "start_time": "2022-08-28T15:03:14.147Z"
   },
   {
    "duration": 0,
    "start_time": "2022-08-28T15:03:14.148Z"
   },
   {
    "duration": 0,
    "start_time": "2022-08-28T15:03:14.149Z"
   },
   {
    "duration": 0,
    "start_time": "2022-08-28T15:03:14.150Z"
   },
   {
    "duration": 0,
    "start_time": "2022-08-28T15:03:14.151Z"
   },
   {
    "duration": 0,
    "start_time": "2022-08-28T15:03:14.152Z"
   },
   {
    "duration": 79,
    "start_time": "2022-08-28T15:04:24.920Z"
   },
   {
    "duration": 39,
    "start_time": "2022-08-28T15:04:25.001Z"
   },
   {
    "duration": 35,
    "start_time": "2022-08-28T15:04:25.042Z"
   },
   {
    "duration": 15,
    "start_time": "2022-08-28T15:04:25.080Z"
   },
   {
    "duration": 288,
    "start_time": "2022-08-28T15:04:25.096Z"
   },
   {
    "duration": 283,
    "start_time": "2022-08-28T15:04:25.386Z"
   },
   {
    "duration": 149,
    "start_time": "2022-08-28T15:04:25.670Z"
   },
   {
    "duration": 282,
    "start_time": "2022-08-28T15:04:25.821Z"
   },
   {
    "duration": 611,
    "start_time": "2022-08-28T15:04:26.105Z"
   },
   {
    "duration": 275,
    "start_time": "2022-08-28T15:04:26.718Z"
   },
   {
    "duration": 45,
    "start_time": "2022-08-28T15:04:26.994Z"
   },
   {
    "duration": 12,
    "start_time": "2022-08-28T15:04:27.041Z"
   },
   {
    "duration": 20,
    "start_time": "2022-08-28T15:04:27.056Z"
   },
   {
    "duration": 79,
    "start_time": "2022-08-28T15:05:09.814Z"
   },
   {
    "duration": 44,
    "start_time": "2022-08-28T15:05:09.895Z"
   },
   {
    "duration": 19,
    "start_time": "2022-08-28T15:05:09.941Z"
   },
   {
    "duration": 0,
    "start_time": "2022-08-28T15:05:09.962Z"
   },
   {
    "duration": 0,
    "start_time": "2022-08-28T15:05:09.963Z"
   },
   {
    "duration": 0,
    "start_time": "2022-08-28T15:05:09.964Z"
   },
   {
    "duration": 0,
    "start_time": "2022-08-28T15:05:09.965Z"
   },
   {
    "duration": 0,
    "start_time": "2022-08-28T15:05:09.966Z"
   },
   {
    "duration": 0,
    "start_time": "2022-08-28T15:05:09.967Z"
   },
   {
    "duration": 0,
    "start_time": "2022-08-28T15:05:09.968Z"
   },
   {
    "duration": 0,
    "start_time": "2022-08-28T15:05:09.968Z"
   },
   {
    "duration": 0,
    "start_time": "2022-08-28T15:05:09.969Z"
   },
   {
    "duration": 0,
    "start_time": "2022-08-28T15:05:09.970Z"
   },
   {
    "duration": 32,
    "start_time": "2022-08-28T15:07:42.959Z"
   },
   {
    "duration": 80,
    "start_time": "2022-08-28T15:08:52.235Z"
   },
   {
    "duration": 33,
    "start_time": "2022-08-28T15:08:52.317Z"
   },
   {
    "duration": 19,
    "start_time": "2022-08-28T15:08:52.351Z"
   },
   {
    "duration": 37,
    "start_time": "2022-08-28T15:08:52.372Z"
   },
   {
    "duration": 14,
    "start_time": "2022-08-28T15:08:52.411Z"
   },
   {
    "duration": 280,
    "start_time": "2022-08-28T15:08:52.440Z"
   },
   {
    "duration": 284,
    "start_time": "2022-08-28T15:08:52.722Z"
   },
   {
    "duration": 152,
    "start_time": "2022-08-28T15:08:53.008Z"
   },
   {
    "duration": 241,
    "start_time": "2022-08-28T15:08:53.162Z"
   },
   {
    "duration": 689,
    "start_time": "2022-08-28T15:08:53.405Z"
   },
   {
    "duration": 280,
    "start_time": "2022-08-28T15:08:54.095Z"
   },
   {
    "duration": 32,
    "start_time": "2022-08-28T15:08:54.376Z"
   },
   {
    "duration": 8,
    "start_time": "2022-08-28T15:08:54.410Z"
   },
   {
    "duration": 13,
    "start_time": "2022-08-28T15:08:54.438Z"
   },
   {
    "duration": 82,
    "start_time": "2022-08-28T15:09:22.243Z"
   },
   {
    "duration": 26,
    "start_time": "2022-08-28T15:09:22.327Z"
   },
   {
    "duration": 37,
    "start_time": "2022-08-28T15:09:22.354Z"
   },
   {
    "duration": 16,
    "start_time": "2022-08-28T15:09:22.393Z"
   },
   {
    "duration": 285,
    "start_time": "2022-08-28T15:09:22.411Z"
   },
   {
    "duration": 286,
    "start_time": "2022-08-28T15:09:22.697Z"
   },
   {
    "duration": 144,
    "start_time": "2022-08-28T15:09:22.984Z"
   },
   {
    "duration": 257,
    "start_time": "2022-08-28T15:09:23.130Z"
   },
   {
    "duration": 570,
    "start_time": "2022-08-28T15:09:23.389Z"
   },
   {
    "duration": 253,
    "start_time": "2022-08-28T15:09:23.961Z"
   },
   {
    "duration": 43,
    "start_time": "2022-08-28T15:09:24.216Z"
   },
   {
    "duration": 12,
    "start_time": "2022-08-28T15:09:24.261Z"
   },
   {
    "duration": 38,
    "start_time": "2022-08-28T15:09:24.275Z"
   },
   {
    "duration": 82,
    "start_time": "2022-08-28T15:11:02.079Z"
   },
   {
    "duration": 24,
    "start_time": "2022-08-28T15:11:02.163Z"
   },
   {
    "duration": 245,
    "start_time": "2022-08-28T15:11:02.188Z"
   },
   {
    "duration": 0,
    "start_time": "2022-08-28T15:11:02.436Z"
   },
   {
    "duration": 0,
    "start_time": "2022-08-28T15:11:02.437Z"
   },
   {
    "duration": 0,
    "start_time": "2022-08-28T15:11:02.438Z"
   },
   {
    "duration": 0,
    "start_time": "2022-08-28T15:11:02.438Z"
   },
   {
    "duration": 0,
    "start_time": "2022-08-28T15:11:02.439Z"
   },
   {
    "duration": 0,
    "start_time": "2022-08-28T15:11:02.440Z"
   },
   {
    "duration": 0,
    "start_time": "2022-08-28T15:11:02.440Z"
   },
   {
    "duration": 0,
    "start_time": "2022-08-28T15:11:02.441Z"
   },
   {
    "duration": 0,
    "start_time": "2022-08-28T15:11:02.444Z"
   },
   {
    "duration": 0,
    "start_time": "2022-08-28T15:11:02.444Z"
   },
   {
    "duration": 0,
    "start_time": "2022-08-28T15:11:02.445Z"
   },
   {
    "duration": 0,
    "start_time": "2022-08-28T15:11:02.446Z"
   },
   {
    "duration": 83,
    "start_time": "2022-08-28T15:12:48.386Z"
   },
   {
    "duration": 24,
    "start_time": "2022-08-28T15:12:48.471Z"
   },
   {
    "duration": 18,
    "start_time": "2022-08-28T15:12:48.497Z"
   },
   {
    "duration": 37,
    "start_time": "2022-08-28T15:12:48.517Z"
   },
   {
    "duration": 15,
    "start_time": "2022-08-28T15:12:48.556Z"
   },
   {
    "duration": 288,
    "start_time": "2022-08-28T15:12:48.572Z"
   },
   {
    "duration": 358,
    "start_time": "2022-08-28T15:12:48.862Z"
   },
   {
    "duration": 268,
    "start_time": "2022-08-28T15:12:49.222Z"
   },
   {
    "duration": 272,
    "start_time": "2022-08-28T15:12:49.492Z"
   },
   {
    "duration": 582,
    "start_time": "2022-08-28T15:12:49.766Z"
   },
   {
    "duration": 252,
    "start_time": "2022-08-28T15:12:50.349Z"
   },
   {
    "duration": 42,
    "start_time": "2022-08-28T15:12:50.603Z"
   },
   {
    "duration": 10,
    "start_time": "2022-08-28T15:12:50.648Z"
   },
   {
    "duration": 14,
    "start_time": "2022-08-28T15:12:50.659Z"
   },
   {
    "duration": 13,
    "start_time": "2022-08-28T15:14:47.397Z"
   },
   {
    "duration": 15,
    "start_time": "2022-08-28T15:14:58.798Z"
   },
   {
    "duration": 124,
    "start_time": "2022-08-28T15:23:56.049Z"
   },
   {
    "duration": 32,
    "start_time": "2022-08-28T15:23:56.175Z"
   },
   {
    "duration": 38,
    "start_time": "2022-08-28T15:23:56.209Z"
   },
   {
    "duration": 15,
    "start_time": "2022-08-28T15:23:56.249Z"
   },
   {
    "duration": 16,
    "start_time": "2022-08-28T15:23:56.266Z"
   },
   {
    "duration": 292,
    "start_time": "2022-08-28T15:23:56.284Z"
   },
   {
    "duration": 309,
    "start_time": "2022-08-28T15:23:56.578Z"
   },
   {
    "duration": 162,
    "start_time": "2022-08-28T15:23:56.889Z"
   },
   {
    "duration": 262,
    "start_time": "2022-08-28T15:23:57.053Z"
   },
   {
    "duration": 590,
    "start_time": "2022-08-28T15:23:57.318Z"
   },
   {
    "duration": 271,
    "start_time": "2022-08-28T15:23:57.910Z"
   },
   {
    "duration": 34,
    "start_time": "2022-08-28T15:23:58.182Z"
   },
   {
    "duration": 28,
    "start_time": "2022-08-28T15:23:58.218Z"
   },
   {
    "duration": 11,
    "start_time": "2022-08-28T15:23:58.248Z"
   },
   {
    "duration": 79,
    "start_time": "2022-08-28T15:24:57.465Z"
   },
   {
    "duration": 26,
    "start_time": "2022-08-28T15:24:57.546Z"
   },
   {
    "duration": 21,
    "start_time": "2022-08-28T15:24:57.573Z"
   },
   {
    "duration": 13,
    "start_time": "2022-08-28T15:24:57.596Z"
   },
   {
    "duration": 37,
    "start_time": "2022-08-28T15:24:57.611Z"
   },
   {
    "duration": 272,
    "start_time": "2022-08-28T15:24:57.650Z"
   },
   {
    "duration": 294,
    "start_time": "2022-08-28T15:24:57.924Z"
   },
   {
    "duration": 281,
    "start_time": "2022-08-28T15:24:58.220Z"
   },
   {
    "duration": 306,
    "start_time": "2022-08-28T15:24:58.502Z"
   },
   {
    "duration": 651,
    "start_time": "2022-08-28T15:24:58.811Z"
   },
   {
    "duration": 278,
    "start_time": "2022-08-28T15:24:59.463Z"
   },
   {
    "duration": 32,
    "start_time": "2022-08-28T15:24:59.743Z"
   },
   {
    "duration": 9,
    "start_time": "2022-08-28T15:24:59.777Z"
   },
   {
    "duration": 32,
    "start_time": "2022-08-28T15:24:59.788Z"
   },
   {
    "duration": 83,
    "start_time": "2022-08-28T15:39:05.652Z"
   },
   {
    "duration": 34,
    "start_time": "2022-08-28T15:39:05.737Z"
   },
   {
    "duration": 20,
    "start_time": "2022-08-28T15:39:05.772Z"
   },
   {
    "duration": 13,
    "start_time": "2022-08-28T15:39:05.794Z"
   },
   {
    "duration": 39,
    "start_time": "2022-08-28T15:39:05.809Z"
   },
   {
    "duration": 287,
    "start_time": "2022-08-28T15:39:05.851Z"
   },
   {
    "duration": 320,
    "start_time": "2022-08-28T15:39:06.141Z"
   },
   {
    "duration": 141,
    "start_time": "2022-08-28T15:39:06.463Z"
   },
   {
    "duration": 275,
    "start_time": "2022-08-28T15:39:06.606Z"
   },
   {
    "duration": 568,
    "start_time": "2022-08-28T15:39:06.884Z"
   },
   {
    "duration": 274,
    "start_time": "2022-08-28T15:39:07.455Z"
   },
   {
    "duration": 37,
    "start_time": "2022-08-28T15:39:07.730Z"
   },
   {
    "duration": 9,
    "start_time": "2022-08-28T15:39:07.768Z"
   },
   {
    "duration": 10,
    "start_time": "2022-08-28T15:39:07.778Z"
   },
   {
    "duration": 280,
    "start_time": "2022-08-28T15:39:18.053Z"
   },
   {
    "duration": 77,
    "start_time": "2022-08-28T15:42:02.957Z"
   },
   {
    "duration": 25,
    "start_time": "2022-08-28T15:42:03.036Z"
   },
   {
    "duration": 20,
    "start_time": "2022-08-28T15:42:03.062Z"
   },
   {
    "duration": 14,
    "start_time": "2022-08-28T15:42:03.084Z"
   },
   {
    "duration": 38,
    "start_time": "2022-08-28T15:42:03.100Z"
   },
   {
    "duration": 290,
    "start_time": "2022-08-28T15:42:03.140Z"
   },
   {
    "duration": 302,
    "start_time": "2022-08-28T15:42:03.431Z"
   },
   {
    "duration": 296,
    "start_time": "2022-08-28T15:42:03.734Z"
   },
   {
    "duration": 280,
    "start_time": "2022-08-28T15:42:04.032Z"
   },
   {
    "duration": 618,
    "start_time": "2022-08-28T15:42:04.315Z"
   },
   {
    "duration": 239,
    "start_time": "2022-08-28T15:42:04.935Z"
   },
   {
    "duration": 30,
    "start_time": "2022-08-28T15:42:05.176Z"
   },
   {
    "duration": 8,
    "start_time": "2022-08-28T15:42:05.207Z"
   },
   {
    "duration": 9,
    "start_time": "2022-08-28T15:42:05.239Z"
   },
   {
    "duration": 141,
    "start_time": "2022-08-28T16:08:32.024Z"
   },
   {
    "duration": 78,
    "start_time": "2022-08-28T16:14:31.080Z"
   },
   {
    "duration": 25,
    "start_time": "2022-08-28T16:14:31.160Z"
   },
   {
    "duration": 32,
    "start_time": "2022-08-28T16:14:31.187Z"
   },
   {
    "duration": 38,
    "start_time": "2022-08-28T16:14:31.221Z"
   },
   {
    "duration": 50,
    "start_time": "2022-08-28T16:14:31.261Z"
   },
   {
    "duration": 268,
    "start_time": "2022-08-28T16:14:31.312Z"
   },
   {
    "duration": 286,
    "start_time": "2022-08-28T16:14:31.581Z"
   },
   {
    "duration": 138,
    "start_time": "2022-08-28T16:14:31.868Z"
   },
   {
    "duration": 246,
    "start_time": "2022-08-28T16:14:32.008Z"
   },
   {
    "duration": 555,
    "start_time": "2022-08-28T16:14:32.256Z"
   },
   {
    "duration": 235,
    "start_time": "2022-08-28T16:14:32.813Z"
   },
   {
    "duration": 29,
    "start_time": "2022-08-28T16:14:33.050Z"
   },
   {
    "duration": 8,
    "start_time": "2022-08-28T16:14:33.081Z"
   },
   {
    "duration": 13,
    "start_time": "2022-08-28T16:14:33.092Z"
   },
   {
    "duration": 81,
    "start_time": "2022-08-28T16:26:30.970Z"
   },
   {
    "duration": 26,
    "start_time": "2022-08-28T16:26:31.053Z"
   },
   {
    "duration": 31,
    "start_time": "2022-08-28T16:26:31.080Z"
   },
   {
    "duration": 33,
    "start_time": "2022-08-28T16:26:31.113Z"
   },
   {
    "duration": 23,
    "start_time": "2022-08-28T16:26:31.148Z"
   },
   {
    "duration": 271,
    "start_time": "2022-08-28T16:26:31.173Z"
   },
   {
    "duration": 297,
    "start_time": "2022-08-28T16:26:31.446Z"
   },
   {
    "duration": 142,
    "start_time": "2022-08-28T16:26:31.745Z"
   },
   {
    "duration": 427,
    "start_time": "2022-08-28T16:26:31.889Z"
   },
   {
    "duration": 549,
    "start_time": "2022-08-28T16:26:32.318Z"
   },
   {
    "duration": 425,
    "start_time": "2022-08-28T16:26:32.869Z"
   },
   {
    "duration": 29,
    "start_time": "2022-08-28T16:26:33.296Z"
   },
   {
    "duration": 8,
    "start_time": "2022-08-28T16:26:33.339Z"
   },
   {
    "duration": 13,
    "start_time": "2022-08-28T16:26:33.349Z"
   },
   {
    "duration": 79,
    "start_time": "2022-08-28T17:06:24.969Z"
   },
   {
    "duration": 24,
    "start_time": "2022-08-28T17:06:25.050Z"
   },
   {
    "duration": 19,
    "start_time": "2022-08-28T17:06:25.076Z"
   },
   {
    "duration": 12,
    "start_time": "2022-08-28T17:06:25.097Z"
   },
   {
    "duration": 47,
    "start_time": "2022-08-28T17:06:25.110Z"
   },
   {
    "duration": 263,
    "start_time": "2022-08-28T17:06:25.159Z"
   },
   {
    "duration": 287,
    "start_time": "2022-08-28T17:06:25.424Z"
   },
   {
    "duration": 133,
    "start_time": "2022-08-28T17:06:25.713Z"
   },
   {
    "duration": 247,
    "start_time": "2022-08-28T17:06:25.848Z"
   },
   {
    "duration": 576,
    "start_time": "2022-08-28T17:06:26.098Z"
   },
   {
    "duration": 434,
    "start_time": "2022-08-28T17:06:26.676Z"
   },
   {
    "duration": 49,
    "start_time": "2022-08-28T17:06:27.112Z"
   },
   {
    "duration": 10,
    "start_time": "2022-08-28T17:06:27.163Z"
   },
   {
    "duration": 13,
    "start_time": "2022-08-28T17:06:27.174Z"
   },
   {
    "duration": 79,
    "start_time": "2022-08-28T17:07:21.629Z"
   },
   {
    "duration": 23,
    "start_time": "2022-08-28T17:07:21.710Z"
   },
   {
    "duration": 18,
    "start_time": "2022-08-28T17:07:21.734Z"
   },
   {
    "duration": 12,
    "start_time": "2022-08-28T17:07:21.753Z"
   },
   {
    "duration": 14,
    "start_time": "2022-08-28T17:07:21.767Z"
   },
   {
    "duration": 277,
    "start_time": "2022-08-28T17:07:21.783Z"
   },
   {
    "duration": 276,
    "start_time": "2022-08-28T17:07:22.062Z"
   },
   {
    "duration": 130,
    "start_time": "2022-08-28T17:07:22.340Z"
   },
   {
    "duration": 240,
    "start_time": "2022-08-28T17:07:22.472Z"
   },
   {
    "duration": 724,
    "start_time": "2022-08-28T17:07:22.714Z"
   },
   {
    "duration": 443,
    "start_time": "2022-08-28T17:07:23.440Z"
   },
   {
    "duration": 0,
    "start_time": "2022-08-28T17:07:23.885Z"
   },
   {
    "duration": 0,
    "start_time": "2022-08-28T17:07:23.886Z"
   },
   {
    "duration": 0,
    "start_time": "2022-08-28T17:07:23.887Z"
   },
   {
    "duration": 77,
    "start_time": "2022-08-28T17:07:59.505Z"
   },
   {
    "duration": 24,
    "start_time": "2022-08-28T17:07:59.584Z"
   },
   {
    "duration": 33,
    "start_time": "2022-08-28T17:07:59.609Z"
   },
   {
    "duration": 12,
    "start_time": "2022-08-28T17:07:59.644Z"
   },
   {
    "duration": 15,
    "start_time": "2022-08-28T17:07:59.658Z"
   },
   {
    "duration": 276,
    "start_time": "2022-08-28T17:07:59.674Z"
   },
   {
    "duration": 283,
    "start_time": "2022-08-28T17:07:59.952Z"
   },
   {
    "duration": 137,
    "start_time": "2022-08-28T17:08:00.237Z"
   },
   {
    "duration": 250,
    "start_time": "2022-08-28T17:08:00.375Z"
   },
   {
    "duration": 563,
    "start_time": "2022-08-28T17:08:00.627Z"
   },
   {
    "duration": 463,
    "start_time": "2022-08-28T17:08:01.192Z"
   },
   {
    "duration": 0,
    "start_time": "2022-08-28T17:08:01.657Z"
   },
   {
    "duration": 0,
    "start_time": "2022-08-28T17:08:01.658Z"
   },
   {
    "duration": 0,
    "start_time": "2022-08-28T17:08:01.659Z"
   },
   {
    "duration": 77,
    "start_time": "2022-08-28T17:08:46.957Z"
   },
   {
    "duration": 25,
    "start_time": "2022-08-28T17:08:47.036Z"
   },
   {
    "duration": 19,
    "start_time": "2022-08-28T17:08:47.063Z"
   },
   {
    "duration": 16,
    "start_time": "2022-08-28T17:08:47.084Z"
   },
   {
    "duration": 36,
    "start_time": "2022-08-28T17:08:47.102Z"
   },
   {
    "duration": 287,
    "start_time": "2022-08-28T17:08:47.140Z"
   },
   {
    "duration": 306,
    "start_time": "2022-08-28T17:08:47.429Z"
   },
   {
    "duration": 130,
    "start_time": "2022-08-28T17:08:47.738Z"
   },
   {
    "duration": 254,
    "start_time": "2022-08-28T17:08:47.870Z"
   },
   {
    "duration": 601,
    "start_time": "2022-08-28T17:08:48.127Z"
   },
   {
    "duration": 529,
    "start_time": "2022-08-28T17:08:48.730Z"
   },
   {
    "duration": 0,
    "start_time": "2022-08-28T17:08:49.261Z"
   },
   {
    "duration": 0,
    "start_time": "2022-08-28T17:08:49.262Z"
   },
   {
    "duration": 0,
    "start_time": "2022-08-28T17:08:49.263Z"
   },
   {
    "duration": 74,
    "start_time": "2022-08-28T17:09:17.300Z"
   },
   {
    "duration": 25,
    "start_time": "2022-08-28T17:09:17.376Z"
   },
   {
    "duration": 18,
    "start_time": "2022-08-28T17:09:17.402Z"
   },
   {
    "duration": 26,
    "start_time": "2022-08-28T17:09:17.422Z"
   },
   {
    "duration": 17,
    "start_time": "2022-08-28T17:09:17.450Z"
   },
   {
    "duration": 269,
    "start_time": "2022-08-28T17:09:17.469Z"
   },
   {
    "duration": 467,
    "start_time": "2022-08-28T17:09:17.740Z"
   },
   {
    "duration": 139,
    "start_time": "2022-08-28T17:09:18.209Z"
   },
   {
    "duration": 272,
    "start_time": "2022-08-28T17:09:18.350Z"
   },
   {
    "duration": 613,
    "start_time": "2022-08-28T17:09:18.625Z"
   },
   {
    "duration": 438,
    "start_time": "2022-08-28T17:09:19.240Z"
   },
   {
    "duration": 30,
    "start_time": "2022-08-28T17:09:19.680Z"
   },
   {
    "duration": 8,
    "start_time": "2022-08-28T17:09:19.711Z"
   },
   {
    "duration": 8,
    "start_time": "2022-08-28T17:09:19.739Z"
   },
   {
    "duration": 78,
    "start_time": "2022-08-28T17:09:35.863Z"
   },
   {
    "duration": 24,
    "start_time": "2022-08-28T17:09:35.943Z"
   },
   {
    "duration": 19,
    "start_time": "2022-08-28T17:09:35.969Z"
   },
   {
    "duration": 12,
    "start_time": "2022-08-28T17:09:35.990Z"
   },
   {
    "duration": 39,
    "start_time": "2022-08-28T17:09:36.004Z"
   },
   {
    "duration": 271,
    "start_time": "2022-08-28T17:09:36.045Z"
   },
   {
    "duration": 278,
    "start_time": "2022-08-28T17:09:36.318Z"
   },
   {
    "duration": 126,
    "start_time": "2022-08-28T17:09:36.598Z"
   },
   {
    "duration": 248,
    "start_time": "2022-08-28T17:09:36.725Z"
   },
   {
    "duration": 535,
    "start_time": "2022-08-28T17:09:36.976Z"
   },
   {
    "duration": 438,
    "start_time": "2022-08-28T17:09:37.513Z"
   },
   {
    "duration": 26,
    "start_time": "2022-08-28T17:09:37.953Z"
   },
   {
    "duration": 7,
    "start_time": "2022-08-28T17:09:37.981Z"
   },
   {
    "duration": 15,
    "start_time": "2022-08-28T17:09:37.990Z"
   },
   {
    "duration": 77,
    "start_time": "2022-08-28T17:11:10.253Z"
   },
   {
    "duration": 25,
    "start_time": "2022-08-28T17:11:10.333Z"
   },
   {
    "duration": 19,
    "start_time": "2022-08-28T17:11:10.359Z"
   },
   {
    "duration": 13,
    "start_time": "2022-08-28T17:11:10.380Z"
   },
   {
    "duration": 21,
    "start_time": "2022-08-28T17:11:10.395Z"
   },
   {
    "duration": 269,
    "start_time": "2022-08-28T17:11:10.438Z"
   },
   {
    "duration": 269,
    "start_time": "2022-08-28T17:11:10.709Z"
   },
   {
    "duration": 136,
    "start_time": "2022-08-28T17:11:10.979Z"
   },
   {
    "duration": 242,
    "start_time": "2022-08-28T17:11:11.116Z"
   },
   {
    "duration": 763,
    "start_time": "2022-08-28T17:11:11.361Z"
   },
   {
    "duration": 456,
    "start_time": "2022-08-28T17:11:12.125Z"
   },
   {
    "duration": 30,
    "start_time": "2022-08-28T17:11:12.583Z"
   },
   {
    "duration": 25,
    "start_time": "2022-08-28T17:11:12.614Z"
   },
   {
    "duration": 14,
    "start_time": "2022-08-28T17:11:12.641Z"
   },
   {
    "duration": 76,
    "start_time": "2022-08-28T17:11:58.227Z"
   },
   {
    "duration": 25,
    "start_time": "2022-08-28T17:11:58.305Z"
   },
   {
    "duration": 22,
    "start_time": "2022-08-28T17:11:58.331Z"
   },
   {
    "duration": 12,
    "start_time": "2022-08-28T17:11:58.355Z"
   },
   {
    "duration": 14,
    "start_time": "2022-08-28T17:11:58.368Z"
   },
   {
    "duration": 273,
    "start_time": "2022-08-28T17:11:58.383Z"
   },
   {
    "duration": 295,
    "start_time": "2022-08-28T17:11:58.657Z"
   },
   {
    "duration": 178,
    "start_time": "2022-08-28T17:11:58.954Z"
   },
   {
    "duration": 251,
    "start_time": "2022-08-28T17:11:59.138Z"
   },
   {
    "duration": 546,
    "start_time": "2022-08-28T17:11:59.392Z"
   },
   {
    "duration": 432,
    "start_time": "2022-08-28T17:11:59.940Z"
   },
   {
    "duration": 0,
    "start_time": "2022-08-28T17:12:00.373Z"
   },
   {
    "duration": 0,
    "start_time": "2022-08-28T17:12:00.374Z"
   },
   {
    "duration": 0,
    "start_time": "2022-08-28T17:12:00.375Z"
   },
   {
    "duration": 88,
    "start_time": "2022-08-28T17:12:37.929Z"
   },
   {
    "duration": 26,
    "start_time": "2022-08-28T17:12:38.020Z"
   },
   {
    "duration": 20,
    "start_time": "2022-08-28T17:12:38.048Z"
   },
   {
    "duration": 14,
    "start_time": "2022-08-28T17:12:38.070Z"
   },
   {
    "duration": 34,
    "start_time": "2022-08-28T17:12:38.086Z"
   },
   {
    "duration": 265,
    "start_time": "2022-08-28T17:12:38.122Z"
   },
   {
    "duration": 289,
    "start_time": "2022-08-28T17:12:38.389Z"
   },
   {
    "duration": 136,
    "start_time": "2022-08-28T17:12:38.680Z"
   },
   {
    "duration": 327,
    "start_time": "2022-08-28T17:12:38.818Z"
   },
   {
    "duration": 574,
    "start_time": "2022-08-28T17:12:39.149Z"
   },
   {
    "duration": 452,
    "start_time": "2022-08-28T17:12:39.726Z"
   },
   {
    "duration": 0,
    "start_time": "2022-08-28T17:12:40.180Z"
   },
   {
    "duration": 0,
    "start_time": "2022-08-28T17:12:40.182Z"
   },
   {
    "duration": 0,
    "start_time": "2022-08-28T17:12:40.183Z"
   },
   {
    "duration": 82,
    "start_time": "2022-08-28T17:13:07.596Z"
   },
   {
    "duration": 26,
    "start_time": "2022-08-28T17:13:07.680Z"
   },
   {
    "duration": 37,
    "start_time": "2022-08-28T17:13:07.708Z"
   },
   {
    "duration": 12,
    "start_time": "2022-08-28T17:13:07.747Z"
   },
   {
    "duration": 45,
    "start_time": "2022-08-28T17:13:07.760Z"
   },
   {
    "duration": 266,
    "start_time": "2022-08-28T17:13:07.806Z"
   },
   {
    "duration": 294,
    "start_time": "2022-08-28T17:13:08.074Z"
   },
   {
    "duration": 139,
    "start_time": "2022-08-28T17:13:08.370Z"
   },
   {
    "duration": 546,
    "start_time": "2022-08-28T17:13:08.511Z"
   },
   {
    "duration": 572,
    "start_time": "2022-08-28T17:13:09.060Z"
   },
   {
    "duration": 479,
    "start_time": "2022-08-28T17:13:09.638Z"
   },
   {
    "duration": 38,
    "start_time": "2022-08-28T17:13:10.119Z"
   },
   {
    "duration": 8,
    "start_time": "2022-08-28T17:13:10.159Z"
   },
   {
    "duration": 14,
    "start_time": "2022-08-28T17:13:10.169Z"
   },
   {
    "duration": 78,
    "start_time": "2022-08-28T17:13:31.908Z"
   },
   {
    "duration": 24,
    "start_time": "2022-08-28T17:13:31.988Z"
   },
   {
    "duration": 32,
    "start_time": "2022-08-28T17:13:32.014Z"
   },
   {
    "duration": 13,
    "start_time": "2022-08-28T17:13:32.048Z"
   },
   {
    "duration": 29,
    "start_time": "2022-08-28T17:13:32.062Z"
   },
   {
    "duration": 268,
    "start_time": "2022-08-28T17:13:32.093Z"
   },
   {
    "duration": 290,
    "start_time": "2022-08-28T17:13:32.362Z"
   },
   {
    "duration": 149,
    "start_time": "2022-08-28T17:13:32.654Z"
   },
   {
    "duration": 256,
    "start_time": "2022-08-28T17:13:32.805Z"
   },
   {
    "duration": 577,
    "start_time": "2022-08-28T17:13:33.063Z"
   },
   {
    "duration": 529,
    "start_time": "2022-08-28T17:13:33.642Z"
   },
   {
    "duration": 32,
    "start_time": "2022-08-28T17:13:34.172Z"
   },
   {
    "duration": 8,
    "start_time": "2022-08-28T17:13:34.206Z"
   },
   {
    "duration": 23,
    "start_time": "2022-08-28T17:13:34.216Z"
   },
   {
    "duration": 80,
    "start_time": "2022-08-28T17:25:06.615Z"
   },
   {
    "duration": 25,
    "start_time": "2022-08-28T17:25:06.697Z"
   },
   {
    "duration": 31,
    "start_time": "2022-08-28T17:25:06.723Z"
   },
   {
    "duration": 12,
    "start_time": "2022-08-28T17:25:06.757Z"
   },
   {
    "duration": 17,
    "start_time": "2022-08-28T17:25:06.771Z"
   },
   {
    "duration": 292,
    "start_time": "2022-08-28T17:25:06.790Z"
   },
   {
    "duration": 294,
    "start_time": "2022-08-28T17:25:07.084Z"
   },
   {
    "duration": 131,
    "start_time": "2022-08-28T17:25:07.380Z"
   },
   {
    "duration": 267,
    "start_time": "2022-08-28T17:25:07.512Z"
   },
   {
    "duration": 572,
    "start_time": "2022-08-28T17:25:07.782Z"
   },
   {
    "duration": 436,
    "start_time": "2022-08-28T17:25:08.355Z"
   },
   {
    "duration": 29,
    "start_time": "2022-08-28T17:25:08.793Z"
   },
   {
    "duration": 8,
    "start_time": "2022-08-28T17:25:08.838Z"
   },
   {
    "duration": 28,
    "start_time": "2022-08-28T17:25:08.848Z"
   },
   {
    "duration": 90,
    "start_time": "2022-08-28T17:30:51.397Z"
   },
   {
    "duration": 24,
    "start_time": "2022-08-28T17:30:51.490Z"
   },
   {
    "duration": 34,
    "start_time": "2022-08-28T17:30:51.515Z"
   },
   {
    "duration": 13,
    "start_time": "2022-08-28T17:30:51.551Z"
   },
   {
    "duration": 15,
    "start_time": "2022-08-28T17:30:51.566Z"
   },
   {
    "duration": 299,
    "start_time": "2022-08-28T17:30:51.583Z"
   },
   {
    "duration": 313,
    "start_time": "2022-08-28T17:30:51.884Z"
   },
   {
    "duration": 398,
    "start_time": "2022-08-28T17:30:52.200Z"
   },
   {
    "duration": 261,
    "start_time": "2022-08-28T17:30:52.600Z"
   },
   {
    "duration": 558,
    "start_time": "2022-08-28T17:30:52.863Z"
   },
   {
    "duration": 446,
    "start_time": "2022-08-28T17:30:53.423Z"
   },
   {
    "duration": 751,
    "start_time": "2022-08-28T17:30:53.871Z"
   },
   {
    "duration": 0,
    "start_time": "2022-08-28T17:30:54.624Z"
   },
   {
    "duration": 0,
    "start_time": "2022-08-28T17:30:54.625Z"
   },
   {
    "duration": 0,
    "start_time": "2022-08-28T17:30:54.626Z"
   },
   {
    "duration": 79,
    "start_time": "2022-08-28T17:31:11.050Z"
   },
   {
    "duration": 35,
    "start_time": "2022-08-28T17:31:11.132Z"
   },
   {
    "duration": 20,
    "start_time": "2022-08-28T17:31:11.169Z"
   },
   {
    "duration": 12,
    "start_time": "2022-08-28T17:31:11.191Z"
   },
   {
    "duration": 34,
    "start_time": "2022-08-28T17:31:11.205Z"
   },
   {
    "duration": 262,
    "start_time": "2022-08-28T17:31:11.241Z"
   },
   {
    "duration": 295,
    "start_time": "2022-08-28T17:31:11.505Z"
   },
   {
    "duration": 133,
    "start_time": "2022-08-28T17:31:11.801Z"
   },
   {
    "duration": 240,
    "start_time": "2022-08-28T17:31:11.939Z"
   },
   {
    "duration": 543,
    "start_time": "2022-08-28T17:31:12.182Z"
   },
   {
    "duration": 437,
    "start_time": "2022-08-28T17:31:12.727Z"
   },
   {
    "duration": 34,
    "start_time": "2022-08-28T17:31:13.166Z"
   },
   {
    "duration": 5,
    "start_time": "2022-08-28T17:31:13.201Z"
   },
   {
    "duration": 31,
    "start_time": "2022-08-28T17:31:13.208Z"
   },
   {
    "duration": 9,
    "start_time": "2022-08-28T17:31:13.242Z"
   },
   {
    "duration": 84,
    "start_time": "2022-08-28T17:31:28.574Z"
   },
   {
    "duration": 26,
    "start_time": "2022-08-28T17:31:28.660Z"
   },
   {
    "duration": 21,
    "start_time": "2022-08-28T17:31:28.687Z"
   },
   {
    "duration": 35,
    "start_time": "2022-08-28T17:31:28.710Z"
   },
   {
    "duration": 26,
    "start_time": "2022-08-28T17:31:28.747Z"
   },
   {
    "duration": 328,
    "start_time": "2022-08-28T17:31:28.775Z"
   },
   {
    "duration": 350,
    "start_time": "2022-08-28T17:31:29.106Z"
   },
   {
    "duration": 148,
    "start_time": "2022-08-28T17:31:29.458Z"
   },
   {
    "duration": 285,
    "start_time": "2022-08-28T17:31:29.608Z"
   },
   {
    "duration": 610,
    "start_time": "2022-08-28T17:31:29.895Z"
   },
   {
    "duration": 459,
    "start_time": "2022-08-28T17:31:30.507Z"
   },
   {
    "duration": 54,
    "start_time": "2022-08-28T17:31:30.968Z"
   },
   {
    "duration": 0,
    "start_time": "2022-08-28T17:31:31.023Z"
   },
   {
    "duration": 0,
    "start_time": "2022-08-28T17:31:31.024Z"
   },
   {
    "duration": 0,
    "start_time": "2022-08-28T17:31:31.025Z"
   },
   {
    "duration": 76,
    "start_time": "2022-08-28T17:34:04.719Z"
   },
   {
    "duration": 26,
    "start_time": "2022-08-28T17:34:04.797Z"
   },
   {
    "duration": 30,
    "start_time": "2022-08-28T17:34:04.825Z"
   },
   {
    "duration": 12,
    "start_time": "2022-08-28T17:34:04.857Z"
   },
   {
    "duration": 33,
    "start_time": "2022-08-28T17:34:04.870Z"
   },
   {
    "duration": 277,
    "start_time": "2022-08-28T17:34:04.905Z"
   },
   {
    "duration": 292,
    "start_time": "2022-08-28T17:34:05.184Z"
   },
   {
    "duration": 132,
    "start_time": "2022-08-28T17:34:05.478Z"
   },
   {
    "duration": 527,
    "start_time": "2022-08-28T17:34:05.611Z"
   },
   {
    "duration": 556,
    "start_time": "2022-08-28T17:34:06.141Z"
   },
   {
    "duration": 441,
    "start_time": "2022-08-28T17:34:06.699Z"
   },
   {
    "duration": 50,
    "start_time": "2022-08-28T17:34:07.142Z"
   },
   {
    "duration": 0,
    "start_time": "2022-08-28T17:34:07.193Z"
   },
   {
    "duration": 0,
    "start_time": "2022-08-28T17:34:07.195Z"
   },
   {
    "duration": 0,
    "start_time": "2022-08-28T17:34:07.196Z"
   },
   {
    "duration": 77,
    "start_time": "2022-08-28T17:34:11.505Z"
   },
   {
    "duration": 25,
    "start_time": "2022-08-28T17:34:11.583Z"
   },
   {
    "duration": 37,
    "start_time": "2022-08-28T17:34:11.610Z"
   },
   {
    "duration": 14,
    "start_time": "2022-08-28T17:34:11.649Z"
   },
   {
    "duration": 16,
    "start_time": "2022-08-28T17:34:11.665Z"
   },
   {
    "duration": 317,
    "start_time": "2022-08-28T17:34:11.683Z"
   },
   {
    "duration": 285,
    "start_time": "2022-08-28T17:34:12.002Z"
   },
   {
    "duration": 132,
    "start_time": "2022-08-28T17:34:12.289Z"
   },
   {
    "duration": 272,
    "start_time": "2022-08-28T17:34:12.422Z"
   },
   {
    "duration": 554,
    "start_time": "2022-08-28T17:34:12.697Z"
   },
   {
    "duration": 429,
    "start_time": "2022-08-28T17:34:13.253Z"
   },
   {
    "duration": 32,
    "start_time": "2022-08-28T17:34:13.683Z"
   },
   {
    "duration": 24,
    "start_time": "2022-08-28T17:34:13.717Z"
   },
   {
    "duration": 0,
    "start_time": "2022-08-28T17:34:13.743Z"
   },
   {
    "duration": 0,
    "start_time": "2022-08-28T17:34:13.745Z"
   },
   {
    "duration": 90,
    "start_time": "2022-08-28T17:35:21.694Z"
   },
   {
    "duration": 25,
    "start_time": "2022-08-28T17:35:21.786Z"
   },
   {
    "duration": 42,
    "start_time": "2022-08-28T17:35:21.813Z"
   },
   {
    "duration": 31,
    "start_time": "2022-08-28T17:35:21.857Z"
   },
   {
    "duration": 29,
    "start_time": "2022-08-28T17:35:21.890Z"
   },
   {
    "duration": 301,
    "start_time": "2022-08-28T17:35:21.921Z"
   },
   {
    "duration": 320,
    "start_time": "2022-08-28T17:35:22.225Z"
   },
   {
    "duration": 154,
    "start_time": "2022-08-28T17:35:22.546Z"
   },
   {
    "duration": 260,
    "start_time": "2022-08-28T17:35:22.702Z"
   },
   {
    "duration": 546,
    "start_time": "2022-08-28T17:35:22.965Z"
   },
   {
    "duration": 440,
    "start_time": "2022-08-28T17:35:23.513Z"
   },
   {
    "duration": 29,
    "start_time": "2022-08-28T17:35:23.955Z"
   },
   {
    "duration": 22,
    "start_time": "2022-08-28T17:35:23.986Z"
   },
   {
    "duration": 0,
    "start_time": "2022-08-28T17:35:24.010Z"
   },
   {
    "duration": 0,
    "start_time": "2022-08-28T17:35:24.011Z"
   },
   {
    "duration": 78,
    "start_time": "2022-08-28T17:35:37.359Z"
   },
   {
    "duration": 28,
    "start_time": "2022-08-28T17:35:37.438Z"
   },
   {
    "duration": 22,
    "start_time": "2022-08-28T17:35:37.468Z"
   },
   {
    "duration": 12,
    "start_time": "2022-08-28T17:35:37.492Z"
   },
   {
    "duration": 36,
    "start_time": "2022-08-28T17:35:37.506Z"
   },
   {
    "duration": 271,
    "start_time": "2022-08-28T17:35:37.544Z"
   },
   {
    "duration": 282,
    "start_time": "2022-08-28T17:35:37.816Z"
   },
   {
    "duration": 143,
    "start_time": "2022-08-28T17:35:38.099Z"
   },
   {
    "duration": 254,
    "start_time": "2022-08-28T17:35:38.244Z"
   },
   {
    "duration": 956,
    "start_time": "2022-08-28T17:35:38.500Z"
   },
   {
    "duration": 444,
    "start_time": "2022-08-28T17:35:39.457Z"
   },
   {
    "duration": 41,
    "start_time": "2022-08-28T17:35:39.902Z"
   },
   {
    "duration": 5,
    "start_time": "2022-08-28T17:35:39.945Z"
   },
   {
    "duration": 12,
    "start_time": "2022-08-28T17:35:39.952Z"
   },
   {
    "duration": 10,
    "start_time": "2022-08-28T17:35:39.966Z"
   },
   {
    "duration": 82,
    "start_time": "2022-08-28T17:35:56.182Z"
   },
   {
    "duration": 38,
    "start_time": "2022-08-28T17:35:56.266Z"
   },
   {
    "duration": 38,
    "start_time": "2022-08-28T17:35:56.306Z"
   },
   {
    "duration": 13,
    "start_time": "2022-08-28T17:35:56.346Z"
   },
   {
    "duration": 15,
    "start_time": "2022-08-28T17:35:56.361Z"
   },
   {
    "duration": 288,
    "start_time": "2022-08-28T17:35:56.377Z"
   },
   {
    "duration": 302,
    "start_time": "2022-08-28T17:35:56.667Z"
   },
   {
    "duration": 141,
    "start_time": "2022-08-28T17:35:56.971Z"
   },
   {
    "duration": 260,
    "start_time": "2022-08-28T17:35:57.114Z"
   },
   {
    "duration": 590,
    "start_time": "2022-08-28T17:35:57.377Z"
   },
   {
    "duration": 438,
    "start_time": "2022-08-28T17:35:57.969Z"
   },
   {
    "duration": 40,
    "start_time": "2022-08-28T17:35:58.409Z"
   },
   {
    "duration": 4,
    "start_time": "2022-08-28T17:35:58.451Z"
   },
   {
    "duration": 10,
    "start_time": "2022-08-28T17:35:58.456Z"
   },
   {
    "duration": 8,
    "start_time": "2022-08-28T17:35:58.468Z"
   },
   {
    "duration": 79,
    "start_time": "2022-08-28T17:36:34.319Z"
   },
   {
    "duration": 26,
    "start_time": "2022-08-28T17:36:34.400Z"
   },
   {
    "duration": 19,
    "start_time": "2022-08-28T17:36:34.438Z"
   },
   {
    "duration": 14,
    "start_time": "2022-08-28T17:36:34.460Z"
   },
   {
    "duration": 16,
    "start_time": "2022-08-28T17:36:34.476Z"
   },
   {
    "duration": 305,
    "start_time": "2022-08-28T17:36:34.494Z"
   },
   {
    "duration": 293,
    "start_time": "2022-08-28T17:36:34.801Z"
   },
   {
    "duration": 146,
    "start_time": "2022-08-28T17:36:35.096Z"
   },
   {
    "duration": 249,
    "start_time": "2022-08-28T17:36:35.243Z"
   },
   {
    "duration": 573,
    "start_time": "2022-08-28T17:36:35.495Z"
   },
   {
    "duration": 452,
    "start_time": "2022-08-28T17:36:36.070Z"
   },
   {
    "duration": 39,
    "start_time": "2022-08-28T17:36:36.524Z"
   },
   {
    "duration": 4,
    "start_time": "2022-08-28T17:36:36.565Z"
   },
   {
    "duration": 15,
    "start_time": "2022-08-28T17:36:36.571Z"
   },
   {
    "duration": 12,
    "start_time": "2022-08-28T17:36:36.588Z"
   },
   {
    "duration": 91,
    "start_time": "2022-08-28T17:37:16.534Z"
   },
   {
    "duration": 25,
    "start_time": "2022-08-28T17:37:16.627Z"
   },
   {
    "duration": 21,
    "start_time": "2022-08-28T17:37:16.653Z"
   },
   {
    "duration": 13,
    "start_time": "2022-08-28T17:37:16.676Z"
   },
   {
    "duration": 17,
    "start_time": "2022-08-28T17:37:16.691Z"
   },
   {
    "duration": 309,
    "start_time": "2022-08-28T17:37:16.710Z"
   },
   {
    "duration": 314,
    "start_time": "2022-08-28T17:37:17.021Z"
   },
   {
    "duration": 138,
    "start_time": "2022-08-28T17:37:17.336Z"
   },
   {
    "duration": 294,
    "start_time": "2022-08-28T17:37:17.476Z"
   },
   {
    "duration": 595,
    "start_time": "2022-08-28T17:37:17.773Z"
   },
   {
    "duration": 441,
    "start_time": "2022-08-28T17:37:18.370Z"
   },
   {
    "duration": 38,
    "start_time": "2022-08-28T17:37:18.813Z"
   },
   {
    "duration": 8,
    "start_time": "2022-08-28T17:37:18.853Z"
   },
   {
    "duration": 0,
    "start_time": "2022-08-28T17:37:18.863Z"
   },
   {
    "duration": 0,
    "start_time": "2022-08-28T17:37:18.865Z"
   },
   {
    "duration": 94,
    "start_time": "2022-08-28T17:38:05.423Z"
   },
   {
    "duration": 30,
    "start_time": "2022-08-28T17:38:05.519Z"
   },
   {
    "duration": 18,
    "start_time": "2022-08-28T17:38:05.551Z"
   },
   {
    "duration": 13,
    "start_time": "2022-08-28T17:38:05.571Z"
   },
   {
    "duration": 15,
    "start_time": "2022-08-28T17:38:05.585Z"
   },
   {
    "duration": 298,
    "start_time": "2022-08-28T17:38:05.602Z"
   },
   {
    "duration": 295,
    "start_time": "2022-08-28T17:38:05.902Z"
   },
   {
    "duration": 429,
    "start_time": "2022-08-28T17:38:06.199Z"
   },
   {
    "duration": 269,
    "start_time": "2022-08-28T17:38:06.638Z"
   },
   {
    "duration": 569,
    "start_time": "2022-08-28T17:38:06.910Z"
   },
   {
    "duration": 448,
    "start_time": "2022-08-28T17:38:07.481Z"
   },
   {
    "duration": 38,
    "start_time": "2022-08-28T17:38:07.931Z"
   },
   {
    "duration": 16,
    "start_time": "2022-08-28T17:38:07.972Z"
   },
   {
    "duration": 0,
    "start_time": "2022-08-28T17:38:07.989Z"
   },
   {
    "duration": 0,
    "start_time": "2022-08-28T17:38:07.990Z"
   },
   {
    "duration": 80,
    "start_time": "2022-08-28T17:39:17.146Z"
   },
   {
    "duration": 27,
    "start_time": "2022-08-28T17:39:17.228Z"
   },
   {
    "duration": 21,
    "start_time": "2022-08-28T17:39:17.257Z"
   },
   {
    "duration": 15,
    "start_time": "2022-08-28T17:39:17.281Z"
   },
   {
    "duration": 47,
    "start_time": "2022-08-28T17:39:17.298Z"
   },
   {
    "duration": 273,
    "start_time": "2022-08-28T17:39:17.347Z"
   },
   {
    "duration": 314,
    "start_time": "2022-08-28T17:39:17.622Z"
   },
   {
    "duration": 142,
    "start_time": "2022-08-28T17:39:17.938Z"
   },
   {
    "duration": 246,
    "start_time": "2022-08-28T17:39:18.082Z"
   },
   {
    "duration": 559,
    "start_time": "2022-08-28T17:39:18.340Z"
   },
   {
    "duration": 508,
    "start_time": "2022-08-28T17:39:18.901Z"
   },
   {
    "duration": 39,
    "start_time": "2022-08-28T17:39:19.411Z"
   },
   {
    "duration": 8,
    "start_time": "2022-08-28T17:39:19.452Z"
   },
   {
    "duration": 10,
    "start_time": "2022-08-28T17:39:19.462Z"
   },
   {
    "duration": 92,
    "start_time": "2022-08-28T17:44:49.593Z"
   },
   {
    "duration": 27,
    "start_time": "2022-08-28T17:44:49.687Z"
   },
   {
    "duration": 36,
    "start_time": "2022-08-28T17:44:49.717Z"
   },
   {
    "duration": 20,
    "start_time": "2022-08-28T17:44:49.755Z"
   },
   {
    "duration": 28,
    "start_time": "2022-08-28T17:44:49.778Z"
   },
   {
    "duration": 316,
    "start_time": "2022-08-28T17:44:49.808Z"
   },
   {
    "duration": 316,
    "start_time": "2022-08-28T17:44:50.126Z"
   },
   {
    "duration": 138,
    "start_time": "2022-08-28T17:44:50.443Z"
   },
   {
    "duration": 258,
    "start_time": "2022-08-28T17:44:50.583Z"
   },
   {
    "duration": 588,
    "start_time": "2022-08-28T17:44:50.844Z"
   },
   {
    "duration": 484,
    "start_time": "2022-08-28T17:44:51.438Z"
   },
   {
    "duration": 46,
    "start_time": "2022-08-28T17:44:51.925Z"
   },
   {
    "duration": 3,
    "start_time": "2022-08-28T17:44:51.973Z"
   },
   {
    "duration": 13,
    "start_time": "2022-08-28T17:44:51.978Z"
   },
   {
    "duration": 14,
    "start_time": "2022-08-28T17:44:51.993Z"
   },
   {
    "duration": 78,
    "start_time": "2022-08-28T17:46:38.584Z"
   },
   {
    "duration": 23,
    "start_time": "2022-08-28T17:46:38.664Z"
   },
   {
    "duration": 19,
    "start_time": "2022-08-28T17:46:38.689Z"
   },
   {
    "duration": 33,
    "start_time": "2022-08-28T17:46:38.710Z"
   },
   {
    "duration": 35,
    "start_time": "2022-08-28T17:46:38.744Z"
   },
   {
    "duration": 343,
    "start_time": "2022-08-28T17:46:38.781Z"
   },
   {
    "duration": 293,
    "start_time": "2022-08-28T17:46:39.134Z"
   },
   {
    "duration": 127,
    "start_time": "2022-08-28T17:46:39.438Z"
   },
   {
    "duration": 252,
    "start_time": "2022-08-28T17:46:39.567Z"
   },
   {
    "duration": 576,
    "start_time": "2022-08-28T17:46:39.821Z"
   },
   {
    "duration": 428,
    "start_time": "2022-08-28T17:46:40.398Z"
   },
   {
    "duration": 36,
    "start_time": "2022-08-28T17:46:40.828Z"
   },
   {
    "duration": 8,
    "start_time": "2022-08-28T17:46:40.866Z"
   },
   {
    "duration": 19,
    "start_time": "2022-08-28T17:46:40.875Z"
   },
   {
    "duration": 78,
    "start_time": "2022-08-28T17:47:58.097Z"
   },
   {
    "duration": 31,
    "start_time": "2022-08-28T17:47:58.177Z"
   },
   {
    "duration": 35,
    "start_time": "2022-08-28T17:47:58.210Z"
   },
   {
    "duration": 14,
    "start_time": "2022-08-28T17:47:58.246Z"
   },
   {
    "duration": 20,
    "start_time": "2022-08-28T17:47:58.262Z"
   },
   {
    "duration": 301,
    "start_time": "2022-08-28T17:47:58.284Z"
   },
   {
    "duration": 709,
    "start_time": "2022-08-28T17:47:58.587Z"
   },
   {
    "duration": 143,
    "start_time": "2022-08-28T17:47:59.298Z"
   },
   {
    "duration": 263,
    "start_time": "2022-08-28T17:47:59.443Z"
   },
   {
    "duration": 562,
    "start_time": "2022-08-28T17:47:59.709Z"
   },
   {
    "duration": 441,
    "start_time": "2022-08-28T17:48:00.273Z"
   },
   {
    "duration": 42,
    "start_time": "2022-08-28T17:48:00.716Z"
   },
   {
    "duration": 0,
    "start_time": "2022-08-28T17:48:00.760Z"
   },
   {
    "duration": 0,
    "start_time": "2022-08-28T17:48:00.762Z"
   },
   {
    "duration": 79,
    "start_time": "2022-08-28T17:48:33.277Z"
   },
   {
    "duration": 25,
    "start_time": "2022-08-28T17:48:33.358Z"
   },
   {
    "duration": 20,
    "start_time": "2022-08-28T17:48:33.385Z"
   },
   {
    "duration": 31,
    "start_time": "2022-08-28T17:48:33.408Z"
   },
   {
    "duration": 21,
    "start_time": "2022-08-28T17:48:33.441Z"
   },
   {
    "duration": 279,
    "start_time": "2022-08-28T17:48:33.463Z"
   },
   {
    "duration": 291,
    "start_time": "2022-08-28T17:48:33.743Z"
   },
   {
    "duration": 138,
    "start_time": "2022-08-28T17:48:34.038Z"
   },
   {
    "duration": 275,
    "start_time": "2022-08-28T17:48:34.177Z"
   },
   {
    "duration": 767,
    "start_time": "2022-08-28T17:48:34.455Z"
   },
   {
    "duration": 436,
    "start_time": "2022-08-28T17:48:35.224Z"
   },
   {
    "duration": 49,
    "start_time": "2022-08-28T17:48:35.662Z"
   },
   {
    "duration": 14,
    "start_time": "2022-08-28T17:48:35.713Z"
   },
   {
    "duration": 15,
    "start_time": "2022-08-28T17:48:35.729Z"
   },
   {
    "duration": 79,
    "start_time": "2022-08-28T17:50:08.644Z"
   },
   {
    "duration": 30,
    "start_time": "2022-08-28T17:50:08.725Z"
   },
   {
    "duration": 21,
    "start_time": "2022-08-28T17:50:08.757Z"
   },
   {
    "duration": 15,
    "start_time": "2022-08-28T17:50:08.781Z"
   },
   {
    "duration": 43,
    "start_time": "2022-08-28T17:50:08.798Z"
   },
   {
    "duration": 364,
    "start_time": "2022-08-28T17:50:08.843Z"
   },
   {
    "duration": 300,
    "start_time": "2022-08-28T17:50:09.210Z"
   },
   {
    "duration": 148,
    "start_time": "2022-08-28T17:50:09.513Z"
   },
   {
    "duration": 278,
    "start_time": "2022-08-28T17:50:09.663Z"
   },
   {
    "duration": 575,
    "start_time": "2022-08-28T17:50:09.943Z"
   },
   {
    "duration": 441,
    "start_time": "2022-08-28T17:50:10.520Z"
   },
   {
    "duration": 167,
    "start_time": "2022-08-28T17:50:10.963Z"
   },
   {
    "duration": 9,
    "start_time": "2022-08-28T17:50:11.138Z"
   },
   {
    "duration": 10,
    "start_time": "2022-08-28T17:50:11.148Z"
   },
   {
    "duration": 80,
    "start_time": "2022-08-28T17:51:27.121Z"
   },
   {
    "duration": 25,
    "start_time": "2022-08-28T17:51:27.203Z"
   },
   {
    "duration": 25,
    "start_time": "2022-08-28T17:51:27.230Z"
   },
   {
    "duration": 13,
    "start_time": "2022-08-28T17:51:27.257Z"
   },
   {
    "duration": 25,
    "start_time": "2022-08-28T17:51:27.272Z"
   },
   {
    "duration": 324,
    "start_time": "2022-08-28T17:51:27.299Z"
   },
   {
    "duration": 295,
    "start_time": "2022-08-28T17:51:27.625Z"
   },
   {
    "duration": 137,
    "start_time": "2022-08-28T17:51:27.922Z"
   },
   {
    "duration": 257,
    "start_time": "2022-08-28T17:51:28.061Z"
   },
   {
    "duration": 563,
    "start_time": "2022-08-28T17:51:28.320Z"
   },
   {
    "duration": 510,
    "start_time": "2022-08-28T17:51:28.886Z"
   },
   {
    "duration": 195,
    "start_time": "2022-08-28T17:51:29.398Z"
   },
   {
    "duration": 9,
    "start_time": "2022-08-28T17:51:29.595Z"
   },
   {
    "duration": 11,
    "start_time": "2022-08-28T17:51:29.606Z"
   },
   {
    "duration": 77,
    "start_time": "2022-08-28T17:53:31.436Z"
   },
   {
    "duration": 24,
    "start_time": "2022-08-28T17:53:31.514Z"
   },
   {
    "duration": 19,
    "start_time": "2022-08-28T17:53:31.540Z"
   },
   {
    "duration": 13,
    "start_time": "2022-08-28T17:53:31.561Z"
   },
   {
    "duration": 18,
    "start_time": "2022-08-28T17:53:31.576Z"
   },
   {
    "duration": 277,
    "start_time": "2022-08-28T17:53:31.595Z"
   },
   {
    "duration": 646,
    "start_time": "2022-08-28T17:53:31.874Z"
   },
   {
    "duration": 140,
    "start_time": "2022-08-28T17:53:32.522Z"
   },
   {
    "duration": 251,
    "start_time": "2022-08-28T17:53:32.664Z"
   },
   {
    "duration": 572,
    "start_time": "2022-08-28T17:53:32.919Z"
   },
   {
    "duration": 441,
    "start_time": "2022-08-28T17:53:33.493Z"
   },
   {
    "duration": 208,
    "start_time": "2022-08-28T17:53:33.937Z"
   },
   {
    "duration": 8,
    "start_time": "2022-08-28T17:53:34.147Z"
   },
   {
    "duration": 10,
    "start_time": "2022-08-28T17:53:34.157Z"
   },
   {
    "duration": 80,
    "start_time": "2022-08-28T17:54:26.885Z"
   },
   {
    "duration": 26,
    "start_time": "2022-08-28T17:54:26.966Z"
   },
   {
    "duration": 19,
    "start_time": "2022-08-28T17:54:26.994Z"
   },
   {
    "duration": 32,
    "start_time": "2022-08-28T17:54:27.015Z"
   },
   {
    "duration": 16,
    "start_time": "2022-08-28T17:54:27.049Z"
   },
   {
    "duration": 290,
    "start_time": "2022-08-28T17:54:27.067Z"
   },
   {
    "duration": 290,
    "start_time": "2022-08-28T17:54:27.359Z"
   },
   {
    "duration": 148,
    "start_time": "2022-08-28T17:54:27.651Z"
   },
   {
    "duration": 258,
    "start_time": "2022-08-28T17:54:27.801Z"
   },
   {
    "duration": 553,
    "start_time": "2022-08-28T17:54:28.062Z"
   },
   {
    "duration": 504,
    "start_time": "2022-08-28T17:54:28.617Z"
   },
   {
    "duration": 209,
    "start_time": "2022-08-28T17:54:29.123Z"
   },
   {
    "duration": 0,
    "start_time": "2022-08-28T17:54:29.334Z"
   },
   {
    "duration": 0,
    "start_time": "2022-08-28T17:54:29.336Z"
   },
   {
    "duration": 80,
    "start_time": "2022-08-28T17:55:15.225Z"
   },
   {
    "duration": 26,
    "start_time": "2022-08-28T17:55:15.307Z"
   },
   {
    "duration": 20,
    "start_time": "2022-08-28T17:55:15.335Z"
   },
   {
    "duration": 14,
    "start_time": "2022-08-28T17:55:15.357Z"
   },
   {
    "duration": 17,
    "start_time": "2022-08-28T17:55:15.372Z"
   },
   {
    "duration": 292,
    "start_time": "2022-08-28T17:55:15.391Z"
   },
   {
    "duration": 288,
    "start_time": "2022-08-28T17:55:15.685Z"
   },
   {
    "duration": 137,
    "start_time": "2022-08-28T17:55:15.974Z"
   },
   {
    "duration": 276,
    "start_time": "2022-08-28T17:55:16.113Z"
   },
   {
    "duration": 573,
    "start_time": "2022-08-28T17:55:16.392Z"
   },
   {
    "duration": 440,
    "start_time": "2022-08-28T17:55:16.967Z"
   },
   {
    "duration": 204,
    "start_time": "2022-08-28T17:55:17.409Z"
   },
   {
    "duration": 0,
    "start_time": "2022-08-28T17:55:17.614Z"
   },
   {
    "duration": 0,
    "start_time": "2022-08-28T17:55:17.616Z"
   },
   {
    "duration": 77,
    "start_time": "2022-08-28T17:58:15.360Z"
   },
   {
    "duration": 25,
    "start_time": "2022-08-28T17:58:15.439Z"
   },
   {
    "duration": 21,
    "start_time": "2022-08-28T17:58:15.466Z"
   },
   {
    "duration": 20,
    "start_time": "2022-08-28T17:58:15.489Z"
   },
   {
    "duration": 33,
    "start_time": "2022-08-28T17:58:15.511Z"
   },
   {
    "duration": 276,
    "start_time": "2022-08-28T17:58:15.545Z"
   },
   {
    "duration": 299,
    "start_time": "2022-08-28T17:58:15.823Z"
   },
   {
    "duration": 146,
    "start_time": "2022-08-28T17:58:16.124Z"
   },
   {
    "duration": 272,
    "start_time": "2022-08-28T17:58:16.272Z"
   },
   {
    "duration": 561,
    "start_time": "2022-08-28T17:58:16.548Z"
   },
   {
    "duration": 432,
    "start_time": "2022-08-28T17:58:17.112Z"
   },
   {
    "duration": 192,
    "start_time": "2022-08-28T17:58:17.546Z"
   },
   {
    "duration": 8,
    "start_time": "2022-08-28T17:58:17.740Z"
   },
   {
    "duration": 9,
    "start_time": "2022-08-28T17:58:17.750Z"
   },
   {
    "duration": 88,
    "start_time": "2022-08-28T17:59:29.105Z"
   },
   {
    "duration": 24,
    "start_time": "2022-08-28T17:59:29.195Z"
   },
   {
    "duration": 34,
    "start_time": "2022-08-28T17:59:29.220Z"
   },
   {
    "duration": 13,
    "start_time": "2022-08-28T17:59:29.256Z"
   },
   {
    "duration": 14,
    "start_time": "2022-08-28T17:59:29.271Z"
   },
   {
    "duration": 286,
    "start_time": "2022-08-28T17:59:29.286Z"
   },
   {
    "duration": 300,
    "start_time": "2022-08-28T17:59:29.574Z"
   },
   {
    "duration": 564,
    "start_time": "2022-08-28T17:59:29.876Z"
   },
   {
    "duration": 275,
    "start_time": "2022-08-28T17:59:30.442Z"
   },
   {
    "duration": 575,
    "start_time": "2022-08-28T17:59:30.719Z"
   },
   {
    "duration": 469,
    "start_time": "2022-08-28T17:59:31.296Z"
   },
   {
    "duration": 35,
    "start_time": "2022-08-28T17:59:31.767Z"
   },
   {
    "duration": 16,
    "start_time": "2022-08-28T17:59:31.803Z"
   },
   {
    "duration": 22,
    "start_time": "2022-08-28T17:59:31.820Z"
   },
   {
    "duration": 84,
    "start_time": "2022-08-28T18:00:23.927Z"
   },
   {
    "duration": 29,
    "start_time": "2022-08-28T18:00:24.013Z"
   },
   {
    "duration": 23,
    "start_time": "2022-08-28T18:00:24.044Z"
   },
   {
    "duration": 15,
    "start_time": "2022-08-28T18:00:24.069Z"
   },
   {
    "duration": 17,
    "start_time": "2022-08-28T18:00:24.086Z"
   },
   {
    "duration": 333,
    "start_time": "2022-08-28T18:00:24.105Z"
   },
   {
    "duration": 284,
    "start_time": "2022-08-28T18:00:24.440Z"
   },
   {
    "duration": 139,
    "start_time": "2022-08-28T18:00:24.726Z"
   },
   {
    "duration": 260,
    "start_time": "2022-08-28T18:00:24.866Z"
   },
   {
    "duration": 579,
    "start_time": "2022-08-28T18:00:25.129Z"
   },
   {
    "duration": 446,
    "start_time": "2022-08-28T18:00:25.710Z"
   },
   {
    "duration": 37,
    "start_time": "2022-08-28T18:00:26.159Z"
   },
   {
    "duration": 8,
    "start_time": "2022-08-28T18:00:26.198Z"
   },
   {
    "duration": 33,
    "start_time": "2022-08-28T18:00:26.207Z"
   },
   {
    "duration": 35,
    "start_time": "2022-08-28T18:00:44.924Z"
   },
   {
    "duration": 79,
    "start_time": "2022-08-28T18:02:13.320Z"
   },
   {
    "duration": 40,
    "start_time": "2022-08-28T18:02:13.402Z"
   },
   {
    "duration": 21,
    "start_time": "2022-08-28T18:02:13.444Z"
   },
   {
    "duration": 14,
    "start_time": "2022-08-28T18:02:13.467Z"
   },
   {
    "duration": 17,
    "start_time": "2022-08-28T18:02:13.483Z"
   },
   {
    "duration": 305,
    "start_time": "2022-08-28T18:02:13.502Z"
   },
   {
    "duration": 285,
    "start_time": "2022-08-28T18:02:13.808Z"
   },
   {
    "duration": 133,
    "start_time": "2022-08-28T18:02:14.095Z"
   },
   {
    "duration": 276,
    "start_time": "2022-08-28T18:02:14.230Z"
   },
   {
    "duration": 563,
    "start_time": "2022-08-28T18:02:14.509Z"
   },
   {
    "duration": 440,
    "start_time": "2022-08-28T18:02:15.074Z"
   },
   {
    "duration": 47,
    "start_time": "2022-08-28T18:02:15.516Z"
   },
   {
    "duration": 8,
    "start_time": "2022-08-28T18:02:15.565Z"
   },
   {
    "duration": 11,
    "start_time": "2022-08-28T18:02:15.574Z"
   },
   {
    "duration": 1722,
    "start_time": "2022-08-29T06:51:17.502Z"
   },
   {
    "duration": 23,
    "start_time": "2022-08-29T06:51:19.226Z"
   },
   {
    "duration": 22,
    "start_time": "2022-08-29T06:51:19.251Z"
   },
   {
    "duration": 16,
    "start_time": "2022-08-29T06:51:19.275Z"
   },
   {
    "duration": 25,
    "start_time": "2022-08-29T06:51:19.293Z"
   },
   {
    "duration": 309,
    "start_time": "2022-08-29T06:51:19.320Z"
   },
   {
    "duration": 273,
    "start_time": "2022-08-29T06:51:19.630Z"
   },
   {
    "duration": 144,
    "start_time": "2022-08-29T06:51:19.905Z"
   },
   {
    "duration": 257,
    "start_time": "2022-08-29T06:51:20.050Z"
   },
   {
    "duration": 568,
    "start_time": "2022-08-29T06:51:20.309Z"
   },
   {
    "duration": 444,
    "start_time": "2022-08-29T06:51:20.878Z"
   },
   {
    "duration": 44,
    "start_time": "2022-08-29T06:51:21.323Z"
   },
   {
    "duration": 8,
    "start_time": "2022-08-29T06:51:21.369Z"
   },
   {
    "duration": 13,
    "start_time": "2022-08-29T06:51:21.379Z"
   },
   {
    "duration": 9,
    "start_time": "2022-08-29T06:54:44.027Z"
   },
   {
    "duration": 22,
    "start_time": "2022-08-29T06:58:14.032Z"
   },
   {
    "duration": 113,
    "start_time": "2022-08-29T06:58:44.424Z"
   },
   {
    "duration": 92,
    "start_time": "2022-08-29T06:59:57.765Z"
   },
   {
    "duration": 350,
    "start_time": "2022-08-29T07:00:03.664Z"
   },
   {
    "duration": 1342,
    "start_time": "2022-08-29T08:29:25.862Z"
   },
   {
    "duration": 24,
    "start_time": "2022-08-29T08:29:27.206Z"
   },
   {
    "duration": 17,
    "start_time": "2022-08-29T08:29:27.232Z"
   },
   {
    "duration": 11,
    "start_time": "2022-08-29T08:29:27.252Z"
   },
   {
    "duration": 13,
    "start_time": "2022-08-29T08:29:27.264Z"
   },
   {
    "duration": 316,
    "start_time": "2022-08-29T08:29:27.279Z"
   },
   {
    "duration": 354,
    "start_time": "2022-08-29T08:29:27.596Z"
   },
   {
    "duration": 0,
    "start_time": "2022-08-29T08:29:27.951Z"
   },
   {
    "duration": 0,
    "start_time": "2022-08-29T08:29:27.953Z"
   },
   {
    "duration": 0,
    "start_time": "2022-08-29T08:29:27.954Z"
   },
   {
    "duration": 0,
    "start_time": "2022-08-29T08:29:27.955Z"
   },
   {
    "duration": 0,
    "start_time": "2022-08-29T08:29:27.956Z"
   },
   {
    "duration": 0,
    "start_time": "2022-08-29T08:29:27.957Z"
   },
   {
    "duration": 0,
    "start_time": "2022-08-29T08:29:27.958Z"
   },
   {
    "duration": 74,
    "start_time": "2022-08-29T08:29:53.322Z"
   },
   {
    "duration": 21,
    "start_time": "2022-08-29T08:29:53.398Z"
   },
   {
    "duration": 18,
    "start_time": "2022-08-29T08:29:53.420Z"
   },
   {
    "duration": 14,
    "start_time": "2022-08-29T08:29:53.440Z"
   },
   {
    "duration": 25,
    "start_time": "2022-08-29T08:29:53.455Z"
   },
   {
    "duration": 260,
    "start_time": "2022-08-29T08:29:53.481Z"
   },
   {
    "duration": 279,
    "start_time": "2022-08-29T08:29:53.743Z"
   },
   {
    "duration": 133,
    "start_time": "2022-08-29T08:29:54.024Z"
   },
   {
    "duration": 226,
    "start_time": "2022-08-29T08:29:54.159Z"
   },
   {
    "duration": 533,
    "start_time": "2022-08-29T08:29:54.388Z"
   },
   {
    "duration": 472,
    "start_time": "2022-08-29T08:29:54.927Z"
   },
   {
    "duration": 43,
    "start_time": "2022-08-29T08:29:55.401Z"
   },
   {
    "duration": 7,
    "start_time": "2022-08-29T08:29:55.445Z"
   },
   {
    "duration": 13,
    "start_time": "2022-08-29T08:29:55.454Z"
   },
   {
    "duration": 272,
    "start_time": "2022-08-29T08:30:26.753Z"
   },
   {
    "duration": 314,
    "start_time": "2022-08-29T08:30:44.085Z"
   },
   {
    "duration": 408,
    "start_time": "2022-08-29T08:34:20.606Z"
   },
   {
    "duration": 402,
    "start_time": "2022-08-29T08:34:34.418Z"
   },
   {
    "duration": 397,
    "start_time": "2022-08-29T08:34:54.448Z"
   },
   {
    "duration": 407,
    "start_time": "2022-08-29T08:35:23.401Z"
   },
   {
    "duration": 456,
    "start_time": "2022-08-29T08:35:42.007Z"
   },
   {
    "duration": 404,
    "start_time": "2022-08-29T08:36:48.338Z"
   },
   {
    "duration": 398,
    "start_time": "2022-08-29T08:37:00.684Z"
   },
   {
    "duration": 394,
    "start_time": "2022-08-29T08:37:50.457Z"
   },
   {
    "duration": 391,
    "start_time": "2022-08-29T08:38:13.574Z"
   },
   {
    "duration": 474,
    "start_time": "2022-08-29T08:38:23.884Z"
   },
   {
    "duration": 403,
    "start_time": "2022-08-29T08:38:53.660Z"
   },
   {
    "duration": 396,
    "start_time": "2022-08-29T08:40:16.644Z"
   },
   {
    "duration": 421,
    "start_time": "2022-08-29T08:40:41.605Z"
   },
   {
    "duration": 46,
    "start_time": "2022-08-29T08:43:46.448Z"
   },
   {
    "duration": 410,
    "start_time": "2022-08-29T08:43:53.260Z"
   },
   {
    "duration": 155,
    "start_time": "2022-08-29T08:44:02.200Z"
   },
   {
    "duration": 392,
    "start_time": "2022-08-29T08:44:15.862Z"
   },
   {
    "duration": 504,
    "start_time": "2022-08-29T08:44:31.121Z"
   },
   {
    "duration": 1026,
    "start_time": "2022-08-29T08:48:39.965Z"
   },
   {
    "duration": 263,
    "start_time": "2022-08-29T08:48:51.168Z"
   },
   {
    "duration": 249,
    "start_time": "2022-08-29T08:49:14.994Z"
   },
   {
    "duration": 235,
    "start_time": "2022-08-29T08:49:44.341Z"
   },
   {
    "duration": 247,
    "start_time": "2022-08-29T08:50:00.452Z"
   },
   {
    "duration": 244,
    "start_time": "2022-08-29T08:51:16.312Z"
   },
   {
    "duration": 239,
    "start_time": "2022-08-29T08:53:31.870Z"
   },
   {
    "duration": 74,
    "start_time": "2022-08-29T08:55:51.423Z"
   },
   {
    "duration": 22,
    "start_time": "2022-08-29T08:55:51.498Z"
   },
   {
    "duration": 19,
    "start_time": "2022-08-29T08:55:51.522Z"
   },
   {
    "duration": 11,
    "start_time": "2022-08-29T08:55:51.543Z"
   },
   {
    "duration": 17,
    "start_time": "2022-08-29T08:55:51.555Z"
   },
   {
    "duration": 254,
    "start_time": "2022-08-29T08:55:51.573Z"
   },
   {
    "duration": 273,
    "start_time": "2022-08-29T08:55:51.829Z"
   },
   {
    "duration": 200,
    "start_time": "2022-08-29T08:55:52.104Z"
   },
   {
    "duration": 254,
    "start_time": "2022-08-29T08:55:52.306Z"
   },
   {
    "duration": 561,
    "start_time": "2022-08-29T08:55:52.563Z"
   },
   {
    "duration": 419,
    "start_time": "2022-08-29T08:55:53.126Z"
   },
   {
    "duration": 32,
    "start_time": "2022-08-29T08:55:53.546Z"
   },
   {
    "duration": 7,
    "start_time": "2022-08-29T08:55:53.580Z"
   },
   {
    "duration": 26,
    "start_time": "2022-08-29T08:55:53.588Z"
   },
   {
    "duration": 235,
    "start_time": "2022-08-29T08:56:41.711Z"
   },
   {
    "duration": 236,
    "start_time": "2022-08-29T08:57:26.115Z"
   },
   {
    "duration": 272,
    "start_time": "2022-08-29T08:57:49.602Z"
   },
   {
    "duration": 281,
    "start_time": "2022-08-29T08:59:05.498Z"
   },
   {
    "duration": 242,
    "start_time": "2022-08-29T08:59:23.024Z"
   },
   {
    "duration": 313,
    "start_time": "2022-08-29T09:01:11.954Z"
   },
   {
    "duration": 85,
    "start_time": "2022-08-29T09:03:22.540Z"
   },
   {
    "duration": 32,
    "start_time": "2022-08-29T09:03:22.628Z"
   },
   {
    "duration": 23,
    "start_time": "2022-08-29T09:03:22.662Z"
   },
   {
    "duration": 36,
    "start_time": "2022-08-29T09:03:22.687Z"
   },
   {
    "duration": 21,
    "start_time": "2022-08-29T09:03:22.725Z"
   },
   {
    "duration": 288,
    "start_time": "2022-08-29T09:03:22.747Z"
   },
   {
    "duration": 265,
    "start_time": "2022-08-29T09:03:23.037Z"
   },
   {
    "duration": 254,
    "start_time": "2022-08-29T09:03:23.303Z"
   },
   {
    "duration": 0,
    "start_time": "2022-08-29T09:03:23.559Z"
   },
   {
    "duration": 0,
    "start_time": "2022-08-29T09:03:23.560Z"
   },
   {
    "duration": 0,
    "start_time": "2022-08-29T09:03:23.562Z"
   },
   {
    "duration": 0,
    "start_time": "2022-08-29T09:03:23.563Z"
   },
   {
    "duration": 0,
    "start_time": "2022-08-29T09:03:23.564Z"
   },
   {
    "duration": 0,
    "start_time": "2022-08-29T09:03:23.565Z"
   },
   {
    "duration": 0,
    "start_time": "2022-08-29T09:03:23.566Z"
   },
   {
    "duration": 79,
    "start_time": "2022-08-29T09:03:45.407Z"
   },
   {
    "duration": 21,
    "start_time": "2022-08-29T09:03:45.488Z"
   },
   {
    "duration": 17,
    "start_time": "2022-08-29T09:03:45.511Z"
   },
   {
    "duration": 11,
    "start_time": "2022-08-29T09:03:45.529Z"
   },
   {
    "duration": 14,
    "start_time": "2022-08-29T09:03:45.541Z"
   },
   {
    "duration": 261,
    "start_time": "2022-08-29T09:03:45.557Z"
   },
   {
    "duration": 262,
    "start_time": "2022-08-29T09:03:45.819Z"
   },
   {
    "duration": 232,
    "start_time": "2022-08-29T09:03:46.083Z"
   },
   {
    "duration": 0,
    "start_time": "2022-08-29T09:03:46.317Z"
   },
   {
    "duration": 0,
    "start_time": "2022-08-29T09:03:46.317Z"
   },
   {
    "duration": 0,
    "start_time": "2022-08-29T09:03:46.318Z"
   },
   {
    "duration": 0,
    "start_time": "2022-08-29T09:03:46.319Z"
   },
   {
    "duration": 0,
    "start_time": "2022-08-29T09:03:46.321Z"
   },
   {
    "duration": 0,
    "start_time": "2022-08-29T09:03:46.321Z"
   },
   {
    "duration": 0,
    "start_time": "2022-08-29T09:03:46.322Z"
   },
   {
    "duration": 305,
    "start_time": "2022-08-29T09:04:01.296Z"
   },
   {
    "duration": 51,
    "start_time": "2022-08-29T09:04:46.509Z"
   },
   {
    "duration": 15,
    "start_time": "2022-08-29T09:05:29.934Z"
   },
   {
    "duration": 51,
    "start_time": "2022-08-29T09:05:34.826Z"
   },
   {
    "duration": 239,
    "start_time": "2022-08-29T09:06:51.834Z"
   },
   {
    "duration": 76,
    "start_time": "2022-08-29T09:09:13.788Z"
   },
   {
    "duration": 24,
    "start_time": "2022-08-29T09:09:13.866Z"
   },
   {
    "duration": 34,
    "start_time": "2022-08-29T09:09:13.891Z"
   },
   {
    "duration": 11,
    "start_time": "2022-08-29T09:09:13.927Z"
   },
   {
    "duration": 27,
    "start_time": "2022-08-29T09:09:13.940Z"
   },
   {
    "duration": 264,
    "start_time": "2022-08-29T09:09:13.969Z"
   },
   {
    "duration": 279,
    "start_time": "2022-08-29T09:09:14.235Z"
   },
   {
    "duration": 271,
    "start_time": "2022-08-29T09:09:14.515Z"
   },
   {
    "duration": 133,
    "start_time": "2022-08-29T09:09:14.787Z"
   },
   {
    "duration": 331,
    "start_time": "2022-08-29T09:09:14.923Z"
   },
   {
    "duration": 528,
    "start_time": "2022-08-29T09:09:15.256Z"
   },
   {
    "duration": 435,
    "start_time": "2022-08-29T09:09:15.786Z"
   },
   {
    "duration": 33,
    "start_time": "2022-08-29T09:09:16.222Z"
   },
   {
    "duration": 7,
    "start_time": "2022-08-29T09:09:16.256Z"
   },
   {
    "duration": 19,
    "start_time": "2022-08-29T09:09:16.264Z"
   },
   {
    "duration": 235,
    "start_time": "2022-08-29T09:09:59.058Z"
   },
   {
    "duration": 280,
    "start_time": "2022-08-29T09:10:12.757Z"
   },
   {
    "duration": 233,
    "start_time": "2022-08-29T09:10:17.626Z"
   },
   {
    "duration": 1740,
    "start_time": "2022-08-29T12:24:19.489Z"
   },
   {
    "duration": 23,
    "start_time": "2022-08-29T12:24:21.230Z"
   },
   {
    "duration": 19,
    "start_time": "2022-08-29T12:24:21.255Z"
   },
   {
    "duration": 11,
    "start_time": "2022-08-29T12:24:21.276Z"
   },
   {
    "duration": 30,
    "start_time": "2022-08-29T12:24:21.288Z"
   },
   {
    "duration": 288,
    "start_time": "2022-08-29T12:24:21.320Z"
   },
   {
    "duration": 259,
    "start_time": "2022-08-29T12:24:21.610Z"
   },
   {
    "duration": 287,
    "start_time": "2022-08-29T12:24:21.870Z"
   },
   {
    "duration": 119,
    "start_time": "2022-08-29T12:24:22.159Z"
   },
   {
    "duration": 239,
    "start_time": "2022-08-29T12:24:22.280Z"
   },
   {
    "duration": 524,
    "start_time": "2022-08-29T12:24:22.521Z"
   },
   {
    "duration": 408,
    "start_time": "2022-08-29T12:24:23.046Z"
   },
   {
    "duration": 102,
    "start_time": "2022-08-29T12:24:23.455Z"
   },
   {
    "duration": 8,
    "start_time": "2022-08-29T12:24:23.558Z"
   },
   {
    "duration": 12,
    "start_time": "2022-08-29T12:24:23.567Z"
   },
   {
    "duration": 104,
    "start_time": "2022-08-29T12:30:34.179Z"
   },
   {
    "duration": 17,
    "start_time": "2022-08-29T12:30:43.919Z"
   },
   {
    "duration": 16,
    "start_time": "2022-08-29T12:30:54.521Z"
   },
   {
    "duration": 14,
    "start_time": "2022-08-29T12:31:19.051Z"
   },
   {
    "duration": 14,
    "start_time": "2022-08-29T12:32:53.751Z"
   }
  ],
  "kernelspec": {
   "display_name": "Python 3 (ipykernel)",
   "language": "python",
   "name": "python3"
  },
  "language_info": {
   "codemirror_mode": {
    "name": "ipython",
    "version": 3
   },
   "file_extension": ".py",
   "mimetype": "text/x-python",
   "name": "python",
   "nbconvert_exporter": "python",
   "pygments_lexer": "ipython3",
   "version": "3.9.5"
  },
  "toc": {
   "base_numbering": 1,
   "nav_menu": {},
   "number_sections": true,
   "sideBar": true,
   "skip_h1_title": true,
   "title_cell": "Table of Contents",
   "title_sidebar": "Contents",
   "toc_cell": false,
   "toc_position": {},
   "toc_section_display": true,
   "toc_window_display": false
  }
 },
 "nbformat": 4,
 "nbformat_minor": 2
}
