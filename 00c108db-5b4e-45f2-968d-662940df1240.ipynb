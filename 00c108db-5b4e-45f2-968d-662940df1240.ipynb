{
 "cells": [
  {
   "cell_type": "markdown",
   "metadata": {},
   "source": [
    "### Загрузка данных и подготовка их к анализу"
   ]
  },
  {
   "cell_type": "markdown",
   "metadata": {},
   "source": [
    "В файле /datasets/hypothesis.csv 9 гипотез по увеличению выручки интернет-магазина с указанными параметрами Reach, Impact, Confidence, Effort."
   ]
  },
  {
   "cell_type": "code",
   "execution_count": 1,
   "metadata": {},
   "outputs": [
    {
     "name": "stdout",
     "output_type": "stream",
     "text": [
      "<class 'pandas.core.frame.DataFrame'>\n",
      "RangeIndex: 9 entries, 0 to 8\n",
      "Data columns (total 5 columns):\n",
      " #   Column      Non-Null Count  Dtype \n",
      "---  ------      --------------  ----- \n",
      " 0   Hypothesis  9 non-null      object\n",
      " 1   Reach       9 non-null      int64 \n",
      " 2   Impact      9 non-null      int64 \n",
      " 3   Confidence  9 non-null      int64 \n",
      " 4   Efforts     9 non-null      int64 \n",
      "dtypes: int64(4), object(1)\n",
      "memory usage: 488.0+ bytes\n"
     ]
    },
    {
     "data": {
      "text/html": [
       "<div>\n",
       "<style scoped>\n",
       "    .dataframe tbody tr th:only-of-type {\n",
       "        vertical-align: middle;\n",
       "    }\n",
       "\n",
       "    .dataframe tbody tr th {\n",
       "        vertical-align: top;\n",
       "    }\n",
       "\n",
       "    .dataframe thead th {\n",
       "        text-align: right;\n",
       "    }\n",
       "</style>\n",
       "<table border=\"1\" class=\"dataframe\">\n",
       "  <thead>\n",
       "    <tr style=\"text-align: right;\">\n",
       "      <th></th>\n",
       "      <th>hypothesis</th>\n",
       "      <th>reach</th>\n",
       "      <th>impact</th>\n",
       "      <th>confidence</th>\n",
       "      <th>efforts</th>\n",
       "    </tr>\n",
       "  </thead>\n",
       "  <tbody>\n",
       "    <tr>\n",
       "      <th>0</th>\n",
       "      <td>Добавить два новых канала привлечения трафика,...</td>\n",
       "      <td>3</td>\n",
       "      <td>10</td>\n",
       "      <td>8</td>\n",
       "      <td>6</td>\n",
       "    </tr>\n",
       "    <tr>\n",
       "      <th>1</th>\n",
       "      <td>Запустить собственную службу доставки, что сок...</td>\n",
       "      <td>2</td>\n",
       "      <td>5</td>\n",
       "      <td>4</td>\n",
       "      <td>10</td>\n",
       "    </tr>\n",
       "    <tr>\n",
       "      <th>2</th>\n",
       "      <td>Добавить блоки рекомендаций товаров на сайт ин...</td>\n",
       "      <td>8</td>\n",
       "      <td>3</td>\n",
       "      <td>7</td>\n",
       "      <td>3</td>\n",
       "    </tr>\n",
       "    <tr>\n",
       "      <th>3</th>\n",
       "      <td>Изменить структура категорий, что увеличит кон...</td>\n",
       "      <td>8</td>\n",
       "      <td>3</td>\n",
       "      <td>3</td>\n",
       "      <td>8</td>\n",
       "    </tr>\n",
       "    <tr>\n",
       "      <th>4</th>\n",
       "      <td>Изменить цвет фона главной страницы, чтобы уве...</td>\n",
       "      <td>3</td>\n",
       "      <td>1</td>\n",
       "      <td>1</td>\n",
       "      <td>1</td>\n",
       "    </tr>\n",
       "    <tr>\n",
       "      <th>5</th>\n",
       "      <td>Добавить страницу отзывов клиентов о магазине,...</td>\n",
       "      <td>3</td>\n",
       "      <td>2</td>\n",
       "      <td>2</td>\n",
       "      <td>3</td>\n",
       "    </tr>\n",
       "    <tr>\n",
       "      <th>6</th>\n",
       "      <td>Показать на главной странице баннеры с актуаль...</td>\n",
       "      <td>5</td>\n",
       "      <td>3</td>\n",
       "      <td>8</td>\n",
       "      <td>3</td>\n",
       "    </tr>\n",
       "    <tr>\n",
       "      <th>7</th>\n",
       "      <td>Добавить форму подписки на все основные страни...</td>\n",
       "      <td>10</td>\n",
       "      <td>7</td>\n",
       "      <td>8</td>\n",
       "      <td>5</td>\n",
       "    </tr>\n",
       "    <tr>\n",
       "      <th>8</th>\n",
       "      <td>Запустить акцию, дающую скидку на товар в день...</td>\n",
       "      <td>1</td>\n",
       "      <td>9</td>\n",
       "      <td>9</td>\n",
       "      <td>5</td>\n",
       "    </tr>\n",
       "  </tbody>\n",
       "</table>\n",
       "</div>"
      ],
      "text/plain": [
       "                                          hypothesis  reach  impact  \\\n",
       "0  Добавить два новых канала привлечения трафика,...      3      10   \n",
       "1  Запустить собственную службу доставки, что сок...      2       5   \n",
       "2  Добавить блоки рекомендаций товаров на сайт ин...      8       3   \n",
       "3  Изменить структура категорий, что увеличит кон...      8       3   \n",
       "4  Изменить цвет фона главной страницы, чтобы уве...      3       1   \n",
       "5  Добавить страницу отзывов клиентов о магазине,...      3       2   \n",
       "6  Показать на главной странице баннеры с актуаль...      5       3   \n",
       "7  Добавить форму подписки на все основные страни...     10       7   \n",
       "8  Запустить акцию, дающую скидку на товар в день...      1       9   \n",
       "\n",
       "   confidence  efforts  \n",
       "0           8        6  \n",
       "1           4       10  \n",
       "2           7        3  \n",
       "3           3        8  \n",
       "4           1        1  \n",
       "5           2        3  \n",
       "6           8        3  \n",
       "7           8        5  \n",
       "8           9        5  "
      ]
     },
     "execution_count": 1,
     "metadata": {},
     "output_type": "execute_result"
    }
   ],
   "source": [
    "import pandas as pd\n",
    "import datetime as dt\n",
    "import seaborn as sns\n",
    "from matplotlib import pyplot as plt\n",
    "from scipy import stats as st\n",
    "import numpy as np\n",
    "import math as mth\n",
    "from pandas.plotting import register_matplotlib_converters\n",
    "import warnings\n",
    "\n",
    "\n",
    "data = pd.read_csv('/datasets/hypothesis.csv')\n",
    "data.info()\n",
    "data.columns = [x.lower() for x in data.columns] #нижний регистр колонок\n",
    "data.head(10)\n"
   ]
  },
  {
   "cell_type": "markdown",
   "metadata": {},
   "source": [
    "Данные содержат небольшую таблицу на 9 строк с числовыми показателями. Для удобства было решено перевести названия всех 5 \n",
    "колонок к нижнему регистру."
   ]
  },
  {
   "cell_type": "markdown",
   "metadata": {},
   "source": [
    "**Расчет ICE**"
   ]
  },
  {
   "cell_type": "code",
   "execution_count": 2,
   "metadata": {},
   "outputs": [
    {
     "data": {
      "text/html": [
       "<div>\n",
       "<style scoped>\n",
       "    .dataframe tbody tr th:only-of-type {\n",
       "        vertical-align: middle;\n",
       "    }\n",
       "\n",
       "    .dataframe tbody tr th {\n",
       "        vertical-align: top;\n",
       "    }\n",
       "\n",
       "    .dataframe thead th {\n",
       "        text-align: right;\n",
       "    }\n",
       "</style>\n",
       "<table border=\"1\" class=\"dataframe\">\n",
       "  <thead>\n",
       "    <tr style=\"text-align: right;\">\n",
       "      <th></th>\n",
       "      <th>hypothesis</th>\n",
       "      <th>ICE</th>\n",
       "    </tr>\n",
       "  </thead>\n",
       "  <tbody>\n",
       "    <tr>\n",
       "      <th>8</th>\n",
       "      <td>Запустить акцию, дающую скидку на товар в день рождения</td>\n",
       "      <td>16.200000</td>\n",
       "    </tr>\n",
       "    <tr>\n",
       "      <th>0</th>\n",
       "      <td>Добавить два новых канала привлечения трафика, что позволит привлекать на 30% больше пользователей</td>\n",
       "      <td>13.333333</td>\n",
       "    </tr>\n",
       "    <tr>\n",
       "      <th>7</th>\n",
       "      <td>Добавить форму подписки на все основные страницы, чтобы собрать базу клиентов для email-рассылок</td>\n",
       "      <td>11.200000</td>\n",
       "    </tr>\n",
       "    <tr>\n",
       "      <th>6</th>\n",
       "      <td>Показать на главной странице баннеры с актуальными акциями и распродажами, чтобы увеличить конверсию</td>\n",
       "      <td>8.000000</td>\n",
       "    </tr>\n",
       "    <tr>\n",
       "      <th>2</th>\n",
       "      <td>Добавить блоки рекомендаций товаров на сайт интернет магазина, чтобы повысить конверсию и средний чек заказа</td>\n",
       "      <td>7.000000</td>\n",
       "    </tr>\n",
       "    <tr>\n",
       "      <th>1</th>\n",
       "      <td>Запустить собственную службу доставки, что сократит срок доставки заказов</td>\n",
       "      <td>2.000000</td>\n",
       "    </tr>\n",
       "    <tr>\n",
       "      <th>5</th>\n",
       "      <td>Добавить страницу отзывов клиентов о магазине, что позволит увеличить количество заказов</td>\n",
       "      <td>1.333333</td>\n",
       "    </tr>\n",
       "    <tr>\n",
       "      <th>3</th>\n",
       "      <td>Изменить структура категорий, что увеличит конверсию, т.к. пользователи быстрее найдут нужный товар</td>\n",
       "      <td>1.125000</td>\n",
       "    </tr>\n",
       "    <tr>\n",
       "      <th>4</th>\n",
       "      <td>Изменить цвет фона главной страницы, чтобы увеличить вовлеченность пользователей</td>\n",
       "      <td>1.000000</td>\n",
       "    </tr>\n",
       "  </tbody>\n",
       "</table>\n",
       "</div>"
      ],
      "text/plain": [
       "                                                                                                     hypothesis  \\\n",
       "8                                                       Запустить акцию, дающую скидку на товар в день рождения   \n",
       "0            Добавить два новых канала привлечения трафика, что позволит привлекать на 30% больше пользователей   \n",
       "7              Добавить форму подписки на все основные страницы, чтобы собрать базу клиентов для email-рассылок   \n",
       "6          Показать на главной странице баннеры с актуальными акциями и распродажами, чтобы увеличить конверсию   \n",
       "2  Добавить блоки рекомендаций товаров на сайт интернет магазина, чтобы повысить конверсию и средний чек заказа   \n",
       "1                                     Запустить собственную службу доставки, что сократит срок доставки заказов   \n",
       "5                      Добавить страницу отзывов клиентов о магазине, что позволит увеличить количество заказов   \n",
       "3           Изменить структура категорий, что увеличит конверсию, т.к. пользователи быстрее найдут нужный товар   \n",
       "4                              Изменить цвет фона главной страницы, чтобы увеличить вовлеченность пользователей   \n",
       "\n",
       "         ICE  \n",
       "8  16.200000  \n",
       "0  13.333333  \n",
       "7  11.200000  \n",
       "6   8.000000  \n",
       "2   7.000000  \n",
       "1   2.000000  \n",
       "5   1.333333  \n",
       "3   1.125000  \n",
       "4   1.000000  "
      ]
     },
     "metadata": {},
     "output_type": "display_data"
    }
   ],
   "source": [
    "pd.options.display.max_colwidth = 210\n",
    "data['ICE']=(data['impact']*data['confidence'])/data['efforts']\n",
    "display(data[['hypothesis','ICE']].sort_values(by='ICE', ascending=False))\n"
   ]
  },
  {
   "cell_type": "markdown",
   "metadata": {},
   "source": [
    "**Расчет RICE**"
   ]
  },
  {
   "cell_type": "code",
   "execution_count": 3,
   "metadata": {},
   "outputs": [
    {
     "name": "stdout",
     "output_type": "stream",
     "text": [
      "                                                                                                     hypothesis  \\\n",
      "7              Добавить форму подписки на все основные страницы, чтобы собрать базу клиентов для email-рассылок   \n",
      "2  Добавить блоки рекомендаций товаров на сайт интернет магазина, чтобы повысить конверсию и средний чек заказа   \n",
      "0            Добавить два новых канала привлечения трафика, что позволит привлекать на 30% больше пользователей   \n",
      "6          Показать на главной странице баннеры с актуальными акциями и распродажами, чтобы увеличить конверсию   \n",
      "8                                                       Запустить акцию, дающую скидку на товар в день рождения   \n",
      "3           Изменить структура категорий, что увеличит конверсию, т.к. пользователи быстрее найдут нужный товар   \n",
      "1                                     Запустить собственную службу доставки, что сократит срок доставки заказов   \n",
      "5                      Добавить страницу отзывов клиентов о магазине, что позволит увеличить количество заказов   \n",
      "4                              Изменить цвет фона главной страницы, чтобы увеличить вовлеченность пользователей   \n",
      "\n",
      "    RICE  \n",
      "7  112.0  \n",
      "2   56.0  \n",
      "0   40.0  \n",
      "6   40.0  \n",
      "8   16.2  \n",
      "3    9.0  \n",
      "1    4.0  \n",
      "5    4.0  \n",
      "4    3.0  \n"
     ]
    }
   ],
   "source": [
    "data['RICE']=(data['reach']*data['impact']*data['confidence'])/data['efforts']\n",
    "print(data[['hypothesis','RICE']].sort_values(by='RICE', ascending=False))"
   ]
  },
  {
   "cell_type": "markdown",
   "metadata": {},
   "source": [
    "RICE отличается от ICE тем, что учитывает компонент Reach — скольких пользователей затронет изменение, которое вы хотите внести. Топ-5 по ICE и RICE состоит из одних и тех же гипотез, но в разном порядке приоритизации. Добавление формы подписки на все основные страницы является самой широкой по охвату пользователей гипотезой, поэтому она лидирует в RICE. Добавление новых каналов привлечения в обоих приоритезациях примерно на одном уровне, так как на прямю связано с привлечением потенциальных клиентов и по задумке должно иметь сильный эффект. Цвет фона главной страницы не сильно влияет на пользовательскую активность, поэтому в приоритизации это аутсайдер. Добавление отзывов имеет низкую уверенность, а по скольку низкая доля пользователей используует эту опцию в обоих топах показатель гипотезы низкий. Запустить акцию, дающую скидку на товар касается меньшего количества пользователей, но точно имеет сильный потенциал по конверсии, поэтому в ICE гипотеза лидирует, а в RICE находится в середине рейтинга."
   ]
  },
  {
   "cell_type": "markdown",
   "metadata": {},
   "source": [
    "### Анализ A/B-теста"
   ]
  },
  {
   "cell_type": "code",
   "execution_count": 4,
   "metadata": {},
   "outputs": [
    {
     "name": "stdout",
     "output_type": "stream",
     "text": [
      "   transactionId   visitorId       date  revenue group\n",
      "0     3667963787  3312258926 2019-08-15     1650     B\n",
      "1     2804400009  3642806036 2019-08-15      730     B\n",
      "2     2961555356  4069496402 2019-08-15      400     A\n",
      "3     3797467345  1196621759 2019-08-15     9759     B\n",
      "4     2282983706  2322279887 2019-08-15     2308     B\n",
      "        date group  visitors\n",
      "0 2019-08-01     A       719\n",
      "1 2019-08-02     A       619\n",
      "2 2019-08-03     A       507\n",
      "3 2019-08-04     A       717\n",
      "4 2019-08-05     A       756\n"
     ]
    }
   ],
   "source": [
    "orders = pd.read_csv('/datasets/orders.csv', sep=',')\n",
    "orders['date'] = orders['date'].map(\n",
    "    lambda x: dt.datetime.strptime(x, '%Y-%m-%d')\n",
    ")\n",
    "\n",
    "visitors = pd.read_csv('/datasets/visitors.csv', sep=',')\n",
    "visitors['date'] = visitors['date'].map(\n",
    "    lambda x: dt.datetime.strptime(x, '%Y-%m-%d')\n",
    ")\n",
    "\n",
    "print(orders.head(5))\n",
    "print(visitors.head(5))"
   ]
  },
  {
   "cell_type": "code",
   "execution_count": 5,
   "metadata": {},
   "outputs": [
    {
     "data": {
      "text/html": [
       "<div>\n",
       "<style scoped>\n",
       "    .dataframe tbody tr th:only-of-type {\n",
       "        vertical-align: middle;\n",
       "    }\n",
       "\n",
       "    .dataframe tbody tr th {\n",
       "        vertical-align: top;\n",
       "    }\n",
       "\n",
       "    .dataframe thead th {\n",
       "        text-align: right;\n",
       "    }\n",
       "</style>\n",
       "<table border=\"1\" class=\"dataframe\">\n",
       "  <thead>\n",
       "    <tr style=\"text-align: right;\">\n",
       "      <th></th>\n",
       "      <th>revenue</th>\n",
       "    </tr>\n",
       "    <tr>\n",
       "      <th>group</th>\n",
       "      <th></th>\n",
       "    </tr>\n",
       "  </thead>\n",
       "  <tbody>\n",
       "    <tr>\n",
       "      <th>A</th>\n",
       "      <td>557</td>\n",
       "    </tr>\n",
       "    <tr>\n",
       "      <th>B</th>\n",
       "      <td>640</td>\n",
       "    </tr>\n",
       "  </tbody>\n",
       "</table>\n",
       "</div>"
      ],
      "text/plain": [
       "       revenue\n",
       "group         \n",
       "A          557\n",
       "B          640"
      ]
     },
     "metadata": {},
     "output_type": "display_data"
    },
    {
     "data": {
      "text/plain": [
       "'Дата начала теста'"
      ]
     },
     "metadata": {},
     "output_type": "display_data"
    },
    {
     "data": {
      "text/plain": [
       "Timestamp('2019-08-01 00:00:00')"
      ]
     },
     "metadata": {},
     "output_type": "display_data"
    },
    {
     "data": {
      "text/plain": [
       "'Дата окончания теста'"
      ]
     },
     "metadata": {},
     "output_type": "display_data"
    },
    {
     "data": {
      "text/plain": [
       "Timestamp('2019-08-31 00:00:00')"
      ]
     },
     "metadata": {},
     "output_type": "display_data"
    },
    {
     "name": "stdout",
     "output_type": "stream",
     "text": [
      "<class 'pandas.core.frame.DataFrame'>\n",
      "Int64Index: 1016 entries, 0 to 1196\n",
      "Data columns (total 5 columns):\n",
      " #   Column         Non-Null Count  Dtype         \n",
      "---  ------         --------------  -----         \n",
      " 0   transactionId  1016 non-null   int64         \n",
      " 1   visitorId      1016 non-null   int64         \n",
      " 2   date           1016 non-null   datetime64[ns]\n",
      " 3   revenue        1016 non-null   int64         \n",
      " 4   group          1016 non-null   object        \n",
      "dtypes: datetime64[ns](1), int64(3), object(1)\n",
      "memory usage: 47.6+ KB\n"
     ]
    },
    {
     "data": {
      "text/plain": [
       "'новое распределение по группам'"
      ]
     },
     "metadata": {},
     "output_type": "display_data"
    },
    {
     "data": {
      "text/html": [
       "<div>\n",
       "<style scoped>\n",
       "    .dataframe tbody tr th:only-of-type {\n",
       "        vertical-align: middle;\n",
       "    }\n",
       "\n",
       "    .dataframe tbody tr th {\n",
       "        vertical-align: top;\n",
       "    }\n",
       "\n",
       "    .dataframe thead th {\n",
       "        text-align: right;\n",
       "    }\n",
       "</style>\n",
       "<table border=\"1\" class=\"dataframe\">\n",
       "  <thead>\n",
       "    <tr style=\"text-align: right;\">\n",
       "      <th></th>\n",
       "      <th>revenue</th>\n",
       "    </tr>\n",
       "    <tr>\n",
       "      <th>group</th>\n",
       "      <th></th>\n",
       "    </tr>\n",
       "  </thead>\n",
       "  <tbody>\n",
       "    <tr>\n",
       "      <th>A</th>\n",
       "      <td>468</td>\n",
       "    </tr>\n",
       "    <tr>\n",
       "      <th>B</th>\n",
       "      <td>548</td>\n",
       "    </tr>\n",
       "  </tbody>\n",
       "</table>\n",
       "</div>"
      ],
      "text/plain": [
       "       revenue\n",
       "group         \n",
       "A          468\n",
       "B          548"
      ]
     },
     "metadata": {},
     "output_type": "display_data"
    }
   ],
   "source": [
    "display(orders.groupby('group').agg({'revenue':'count'})) #считаем количество пользователей по группам\n",
    "visA=orders[orders['group']=='A']['visitorId'].unique()\n",
    "visB=orders[orders['group']=='B']['visitorId'].unique()\n",
    "result=list(set(visA) & set(visB))\n",
    "orders=orders.query('visitorId not in @result') #удаляем дубликаты\n",
    "\n",
    "display('Дата начала теста',orders['date'].min())\n",
    "display('Дата окончания теста',orders['date'].max())\n",
    "orders.info()\n",
    "display('новое распределение по группам', orders.groupby('group').agg({'revenue':'count'})) #новое распределение по группам"
   ]
  },
  {
   "cell_type": "code",
   "execution_count": 6,
   "metadata": {},
   "outputs": [
    {
     "name": "stdout",
     "output_type": "stream",
     "text": [
      "        date group  orders  revenue  visitors\n",
      "0 2019-08-01     A      19   142779       719\n",
      "1 2019-08-01     B      17    59758       713\n",
      "2 2019-08-02     A      36   234381      1338\n",
      "3 2019-08-02     B      39   221801      1294\n",
      "4 2019-08-03     A      60   346854      1845\n"
     ]
    }
   ],
   "source": [
    "\n",
    "datesGroups=orders[['date','group']].drop_duplicates() \n",
    "ordersAggregated=datesGroups.apply(lambda x: orders[np.logical_and(orders['date'] <= x['date'], orders['group'] == x['group'])]\\\n",
    ".agg({'date' : 'max', 'group' : 'max', 'visitorId' : 'nunique', 'revenue' : 'sum'}), axis=1).sort_values(by=['date','group']) \n",
    "\n",
    "visitorsAggregated = datesGroups.apply(lambda x: visitors[np.logical_and(visitors['date'] <= x['date'], visitors['group'] == x['group'])].agg({'date' : 'max', 'group' : 'max', 'visitors' : 'sum'}), axis=1).sort_values(by=['date','group'])\n",
    "\n",
    "cumulativeData = ordersAggregated.merge(visitorsAggregated, left_on=['date', 'group'], right_on=['date', 'group'])\n",
    "cumulativeData.columns = ['date', 'group', 'orders', 'revenue', 'visitors']\n",
    "\n",
    "print(cumulativeData.head(5)) "
   ]
  },
  {
   "cell_type": "markdown",
   "metadata": {},
   "source": [
    "**График кумулятивной выручки по группам**"
   ]
  },
  {
   "cell_type": "code",
   "execution_count": 23,
   "metadata": {},
   "outputs": [
    {
     "data": {
      "image/png": "[encoded data removed]",
      "text/plain": [
       "<Figure size 432x288 with 1 Axes>"
      ]
     },
     "metadata": {
      "needs_background": "light"
     },
     "output_type": "display_data"
    }
   ],
   "source": [
    "# датафрейм с кумулятивным количеством заказов и кумулятивной выручкой по дням в группе А\n",
    "cumulativeRevenueA = cumulativeData[cumulativeData['group']=='A'][['date','revenue', 'orders']]\n",
    "\n",
    "# датафрейм с кумулятивным количеством заказов и кумулятивной выручкой по дням в группе B\n",
    "cumulativeRevenueB = cumulativeData[cumulativeData['group']=='B'][['date','revenue', 'orders']]\n",
    "\n",
    "# Строим график выручки группы А\n",
    "plt.plot(cumulativeRevenueA['date'], cumulativeRevenueA['revenue'], label='A')\n",
    "\n",
    "# Строим график выручки группы B\n",
    "plt.plot(cumulativeRevenueB['date'], cumulativeRevenueB['revenue'], label='B')\n",
    "\n",
    "plt.suptitle(\"График кумулятивной выручки по группам\")\n",
    "plt.xlabel('Дата')\n",
    "plt.ylabel('Кумулятивная выручка')\n",
    "plt.legend()\n",
    "plt.show()"
   ]
  },
  {
   "cell_type": "markdown",
   "metadata": {},
   "source": [
    "Выручка почти равномерно увеличивается по группе А в течение всего теста, однако по В наблюдаем резкий скачок в серидине периода. Это может сигнализировать о всплеске числа заказов, либо о появлении очень дорогих заказов в выборке."
   ]
  },
  {
   "cell_type": "markdown",
   "metadata": {},
   "source": [
    "**График кумулятивного среднего чека по группам**"
   ]
  },
  {
   "cell_type": "code",
   "execution_count": 8,
   "metadata": {},
   "outputs": [
    {
     "data": {
      "image/png": "[encoded data removed]",
      "text/plain": [
       "<Figure size 432x288 with 1 Axes>"
      ]
     },
     "metadata": {
      "needs_background": "light"
     },
     "output_type": "display_data"
    }
   ],
   "source": [
    "plt.plot(cumulativeRevenueA['date'], cumulativeRevenueA['revenue']/cumulativeRevenueA['orders'], label='A')\n",
    "plt.plot(cumulativeRevenueB['date'], cumulativeRevenueB['revenue']/cumulativeRevenueB['orders'], label='B')\n",
    "\n",
    "plt.suptitle(\"График кумулятивного среднего чека по группам\")\n",
    "plt.xlabel('Дата')\n",
    "plt.ylabel('Кумулятивный средний чек')\n",
    "plt.legend()\n",
    "plt.show()"
   ]
  },
  {
   "cell_type": "markdown",
   "metadata": {},
   "source": [
    "Средний чек равномерно растет ближе к концу теста для группы A и скачками увеличивается для группы B. Возможно, в группу B во второй половине августа попали крупные заказы (резкий всплеск на графике). Тогда ей нужно больше данных, чтобы прийти к реальному среднему чеку и установиться на его уровне. Отметим также синхронное кратковременное падение графиков в начале теста."
   ]
  },
  {
   "cell_type": "markdown",
   "metadata": {},
   "source": [
    "**График относительного изменения кумулятивного среднего чека группы B к группе A**"
   ]
  },
  {
   "cell_type": "code",
   "execution_count": 9,
   "metadata": {},
   "outputs": [
    {
     "data": {
      "text/plain": [
       "<matplotlib.lines.Line2D at 0x7f3743c5c1f0>"
      ]
     },
     "execution_count": 9,
     "metadata": {},
     "output_type": "execute_result"
    },
    {
     "data": {
      "image/png": "[encoded data removed]",
      "text/plain": [
       "<Figure size 432x288 with 1 Axes>"
      ]
     },
     "metadata": {
      "needs_background": "light"
     },
     "output_type": "display_data"
    }
   ],
   "source": [
    "# собираем данные в одном датафрейме\n",
    "mergedCumulativeRevenue = cumulativeRevenueA.merge(cumulativeRevenueB, left_on='date', right_on='date', how='left', suffixes=['A', 'B'])\n",
    "\n",
    "# cтроим отношение средних чеков\n",
    "plt.plot(mergedCumulativeRevenue['date'], (mergedCumulativeRevenue['revenueB']/mergedCumulativeRevenue['ordersB'])/(mergedCumulativeRevenue['revenueA']/mergedCumulativeRevenue['ordersA'])-1)\n",
    "\n",
    "# добавляем ось X\n",
    "plt.axhline(y=0, color='black', linestyle='--')"
   ]
  },
  {
   "cell_type": "markdown",
   "metadata": {},
   "source": [
    "Различия между сегментами резко скачет в пользу группы В, причем заметно подовляющее превосходство кумулятивного среднего чека у данной группы. Небольшой провал зафиксирован в середине периода, но он был быстро отыгран. Здесь могут быть замешаны крупные заказы и выбросы."
   ]
  },
  {
   "cell_type": "markdown",
   "metadata": {},
   "source": [
    "**График кумулятивного среднего количества заказов по группам**"
   ]
  },
  {
   "cell_type": "code",
   "execution_count": 10,
   "metadata": {},
   "outputs": [
    {
     "data": {
      "image/png": "[encoded data removed]",
      "text/plain": [
       "<Figure size 432x288 with 1 Axes>"
      ]
     },
     "metadata": {
      "needs_background": "light"
     },
     "output_type": "display_data"
    }
   ],
   "source": [
    "# строим графики\n",
    "cdA=cumulativeData.query('group==\"A\"')\n",
    "cdB=cumulativeData.query('group==\"B\"')\n",
    "\n",
    "plt.plot(cdA['date'], cdA['orders']/cdA['visitors'], label='A')\n",
    "plt.plot(cdB['date'], cdB['orders']/cdB['visitors'], label='B')\n",
    "\n",
    "plt.suptitle(\"График кумулятивного среднего количества заказов по группам\")\n",
    "plt.xlabel('Дата')\n",
    "plt.ylabel('Кумулятивное среднее количество заказов')\n",
    "plt.legend()\n",
    "plt.show()"
   ]
  },
  {
   "cell_type": "markdown",
   "metadata": {},
   "source": [
    "По объему заказов расхождение увеличивается со временем, но не выглядит аномально резким, имеет равномерный характер. Группа В снова занимает лидирующие позиции. Возможно, именно за счет объема заказов наблюдается доминации по среднему чеку у данной группы."
   ]
  },
  {
   "cell_type": "markdown",
   "metadata": {},
   "source": [
    "**График относительного изменения кумулятивного среднего количества заказов группы B к группе A**"
   ]
  },
  {
   "cell_type": "code",
   "execution_count": 11,
   "metadata": {},
   "outputs": [
    {
     "data": {
      "text/plain": [
       "<matplotlib.lines.Line2D at 0x7f37ce2f5430>"
      ]
     },
     "execution_count": 11,
     "metadata": {},
     "output_type": "execute_result"
    },
    {
     "data": {
      "image/png": "[encoded data removed]",
      "text/plain": [
       "<Figure size 432x288 with 1 Axes>"
      ]
     },
     "metadata": {
      "needs_background": "light"
     },
     "output_type": "display_data"
    }
   ],
   "source": [
    "# cтроим отношение средних заказов\n",
    "plt.plot(mergedCumulativeRevenue['date'], (mergedCumulativeRevenue['ordersB']/mergedCumulativeRevenue['ordersA'])-1)\n",
    "\n",
    "# добавляем ось X\n",
    "plt.axhline(y=0, color='black', linestyle='--')"
   ]
  },
  {
   "cell_type": "markdown",
   "metadata": {},
   "source": [
    "Относительное изменение показывает, что в общей массе опережение объема заказов по группе В - более 10%. Провал в первых числах августа был отыгран за пару дней. Возможно, яма на графике - это аномалия, вызванная технической ошибкой или человеческим фактором."
   ]
  },
  {
   "cell_type": "markdown",
   "metadata": {},
   "source": [
    "**Точечный график количества заказов по пользователям**"
   ]
  },
  {
   "cell_type": "code",
   "execution_count": 12,
   "metadata": {},
   "outputs": [
    {
     "data": {
      "image/png": "[encoded data removed]",
      "text/plain": [
       "<Figure size 432x288 with 1 Axes>"
      ]
     },
     "metadata": {
      "needs_background": "light"
     },
     "output_type": "display_data"
    }
   ],
   "source": [
    "ordersByUsers=orders.groupby('visitorId', as_index=False).agg({'transactionId' : 'nunique'})\n",
    "ordersByUsers.columns = ['visitorId', 'orders']\n",
    "#print(ordersByUsers.sort_values(by='orders',ascending=False).head(10))\n",
    "\n",
    "x_values = pd.Series(range(0,len(ordersByUsers)))\n",
    "\n",
    "plt.scatter(x_values, ordersByUsers['orders'])\n",
    "# серия из чисел от 0 до количества наблюдений в ordersByUsers\n",
    "x_values = pd.Series(range(0, len(ordersByUsers)))\n"
   ]
  },
  {
   "cell_type": "markdown",
   "metadata": {},
   "source": [
    "Большое количество пользователей оформили заказ в августе лишь один раз. Меньше посетителей оформили 2 заказа, еще чуть меньше по 3. "
   ]
  },
  {
   "cell_type": "markdown",
   "metadata": {},
   "source": [
    "**95-й и 99-й перцентили количества заказов на пользователя**"
   ]
  },
  {
   "cell_type": "code",
   "execution_count": 13,
   "metadata": {},
   "outputs": [
    {
     "name": "stdout",
     "output_type": "stream",
     "text": [
      "[1. 2.]\n"
     ]
    }
   ],
   "source": [
    "# Методом np.percentile('column', [percentile1, percentile2, percentile3]) находим перцентили\n",
    "print(np.percentile(ordersByUsers['orders'], [95, 99])) "
   ]
  },
  {
   "cell_type": "markdown",
   "metadata": {},
   "source": [
    "Не более 5% пользователей оформляли больше 2 заказов. И 10% пользователей заказывали более 1 раза.\n",
    "Разумно выбрать 2 заказа на одного пользователя за верхнюю границу числа заказов, и отсеять аномальных пользователей по ней."
   ]
  },
  {
   "cell_type": "markdown",
   "metadata": {},
   "source": [
    "**Точечный график стоимостей заказов**"
   ]
  },
  {
   "cell_type": "code",
   "execution_count": 14,
   "metadata": {},
   "outputs": [
    {
     "data": {
      "text/plain": [
       "<matplotlib.collections.PathCollection at 0x7f37436eaf40>"
      ]
     },
     "execution_count": 14,
     "metadata": {},
     "output_type": "execute_result"
    },
    {
     "data": {
      "image/png": "[encoded data removed]",
      "text/plain": [
       "<Figure size 432x288 with 1 Axes>"
      ]
     },
     "metadata": {
      "needs_background": "light"
     },
     "output_type": "display_data"
    }
   ],
   "source": [
    "x_values = pd.Series(range(0, len(orders['revenue'])))\n",
    "\n",
    "plt.scatter(x_values, orders['revenue'])"
   ]
  },
  {
   "cell_type": "markdown",
   "metadata": {},
   "source": [
    "Всё, как предполагали: есть несколько дорогих заказов в районе 100 000-200 000 рублей, один заказ вовсе на сумму более 1.2 млн рублей. По графику можно выбрать границу аномальных заказов на отметке в 100 000 рублей, отсеив до 5%. "
   ]
  },
  {
   "cell_type": "markdown",
   "metadata": {},
   "source": [
    "**95-й и 99-й перцентили стоимости заказов**"
   ]
  },
  {
   "cell_type": "code",
   "execution_count": 15,
   "metadata": {},
   "outputs": [
    {
     "name": "stdout",
     "output_type": "stream",
     "text": [
      "[26785. 53904.]\n"
     ]
    }
   ],
   "source": [
    "print(np.percentile(orders['revenue'], [95, 99])) "
   ]
  },
  {
   "cell_type": "markdown",
   "metadata": {},
   "source": [
    "Не более 5% заказов дороже 26 785 рублей и не более 1% дороже 53 904 рублей. Значит границу аномальных заказов можно сместить к 60 000 рублей."
   ]
  },
  {
   "cell_type": "markdown",
   "metadata": {},
   "source": [
    "**Статистическая значимость различий в среднем количестве заказов между группами по «сырым» данным**"
   ]
  },
  {
   "cell_type": "code",
   "execution_count": 16,
   "metadata": {},
   "outputs": [
    {
     "name": "stdout",
     "output_type": "stream",
     "text": [
      "0.00958\n"
     ]
    }
   ],
   "source": [
    "# разбиваем таблицу с количеством пользователей по датам отдельно по группам\n",
    "dfA=visitorsAggregated.query('group==\"A\"') \n",
    "dfB=visitorsAggregated.query('group==\"B\"')\n",
    "\n",
    "ordersByUsersA = (\n",
    "    orders[orders['group'] == 'A']\n",
    "    .groupby('visitorId', as_index=False)\n",
    "    .agg({'transactionId': pd.Series.nunique})\n",
    ")\n",
    "ordersByUsersA.columns = ['visitorId', 'orders']\n",
    "\n",
    "ordersByUsersB = (\n",
    "    orders[orders['group'] == 'B']\n",
    "    .groupby('visitorId', as_index=False)\n",
    "    .agg({'transactionId': pd.Series.nunique})\n",
    ")\n",
    "ordersByUsersB.columns = ['visitorId', 'orders']\n",
    "\n",
    "sampleA = pd.concat([ordersByUsersA['orders'],pd.Series(0, index=np.arange(dfA['visitors'].sum() - len(ordersByUsersA['orders'])), name='orders')],axis=0)\n",
    "\n",
    "sampleB = pd.concat([ordersByUsersB['orders'],pd.Series(0, index=np.arange(dfB['visitors'].sum() - len(ordersByUsersB['orders'])), name='orders')],axis=0)\n",
    "\n",
    "print(\"{0:.5f}\".format(st.mannwhitneyu(sampleA, sampleB)[1]))"
   ]
  },
  {
   "cell_type": "markdown",
   "metadata": {},
   "source": [
    "По «сырым» данным различия в среднем числе заказов групп A и B имеются.\n",
    "\n",
    "p-value = 0.00958 меньше 0.05. Значит, гипотезу о том, что статистически значимых различий в среднем числе заказов между группами нет, отвергаем."
   ]
  },
  {
   "cell_type": "markdown",
   "metadata": {},
   "source": [
    "**Статистическая значимость различий в среднем чеке заказа между группами по «сырым» данным**"
   ]
  },
  {
   "cell_type": "markdown",
   "metadata": {},
   "source": [
    "Н0: различий в среднем чеке между группами нет. \n",
    "\n",
    "Н1: различия в среднем чеке между группами есть. \n"
   ]
  },
  {
   "cell_type": "code",
   "execution_count": 17,
   "metadata": {},
   "outputs": [
    {
     "name": "stdout",
     "output_type": "stream",
     "text": [
      "0.82949\n"
     ]
    }
   ],
   "source": [
    "print('{0:.5f}'.format(st.mannwhitneyu(orders[orders['group']=='A']['revenue'], orders[orders['group']=='B']['revenue'])[1]))\n"
   ]
  },
  {
   "cell_type": "markdown",
   "metadata": {},
   "source": [
    "\n",
    "P-value значительно больше 0.05. Значит, причин отвергать нулевую гипотезу и считать, что в среднем чеке есть различия, нет. Впрочем, кумулятивный средний чек группы B значительно выше среднего чека группы A."
   ]
  },
  {
   "cell_type": "markdown",
   "metadata": {},
   "source": [
    "**Статистическая значимость различий в среднем количестве заказов между группами по «очищенным» данным**"
   ]
  },
  {
   "cell_type": "code",
   "execution_count": 18,
   "metadata": {},
   "outputs": [
    {
     "name": "stdout",
     "output_type": "stream",
     "text": [
      "1099    148427295\n",
      "33      249864742\n",
      "58      611059232\n",
      "949     887908475\n",
      "744     888512513\n",
      "Name: visitorId, dtype: int64\n",
      "15\n"
     ]
    }
   ],
   "source": [
    "usersWithManyOrders = pd.concat(\n",
    "    [\n",
    "        ordersByUsersA[ordersByUsersA['orders'] > 2]['visitorId'],\n",
    "        ordersByUsersB[ordersByUsersB['orders'] > 2]['visitorId'],\n",
    "    ],\n",
    "    axis=0,\n",
    ")\n",
    "usersWithExpensiveOrders = orders[orders['revenue'] > 60000]['visitorId']\n",
    "abnormalUsers = (\n",
    "    pd.concat([usersWithManyOrders, usersWithExpensiveOrders], axis=0)\n",
    "    .drop_duplicates()\n",
    "    .sort_values()\n",
    ")\n",
    "print(abnormalUsers.head(5))\n",
    "print(abnormalUsers.shape[0])"
   ]
  },
  {
   "cell_type": "markdown",
   "metadata": {},
   "source": [
    "Наблюдаем 15 аномальных заказов."
   ]
  },
  {
   "cell_type": "code",
   "execution_count": 19,
   "metadata": {},
   "outputs": [],
   "source": [
    "sampleAFiltered = pd.concat(\n",
    "    [\n",
    "        ordersByUsersA[\n",
    "            np.logical_not(ordersByUsersA['visitorId'].isin(abnormalUsers))\n",
    "        ]['orders'],\n",
    "        pd.Series(\n",
    "            0,\n",
    "            index=np.arange(\n",
    "                dfA['visitors'].sum() - len(ordersByUsersA['orders'])\n",
    "            ),\n",
    "            name='orders',\n",
    "        ),\n",
    "    ],\n",
    "    axis=0,\n",
    ")\n",
    "\n",
    "sampleBFiltered = pd.concat(\n",
    "    [\n",
    "        ordersByUsersB[\n",
    "            np.logical_not(ordersByUsersB['visitorId'].isin(abnormalUsers))\n",
    "        ]['orders'],\n",
    "        pd.Series(\n",
    "            0,\n",
    "            index=np.arange(\n",
    "                dfB['visitors'].sum() - len(ordersByUsersB['orders'])\n",
    "            ),\n",
    "            name='orders',\n",
    "        ),\n",
    "    ],\n",
    "    axis=0,\n",
    ")"
   ]
  },
  {
   "cell_type": "code",
   "execution_count": 20,
   "metadata": {},
   "outputs": [
    {
     "name": "stdout",
     "output_type": "stream",
     "text": [
      "0.00555\n"
     ]
    }
   ],
   "source": [
    "print('{0:.5f}'.format(st.mannwhitneyu(sampleAFiltered, sampleBFiltered)[1]))"
   ]
  },
  {
   "cell_type": "markdown",
   "metadata": {},
   "source": [
    "Результаты по среднему количеству заказов снизились на 0.004. Все так же P-value < 0.05. "
   ]
  },
  {
   "cell_type": "markdown",
   "metadata": {},
   "source": [
    "**Статистическая значимость различий в среднем чеке между группами по «очищенным» данным**"
   ]
  },
  {
   "cell_type": "code",
   "execution_count": 21,
   "metadata": {},
   "outputs": [
    {
     "name": "stdout",
     "output_type": "stream",
     "text": [
      "0.827\n"
     ]
    }
   ],
   "source": [
    "print(\n",
    "    '{0:.3f}'.format(\n",
    "        st.mannwhitneyu(\n",
    "            orders[\n",
    "                np.logical_and(\n",
    "                    orders['group'] == 'A',\n",
    "                    np.logical_not(orders['visitorId'].isin(abnormalUsers)),\n",
    "                )\n",
    "            ]['revenue'],\n",
    "            orders[\n",
    "                np.logical_and(\n",
    "                    orders['group'] == 'B',\n",
    "                    np.logical_not(orders['visitorId'].isin(abnormalUsers)),\n",
    "                )\n",
    "            ]['revenue'],\n",
    "        )[1]\n",
    "    )\n",
    ")\n",
    "\n"
   ]
  },
  {
   "cell_type": "markdown",
   "metadata": {},
   "source": [
    "P-value увеличился почти на 0,1. Вывод не изменился. Таким образом, сильный кумулятивный результат группы В по среднему чеку обусловлен, в первую очередь, опережением группы А по объему заказов. "
   ]
  },
  {
   "cell_type": "markdown",
   "metadata": {},
   "source": [
    "### Вывод"
   ]
  },
  {
   "cell_type": "markdown",
   "metadata": {},
   "source": [
    "Имеющиеся факты:\n",
    "\n",
    "Существует статистически значимое различие по среднему количеству заказов между группами и по \"сырым\" данным, и по данным после фильтрации аномалий;\n",
    "\n",
    "Нет статистически значимого различия по среднему чеку между группами ни по «сырым», ни по данным после фильтрации аномалий;\n",
    "\n",
    "График относительного изменения кумулятивного среднего количества заказов группы B к группе A показывает, что в общей массе опережение объема заказов по группе В - более 10%;\n",
    "\n",
    "Кумулятивный средний чек равномерно растет ближе к концу периода для группы A и скачками увеличивается для группы B, так как в группу B во второй половине августа попали заказы на крупные суммы. Это так же подтверждает график выручки, где даже без учета аномальных всплесков фиксируется превосходство группы В.\n",
    "\n"
   ]
  },
  {
   "cell_type": "markdown",
   "metadata": {},
   "source": [
    "**Исходя из обнаруженных фактов, тест следует остановить и признать победу группы В. Продолжать смысла нет, потому как вероятность, что при имеющихся данных сегмент А на самом деле лучше сегмента В — практически нулевая.**"
   ]
  }
 ],
 "metadata": {
  "ExecuteTimeLog": [
   {
    "duration": 1418,
    "start_time": "2022-10-21T14:53:48.386Z"
   },
   {
    "duration": 15,
    "start_time": "2022-10-21T15:00:12.244Z"
   },
   {
    "duration": 9,
    "start_time": "2022-10-21T15:00:12.261Z"
   },
   {
    "duration": 21,
    "start_time": "2022-10-21T15:00:22.888Z"
   },
   {
    "duration": 7,
    "start_time": "2022-10-21T15:00:22.911Z"
   },
   {
    "duration": 20,
    "start_time": "2022-10-21T15:01:16.774Z"
   },
   {
    "duration": 7,
    "start_time": "2022-10-21T15:01:16.796Z"
   },
   {
    "duration": 8,
    "start_time": "2022-10-21T15:01:16.805Z"
   },
   {
    "duration": 61,
    "start_time": "2022-10-21T15:01:58.160Z"
   },
   {
    "duration": 21,
    "start_time": "2022-10-21T15:02:31.352Z"
   },
   {
    "duration": 20,
    "start_time": "2022-10-21T15:02:31.375Z"
   },
   {
    "duration": 25,
    "start_time": "2022-10-21T15:02:31.397Z"
   },
   {
    "duration": 27,
    "start_time": "2022-10-21T15:14:07.296Z"
   },
   {
    "duration": 7,
    "start_time": "2022-10-21T15:14:07.325Z"
   },
   {
    "duration": 10,
    "start_time": "2022-10-21T15:14:07.333Z"
   },
   {
    "duration": 28,
    "start_time": "2022-10-21T15:37:18.946Z"
   },
   {
    "duration": 7,
    "start_time": "2022-10-21T15:37:18.976Z"
   },
   {
    "duration": 9,
    "start_time": "2022-10-21T15:37:18.985Z"
   },
   {
    "duration": 376,
    "start_time": "2022-10-21T15:37:18.996Z"
   },
   {
    "duration": 26,
    "start_time": "2022-10-21T15:37:36.945Z"
   },
   {
    "duration": 7,
    "start_time": "2022-10-21T15:37:36.973Z"
   },
   {
    "duration": 10,
    "start_time": "2022-10-21T15:37:36.981Z"
   },
   {
    "duration": 222,
    "start_time": "2022-10-21T15:37:36.993Z"
   },
   {
    "duration": 29,
    "start_time": "2022-10-21T15:37:58.419Z"
   },
   {
    "duration": 7,
    "start_time": "2022-10-21T15:37:58.450Z"
   },
   {
    "duration": 23,
    "start_time": "2022-10-21T15:37:58.458Z"
   },
   {
    "duration": 233,
    "start_time": "2022-10-21T15:37:58.483Z"
   },
   {
    "duration": 27,
    "start_time": "2022-10-21T15:39:23.338Z"
   },
   {
    "duration": 7,
    "start_time": "2022-10-21T15:39:23.366Z"
   },
   {
    "duration": 28,
    "start_time": "2022-10-21T15:39:23.374Z"
   },
   {
    "duration": 273,
    "start_time": "2022-10-21T15:39:23.404Z"
   },
   {
    "duration": 29,
    "start_time": "2022-10-21T15:40:00.104Z"
   },
   {
    "duration": 7,
    "start_time": "2022-10-21T15:40:00.134Z"
   },
   {
    "duration": 39,
    "start_time": "2022-10-21T15:40:00.143Z"
   },
   {
    "duration": 350,
    "start_time": "2022-10-21T15:40:00.184Z"
   },
   {
    "duration": 27,
    "start_time": "2022-10-21T15:40:39.386Z"
   },
   {
    "duration": 7,
    "start_time": "2022-10-21T15:40:39.414Z"
   },
   {
    "duration": 9,
    "start_time": "2022-10-21T15:40:39.422Z"
   },
   {
    "duration": 63,
    "start_time": "2022-10-21T15:40:39.432Z"
   },
   {
    "duration": 1412,
    "start_time": "2022-10-24T12:58:15.132Z"
   },
   {
    "duration": 9,
    "start_time": "2022-10-24T12:58:16.546Z"
   },
   {
    "duration": 12,
    "start_time": "2022-10-24T12:58:16.557Z"
   },
   {
    "duration": 261,
    "start_time": "2022-10-24T12:58:16.570Z"
   },
   {
    "duration": 41,
    "start_time": "2022-10-24T12:58:59.053Z"
   },
   {
    "duration": 10,
    "start_time": "2022-10-24T12:58:59.096Z"
   },
   {
    "duration": 12,
    "start_time": "2022-10-24T12:58:59.108Z"
   },
   {
    "duration": 65,
    "start_time": "2022-10-24T12:58:59.122Z"
   },
   {
    "duration": 40,
    "start_time": "2022-10-24T12:59:55.180Z"
   },
   {
    "duration": 8,
    "start_time": "2022-10-24T12:59:55.222Z"
   },
   {
    "duration": 13,
    "start_time": "2022-10-24T12:59:55.231Z"
   },
   {
    "duration": 88,
    "start_time": "2022-10-24T12:59:55.245Z"
   },
   {
    "duration": 40,
    "start_time": "2022-10-24T13:02:05.582Z"
   },
   {
    "duration": 9,
    "start_time": "2022-10-24T13:02:05.624Z"
   },
   {
    "duration": 15,
    "start_time": "2022-10-24T13:02:05.635Z"
   },
   {
    "duration": 64,
    "start_time": "2022-10-24T13:02:05.653Z"
   },
   {
    "duration": 48,
    "start_time": "2022-10-24T13:02:21.712Z"
   },
   {
    "duration": 9,
    "start_time": "2022-10-24T13:02:21.763Z"
   },
   {
    "duration": 13,
    "start_time": "2022-10-24T13:02:21.774Z"
   },
   {
    "duration": 525,
    "start_time": "2022-10-24T13:02:21.788Z"
   },
   {
    "duration": 40,
    "start_time": "2022-10-24T13:02:48.800Z"
   },
   {
    "duration": 8,
    "start_time": "2022-10-24T13:02:48.842Z"
   },
   {
    "duration": 12,
    "start_time": "2022-10-24T13:02:48.851Z"
   },
   {
    "duration": 320,
    "start_time": "2022-10-24T13:02:48.865Z"
   },
   {
    "duration": 40,
    "start_time": "2022-10-24T13:03:47.819Z"
   },
   {
    "duration": 8,
    "start_time": "2022-10-24T13:03:47.861Z"
   },
   {
    "duration": 13,
    "start_time": "2022-10-24T13:03:47.871Z"
   },
   {
    "duration": 331,
    "start_time": "2022-10-24T13:03:47.886Z"
   },
   {
    "duration": 40,
    "start_time": "2022-10-24T13:04:26.109Z"
   },
   {
    "duration": 7,
    "start_time": "2022-10-24T13:04:26.151Z"
   },
   {
    "duration": 17,
    "start_time": "2022-10-24T13:04:26.160Z"
   },
   {
    "duration": 341,
    "start_time": "2022-10-24T13:04:26.179Z"
   },
   {
    "duration": 294,
    "start_time": "2022-10-24T13:04:26.522Z"
   },
   {
    "duration": 46,
    "start_time": "2022-10-24T13:06:53.992Z"
   },
   {
    "duration": 7,
    "start_time": "2022-10-24T13:06:54.040Z"
   },
   {
    "duration": 13,
    "start_time": "2022-10-24T13:06:54.050Z"
   },
   {
    "duration": 324,
    "start_time": "2022-10-24T13:06:54.066Z"
   },
   {
    "duration": 181,
    "start_time": "2022-10-24T13:06:54.392Z"
   },
   {
    "duration": 195,
    "start_time": "2022-10-24T13:06:54.575Z"
   },
   {
    "duration": 41,
    "start_time": "2022-10-24T13:13:04.301Z"
   },
   {
    "duration": 8,
    "start_time": "2022-10-24T13:13:04.344Z"
   },
   {
    "duration": 12,
    "start_time": "2022-10-24T13:13:04.354Z"
   },
   {
    "duration": 312,
    "start_time": "2022-10-24T13:13:04.369Z"
   },
   {
    "duration": 190,
    "start_time": "2022-10-24T13:13:04.683Z"
   },
   {
    "duration": 192,
    "start_time": "2022-10-24T13:13:04.875Z"
   },
   {
    "duration": 306,
    "start_time": "2022-10-24T13:13:05.069Z"
   },
   {
    "duration": 47,
    "start_time": "2022-10-26T09:25:43.699Z"
   },
   {
    "duration": 1408,
    "start_time": "2022-10-26T09:25:45.956Z"
   },
   {
    "duration": 10,
    "start_time": "2022-10-26T09:25:47.366Z"
   },
   {
    "duration": 12,
    "start_time": "2022-10-26T09:25:47.378Z"
   },
   {
    "duration": 409,
    "start_time": "2022-10-26T09:25:47.392Z"
   },
   {
    "duration": 264,
    "start_time": "2022-10-26T09:25:47.804Z"
   },
   {
    "duration": 200,
    "start_time": "2022-10-26T09:25:48.069Z"
   },
   {
    "duration": 298,
    "start_time": "2022-10-26T09:25:48.271Z"
   },
   {
    "duration": 5,
    "start_time": "2022-10-26T09:25:48.570Z"
   },
   {
    "duration": 44,
    "start_time": "2022-10-26T09:29:20.471Z"
   },
   {
    "duration": 7,
    "start_time": "2022-10-26T09:29:20.517Z"
   },
   {
    "duration": 12,
    "start_time": "2022-10-26T09:29:20.526Z"
   },
   {
    "duration": 341,
    "start_time": "2022-10-26T09:29:20.540Z"
   },
   {
    "duration": 205,
    "start_time": "2022-10-26T09:29:20.883Z"
   },
   {
    "duration": 194,
    "start_time": "2022-10-26T09:29:21.089Z"
   },
   {
    "duration": 287,
    "start_time": "2022-10-26T09:29:21.284Z"
   },
   {
    "duration": 185,
    "start_time": "2022-10-26T09:29:21.572Z"
   },
   {
    "duration": 40,
    "start_time": "2022-10-26T09:29:56.264Z"
   },
   {
    "duration": 9,
    "start_time": "2022-10-26T09:29:56.306Z"
   },
   {
    "duration": 9,
    "start_time": "2022-10-26T09:29:56.316Z"
   },
   {
    "duration": 305,
    "start_time": "2022-10-26T09:29:56.328Z"
   },
   {
    "duration": 183,
    "start_time": "2022-10-26T09:29:56.635Z"
   },
   {
    "duration": 242,
    "start_time": "2022-10-26T09:29:56.819Z"
   },
   {
    "duration": 248,
    "start_time": "2022-10-26T09:29:57.063Z"
   },
   {
    "duration": 190,
    "start_time": "2022-10-26T09:29:57.313Z"
   },
   {
    "duration": 45,
    "start_time": "2022-10-26T09:30:12.090Z"
   },
   {
    "duration": 9,
    "start_time": "2022-10-26T09:30:12.137Z"
   },
   {
    "duration": 44,
    "start_time": "2022-10-26T09:30:12.148Z"
   },
   {
    "duration": 342,
    "start_time": "2022-10-26T09:30:12.195Z"
   },
   {
    "duration": 204,
    "start_time": "2022-10-26T09:30:12.540Z"
   },
   {
    "duration": 213,
    "start_time": "2022-10-26T09:30:12.746Z"
   },
   {
    "duration": 268,
    "start_time": "2022-10-26T09:30:12.961Z"
   },
   {
    "duration": 203,
    "start_time": "2022-10-26T09:30:13.231Z"
   },
   {
    "duration": 43,
    "start_time": "2022-10-26T09:30:33.360Z"
   },
   {
    "duration": 9,
    "start_time": "2022-10-26T09:30:33.405Z"
   },
   {
    "duration": 9,
    "start_time": "2022-10-26T09:30:33.415Z"
   },
   {
    "duration": 318,
    "start_time": "2022-10-26T09:30:33.426Z"
   },
   {
    "duration": 187,
    "start_time": "2022-10-26T09:30:33.746Z"
   },
   {
    "duration": 182,
    "start_time": "2022-10-26T09:30:33.935Z"
   },
   {
    "duration": 276,
    "start_time": "2022-10-26T09:30:34.123Z"
   },
   {
    "duration": 248,
    "start_time": "2022-10-26T09:30:34.401Z"
   },
   {
    "duration": 43,
    "start_time": "2022-10-26T09:31:12.257Z"
   },
   {
    "duration": 7,
    "start_time": "2022-10-26T09:31:12.302Z"
   },
   {
    "duration": 11,
    "start_time": "2022-10-26T09:31:12.311Z"
   },
   {
    "duration": 314,
    "start_time": "2022-10-26T09:31:12.323Z"
   },
   {
    "duration": 197,
    "start_time": "2022-10-26T09:31:12.640Z"
   },
   {
    "duration": 289,
    "start_time": "2022-10-26T09:31:12.840Z"
   },
   {
    "duration": 271,
    "start_time": "2022-10-26T09:31:13.131Z"
   },
   {
    "duration": 7,
    "start_time": "2022-10-26T09:31:13.404Z"
   },
   {
    "duration": 41,
    "start_time": "2022-10-26T09:31:29.787Z"
   },
   {
    "duration": 9,
    "start_time": "2022-10-26T09:31:29.830Z"
   },
   {
    "duration": 11,
    "start_time": "2022-10-26T09:31:29.840Z"
   },
   {
    "duration": 354,
    "start_time": "2022-10-26T09:31:29.853Z"
   },
   {
    "duration": 227,
    "start_time": "2022-10-26T09:31:30.209Z"
   },
   {
    "duration": 197,
    "start_time": "2022-10-26T09:31:30.438Z"
   },
   {
    "duration": 291,
    "start_time": "2022-10-26T09:31:30.637Z"
   },
   {
    "duration": 213,
    "start_time": "2022-10-26T09:31:30.930Z"
   },
   {
    "duration": 43,
    "start_time": "2022-10-26T09:31:54.541Z"
   },
   {
    "duration": 7,
    "start_time": "2022-10-26T09:31:54.587Z"
   },
   {
    "duration": 13,
    "start_time": "2022-10-26T09:31:54.596Z"
   },
   {
    "duration": 353,
    "start_time": "2022-10-26T09:31:54.611Z"
   },
   {
    "duration": 207,
    "start_time": "2022-10-26T09:31:54.966Z"
   },
   {
    "duration": 201,
    "start_time": "2022-10-26T09:31:55.175Z"
   },
   {
    "duration": 291,
    "start_time": "2022-10-26T09:31:55.377Z"
   },
   {
    "duration": 227,
    "start_time": "2022-10-26T09:31:55.670Z"
   },
   {
    "duration": 41,
    "start_time": "2022-10-26T09:32:12.605Z"
   },
   {
    "duration": 8,
    "start_time": "2022-10-26T09:32:12.648Z"
   },
   {
    "duration": 10,
    "start_time": "2022-10-26T09:32:12.657Z"
   },
   {
    "duration": 329,
    "start_time": "2022-10-26T09:32:12.669Z"
   },
   {
    "duration": 186,
    "start_time": "2022-10-26T09:32:12.999Z"
   },
   {
    "duration": 193,
    "start_time": "2022-10-26T09:32:13.188Z"
   },
   {
    "duration": 343,
    "start_time": "2022-10-26T09:32:13.383Z"
   },
   {
    "duration": 200,
    "start_time": "2022-10-26T09:32:13.727Z"
   },
   {
    "duration": 41,
    "start_time": "2022-10-26T09:36:37.810Z"
   },
   {
    "duration": 8,
    "start_time": "2022-10-26T09:36:37.852Z"
   },
   {
    "duration": 31,
    "start_time": "2022-10-26T09:36:37.862Z"
   },
   {
    "duration": 334,
    "start_time": "2022-10-26T09:36:37.895Z"
   },
   {
    "duration": 184,
    "start_time": "2022-10-26T09:36:38.231Z"
   },
   {
    "duration": 288,
    "start_time": "2022-10-26T09:36:38.416Z"
   },
   {
    "duration": 294,
    "start_time": "2022-10-26T09:36:38.706Z"
   },
   {
    "duration": 204,
    "start_time": "2022-10-26T09:36:39.002Z"
   },
   {
    "duration": 43,
    "start_time": "2022-10-26T09:52:13.992Z"
   },
   {
    "duration": 10,
    "start_time": "2022-10-26T09:52:14.037Z"
   },
   {
    "duration": 10,
    "start_time": "2022-10-26T09:52:14.049Z"
   },
   {
    "duration": 331,
    "start_time": "2022-10-26T09:52:14.062Z"
   },
   {
    "duration": 197,
    "start_time": "2022-10-26T09:52:14.395Z"
   },
   {
    "duration": 203,
    "start_time": "2022-10-26T09:52:14.594Z"
   },
   {
    "duration": 307,
    "start_time": "2022-10-26T09:52:14.799Z"
   },
   {
    "duration": 201,
    "start_time": "2022-10-26T09:52:15.108Z"
   },
   {
    "duration": 313,
    "start_time": "2022-10-26T09:52:15.311Z"
   },
   {
    "duration": 42,
    "start_time": "2022-10-26T09:52:38.043Z"
   },
   {
    "duration": 8,
    "start_time": "2022-10-26T09:52:38.087Z"
   },
   {
    "duration": 9,
    "start_time": "2022-10-26T09:52:38.097Z"
   },
   {
    "duration": 333,
    "start_time": "2022-10-26T09:52:38.109Z"
   },
   {
    "duration": 209,
    "start_time": "2022-10-26T09:52:38.444Z"
   },
   {
    "duration": 201,
    "start_time": "2022-10-26T09:52:38.655Z"
   },
   {
    "duration": 276,
    "start_time": "2022-10-26T09:52:38.858Z"
   },
   {
    "duration": 197,
    "start_time": "2022-10-26T09:52:39.136Z"
   },
   {
    "duration": 305,
    "start_time": "2022-10-26T09:52:39.335Z"
   },
   {
    "duration": 43,
    "start_time": "2022-10-26T09:52:54.939Z"
   },
   {
    "duration": 8,
    "start_time": "2022-10-26T09:52:54.984Z"
   },
   {
    "duration": 10,
    "start_time": "2022-10-26T09:52:55.346Z"
   },
   {
    "duration": 359,
    "start_time": "2022-10-26T09:52:55.359Z"
   },
   {
    "duration": 194,
    "start_time": "2022-10-26T09:52:55.724Z"
   },
   {
    "duration": 209,
    "start_time": "2022-10-26T09:52:55.924Z"
   },
   {
    "duration": 278,
    "start_time": "2022-10-26T09:52:56.135Z"
   },
   {
    "duration": 238,
    "start_time": "2022-10-26T09:52:56.415Z"
   },
   {
    "duration": 274,
    "start_time": "2022-10-26T09:52:56.655Z"
   },
   {
    "duration": 41,
    "start_time": "2022-10-26T10:06:09.653Z"
   },
   {
    "duration": 8,
    "start_time": "2022-10-26T10:06:09.696Z"
   },
   {
    "duration": 10,
    "start_time": "2022-10-26T10:06:09.706Z"
   },
   {
    "duration": 452,
    "start_time": "2022-10-26T10:06:09.719Z"
   },
   {
    "duration": 227,
    "start_time": "2022-10-26T10:06:10.173Z"
   },
   {
    "duration": 203,
    "start_time": "2022-10-26T10:06:10.401Z"
   },
   {
    "duration": 321,
    "start_time": "2022-10-26T10:06:10.605Z"
   },
   {
    "duration": 197,
    "start_time": "2022-10-26T10:06:10.927Z"
   },
   {
    "duration": 293,
    "start_time": "2022-10-26T10:06:11.125Z"
   },
   {
    "duration": 53,
    "start_time": "2022-10-26T10:08:05.387Z"
   },
   {
    "duration": 10,
    "start_time": "2022-10-26T10:08:05.445Z"
   },
   {
    "duration": 13,
    "start_time": "2022-10-26T10:08:05.457Z"
   },
   {
    "duration": 323,
    "start_time": "2022-10-26T10:08:05.472Z"
   },
   {
    "duration": 198,
    "start_time": "2022-10-26T10:08:05.797Z"
   },
   {
    "duration": 192,
    "start_time": "2022-10-26T10:08:05.996Z"
   },
   {
    "duration": 334,
    "start_time": "2022-10-26T10:08:06.190Z"
   },
   {
    "duration": 200,
    "start_time": "2022-10-26T10:08:06.526Z"
   },
   {
    "duration": 273,
    "start_time": "2022-10-26T10:08:06.727Z"
   },
   {
    "duration": 42,
    "start_time": "2022-10-26T10:10:20.040Z"
   },
   {
    "duration": 9,
    "start_time": "2022-10-26T10:10:20.084Z"
   },
   {
    "duration": 12,
    "start_time": "2022-10-26T10:10:20.095Z"
   },
   {
    "duration": 338,
    "start_time": "2022-10-26T10:10:20.109Z"
   },
   {
    "duration": 200,
    "start_time": "2022-10-26T10:10:20.448Z"
   },
   {
    "duration": 195,
    "start_time": "2022-10-26T10:10:20.650Z"
   },
   {
    "duration": 281,
    "start_time": "2022-10-26T10:10:20.847Z"
   },
   {
    "duration": 191,
    "start_time": "2022-10-26T10:10:21.130Z"
   },
   {
    "duration": 287,
    "start_time": "2022-10-26T10:10:21.323Z"
   },
   {
    "duration": 20,
    "start_time": "2022-10-26T10:10:21.613Z"
   },
   {
    "duration": 43,
    "start_time": "2022-10-26T10:11:45.899Z"
   },
   {
    "duration": 9,
    "start_time": "2022-10-26T10:11:45.944Z"
   },
   {
    "duration": 9,
    "start_time": "2022-10-26T10:11:45.955Z"
   },
   {
    "duration": 337,
    "start_time": "2022-10-26T10:11:45.966Z"
   },
   {
    "duration": 250,
    "start_time": "2022-10-26T10:11:46.305Z"
   },
   {
    "duration": 206,
    "start_time": "2022-10-26T10:11:46.557Z"
   },
   {
    "duration": 270,
    "start_time": "2022-10-26T10:11:46.764Z"
   },
   {
    "duration": 190,
    "start_time": "2022-10-26T10:11:47.036Z"
   },
   {
    "duration": 283,
    "start_time": "2022-10-26T10:11:47.228Z"
   },
   {
    "duration": 13,
    "start_time": "2022-10-26T10:11:47.523Z"
   },
   {
    "duration": 17,
    "start_time": "2022-10-26T10:11:47.538Z"
   },
   {
    "duration": 41,
    "start_time": "2022-10-26T10:13:28.843Z"
   },
   {
    "duration": 8,
    "start_time": "2022-10-26T10:13:28.887Z"
   },
   {
    "duration": 13,
    "start_time": "2022-10-26T10:13:28.897Z"
   },
   {
    "duration": 348,
    "start_time": "2022-10-26T10:13:28.912Z"
   },
   {
    "duration": 214,
    "start_time": "2022-10-26T10:13:29.263Z"
   },
   {
    "duration": 357,
    "start_time": "2022-10-26T10:13:29.479Z"
   },
   {
    "duration": 288,
    "start_time": "2022-10-26T10:13:29.838Z"
   },
   {
    "duration": 211,
    "start_time": "2022-10-26T10:13:30.127Z"
   },
   {
    "duration": 276,
    "start_time": "2022-10-26T10:13:30.340Z"
   },
   {
    "duration": 11,
    "start_time": "2022-10-26T10:13:30.623Z"
   },
   {
    "duration": 16,
    "start_time": "2022-10-26T10:13:30.636Z"
   },
   {
    "duration": 44,
    "start_time": "2022-10-26T10:18:01.166Z"
   },
   {
    "duration": 10,
    "start_time": "2022-10-26T10:18:01.212Z"
   },
   {
    "duration": 33,
    "start_time": "2022-10-26T10:18:01.224Z"
   },
   {
    "duration": 379,
    "start_time": "2022-10-26T10:18:01.260Z"
   },
   {
    "duration": 226,
    "start_time": "2022-10-26T10:18:01.641Z"
   },
   {
    "duration": 265,
    "start_time": "2022-10-26T10:18:01.869Z"
   },
   {
    "duration": 307,
    "start_time": "2022-10-26T10:18:02.136Z"
   },
   {
    "duration": 196,
    "start_time": "2022-10-26T10:18:02.445Z"
   },
   {
    "duration": 270,
    "start_time": "2022-10-26T10:18:02.643Z"
   },
   {
    "duration": 22,
    "start_time": "2022-10-26T10:18:02.916Z"
   },
   {
    "duration": 0,
    "start_time": "2022-10-26T10:18:02.941Z"
   },
   {
    "duration": 49,
    "start_time": "2022-10-26T10:18:31.773Z"
   },
   {
    "duration": 11,
    "start_time": "2022-10-26T10:18:31.825Z"
   },
   {
    "duration": 19,
    "start_time": "2022-10-26T10:18:31.839Z"
   },
   {
    "duration": 399,
    "start_time": "2022-10-26T10:18:31.860Z"
   },
   {
    "duration": 204,
    "start_time": "2022-10-26T10:18:32.261Z"
   },
   {
    "duration": 209,
    "start_time": "2022-10-26T10:18:32.467Z"
   },
   {
    "duration": 291,
    "start_time": "2022-10-26T10:18:32.677Z"
   },
   {
    "duration": 203,
    "start_time": "2022-10-26T10:18:32.971Z"
   },
   {
    "duration": 263,
    "start_time": "2022-10-26T10:18:33.176Z"
   },
   {
    "duration": 150,
    "start_time": "2022-10-26T10:18:33.442Z"
   },
   {
    "duration": 11,
    "start_time": "2022-10-26T10:18:33.594Z"
   },
   {
    "duration": 44,
    "start_time": "2022-10-26T11:20:55.861Z"
   },
   {
    "duration": 9,
    "start_time": "2022-10-26T11:20:55.907Z"
   },
   {
    "duration": 13,
    "start_time": "2022-10-26T11:20:55.917Z"
   },
   {
    "duration": 356,
    "start_time": "2022-10-26T11:20:55.932Z"
   },
   {
    "duration": 214,
    "start_time": "2022-10-26T11:20:56.289Z"
   },
   {
    "duration": 220,
    "start_time": "2022-10-26T11:20:56.504Z"
   },
   {
    "duration": 299,
    "start_time": "2022-10-26T11:20:56.725Z"
   },
   {
    "duration": 201,
    "start_time": "2022-10-26T11:20:57.026Z"
   },
   {
    "duration": 297,
    "start_time": "2022-10-26T11:20:57.229Z"
   },
   {
    "duration": 177,
    "start_time": "2022-10-26T11:20:57.529Z"
   },
   {
    "duration": 0,
    "start_time": "2022-10-26T11:20:57.707Z"
   },
   {
    "duration": 44,
    "start_time": "2022-10-26T11:21:05.072Z"
   },
   {
    "duration": 9,
    "start_time": "2022-10-26T11:21:05.119Z"
   },
   {
    "duration": 25,
    "start_time": "2022-10-26T11:21:05.129Z"
   },
   {
    "duration": 374,
    "start_time": "2022-10-26T11:21:05.157Z"
   },
   {
    "duration": 212,
    "start_time": "2022-10-26T11:21:05.532Z"
   },
   {
    "duration": 216,
    "start_time": "2022-10-26T11:21:05.746Z"
   },
   {
    "duration": 299,
    "start_time": "2022-10-26T11:21:05.964Z"
   },
   {
    "duration": 207,
    "start_time": "2022-10-26T11:21:06.266Z"
   },
   {
    "duration": 283,
    "start_time": "2022-10-26T11:21:06.476Z"
   },
   {
    "duration": 178,
    "start_time": "2022-10-26T11:21:06.763Z"
   },
   {
    "duration": 0,
    "start_time": "2022-10-26T11:21:06.943Z"
   },
   {
    "duration": 48,
    "start_time": "2022-10-26T11:21:22.741Z"
   },
   {
    "duration": 15,
    "start_time": "2022-10-26T11:21:22.791Z"
   },
   {
    "duration": 36,
    "start_time": "2022-10-26T11:21:22.808Z"
   },
   {
    "duration": 416,
    "start_time": "2022-10-26T11:21:22.848Z"
   },
   {
    "duration": 228,
    "start_time": "2022-10-26T11:21:23.266Z"
   },
   {
    "duration": 220,
    "start_time": "2022-10-26T11:21:23.496Z"
   },
   {
    "duration": 534,
    "start_time": "2022-10-26T11:21:23.718Z"
   },
   {
    "duration": 210,
    "start_time": "2022-10-26T11:21:24.254Z"
   },
   {
    "duration": 277,
    "start_time": "2022-10-26T11:21:24.466Z"
   },
   {
    "duration": 164,
    "start_time": "2022-10-26T11:21:24.746Z"
   },
   {
    "duration": 0,
    "start_time": "2022-10-26T11:21:24.913Z"
   },
   {
    "duration": 362,
    "start_time": "2022-10-26T11:21:31.886Z"
   },
   {
    "duration": 43,
    "start_time": "2022-10-26T11:21:40.882Z"
   },
   {
    "duration": 8,
    "start_time": "2022-10-26T11:21:40.927Z"
   },
   {
    "duration": 27,
    "start_time": "2022-10-26T11:21:40.937Z"
   },
   {
    "duration": 384,
    "start_time": "2022-10-26T11:21:40.966Z"
   },
   {
    "duration": 235,
    "start_time": "2022-10-26T11:21:41.351Z"
   },
   {
    "duration": 246,
    "start_time": "2022-10-26T11:21:41.588Z"
   },
   {
    "duration": 364,
    "start_time": "2022-10-26T11:21:41.837Z"
   },
   {
    "duration": 225,
    "start_time": "2022-10-26T11:21:42.203Z"
   },
   {
    "duration": 286,
    "start_time": "2022-10-26T11:21:42.430Z"
   },
   {
    "duration": 279,
    "start_time": "2022-10-26T11:21:42.724Z"
   },
   {
    "duration": 23,
    "start_time": "2022-10-26T11:21:43.005Z"
   },
   {
    "duration": 42,
    "start_time": "2022-10-26T11:22:22.322Z"
   },
   {
    "duration": 9,
    "start_time": "2022-10-26T11:22:22.366Z"
   },
   {
    "duration": 10,
    "start_time": "2022-10-26T11:22:22.377Z"
   },
   {
    "duration": 367,
    "start_time": "2022-10-26T11:22:22.389Z"
   },
   {
    "duration": 225,
    "start_time": "2022-10-26T11:22:22.758Z"
   },
   {
    "duration": 211,
    "start_time": "2022-10-26T11:22:22.985Z"
   },
   {
    "duration": 330,
    "start_time": "2022-10-26T11:22:23.198Z"
   },
   {
    "duration": 210,
    "start_time": "2022-10-26T11:22:23.530Z"
   },
   {
    "duration": 271,
    "start_time": "2022-10-26T11:22:23.742Z"
   },
   {
    "duration": 154,
    "start_time": "2022-10-26T11:22:24.029Z"
   },
   {
    "duration": 0,
    "start_time": "2022-10-26T11:22:24.184Z"
   },
   {
    "duration": 43,
    "start_time": "2022-10-26T11:22:34.190Z"
   },
   {
    "duration": 8,
    "start_time": "2022-10-26T11:22:34.236Z"
   },
   {
    "duration": 11,
    "start_time": "2022-10-26T11:22:34.246Z"
   },
   {
    "duration": 367,
    "start_time": "2022-10-26T11:22:34.259Z"
   },
   {
    "duration": 223,
    "start_time": "2022-10-26T11:22:34.630Z"
   },
   {
    "duration": 218,
    "start_time": "2022-10-26T11:22:34.856Z"
   },
   {
    "duration": 288,
    "start_time": "2022-10-26T11:22:35.077Z"
   },
   {
    "duration": 222,
    "start_time": "2022-10-26T11:22:35.368Z"
   },
   {
    "duration": 305,
    "start_time": "2022-10-26T11:22:35.592Z"
   },
   {
    "duration": 273,
    "start_time": "2022-10-26T11:22:35.899Z"
   },
   {
    "duration": 14,
    "start_time": "2022-10-26T11:22:36.174Z"
   },
   {
    "duration": 42,
    "start_time": "2022-10-26T11:25:36.852Z"
   },
   {
    "duration": 9,
    "start_time": "2022-10-26T11:25:36.896Z"
   },
   {
    "duration": 10,
    "start_time": "2022-10-26T11:25:36.907Z"
   },
   {
    "duration": 342,
    "start_time": "2022-10-26T11:25:36.919Z"
   },
   {
    "duration": 226,
    "start_time": "2022-10-26T11:25:37.263Z"
   },
   {
    "duration": 245,
    "start_time": "2022-10-26T11:25:37.491Z"
   },
   {
    "duration": 295,
    "start_time": "2022-10-26T11:25:37.738Z"
   },
   {
    "duration": 216,
    "start_time": "2022-10-26T11:25:38.035Z"
   },
   {
    "duration": 278,
    "start_time": "2022-10-26T11:25:38.253Z"
   },
   {
    "duration": 276,
    "start_time": "2022-10-26T11:25:38.534Z"
   },
   {
    "duration": 19,
    "start_time": "2022-10-26T11:25:38.812Z"
   },
   {
    "duration": 42,
    "start_time": "2022-10-26T11:26:04.872Z"
   },
   {
    "duration": 11,
    "start_time": "2022-10-26T11:26:04.916Z"
   },
   {
    "duration": 19,
    "start_time": "2022-10-26T11:26:04.939Z"
   },
   {
    "duration": 366,
    "start_time": "2022-10-26T11:26:04.960Z"
   },
   {
    "duration": 223,
    "start_time": "2022-10-26T11:26:05.333Z"
   },
   {
    "duration": 211,
    "start_time": "2022-10-26T11:26:05.558Z"
   },
   {
    "duration": 287,
    "start_time": "2022-10-26T11:26:05.770Z"
   },
   {
    "duration": 209,
    "start_time": "2022-10-26T11:26:06.059Z"
   },
   {
    "duration": 272,
    "start_time": "2022-10-26T11:26:06.270Z"
   },
   {
    "duration": 537,
    "start_time": "2022-10-26T11:26:06.544Z"
   },
   {
    "duration": 129,
    "start_time": "2022-10-26T11:26:07.083Z"
   },
   {
    "duration": 26,
    "start_time": "2022-10-26T11:26:07.214Z"
   },
   {
    "duration": 47,
    "start_time": "2022-10-26T11:26:23.312Z"
   },
   {
    "duration": 9,
    "start_time": "2022-10-26T11:26:23.361Z"
   },
   {
    "duration": 30,
    "start_time": "2022-10-26T11:26:23.372Z"
   },
   {
    "duration": 389,
    "start_time": "2022-10-26T11:26:23.405Z"
   },
   {
    "duration": 214,
    "start_time": "2022-10-26T11:26:23.796Z"
   },
   {
    "duration": 212,
    "start_time": "2022-10-26T11:26:24.012Z"
   },
   {
    "duration": 304,
    "start_time": "2022-10-26T11:26:24.225Z"
   },
   {
    "duration": 209,
    "start_time": "2022-10-26T11:26:24.531Z"
   },
   {
    "duration": 271,
    "start_time": "2022-10-26T11:26:24.742Z"
   },
   {
    "duration": 266,
    "start_time": "2022-10-26T11:26:25.015Z"
   },
   {
    "duration": 165,
    "start_time": "2022-10-26T11:26:25.283Z"
   },
   {
    "duration": 0,
    "start_time": "2022-10-26T11:26:25.450Z"
   },
   {
    "duration": 40,
    "start_time": "2022-10-26T11:27:05.107Z"
   },
   {
    "duration": 8,
    "start_time": "2022-10-26T11:27:05.149Z"
   },
   {
    "duration": 13,
    "start_time": "2022-10-26T11:27:05.159Z"
   },
   {
    "duration": 331,
    "start_time": "2022-10-26T11:27:05.174Z"
   },
   {
    "duration": 188,
    "start_time": "2022-10-26T11:27:05.507Z"
   },
   {
    "duration": 182,
    "start_time": "2022-10-26T11:27:05.697Z"
   },
   {
    "duration": 267,
    "start_time": "2022-10-26T11:27:05.881Z"
   },
   {
    "duration": 186,
    "start_time": "2022-10-26T11:27:06.150Z"
   },
   {
    "duration": 270,
    "start_time": "2022-10-26T11:27:06.338Z"
   },
   {
    "duration": 244,
    "start_time": "2022-10-26T11:27:06.623Z"
   },
   {
    "duration": 117,
    "start_time": "2022-10-26T11:27:06.868Z"
   },
   {
    "duration": 11,
    "start_time": "2022-10-26T11:27:06.987Z"
   },
   {
    "duration": 44,
    "start_time": "2022-10-26T11:30:57.472Z"
   },
   {
    "duration": 10,
    "start_time": "2022-10-26T11:30:57.519Z"
   },
   {
    "duration": 14,
    "start_time": "2022-10-26T11:30:57.531Z"
   },
   {
    "duration": 375,
    "start_time": "2022-10-26T11:30:57.549Z"
   },
   {
    "duration": 232,
    "start_time": "2022-10-26T11:30:57.926Z"
   },
   {
    "duration": 206,
    "start_time": "2022-10-26T11:30:58.160Z"
   },
   {
    "duration": 280,
    "start_time": "2022-10-26T11:30:58.368Z"
   },
   {
    "duration": 209,
    "start_time": "2022-10-26T11:30:58.649Z"
   },
   {
    "duration": 276,
    "start_time": "2022-10-26T11:30:58.860Z"
   },
   {
    "duration": 22,
    "start_time": "2022-10-26T11:30:59.140Z"
   },
   {
    "duration": 0,
    "start_time": "2022-10-26T11:30:59.164Z"
   },
   {
    "duration": 0,
    "start_time": "2022-10-26T11:30:59.165Z"
   },
   {
    "duration": 0,
    "start_time": "2022-10-26T11:30:59.166Z"
   },
   {
    "duration": 44,
    "start_time": "2022-10-26T11:31:18.661Z"
   },
   {
    "duration": 11,
    "start_time": "2022-10-26T11:31:18.708Z"
   },
   {
    "duration": 14,
    "start_time": "2022-10-26T11:31:18.721Z"
   },
   {
    "duration": 372,
    "start_time": "2022-10-26T11:31:18.738Z"
   },
   {
    "duration": 223,
    "start_time": "2022-10-26T11:31:19.112Z"
   },
   {
    "duration": 228,
    "start_time": "2022-10-26T11:31:19.337Z"
   },
   {
    "duration": 285,
    "start_time": "2022-10-26T11:31:19.567Z"
   },
   {
    "duration": 216,
    "start_time": "2022-10-26T11:31:19.854Z"
   },
   {
    "duration": 296,
    "start_time": "2022-10-26T11:31:20.072Z"
   },
   {
    "duration": 17,
    "start_time": "2022-10-26T11:31:20.370Z"
   },
   {
    "duration": 0,
    "start_time": "2022-10-26T11:31:20.389Z"
   },
   {
    "duration": 0,
    "start_time": "2022-10-26T11:31:20.391Z"
   },
   {
    "duration": 0,
    "start_time": "2022-10-26T11:31:20.393Z"
   },
   {
    "duration": 59,
    "start_time": "2022-10-26T11:31:31.826Z"
   },
   {
    "duration": 13,
    "start_time": "2022-10-26T11:31:31.888Z"
   },
   {
    "duration": 15,
    "start_time": "2022-10-26T11:31:31.904Z"
   },
   {
    "duration": 452,
    "start_time": "2022-10-26T11:31:31.927Z"
   },
   {
    "duration": 270,
    "start_time": "2022-10-26T11:31:32.382Z"
   },
   {
    "duration": 238,
    "start_time": "2022-10-26T11:31:32.655Z"
   },
   {
    "duration": 351,
    "start_time": "2022-10-26T11:31:32.895Z"
   },
   {
    "duration": 233,
    "start_time": "2022-10-26T11:31:33.248Z"
   },
   {
    "duration": 292,
    "start_time": "2022-10-26T11:31:33.484Z"
   },
   {
    "duration": 11,
    "start_time": "2022-10-26T11:31:33.779Z"
   },
   {
    "duration": 307,
    "start_time": "2022-10-26T11:31:33.792Z"
   },
   {
    "duration": 158,
    "start_time": "2022-10-26T11:31:34.101Z"
   },
   {
    "duration": 14,
    "start_time": "2022-10-26T11:31:34.261Z"
   },
   {
    "duration": 44,
    "start_time": "2022-10-26T11:33:41.709Z"
   },
   {
    "duration": 9,
    "start_time": "2022-10-26T11:33:41.755Z"
   },
   {
    "duration": 10,
    "start_time": "2022-10-26T11:33:41.766Z"
   },
   {
    "duration": 426,
    "start_time": "2022-10-26T11:33:41.778Z"
   },
   {
    "duration": 209,
    "start_time": "2022-10-26T11:33:42.206Z"
   },
   {
    "duration": 216,
    "start_time": "2022-10-26T11:33:42.423Z"
   },
   {
    "duration": 316,
    "start_time": "2022-10-26T11:33:42.641Z"
   },
   {
    "duration": 203,
    "start_time": "2022-10-26T11:33:42.959Z"
   },
   {
    "duration": 282,
    "start_time": "2022-10-26T11:33:43.164Z"
   },
   {
    "duration": 11,
    "start_time": "2022-10-26T11:33:43.448Z"
   },
   {
    "duration": 564,
    "start_time": "2022-10-26T11:33:43.461Z"
   },
   {
    "duration": 129,
    "start_time": "2022-10-26T11:33:44.027Z"
   },
   {
    "duration": 12,
    "start_time": "2022-10-26T11:33:44.158Z"
   },
   {
    "duration": 43,
    "start_time": "2022-10-26T11:35:09.328Z"
   },
   {
    "duration": 10,
    "start_time": "2022-10-26T11:35:09.372Z"
   },
   {
    "duration": 12,
    "start_time": "2022-10-26T11:35:09.384Z"
   },
   {
    "duration": 354,
    "start_time": "2022-10-26T11:35:09.399Z"
   },
   {
    "duration": 210,
    "start_time": "2022-10-26T11:35:09.755Z"
   },
   {
    "duration": 213,
    "start_time": "2022-10-26T11:35:09.967Z"
   },
   {
    "duration": 345,
    "start_time": "2022-10-26T11:35:10.182Z"
   },
   {
    "duration": 210,
    "start_time": "2022-10-26T11:35:10.529Z"
   },
   {
    "duration": 287,
    "start_time": "2022-10-26T11:35:10.741Z"
   },
   {
    "duration": 128,
    "start_time": "2022-10-26T11:35:11.031Z"
   },
   {
    "duration": 284,
    "start_time": "2022-10-26T11:35:11.161Z"
   },
   {
    "duration": 137,
    "start_time": "2022-10-26T11:35:11.447Z"
   },
   {
    "duration": 14,
    "start_time": "2022-10-26T11:35:11.586Z"
   },
   {
    "duration": 43,
    "start_time": "2022-10-26T11:43:48.914Z"
   },
   {
    "duration": 9,
    "start_time": "2022-10-26T11:43:48.959Z"
   },
   {
    "duration": 14,
    "start_time": "2022-10-26T11:43:48.969Z"
   },
   {
    "duration": 347,
    "start_time": "2022-10-26T11:43:48.985Z"
   },
   {
    "duration": 215,
    "start_time": "2022-10-26T11:43:49.334Z"
   },
   {
    "duration": 207,
    "start_time": "2022-10-26T11:43:49.551Z"
   },
   {
    "duration": 271,
    "start_time": "2022-10-26T11:43:49.760Z"
   },
   {
    "duration": 210,
    "start_time": "2022-10-26T11:43:50.033Z"
   },
   {
    "duration": 282,
    "start_time": "2022-10-26T11:43:50.246Z"
   },
   {
    "duration": 132,
    "start_time": "2022-10-26T11:43:50.530Z"
   },
   {
    "duration": 5,
    "start_time": "2022-10-26T11:43:50.663Z"
   },
   {
    "duration": 42,
    "start_time": "2022-10-26T11:48:40.418Z"
   },
   {
    "duration": 9,
    "start_time": "2022-10-26T11:48:40.462Z"
   },
   {
    "duration": 10,
    "start_time": "2022-10-26T11:48:40.472Z"
   },
   {
    "duration": 329,
    "start_time": "2022-10-26T11:48:40.484Z"
   },
   {
    "duration": 198,
    "start_time": "2022-10-26T11:48:40.815Z"
   },
   {
    "duration": 197,
    "start_time": "2022-10-26T11:48:41.015Z"
   },
   {
    "duration": 313,
    "start_time": "2022-10-26T11:48:41.213Z"
   },
   {
    "duration": 211,
    "start_time": "2022-10-26T11:48:41.528Z"
   },
   {
    "duration": 311,
    "start_time": "2022-10-26T11:48:41.741Z"
   },
   {
    "duration": 118,
    "start_time": "2022-10-26T11:48:42.055Z"
   },
   {
    "duration": 4,
    "start_time": "2022-10-26T11:48:42.175Z"
   },
   {
    "duration": 42,
    "start_time": "2022-10-26T11:51:27.345Z"
   },
   {
    "duration": 9,
    "start_time": "2022-10-26T11:51:27.389Z"
   },
   {
    "duration": 28,
    "start_time": "2022-10-26T11:51:27.400Z"
   },
   {
    "duration": 351,
    "start_time": "2022-10-26T11:51:27.430Z"
   },
   {
    "duration": 197,
    "start_time": "2022-10-26T11:51:27.783Z"
   },
   {
    "duration": 195,
    "start_time": "2022-10-26T11:51:27.982Z"
   },
   {
    "duration": 288,
    "start_time": "2022-10-26T11:51:28.179Z"
   },
   {
    "duration": 195,
    "start_time": "2022-10-26T11:51:28.469Z"
   },
   {
    "duration": 309,
    "start_time": "2022-10-26T11:51:28.666Z"
   },
   {
    "duration": 127,
    "start_time": "2022-10-26T11:51:28.979Z"
   },
   {
    "duration": 4,
    "start_time": "2022-10-26T11:51:29.108Z"
   },
   {
    "duration": 142,
    "start_time": "2022-10-26T11:51:29.123Z"
   },
   {
    "duration": 42,
    "start_time": "2022-10-26T11:51:44.037Z"
   },
   {
    "duration": 9,
    "start_time": "2022-10-26T11:51:44.081Z"
   },
   {
    "duration": 10,
    "start_time": "2022-10-26T11:51:44.092Z"
   },
   {
    "duration": 337,
    "start_time": "2022-10-26T11:51:44.104Z"
   },
   {
    "duration": 206,
    "start_time": "2022-10-26T11:51:44.443Z"
   },
   {
    "duration": 197,
    "start_time": "2022-10-26T11:51:44.651Z"
   },
   {
    "duration": 281,
    "start_time": "2022-10-26T11:51:44.849Z"
   },
   {
    "duration": 194,
    "start_time": "2022-10-26T11:51:45.131Z"
   },
   {
    "duration": 284,
    "start_time": "2022-10-26T11:51:45.327Z"
   },
   {
    "duration": 133,
    "start_time": "2022-10-26T11:51:45.614Z"
   },
   {
    "duration": 5,
    "start_time": "2022-10-26T11:51:45.748Z"
   },
   {
    "duration": 132,
    "start_time": "2022-10-26T11:51:45.755Z"
   },
   {
    "duration": 43,
    "start_time": "2022-10-26T11:51:50.065Z"
   },
   {
    "duration": 9,
    "start_time": "2022-10-26T11:51:50.110Z"
   },
   {
    "duration": 12,
    "start_time": "2022-10-26T11:51:50.120Z"
   },
   {
    "duration": 350,
    "start_time": "2022-10-26T11:51:50.134Z"
   },
   {
    "duration": 212,
    "start_time": "2022-10-26T11:51:50.485Z"
   },
   {
    "duration": 198,
    "start_time": "2022-10-26T11:51:50.699Z"
   },
   {
    "duration": 298,
    "start_time": "2022-10-26T11:51:50.899Z"
   },
   {
    "duration": 219,
    "start_time": "2022-10-26T11:51:51.199Z"
   },
   {
    "duration": 294,
    "start_time": "2022-10-26T11:51:51.421Z"
   },
   {
    "duration": 151,
    "start_time": "2022-10-26T11:51:51.723Z"
   },
   {
    "duration": 6,
    "start_time": "2022-10-26T11:51:51.876Z"
   },
   {
    "duration": 172,
    "start_time": "2022-10-26T11:51:51.884Z"
   },
   {
    "duration": 42,
    "start_time": "2022-10-26T11:51:58.177Z"
   },
   {
    "duration": 8,
    "start_time": "2022-10-26T11:51:58.221Z"
   },
   {
    "duration": 9,
    "start_time": "2022-10-26T11:51:58.231Z"
   },
   {
    "duration": 344,
    "start_time": "2022-10-26T11:51:58.242Z"
   },
   {
    "duration": 199,
    "start_time": "2022-10-26T11:51:58.588Z"
   },
   {
    "duration": 188,
    "start_time": "2022-10-26T11:51:58.789Z"
   },
   {
    "duration": 277,
    "start_time": "2022-10-26T11:51:58.978Z"
   },
   {
    "duration": 529,
    "start_time": "2022-10-26T11:51:59.257Z"
   },
   {
    "duration": 307,
    "start_time": "2022-10-26T11:51:59.787Z"
   },
   {
    "duration": 130,
    "start_time": "2022-10-26T11:52:00.096Z"
   },
   {
    "duration": 5,
    "start_time": "2022-10-26T11:52:00.227Z"
   },
   {
    "duration": 199,
    "start_time": "2022-10-26T11:52:00.234Z"
   },
   {
    "duration": 44,
    "start_time": "2022-10-26T11:55:47.769Z"
   },
   {
    "duration": 9,
    "start_time": "2022-10-26T11:55:47.815Z"
   },
   {
    "duration": 23,
    "start_time": "2022-10-26T11:55:47.826Z"
   },
   {
    "duration": 346,
    "start_time": "2022-10-26T11:55:47.851Z"
   },
   {
    "duration": 206,
    "start_time": "2022-10-26T11:55:48.199Z"
   },
   {
    "duration": 200,
    "start_time": "2022-10-26T11:55:48.406Z"
   },
   {
    "duration": 327,
    "start_time": "2022-10-26T11:55:48.608Z"
   },
   {
    "duration": 189,
    "start_time": "2022-10-26T11:55:48.936Z"
   },
   {
    "duration": 299,
    "start_time": "2022-10-26T11:55:49.127Z"
   },
   {
    "duration": 134,
    "start_time": "2022-10-26T11:55:49.429Z"
   },
   {
    "duration": 4,
    "start_time": "2022-10-26T11:55:49.565Z"
   },
   {
    "duration": 138,
    "start_time": "2022-10-26T11:55:49.570Z"
   },
   {
    "duration": 42,
    "start_time": "2022-10-26T11:56:28.176Z"
   },
   {
    "duration": 9,
    "start_time": "2022-10-26T11:56:28.220Z"
   },
   {
    "duration": 11,
    "start_time": "2022-10-26T11:56:28.230Z"
   },
   {
    "duration": 337,
    "start_time": "2022-10-26T11:56:28.244Z"
   },
   {
    "duration": 210,
    "start_time": "2022-10-26T11:56:28.582Z"
   },
   {
    "duration": 195,
    "start_time": "2022-10-26T11:56:28.794Z"
   },
   {
    "duration": 310,
    "start_time": "2022-10-26T11:56:28.991Z"
   },
   {
    "duration": 220,
    "start_time": "2022-10-26T11:56:29.303Z"
   },
   {
    "duration": 277,
    "start_time": "2022-10-26T11:56:29.525Z"
   },
   {
    "duration": 151,
    "start_time": "2022-10-26T11:56:29.805Z"
   },
   {
    "duration": 4,
    "start_time": "2022-10-26T11:56:29.958Z"
   },
   {
    "duration": 142,
    "start_time": "2022-10-26T11:56:29.964Z"
   },
   {
    "duration": 41,
    "start_time": "2022-10-26T11:56:40.484Z"
   },
   {
    "duration": 9,
    "start_time": "2022-10-26T11:56:40.527Z"
   },
   {
    "duration": 19,
    "start_time": "2022-10-26T11:56:40.538Z"
   },
   {
    "duration": 358,
    "start_time": "2022-10-26T11:56:40.559Z"
   },
   {
    "duration": 209,
    "start_time": "2022-10-26T11:56:40.919Z"
   },
   {
    "duration": 186,
    "start_time": "2022-10-26T11:56:41.129Z"
   },
   {
    "duration": 307,
    "start_time": "2022-10-26T11:56:41.317Z"
   },
   {
    "duration": 225,
    "start_time": "2022-10-26T11:56:41.626Z"
   },
   {
    "duration": 324,
    "start_time": "2022-10-26T11:56:41.853Z"
   },
   {
    "duration": 127,
    "start_time": "2022-10-26T11:56:42.180Z"
   },
   {
    "duration": 5,
    "start_time": "2022-10-26T11:56:42.308Z"
   },
   {
    "duration": 206,
    "start_time": "2022-10-26T11:56:42.323Z"
   },
   {
    "duration": 42,
    "start_time": "2022-10-26T11:56:48.716Z"
   },
   {
    "duration": 9,
    "start_time": "2022-10-26T11:56:48.760Z"
   },
   {
    "duration": 9,
    "start_time": "2022-10-26T11:56:48.770Z"
   },
   {
    "duration": 340,
    "start_time": "2022-10-26T11:56:48.781Z"
   },
   {
    "duration": 201,
    "start_time": "2022-10-26T11:56:49.123Z"
   },
   {
    "duration": 199,
    "start_time": "2022-10-26T11:56:49.325Z"
   },
   {
    "duration": 289,
    "start_time": "2022-10-26T11:56:49.525Z"
   },
   {
    "duration": 198,
    "start_time": "2022-10-26T11:56:49.817Z"
   },
   {
    "duration": 291,
    "start_time": "2022-10-26T11:56:50.017Z"
   },
   {
    "duration": 119,
    "start_time": "2022-10-26T11:56:50.323Z"
   },
   {
    "duration": 4,
    "start_time": "2022-10-26T11:56:50.444Z"
   },
   {
    "duration": 161,
    "start_time": "2022-10-26T11:56:50.450Z"
   },
   {
    "duration": 44,
    "start_time": "2022-10-26T11:57:19.576Z"
   },
   {
    "duration": 8,
    "start_time": "2022-10-26T11:57:19.621Z"
   },
   {
    "duration": 13,
    "start_time": "2022-10-26T11:57:19.631Z"
   },
   {
    "duration": 337,
    "start_time": "2022-10-26T11:57:19.647Z"
   },
   {
    "duration": 210,
    "start_time": "2022-10-26T11:57:19.986Z"
   },
   {
    "duration": 212,
    "start_time": "2022-10-26T11:57:20.197Z"
   },
   {
    "duration": 337,
    "start_time": "2022-10-26T11:57:20.411Z"
   },
   {
    "duration": 197,
    "start_time": "2022-10-26T11:57:20.749Z"
   },
   {
    "duration": 282,
    "start_time": "2022-10-26T11:57:20.947Z"
   },
   {
    "duration": 125,
    "start_time": "2022-10-26T11:57:21.232Z"
   },
   {
    "duration": 4,
    "start_time": "2022-10-26T11:57:21.359Z"
   },
   {
    "duration": 160,
    "start_time": "2022-10-26T11:57:21.365Z"
   },
   {
    "duration": 43,
    "start_time": "2022-10-26T11:57:29.687Z"
   },
   {
    "duration": 9,
    "start_time": "2022-10-26T11:57:29.732Z"
   },
   {
    "duration": 10,
    "start_time": "2022-10-26T11:57:29.743Z"
   },
   {
    "duration": 369,
    "start_time": "2022-10-26T11:57:29.755Z"
   },
   {
    "duration": 228,
    "start_time": "2022-10-26T11:57:30.126Z"
   },
   {
    "duration": 206,
    "start_time": "2022-10-26T11:57:30.356Z"
   },
   {
    "duration": 275,
    "start_time": "2022-10-26T11:57:30.564Z"
   },
   {
    "duration": 198,
    "start_time": "2022-10-26T11:57:30.841Z"
   },
   {
    "duration": 288,
    "start_time": "2022-10-26T11:57:31.041Z"
   },
   {
    "duration": 138,
    "start_time": "2022-10-26T11:57:31.333Z"
   },
   {
    "duration": 5,
    "start_time": "2022-10-26T11:57:31.473Z"
   },
   {
    "duration": 151,
    "start_time": "2022-10-26T11:57:31.479Z"
   },
   {
    "duration": 41,
    "start_time": "2022-10-26T11:57:43.866Z"
   },
   {
    "duration": 8,
    "start_time": "2022-10-26T11:57:43.909Z"
   },
   {
    "duration": 11,
    "start_time": "2022-10-26T11:57:43.918Z"
   },
   {
    "duration": 347,
    "start_time": "2022-10-26T11:57:43.931Z"
   },
   {
    "duration": 208,
    "start_time": "2022-10-26T11:57:44.279Z"
   },
   {
    "duration": 196,
    "start_time": "2022-10-26T11:57:44.489Z"
   },
   {
    "duration": 293,
    "start_time": "2022-10-26T11:57:44.687Z"
   },
   {
    "duration": 205,
    "start_time": "2022-10-26T11:57:44.982Z"
   },
   {
    "duration": 331,
    "start_time": "2022-10-26T11:57:45.189Z"
   },
   {
    "duration": 122,
    "start_time": "2022-10-26T11:57:45.524Z"
   },
   {
    "duration": 4,
    "start_time": "2022-10-26T11:57:45.648Z"
   },
   {
    "duration": 149,
    "start_time": "2022-10-26T11:57:45.653Z"
   },
   {
    "duration": 41,
    "start_time": "2022-10-26T11:58:37.722Z"
   },
   {
    "duration": 9,
    "start_time": "2022-10-26T11:58:37.765Z"
   },
   {
    "duration": 9,
    "start_time": "2022-10-26T11:58:37.775Z"
   },
   {
    "duration": 322,
    "start_time": "2022-10-26T11:58:37.786Z"
   },
   {
    "duration": 207,
    "start_time": "2022-10-26T11:58:38.109Z"
   },
   {
    "duration": 194,
    "start_time": "2022-10-26T11:58:38.318Z"
   },
   {
    "duration": 321,
    "start_time": "2022-10-26T11:58:38.514Z"
   },
   {
    "duration": 186,
    "start_time": "2022-10-26T11:58:38.837Z"
   },
   {
    "duration": 304,
    "start_time": "2022-10-26T11:58:39.025Z"
   },
   {
    "duration": 539,
    "start_time": "2022-10-26T11:58:39.331Z"
   },
   {
    "duration": 4,
    "start_time": "2022-10-26T11:58:39.872Z"
   },
   {
    "duration": 151,
    "start_time": "2022-10-26T11:58:39.878Z"
   },
   {
    "duration": 42,
    "start_time": "2022-10-26T11:59:14.638Z"
   },
   {
    "duration": 9,
    "start_time": "2022-10-26T11:59:14.682Z"
   },
   {
    "duration": 11,
    "start_time": "2022-10-26T11:59:14.693Z"
   },
   {
    "duration": 375,
    "start_time": "2022-10-26T11:59:14.707Z"
   },
   {
    "duration": 217,
    "start_time": "2022-10-26T11:59:15.084Z"
   },
   {
    "duration": 229,
    "start_time": "2022-10-26T11:59:15.304Z"
   },
   {
    "duration": 318,
    "start_time": "2022-10-26T11:59:15.535Z"
   },
   {
    "duration": 211,
    "start_time": "2022-10-26T11:59:15.855Z"
   },
   {
    "duration": 284,
    "start_time": "2022-10-26T11:59:16.068Z"
   },
   {
    "duration": 140,
    "start_time": "2022-10-26T11:59:16.354Z"
   },
   {
    "duration": 6,
    "start_time": "2022-10-26T11:59:16.496Z"
   },
   {
    "duration": 176,
    "start_time": "2022-10-26T11:59:16.504Z"
   },
   {
    "duration": 43,
    "start_time": "2022-10-26T12:00:30.377Z"
   },
   {
    "duration": 8,
    "start_time": "2022-10-26T12:00:30.422Z"
   },
   {
    "duration": 29,
    "start_time": "2022-10-26T12:00:30.432Z"
   },
   {
    "duration": 345,
    "start_time": "2022-10-26T12:00:30.464Z"
   },
   {
    "duration": 208,
    "start_time": "2022-10-26T12:00:30.811Z"
   },
   {
    "duration": 206,
    "start_time": "2022-10-26T12:00:31.025Z"
   },
   {
    "duration": 312,
    "start_time": "2022-10-26T12:00:31.233Z"
   },
   {
    "duration": 199,
    "start_time": "2022-10-26T12:00:31.547Z"
   },
   {
    "duration": 321,
    "start_time": "2022-10-26T12:00:31.747Z"
   },
   {
    "duration": 143,
    "start_time": "2022-10-26T12:00:32.071Z"
   },
   {
    "duration": 5,
    "start_time": "2022-10-26T12:00:32.223Z"
   },
   {
    "duration": 14,
    "start_time": "2022-10-26T12:00:32.230Z"
   },
   {
    "duration": 42,
    "start_time": "2022-10-26T12:00:51.091Z"
   },
   {
    "duration": 9,
    "start_time": "2022-10-26T12:00:51.135Z"
   },
   {
    "duration": 10,
    "start_time": "2022-10-26T12:00:51.146Z"
   },
   {
    "duration": 352,
    "start_time": "2022-10-26T12:00:51.159Z"
   },
   {
    "duration": 208,
    "start_time": "2022-10-26T12:00:51.513Z"
   },
   {
    "duration": 242,
    "start_time": "2022-10-26T12:00:51.723Z"
   },
   {
    "duration": 338,
    "start_time": "2022-10-26T12:00:51.967Z"
   },
   {
    "duration": 200,
    "start_time": "2022-10-26T12:00:52.307Z"
   },
   {
    "duration": 316,
    "start_time": "2022-10-26T12:00:52.509Z"
   },
   {
    "duration": 147,
    "start_time": "2022-10-26T12:00:52.828Z"
   },
   {
    "duration": 5,
    "start_time": "2022-10-26T12:00:52.978Z"
   },
   {
    "duration": 15,
    "start_time": "2022-10-26T12:00:52.986Z"
   },
   {
    "duration": 42,
    "start_time": "2022-10-26T12:01:29.122Z"
   },
   {
    "duration": 8,
    "start_time": "2022-10-26T12:01:29.166Z"
   },
   {
    "duration": 9,
    "start_time": "2022-10-26T12:01:29.176Z"
   },
   {
    "duration": 337,
    "start_time": "2022-10-26T12:01:29.187Z"
   },
   {
    "duration": 199,
    "start_time": "2022-10-26T12:01:29.525Z"
   },
   {
    "duration": 198,
    "start_time": "2022-10-26T12:01:29.726Z"
   },
   {
    "duration": 288,
    "start_time": "2022-10-26T12:01:29.926Z"
   },
   {
    "duration": 212,
    "start_time": "2022-10-26T12:01:30.216Z"
   },
   {
    "duration": 284,
    "start_time": "2022-10-26T12:01:30.430Z"
   },
   {
    "duration": 132,
    "start_time": "2022-10-26T12:01:30.716Z"
   },
   {
    "duration": 4,
    "start_time": "2022-10-26T12:01:30.850Z"
   },
   {
    "duration": 26,
    "start_time": "2022-10-26T12:01:30.856Z"
   },
   {
    "duration": 42,
    "start_time": "2022-10-26T12:01:34.856Z"
   },
   {
    "duration": 9,
    "start_time": "2022-10-26T12:01:34.900Z"
   },
   {
    "duration": 27,
    "start_time": "2022-10-26T12:01:34.910Z"
   },
   {
    "duration": 337,
    "start_time": "2022-10-26T12:01:34.940Z"
   },
   {
    "duration": 208,
    "start_time": "2022-10-26T12:01:35.280Z"
   },
   {
    "duration": 194,
    "start_time": "2022-10-26T12:01:35.489Z"
   },
   {
    "duration": 278,
    "start_time": "2022-10-26T12:01:35.685Z"
   },
   {
    "duration": 192,
    "start_time": "2022-10-26T12:01:35.965Z"
   },
   {
    "duration": 257,
    "start_time": "2022-10-26T12:01:36.159Z"
   },
   {
    "duration": 128,
    "start_time": "2022-10-26T12:01:36.423Z"
   },
   {
    "duration": 4,
    "start_time": "2022-10-26T12:01:36.553Z"
   },
   {
    "duration": 144,
    "start_time": "2022-10-26T12:01:36.558Z"
   },
   {
    "duration": 43,
    "start_time": "2022-10-26T12:01:52.427Z"
   },
   {
    "duration": 9,
    "start_time": "2022-10-26T12:01:52.472Z"
   },
   {
    "duration": 17,
    "start_time": "2022-10-26T12:01:52.484Z"
   },
   {
    "duration": 359,
    "start_time": "2022-10-26T12:01:52.504Z"
   },
   {
    "duration": 222,
    "start_time": "2022-10-26T12:01:52.865Z"
   },
   {
    "duration": 204,
    "start_time": "2022-10-26T12:01:53.089Z"
   },
   {
    "duration": 334,
    "start_time": "2022-10-26T12:01:53.295Z"
   },
   {
    "duration": 189,
    "start_time": "2022-10-26T12:01:53.631Z"
   },
   {
    "duration": 281,
    "start_time": "2022-10-26T12:01:53.821Z"
   },
   {
    "duration": 132,
    "start_time": "2022-10-26T12:01:54.104Z"
   },
   {
    "duration": 5,
    "start_time": "2022-10-26T12:01:54.238Z"
   },
   {
    "duration": 157,
    "start_time": "2022-10-26T12:01:54.245Z"
   },
   {
    "duration": 41,
    "start_time": "2022-10-26T12:03:53.018Z"
   },
   {
    "duration": 8,
    "start_time": "2022-10-26T12:03:53.061Z"
   },
   {
    "duration": 9,
    "start_time": "2022-10-26T12:03:53.071Z"
   },
   {
    "duration": 322,
    "start_time": "2022-10-26T12:03:53.082Z"
   },
   {
    "duration": 203,
    "start_time": "2022-10-26T12:03:53.405Z"
   },
   {
    "duration": 204,
    "start_time": "2022-10-26T12:03:53.610Z"
   },
   {
    "duration": 314,
    "start_time": "2022-10-26T12:03:53.816Z"
   },
   {
    "duration": 185,
    "start_time": "2022-10-26T12:03:54.132Z"
   },
   {
    "duration": 327,
    "start_time": "2022-10-26T12:03:54.323Z"
   },
   {
    "duration": 135,
    "start_time": "2022-10-26T12:03:54.652Z"
   },
   {
    "duration": 4,
    "start_time": "2022-10-26T12:03:54.788Z"
   },
   {
    "duration": 156,
    "start_time": "2022-10-26T12:03:54.794Z"
   },
   {
    "duration": 4,
    "start_time": "2022-10-26T12:03:54.952Z"
   },
   {
    "duration": 44,
    "start_time": "2022-10-26T12:32:33.995Z"
   },
   {
    "duration": 9,
    "start_time": "2022-10-26T12:32:34.041Z"
   },
   {
    "duration": 10,
    "start_time": "2022-10-26T12:32:34.051Z"
   },
   {
    "duration": 337,
    "start_time": "2022-10-26T12:32:34.063Z"
   },
   {
    "duration": 205,
    "start_time": "2022-10-26T12:32:34.402Z"
   },
   {
    "duration": 207,
    "start_time": "2022-10-26T12:32:34.608Z"
   },
   {
    "duration": 308,
    "start_time": "2022-10-26T12:32:34.817Z"
   },
   {
    "duration": 198,
    "start_time": "2022-10-26T12:32:35.128Z"
   },
   {
    "duration": 298,
    "start_time": "2022-10-26T12:32:35.328Z"
   },
   {
    "duration": 129,
    "start_time": "2022-10-26T12:32:35.629Z"
   },
   {
    "duration": 5,
    "start_time": "2022-10-26T12:32:35.760Z"
   },
   {
    "duration": 149,
    "start_time": "2022-10-26T12:32:35.767Z"
   },
   {
    "duration": 5,
    "start_time": "2022-10-26T12:32:35.924Z"
   },
   {
    "duration": 1332,
    "start_time": "2022-10-26T12:32:35.930Z"
   },
   {
    "duration": 44,
    "start_time": "2022-10-26T12:38:12.107Z"
   },
   {
    "duration": 10,
    "start_time": "2022-10-26T12:38:12.153Z"
   },
   {
    "duration": 14,
    "start_time": "2022-10-26T12:38:12.164Z"
   },
   {
    "duration": 364,
    "start_time": "2022-10-26T12:38:12.180Z"
   },
   {
    "duration": 215,
    "start_time": "2022-10-26T12:38:12.546Z"
   },
   {
    "duration": 218,
    "start_time": "2022-10-26T12:38:12.763Z"
   },
   {
    "duration": 286,
    "start_time": "2022-10-26T12:38:12.983Z"
   },
   {
    "duration": 206,
    "start_time": "2022-10-26T12:38:13.270Z"
   },
   {
    "duration": 279,
    "start_time": "2022-10-26T12:38:13.478Z"
   },
   {
    "duration": 154,
    "start_time": "2022-10-26T12:38:13.760Z"
   },
   {
    "duration": 10,
    "start_time": "2022-10-26T12:38:13.916Z"
   },
   {
    "duration": 144,
    "start_time": "2022-10-26T12:38:13.928Z"
   },
   {
    "duration": 4,
    "start_time": "2022-10-26T12:38:14.074Z"
   },
   {
    "duration": 213,
    "start_time": "2022-10-26T12:38:14.082Z"
   },
   {
    "duration": 48,
    "start_time": "2022-10-26T12:38:45.643Z"
   },
   {
    "duration": 9,
    "start_time": "2022-10-26T12:38:45.694Z"
   },
   {
    "duration": 10,
    "start_time": "2022-10-26T12:38:45.705Z"
   },
   {
    "duration": 341,
    "start_time": "2022-10-26T12:38:45.718Z"
   },
   {
    "duration": 199,
    "start_time": "2022-10-26T12:38:46.060Z"
   },
   {
    "duration": 659,
    "start_time": "2022-10-26T12:38:46.260Z"
   },
   {
    "duration": 288,
    "start_time": "2022-10-26T12:38:46.923Z"
   },
   {
    "duration": 195,
    "start_time": "2022-10-26T12:38:47.212Z"
   },
   {
    "duration": 294,
    "start_time": "2022-10-26T12:38:47.410Z"
   },
   {
    "duration": 129,
    "start_time": "2022-10-26T12:38:47.706Z"
   },
   {
    "duration": 5,
    "start_time": "2022-10-26T12:38:47.837Z"
   },
   {
    "duration": 163,
    "start_time": "2022-10-26T12:38:47.844Z"
   },
   {
    "duration": 4,
    "start_time": "2022-10-26T12:38:48.009Z"
   },
   {
    "duration": 538,
    "start_time": "2022-10-26T12:38:48.015Z"
   },
   {
    "duration": 54,
    "start_time": "2022-10-26T12:44:11.860Z"
   },
   {
    "duration": 12,
    "start_time": "2022-10-26T12:44:11.916Z"
   },
   {
    "duration": 13,
    "start_time": "2022-10-26T12:44:11.933Z"
   },
   {
    "duration": 362,
    "start_time": "2022-10-26T12:44:11.950Z"
   },
   {
    "duration": 213,
    "start_time": "2022-10-26T12:44:12.314Z"
   },
   {
    "duration": 217,
    "start_time": "2022-10-26T12:44:12.529Z"
   },
   {
    "duration": 290,
    "start_time": "2022-10-26T12:44:12.748Z"
   },
   {
    "duration": 206,
    "start_time": "2022-10-26T12:44:13.041Z"
   },
   {
    "duration": 298,
    "start_time": "2022-10-26T12:44:13.249Z"
   },
   {
    "duration": 131,
    "start_time": "2022-10-26T12:44:13.550Z"
   },
   {
    "duration": 5,
    "start_time": "2022-10-26T12:44:13.683Z"
   },
   {
    "duration": 160,
    "start_time": "2022-10-26T12:44:13.690Z"
   },
   {
    "duration": 4,
    "start_time": "2022-10-26T12:44:13.852Z"
   },
   {
    "duration": 565,
    "start_time": "2022-10-26T12:44:13.859Z"
   },
   {
    "duration": 10,
    "start_time": "2022-10-26T12:44:14.426Z"
   },
   {
    "duration": 49,
    "start_time": "2022-10-26T12:44:21.878Z"
   },
   {
    "duration": 12,
    "start_time": "2022-10-26T12:44:21.930Z"
   },
   {
    "duration": 12,
    "start_time": "2022-10-26T12:44:21.944Z"
   },
   {
    "duration": 354,
    "start_time": "2022-10-26T12:44:21.959Z"
   },
   {
    "duration": 208,
    "start_time": "2022-10-26T12:44:22.315Z"
   },
   {
    "duration": 211,
    "start_time": "2022-10-26T12:44:22.525Z"
   },
   {
    "duration": 311,
    "start_time": "2022-10-26T12:44:22.738Z"
   },
   {
    "duration": 199,
    "start_time": "2022-10-26T12:44:23.050Z"
   },
   {
    "duration": 299,
    "start_time": "2022-10-26T12:44:23.252Z"
   },
   {
    "duration": 127,
    "start_time": "2022-10-26T12:44:23.554Z"
   },
   {
    "duration": 4,
    "start_time": "2022-10-26T12:44:23.683Z"
   },
   {
    "duration": 206,
    "start_time": "2022-10-26T12:44:23.689Z"
   },
   {
    "duration": 5,
    "start_time": "2022-10-26T12:44:23.896Z"
   },
   {
    "duration": 634,
    "start_time": "2022-10-26T12:44:23.902Z"
   },
   {
    "duration": 9,
    "start_time": "2022-10-26T12:44:24.538Z"
   },
   {
    "duration": 42,
    "start_time": "2022-10-26T12:58:00.695Z"
   },
   {
    "duration": 9,
    "start_time": "2022-10-26T12:58:00.739Z"
   },
   {
    "duration": 13,
    "start_time": "2022-10-26T12:58:00.749Z"
   },
   {
    "duration": 327,
    "start_time": "2022-10-26T12:58:00.764Z"
   },
   {
    "duration": 201,
    "start_time": "2022-10-26T12:58:01.093Z"
   },
   {
    "duration": 203,
    "start_time": "2022-10-26T12:58:01.295Z"
   },
   {
    "duration": 307,
    "start_time": "2022-10-26T12:58:01.500Z"
   },
   {
    "duration": 251,
    "start_time": "2022-10-26T12:58:01.809Z"
   },
   {
    "duration": 268,
    "start_time": "2022-10-26T12:58:02.062Z"
   },
   {
    "duration": 120,
    "start_time": "2022-10-26T12:58:02.332Z"
   },
   {
    "duration": 4,
    "start_time": "2022-10-26T12:58:02.453Z"
   },
   {
    "duration": 171,
    "start_time": "2022-10-26T12:58:02.459Z"
   },
   {
    "duration": 5,
    "start_time": "2022-10-26T12:58:02.631Z"
   },
   {
    "duration": 589,
    "start_time": "2022-10-26T12:58:02.638Z"
   },
   {
    "duration": 9,
    "start_time": "2022-10-26T12:58:03.229Z"
   },
   {
    "duration": 18,
    "start_time": "2022-10-26T12:58:03.240Z"
   },
   {
    "duration": 43,
    "start_time": "2022-10-26T13:02:15.592Z"
   },
   {
    "duration": 11,
    "start_time": "2022-10-26T13:02:15.637Z"
   },
   {
    "duration": 35,
    "start_time": "2022-10-26T13:02:15.650Z"
   },
   {
    "duration": 393,
    "start_time": "2022-10-26T13:02:15.688Z"
   },
   {
    "duration": 225,
    "start_time": "2022-10-26T13:02:16.083Z"
   },
   {
    "duration": 202,
    "start_time": "2022-10-26T13:02:16.313Z"
   },
   {
    "duration": 294,
    "start_time": "2022-10-26T13:02:16.516Z"
   },
   {
    "duration": 191,
    "start_time": "2022-10-26T13:02:16.811Z"
   },
   {
    "duration": 294,
    "start_time": "2022-10-26T13:02:17.005Z"
   },
   {
    "duration": 139,
    "start_time": "2022-10-26T13:02:17.302Z"
   },
   {
    "duration": 4,
    "start_time": "2022-10-26T13:02:17.443Z"
   },
   {
    "duration": 162,
    "start_time": "2022-10-26T13:02:17.448Z"
   },
   {
    "duration": 5,
    "start_time": "2022-10-26T13:02:17.612Z"
   },
   {
    "duration": 528,
    "start_time": "2022-10-26T13:02:17.624Z"
   },
   {
    "duration": 10,
    "start_time": "2022-10-26T13:02:18.154Z"
   },
   {
    "duration": 13,
    "start_time": "2022-10-26T13:02:18.165Z"
   },
   {
    "duration": 24,
    "start_time": "2022-10-26T13:02:18.180Z"
   },
   {
    "duration": 0,
    "start_time": "2022-10-26T13:02:18.206Z"
   },
   {
    "duration": 42,
    "start_time": "2022-10-26T13:02:49.982Z"
   },
   {
    "duration": 8,
    "start_time": "2022-10-26T13:02:50.026Z"
   },
   {
    "duration": 10,
    "start_time": "2022-10-26T13:02:50.036Z"
   },
   {
    "duration": 344,
    "start_time": "2022-10-26T13:02:50.049Z"
   },
   {
    "duration": 196,
    "start_time": "2022-10-26T13:02:50.394Z"
   },
   {
    "duration": 191,
    "start_time": "2022-10-26T13:02:50.592Z"
   },
   {
    "duration": 278,
    "start_time": "2022-10-26T13:02:50.785Z"
   },
   {
    "duration": 187,
    "start_time": "2022-10-26T13:02:51.065Z"
   },
   {
    "duration": 255,
    "start_time": "2022-10-26T13:02:51.254Z"
   },
   {
    "duration": 128,
    "start_time": "2022-10-26T13:02:51.512Z"
   },
   {
    "duration": 4,
    "start_time": "2022-10-26T13:02:51.642Z"
   },
   {
    "duration": 153,
    "start_time": "2022-10-26T13:02:51.647Z"
   },
   {
    "duration": 4,
    "start_time": "2022-10-26T13:02:51.801Z"
   },
   {
    "duration": 611,
    "start_time": "2022-10-26T13:02:51.807Z"
   },
   {
    "duration": 9,
    "start_time": "2022-10-26T13:02:52.424Z"
   },
   {
    "duration": 11,
    "start_time": "2022-10-26T13:02:52.435Z"
   },
   {
    "duration": 14,
    "start_time": "2022-10-26T13:02:52.448Z"
   },
   {
    "duration": 390,
    "start_time": "2022-10-26T13:02:52.464Z"
   },
   {
    "duration": 49,
    "start_time": "2022-10-26T13:03:00.561Z"
   },
   {
    "duration": 9,
    "start_time": "2022-10-26T13:03:00.612Z"
   },
   {
    "duration": 22,
    "start_time": "2022-10-26T13:03:00.622Z"
   },
   {
    "duration": 352,
    "start_time": "2022-10-26T13:03:00.646Z"
   },
   {
    "duration": 206,
    "start_time": "2022-10-26T13:03:01.000Z"
   },
   {
    "duration": 211,
    "start_time": "2022-10-26T13:03:01.208Z"
   },
   {
    "duration": 316,
    "start_time": "2022-10-26T13:03:01.424Z"
   },
   {
    "duration": 255,
    "start_time": "2022-10-26T13:03:01.742Z"
   },
   {
    "duration": 326,
    "start_time": "2022-10-26T13:03:01.999Z"
   },
   {
    "duration": 127,
    "start_time": "2022-10-26T13:03:02.328Z"
   },
   {
    "duration": 5,
    "start_time": "2022-10-26T13:03:02.457Z"
   },
   {
    "duration": 162,
    "start_time": "2022-10-26T13:03:02.463Z"
   },
   {
    "duration": 5,
    "start_time": "2022-10-26T13:03:02.627Z"
   },
   {
    "duration": 573,
    "start_time": "2022-10-26T13:03:02.634Z"
   },
   {
    "duration": 15,
    "start_time": "2022-10-26T13:03:03.209Z"
   },
   {
    "duration": 11,
    "start_time": "2022-10-26T13:03:03.225Z"
   },
   {
    "duration": 25,
    "start_time": "2022-10-26T13:03:03.238Z"
   },
   {
    "duration": 376,
    "start_time": "2022-10-26T13:03:03.265Z"
   },
   {
    "duration": 71,
    "start_time": "2022-10-26T13:07:17.690Z"
   },
   {
    "duration": 42,
    "start_time": "2022-10-26T13:08:24.973Z"
   },
   {
    "duration": 8,
    "start_time": "2022-10-26T13:08:25.017Z"
   },
   {
    "duration": 21,
    "start_time": "2022-10-26T13:08:25.027Z"
   },
   {
    "duration": 361,
    "start_time": "2022-10-26T13:08:25.050Z"
   },
   {
    "duration": 200,
    "start_time": "2022-10-26T13:08:25.413Z"
   },
   {
    "duration": 185,
    "start_time": "2022-10-26T13:08:25.615Z"
   },
   {
    "duration": 301,
    "start_time": "2022-10-26T13:08:25.801Z"
   },
   {
    "duration": 201,
    "start_time": "2022-10-26T13:08:26.104Z"
   },
   {
    "duration": 284,
    "start_time": "2022-10-26T13:08:26.307Z"
   },
   {
    "duration": 124,
    "start_time": "2022-10-26T13:08:26.594Z"
   },
   {
    "duration": 6,
    "start_time": "2022-10-26T13:08:26.719Z"
   },
   {
    "duration": 145,
    "start_time": "2022-10-26T13:08:26.727Z"
   },
   {
    "duration": 4,
    "start_time": "2022-10-26T13:08:26.873Z"
   },
   {
    "duration": 531,
    "start_time": "2022-10-26T13:08:26.878Z"
   },
   {
    "duration": 16,
    "start_time": "2022-10-26T13:08:27.411Z"
   },
   {
    "duration": 21,
    "start_time": "2022-10-26T13:08:27.429Z"
   },
   {
    "duration": 16,
    "start_time": "2022-10-26T13:08:27.452Z"
   },
   {
    "duration": 375,
    "start_time": "2022-10-26T13:08:27.470Z"
   },
   {
    "duration": 11,
    "start_time": "2022-10-26T13:08:27.847Z"
   },
   {
    "duration": 44,
    "start_time": "2022-10-26T13:08:46.299Z"
   },
   {
    "duration": 8,
    "start_time": "2022-10-26T13:08:46.345Z"
   },
   {
    "duration": 11,
    "start_time": "2022-10-26T13:08:46.355Z"
   },
   {
    "duration": 332,
    "start_time": "2022-10-26T13:08:46.368Z"
   },
   {
    "duration": 204,
    "start_time": "2022-10-26T13:08:46.703Z"
   },
   {
    "duration": 200,
    "start_time": "2022-10-26T13:08:46.909Z"
   },
   {
    "duration": 294,
    "start_time": "2022-10-26T13:08:47.111Z"
   },
   {
    "duration": 201,
    "start_time": "2022-10-26T13:08:47.407Z"
   },
   {
    "duration": 304,
    "start_time": "2022-10-26T13:08:47.609Z"
   },
   {
    "duration": 124,
    "start_time": "2022-10-26T13:08:47.914Z"
   },
   {
    "duration": 5,
    "start_time": "2022-10-26T13:08:48.040Z"
   },
   {
    "duration": 156,
    "start_time": "2022-10-26T13:08:48.047Z"
   },
   {
    "duration": 5,
    "start_time": "2022-10-26T13:08:48.205Z"
   },
   {
    "duration": 497,
    "start_time": "2022-10-26T13:08:48.223Z"
   },
   {
    "duration": 8,
    "start_time": "2022-10-26T13:08:48.722Z"
   },
   {
    "duration": 10,
    "start_time": "2022-10-26T13:08:48.732Z"
   },
   {
    "duration": 15,
    "start_time": "2022-10-26T13:08:48.743Z"
   },
   {
    "duration": 377,
    "start_time": "2022-10-26T13:08:48.760Z"
   },
   {
    "duration": 14,
    "start_time": "2022-10-26T13:08:49.138Z"
   },
   {
    "duration": 45,
    "start_time": "2022-10-26T13:09:00.202Z"
   },
   {
    "duration": 9,
    "start_time": "2022-10-26T13:09:00.250Z"
   },
   {
    "duration": 18,
    "start_time": "2022-10-26T13:09:00.262Z"
   },
   {
    "duration": 358,
    "start_time": "2022-10-26T13:09:00.282Z"
   },
   {
    "duration": 204,
    "start_time": "2022-10-26T13:09:00.642Z"
   },
   {
    "duration": 188,
    "start_time": "2022-10-26T13:09:00.848Z"
   },
   {
    "duration": 286,
    "start_time": "2022-10-26T13:09:01.038Z"
   },
   {
    "duration": 201,
    "start_time": "2022-10-26T13:09:01.326Z"
   },
   {
    "duration": 299,
    "start_time": "2022-10-26T13:09:01.529Z"
   },
   {
    "duration": 160,
    "start_time": "2022-10-26T13:09:01.831Z"
   },
   {
    "duration": 6,
    "start_time": "2022-10-26T13:09:01.993Z"
   },
   {
    "duration": 182,
    "start_time": "2022-10-26T13:09:02.001Z"
   },
   {
    "duration": 5,
    "start_time": "2022-10-26T13:09:02.185Z"
   },
   {
    "duration": 534,
    "start_time": "2022-10-26T13:09:02.192Z"
   },
   {
    "duration": 10,
    "start_time": "2022-10-26T13:09:02.728Z"
   },
   {
    "duration": 11,
    "start_time": "2022-10-26T13:09:02.741Z"
   },
   {
    "duration": 15,
    "start_time": "2022-10-26T13:09:02.754Z"
   },
   {
    "duration": 395,
    "start_time": "2022-10-26T13:09:02.771Z"
   },
   {
    "duration": 11,
    "start_time": "2022-10-26T13:09:03.168Z"
   },
   {
    "duration": 1324,
    "start_time": "2022-10-26T15:21:17.416Z"
   },
   {
    "duration": 8,
    "start_time": "2022-10-26T15:21:18.742Z"
   },
   {
    "duration": 17,
    "start_time": "2022-10-26T15:21:18.751Z"
   },
   {
    "duration": 497,
    "start_time": "2022-10-26T15:21:18.770Z"
   },
   {
    "duration": 255,
    "start_time": "2022-10-26T15:21:19.269Z"
   },
   {
    "duration": 161,
    "start_time": "2022-10-26T15:21:19.525Z"
   },
   {
    "duration": 321,
    "start_time": "2022-10-26T15:21:19.687Z"
   },
   {
    "duration": 170,
    "start_time": "2022-10-26T15:21:20.010Z"
   },
   {
    "duration": 272,
    "start_time": "2022-10-26T15:21:20.182Z"
   },
   {
    "duration": 104,
    "start_time": "2022-10-26T15:21:20.456Z"
   },
   {
    "duration": 4,
    "start_time": "2022-10-26T15:21:20.562Z"
   },
   {
    "duration": 119,
    "start_time": "2022-10-26T15:21:20.567Z"
   },
   {
    "duration": 14,
    "start_time": "2022-10-26T15:21:20.688Z"
   },
   {
    "duration": 428,
    "start_time": "2022-10-26T15:21:20.704Z"
   },
   {
    "duration": 7,
    "start_time": "2022-10-26T15:21:21.134Z"
   },
   {
    "duration": 9,
    "start_time": "2022-10-26T15:21:21.143Z"
   },
   {
    "duration": 18,
    "start_time": "2022-10-26T15:21:21.153Z"
   },
   {
    "duration": 311,
    "start_time": "2022-10-26T15:21:21.173Z"
   },
   {
    "duration": 15,
    "start_time": "2022-10-26T15:21:21.485Z"
   },
   {
    "duration": 1223,
    "start_time": "2022-10-27T11:54:41.645Z"
   },
   {
    "duration": 9,
    "start_time": "2022-10-27T11:54:42.871Z"
   },
   {
    "duration": 26,
    "start_time": "2022-10-27T11:54:42.882Z"
   },
   {
    "duration": 351,
    "start_time": "2022-10-27T11:54:42.910Z"
   },
   {
    "duration": 266,
    "start_time": "2022-10-27T11:54:43.264Z"
   },
   {
    "duration": 199,
    "start_time": "2022-10-27T11:54:43.531Z"
   },
   {
    "duration": 308,
    "start_time": "2022-10-27T11:54:43.732Z"
   },
   {
    "duration": 191,
    "start_time": "2022-10-27T11:54:44.042Z"
   },
   {
    "duration": 302,
    "start_time": "2022-10-27T11:54:44.235Z"
   },
   {
    "duration": 136,
    "start_time": "2022-10-27T11:54:44.540Z"
   },
   {
    "duration": 5,
    "start_time": "2022-10-27T11:54:44.678Z"
   },
   {
    "duration": 150,
    "start_time": "2022-10-27T11:54:44.685Z"
   },
   {
    "duration": 4,
    "start_time": "2022-10-27T11:54:44.837Z"
   },
   {
    "duration": 495,
    "start_time": "2022-10-27T11:54:44.843Z"
   },
   {
    "duration": 18,
    "start_time": "2022-10-27T11:54:45.340Z"
   },
   {
    "duration": 12,
    "start_time": "2022-10-27T11:54:45.360Z"
   },
   {
    "duration": 22,
    "start_time": "2022-10-27T11:54:45.374Z"
   },
   {
    "duration": 356,
    "start_time": "2022-10-27T11:54:45.398Z"
   },
   {
    "duration": 12,
    "start_time": "2022-10-27T11:54:45.755Z"
   },
   {
    "duration": 44,
    "start_time": "2022-10-27T12:21:10.783Z"
   },
   {
    "duration": 15,
    "start_time": "2022-10-27T12:21:10.830Z"
   },
   {
    "duration": 47,
    "start_time": "2022-10-27T12:21:27.374Z"
   },
   {
    "duration": 12,
    "start_time": "2022-10-27T12:21:27.423Z"
   },
   {
    "duration": 15,
    "start_time": "2022-10-27T12:21:27.437Z"
   },
   {
    "duration": 358,
    "start_time": "2022-10-27T12:21:27.454Z"
   },
   {
    "duration": 223,
    "start_time": "2022-10-27T12:21:27.815Z"
   },
   {
    "duration": 331,
    "start_time": "2022-10-27T12:21:28.040Z"
   },
   {
    "duration": 324,
    "start_time": "2022-10-27T12:21:28.373Z"
   },
   {
    "duration": 214,
    "start_time": "2022-10-27T12:21:28.699Z"
   },
   {
    "duration": 317,
    "start_time": "2022-10-27T12:21:28.916Z"
   },
   {
    "duration": 133,
    "start_time": "2022-10-27T12:21:29.235Z"
   },
   {
    "duration": 5,
    "start_time": "2022-10-27T12:21:29.370Z"
   },
   {
    "duration": 163,
    "start_time": "2022-10-27T12:21:29.377Z"
   },
   {
    "duration": 13,
    "start_time": "2022-10-27T12:21:29.543Z"
   },
   {
    "duration": 504,
    "start_time": "2022-10-27T12:21:29.559Z"
   },
   {
    "duration": 10,
    "start_time": "2022-10-27T12:21:30.065Z"
   },
   {
    "duration": 20,
    "start_time": "2022-10-27T12:21:30.077Z"
   },
   {
    "duration": 39,
    "start_time": "2022-10-27T12:21:30.100Z"
   },
   {
    "duration": 354,
    "start_time": "2022-10-27T12:21:30.141Z"
   },
   {
    "duration": 12,
    "start_time": "2022-10-27T12:21:30.497Z"
   },
   {
    "duration": 43,
    "start_time": "2022-10-27T12:27:48.309Z"
   },
   {
    "duration": 12,
    "start_time": "2022-10-27T12:27:48.354Z"
   },
   {
    "duration": 26,
    "start_time": "2022-10-27T12:27:48.368Z"
   },
   {
    "duration": 127,
    "start_time": "2022-10-27T12:27:48.397Z"
   },
   {
    "duration": 20,
    "start_time": "2022-10-27T12:27:48.527Z"
   },
   {
    "duration": 48,
    "start_time": "2022-10-27T12:28:04.380Z"
   },
   {
    "duration": 16,
    "start_time": "2022-10-27T12:28:04.431Z"
   },
   {
    "duration": 16,
    "start_time": "2022-10-27T12:28:04.449Z"
   },
   {
    "duration": 91,
    "start_time": "2022-10-27T12:28:04.468Z"
   },
   {
    "duration": 24,
    "start_time": "2022-10-27T12:28:04.561Z"
   },
   {
    "duration": 43,
    "start_time": "2022-10-27T12:28:33.567Z"
   },
   {
    "duration": 12,
    "start_time": "2022-10-27T12:28:33.612Z"
   },
   {
    "duration": 14,
    "start_time": "2022-10-27T12:28:33.627Z"
   },
   {
    "duration": 81,
    "start_time": "2022-10-27T12:28:33.644Z"
   },
   {
    "duration": 39,
    "start_time": "2022-10-27T12:28:33.727Z"
   },
   {
    "duration": 46,
    "start_time": "2022-10-27T12:29:14.078Z"
   },
   {
    "duration": 127,
    "start_time": "2022-10-27T12:29:14.127Z"
   },
   {
    "duration": 158,
    "start_time": "2022-10-27T12:29:14.256Z"
   },
   {
    "duration": 148,
    "start_time": "2022-10-27T12:29:14.416Z"
   },
   {
    "duration": 40,
    "start_time": "2022-10-27T12:29:14.566Z"
   },
   {
    "duration": 43,
    "start_time": "2022-10-27T12:33:37.582Z"
   },
   {
    "duration": 13,
    "start_time": "2022-10-27T12:33:37.627Z"
   },
   {
    "duration": 37,
    "start_time": "2022-10-27T12:33:37.642Z"
   },
   {
    "duration": 130,
    "start_time": "2022-10-27T12:33:37.681Z"
   },
   {
    "duration": 31,
    "start_time": "2022-10-27T12:33:37.813Z"
   },
   {
    "duration": 286,
    "start_time": "2022-10-27T12:33:37.845Z"
   },
   {
    "duration": 220,
    "start_time": "2022-10-27T12:33:38.133Z"
   },
   {
    "duration": 45,
    "start_time": "2022-10-27T12:36:54.063Z"
   },
   {
    "duration": 11,
    "start_time": "2022-10-27T12:36:54.110Z"
   },
   {
    "duration": 41,
    "start_time": "2022-10-27T12:36:54.123Z"
   },
   {
    "duration": 74,
    "start_time": "2022-10-27T12:36:54.167Z"
   },
   {
    "duration": 43,
    "start_time": "2022-10-27T12:36:54.243Z"
   },
   {
    "duration": 293,
    "start_time": "2022-10-27T12:36:54.288Z"
   },
   {
    "duration": 214,
    "start_time": "2022-10-27T12:36:54.583Z"
   },
   {
    "duration": 210,
    "start_time": "2022-10-27T12:36:54.799Z"
   },
   {
    "duration": 267,
    "start_time": "2022-10-27T12:36:55.011Z"
   },
   {
    "duration": 211,
    "start_time": "2022-10-27T12:36:55.281Z"
   },
   {
    "duration": 42,
    "start_time": "2022-10-27T12:37:24.457Z"
   },
   {
    "duration": 10,
    "start_time": "2022-10-27T12:37:24.502Z"
   },
   {
    "duration": 24,
    "start_time": "2022-10-27T12:37:24.514Z"
   },
   {
    "duration": 78,
    "start_time": "2022-10-27T12:37:24.541Z"
   },
   {
    "duration": 32,
    "start_time": "2022-10-27T12:37:24.621Z"
   },
   {
    "duration": 281,
    "start_time": "2022-10-27T12:37:24.654Z"
   },
   {
    "duration": 213,
    "start_time": "2022-10-27T12:37:24.937Z"
   },
   {
    "duration": 324,
    "start_time": "2022-10-27T12:37:25.153Z"
   },
   {
    "duration": 266,
    "start_time": "2022-10-27T12:37:25.479Z"
   },
   {
    "duration": 208,
    "start_time": "2022-10-27T12:37:25.753Z"
   },
   {
    "duration": 293,
    "start_time": "2022-10-27T12:37:25.963Z"
   },
   {
    "duration": 141,
    "start_time": "2022-10-27T12:37:26.258Z"
   },
   {
    "duration": 42,
    "start_time": "2022-10-27T12:38:24.159Z"
   },
   {
    "duration": 11,
    "start_time": "2022-10-27T12:38:24.204Z"
   },
   {
    "duration": 16,
    "start_time": "2022-10-27T12:38:24.217Z"
   },
   {
    "duration": 86,
    "start_time": "2022-10-27T12:38:24.236Z"
   },
   {
    "duration": 31,
    "start_time": "2022-10-27T12:38:24.324Z"
   },
   {
    "duration": 267,
    "start_time": "2022-10-27T12:38:24.357Z"
   },
   {
    "duration": 225,
    "start_time": "2022-10-27T12:38:24.626Z"
   },
   {
    "duration": 205,
    "start_time": "2022-10-27T12:38:24.854Z"
   },
   {
    "duration": 278,
    "start_time": "2022-10-27T12:38:25.061Z"
   },
   {
    "duration": 215,
    "start_time": "2022-10-27T12:38:25.341Z"
   },
   {
    "duration": 285,
    "start_time": "2022-10-27T12:38:25.558Z"
   },
   {
    "duration": 140,
    "start_time": "2022-10-27T12:38:25.844Z"
   },
   {
    "duration": 5,
    "start_time": "2022-10-27T12:38:25.986Z"
   },
   {
    "duration": 45,
    "start_time": "2022-10-27T12:40:36.811Z"
   },
   {
    "duration": 13,
    "start_time": "2022-10-27T12:40:36.858Z"
   },
   {
    "duration": 35,
    "start_time": "2022-10-27T12:40:36.873Z"
   },
   {
    "duration": 83,
    "start_time": "2022-10-27T12:40:36.910Z"
   },
   {
    "duration": 35,
    "start_time": "2022-10-27T12:40:36.995Z"
   },
   {
    "duration": 289,
    "start_time": "2022-10-27T12:40:37.032Z"
   },
   {
    "duration": 200,
    "start_time": "2022-10-27T12:40:37.324Z"
   },
   {
    "duration": 204,
    "start_time": "2022-10-27T12:40:37.526Z"
   },
   {
    "duration": 298,
    "start_time": "2022-10-27T12:40:37.732Z"
   },
   {
    "duration": 372,
    "start_time": "2022-10-27T12:40:38.034Z"
   },
   {
    "duration": 330,
    "start_time": "2022-10-27T12:40:38.408Z"
   },
   {
    "duration": 141,
    "start_time": "2022-10-27T12:40:38.740Z"
   },
   {
    "duration": 5,
    "start_time": "2022-10-27T12:40:38.883Z"
   },
   {
    "duration": 151,
    "start_time": "2022-10-27T12:40:38.890Z"
   },
   {
    "duration": 4,
    "start_time": "2022-10-27T12:40:39.043Z"
   },
   {
    "duration": 46,
    "start_time": "2022-10-27T12:41:54.250Z"
   },
   {
    "duration": 13,
    "start_time": "2022-10-27T12:41:54.298Z"
   },
   {
    "duration": 26,
    "start_time": "2022-10-27T12:41:54.313Z"
   },
   {
    "duration": 76,
    "start_time": "2022-10-27T12:41:54.341Z"
   },
   {
    "duration": 35,
    "start_time": "2022-10-27T12:41:54.419Z"
   },
   {
    "duration": 285,
    "start_time": "2022-10-27T12:41:54.456Z"
   },
   {
    "duration": 201,
    "start_time": "2022-10-27T12:41:54.743Z"
   },
   {
    "duration": 210,
    "start_time": "2022-10-27T12:41:54.946Z"
   },
   {
    "duration": 269,
    "start_time": "2022-10-27T12:41:55.158Z"
   },
   {
    "duration": 220,
    "start_time": "2022-10-27T12:41:55.430Z"
   },
   {
    "duration": 285,
    "start_time": "2022-10-27T12:41:55.653Z"
   },
   {
    "duration": 144,
    "start_time": "2022-10-27T12:41:55.940Z"
   },
   {
    "duration": 4,
    "start_time": "2022-10-27T12:41:56.086Z"
   },
   {
    "duration": 167,
    "start_time": "2022-10-27T12:41:56.092Z"
   },
   {
    "duration": 5,
    "start_time": "2022-10-27T12:41:56.260Z"
   },
   {
    "duration": 497,
    "start_time": "2022-10-27T12:41:56.266Z"
   },
   {
    "duration": 46,
    "start_time": "2022-10-27T12:42:23.376Z"
   },
   {
    "duration": 16,
    "start_time": "2022-10-27T12:42:23.425Z"
   },
   {
    "duration": 29,
    "start_time": "2022-10-27T12:42:23.443Z"
   },
   {
    "duration": 89,
    "start_time": "2022-10-27T12:42:23.475Z"
   },
   {
    "duration": 35,
    "start_time": "2022-10-27T12:42:23.567Z"
   },
   {
    "duration": 306,
    "start_time": "2022-10-27T12:42:23.604Z"
   },
   {
    "duration": 209,
    "start_time": "2022-10-27T12:42:23.912Z"
   },
   {
    "duration": 210,
    "start_time": "2022-10-27T12:42:24.123Z"
   },
   {
    "duration": 292,
    "start_time": "2022-10-27T12:42:24.336Z"
   },
   {
    "duration": 220,
    "start_time": "2022-10-27T12:42:24.630Z"
   },
   {
    "duration": 408,
    "start_time": "2022-10-27T12:42:24.854Z"
   },
   {
    "duration": 139,
    "start_time": "2022-10-27T12:42:25.264Z"
   },
   {
    "duration": 4,
    "start_time": "2022-10-27T12:42:25.405Z"
   },
   {
    "duration": 159,
    "start_time": "2022-10-27T12:42:25.411Z"
   },
   {
    "duration": 5,
    "start_time": "2022-10-27T12:42:25.572Z"
   },
   {
    "duration": 481,
    "start_time": "2022-10-27T12:42:25.579Z"
   },
   {
    "duration": 9,
    "start_time": "2022-10-27T12:42:26.062Z"
   },
   {
    "duration": 43,
    "start_time": "2022-10-27T12:42:40.564Z"
   },
   {
    "duration": 12,
    "start_time": "2022-10-27T12:42:40.609Z"
   },
   {
    "duration": 14,
    "start_time": "2022-10-27T12:42:40.623Z"
   },
   {
    "duration": 81,
    "start_time": "2022-10-27T12:42:40.640Z"
   },
   {
    "duration": 35,
    "start_time": "2022-10-27T12:42:40.723Z"
   },
   {
    "duration": 279,
    "start_time": "2022-10-27T12:42:40.760Z"
   },
   {
    "duration": 219,
    "start_time": "2022-10-27T12:42:41.040Z"
   },
   {
    "duration": 247,
    "start_time": "2022-10-27T12:42:41.262Z"
   },
   {
    "duration": 361,
    "start_time": "2022-10-27T12:42:41.511Z"
   },
   {
    "duration": 223,
    "start_time": "2022-10-27T12:42:41.875Z"
   },
   {
    "duration": 256,
    "start_time": "2022-10-27T12:42:42.100Z"
   },
   {
    "duration": 152,
    "start_time": "2022-10-27T12:42:42.358Z"
   },
   {
    "duration": 5,
    "start_time": "2022-10-27T12:42:42.512Z"
   },
   {
    "duration": 155,
    "start_time": "2022-10-27T12:42:42.518Z"
   },
   {
    "duration": 5,
    "start_time": "2022-10-27T12:42:42.676Z"
   },
   {
    "duration": 505,
    "start_time": "2022-10-27T12:42:42.683Z"
   },
   {
    "duration": 8,
    "start_time": "2022-10-27T12:42:43.190Z"
   },
   {
    "duration": 108,
    "start_time": "2022-10-27T12:42:43.200Z"
   },
   {
    "duration": 43,
    "start_time": "2022-10-27T12:43:27.416Z"
   },
   {
    "duration": 16,
    "start_time": "2022-10-27T12:43:27.462Z"
   },
   {
    "duration": 19,
    "start_time": "2022-10-27T12:43:27.480Z"
   },
   {
    "duration": 71,
    "start_time": "2022-10-27T12:43:27.502Z"
   },
   {
    "duration": 33,
    "start_time": "2022-10-27T12:43:27.575Z"
   },
   {
    "duration": 281,
    "start_time": "2022-10-27T12:43:27.609Z"
   },
   {
    "duration": 210,
    "start_time": "2022-10-27T12:43:27.893Z"
   },
   {
    "duration": 217,
    "start_time": "2022-10-27T12:43:28.106Z"
   },
   {
    "duration": 314,
    "start_time": "2022-10-27T12:43:28.325Z"
   },
   {
    "duration": 235,
    "start_time": "2022-10-27T12:43:28.642Z"
   },
   {
    "duration": 285,
    "start_time": "2022-10-27T12:43:28.879Z"
   },
   {
    "duration": 144,
    "start_time": "2022-10-27T12:43:29.166Z"
   },
   {
    "duration": 5,
    "start_time": "2022-10-27T12:43:29.311Z"
   },
   {
    "duration": 308,
    "start_time": "2022-10-27T12:43:29.317Z"
   },
   {
    "duration": 5,
    "start_time": "2022-10-27T12:43:29.627Z"
   },
   {
    "duration": 485,
    "start_time": "2022-10-27T12:43:29.633Z"
   },
   {
    "duration": 8,
    "start_time": "2022-10-27T12:43:30.120Z"
   },
   {
    "duration": 38,
    "start_time": "2022-10-27T12:43:30.130Z"
   },
   {
    "duration": 43,
    "start_time": "2022-10-27T12:43:30.171Z"
   },
   {
    "duration": 390,
    "start_time": "2022-10-27T12:43:30.216Z"
   },
   {
    "duration": 1214,
    "start_time": "2022-10-27T15:09:28.782Z"
   },
   {
    "duration": 12,
    "start_time": "2022-10-27T15:09:29.998Z"
   },
   {
    "duration": 59,
    "start_time": "2022-10-27T15:09:30.016Z"
   },
   {
    "duration": 128,
    "start_time": "2022-10-27T15:09:30.077Z"
   },
   {
    "duration": 62,
    "start_time": "2022-10-27T15:09:30.207Z"
   },
   {
    "duration": 282,
    "start_time": "2022-10-27T15:09:30.271Z"
   },
   {
    "duration": 308,
    "start_time": "2022-10-27T15:09:30.555Z"
   },
   {
    "duration": 239,
    "start_time": "2022-10-27T15:09:30.865Z"
   },
   {
    "duration": 329,
    "start_time": "2022-10-27T15:09:31.106Z"
   },
   {
    "duration": 215,
    "start_time": "2022-10-27T15:09:31.442Z"
   },
   {
    "duration": 260,
    "start_time": "2022-10-27T15:09:31.659Z"
   },
   {
    "duration": 126,
    "start_time": "2022-10-27T15:09:31.921Z"
   },
   {
    "duration": 5,
    "start_time": "2022-10-27T15:09:32.049Z"
   },
   {
    "duration": 176,
    "start_time": "2022-10-27T15:09:32.057Z"
   },
   {
    "duration": 4,
    "start_time": "2022-10-27T15:09:32.235Z"
   },
   {
    "duration": 664,
    "start_time": "2022-10-27T15:09:32.241Z"
   },
   {
    "duration": 33,
    "start_time": "2022-10-27T15:09:32.907Z"
   },
   {
    "duration": 22,
    "start_time": "2022-10-27T15:09:32.942Z"
   },
   {
    "duration": 36,
    "start_time": "2022-10-27T15:09:32.966Z"
   },
   {
    "duration": 585,
    "start_time": "2022-10-27T15:09:33.004Z"
   },
   {
    "duration": 24,
    "start_time": "2022-10-27T15:09:33.591Z"
   },
   {
    "duration": 238,
    "start_time": "2022-10-27T15:12:41.897Z"
   },
   {
    "duration": 239,
    "start_time": "2022-10-27T15:13:39.634Z"
   }
  ],
  "kernelspec": {
   "display_name": "Python 3 (ipykernel)",
   "language": "python",
   "name": "python3"
  },
  "language_info": {
   "codemirror_mode": {
    "name": "ipython",
    "version": 3
   },
   "file_extension": ".py",
   "mimetype": "text/x-python",
   "name": "python",
   "nbconvert_exporter": "python",
   "pygments_lexer": "ipython3",
   "version": "3.9.5"
  },
  "toc": {
   "base_numbering": 1,
   "nav_menu": {},
   "number_sections": true,
   "sideBar": true,
   "skip_h1_title": true,
   "title_cell": "Table of Contents",
   "title_sidebar": "Contents",
   "toc_cell": false,
   "toc_position": {},
   "toc_section_display": true,
   "toc_window_display": false
  }
 },
 "nbformat": 4,
 "nbformat_minor": 2
}
