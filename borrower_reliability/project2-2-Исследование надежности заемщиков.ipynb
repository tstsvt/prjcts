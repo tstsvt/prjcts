{
 "cells": [
  {
   "cell_type": "markdown",
   "id": "c81daeeb",
   "metadata": {
    "deletable": false,
    "id": "c81daeeb"
   },
   "source": [
    "# Исследование надежности заемщиков\n"
   ]
  },
  {
   "cell_type": "markdown",
   "id": "744d7639",
   "metadata": {
    "deletable": false,
    "id": "744d7639"
   },
   "source": [
    "## Откройте таблицу и изучите общую информацию о данных"
   ]
  },
  {
   "cell_type": "markdown",
   "id": "e7a14c31",
   "metadata": {
    "deletable": false,
    "id": "e7a14c31"
   },
   "source": [
    "**Задание 1. Импортируйте библиотеку pandas. Считайте данные из csv-файла в датафрейм и сохраните в переменную `data`. Путь к файлу:**\n",
    "\n",
    "`/datasets/data.csv`"
   ]
  },
  {
   "cell_type": "code",
   "execution_count": 4,
   "id": "7bcf75c9",
   "metadata": {
    "deletable": false,
    "id": "7bcf75c9"
   },
   "outputs": [],
   "source": [
    "import pandas as pd\n",
    "\n",
    "try:\n",
    "    data = pd.read_csv('/datasets/data.csv')\n",
    "except:\n",
    "    data = pd.read_csv('https://code.s3.yandex.net/datasets/data.csv')"
   ]
  },
  {
   "cell_type": "markdown",
   "id": "b8038fe3",
   "metadata": {
    "deletable": false,
    "id": "b8038fe3"
   },
   "source": [
    "**Задание 2. Выведите первые 20 строчек датафрейма `data` на экран.**"
   ]
  },
  {
   "cell_type": "code",
   "execution_count": 5,
   "id": "2a7cab99",
   "metadata": {
    "deletable": false,
    "id": "2a7cab99",
    "outputId": "1a8f3ef2-d323-4ec2-ddf7-89670b5944c4"
   },
   "outputs": [
    {
     "data": {
      "text/html": [
       "<div>\n",
       "<style scoped>\n",
       "    .dataframe tbody tr th:only-of-type {\n",
       "        vertical-align: middle;\n",
       "    }\n",
       "\n",
       "    .dataframe tbody tr th {\n",
       "        vertical-align: top;\n",
       "    }\n",
       "\n",
       "    .dataframe thead th {\n",
       "        text-align: right;\n",
       "    }\n",
       "</style>\n",
       "<table border=\"1\" class=\"dataframe\">\n",
       "  <thead>\n",
       "    <tr style=\"text-align: right;\">\n",
       "      <th></th>\n",
       "      <th>children</th>\n",
       "      <th>days_employed</th>\n",
       "      <th>dob_years</th>\n",
       "      <th>education</th>\n",
       "      <th>education_id</th>\n",
       "      <th>family_status</th>\n",
       "      <th>family_status_id</th>\n",
       "      <th>gender</th>\n",
       "      <th>income_type</th>\n",
       "      <th>debt</th>\n",
       "      <th>total_income</th>\n",
       "      <th>purpose</th>\n",
       "    </tr>\n",
       "  </thead>\n",
       "  <tbody>\n",
       "    <tr>\n",
       "      <th>0</th>\n",
       "      <td>1</td>\n",
       "      <td>-8437.673028</td>\n",
       "      <td>42</td>\n",
       "      <td>высшее</td>\n",
       "      <td>0</td>\n",
       "      <td>женат / замужем</td>\n",
       "      <td>0</td>\n",
       "      <td>F</td>\n",
       "      <td>сотрудник</td>\n",
       "      <td>0</td>\n",
       "      <td>253875.639453</td>\n",
       "      <td>покупка жилья</td>\n",
       "    </tr>\n",
       "    <tr>\n",
       "      <th>1</th>\n",
       "      <td>1</td>\n",
       "      <td>-4024.803754</td>\n",
       "      <td>36</td>\n",
       "      <td>среднее</td>\n",
       "      <td>1</td>\n",
       "      <td>женат / замужем</td>\n",
       "      <td>0</td>\n",
       "      <td>F</td>\n",
       "      <td>сотрудник</td>\n",
       "      <td>0</td>\n",
       "      <td>112080.014102</td>\n",
       "      <td>приобретение автомобиля</td>\n",
       "    </tr>\n",
       "    <tr>\n",
       "      <th>2</th>\n",
       "      <td>0</td>\n",
       "      <td>-5623.422610</td>\n",
       "      <td>33</td>\n",
       "      <td>Среднее</td>\n",
       "      <td>1</td>\n",
       "      <td>женат / замужем</td>\n",
       "      <td>0</td>\n",
       "      <td>M</td>\n",
       "      <td>сотрудник</td>\n",
       "      <td>0</td>\n",
       "      <td>145885.952297</td>\n",
       "      <td>покупка жилья</td>\n",
       "    </tr>\n",
       "    <tr>\n",
       "      <th>3</th>\n",
       "      <td>3</td>\n",
       "      <td>-4124.747207</td>\n",
       "      <td>32</td>\n",
       "      <td>среднее</td>\n",
       "      <td>1</td>\n",
       "      <td>женат / замужем</td>\n",
       "      <td>0</td>\n",
       "      <td>M</td>\n",
       "      <td>сотрудник</td>\n",
       "      <td>0</td>\n",
       "      <td>267628.550329</td>\n",
       "      <td>дополнительное образование</td>\n",
       "    </tr>\n",
       "    <tr>\n",
       "      <th>4</th>\n",
       "      <td>0</td>\n",
       "      <td>340266.072047</td>\n",
       "      <td>53</td>\n",
       "      <td>среднее</td>\n",
       "      <td>1</td>\n",
       "      <td>гражданский брак</td>\n",
       "      <td>1</td>\n",
       "      <td>F</td>\n",
       "      <td>пенсионер</td>\n",
       "      <td>0</td>\n",
       "      <td>158616.077870</td>\n",
       "      <td>сыграть свадьбу</td>\n",
       "    </tr>\n",
       "    <tr>\n",
       "      <th>5</th>\n",
       "      <td>0</td>\n",
       "      <td>-926.185831</td>\n",
       "      <td>27</td>\n",
       "      <td>высшее</td>\n",
       "      <td>0</td>\n",
       "      <td>гражданский брак</td>\n",
       "      <td>1</td>\n",
       "      <td>M</td>\n",
       "      <td>компаньон</td>\n",
       "      <td>0</td>\n",
       "      <td>255763.565419</td>\n",
       "      <td>покупка жилья</td>\n",
       "    </tr>\n",
       "    <tr>\n",
       "      <th>6</th>\n",
       "      <td>0</td>\n",
       "      <td>-2879.202052</td>\n",
       "      <td>43</td>\n",
       "      <td>высшее</td>\n",
       "      <td>0</td>\n",
       "      <td>женат / замужем</td>\n",
       "      <td>0</td>\n",
       "      <td>F</td>\n",
       "      <td>компаньон</td>\n",
       "      <td>0</td>\n",
       "      <td>240525.971920</td>\n",
       "      <td>операции с жильем</td>\n",
       "    </tr>\n",
       "    <tr>\n",
       "      <th>7</th>\n",
       "      <td>0</td>\n",
       "      <td>-152.779569</td>\n",
       "      <td>50</td>\n",
       "      <td>СРЕДНЕЕ</td>\n",
       "      <td>1</td>\n",
       "      <td>женат / замужем</td>\n",
       "      <td>0</td>\n",
       "      <td>M</td>\n",
       "      <td>сотрудник</td>\n",
       "      <td>0</td>\n",
       "      <td>135823.934197</td>\n",
       "      <td>образование</td>\n",
       "    </tr>\n",
       "    <tr>\n",
       "      <th>8</th>\n",
       "      <td>2</td>\n",
       "      <td>-6929.865299</td>\n",
       "      <td>35</td>\n",
       "      <td>ВЫСШЕЕ</td>\n",
       "      <td>0</td>\n",
       "      <td>гражданский брак</td>\n",
       "      <td>1</td>\n",
       "      <td>F</td>\n",
       "      <td>сотрудник</td>\n",
       "      <td>0</td>\n",
       "      <td>95856.832424</td>\n",
       "      <td>на проведение свадьбы</td>\n",
       "    </tr>\n",
       "    <tr>\n",
       "      <th>9</th>\n",
       "      <td>0</td>\n",
       "      <td>-2188.756445</td>\n",
       "      <td>41</td>\n",
       "      <td>среднее</td>\n",
       "      <td>1</td>\n",
       "      <td>женат / замужем</td>\n",
       "      <td>0</td>\n",
       "      <td>M</td>\n",
       "      <td>сотрудник</td>\n",
       "      <td>0</td>\n",
       "      <td>144425.938277</td>\n",
       "      <td>покупка жилья для семьи</td>\n",
       "    </tr>\n",
       "    <tr>\n",
       "      <th>10</th>\n",
       "      <td>2</td>\n",
       "      <td>-4171.483647</td>\n",
       "      <td>36</td>\n",
       "      <td>высшее</td>\n",
       "      <td>0</td>\n",
       "      <td>женат / замужем</td>\n",
       "      <td>0</td>\n",
       "      <td>M</td>\n",
       "      <td>компаньон</td>\n",
       "      <td>0</td>\n",
       "      <td>113943.491460</td>\n",
       "      <td>покупка недвижимости</td>\n",
       "    </tr>\n",
       "    <tr>\n",
       "      <th>11</th>\n",
       "      <td>0</td>\n",
       "      <td>-792.701887</td>\n",
       "      <td>40</td>\n",
       "      <td>среднее</td>\n",
       "      <td>1</td>\n",
       "      <td>женат / замужем</td>\n",
       "      <td>0</td>\n",
       "      <td>F</td>\n",
       "      <td>сотрудник</td>\n",
       "      <td>0</td>\n",
       "      <td>77069.234271</td>\n",
       "      <td>покупка коммерческой недвижимости</td>\n",
       "    </tr>\n",
       "    <tr>\n",
       "      <th>12</th>\n",
       "      <td>0</td>\n",
       "      <td>NaN</td>\n",
       "      <td>65</td>\n",
       "      <td>среднее</td>\n",
       "      <td>1</td>\n",
       "      <td>гражданский брак</td>\n",
       "      <td>1</td>\n",
       "      <td>M</td>\n",
       "      <td>пенсионер</td>\n",
       "      <td>0</td>\n",
       "      <td>NaN</td>\n",
       "      <td>сыграть свадьбу</td>\n",
       "    </tr>\n",
       "    <tr>\n",
       "      <th>13</th>\n",
       "      <td>0</td>\n",
       "      <td>-1846.641941</td>\n",
       "      <td>54</td>\n",
       "      <td>неоконченное высшее</td>\n",
       "      <td>2</td>\n",
       "      <td>женат / замужем</td>\n",
       "      <td>0</td>\n",
       "      <td>F</td>\n",
       "      <td>сотрудник</td>\n",
       "      <td>0</td>\n",
       "      <td>130458.228857</td>\n",
       "      <td>приобретение автомобиля</td>\n",
       "    </tr>\n",
       "    <tr>\n",
       "      <th>14</th>\n",
       "      <td>0</td>\n",
       "      <td>-1844.956182</td>\n",
       "      <td>56</td>\n",
       "      <td>высшее</td>\n",
       "      <td>0</td>\n",
       "      <td>гражданский брак</td>\n",
       "      <td>1</td>\n",
       "      <td>F</td>\n",
       "      <td>компаньон</td>\n",
       "      <td>1</td>\n",
       "      <td>165127.911772</td>\n",
       "      <td>покупка жилой недвижимости</td>\n",
       "    </tr>\n",
       "    <tr>\n",
       "      <th>15</th>\n",
       "      <td>1</td>\n",
       "      <td>-972.364419</td>\n",
       "      <td>26</td>\n",
       "      <td>среднее</td>\n",
       "      <td>1</td>\n",
       "      <td>женат / замужем</td>\n",
       "      <td>0</td>\n",
       "      <td>F</td>\n",
       "      <td>сотрудник</td>\n",
       "      <td>0</td>\n",
       "      <td>116820.904450</td>\n",
       "      <td>строительство собственной недвижимости</td>\n",
       "    </tr>\n",
       "    <tr>\n",
       "      <th>16</th>\n",
       "      <td>0</td>\n",
       "      <td>-1719.934226</td>\n",
       "      <td>35</td>\n",
       "      <td>среднее</td>\n",
       "      <td>1</td>\n",
       "      <td>женат / замужем</td>\n",
       "      <td>0</td>\n",
       "      <td>F</td>\n",
       "      <td>сотрудник</td>\n",
       "      <td>0</td>\n",
       "      <td>289202.704229</td>\n",
       "      <td>недвижимость</td>\n",
       "    </tr>\n",
       "    <tr>\n",
       "      <th>17</th>\n",
       "      <td>0</td>\n",
       "      <td>-2369.999720</td>\n",
       "      <td>33</td>\n",
       "      <td>высшее</td>\n",
       "      <td>0</td>\n",
       "      <td>гражданский брак</td>\n",
       "      <td>1</td>\n",
       "      <td>M</td>\n",
       "      <td>сотрудник</td>\n",
       "      <td>0</td>\n",
       "      <td>90410.586745</td>\n",
       "      <td>строительство недвижимости</td>\n",
       "    </tr>\n",
       "    <tr>\n",
       "      <th>18</th>\n",
       "      <td>0</td>\n",
       "      <td>400281.136913</td>\n",
       "      <td>53</td>\n",
       "      <td>среднее</td>\n",
       "      <td>1</td>\n",
       "      <td>вдовец / вдова</td>\n",
       "      <td>2</td>\n",
       "      <td>F</td>\n",
       "      <td>пенсионер</td>\n",
       "      <td>0</td>\n",
       "      <td>56823.777243</td>\n",
       "      <td>на покупку подержанного автомобиля</td>\n",
       "    </tr>\n",
       "    <tr>\n",
       "      <th>19</th>\n",
       "      <td>0</td>\n",
       "      <td>-10038.818549</td>\n",
       "      <td>48</td>\n",
       "      <td>СРЕДНЕЕ</td>\n",
       "      <td>1</td>\n",
       "      <td>в разводе</td>\n",
       "      <td>3</td>\n",
       "      <td>F</td>\n",
       "      <td>сотрудник</td>\n",
       "      <td>0</td>\n",
       "      <td>242831.107982</td>\n",
       "      <td>на покупку своего автомобиля</td>\n",
       "    </tr>\n",
       "  </tbody>\n",
       "</table>\n",
       "</div>"
      ],
      "text/plain": [
       "    children  days_employed  dob_years            education  education_id  \\\n",
       "0          1   -8437.673028         42               высшее             0   \n",
       "1          1   -4024.803754         36              среднее             1   \n",
       "2          0   -5623.422610         33              Среднее             1   \n",
       "3          3   -4124.747207         32              среднее             1   \n",
       "4          0  340266.072047         53              среднее             1   \n",
       "5          0    -926.185831         27               высшее             0   \n",
       "6          0   -2879.202052         43               высшее             0   \n",
       "7          0    -152.779569         50              СРЕДНЕЕ             1   \n",
       "8          2   -6929.865299         35               ВЫСШЕЕ             0   \n",
       "9          0   -2188.756445         41              среднее             1   \n",
       "10         2   -4171.483647         36               высшее             0   \n",
       "11         0    -792.701887         40              среднее             1   \n",
       "12         0            NaN         65              среднее             1   \n",
       "13         0   -1846.641941         54  неоконченное высшее             2   \n",
       "14         0   -1844.956182         56               высшее             0   \n",
       "15         1    -972.364419         26              среднее             1   \n",
       "16         0   -1719.934226         35              среднее             1   \n",
       "17         0   -2369.999720         33               высшее             0   \n",
       "18         0  400281.136913         53              среднее             1   \n",
       "19         0  -10038.818549         48              СРЕДНЕЕ             1   \n",
       "\n",
       "       family_status  family_status_id gender income_type  debt  \\\n",
       "0    женат / замужем                 0      F   сотрудник     0   \n",
       "1    женат / замужем                 0      F   сотрудник     0   \n",
       "2    женат / замужем                 0      M   сотрудник     0   \n",
       "3    женат / замужем                 0      M   сотрудник     0   \n",
       "4   гражданский брак                 1      F   пенсионер     0   \n",
       "5   гражданский брак                 1      M   компаньон     0   \n",
       "6    женат / замужем                 0      F   компаньон     0   \n",
       "7    женат / замужем                 0      M   сотрудник     0   \n",
       "8   гражданский брак                 1      F   сотрудник     0   \n",
       "9    женат / замужем                 0      M   сотрудник     0   \n",
       "10   женат / замужем                 0      M   компаньон     0   \n",
       "11   женат / замужем                 0      F   сотрудник     0   \n",
       "12  гражданский брак                 1      M   пенсионер     0   \n",
       "13   женат / замужем                 0      F   сотрудник     0   \n",
       "14  гражданский брак                 1      F   компаньон     1   \n",
       "15   женат / замужем                 0      F   сотрудник     0   \n",
       "16   женат / замужем                 0      F   сотрудник     0   \n",
       "17  гражданский брак                 1      M   сотрудник     0   \n",
       "18    вдовец / вдова                 2      F   пенсионер     0   \n",
       "19         в разводе                 3      F   сотрудник     0   \n",
       "\n",
       "     total_income                                 purpose  \n",
       "0   253875.639453                           покупка жилья  \n",
       "1   112080.014102                 приобретение автомобиля  \n",
       "2   145885.952297                           покупка жилья  \n",
       "3   267628.550329              дополнительное образование  \n",
       "4   158616.077870                         сыграть свадьбу  \n",
       "5   255763.565419                           покупка жилья  \n",
       "6   240525.971920                       операции с жильем  \n",
       "7   135823.934197                             образование  \n",
       "8    95856.832424                   на проведение свадьбы  \n",
       "9   144425.938277                 покупка жилья для семьи  \n",
       "10  113943.491460                    покупка недвижимости  \n",
       "11   77069.234271       покупка коммерческой недвижимости  \n",
       "12            NaN                         сыграть свадьбу  \n",
       "13  130458.228857                 приобретение автомобиля  \n",
       "14  165127.911772              покупка жилой недвижимости  \n",
       "15  116820.904450  строительство собственной недвижимости  \n",
       "16  289202.704229                            недвижимость  \n",
       "17   90410.586745              строительство недвижимости  \n",
       "18   56823.777243      на покупку подержанного автомобиля  \n",
       "19  242831.107982            на покупку своего автомобиля  "
      ]
     },
     "execution_count": 5,
     "metadata": {},
     "output_type": "execute_result"
    }
   ],
   "source": [
    "data.head(20)"
   ]
  },
  {
   "cell_type": "markdown",
   "id": "1c12e233",
   "metadata": {
    "deletable": false,
    "id": "1c12e233"
   },
   "source": [
    "**Задание 3. Выведите основную информацию о датафрейме с помощью метода `info()`.**"
   ]
  },
  {
   "cell_type": "code",
   "execution_count": 6,
   "id": "2b757bca",
   "metadata": {
    "deletable": false,
    "id": "2b757bca",
    "outputId": "15376089-8dad-46c9-b520-c05248d43158"
   },
   "outputs": [
    {
     "name": "stdout",
     "output_type": "stream",
     "text": [
      "<class 'pandas.core.frame.DataFrame'>\n",
      "RangeIndex: 21525 entries, 0 to 21524\n",
      "Data columns (total 12 columns):\n",
      " #   Column            Non-Null Count  Dtype  \n",
      "---  ------            --------------  -----  \n",
      " 0   children          21525 non-null  int64  \n",
      " 1   days_employed     19351 non-null  float64\n",
      " 2   dob_years         21525 non-null  int64  \n",
      " 3   education         21525 non-null  object \n",
      " 4   education_id      21525 non-null  int64  \n",
      " 5   family_status     21525 non-null  object \n",
      " 6   family_status_id  21525 non-null  int64  \n",
      " 7   gender            21525 non-null  object \n",
      " 8   income_type       21525 non-null  object \n",
      " 9   debt              21525 non-null  int64  \n",
      " 10  total_income      19351 non-null  float64\n",
      " 11  purpose           21525 non-null  object \n",
      "dtypes: float64(2), int64(5), object(5)\n",
      "memory usage: 2.0+ MB\n"
     ]
    }
   ],
   "source": [
    "data.info()"
   ]
  },
  {
   "cell_type": "markdown",
   "id": "333ec665",
   "metadata": {
    "deletable": false,
    "id": "333ec665"
   },
   "source": [
    "## Предобработка данных"
   ]
  },
  {
   "cell_type": "markdown",
   "id": "02d92d53",
   "metadata": {
    "deletable": false,
    "id": "02d92d53"
   },
   "source": [
    "### Удаление пропусков"
   ]
  },
  {
   "cell_type": "markdown",
   "id": "cd84967c",
   "metadata": {
    "deletable": false,
    "id": "cd84967c"
   },
   "source": [
    "**Задание 4. Выведите количество пропущенных значений для каждого столбца. Используйте комбинацию двух методов.**"
   ]
  },
  {
   "cell_type": "code",
   "execution_count": 7,
   "id": "7f9b2309",
   "metadata": {
    "deletable": false,
    "id": "7f9b2309",
    "outputId": "81f4d817-781c-465c-ed15-91ce4446810d"
   },
   "outputs": [
    {
     "data": {
      "text/plain": [
       "children               0\n",
       "days_employed       2174\n",
       "dob_years              0\n",
       "education              0\n",
       "education_id           0\n",
       "family_status          0\n",
       "family_status_id       0\n",
       "gender                 0\n",
       "income_type            0\n",
       "debt                   0\n",
       "total_income        2174\n",
       "purpose                0\n",
       "dtype: int64"
      ]
     },
     "execution_count": 7,
     "metadata": {},
     "output_type": "execute_result"
    }
   ],
   "source": [
    "data.isna().sum()"
   ]
  },
  {
   "cell_type": "markdown",
   "id": "db86e27b",
   "metadata": {
    "deletable": false,
    "id": "db86e27b"
   },
   "source": [
    "**Задание 5. В двух столбцах есть пропущенные значения. Один из них — `days_employed`. Пропуски в этом столбце вы обработаете на следующем этапе. Другой столбец с пропущенными значениями — `total_income` — хранит данные о доходах. На сумму дохода сильнее всего влияет тип занятости, поэтому заполнить пропуски в этом столбце нужно медианным значением по каждому типу из столбца `income_type`. Например, у человека с типом занятости `сотрудник` пропуск в столбце `total_income` должен быть заполнен медианным доходом среди всех записей с тем же типом.**"
   ]
  },
  {
   "cell_type": "code",
   "execution_count": 8,
   "id": "42006a93",
   "metadata": {
    "deletable": false,
    "id": "42006a93"
   },
   "outputs": [],
   "source": [
    "for t in data['income_type'].unique():\n",
    "    data.loc[(data['income_type'] == t) & (data['total_income'].isna()), 'total_income'] = \\\n",
    "    data.loc[(data['income_type'] == t), 'total_income'].median()"
   ]
  },
  {
   "cell_type": "markdown",
   "id": "89da5ece",
   "metadata": {
    "deletable": false,
    "id": "89da5ece"
   },
   "source": [
    "### Обработка аномальных значений"
   ]
  },
  {
   "cell_type": "markdown",
   "id": "57964554",
   "metadata": {
    "deletable": false,
    "id": "57964554"
   },
   "source": [
    "**Задание 6. В данных могут встречаться артефакты (аномалии) — значения, которые не отражают действительность и появились по какой-то ошибке. таким артефактом будет отрицательное количество дней трудового стажа в столбце `days_employed`. Для реальных данных это нормально. Обработайте значения в этом столбце: замените все отрицательные значения положительными с помощью метода `abs()`.**"
   ]
  },
  {
   "cell_type": "code",
   "execution_count": 9,
   "id": "f6f055bf",
   "metadata": {
    "deletable": false,
    "id": "f6f055bf"
   },
   "outputs": [],
   "source": [
    "data['days_employed'] = data['days_employed'].abs()"
   ]
  },
  {
   "cell_type": "markdown",
   "id": "6107dd2f",
   "metadata": {
    "deletable": false,
    "id": "6107dd2f"
   },
   "source": [
    "**Задание 7. Для каждого типа занятости выведите медианное значение трудового стажа `days_employed` в днях.**"
   ]
  },
  {
   "cell_type": "code",
   "execution_count": 10,
   "id": "85a5faf6",
   "metadata": {
    "deletable": false,
    "id": "85a5faf6",
    "outputId": "801ef80e-522b-4668-f34e-565af7432bcf"
   },
   "outputs": [
    {
     "data": {
      "text/plain": [
       "income_type\n",
       "безработный        366413.652744\n",
       "в декрете            3296.759962\n",
       "госслужащий          2689.368353\n",
       "компаньон            1547.382223\n",
       "пенсионер          365213.306266\n",
       "предприниматель       520.848083\n",
       "сотрудник            1574.202821\n",
       "студент               578.751554\n",
       "Name: days_employed, dtype: float64"
      ]
     },
     "execution_count": 10,
     "metadata": {},
     "output_type": "execute_result"
    }
   ],
   "source": [
    "data.groupby('income_type')['days_employed'].agg('median')"
   ]
  },
  {
   "cell_type": "markdown",
   "id": "38d1a030",
   "metadata": {
    "deletable": false,
    "id": "38d1a030"
   },
   "source": [
    "У двух типов (безработные и пенсионеры) получатся аномально большие значения. Исправить такие значения сложно, поэтому оставьте их как есть. Тем более этот столбец не понадобится вам для исследования."
   ]
  },
  {
   "cell_type": "markdown",
   "id": "d8a9f147",
   "metadata": {
    "deletable": false,
    "id": "d8a9f147"
   },
   "source": [
    "**Задание 8. Выведите перечень уникальных значений столбца `children`.**"
   ]
  },
  {
   "cell_type": "code",
   "execution_count": 11,
   "id": "ef5056eb",
   "metadata": {
    "deletable": false,
    "id": "ef5056eb",
    "outputId": "6975b15c-7f95-4697-d16d-a0c79b657b03"
   },
   "outputs": [
    {
     "data": {
      "text/plain": [
       "array([ 1,  0,  3,  2, -1,  4, 20,  5])"
      ]
     },
     "execution_count": 11,
     "metadata": {},
     "output_type": "execute_result"
    }
   ],
   "source": [
    "data['children'].unique()"
   ]
  },
  {
   "cell_type": "markdown",
   "id": "40b9ebf2",
   "metadata": {
    "deletable": false,
    "id": "40b9ebf2"
   },
   "source": [
    "**Задание 9. В столбце `children` есть два аномальных значения. Удалите строки, в которых встречаются такие аномальные значения из датафрейма `data`.**"
   ]
  },
  {
   "cell_type": "code",
   "execution_count": 12,
   "id": "3ff9801d",
   "metadata": {
    "deletable": false,
    "id": "3ff9801d"
   },
   "outputs": [],
   "source": [
    "data = data[(data['children'] != -1) & (data['children'] != 20)]"
   ]
  },
  {
   "cell_type": "markdown",
   "id": "bbc4d0ce",
   "metadata": {
    "deletable": false,
    "id": "bbc4d0ce"
   },
   "source": [
    "**Задание 10. Ещё раз выведите перечень уникальных значений столбца `children`, чтобы убедиться, что артефакты удалены.**"
   ]
  },
  {
   "cell_type": "code",
   "execution_count": 13,
   "id": "ad4fa8b7",
   "metadata": {
    "deletable": false,
    "id": "ad4fa8b7",
    "outputId": "b2097101-d49d-44d9-901b-32a65c9463d1"
   },
   "outputs": [
    {
     "data": {
      "text/plain": [
       "array([1, 0, 3, 2, 4, 5])"
      ]
     },
     "execution_count": 13,
     "metadata": {},
     "output_type": "execute_result"
    }
   ],
   "source": [
    "data['children'].unique()"
   ]
  },
  {
   "cell_type": "markdown",
   "id": "75440b63",
   "metadata": {
    "deletable": false,
    "id": "75440b63"
   },
   "source": [
    "### Удаление пропусков (продолжение)"
   ]
  },
  {
   "cell_type": "markdown",
   "id": "f4ea573f",
   "metadata": {
    "deletable": false,
    "id": "f4ea573f"
   },
   "source": [
    "**Задание 11. Заполните пропуски в столбце `days_employed` медианными значениями по каждого типа занятости `income_type`.**"
   ]
  },
  {
   "cell_type": "code",
   "execution_count": 14,
   "id": "af6b1a7e",
   "metadata": {
    "deletable": false,
    "id": "af6b1a7e"
   },
   "outputs": [],
   "source": [
    "for t in data['income_type'].unique():\n",
    "    data.loc[(data['income_type'] == t) & (data['days_employed'].isna()), 'days_employed'] = \\\n",
    "    data.loc[(data['income_type'] == t), 'days_employed'].median()"
   ]
  },
  {
   "cell_type": "markdown",
   "id": "2753f40d",
   "metadata": {
    "deletable": false,
    "id": "2753f40d"
   },
   "source": [
    "**Задание 12. Убедитесь, что все пропуски заполнены. Проверьте себя и ещё раз выведите количество пропущенных значений для каждого столбца с помощью двух методов.**"
   ]
  },
  {
   "cell_type": "code",
   "execution_count": 15,
   "id": "55f78bc2",
   "metadata": {
    "deletable": false,
    "id": "55f78bc2",
    "outputId": "8da1e4e1-358e-4e87-98c9-f261bce0a7b2"
   },
   "outputs": [
    {
     "data": {
      "text/plain": [
       "children            0\n",
       "days_employed       0\n",
       "dob_years           0\n",
       "education           0\n",
       "education_id        0\n",
       "family_status       0\n",
       "family_status_id    0\n",
       "gender              0\n",
       "income_type         0\n",
       "debt                0\n",
       "total_income        0\n",
       "purpose             0\n",
       "dtype: int64"
      ]
     },
     "execution_count": 15,
     "metadata": {},
     "output_type": "execute_result"
    }
   ],
   "source": [
    "data.isna().sum()"
   ]
  },
  {
   "cell_type": "markdown",
   "id": "ddc81e43",
   "metadata": {
    "deletable": false,
    "id": "ddc81e43"
   },
   "source": [
    "### Изменение типов данных"
   ]
  },
  {
   "cell_type": "markdown",
   "id": "42d19d24",
   "metadata": {
    "deletable": false,
    "id": "42d19d24"
   },
   "source": [
    "**Задание 13. Замените вещественный тип данных в столбце `total_income` на целочисленный с помощью метода `astype()`.**"
   ]
  },
  {
   "cell_type": "code",
   "execution_count": 16,
   "id": "920b65ad",
   "metadata": {
    "deletable": false,
    "id": "920b65ad"
   },
   "outputs": [],
   "source": [
    "data['total_income'] = data['total_income'].astype(int)"
   ]
  },
  {
   "cell_type": "markdown",
   "id": "80c420ba",
   "metadata": {
    "deletable": false,
    "id": "80c420ba"
   },
   "source": [
    "### Обработка дубликатов"
   ]
  },
  {
   "cell_type": "markdown",
   "id": "dc587695",
   "metadata": {
    "deletable": false,
    "id": "dc587695"
   },
   "source": [
    "**Задание 14. Выведите на экран количество строк-дубликатов в данных. Если такие строки присутствуют, удалите их.**"
   ]
  },
  {
   "cell_type": "code",
   "execution_count": 17,
   "id": "3ee445e4",
   "metadata": {
    "deletable": false,
    "id": "3ee445e4",
    "outputId": "9684deba-1934-42d1-99e1-cda61740f822"
   },
   "outputs": [
    {
     "data": {
      "text/plain": [
       "54"
      ]
     },
     "execution_count": 17,
     "metadata": {},
     "output_type": "execute_result"
    }
   ],
   "source": [
    "data.duplicated().sum()"
   ]
  },
  {
   "cell_type": "code",
   "execution_count": 18,
   "id": "8575fe05",
   "metadata": {
    "deletable": false,
    "id": "8575fe05"
   },
   "outputs": [],
   "source": [
    "data = data.drop_duplicates()"
   ]
  },
  {
   "cell_type": "markdown",
   "id": "9771a76c",
   "metadata": {
    "deletable": false,
    "id": "9771a76c"
   },
   "source": [
    "**Задание 15. Обработайте неявные дубликаты в столбце `education`. В этом столбце есть одни и те же значения, но записанные по-разному: с использованием заглавных и строчных букв. Приведите их к нижнему регистру. Проверьте остальные столбцы.**"
   ]
  },
  {
   "cell_type": "code",
   "execution_count": 19,
   "id": "a9f8e2bf",
   "metadata": {
    "deletable": false,
    "id": "a9f8e2bf"
   },
   "outputs": [],
   "source": [
    "data['education'] = data['education'].str.lower()"
   ]
  },
  {
   "cell_type": "markdown",
   "id": "9904cf55",
   "metadata": {
    "deletable": false,
    "id": "9904cf55"
   },
   "source": [
    "### Категоризация данных"
   ]
  },
  {
   "cell_type": "markdown",
   "id": "72fcc8a2",
   "metadata": {
    "deletable": false,
    "id": "72fcc8a2"
   },
   "source": [
    "**Задание 16. На основании диапазонов, указанных ниже, создайте в датафрейме `data` столбец `total_income_category` с категориями:**\n",
    "\n",
    "- 0–30000 — `'E'`;\n",
    "- 30001–50000 — `'D'`;\n",
    "- 50001–200000 — `'C'`;\n",
    "- 200001–1000000 — `'B'`;\n",
    "- 1000001 и выше — `'A'`.\n",
    "\n",
    "\n",
    "**Например, кредитополучателю с доходом 25000 нужно назначить категорию `'E'`, а клиенту, получающему 235000, — `'B'`. Используйте собственную функцию с именем `categorize_income()` и метод `apply()`.**"
   ]
  },
  {
   "cell_type": "code",
   "execution_count": 20,
   "id": "e1771346",
   "metadata": {
    "deletable": false,
    "id": "e1771346"
   },
   "outputs": [],
   "source": [
    "def categorize_income(income):\n",
    "    try:\n",
    "        if 0 <= income <= 30000:\n",
    "            return 'E'\n",
    "        elif 30001 <= income <= 50000:\n",
    "            return 'D'\n",
    "        elif 50001 <= income <= 200000:\n",
    "            return 'C'\n",
    "        elif 200001 <= income <= 1000000:\n",
    "            return 'B'\n",
    "        elif income >= 1000001:\n",
    "            return 'A'\n",
    "    except:\n",
    "        pass"
   ]
  },
  {
   "cell_type": "code",
   "execution_count": 21,
   "id": "d5f3586d",
   "metadata": {
    "deletable": false,
    "id": "d5f3586d"
   },
   "outputs": [],
   "source": [
    "data['total_income_category'] = data['total_income'].apply(categorize_income)"
   ]
  },
  {
   "cell_type": "markdown",
   "id": "dde49b5c",
   "metadata": {
    "deletable": false,
    "id": "dde49b5c"
   },
   "source": [
    "**Задание 17. Выведите на экран перечень уникальных целей взятия кредита из столбца `purpose`.**"
   ]
  },
  {
   "cell_type": "code",
   "execution_count": 22,
   "id": "f67ce9b3",
   "metadata": {
    "deletable": false,
    "id": "f67ce9b3",
    "outputId": "673c12d9-7d7e-4ae0-9812-c622c89dd244"
   },
   "outputs": [
    {
     "data": {
      "text/plain": [
       "array(['покупка жилья', 'приобретение автомобиля',\n",
       "       'дополнительное образование', 'сыграть свадьбу',\n",
       "       'операции с жильем', 'образование', 'на проведение свадьбы',\n",
       "       'покупка жилья для семьи', 'покупка недвижимости',\n",
       "       'покупка коммерческой недвижимости', 'покупка жилой недвижимости',\n",
       "       'строительство собственной недвижимости', 'недвижимость',\n",
       "       'строительство недвижимости', 'на покупку подержанного автомобиля',\n",
       "       'на покупку своего автомобиля',\n",
       "       'операции с коммерческой недвижимостью',\n",
       "       'строительство жилой недвижимости', 'жилье',\n",
       "       'операции со своей недвижимостью', 'автомобили',\n",
       "       'заняться образованием', 'сделка с подержанным автомобилем',\n",
       "       'получение образования', 'автомобиль', 'свадьба',\n",
       "       'получение дополнительного образования', 'покупка своего жилья',\n",
       "       'операции с недвижимостью', 'получение высшего образования',\n",
       "       'свой автомобиль', 'сделка с автомобилем',\n",
       "       'профильное образование', 'высшее образование',\n",
       "       'покупка жилья для сдачи', 'на покупку автомобиля', 'ремонт жилью',\n",
       "       'заняться высшим образованием'], dtype=object)"
      ]
     },
     "execution_count": 22,
     "metadata": {},
     "output_type": "execute_result"
    }
   ],
   "source": [
    "data['purpose'].unique()"
   ]
  },
  {
   "cell_type": "markdown",
   "id": "85d0aef0",
   "metadata": {
    "deletable": false,
    "id": "85d0aef0"
   },
   "source": [
    "**Задание 18. Создайте функцию, которая на основании данных из столбца `purpose` сформирует новый столбец `purpose_category`, в который войдут следующие категории:**\n",
    "\n",
    "- `'операции с автомобилем'`,\n",
    "- `'операции с недвижимостью'`,\n",
    "- `'проведение свадьбы'`,\n",
    "- `'получение образования'`.\n",
    "\n",
    "**Например, если в столбце `purpose` находится подстрока `'на покупку автомобиля'`, то в столбце `purpose_category` должна появиться строка `'операции с автомобилем'`.**\n",
    "\n",
    "**Используйте собственную функцию с именем `categorize_purpose()` и метод `apply()`. Изучите данные в столбце `purpose` и определите, какие подстроки помогут вам правильно определить категорию.**"
   ]
  },
  {
   "cell_type": "code",
   "execution_count": 23,
   "id": "e149fab4",
   "metadata": {
    "deletable": false,
    "id": "e149fab4"
   },
   "outputs": [],
   "source": [
    "def categorize_purpose(row):\n",
    "    try:\n",
    "        if 'автом' in row:\n",
    "            return 'операции с автомобилем'\n",
    "        elif 'жил' in row or 'недвиж' in row:\n",
    "            return 'операции с недвижимостью'\n",
    "        elif 'свад' in row:\n",
    "            return 'проведение свадьбы'\n",
    "        elif 'образов' in row:\n",
    "            return 'получение образования'\n",
    "    except:\n",
    "        return 'нет категории'"
   ]
  },
  {
   "cell_type": "code",
   "execution_count": 24,
   "id": "bf36e69b",
   "metadata": {
    "deletable": false,
    "id": "bf36e69b"
   },
   "outputs": [],
   "source": [
    "data['purpose_category'] = data['purpose'].apply(categorize_purpose)"
   ]
  },
  {
   "cell_type": "markdown",
   "id": "09b242bf",
   "metadata": {
    "deletable": false,
    "editable": false,
    "id": "09b242bf"
   },
   "source": [
    "## Исследуйте данные и ответьте на вопросы"
   ]
  },
  {
   "cell_type": "markdown",
   "id": "c5d66278",
   "metadata": {
    "deletable": false,
    "editable": false,
    "id": "c5d66278"
   },
   "source": [
    "**Задание 19. Есть ли зависимость между количеством детей и возвратом кредита в срок?**"
   ]
  },
  {
   "cell_type": "code",
   "execution_count": 37,
   "id": "2cacfc4a",
   "metadata": {
    "id": "2cacfc4a"
   },
   "outputs": [
    {
     "name": "stdout",
     "output_type": "stream",
     "text": [
      "           debt       percent\n",
      "          count   sum        \n",
      "children                     \n",
      "4            41     4    9.76\n",
      "2          2052   194    9.45\n",
      "1          4809   444    9.23\n",
      "3           330    27    8.18\n",
      "0         14107  1063    7.54\n",
      "5             9     0    0.00\n"
     ]
    }
   ],
   "source": [
    "#ch_d = data[['debt', 'children']] #создаем отдельную таблицу с количеством детей и показателем задолженности по возврату кредитов\n",
    "#ch_total=ch_d.groupby('children').count()\n",
    "#print(ch_total.sort_values(by='debt',ascending=False)) #подсчитываем количество клиентов с определенным количеством детей для наглядности\n",
    "#ch_d = ch_d.loc[ch_d['debt'] == 1] #сужаем данные до клиентов с просрочками\n",
    "#ch_negative=ch_d.groupby('children').count() #расчет количества клиентов с просрочками с учетом количества детей\n",
    "#print(ch_negative.sort_values(by='debt',ascending=False))\n",
    "#table0=100*ch_negative/ch_total #вычисляем долю в % клиентов с просрочками\n",
    "#print(table0.sort_values(by='debt',ascending=False))\n",
    "debt_grouped = data.groupby('children').agg({'debt':['count','sum']})#посчитаем общее количество людей для каждой категории по количеству детей и количество людей, имеющих задолженность по этой категории\n",
    "debt_grouped['percent']=round((debt_grouped['debt']['sum']/debt_grouped['debt']['count']*100),2) #узнаем, какой процент от общего количества людей с определенным количеством детей имеет задолженность\n",
    "print(debt_grouped.sort_values(by='percent',ascending=False))\n",
    "\n"
   ]
  },
  {
   "cell_type": "markdown",
   "id": "3a6b99ec",
   "metadata": {
    "deletable": false,
    "id": "3a6b99ec"
   },
   "source": [
    "**Вывод:** лучший показатель своевременности возврата кредита среди широких категорий клиентов у потребителей без детей, причем с отрывом в 0,6% от категории клиентов с 3 детьми. Клиенты с 5 детьми вовсе не имеют просрочек по кредитам, однако и представлены в самой мизерной по выборке категории из 9 потребителей. Худший показатель у клиентов с 4 детьми - 9,76%, однако выборка здесь так же не велика - только 41 человек.\n",
    "В исходной выборке объемы клиентов с разным количеством детей отличаются в разы. Например, клиентов с 1 ребнком 4809, а с двумя детьми - 2052 (что в 2,3 раза меньше), при этом просрочки равны 444 и 194 соответственно (что так же в 2,3 раза меньше). По остальным парам ситуация схожая. \n",
    "Объем просрочек кредита в количественном выражении снижается с ростом детей, потому что самих клиентов с большим количеством детей меньше в разы, чем бездетных или немногодетных. Зависимость между количеством детей и возвратом кредита в срок сомнительна."
   ]
  },
  {
   "cell_type": "markdown",
   "id": "97be82ca",
   "metadata": {
    "deletable": false,
    "editable": false,
    "id": "97be82ca"
   },
   "source": [
    "**Задание 20. Есть ли зависимость между семейным положением и возвратом кредита в срок?**"
   ]
  },
  {
   "cell_type": "code",
   "execution_count": 38,
   "id": "dc3f7ee8",
   "metadata": {
    "id": "dc3f7ee8"
   },
   "outputs": [
    {
     "name": "stdout",
     "output_type": "stream",
     "text": [
      "                        debt      percent\n",
      "                       count  sum        \n",
      "family_status                            \n",
      "Не женат / не замужем   2796  273    9.76\n",
      "гражданский брак        4146  385    9.29\n",
      "женат / замужем        12266  927    7.56\n",
      "в разводе               1189   84    7.06\n",
      "вдовец / вдова           951   63    6.62\n"
     ]
    }
   ],
   "source": [
    "#fs_d = data[['debt', 'family_status']] #создаем отдельную таблицу с семейным положением и показателем задолженности по возврату кредитов\n",
    "#Альтернативное решение:\n",
    "#print(fs_d.groupby('family_status').count()) #подсчитываем количество клиентов с определенным семейным положением для наглядности\n",
    "#fs_d = fs_d.loc[fs_d['debt'] == 1] #сужаем данные до клиентов с просрочками\n",
    "#print(fs_d.groupby('family_status').count()) #группируем по семейному положению объем клиентов с просрочками\n",
    "\n",
    "#fs_total=fs_d.groupby('family_status').count() #подсчитываем количество клиентов с определенным семейным положением для наглядности\n",
    "#print(fs_total.sort_values(by='debt',ascending=False))\n",
    "#fs_d = fs_d.loc[fs_d['debt'] == 1] #сужаем данные до клиентов с просрочками\n",
    "#fs_negative=fs_d.groupby('family_status').count() #расчет количества клиентов с просрочками по каждому виду семейного положения\n",
    "#print(fs_negative.sort_values(by='debt',ascending=False))\n",
    "#table1=100*fs_negative/fs_total #вычисляем долю в % клиентов с просрочками\n",
    "#print(table1.sort_values(by='debt',ascending=False)) #сортируем по семейному положению долю в % клиентов с просрочками по убыванию\n",
    "\n",
    "debt_grouped_1 = data.groupby('family_status').agg({'debt':['count','sum']})#посчитаем общее количество людей для каждой категории по семейному положению и количество людей, имеющих задолженность по этой категории\n",
    "debt_grouped_1['percent']=round((debt_grouped_1['debt']['sum']/debt_grouped_1['debt']['count']*100),2) #узнаем, какой процент от общего количества людей с определенным семейным положением имеет задолженность\n",
    "print(debt_grouped_1.sort_values(by='percent',ascending=False))\n"
   ]
  },
  {
   "cell_type": "markdown",
   "id": "1cef7837",
   "metadata": {
    "deletable": false,
    "id": "1cef7837"
   },
   "source": [
    "**Вывод:** зависимость между семейным положением и возвратом кредита в срок несовсем очевидная. Наивысший риск просрочки у группы \"Не женат / не замужем\", хотя это лишь 3-я по объему выборки группа, а также высокий показатель у лиц, состоящих в гражданском браке, женатые клиенты, хоть и представляют самую крупную группу в выборке, идут следом с разрывом в 1,7%. Наиболее привлекательными для банка клиентами являются те, кто имеют статус \"вдовец/вдова\" и \"в разводе\"."
   ]
  },
  {
   "cell_type": "markdown",
   "id": "1e8b2fca",
   "metadata": {
    "deletable": false,
    "editable": false,
    "id": "1e8b2fca"
   },
   "source": [
    "**Задание 21. Есть ли зависимость между уровнем дохода и возвратом кредита в срок?**"
   ]
  },
  {
   "cell_type": "code",
   "execution_count": 41,
   "id": "cd7e3720",
   "metadata": {
    "id": "cd7e3720"
   },
   "outputs": [
    {
     "name": "stdout",
     "output_type": "stream",
     "text": [
      "                        debt       percent\n",
      "                       count   sum        \n",
      "total_income_category                     \n",
      "E                         22     2    9.09\n",
      "C                      15938  1353    8.49\n",
      "A                         25     2    8.00\n",
      "B                       5014   354    7.06\n",
      "D                        349    21    6.02\n"
     ]
    }
   ],
   "source": [
    "#ig_d = data[['debt', 'total_income_category']] #создаем отдельную таблицу с уровнем дохода и показателем задолженности по возврату кредитов\n",
    "\n",
    "#ig_total=ig_d.groupby('total_income_category').count() #подсчитываем количество клиентов с определенным уровнем дохода для наглядности\n",
    "#print(ig_total.sort_values(by='debt',ascending=False))\n",
    "#ig_d = ig_d.loc[ig_d['debt'] == 1] #сужаем данные до клиентов с просрочками\n",
    "#ig_negative=ig_d.groupby('total_income_category').count() #расчет количества клиентов с просрочками по каждому уровню дохода\n",
    "#print(ig_negative.sort_values(by='debt',ascending=False))\n",
    "#table2=100*ig_negative/ig_total #вычисляем долю в % клиентов с просрочками\n",
    "#print(table2.sort_values(by='debt',ascending=False)) #сортируем по уровню дохода долю в % клиентов с просрочками по убыванию\n",
    "\n",
    "#0–30000 — 'E'; 30001–50000 — 'D'; 50001–200000 — 'C'; 200001–1000000 — 'B'; 1000001 и выше — 'A'.\n",
    "debt_grouped_2 = data.groupby('total_income_category').agg({'debt':['count','sum']})#посчитаем общее количество людей для каждой категории по уровню дохода и количество людей, имеющих задолженность по этой категории\n",
    "debt_grouped_2['percent']=round((debt_grouped_2['debt']['sum']/debt_grouped_2['debt']['count']*100),2) #узнаем, какой процент от общего количества людей с определенным доходом имеет задолженность\n",
    "print(debt_grouped_2.sort_values(by='percent',ascending=False))"
   ]
  },
  {
   "cell_type": "markdown",
   "id": "e8593def",
   "metadata": {
    "deletable": false,
    "id": "e8593def"
   },
   "source": [
    "**Вывод:** В данной выборке клиентов с самым низким и самым высоким уровнем дохода примерно равное и малое количество, в отличие от других групп доходов, поэтому серьезно оценивать их корреляцию нерелевантно. Как бы то ни было, наименьшей привлекательностью для банка обладает клиентская группа Е, причем ближайшая по уровню дохода группа D имеет лучший показатель возврата кредита в срок с отрывом от почти самой \"богатой\" группы В - в 1%. Клиенты с самым высоким уровнем дохода имеют средний показатель возврата кредита, в то время как группа клиентов с уровнем дохода 50001–200000 максимально приближена к худшему показателю и отстает от Е на 0,6%."
   ]
  },
  {
   "cell_type": "markdown",
   "id": "99ecbd1f",
   "metadata": {
    "deletable": false,
    "editable": false,
    "id": "99ecbd1f"
   },
   "source": [
    "**Задание 22. Как разные цели кредита влияют на его возврат в срок?**"
   ]
  },
  {
   "cell_type": "code",
   "execution_count": 43,
   "id": "2b687290",
   "metadata": {
    "id": "2b687290"
   },
   "outputs": [
    {
     "name": "stdout",
     "output_type": "stream",
     "text": [
      "                           debt      percent\n",
      "                          count  sum        \n",
      "purpose_category                            \n",
      "операции с автомобилем     4281  400    9.34\n",
      "получение образования      3989  369    9.25\n",
      "проведение свадьбы         2324  183    7.87\n",
      "операции с недвижимостью  10754  780    7.25\n"
     ]
    }
   ],
   "source": [
    "#pu_d = data[['debt', 'purpose_category']] #создаем отдельную таблицу с целью кредита и показателем задолженности по возврату кредитов\n",
    "\n",
    "#pu_total=pu_d.groupby('purpose_category').count() #подсчитываем количество клиентов с определенной целью кредита\n",
    "#print(pu_total.sort_values(by='debt',ascending=False))\n",
    "#pu_d = pu_d.loc[pu_d['debt'] == 1] #сужаем данные до клиентов с просрочками\n",
    "#pu_negative=pu_d.groupby('purpose_category').count() #расчет количества клиентов с просрочками по каждой цели кредита\n",
    "#print(pu_negative.sort_values(by='debt',ascending=False))\n",
    "#table3=100*pu_negative/pu_total #вычисляем долю в % клиентов с просрочками\n",
    "#print(table3.sort_values(by='debt',ascending=False)) #сортируем по цели кредита долю в % клиентов с просрочками по убыванию\n",
    "\n",
    "debt_grouped_3 = data.groupby('purpose_category').agg({'debt':['count','sum']})#посчитаем общее количество людей для каждой категории по целям кредита и количество людей, имеющих задолженность по этой категории\n",
    "debt_grouped_3['percent']=round((debt_grouped_3['debt']['sum']/debt_grouped_3['debt']['count']*100),2) #узнаем, какой процент от общего количества людей с определенной целью кредита имеет задолженность\n",
    "print(debt_grouped_3.sort_values(by='percent',ascending=False))\n"
   ]
  },
  {
   "cell_type": "markdown",
   "id": "b4bb2ce6",
   "metadata": {
    "deletable": false,
    "id": "b4bb2ce6"
   },
   "source": [
    "**Вывод:** Больше всего кредитов клиенты берут на операции с недвижимостью, при этом по данной цели лучший показатель своевременности возврата. По цели \"операции с автомобилем\" ситуация в корне обратная, кредиты, выданные на данную цель, наиболее рискованные для банка. Показатель просрочки по кредитам в образовательных целях максимально приближен к худшему. На \"проведение свадьбы\" выделяется меньше всего кредитов и показатель своевременности погашения здесь приближен к лучшему."
   ]
  },
  {
   "cell_type": "code",
   "execution_count": 28,
   "id": "2c0680de",
   "metadata": {},
   "outputs": [
    {
     "name": "stdout",
     "output_type": "stream",
     "text": [
      "           debt       percent\n",
      "          count   sum        \n",
      "children                     \n",
      "0         14107  1063    7.54\n",
      "1          4809   444    9.23\n",
      "2          2052   194    9.45\n",
      "3           330    27    8.18\n",
      "4            41     4    9.76\n",
      "5             9     0    0.00\n"
     ]
    }
   ],
   "source": [
    "# Код ревьюера:\n",
    "\n",
    "debt_grouped = data.groupby('children').agg({'debt':['count','sum']})#посчитаем общее количество людей для каждой категории по количеству детей и количество людей, имеющих задолженность по этой категории\n",
    "debt_grouped['percent']=round((debt_grouped['debt']['sum']/debt_grouped['debt']['count']*100),2) #узнаем, какой процент от общего количества людей с определенным количеством детей имеет задолженность\n",
    "print(debt_grouped)"
   ]
  },
  {
   "cell_type": "markdown",
   "id": "09c3ac4c",
   "metadata": {
    "deletable": false,
    "editable": false,
    "id": "09c3ac4c"
   },
   "source": [
    "**Задание 23. Приведите возможные причины появления пропусков в исходных данных.**"
   ]
  },
  {
   "cell_type": "markdown",
   "id": "9da2ceda",
   "metadata": {
    "deletable": false,
    "id": "9da2ceda"
   },
   "source": [
    "*Ответ:* В исходных данных были обнаружены пропуски в ежемесячных доходах и трудовом стаже. В первую очередь, это связано с тем, что многие клиенты не хотят раскрывать данную информацию, считая ее максимально личной и конфиденциальной. Во-вторых, клиенты на момент оформления кредита могли не знать точный трудовой стаж и пропустить данную графу. В третьих, могла произойти потеря данных ввиду человеческого фактора (по вине сотрудника банка), либо ввиду технической ошибки при переносе или сохранении данных."
   ]
  },
  {
   "cell_type": "markdown",
   "id": "6fcd9d82",
   "metadata": {},
   "source": [
    "<div class=\"alert-success\"> \n",
    "<b>Комментарий ревьюера 👍 </b>\n",
    "    \n",
    "Да, это действительно наиболее возможные (и частые) причины появления пропусков"
   ]
  },
  {
   "cell_type": "markdown",
   "id": "7b0487d6",
   "metadata": {
    "deletable": false,
    "editable": false,
    "id": "7b0487d6"
   },
   "source": [
    "**Задание 24. Объясните, почему заполнить пропуски медианным значением — лучшее решение для количественных переменных.**"
   ]
  },
  {
   "cell_type": "markdown",
   "id": "7ecf2b8e",
   "metadata": {
    "deletable": false,
    "id": "7ecf2b8e"
   },
   "source": [
    "*Ответ:*  <div class=\"alert-info\"> Медиана — это число, которое окажется строго по центру списка чисел в наборе данных, если их предварительно упорядочить по возрастанию. При заполнении пропусков в количественных переменных - это лучшее решение, так как оно не создаст сильного разрыва в данных, придав скученность показателям в районе срединного уровня. Если значение выброса увеличивается, то медиана не изменяется, в тов ремя как среднее значение растет, реагируя чувствительнее. Преддположим, если произойдет изъятие наименьшего значения, то медиана и среднее увеличится, но среднее вырастет сильнее."
   ]
  },
  {
   "cell_type": "markdown",
   "id": "6db5255a",
   "metadata": {
    "deletable": false,
    "editable": false,
    "id": "6db5255a"
   },
   "source": [
    "## Общий вывод."
   ]
  },
  {
   "cell_type": "markdown",
   "id": "bad65432",
   "metadata": {
    "id": "bad65432"
   },
   "source": [
    "Таким образом, удалось выявить, что наиболее надежный заемщик соответствует следующему паттерну: вдова или вдовец (человек в разводе) с ежемесячным доходом 30001–50000 (или 200001–1000000), не имеющий детей и берущий кредит на операции с недвижимостью (или проведение свадьбы).\n",
    "\n",
    "Наименее надежный заемщик соответствует следующему паттерну: человек не женат/не замужем, с 2 или 4 детьми, с ежемесячным доходом 0–30000 (или 50001–200000), берущий кредит на операции с автомобилем  (или получение образования)."
   ]
  }
 ],
 "metadata": {
  "ExecuteTimeLog": [
   {
    "duration": 501,
    "start_time": "2022-07-14T09:32:20.929Z"
   },
   {
    "duration": 70,
    "start_time": "2022-07-14T09:32:22.435Z"
   },
   {
    "duration": 65,
    "start_time": "2022-07-14T09:32:23.545Z"
   },
   {
    "duration": 57,
    "start_time": "2022-07-14T09:32:44.777Z"
   },
   {
    "duration": 37,
    "start_time": "2022-07-14T09:34:48.836Z"
   },
   {
    "duration": 39,
    "start_time": "2022-07-14T09:34:50.037Z"
   },
   {
    "duration": 32,
    "start_time": "2022-07-14T09:34:54.780Z"
   },
   {
    "duration": 63,
    "start_time": "2022-07-14T09:38:12.033Z"
   },
   {
    "duration": 61,
    "start_time": "2022-07-14T09:39:11.224Z"
   },
   {
    "duration": 20,
    "start_time": "2022-07-14T09:39:11.287Z"
   },
   {
    "duration": 14,
    "start_time": "2022-07-14T09:39:11.308Z"
   },
   {
    "duration": 9,
    "start_time": "2022-07-14T09:39:11.324Z"
   },
   {
    "duration": 51,
    "start_time": "2022-07-14T09:39:11.335Z"
   },
   {
    "duration": 3,
    "start_time": "2022-07-14T09:39:11.388Z"
   },
   {
    "duration": 12,
    "start_time": "2022-07-14T09:39:11.393Z"
   },
   {
    "duration": 6,
    "start_time": "2022-07-14T09:39:11.407Z"
   },
   {
    "duration": 10,
    "start_time": "2022-07-14T09:39:11.414Z"
   },
   {
    "duration": 23,
    "start_time": "2022-07-14T09:39:11.427Z"
   },
   {
    "duration": 39,
    "start_time": "2022-07-14T09:39:11.452Z"
   },
   {
    "duration": 9,
    "start_time": "2022-07-14T09:39:11.492Z"
   },
   {
    "duration": 3,
    "start_time": "2022-07-14T09:39:11.503Z"
   },
   {
    "duration": 18,
    "start_time": "2022-07-14T09:39:11.507Z"
   },
   {
    "duration": 15,
    "start_time": "2022-07-14T09:39:11.526Z"
   },
   {
    "duration": 11,
    "start_time": "2022-07-14T09:39:11.563Z"
   },
   {
    "duration": 9,
    "start_time": "2022-07-14T09:39:11.575Z"
   },
   {
    "duration": 28,
    "start_time": "2022-07-14T09:39:11.585Z"
   },
   {
    "duration": 12,
    "start_time": "2022-07-14T09:39:11.615Z"
   },
   {
    "duration": 4,
    "start_time": "2022-07-14T09:39:11.628Z"
   },
   {
    "duration": 9,
    "start_time": "2022-07-14T09:39:11.634Z"
   },
   {
    "duration": 8,
    "start_time": "2022-07-14T09:39:11.645Z"
   },
   {
    "duration": 0,
    "start_time": "2022-07-14T09:39:11.655Z"
   },
   {
    "duration": 0,
    "start_time": "2022-07-14T09:39:11.656Z"
   },
   {
    "duration": 0,
    "start_time": "2022-07-14T09:39:11.663Z"
   },
   {
    "duration": 62,
    "start_time": "2022-07-14T09:42:20.711Z"
   },
   {
    "duration": 15,
    "start_time": "2022-07-14T09:42:20.775Z"
   },
   {
    "duration": 18,
    "start_time": "2022-07-14T09:42:20.792Z"
   },
   {
    "duration": 9,
    "start_time": "2022-07-14T09:42:20.812Z"
   },
   {
    "duration": 48,
    "start_time": "2022-07-14T09:42:20.822Z"
   },
   {
    "duration": 3,
    "start_time": "2022-07-14T09:42:20.872Z"
   },
   {
    "duration": 17,
    "start_time": "2022-07-14T09:42:20.876Z"
   },
   {
    "duration": 21,
    "start_time": "2022-07-14T09:42:20.895Z"
   },
   {
    "duration": 13,
    "start_time": "2022-07-14T09:42:20.917Z"
   },
   {
    "duration": 8,
    "start_time": "2022-07-14T09:42:20.932Z"
   },
   {
    "duration": 37,
    "start_time": "2022-07-14T09:42:20.941Z"
   },
   {
    "duration": 11,
    "start_time": "2022-07-14T09:42:20.979Z"
   },
   {
    "duration": 7,
    "start_time": "2022-07-14T09:42:20.991Z"
   },
   {
    "duration": 20,
    "start_time": "2022-07-14T09:42:21.000Z"
   },
   {
    "duration": 16,
    "start_time": "2022-07-14T09:42:21.022Z"
   },
   {
    "duration": 25,
    "start_time": "2022-07-14T09:42:21.040Z"
   },
   {
    "duration": 9,
    "start_time": "2022-07-14T09:42:21.066Z"
   },
   {
    "duration": 15,
    "start_time": "2022-07-14T09:42:21.076Z"
   },
   {
    "duration": 6,
    "start_time": "2022-07-14T09:42:21.093Z"
   },
   {
    "duration": 4,
    "start_time": "2022-07-14T09:42:21.100Z"
   },
   {
    "duration": 12,
    "start_time": "2022-07-14T09:42:21.106Z"
   },
   {
    "duration": 9,
    "start_time": "2022-07-14T09:42:21.119Z"
   },
   {
    "duration": 0,
    "start_time": "2022-07-14T09:42:21.129Z"
   },
   {
    "duration": 0,
    "start_time": "2022-07-14T09:42:21.130Z"
   },
   {
    "duration": 0,
    "start_time": "2022-07-14T09:42:21.131Z"
   },
   {
    "duration": 60,
    "start_time": "2022-07-14T09:42:37.595Z"
   },
   {
    "duration": 15,
    "start_time": "2022-07-14T09:42:37.657Z"
   },
   {
    "duration": 17,
    "start_time": "2022-07-14T09:42:37.673Z"
   },
   {
    "duration": 10,
    "start_time": "2022-07-14T09:42:37.692Z"
   },
   {
    "duration": 31,
    "start_time": "2022-07-14T09:42:37.705Z"
   },
   {
    "duration": 3,
    "start_time": "2022-07-14T09:42:37.738Z"
   },
   {
    "duration": 27,
    "start_time": "2022-07-14T09:42:37.742Z"
   },
   {
    "duration": 4,
    "start_time": "2022-07-14T09:42:37.771Z"
   },
   {
    "duration": 13,
    "start_time": "2022-07-14T09:42:37.776Z"
   },
   {
    "duration": 9,
    "start_time": "2022-07-14T09:42:37.791Z"
   },
   {
    "duration": 36,
    "start_time": "2022-07-14T09:42:37.801Z"
   },
   {
    "duration": 25,
    "start_time": "2022-07-14T09:42:37.838Z"
   },
   {
    "duration": 4,
    "start_time": "2022-07-14T09:42:37.865Z"
   },
   {
    "duration": 20,
    "start_time": "2022-07-14T09:42:37.871Z"
   },
   {
    "duration": 17,
    "start_time": "2022-07-14T09:42:37.893Z"
   },
   {
    "duration": 11,
    "start_time": "2022-07-14T09:42:37.912Z"
   },
   {
    "duration": 6,
    "start_time": "2022-07-14T09:42:37.925Z"
   },
   {
    "duration": 36,
    "start_time": "2022-07-14T09:42:37.932Z"
   },
   {
    "duration": 6,
    "start_time": "2022-07-14T09:42:37.970Z"
   },
   {
    "duration": 4,
    "start_time": "2022-07-14T09:42:37.977Z"
   },
   {
    "duration": 16,
    "start_time": "2022-07-14T09:42:37.982Z"
   },
   {
    "duration": 3,
    "start_time": "2022-07-14T09:42:38.000Z"
   },
   {
    "duration": 5,
    "start_time": "2022-07-14T09:42:38.004Z"
   },
   {
    "duration": 10,
    "start_time": "2022-07-14T09:42:38.011Z"
   },
   {
    "duration": 5,
    "start_time": "2022-07-14T09:42:38.022Z"
   },
   {
    "duration": 60,
    "start_time": "2022-07-14T09:43:04.824Z"
   },
   {
    "duration": 14,
    "start_time": "2022-07-14T09:43:04.887Z"
   },
   {
    "duration": 21,
    "start_time": "2022-07-14T09:43:04.903Z"
   },
   {
    "duration": 24,
    "start_time": "2022-07-14T09:43:04.926Z"
   },
   {
    "duration": 58,
    "start_time": "2022-07-14T09:43:04.952Z"
   },
   {
    "duration": 4,
    "start_time": "2022-07-14T09:43:05.011Z"
   },
   {
    "duration": 35,
    "start_time": "2022-07-14T09:43:05.016Z"
   },
   {
    "duration": 17,
    "start_time": "2022-07-14T09:43:05.052Z"
   },
   {
    "duration": 30,
    "start_time": "2022-07-14T09:43:05.070Z"
   },
   {
    "duration": 14,
    "start_time": "2022-07-14T09:43:05.101Z"
   },
   {
    "duration": 43,
    "start_time": "2022-07-14T09:43:05.117Z"
   },
   {
    "duration": 8,
    "start_time": "2022-07-14T09:43:05.162Z"
   },
   {
    "duration": 9,
    "start_time": "2022-07-14T09:43:05.172Z"
   },
   {
    "duration": 25,
    "start_time": "2022-07-14T09:43:05.183Z"
   },
   {
    "duration": 16,
    "start_time": "2022-07-14T09:43:05.209Z"
   },
   {
    "duration": 13,
    "start_time": "2022-07-14T09:43:05.226Z"
   },
   {
    "duration": 4,
    "start_time": "2022-07-14T09:43:05.240Z"
   },
   {
    "duration": 22,
    "start_time": "2022-07-14T09:43:05.245Z"
   },
   {
    "duration": 5,
    "start_time": "2022-07-14T09:43:05.268Z"
   },
   {
    "duration": 17,
    "start_time": "2022-07-14T09:43:05.275Z"
   },
   {
    "duration": 18,
    "start_time": "2022-07-14T09:43:05.293Z"
   },
   {
    "duration": 12,
    "start_time": "2022-07-14T09:43:05.313Z"
   },
   {
    "duration": 13,
    "start_time": "2022-07-14T09:43:05.327Z"
   },
   {
    "duration": 12,
    "start_time": "2022-07-14T09:43:05.341Z"
   },
   {
    "duration": 11,
    "start_time": "2022-07-14T09:43:05.355Z"
   },
   {
    "duration": 8,
    "start_time": "2022-07-14T09:44:43.212Z"
   },
   {
    "duration": 0,
    "start_time": "2022-07-14T09:44:43.221Z"
   },
   {
    "duration": 0,
    "start_time": "2022-07-14T09:44:43.222Z"
   },
   {
    "duration": 0,
    "start_time": "2022-07-14T09:44:43.223Z"
   },
   {
    "duration": 8,
    "start_time": "2022-07-14T09:45:26.521Z"
   },
   {
    "duration": 3,
    "start_time": "2022-07-14T09:45:26.551Z"
   },
   {
    "duration": 7,
    "start_time": "2022-07-14T09:45:26.556Z"
   },
   {
    "duration": 9,
    "start_time": "2022-07-14T09:45:26.564Z"
   },
   {
    "duration": 57,
    "start_time": "2022-07-14T09:46:51.706Z"
   },
   {
    "duration": 15,
    "start_time": "2022-07-14T09:46:51.765Z"
   },
   {
    "duration": 19,
    "start_time": "2022-07-14T09:46:51.781Z"
   },
   {
    "duration": 10,
    "start_time": "2022-07-14T09:46:51.801Z"
   },
   {
    "duration": 32,
    "start_time": "2022-07-14T09:46:51.813Z"
   },
   {
    "duration": 19,
    "start_time": "2022-07-14T09:46:51.846Z"
   },
   {
    "duration": 12,
    "start_time": "2022-07-14T09:46:51.866Z"
   },
   {
    "duration": 4,
    "start_time": "2022-07-14T09:46:51.880Z"
   },
   {
    "duration": 9,
    "start_time": "2022-07-14T09:46:51.885Z"
   },
   {
    "duration": 9,
    "start_time": "2022-07-14T09:46:51.895Z"
   },
   {
    "duration": 35,
    "start_time": "2022-07-14T09:46:51.906Z"
   },
   {
    "duration": 31,
    "start_time": "2022-07-14T09:46:51.943Z"
   },
   {
    "duration": 4,
    "start_time": "2022-07-14T09:46:51.976Z"
   },
   {
    "duration": 19,
    "start_time": "2022-07-14T09:46:51.983Z"
   },
   {
    "duration": 18,
    "start_time": "2022-07-14T09:46:52.003Z"
   },
   {
    "duration": 41,
    "start_time": "2022-07-14T09:46:52.023Z"
   },
   {
    "duration": 6,
    "start_time": "2022-07-14T09:46:52.067Z"
   },
   {
    "duration": 16,
    "start_time": "2022-07-14T09:46:52.074Z"
   },
   {
    "duration": 11,
    "start_time": "2022-07-14T09:46:52.092Z"
   },
   {
    "duration": 4,
    "start_time": "2022-07-14T09:46:52.105Z"
   },
   {
    "duration": 15,
    "start_time": "2022-07-14T09:46:52.111Z"
   },
   {
    "duration": 8,
    "start_time": "2022-07-14T09:46:52.127Z"
   },
   {
    "duration": 0,
    "start_time": "2022-07-14T09:46:52.136Z"
   },
   {
    "duration": 0,
    "start_time": "2022-07-14T09:46:52.137Z"
   },
   {
    "duration": 0,
    "start_time": "2022-07-14T09:46:52.138Z"
   },
   {
    "duration": 61,
    "start_time": "2022-07-14T09:47:12.932Z"
   },
   {
    "duration": 15,
    "start_time": "2022-07-14T09:47:12.995Z"
   },
   {
    "duration": 19,
    "start_time": "2022-07-14T09:47:13.011Z"
   },
   {
    "duration": 13,
    "start_time": "2022-07-14T09:47:13.032Z"
   },
   {
    "duration": 45,
    "start_time": "2022-07-14T09:47:13.046Z"
   },
   {
    "duration": 3,
    "start_time": "2022-07-14T09:47:13.093Z"
   },
   {
    "duration": 13,
    "start_time": "2022-07-14T09:47:13.097Z"
   },
   {
    "duration": 5,
    "start_time": "2022-07-14T09:47:13.111Z"
   },
   {
    "duration": 6,
    "start_time": "2022-07-14T09:47:13.118Z"
   },
   {
    "duration": 5,
    "start_time": "2022-07-14T09:47:13.127Z"
   },
   {
    "duration": 58,
    "start_time": "2022-07-14T09:47:13.133Z"
   },
   {
    "duration": 10,
    "start_time": "2022-07-14T09:47:13.193Z"
   },
   {
    "duration": 4,
    "start_time": "2022-07-14T09:47:13.204Z"
   },
   {
    "duration": 19,
    "start_time": "2022-07-14T09:47:13.209Z"
   },
   {
    "duration": 41,
    "start_time": "2022-07-14T09:47:13.230Z"
   },
   {
    "duration": 11,
    "start_time": "2022-07-14T09:47:13.273Z"
   },
   {
    "duration": 6,
    "start_time": "2022-07-14T09:47:13.285Z"
   },
   {
    "duration": 19,
    "start_time": "2022-07-14T09:47:13.292Z"
   },
   {
    "duration": 10,
    "start_time": "2022-07-14T09:47:13.313Z"
   },
   {
    "duration": 4,
    "start_time": "2022-07-14T09:47:13.324Z"
   },
   {
    "duration": 11,
    "start_time": "2022-07-14T09:47:13.329Z"
   },
   {
    "duration": 5,
    "start_time": "2022-07-14T09:47:13.341Z"
   },
   {
    "duration": 17,
    "start_time": "2022-07-14T09:47:13.347Z"
   },
   {
    "duration": 4,
    "start_time": "2022-07-14T09:47:13.365Z"
   },
   {
    "duration": 8,
    "start_time": "2022-07-14T09:47:13.371Z"
   },
   {
    "duration": 3,
    "start_time": "2022-07-14T09:47:24.600Z"
   },
   {
    "duration": 61,
    "start_time": "2022-07-14T09:49:23.615Z"
   },
   {
    "duration": 13,
    "start_time": "2022-07-14T09:49:23.678Z"
   },
   {
    "duration": 20,
    "start_time": "2022-07-14T09:49:23.692Z"
   },
   {
    "duration": 13,
    "start_time": "2022-07-14T09:49:23.714Z"
   },
   {
    "duration": 46,
    "start_time": "2022-07-14T09:49:23.729Z"
   },
   {
    "duration": 3,
    "start_time": "2022-07-14T09:49:23.777Z"
   },
   {
    "duration": 13,
    "start_time": "2022-07-14T09:49:23.782Z"
   },
   {
    "duration": 5,
    "start_time": "2022-07-14T09:49:23.797Z"
   },
   {
    "duration": 10,
    "start_time": "2022-07-14T09:49:23.804Z"
   },
   {
    "duration": 4,
    "start_time": "2022-07-14T09:49:23.816Z"
   },
   {
    "duration": 52,
    "start_time": "2022-07-14T09:49:23.822Z"
   },
   {
    "duration": 10,
    "start_time": "2022-07-14T09:49:23.875Z"
   },
   {
    "duration": 3,
    "start_time": "2022-07-14T09:49:23.887Z"
   },
   {
    "duration": 19,
    "start_time": "2022-07-14T09:49:23.891Z"
   },
   {
    "duration": 16,
    "start_time": "2022-07-14T09:49:23.911Z"
   },
   {
    "duration": 11,
    "start_time": "2022-07-14T09:49:23.929Z"
   },
   {
    "duration": 4,
    "start_time": "2022-07-14T09:49:23.964Z"
   },
   {
    "duration": 16,
    "start_time": "2022-07-14T09:49:23.969Z"
   },
   {
    "duration": 8,
    "start_time": "2022-07-14T09:49:23.986Z"
   },
   {
    "duration": 3,
    "start_time": "2022-07-14T09:49:23.996Z"
   },
   {
    "duration": 11,
    "start_time": "2022-07-14T09:49:24.000Z"
   },
   {
    "duration": 16,
    "start_time": "2022-07-14T09:49:24.012Z"
   },
   {
    "duration": 3,
    "start_time": "2022-07-14T09:49:24.029Z"
   },
   {
    "duration": 5,
    "start_time": "2022-07-14T09:49:24.033Z"
   },
   {
    "duration": 25,
    "start_time": "2022-07-14T09:49:24.039Z"
   },
   {
    "duration": 7,
    "start_time": "2022-07-14T09:49:42.719Z"
   },
   {
    "duration": 8,
    "start_time": "2022-07-14T09:49:52.551Z"
   },
   {
    "duration": 8,
    "start_time": "2022-07-14T09:51:05.128Z"
   },
   {
    "duration": 7,
    "start_time": "2022-07-14T09:51:21.676Z"
   },
   {
    "duration": 10,
    "start_time": "2022-07-14T09:51:44.177Z"
   },
   {
    "duration": 11,
    "start_time": "2022-07-14T09:54:03.368Z"
   },
   {
    "duration": 12,
    "start_time": "2022-07-14T09:57:21.337Z"
   },
   {
    "duration": 12,
    "start_time": "2022-07-14T09:57:34.405Z"
   },
   {
    "duration": 13,
    "start_time": "2022-07-14T09:58:08.867Z"
   },
   {
    "duration": 61,
    "start_time": "2022-07-14T09:58:54.307Z"
   },
   {
    "duration": 15,
    "start_time": "2022-07-14T09:58:54.369Z"
   },
   {
    "duration": 17,
    "start_time": "2022-07-14T09:58:54.385Z"
   },
   {
    "duration": 9,
    "start_time": "2022-07-14T09:58:54.404Z"
   },
   {
    "duration": 58,
    "start_time": "2022-07-14T09:58:54.415Z"
   },
   {
    "duration": 3,
    "start_time": "2022-07-14T09:58:54.475Z"
   },
   {
    "duration": 25,
    "start_time": "2022-07-14T09:58:54.479Z"
   },
   {
    "duration": 6,
    "start_time": "2022-07-14T09:58:54.506Z"
   },
   {
    "duration": 5,
    "start_time": "2022-07-14T09:58:55.461Z"
   },
   {
    "duration": 8,
    "start_time": "2022-07-14T09:58:55.467Z"
   },
   {
    "duration": 34,
    "start_time": "2022-07-14T09:58:55.476Z"
   },
   {
    "duration": 9,
    "start_time": "2022-07-14T09:58:55.512Z"
   },
   {
    "duration": 6,
    "start_time": "2022-07-14T09:58:55.523Z"
   },
   {
    "duration": 36,
    "start_time": "2022-07-14T09:58:55.531Z"
   },
   {
    "duration": 16,
    "start_time": "2022-07-14T09:58:55.569Z"
   },
   {
    "duration": 11,
    "start_time": "2022-07-14T09:58:55.587Z"
   },
   {
    "duration": 8,
    "start_time": "2022-07-14T09:58:55.599Z"
   },
   {
    "duration": 21,
    "start_time": "2022-07-14T09:58:55.608Z"
   },
   {
    "duration": 8,
    "start_time": "2022-07-14T09:58:55.631Z"
   },
   {
    "duration": 4,
    "start_time": "2022-07-14T09:58:55.641Z"
   },
   {
    "duration": 22,
    "start_time": "2022-07-14T09:58:55.646Z"
   },
   {
    "duration": 14,
    "start_time": "2022-07-14T09:58:55.670Z"
   },
   {
    "duration": 2,
    "start_time": "2022-07-14T09:58:55.686Z"
   },
   {
    "duration": 6,
    "start_time": "2022-07-14T09:58:55.689Z"
   },
   {
    "duration": 9,
    "start_time": "2022-07-14T09:58:55.696Z"
   },
   {
    "duration": 62,
    "start_time": "2022-07-14T10:00:38.849Z"
   },
   {
    "duration": 15,
    "start_time": "2022-07-14T10:00:38.913Z"
   },
   {
    "duration": 43,
    "start_time": "2022-07-14T10:00:38.930Z"
   },
   {
    "duration": 32,
    "start_time": "2022-07-14T10:00:38.975Z"
   },
   {
    "duration": 51,
    "start_time": "2022-07-14T10:00:39.010Z"
   },
   {
    "duration": 3,
    "start_time": "2022-07-14T10:00:39.063Z"
   },
   {
    "duration": 31,
    "start_time": "2022-07-14T10:00:39.068Z"
   },
   {
    "duration": 37,
    "start_time": "2022-07-14T10:00:39.101Z"
   },
   {
    "duration": 29,
    "start_time": "2022-07-14T10:00:39.139Z"
   },
   {
    "duration": 49,
    "start_time": "2022-07-14T10:00:39.170Z"
   },
   {
    "duration": 56,
    "start_time": "2022-07-14T10:00:39.221Z"
   },
   {
    "duration": 9,
    "start_time": "2022-07-14T10:00:39.279Z"
   },
   {
    "duration": 25,
    "start_time": "2022-07-14T10:00:39.290Z"
   },
   {
    "duration": 36,
    "start_time": "2022-07-14T10:00:39.318Z"
   },
   {
    "duration": 30,
    "start_time": "2022-07-14T10:00:39.355Z"
   },
   {
    "duration": 20,
    "start_time": "2022-07-14T10:00:39.386Z"
   },
   {
    "duration": 22,
    "start_time": "2022-07-14T10:00:39.408Z"
   },
   {
    "duration": 34,
    "start_time": "2022-07-14T10:00:39.431Z"
   },
   {
    "duration": 29,
    "start_time": "2022-07-14T10:00:39.467Z"
   },
   {
    "duration": 20,
    "start_time": "2022-07-14T10:00:39.498Z"
   },
   {
    "duration": 33,
    "start_time": "2022-07-14T10:00:39.520Z"
   },
   {
    "duration": 25,
    "start_time": "2022-07-14T10:00:39.554Z"
   },
   {
    "duration": 26,
    "start_time": "2022-07-14T10:00:39.580Z"
   },
   {
    "duration": 47,
    "start_time": "2022-07-14T10:00:39.608Z"
   },
   {
    "duration": 24,
    "start_time": "2022-07-14T10:00:39.657Z"
   },
   {
    "duration": 11,
    "start_time": "2022-07-14T10:01:24.795Z"
   },
   {
    "duration": 79,
    "start_time": "2022-07-14T10:03:28.388Z"
   },
   {
    "duration": 14,
    "start_time": "2022-07-14T10:03:28.469Z"
   },
   {
    "duration": 17,
    "start_time": "2022-07-14T10:03:28.485Z"
   },
   {
    "duration": 10,
    "start_time": "2022-07-14T10:03:28.504Z"
   },
   {
    "duration": 49,
    "start_time": "2022-07-14T10:03:28.516Z"
   },
   {
    "duration": 3,
    "start_time": "2022-07-14T10:03:28.567Z"
   },
   {
    "duration": 13,
    "start_time": "2022-07-14T10:03:28.572Z"
   },
   {
    "duration": 3,
    "start_time": "2022-07-14T10:03:28.587Z"
   },
   {
    "duration": 7,
    "start_time": "2022-07-14T10:03:28.592Z"
   },
   {
    "duration": 6,
    "start_time": "2022-07-14T10:03:28.601Z"
   },
   {
    "duration": 37,
    "start_time": "2022-07-14T10:03:28.608Z"
   },
   {
    "duration": 10,
    "start_time": "2022-07-14T10:03:28.664Z"
   },
   {
    "duration": 3,
    "start_time": "2022-07-14T10:03:28.676Z"
   },
   {
    "duration": 21,
    "start_time": "2022-07-14T10:03:28.680Z"
   },
   {
    "duration": 16,
    "start_time": "2022-07-14T10:03:28.702Z"
   },
   {
    "duration": 11,
    "start_time": "2022-07-14T10:03:28.720Z"
   },
   {
    "duration": 4,
    "start_time": "2022-07-14T10:03:28.732Z"
   },
   {
    "duration": 10,
    "start_time": "2022-07-14T10:03:28.763Z"
   },
   {
    "duration": 12,
    "start_time": "2022-07-14T10:03:28.774Z"
   },
   {
    "duration": 3,
    "start_time": "2022-07-14T10:03:28.788Z"
   },
   {
    "duration": 13,
    "start_time": "2022-07-14T10:03:28.792Z"
   },
   {
    "duration": 13,
    "start_time": "2022-07-14T10:03:28.807Z"
   },
   {
    "duration": 2,
    "start_time": "2022-07-14T10:03:28.821Z"
   },
   {
    "duration": 4,
    "start_time": "2022-07-14T10:03:28.825Z"
   },
   {
    "duration": 5,
    "start_time": "2022-07-14T10:03:28.831Z"
   },
   {
    "duration": 10,
    "start_time": "2022-07-14T10:03:45.007Z"
   },
   {
    "duration": 19,
    "start_time": "2022-07-14T10:03:45.019Z"
   },
   {
    "duration": 7,
    "start_time": "2022-07-14T10:03:45.040Z"
   },
   {
    "duration": 11,
    "start_time": "2022-07-14T10:03:45.048Z"
   },
   {
    "duration": 13,
    "start_time": "2022-07-14T10:04:17.301Z"
   },
   {
    "duration": 0,
    "start_time": "2022-07-14T10:04:17.315Z"
   },
   {
    "duration": 2,
    "start_time": "2022-07-14T10:04:17.324Z"
   },
   {
    "duration": 6,
    "start_time": "2022-07-14T10:04:17.328Z"
   },
   {
    "duration": 14,
    "start_time": "2022-07-14T10:05:02.149Z"
   },
   {
    "duration": 0,
    "start_time": "2022-07-14T10:05:02.164Z"
   },
   {
    "duration": 0,
    "start_time": "2022-07-14T10:05:02.165Z"
   },
   {
    "duration": 0,
    "start_time": "2022-07-14T10:05:02.167Z"
   },
   {
    "duration": 11,
    "start_time": "2022-07-14T10:05:20.355Z"
   },
   {
    "duration": 0,
    "start_time": "2022-07-14T10:05:20.368Z"
   },
   {
    "duration": 0,
    "start_time": "2022-07-14T10:05:20.370Z"
   },
   {
    "duration": 0,
    "start_time": "2022-07-14T10:05:20.371Z"
   },
   {
    "duration": 9,
    "start_time": "2022-07-14T10:06:33.273Z"
   },
   {
    "duration": 0,
    "start_time": "2022-07-14T10:06:33.284Z"
   },
   {
    "duration": 0,
    "start_time": "2022-07-14T10:06:33.285Z"
   },
   {
    "duration": 0,
    "start_time": "2022-07-14T10:06:33.286Z"
   },
   {
    "duration": 8,
    "start_time": "2022-07-14T10:07:25.318Z"
   },
   {
    "duration": 11,
    "start_time": "2022-07-14T10:08:53.410Z"
   },
   {
    "duration": 15,
    "start_time": "2022-07-14T10:09:17.535Z"
   },
   {
    "duration": 17,
    "start_time": "2022-07-14T10:10:32.303Z"
   },
   {
    "duration": 16,
    "start_time": "2022-07-14T10:11:02.252Z"
   },
   {
    "duration": 17,
    "start_time": "2022-07-14T10:11:35.648Z"
   },
   {
    "duration": 20,
    "start_time": "2022-07-14T10:13:15.777Z"
   },
   {
    "duration": 22,
    "start_time": "2022-07-14T10:13:52.428Z"
   },
   {
    "duration": 13,
    "start_time": "2022-07-14T10:16:23.390Z"
   },
   {
    "duration": 11,
    "start_time": "2022-07-14T10:16:46.281Z"
   },
   {
    "duration": 68,
    "start_time": "2022-07-14T10:16:53.273Z"
   },
   {
    "duration": 14,
    "start_time": "2022-07-14T10:16:53.343Z"
   },
   {
    "duration": 17,
    "start_time": "2022-07-14T10:16:53.358Z"
   },
   {
    "duration": 10,
    "start_time": "2022-07-14T10:16:53.377Z"
   },
   {
    "duration": 35,
    "start_time": "2022-07-14T10:16:53.389Z"
   },
   {
    "duration": 4,
    "start_time": "2022-07-14T10:16:53.425Z"
   },
   {
    "duration": 10,
    "start_time": "2022-07-14T10:16:53.430Z"
   },
   {
    "duration": 25,
    "start_time": "2022-07-14T10:16:53.441Z"
   },
   {
    "duration": 12,
    "start_time": "2022-07-14T10:16:53.469Z"
   },
   {
    "duration": 5,
    "start_time": "2022-07-14T10:16:53.484Z"
   },
   {
    "duration": 35,
    "start_time": "2022-07-14T10:16:53.490Z"
   },
   {
    "duration": 10,
    "start_time": "2022-07-14T10:16:53.527Z"
   },
   {
    "duration": 26,
    "start_time": "2022-07-14T10:16:53.538Z"
   },
   {
    "duration": 16,
    "start_time": "2022-07-14T10:16:53.566Z"
   },
   {
    "duration": 17,
    "start_time": "2022-07-14T10:16:53.584Z"
   },
   {
    "duration": 12,
    "start_time": "2022-07-14T10:16:53.603Z"
   },
   {
    "duration": 9,
    "start_time": "2022-07-14T10:16:53.616Z"
   },
   {
    "duration": 40,
    "start_time": "2022-07-14T10:16:53.627Z"
   },
   {
    "duration": 7,
    "start_time": "2022-07-14T10:16:53.669Z"
   },
   {
    "duration": 4,
    "start_time": "2022-07-14T10:16:53.677Z"
   },
   {
    "duration": 9,
    "start_time": "2022-07-14T10:16:53.683Z"
   },
   {
    "duration": 12,
    "start_time": "2022-07-14T10:16:53.693Z"
   },
   {
    "duration": 0,
    "start_time": "2022-07-14T10:16:53.707Z"
   },
   {
    "duration": 0,
    "start_time": "2022-07-14T10:16:53.708Z"
   },
   {
    "duration": 0,
    "start_time": "2022-07-14T10:16:53.709Z"
   },
   {
    "duration": 82,
    "start_time": "2022-07-14T10:17:07.916Z"
   },
   {
    "duration": 14,
    "start_time": "2022-07-14T10:17:08.000Z"
   },
   {
    "duration": 19,
    "start_time": "2022-07-14T10:17:08.016Z"
   },
   {
    "duration": 9,
    "start_time": "2022-07-14T10:17:08.037Z"
   },
   {
    "duration": 46,
    "start_time": "2022-07-14T10:17:08.063Z"
   },
   {
    "duration": 3,
    "start_time": "2022-07-14T10:17:08.111Z"
   },
   {
    "duration": 13,
    "start_time": "2022-07-14T10:17:08.116Z"
   },
   {
    "duration": 4,
    "start_time": "2022-07-14T10:17:08.131Z"
   },
   {
    "duration": 7,
    "start_time": "2022-07-14T10:17:08.136Z"
   },
   {
    "duration": 21,
    "start_time": "2022-07-14T10:17:08.146Z"
   },
   {
    "duration": 116,
    "start_time": "2022-07-14T10:17:08.169Z"
   },
   {
    "duration": 17,
    "start_time": "2022-07-14T10:17:08.287Z"
   },
   {
    "duration": 3,
    "start_time": "2022-07-14T10:17:08.306Z"
   },
   {
    "duration": 23,
    "start_time": "2022-07-14T10:17:08.311Z"
   },
   {
    "duration": 37,
    "start_time": "2022-07-14T10:17:08.335Z"
   },
   {
    "duration": 10,
    "start_time": "2022-07-14T10:17:08.375Z"
   },
   {
    "duration": 10,
    "start_time": "2022-07-14T10:17:08.386Z"
   },
   {
    "duration": 12,
    "start_time": "2022-07-14T10:17:08.397Z"
   },
   {
    "duration": 6,
    "start_time": "2022-07-14T10:17:08.410Z"
   },
   {
    "duration": 4,
    "start_time": "2022-07-14T10:17:08.417Z"
   },
   {
    "duration": 45,
    "start_time": "2022-07-14T10:17:08.422Z"
   },
   {
    "duration": 5,
    "start_time": "2022-07-14T10:17:08.469Z"
   },
   {
    "duration": 6,
    "start_time": "2022-07-14T10:17:08.476Z"
   },
   {
    "duration": 13,
    "start_time": "2022-07-14T10:17:08.483Z"
   },
   {
    "duration": 6,
    "start_time": "2022-07-14T10:17:08.498Z"
   },
   {
    "duration": 12,
    "start_time": "2022-07-14T10:18:52.889Z"
   },
   {
    "duration": 926,
    "start_time": "2022-07-14T10:26:52.267Z"
   },
   {
    "duration": 807,
    "start_time": "2022-07-14T10:27:17.492Z"
   },
   {
    "duration": 9,
    "start_time": "2022-07-14T10:27:35.825Z"
   },
   {
    "duration": 48,
    "start_time": "2022-07-14T10:28:30.566Z"
   },
   {
    "duration": 49,
    "start_time": "2022-07-14T10:28:38.641Z"
   },
   {
    "duration": 7,
    "start_time": "2022-07-14T10:29:19.036Z"
   },
   {
    "duration": 7,
    "start_time": "2022-07-14T10:29:36.051Z"
   },
   {
    "duration": 11,
    "start_time": "2022-07-14T10:30:11.381Z"
   },
   {
    "duration": 10,
    "start_time": "2022-07-14T10:34:09.654Z"
   },
   {
    "duration": 14,
    "start_time": "2022-07-14T10:53:45.032Z"
   },
   {
    "duration": 26,
    "start_time": "2022-07-14T10:54:52.783Z"
   },
   {
    "duration": 13,
    "start_time": "2022-07-14T10:55:00.279Z"
   },
   {
    "duration": 12,
    "start_time": "2022-07-14T10:58:39.329Z"
   },
   {
    "duration": 59,
    "start_time": "2022-07-14T10:58:58.526Z"
   },
   {
    "duration": 12,
    "start_time": "2022-07-14T10:59:01.946Z"
   },
   {
    "duration": 21,
    "start_time": "2022-07-14T10:59:31.301Z"
   },
   {
    "duration": 15,
    "start_time": "2022-07-14T11:01:22.798Z"
   },
   {
    "duration": 12,
    "start_time": "2022-07-14T11:03:16.143Z"
   },
   {
    "duration": 16,
    "start_time": "2022-07-14T11:07:33.072Z"
   },
   {
    "duration": 17,
    "start_time": "2022-07-14T11:09:55.763Z"
   },
   {
    "duration": 13,
    "start_time": "2022-07-14T11:10:16.801Z"
   },
   {
    "duration": 17,
    "start_time": "2022-07-14T11:12:41.452Z"
   },
   {
    "duration": 17,
    "start_time": "2022-07-14T11:47:20.075Z"
   },
   {
    "duration": 19,
    "start_time": "2022-07-14T12:08:00.126Z"
   },
   {
    "duration": 17,
    "start_time": "2022-07-14T12:08:16.712Z"
   },
   {
    "duration": 22,
    "start_time": "2022-07-14T12:16:42.699Z"
   },
   {
    "duration": 17,
    "start_time": "2022-07-14T12:16:53.720Z"
   },
   {
    "duration": 48,
    "start_time": "2022-07-14T16:11:11.955Z"
   },
   {
    "duration": 931,
    "start_time": "2022-07-14T16:11:37.658Z"
   },
   {
    "duration": 21,
    "start_time": "2022-07-14T16:11:38.591Z"
   },
   {
    "duration": 16,
    "start_time": "2022-07-14T16:11:38.613Z"
   },
   {
    "duration": 10,
    "start_time": "2022-07-14T16:11:39.142Z"
   },
   {
    "duration": 32,
    "start_time": "2022-07-14T16:11:39.489Z"
   },
   {
    "duration": 4,
    "start_time": "2022-07-14T16:11:40.053Z"
   },
   {
    "duration": 7,
    "start_time": "2022-07-14T16:11:40.422Z"
   },
   {
    "duration": 5,
    "start_time": "2022-07-14T16:11:40.977Z"
   },
   {
    "duration": 7,
    "start_time": "2022-07-14T16:11:41.351Z"
   },
   {
    "duration": 4,
    "start_time": "2022-07-14T16:11:41.727Z"
   },
   {
    "duration": 34,
    "start_time": "2022-07-14T16:11:42.321Z"
   },
   {
    "duration": 10,
    "start_time": "2022-07-14T16:11:42.715Z"
   },
   {
    "duration": 4,
    "start_time": "2022-07-14T16:11:43.283Z"
   },
   {
    "duration": 18,
    "start_time": "2022-07-14T16:11:43.860Z"
   },
   {
    "duration": 16,
    "start_time": "2022-07-14T16:11:44.067Z"
   },
   {
    "duration": 12,
    "start_time": "2022-07-14T16:11:44.449Z"
   },
   {
    "duration": 3,
    "start_time": "2022-07-14T16:11:45.067Z"
   },
   {
    "duration": 10,
    "start_time": "2022-07-14T16:11:45.253Z"
   },
   {
    "duration": 6,
    "start_time": "2022-07-14T16:11:45.660Z"
   },
   {
    "duration": 3,
    "start_time": "2022-07-14T16:11:46.035Z"
   },
   {
    "duration": 8,
    "start_time": "2022-07-14T16:11:46.249Z"
   },
   {
    "duration": 13,
    "start_time": "2022-07-14T16:11:46.878Z"
   },
   {
    "duration": 13,
    "start_time": "2022-07-14T16:11:52.949Z"
   },
   {
    "duration": 12,
    "start_time": "2022-07-14T16:12:00.504Z"
   },
   {
    "duration": 12,
    "start_time": "2022-07-14T16:12:24.416Z"
   },
   {
    "duration": 89,
    "start_time": "2022-07-15T08:45:41.908Z"
   },
   {
    "duration": 58,
    "start_time": "2022-07-15T08:46:50.355Z"
   },
   {
    "duration": 45,
    "start_time": "2022-07-15T08:50:41.418Z"
   },
   {
    "duration": 735,
    "start_time": "2022-07-15T08:51:00.403Z"
   },
   {
    "duration": 26,
    "start_time": "2022-07-15T08:51:01.141Z"
   },
   {
    "duration": 16,
    "start_time": "2022-07-15T08:51:01.169Z"
   },
   {
    "duration": 38,
    "start_time": "2022-07-15T08:51:01.187Z"
   },
   {
    "duration": 42,
    "start_time": "2022-07-15T08:51:01.226Z"
   },
   {
    "duration": 4,
    "start_time": "2022-07-15T08:51:01.269Z"
   },
   {
    "duration": 22,
    "start_time": "2022-07-15T08:51:01.274Z"
   },
   {
    "duration": 13,
    "start_time": "2022-07-15T08:51:01.298Z"
   },
   {
    "duration": 17,
    "start_time": "2022-07-15T08:51:01.312Z"
   },
   {
    "duration": 21,
    "start_time": "2022-07-15T08:51:01.332Z"
   },
   {
    "duration": 60,
    "start_time": "2022-07-15T08:51:01.354Z"
   },
   {
    "duration": 42,
    "start_time": "2022-07-15T08:51:01.416Z"
   },
   {
    "duration": 18,
    "start_time": "2022-07-15T08:51:01.460Z"
   },
   {
    "duration": 47,
    "start_time": "2022-07-15T08:51:01.479Z"
   },
   {
    "duration": 43,
    "start_time": "2022-07-15T08:51:01.528Z"
   },
   {
    "duration": 31,
    "start_time": "2022-07-15T08:51:01.573Z"
   },
   {
    "duration": 14,
    "start_time": "2022-07-15T08:51:01.606Z"
   },
   {
    "duration": 61,
    "start_time": "2022-07-15T08:51:01.621Z"
   },
   {
    "duration": 70,
    "start_time": "2022-07-15T08:51:01.684Z"
   },
   {
    "duration": 38,
    "start_time": "2022-07-15T08:51:01.755Z"
   },
   {
    "duration": 39,
    "start_time": "2022-07-15T08:51:01.795Z"
   },
   {
    "duration": 68,
    "start_time": "2022-07-15T08:51:01.836Z"
   },
   {
    "duration": 0,
    "start_time": "2022-07-15T08:51:01.906Z"
   },
   {
    "duration": 0,
    "start_time": "2022-07-15T08:51:01.907Z"
   },
   {
    "duration": 0,
    "start_time": "2022-07-15T08:51:01.908Z"
   },
   {
    "duration": 0,
    "start_time": "2022-07-15T08:51:01.909Z"
   },
   {
    "duration": 16,
    "start_time": "2022-07-15T08:51:20.073Z"
   },
   {
    "duration": 15,
    "start_time": "2022-07-15T08:51:54.175Z"
   },
   {
    "duration": 14,
    "start_time": "2022-07-15T08:55:28.871Z"
   },
   {
    "duration": 24,
    "start_time": "2022-07-15T09:07:07.869Z"
   },
   {
    "duration": 21,
    "start_time": "2022-07-15T09:07:09.784Z"
   },
   {
    "duration": 19,
    "start_time": "2022-07-15T09:07:31.555Z"
   },
   {
    "duration": 15,
    "start_time": "2022-07-15T09:11:52.013Z"
   },
   {
    "duration": 25,
    "start_time": "2022-07-15T09:13:32.205Z"
   },
   {
    "duration": 27,
    "start_time": "2022-07-15T09:14:29.819Z"
   },
   {
    "duration": 13,
    "start_time": "2022-07-15T09:15:31.540Z"
   },
   {
    "duration": 12,
    "start_time": "2022-07-15T09:16:41.697Z"
   },
   {
    "duration": 13,
    "start_time": "2022-07-15T09:24:12.003Z"
   },
   {
    "duration": 16,
    "start_time": "2022-07-15T09:28:16.919Z"
   },
   {
    "duration": 26,
    "start_time": "2022-07-15T09:31:01.333Z"
   },
   {
    "duration": 15,
    "start_time": "2022-07-15T09:31:46.940Z"
   },
   {
    "duration": 14,
    "start_time": "2022-07-15T09:33:02.997Z"
   },
   {
    "duration": 26,
    "start_time": "2022-07-15T09:33:34.360Z"
   },
   {
    "duration": 15,
    "start_time": "2022-07-15T09:33:59.649Z"
   }
  ],
  "colab": {
   "name": "dpp_template_part2.ipynb",
   "provenance": []
  },
  "kernelspec": {
   "display_name": "Python 3 (ipykernel)",
   "language": "python",
   "name": "python3"
  },
  "language_info": {
   "codemirror_mode": {
    "name": "ipython",
    "version": 3
   },
   "file_extension": ".py",
   "mimetype": "text/x-python",
   "name": "python",
   "nbconvert_exporter": "python",
   "pygments_lexer": "ipython3",
   "version": "3.9.5"
  },
  "toc": {
   "base_numbering": 1,
   "nav_menu": {},
   "number_sections": true,
   "sideBar": true,
   "skip_h1_title": true,
   "title_cell": "Table of Contents",
   "title_sidebar": "Contents",
   "toc_cell": false,
   "toc_position": {},
   "toc_section_display": true,
   "toc_window_display": false
  }
 },
 "nbformat": 4,
 "nbformat_minor": 5
}
