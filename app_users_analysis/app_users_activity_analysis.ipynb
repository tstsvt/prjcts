{
 "cells": [
  {
   "cell_type": "markdown",
   "metadata": {},
   "source": [
    "## О проекте \"Анализ активности пользователей мобильного приложения\"\n",
    "\n",
    "Цель: разобраться, как ведут себя пользователи мобильного приложения после внедрение нового шрифта.\n",
    "\n",
    "Задачи:\n",
    "Изучить воронку продаж. Узнать, как пользователи доходят до покупки. Сколько пользователей доходит до покупки, а сколько — «застревает» на предыдущих шагах? На каких именно?\n",
    "Исследовать результаты A/A/B-эксперимента."
   ]
  },
  {
   "cell_type": "markdown",
   "metadata": {},
   "source": [
    "## Обзор и подготовка данных\n",
    "Путь к файлу: /datasets/logs_exp.csv. \n",
    "\n",
    "**Описание данных:**\n",
    "\n",
    "Каждая запись в логе — это действие пользователя, или событие.\n",
    "\n",
    "EventName — название события;\n",
    "\n",
    "DeviceIDHash — уникальный идентификатор пользователя;\n",
    "\n",
    "EventTimestamp — время события;\n",
    "\n",
    "ExpId — номер эксперимента: 246 и 247 — контрольные группы, а 248 — экспериментальная.\n"
   ]
  },
  {
   "cell_type": "code",
   "execution_count": 1,
   "metadata": {},
   "outputs": [],
   "source": [
    "import pandas as pd\n",
    "from datetime import datetime as dt\n",
    "from matplotlib import pyplot as plt\n",
    "from scipy import stats as st\n",
    "import seaborn as sns\n",
    "import numpy as np\n",
    "import math as mth"
   ]
  },
  {
   "cell_type": "code",
   "execution_count": 2,
   "metadata": {},
   "outputs": [
    {
     "name": "stdout",
     "output_type": "stream",
     "text": [
      "<class 'pandas.core.frame.DataFrame'>\n",
      "RangeIndex: 244126 entries, 0 to 244125\n",
      "Data columns (total 4 columns):\n",
      " #   Column          Non-Null Count   Dtype         \n",
      "---  ------          --------------   -----         \n",
      " 0   eventname       244126 non-null  object        \n",
      " 1   deviceidhash    244126 non-null  int64         \n",
      " 2   eventtimestamp  244126 non-null  datetime64[ns]\n",
      " 3   expid           244126 non-null  int64         \n",
      "dtypes: datetime64[ns](1), int64(2), object(1)\n",
      "memory usage: 7.5+ MB\n"
     ]
    },
    {
     "data": {
      "text/html": [
       "<div>\n",
       "<style scoped>\n",
       "    .dataframe tbody tr th:only-of-type {\n",
       "        vertical-align: middle;\n",
       "    }\n",
       "\n",
       "    .dataframe tbody tr th {\n",
       "        vertical-align: top;\n",
       "    }\n",
       "\n",
       "    .dataframe thead th {\n",
       "        text-align: right;\n",
       "    }\n",
       "</style>\n",
       "<table border=\"1\" class=\"dataframe\">\n",
       "  <thead>\n",
       "    <tr style=\"text-align: right;\">\n",
       "      <th></th>\n",
       "      <th>eventname</th>\n",
       "      <th>deviceidhash</th>\n",
       "      <th>eventtimestamp</th>\n",
       "      <th>expid</th>\n",
       "    </tr>\n",
       "  </thead>\n",
       "  <tbody>\n",
       "    <tr>\n",
       "      <th>0</th>\n",
       "      <td>MainScreenAppear</td>\n",
       "      <td>4575588528974610257</td>\n",
       "      <td>2019-07-25 04:43:36</td>\n",
       "      <td>246</td>\n",
       "    </tr>\n",
       "    <tr>\n",
       "      <th>1</th>\n",
       "      <td>MainScreenAppear</td>\n",
       "      <td>7416695313311560658</td>\n",
       "      <td>2019-07-25 11:11:42</td>\n",
       "      <td>246</td>\n",
       "    </tr>\n",
       "    <tr>\n",
       "      <th>2</th>\n",
       "      <td>PaymentScreenSuccessful</td>\n",
       "      <td>3518123091307005509</td>\n",
       "      <td>2019-07-25 11:28:47</td>\n",
       "      <td>248</td>\n",
       "    </tr>\n",
       "    <tr>\n",
       "      <th>3</th>\n",
       "      <td>CartScreenAppear</td>\n",
       "      <td>3518123091307005509</td>\n",
       "      <td>2019-07-25 11:28:47</td>\n",
       "      <td>248</td>\n",
       "    </tr>\n",
       "    <tr>\n",
       "      <th>4</th>\n",
       "      <td>PaymentScreenSuccessful</td>\n",
       "      <td>6217807653094995999</td>\n",
       "      <td>2019-07-25 11:48:42</td>\n",
       "      <td>248</td>\n",
       "    </tr>\n",
       "    <tr>\n",
       "      <th>5</th>\n",
       "      <td>CartScreenAppear</td>\n",
       "      <td>6217807653094995999</td>\n",
       "      <td>2019-07-25 11:48:43</td>\n",
       "      <td>248</td>\n",
       "    </tr>\n",
       "    <tr>\n",
       "      <th>6</th>\n",
       "      <td>OffersScreenAppear</td>\n",
       "      <td>8351860793733343758</td>\n",
       "      <td>2019-07-25 14:50:42</td>\n",
       "      <td>246</td>\n",
       "    </tr>\n",
       "    <tr>\n",
       "      <th>7</th>\n",
       "      <td>MainScreenAppear</td>\n",
       "      <td>5682100281902512875</td>\n",
       "      <td>2019-07-25 20:14:37</td>\n",
       "      <td>246</td>\n",
       "    </tr>\n",
       "    <tr>\n",
       "      <th>8</th>\n",
       "      <td>MainScreenAppear</td>\n",
       "      <td>1850981295691852772</td>\n",
       "      <td>2019-07-25 20:31:42</td>\n",
       "      <td>247</td>\n",
       "    </tr>\n",
       "    <tr>\n",
       "      <th>9</th>\n",
       "      <td>MainScreenAppear</td>\n",
       "      <td>5407636962369102641</td>\n",
       "      <td>2019-07-26 03:35:12</td>\n",
       "      <td>246</td>\n",
       "    </tr>\n",
       "  </tbody>\n",
       "</table>\n",
       "</div>"
      ],
      "text/plain": [
       "                 eventname         deviceidhash      eventtimestamp  expid\n",
       "0         MainScreenAppear  4575588528974610257 2019-07-25 04:43:36    246\n",
       "1         MainScreenAppear  7416695313311560658 2019-07-25 11:11:42    246\n",
       "2  PaymentScreenSuccessful  3518123091307005509 2019-07-25 11:28:47    248\n",
       "3         CartScreenAppear  3518123091307005509 2019-07-25 11:28:47    248\n",
       "4  PaymentScreenSuccessful  6217807653094995999 2019-07-25 11:48:42    248\n",
       "5         CartScreenAppear  6217807653094995999 2019-07-25 11:48:43    248\n",
       "6       OffersScreenAppear  8351860793733343758 2019-07-25 14:50:42    246\n",
       "7         MainScreenAppear  5682100281902512875 2019-07-25 20:14:37    246\n",
       "8         MainScreenAppear  1850981295691852772 2019-07-25 20:31:42    247\n",
       "9         MainScreenAppear  5407636962369102641 2019-07-26 03:35:12    246"
      ]
     },
     "execution_count": 2,
     "metadata": {},
     "output_type": "execute_result"
    }
   ],
   "source": [
    "df=pd.read_csv('/datasets/logs_exp.csv', sep = '\\t')\n",
    "\n",
    "df['EventTimestamp']=pd.to_datetime(df['EventTimestamp'], unit='s') # приведение к datetime\n",
    "df.columns = [x.lower() for x in df.columns] # нижний регистр колонок\n",
    "df.info()\n",
    "df.shape[0]\n",
    "df.head(10)"
   ]
  },
  {
   "cell_type": "code",
   "execution_count": 3,
   "metadata": {},
   "outputs": [
    {
     "name": "stdout",
     "output_type": "stream",
     "text": [
      "413\n"
     ]
    }
   ],
   "source": [
    "print(df.duplicated().sum()) #проверка на полные дубликаты\n",
    "df=df.drop_duplicates()"
   ]
  },
  {
   "cell_type": "markdown",
   "metadata": {},
   "source": [
    "**Обнаружено и удалено 413 полных дубликатов**"
   ]
  },
  {
   "cell_type": "code",
   "execution_count": 4,
   "metadata": {},
   "outputs": [
    {
     "data": {
      "text/plain": [
       "eventname         0\n",
       "deviceidhash      0\n",
       "eventtimestamp    0\n",
       "expid             0\n",
       "dtype: int64"
      ]
     },
     "metadata": {},
     "output_type": "display_data"
    },
    {
     "data": {
      "text/html": [
       "<div>\n",
       "<style scoped>\n",
       "    .dataframe tbody tr th:only-of-type {\n",
       "        vertical-align: middle;\n",
       "    }\n",
       "\n",
       "    .dataframe tbody tr th {\n",
       "        vertical-align: top;\n",
       "    }\n",
       "\n",
       "    .dataframe thead th {\n",
       "        text-align: right;\n",
       "    }\n",
       "</style>\n",
       "<table border=\"1\" class=\"dataframe\">\n",
       "  <thead>\n",
       "    <tr style=\"text-align: right;\">\n",
       "      <th></th>\n",
       "      <th>eventname</th>\n",
       "      <th>deviceidhash</th>\n",
       "      <th>eventtimestamp</th>\n",
       "      <th>expid</th>\n",
       "      <th>date</th>\n",
       "    </tr>\n",
       "  </thead>\n",
       "  <tbody>\n",
       "    <tr>\n",
       "      <th>0</th>\n",
       "      <td>MainScreenAppear</td>\n",
       "      <td>4575588528974610257</td>\n",
       "      <td>2019-07-25 04:43:36</td>\n",
       "      <td>246</td>\n",
       "      <td>2019-07-25</td>\n",
       "    </tr>\n",
       "    <tr>\n",
       "      <th>1</th>\n",
       "      <td>MainScreenAppear</td>\n",
       "      <td>7416695313311560658</td>\n",
       "      <td>2019-07-25 11:11:42</td>\n",
       "      <td>246</td>\n",
       "      <td>2019-07-25</td>\n",
       "    </tr>\n",
       "    <tr>\n",
       "      <th>2</th>\n",
       "      <td>PaymentScreenSuccessful</td>\n",
       "      <td>3518123091307005509</td>\n",
       "      <td>2019-07-25 11:28:47</td>\n",
       "      <td>248</td>\n",
       "      <td>2019-07-25</td>\n",
       "    </tr>\n",
       "    <tr>\n",
       "      <th>3</th>\n",
       "      <td>CartScreenAppear</td>\n",
       "      <td>3518123091307005509</td>\n",
       "      <td>2019-07-25 11:28:47</td>\n",
       "      <td>248</td>\n",
       "      <td>2019-07-25</td>\n",
       "    </tr>\n",
       "    <tr>\n",
       "      <th>4</th>\n",
       "      <td>PaymentScreenSuccessful</td>\n",
       "      <td>6217807653094995999</td>\n",
       "      <td>2019-07-25 11:48:42</td>\n",
       "      <td>248</td>\n",
       "      <td>2019-07-25</td>\n",
       "    </tr>\n",
       "  </tbody>\n",
       "</table>\n",
       "</div>"
      ],
      "text/plain": [
       "                 eventname         deviceidhash      eventtimestamp  expid  \\\n",
       "0         MainScreenAppear  4575588528974610257 2019-07-25 04:43:36    246   \n",
       "1         MainScreenAppear  7416695313311560658 2019-07-25 11:11:42    246   \n",
       "2  PaymentScreenSuccessful  3518123091307005509 2019-07-25 11:28:47    248   \n",
       "3         CartScreenAppear  3518123091307005509 2019-07-25 11:28:47    248   \n",
       "4  PaymentScreenSuccessful  6217807653094995999 2019-07-25 11:48:42    248   \n",
       "\n",
       "         date  \n",
       "0  2019-07-25  \n",
       "1  2019-07-25  \n",
       "2  2019-07-25  \n",
       "3  2019-07-25  \n",
       "4  2019-07-25  "
      ]
     },
     "execution_count": 4,
     "metadata": {},
     "output_type": "execute_result"
    }
   ],
   "source": [
    "display(df.isna().sum()) # проверка на пропуски\n",
    "\n",
    "#df['date']=pd.to_datetime(df['eventtimestamp'], format='%Y-%m-%dT')\n",
    "df['date']=df.eventtimestamp.apply (lambda x: x. date ()) # извлекаем дату в отдельный столбец\n",
    "df.head()"
   ]
  },
  {
   "cell_type": "markdown",
   "metadata": {},
   "source": [
    "Данные содержат большую таблицу на 244126 строк с четырьмя колонками. Время события необходимо перевести из целочисленного типа данных в datetime. Для удобства было решено перевести названия всех колонок к нижнему регистру. Добавлен отдельный столбец с датой. Пропусков в данных не было выявлено."
   ]
  },
  {
   "cell_type": "markdown",
   "metadata": {},
   "source": [
    "## Изучение и проверка данных"
   ]
  },
  {
   "cell_type": "code",
   "execution_count": 5,
   "metadata": {},
   "outputs": [
    {
     "name": "stdout",
     "output_type": "stream",
     "text": [
      "Всего событий: 243713\n",
      "Всего пользователей: 7551\n",
      "Среднее значение событий на пользователя: 32.27559263673685\n",
      "Медианное значение событий на пользователя: 20.0\n",
      "Минимальное значение событий на пользователя: 1\n",
      "Максимальное значение событий на пользователя: 2307\n",
      "Начало периода: 2019-07-25\n",
      "Конец периода: 2019-08-07\n"
     ]
    },
    {
     "data": {
      "image/png": "[encoded data removed]",
      "text/plain": [
       "<Figure size 1152x432 with 1 Axes>"
      ]
     },
     "metadata": {
      "needs_background": "light"
     },
     "output_type": "display_data"
    }
   ],
   "source": [
    "evs=len(df['eventname'])\n",
    "users=len(df['deviceidhash'].unique())\n",
    "eu=df.groupby('deviceidhash').agg({'eventname':'count'}).reset_index()\n",
    "\n",
    "print('Всего событий:', evs)\n",
    "print('Всего пользователей:', users)\n",
    "print('Среднее значение событий на пользователя:', evs/users)\n",
    "print('Медианное значение событий на пользователя:', eu['eventname'].median())\n",
    "print('Минимальное значение событий на пользователя:', eu['eventname'].min())\n",
    "print('Максимальное значение событий на пользователя:', eu['eventname'].max())\n",
    "\n",
    "print('Начало периода:',df['date'].min())\n",
    "print('Конец периода:',df['date'].max())\n",
    "\n",
    "df.hist('eventtimestamp',figsize=(16,6))\n",
    "plt.title(r'График по дате и времени')\n",
    "plt.xlabel(r'date', fontsize=16)\n",
    "plt.show()# гистограмма по дате и времени"
   ]
  },
  {
   "cell_type": "code",
   "execution_count": 6,
   "metadata": {
    "scrolled": false
   },
   "outputs": [
    {
     "name": "stdout",
     "output_type": "stream",
     "text": [
      "Аномальных пользователей: 76\n",
      "99% пользователей совершают менее 200.5 событий\n",
      "Количество строк:\n",
      "до обработки 243713 строк\n",
      "после обработки 209333 строк\n"
     ]
    },
    {
     "data": {
      "image/png": "[encoded data removed]",
      "text/plain": [
       "<Figure size 720x576 with 1 Axes>"
      ]
     },
     "metadata": {
      "needs_background": "light"
     },
     "output_type": "display_data"
    }
   ],
   "source": [
    "eu['eventname'].hist(figsize=(10,8))\n",
    "plt.ylabel(r'user', fontsize=16)\n",
    "plt.xlabel(r'events', fontsize=16)\n",
    "plt.title(r'График количества событий по пользователям')\n",
    "print('Аномальных пользователей:', eu.query('eventname > 200')['deviceidhash'].count())\n",
    "\n",
    "print('99% пользователей совершают менее', eu['eventname'].quantile(0.99), 'событий') # Вычисляю значение 99 квантиля\n",
    "\n",
    "# Получаю список идентификаторов устройств c аномальным количеством событий\n",
    "junk = list(eu.query('eventname > 200')['deviceidhash'])\n",
    "print('Количество строк:')\n",
    "print('до обработки',len(df), 'строк')\n",
    "# Удаляю все записи с идентификаторами из списка 'junk'\n",
    "df2 = df.query('deviceidhash not in @junk').copy()\n",
    "print('после обработки',len(df2), 'строк')"
   ]
  },
  {
   "cell_type": "markdown",
   "metadata": {},
   "source": [
    "По гистограмме стало заметно, что мы имеем разные по полноте данные, до августа крайне мало информации в датафрейме. На самом деле мы располагаем данными за первую неделю августа 2019 года. 99% пользователей совершают менее 200.5 событий, соответственно аномалии (76) были удалены."
   ]
  },
  {
   "cell_type": "code",
   "execution_count": 7,
   "metadata": {},
   "outputs": [
    {
     "name": "stdout",
     "output_type": "stream",
     "text": [
      "<class 'pandas.core.frame.DataFrame'>\n",
      "Int64Index: 206615 entries, 2828 to 244125\n",
      "Data columns (total 6 columns):\n",
      " #   Column          Non-Null Count   Dtype         \n",
      "---  ------          --------------   -----         \n",
      " 0   eventname       206615 non-null  object        \n",
      " 1   deviceidhash    206615 non-null  int64         \n",
      " 2   eventtimestamp  206615 non-null  datetime64[ns]\n",
      " 3   expid           206615 non-null  int64         \n",
      " 4   date            206615 non-null  object        \n",
      " 5   month           206615 non-null  int64         \n",
      "dtypes: datetime64[ns](1), int64(3), object(2)\n",
      "memory usage: 11.0+ MB\n",
      "Потерянных пользователей в абсолютном исчислении: 93\n",
      "Потерянных пользователей в относительном исчислении: 1.2%\n",
      "\n",
      "Потерянных событий в абсолютном исчислении: 37098\n",
      "Потерянных событий в относительном исчислении: 15.2%\n"
     ]
    }
   ],
   "source": [
    "#оставляем данные только за первую неделю августа\n",
    "df2['month']=df2['eventtimestamp'].dt.month\n",
    "df2=df2.query('month==8')\n",
    "\n",
    "df2.info()\n",
    "print('Потерянных пользователей в абсолютном исчислении:', users-len(df2['deviceidhash'].unique()))\n",
    "print('Потерянных пользователей в относительном исчислении:', '{:.1%}'.format((users-len(df2['deviceidhash'].unique()))/users))\n",
    "print()\n",
    "print('Потерянных событий в абсолютном исчислении:', evs-len(df2['eventname']))\n",
    "print('Потерянных событий в относительном исчислении:', '{:.1%}'.format((evs-len(df2['eventname']))/evs))"
   ]
  },
  {
   "cell_type": "code",
   "execution_count": 8,
   "metadata": {},
   "outputs": [
    {
     "data": {
      "image/png": "[encoded data removed]",
      "text/plain": [
       "<Figure size 1008x432 with 1 Axes>"
      ]
     },
     "metadata": {
      "needs_background": "light"
     },
     "output_type": "display_data"
    }
   ],
   "source": [
    "#проверяем,что у нас есть пользователи из всех трёх экспериментальных групп\n",
    "\n",
    "users_c = df2.groupby('expid').agg({'deviceidhash':'nunique'}).reset_index() \n",
    "users_c.columns = ['group', 'individs']\n",
    "\n",
    "# Рисую график количества уникальных пользователей в каждой группе\n",
    "plt.figure(figsize=(14, 6)) # Размер графика\n",
    "plt.title('Количество уникальных пользователей') # Название графика\n",
    "sns.barplot(y='individs', x='group', data=users_c).set_ylim(2200, 2550)\n",
    "plt.show()"
   ]
  },
  {
   "cell_type": "code",
   "execution_count": 9,
   "metadata": {},
   "outputs": [
    {
     "data": {
      "text/html": [
       "<div>\n",
       "<style scoped>\n",
       "    .dataframe tbody tr th:only-of-type {\n",
       "        vertical-align: middle;\n",
       "    }\n",
       "\n",
       "    .dataframe tbody tr th {\n",
       "        vertical-align: top;\n",
       "    }\n",
       "\n",
       "    .dataframe thead th {\n",
       "        text-align: right;\n",
       "    }\n",
       "</style>\n",
       "<table border=\"1\" class=\"dataframe\">\n",
       "  <thead>\n",
       "    <tr style=\"text-align: right;\">\n",
       "      <th></th>\n",
       "      <th>user</th>\n",
       "      <th>groups</th>\n",
       "    </tr>\n",
       "  </thead>\n",
       "  <tbody>\n",
       "  </tbody>\n",
       "</table>\n",
       "</div>"
      ],
      "text/plain": [
       "Empty DataFrame\n",
       "Columns: [user, groups]\n",
       "Index: []"
      ]
     },
     "execution_count": 9,
     "metadata": {},
     "output_type": "execute_result"
    }
   ],
   "source": [
    "#проверка на пользователей с несколькими группами теста\n",
    "users_3 = df2.groupby('deviceidhash').agg({'expid':'nunique'}).reset_index() \n",
    "users_3.columns = ['user', 'groups']\n",
    "users_3[users_3['groups']>1]"
   ]
  },
  {
   "cell_type": "markdown",
   "metadata": {},
   "source": [
    "**Отбросив старые данные, потеряли 15.2% событий и 93 пользователя. Остались пользователи из всех трёх экспериментальных групп. В ходе проверки не было обнаружено пользователей участвующих в нескольких группах теста.**\n"
   ]
  },
  {
   "cell_type": "markdown",
   "metadata": {},
   "source": [
    "## Изучение воронки событий"
   ]
  },
  {
   "cell_type": "code",
   "execution_count": 10,
   "metadata": {},
   "outputs": [
    {
     "data": {
      "image/png": "[encoded data removed]",
      "text/plain": [
       "<Figure size 1008x432 with 1 Axes>"
      ]
     },
     "metadata": {
      "needs_background": "light"
     },
     "output_type": "display_data"
    },
    {
     "data": {
      "text/html": [
       "<div>\n",
       "<style scoped>\n",
       "    .dataframe tbody tr th:only-of-type {\n",
       "        vertical-align: middle;\n",
       "    }\n",
       "\n",
       "    .dataframe tbody tr th {\n",
       "        vertical-align: top;\n",
       "    }\n",
       "\n",
       "    .dataframe thead th {\n",
       "        text-align: right;\n",
       "    }\n",
       "</style>\n",
       "<table border=\"1\" class=\"dataframe\">\n",
       "  <thead>\n",
       "    <tr style=\"text-align: right;\">\n",
       "      <th></th>\n",
       "      <th>event_name</th>\n",
       "      <th>quantity</th>\n",
       "    </tr>\n",
       "  </thead>\n",
       "  <tbody>\n",
       "    <tr>\n",
       "      <th>1</th>\n",
       "      <td>MainScreenAppear</td>\n",
       "      <td>113264</td>\n",
       "    </tr>\n",
       "    <tr>\n",
       "      <th>2</th>\n",
       "      <td>OffersScreenAppear</td>\n",
       "      <td>40956</td>\n",
       "    </tr>\n",
       "    <tr>\n",
       "      <th>0</th>\n",
       "      <td>CartScreenAppear</td>\n",
       "      <td>29250</td>\n",
       "    </tr>\n",
       "    <tr>\n",
       "      <th>3</th>\n",
       "      <td>PaymentScreenSuccessful</td>\n",
       "      <td>22164</td>\n",
       "    </tr>\n",
       "    <tr>\n",
       "      <th>4</th>\n",
       "      <td>Tutorial</td>\n",
       "      <td>981</td>\n",
       "    </tr>\n",
       "  </tbody>\n",
       "</table>\n",
       "</div>"
      ],
      "text/plain": [
       "                event_name  quantity\n",
       "1         MainScreenAppear    113264\n",
       "2       OffersScreenAppear     40956\n",
       "0         CartScreenAppear     29250\n",
       "3  PaymentScreenSuccessful     22164\n",
       "4                 Tutorial       981"
      ]
     },
     "metadata": {},
     "output_type": "display_data"
    }
   ],
   "source": [
    "#частота событий в логе\n",
    "event_cnt = df2.groupby('eventname').agg({'date':'count'}).reset_index().sort_values(by='date', ascending=False)\n",
    "event_cnt.columns = ['event_name', 'quantity']\n",
    "\n",
    "# график количества записей для каждого события\n",
    "plt.figure(figsize=(14, 6)) # Размер графика\n",
    "plt.title('Количество событий') # Название графика\n",
    "sns.barplot(x='quantity', y='event_name', data=event_cnt)\n",
    "plt.show()\n",
    "display(event_cnt)"
   ]
  },
  {
   "cell_type": "code",
   "execution_count": 11,
   "metadata": {},
   "outputs": [
    {
     "data": {
      "image/png": "[encoded data removed]",
      "text/plain": [
       "<Figure size 1008x432 with 1 Axes>"
      ]
     },
     "metadata": {
      "needs_background": "light"
     },
     "output_type": "display_data"
    },
    {
     "data": {
      "text/html": [
       "<div>\n",
       "<style scoped>\n",
       "    .dataframe tbody tr th:only-of-type {\n",
       "        vertical-align: middle;\n",
       "    }\n",
       "\n",
       "    .dataframe tbody tr th {\n",
       "        vertical-align: top;\n",
       "    }\n",
       "\n",
       "    .dataframe thead th {\n",
       "        text-align: right;\n",
       "    }\n",
       "</style>\n",
       "<table border=\"1\" class=\"dataframe\">\n",
       "  <thead>\n",
       "    <tr style=\"text-align: right;\">\n",
       "      <th></th>\n",
       "      <th>eventname</th>\n",
       "      <th>users</th>\n",
       "    </tr>\n",
       "  </thead>\n",
       "  <tbody>\n",
       "    <tr>\n",
       "      <th>1</th>\n",
       "      <td>MainScreenAppear</td>\n",
       "      <td>7344</td>\n",
       "    </tr>\n",
       "    <tr>\n",
       "      <th>2</th>\n",
       "      <td>OffersScreenAppear</td>\n",
       "      <td>4517</td>\n",
       "    </tr>\n",
       "    <tr>\n",
       "      <th>0</th>\n",
       "      <td>CartScreenAppear</td>\n",
       "      <td>3658</td>\n",
       "    </tr>\n",
       "    <tr>\n",
       "      <th>3</th>\n",
       "      <td>PaymentScreenSuccessful</td>\n",
       "      <td>3463</td>\n",
       "    </tr>\n",
       "    <tr>\n",
       "      <th>4</th>\n",
       "      <td>Tutorial</td>\n",
       "      <td>824</td>\n",
       "    </tr>\n",
       "  </tbody>\n",
       "</table>\n",
       "</div>"
      ],
      "text/plain": [
       "                 eventname  users\n",
       "1         MainScreenAppear   7344\n",
       "2       OffersScreenAppear   4517\n",
       "0         CartScreenAppear   3658\n",
       "3  PaymentScreenSuccessful   3463\n",
       "4                 Tutorial    824"
      ]
     },
     "metadata": {},
     "output_type": "display_data"
    }
   ],
   "source": [
    "#количество пользователей, совершавших каждое из событий\n",
    "ev_list=df2.groupby('eventname').agg({'deviceidhash':'nunique'}).reset_index().sort_values(by='deviceidhash', ascending=False)\n",
    "#ev_list\n",
    "ev_list.columns = ['eventname','users']\n",
    "\n",
    "\n",
    "#график количества уникальных пользователей для каждого события\n",
    "plt.figure(figsize=(14, 6)) # Размер графика\n",
    "plt.title('Количество уникальных пользователей') # Название графика\n",
    "sns.barplot(x='users', y='eventname', data=ev_list[:-1])\n",
    "plt.show()\n",
    "display(ev_list.sort_values(by='users',ascending=False))"
   ]
  },
  {
   "cell_type": "code",
   "execution_count": 12,
   "metadata": {},
   "outputs": [
    {
     "data": {
      "text/html": [
       "<div>\n",
       "<style scoped>\n",
       "    .dataframe tbody tr th:only-of-type {\n",
       "        vertical-align: middle;\n",
       "    }\n",
       "\n",
       "    .dataframe tbody tr th {\n",
       "        vertical-align: top;\n",
       "    }\n",
       "\n",
       "    .dataframe thead th {\n",
       "        text-align: right;\n",
       "    }\n",
       "</style>\n",
       "<table border=\"1\" class=\"dataframe\">\n",
       "  <thead>\n",
       "    <tr style=\"text-align: right;\">\n",
       "      <th></th>\n",
       "      <th>eventname</th>\n",
       "      <th>users</th>\n",
       "      <th>share</th>\n",
       "    </tr>\n",
       "  </thead>\n",
       "  <tbody>\n",
       "    <tr>\n",
       "      <th>1</th>\n",
       "      <td>MainScreenAppear</td>\n",
       "      <td>7344</td>\n",
       "      <td>98.471440</td>\n",
       "    </tr>\n",
       "    <tr>\n",
       "      <th>2</th>\n",
       "      <td>OffersScreenAppear</td>\n",
       "      <td>4517</td>\n",
       "      <td>60.565835</td>\n",
       "    </tr>\n",
       "    <tr>\n",
       "      <th>0</th>\n",
       "      <td>CartScreenAppear</td>\n",
       "      <td>3658</td>\n",
       "      <td>49.048002</td>\n",
       "    </tr>\n",
       "    <tr>\n",
       "      <th>3</th>\n",
       "      <td>PaymentScreenSuccessful</td>\n",
       "      <td>3463</td>\n",
       "      <td>46.433360</td>\n",
       "    </tr>\n",
       "    <tr>\n",
       "      <th>4</th>\n",
       "      <td>Tutorial</td>\n",
       "      <td>824</td>\n",
       "      <td>11.048538</td>\n",
       "    </tr>\n",
       "  </tbody>\n",
       "</table>\n",
       "</div>"
      ],
      "text/plain": [
       "                 eventname  users      share\n",
       "1         MainScreenAppear   7344  98.471440\n",
       "2       OffersScreenAppear   4517  60.565835\n",
       "0         CartScreenAppear   3658  49.048002\n",
       "3  PaymentScreenSuccessful   3463  46.433360\n",
       "4                 Tutorial    824  11.048538"
      ]
     },
     "execution_count": 12,
     "metadata": {},
     "output_type": "execute_result"
    }
   ],
   "source": [
    "#Доля пользователей, хоть раз совершашвших события\n",
    "users_sum=len(df2['deviceidhash'].unique()) #всего уникальных пользователей\n",
    "ev_list['share']=100*ev_list['users']/users_sum\n",
    "ev_list.sort_values(by='share',ascending=False)"
   ]
  },
  {
   "cell_type": "markdown",
   "metadata": {},
   "source": [
    "Наиболее часто вызываемое событие в приложении - MainScreenAppear - основной экран, данное событие было вызвано 117328 раз. Главный экран приложения был вызван в 98,5% случаев, то есть существует часть пользователей, у которых либо не запустилось приложение, либо оно зависает.\n",
    "\n",
    "Наименее часто вызываемое событие в приложении - Tutorial - руководство приложения - данное событие было вызвано всего 1005 раз. Доля хотя бы раз столкнувшихся с руководством пользователей является отстающей в рейтинге - 11%. Это связано с тем, что пользователи пропускают туториалы, не любят тратить время на обучение.\n",
    "\n",
    "Главное событие для приложения - PaymentScreenSuccessful - экран успешной оплаты, было вызвано 33918 раз и имеет показатель доли пользователей почти 47%, что чуть меньше события CartScreenAppear - просмотра корзины, где доля в районе 50%. То есть небольшой процент пользователей добавляют товары в корзину, но не оплачивают их впоследствие.\n",
    "\n",
    "OffersScreenAppear - экран с продуктами - вызывался 46333 и имеет долю пользователей почти в 61%. Получается, что практически половина пользователей не то, что до покупки не доходят, они даже не рассматривают продукцию на странице приложения.\n",
    "\n",
    "Скорее всего порядок событий следующий:\n",
    "\n",
    "1) MainScreenAppear\n",
    "\n",
    "2) Tutorial\n",
    "\n",
    "3) OffersScreenAppear\n",
    "\n",
    "4) CartScreenAppear\n",
    "\n",
    "5) PaymentScreenSuccessful\t\n",
    "\n",
    "Однако важно понимать, что данная цепочка далеко не всегда работает именно в таком порядке, так как человек может открывать хаотичные вкладки, не обращать внимание на туториал, всплывающие окна и тд."
   ]
  },
  {
   "cell_type": "code",
   "execution_count": 13,
   "metadata": {},
   "outputs": [
    {
     "data": {
      "text/html": [
       "<div>\n",
       "<style scoped>\n",
       "    .dataframe tbody tr th:only-of-type {\n",
       "        vertical-align: middle;\n",
       "    }\n",
       "\n",
       "    .dataframe tbody tr th {\n",
       "        vertical-align: top;\n",
       "    }\n",
       "\n",
       "    .dataframe thead th {\n",
       "        text-align: right;\n",
       "    }\n",
       "</style>\n",
       "<table border=\"1\" class=\"dataframe\">\n",
       "  <thead>\n",
       "    <tr style=\"text-align: right;\">\n",
       "      <th></th>\n",
       "      <th>eventname</th>\n",
       "      <th>deviceidhash</th>\n",
       "      <th>pct</th>\n",
       "      <th>value-1</th>\n",
       "      <th>pct_from_first</th>\n",
       "    </tr>\n",
       "  </thead>\n",
       "  <tbody>\n",
       "    <tr>\n",
       "      <th>1</th>\n",
       "      <td>MainScreenAppear</td>\n",
       "      <td>7344</td>\n",
       "      <td>100</td>\n",
       "      <td>NaN</td>\n",
       "      <td>100</td>\n",
       "    </tr>\n",
       "    <tr>\n",
       "      <th>2</th>\n",
       "      <td>OffersScreenAppear</td>\n",
       "      <td>4517</td>\n",
       "      <td>61</td>\n",
       "      <td>7344.0</td>\n",
       "      <td>61</td>\n",
       "    </tr>\n",
       "    <tr>\n",
       "      <th>0</th>\n",
       "      <td>CartScreenAppear</td>\n",
       "      <td>3658</td>\n",
       "      <td>80</td>\n",
       "      <td>4517.0</td>\n",
       "      <td>49</td>\n",
       "    </tr>\n",
       "    <tr>\n",
       "      <th>3</th>\n",
       "      <td>PaymentScreenSuccessful</td>\n",
       "      <td>3463</td>\n",
       "      <td>94</td>\n",
       "      <td>3658.0</td>\n",
       "      <td>47</td>\n",
       "    </tr>\n",
       "  </tbody>\n",
       "</table>\n",
       "</div>"
      ],
      "text/plain": [
       "                 eventname  deviceidhash  pct  value-1  pct_from_first\n",
       "1         MainScreenAppear          7344  100      NaN             100\n",
       "2       OffersScreenAppear          4517   61   7344.0              61\n",
       "0         CartScreenAppear          3658   80   4517.0              49\n",
       "3  PaymentScreenSuccessful          3463   94   3658.0              47"
      ]
     },
     "execution_count": 13,
     "metadata": {},
     "output_type": "execute_result"
    }
   ],
   "source": [
    "group_evs_cnt = df2.query('eventname != \"Tutorial\"').groupby('eventname').agg({'deviceidhash':'nunique'}).reset_index().sort_values('deviceidhash', ascending=False)\n",
    "#соберем таблицу воронки событий\n",
    "\n",
    "    # рассчитаем процент для каждого шага\n",
    "group_evs_cnt['pct'] = (100 - 100 * abs(group_evs_cnt['deviceidhash'].pct_change()).fillna(0)).astype(int)\n",
    "    # применим функцию shift \n",
    "group_evs_cnt['value-1'] = group_evs_cnt['deviceidhash'].shift(1)\n",
    "    # рассчитаем процент между каждым шагом и первым шагом в таблице\n",
    "group_evs_cnt['pct_from_first'] = (group_evs_cnt['deviceidhash'] / group_evs_cnt['deviceidhash'].loc[1] * 100).fillna(0).astype(int)\n",
    "\n",
    "group_evs_cnt"
   ]
  },
  {
   "cell_type": "markdown",
   "metadata": {},
   "source": [
    "От первого события до оплаты доходят 47% пользователей. Больше всего пользователей теряются на шаге OffersScreenAppear, то есть 39% пользователей не доходят до просмотра продукции в приложении, явно что-то мешает им перейти в каталог или карточки предложений просто не всегда показываются."
   ]
  },
  {
   "cell_type": "markdown",
   "metadata": {},
   "source": [
    "## Изучение результататов эксперимента"
   ]
  },
  {
   "cell_type": "code",
   "execution_count": 14,
   "metadata": {},
   "outputs": [
    {
     "data": {
      "text/html": [
       "<div>\n",
       "<style scoped>\n",
       "    .dataframe tbody tr th:only-of-type {\n",
       "        vertical-align: middle;\n",
       "    }\n",
       "\n",
       "    .dataframe tbody tr th {\n",
       "        vertical-align: top;\n",
       "    }\n",
       "\n",
       "    .dataframe thead th {\n",
       "        text-align: right;\n",
       "    }\n",
       "</style>\n",
       "<table border=\"1\" class=\"dataframe\">\n",
       "  <thead>\n",
       "    <tr style=\"text-align: right;\">\n",
       "      <th></th>\n",
       "      <th>group</th>\n",
       "      <th>users</th>\n",
       "    </tr>\n",
       "  </thead>\n",
       "  <tbody>\n",
       "    <tr>\n",
       "      <th>0</th>\n",
       "      <td>246</td>\n",
       "      <td>2456</td>\n",
       "    </tr>\n",
       "    <tr>\n",
       "      <th>1</th>\n",
       "      <td>247</td>\n",
       "      <td>2491</td>\n",
       "    </tr>\n",
       "    <tr>\n",
       "      <th>2</th>\n",
       "      <td>248</td>\n",
       "      <td>2511</td>\n",
       "    </tr>\n",
       "  </tbody>\n",
       "</table>\n",
       "</div>"
      ],
      "text/plain": [
       "   group  users\n",
       "0    246   2456\n",
       "1    247   2491\n",
       "2    248   2511"
      ]
     },
     "execution_count": 14,
     "metadata": {},
     "output_type": "execute_result"
    }
   ],
   "source": [
    "#подсчет уникальных пользователей в каждой группе эксперимента\n",
    "users_cnt = df2.groupby('expid').agg({'deviceidhash':'nunique'}).reset_index()\n",
    "users_cnt.columns = ['group', 'users']\n",
    "users_cnt"
   ]
  },
  {
   "cell_type": "markdown",
   "metadata": {},
   "source": [
    "Гипотезы в общем виде\n",
    "\n",
    "**Н0: Доли двух групп не отличаются друг от друга**\n",
    "\n",
    "**Н1: Доли двух групп отличаются друг от друга**\n",
    "\n",
    "В качестве статистического критерия используем z-тест для пропорций."
   ]
  },
  {
   "cell_type": "code",
   "execution_count": 15,
   "metadata": {},
   "outputs": [],
   "source": [
    "# Создаю сводную таблицу с количеством пользователей в каждом событии для каждой группы\n",
    "user_pvt = (\n",
    "    df2\n",
    "    .groupby(['expid', 'eventname']).agg({'deviceidhash':'nunique'})\n",
    "    .pivot_table(index='eventname', columns='expid', values='deviceidhash')\n",
    "    .reset_index()\n",
    "    .sort_values(246, ascending=False)\n",
    ")"
   ]
  },
  {
   "cell_type": "code",
   "execution_count": 16,
   "metadata": {},
   "outputs": [
    {
     "name": "stdout",
     "output_type": "stream",
     "text": [
      "                 eventname   246   247   248  both\n",
      "1         MainScreenAppear  2423  2454  2467  4877\n",
      "2       OffersScreenAppear  1514  1498  1505  3012\n",
      "0         CartScreenAppear  1238  1216  1204  2454\n",
      "3  PaymentScreenSuccessful  1172  1136  1155  2308\n",
      "4                 Tutorial   269   279   276   548\n"
     ]
    }
   ],
   "source": [
    "user_pvt.columns=['eventname','246','247','248']\n",
    "user_pvt['both']=user_pvt['246']+user_pvt['247'] #столбец с объединенной группой\n",
    "both_u=users_cnt['users'][0]+users_cnt['users'][1]\n",
    "print(user_pvt)"
   ]
  },
  {
   "cell_type": "code",
   "execution_count": 17,
   "metadata": {},
   "outputs": [],
   "source": [
    "# Создаю списки с количеством пользователей для каждого события в каждой группе\n",
    "# 246 экспериментальная группа:\n",
    "A1_list = user_pvt['246'].tolist()\n",
    "# 247 экспериментальная группа:\n",
    "A2_list = user_pvt['247'].tolist()\n",
    "# 248 экспериментальная группа:\n",
    "B_list = user_pvt['248'].tolist()\n",
    "#объединенная группа 246 и 247\n",
    "both_list = user_pvt['both'].tolist()"
   ]
  },
  {
   "cell_type": "code",
   "execution_count": 18,
   "metadata": {},
   "outputs": [],
   "source": [
    "# Функция для расчёта статистически значимой разницы между долями двух генеральных совокупностей\n",
    "def stat_value(first_list, second_list, size1, size2, alpha):\n",
    "    \n",
    "    # Список с названием события в приложении    \n",
    "    event_name_list = []\n",
    "    for event in user_pvt['eventname'].unique()[:-1]:\n",
    "        event_name_list.append(event)\n",
    "    # Основной цикл функции, который вычисляет p-value и проверяет нулевую гипотезу для каждого события \n",
    "    for x in range(0, len(first_list)-1):\n",
    "        x1 = first_list[x] \n",
    "        x2 = second_list[x]\n",
    "    \n",
    "        successes = np.array([x1, x2])\n",
    "        trials = np.array([size1, size2])\n",
    "        p1 = successes[0]/trials[0] # Расчёт значения пропорции в первой группе\n",
    "        p2 = successes[1]/trials[1] # Расчёт значения пропорции во второй группе\n",
    "        # Расчёт совокупной пропорции в комбинированном датасете\n",
    "        p_combined = (successes[0] + successes[1]) / (trials[0] + trials[1])\n",
    "        difference = p1 - p2  # Расчёт азницы пропорций между группами\n",
    "        # Расчёт статистики в ст.отклонениях стандартного нормального распределения\n",
    "        z_value = difference / mth.sqrt(p_combined * (1 - p_combined) * (1/trials[0] + 1/trials[1]))\n",
    "        distr = st.norm(0, 1) # Указание стандартного отклонения в нормальном распределении\n",
    "        p_value = 1 - distr.cdf(z_value) # Расчёт значения статистической разницы между группами\n",
    "        # Вывод полученных результатов на экран\n",
    "        print('Событие:', event_name_list[x])\n",
    "        print('p-value: ', p_value)\n",
    "        # Сравнение полученного p-value с установленным уровнем статистической значимости \n",
    "        if (p_value < alpha):\n",
    "            print(\"Результат:\",  \"Нулевая гипотеза отвергнута: между долями есть значимая разница\")\n",
    "        else:\n",
    "            print(\"Результат:\",  \"Нулевая гипотеза не отвергнута: нет оснований считать доли разными\")\n",
    "        print('   ')"
   ]
  },
  {
   "cell_type": "code",
   "execution_count": 19,
   "metadata": {},
   "outputs": [
    {
     "name": "stdout",
     "output_type": "stream",
     "text": [
      "Относительная разница в количестве пользователей между группами 246 и 247: 0.014050582095543995 \n",
      " 247 и 248: 0.00796495420151333 \n",
      " 246 и 248: 0.021903624054161686\n"
     ]
    }
   ],
   "source": [
    "print('Относительная разница в количестве пользователей между группами 246 и 247:',abs(1 - users_cnt['users'][0]/users_cnt['users'][1]),\n",
    "      '\\n 247 и 248:', abs(1-users_cnt['users'][1]/users_cnt['users'][2]),\n",
    "      '\\n 246 и 248:',abs(1-users_cnt['users'][0]/users_cnt['users'][2]))"
   ]
  },
  {
   "cell_type": "markdown",
   "metadata": {},
   "source": [
    "Формирование контрольных групп корректно, можно проводить А/А тесты."
   ]
  },
  {
   "cell_type": "code",
   "execution_count": 20,
   "metadata": {},
   "outputs": [
    {
     "name": "stdout",
     "output_type": "stream",
     "text": [
      "Событие: MainScreenAppear\n",
      "p-value:  0.33654759036042425\n",
      "Результат: Нулевая гипотеза не отвергнута: нет оснований считать доли разными\n",
      "   \n",
      "Событие: OffersScreenAppear\n",
      "p-value:  0.13851385850384912\n",
      "Результат: Нулевая гипотеза не отвергнута: нет оснований считать доли разными\n",
      "   \n",
      "Событие: CartScreenAppear\n",
      "p-value:  0.13149813318583892\n",
      "Результат: Нулевая гипотеза не отвергнута: нет оснований считать доли разными\n",
      "   \n",
      "Событие: PaymentScreenSuccessful\n",
      "p-value:  0.06793129183636992\n",
      "Результат: Нулевая гипотеза не отвергнута: нет оснований считать доли разными\n",
      "   \n"
     ]
    }
   ],
   "source": [
    "# Вызываю функцию 'stat_value' для групп 246 и 247\n",
    "stat_value(A1_list, A2_list, users_cnt['users'][0], users_cnt['users'][1], 0.05/16)"
   ]
  },
  {
   "cell_type": "markdown",
   "metadata": {},
   "source": [
    "Таким образом, статистически значимой разницы между долями двух групп нет. Это характерно для всех событий в обоих группах.\n",
    "Получается, что разбиение на группы организовано правильно."
   ]
  },
  {
   "cell_type": "code",
   "execution_count": 21,
   "metadata": {},
   "outputs": [
    {
     "name": "stdout",
     "output_type": "stream",
     "text": [
      "Событие: MainScreenAppear\n",
      "p-value:  0.12190005370239487\n",
      "Результат: Нулевая гипотеза не отвергнута: нет оснований считать доли разными\n",
      "   \n",
      "Событие: OffersScreenAppear\n",
      "p-value:  0.10875933703997143\n",
      "Результат: Нулевая гипотеза не отвергнута: нет оснований считать доли разными\n",
      "   \n",
      "Событие: CartScreenAppear\n",
      "p-value:  0.041587040584142865\n",
      "Результат: Нулевая гипотеза не отвергнута: нет оснований считать доли разными\n",
      "   \n",
      "Событие: PaymentScreenSuccessful\n",
      "p-value:  0.11196611703410875\n",
      "Результат: Нулевая гипотеза не отвергнута: нет оснований считать доли разными\n",
      "   \n"
     ]
    }
   ],
   "source": [
    "# Вызываю функцию 'stat_value' для групп 246 и 248\n",
    "stat_value(A1_list, B_list,users_cnt['users'][0], users_cnt['users'][2],0.05/16)"
   ]
  },
  {
   "cell_type": "markdown",
   "metadata": {},
   "source": [
    "Между количеством пользователей совершивших каждое событие в группе 246 и 248 нет статистически значимой разницы, можно считать, что доля пользователей, совершивших одно и тоже событие, одинаковая для обеих групп."
   ]
  },
  {
   "cell_type": "code",
   "execution_count": 22,
   "metadata": {},
   "outputs": [
    {
     "name": "stdout",
     "output_type": "stream",
     "text": [
      "Событие: MainScreenAppear\n",
      "p-value:  0.22726681153781514\n",
      "Результат: Нулевая гипотеза не отвергнута: нет оснований считать доли разными\n",
      "   \n",
      "Событие: OffersScreenAppear\n",
      "p-value:  0.44253731347479097\n",
      "Результат: Нулевая гипотеза не отвергнута: нет оснований считать доли разными\n",
      "   \n",
      "Событие: CartScreenAppear\n",
      "p-value:  0.269839796498512\n",
      "Результат: Нулевая гипотеза не отвергнута: нет оснований считать доли разными\n",
      "   \n",
      "Событие: PaymentScreenSuccessful\n",
      "p-value:  0.6099698378930762\n",
      "Результат: Нулевая гипотеза не отвергнута: нет оснований считать доли разными\n",
      "   \n"
     ]
    }
   ],
   "source": [
    "# Вызываю функцию 'stat_value' для групп 247 и 248\n",
    "stat_value(A2_list, B_list,users_cnt['users'][1], users_cnt['users'][2],0.05/16)"
   ]
  },
  {
   "cell_type": "markdown",
   "metadata": {},
   "source": [
    "Между количеством пользователей совершивших каждое событие в группе 247 и 248 нет статистически значимой разницы, можно считать, что доля пользователей, совершивших одно и тоже событие, одинаковая для обеих групп."
   ]
  },
  {
   "cell_type": "code",
   "execution_count": 23,
   "metadata": {},
   "outputs": [
    {
     "name": "stdout",
     "output_type": "stream",
     "text": [
      "Событие: MainScreenAppear\n",
      "p-value:  0.13093201429777923\n",
      "Результат: Нулевая гипотеза не отвергнута: нет оснований считать доли разными\n",
      "   \n",
      "Событие: OffersScreenAppear\n",
      "p-value:  0.21400917356070637\n",
      "Результат: Нулевая гипотеза не отвергнута: нет оснований считать доли разными\n",
      "   \n",
      "Событие: CartScreenAppear\n",
      "p-value:  0.08809576910463768\n",
      "Результат: Нулевая гипотеза не отвергнута: нет оснований считать доли разными\n",
      "   \n",
      "Событие: PaymentScreenSuccessful\n",
      "p-value:  0.2954355451086992\n",
      "Результат: Нулевая гипотеза не отвергнута: нет оснований считать доли разными\n",
      "   \n"
     ]
    }
   ],
   "source": [
    "# Вызываю функцию 'stat_value' для объединенной группы и 248\n",
    "stat_value(both_list, B_list,both_u, users_cnt['users'][2],0.05/16)"
   ]
  },
  {
   "cell_type": "markdown",
   "metadata": {},
   "source": [
    "Между количеством пользователей совершивших каждое событие в объединенной группе и тестовой 248 нет статистически значимой разницы, можно считать, что доля пользователей, совершивших одно и тоже событие, одинаковая для обеих групп."
   ]
  },
  {
   "cell_type": "code",
   "execution_count": 24,
   "metadata": {},
   "outputs": [
    {
     "name": "stdout",
     "output_type": "stream",
     "text": [
      "Вероятность ошибки при alpha=0.05 и 4 проверках: 14.3%\n",
      "\n",
      "Скорректированный alpha для 4 проверок: 0.31%\n",
      "\n",
      "Вероятность ошибки при скорретированном alpha и 4 проверках: 0.9%\n"
     ]
    }
   ],
   "source": [
    "print('Вероятность ошибки при alpha=0.05 и 4 проверках:', '{:.1%}'.format(1-(1-0.05)**3))\n",
    "print()\n",
    "print('Скорректированный alpha для 4 проверок:', '{:.2%}'.format(0.05/16))\n",
    "print()\n",
    "print('Вероятность ошибки при скорретированном alpha и 4 проверках:', '{:.1%}'.format(1-(1-0.05/16)**3))"
   ]
  },
  {
   "cell_type": "markdown",
   "metadata": {},
   "source": [
    "**Был выбран уровень значимости 5% и скорректирован до 0,31%, так как вероятность ошибки при 5% более 14%. В результате ни одна нулевая гипотеза не будет отклонена, но скорректированный уровень значимости внушает больше доверия к результатам тестов при сниженной вероятности ошибки до 0.9%. Мы протестировали по 4 гипотезы в пределах 4 тестов (1 А/А тест и 3 А/В теста), итого было сделано 16 проверок.**"
   ]
  },
  {
   "cell_type": "markdown",
   "metadata": {},
   "source": [
    "## Общий вывод"
   ]
  },
  {
   "cell_type": "markdown",
   "metadata": {},
   "source": [
    "В ходе проведения А/Б теста, выяснилось, что между количеством пользователей, совершивших каждое событие в группе 247 и 248 нет статистически значимой разницы, то есть можно считать, что доля пользователей совершивших одно и тоже событие одинаковая для обеих групп. Таким образом, что новые шрифты, показанные группе Б, никак не повлияли на поведение пользователей внутри приложения.\n",
    "\n",
    "От первого события до оплаты доходят 47% пользователей. Больше всего пользователей теряются на шаге **OffersScreenAppear**, то есть 39% пользователей не доходят до просмотра продукции в приложении.\n",
    "\n",
    "**MainScreenAppear** - самое популярное событие, оно было вызвано 117328 раз. Однако существует часть пользователей, у которых либо не запустилось приложение, либо оно зависает.\n",
    "\n",
    "Наименее часто вызываемое событие в приложении - **Tutorial** - руководство приложения - данное событие было вызвано всего 1005 раз. Доля хотя бы раз столкнувшихся с руководством пользователей является отстающей в рейтинге - 11%. "
   ]
  }
 ],
 "metadata": {
  "ExecuteTimeLog": [
   {
    "duration": 2092,
    "start_time": "2022-10-31T09:18:58.148Z"
   },
   {
    "duration": 277,
    "start_time": "2022-10-31T09:19:17.965Z"
   },
   {
    "duration": 259,
    "start_time": "2022-10-31T09:19:24.063Z"
   },
   {
    "duration": 67,
    "start_time": "2022-10-31T09:19:29.260Z"
   },
   {
    "duration": 277,
    "start_time": "2022-10-31T09:19:34.112Z"
   },
   {
    "duration": 265,
    "start_time": "2022-10-31T09:19:43.282Z"
   },
   {
    "duration": 153,
    "start_time": "2022-10-31T09:20:57.832Z"
   },
   {
    "duration": 1111,
    "start_time": "2022-10-31T09:42:31.816Z"
   },
   {
    "duration": 187,
    "start_time": "2022-10-31T09:42:42.191Z"
   },
   {
    "duration": 177,
    "start_time": "2022-10-31T09:43:06.890Z"
   },
   {
    "duration": 817,
    "start_time": "2022-10-31T09:45:14.200Z"
   },
   {
    "duration": 1042,
    "start_time": "2022-10-31T09:45:27.138Z"
   },
   {
    "duration": 714,
    "start_time": "2022-10-31T09:45:53.757Z"
   },
   {
    "duration": 154,
    "start_time": "2022-10-31T09:50:48.834Z"
   },
   {
    "duration": 752,
    "start_time": "2022-10-31T09:53:23.382Z"
   },
   {
    "duration": 175,
    "start_time": "2022-10-31T09:57:57.974Z"
   },
   {
    "duration": 154,
    "start_time": "2022-10-31T11:03:23.126Z"
   },
   {
    "duration": 18,
    "start_time": "2022-10-31T11:03:23.282Z"
   },
   {
    "duration": 167,
    "start_time": "2022-10-31T11:03:35.720Z"
   },
   {
    "duration": 13,
    "start_time": "2022-10-31T11:03:35.889Z"
   },
   {
    "duration": 182,
    "start_time": "2022-10-31T11:03:49.505Z"
   },
   {
    "duration": 12,
    "start_time": "2022-10-31T11:03:49.689Z"
   },
   {
    "duration": 195,
    "start_time": "2022-10-31T11:04:49.262Z"
   },
   {
    "duration": 12,
    "start_time": "2022-10-31T11:04:49.458Z"
   },
   {
    "duration": 155,
    "start_time": "2022-10-31T11:07:21.674Z"
   },
   {
    "duration": 22,
    "start_time": "2022-10-31T11:07:21.830Z"
   },
   {
    "duration": 162,
    "start_time": "2022-10-31T11:08:22.534Z"
   },
   {
    "duration": 27,
    "start_time": "2022-10-31T11:08:22.698Z"
   },
   {
    "duration": 157,
    "start_time": "2022-10-31T11:09:11.962Z"
   },
   {
    "duration": 24,
    "start_time": "2022-10-31T11:09:12.121Z"
   },
   {
    "duration": 174,
    "start_time": "2022-10-31T11:11:27.648Z"
   },
   {
    "duration": 15,
    "start_time": "2022-10-31T11:11:27.824Z"
   },
   {
    "duration": 159,
    "start_time": "2022-10-31T11:11:58.861Z"
   },
   {
    "duration": 15,
    "start_time": "2022-10-31T11:11:59.022Z"
   },
   {
    "duration": 168,
    "start_time": "2022-10-31T11:13:05.238Z"
   },
   {
    "duration": 19,
    "start_time": "2022-10-31T11:13:05.408Z"
   },
   {
    "duration": 159,
    "start_time": "2022-10-31T11:13:24.624Z"
   },
   {
    "duration": 83,
    "start_time": "2022-10-31T11:13:24.785Z"
   },
   {
    "duration": 182,
    "start_time": "2022-10-31T11:15:06.122Z"
   },
   {
    "duration": 22,
    "start_time": "2022-10-31T11:15:06.306Z"
   },
   {
    "duration": 155,
    "start_time": "2022-10-31T11:17:19.071Z"
   },
   {
    "duration": 1140,
    "start_time": "2022-10-31T11:17:19.228Z"
   },
   {
    "duration": 161,
    "start_time": "2022-10-31T11:17:42.000Z"
   },
   {
    "duration": 25,
    "start_time": "2022-10-31T11:17:42.227Z"
   },
   {
    "duration": 155,
    "start_time": "2022-10-31T11:21:09.413Z"
   },
   {
    "duration": 730,
    "start_time": "2022-10-31T11:21:09.570Z"
   },
   {
    "duration": 183,
    "start_time": "2022-10-31T11:23:25.951Z"
   },
   {
    "duration": 763,
    "start_time": "2022-10-31T11:23:26.136Z"
   },
   {
    "duration": 163,
    "start_time": "2022-10-31T11:28:43.236Z"
   },
   {
    "duration": 717,
    "start_time": "2022-10-31T11:28:43.400Z"
   },
   {
    "duration": 16,
    "start_time": "2022-10-31T11:28:44.122Z"
   },
   {
    "duration": 155,
    "start_time": "2022-10-31T11:29:18.743Z"
   },
   {
    "duration": 781,
    "start_time": "2022-10-31T11:29:18.899Z"
   },
   {
    "duration": 20,
    "start_time": "2022-10-31T11:29:19.681Z"
   },
   {
    "duration": 157,
    "start_time": "2022-10-31T11:30:08.084Z"
   },
   {
    "duration": 667,
    "start_time": "2022-10-31T11:30:08.243Z"
   },
   {
    "duration": 30,
    "start_time": "2022-10-31T11:30:08.912Z"
   },
   {
    "duration": 156,
    "start_time": "2022-10-31T11:30:48.096Z"
   },
   {
    "duration": 733,
    "start_time": "2022-10-31T11:30:48.254Z"
   },
   {
    "duration": 9,
    "start_time": "2022-10-31T11:30:48.989Z"
   },
   {
    "duration": 155,
    "start_time": "2022-10-31T11:31:09.682Z"
   },
   {
    "duration": 748,
    "start_time": "2022-10-31T11:31:09.839Z"
   },
   {
    "duration": 19,
    "start_time": "2022-10-31T11:31:10.589Z"
   },
   {
    "duration": 155,
    "start_time": "2022-10-31T11:31:28.104Z"
   },
   {
    "duration": 677,
    "start_time": "2022-10-31T11:31:28.261Z"
   },
   {
    "duration": 23,
    "start_time": "2022-10-31T11:31:28.940Z"
   },
   {
    "duration": 159,
    "start_time": "2022-10-31T11:32:04.752Z"
   },
   {
    "duration": 741,
    "start_time": "2022-10-31T11:32:04.913Z"
   },
   {
    "duration": 24,
    "start_time": "2022-10-31T11:32:05.655Z"
   },
   {
    "duration": 161,
    "start_time": "2022-10-31T11:32:12.341Z"
   },
   {
    "duration": 745,
    "start_time": "2022-10-31T11:32:12.504Z"
   },
   {
    "duration": 18,
    "start_time": "2022-10-31T11:32:13.251Z"
   },
   {
    "duration": 167,
    "start_time": "2022-10-31T11:34:53.449Z"
   },
   {
    "duration": 754,
    "start_time": "2022-10-31T11:34:53.617Z"
   },
   {
    "duration": 17,
    "start_time": "2022-10-31T11:34:54.372Z"
   },
   {
    "duration": 161,
    "start_time": "2022-10-31T11:35:15.307Z"
   },
   {
    "duration": 781,
    "start_time": "2022-10-31T11:35:15.470Z"
   },
   {
    "duration": 6,
    "start_time": "2022-10-31T11:35:16.252Z"
   },
   {
    "duration": 161,
    "start_time": "2022-10-31T11:35:28.514Z"
   },
   {
    "duration": 710,
    "start_time": "2022-10-31T11:35:28.676Z"
   },
   {
    "duration": 5,
    "start_time": "2022-10-31T11:35:29.388Z"
   },
   {
    "duration": 160,
    "start_time": "2022-10-31T11:35:39.128Z"
   },
   {
    "duration": 730,
    "start_time": "2022-10-31T11:35:39.290Z"
   },
   {
    "duration": 5,
    "start_time": "2022-10-31T11:35:40.022Z"
   },
   {
    "duration": 162,
    "start_time": "2022-10-31T11:36:58.350Z"
   },
   {
    "duration": 721,
    "start_time": "2022-10-31T11:36:58.514Z"
   },
   {
    "duration": 21,
    "start_time": "2022-10-31T11:36:59.236Z"
   },
   {
    "duration": 160,
    "start_time": "2022-10-31T11:40:29.366Z"
   },
   {
    "duration": 758,
    "start_time": "2022-10-31T11:40:29.528Z"
   },
   {
    "duration": 212,
    "start_time": "2022-10-31T11:40:30.288Z"
   },
   {
    "duration": 173,
    "start_time": "2022-10-31T11:40:45.236Z"
   },
   {
    "duration": 710,
    "start_time": "2022-10-31T11:40:45.411Z"
   },
   {
    "duration": 43,
    "start_time": "2022-10-31T11:40:46.123Z"
   },
   {
    "duration": 213,
    "start_time": "2022-10-31T11:42:13.896Z"
   },
   {
    "duration": 673,
    "start_time": "2022-10-31T11:42:14.111Z"
   },
   {
    "duration": 36,
    "start_time": "2022-10-31T11:42:14.786Z"
   },
   {
    "duration": 167,
    "start_time": "2022-10-31T11:42:58.965Z"
   },
   {
    "duration": 761,
    "start_time": "2022-10-31T11:42:59.133Z"
   },
   {
    "duration": 30,
    "start_time": "2022-10-31T11:42:59.896Z"
   },
   {
    "duration": 161,
    "start_time": "2022-10-31T11:43:50.131Z"
   },
   {
    "duration": 672,
    "start_time": "2022-10-31T11:43:50.293Z"
   },
   {
    "duration": 6,
    "start_time": "2022-10-31T11:43:50.966Z"
   },
   {
    "duration": 157,
    "start_time": "2022-10-31T11:44:21.738Z"
   },
   {
    "duration": 749,
    "start_time": "2022-10-31T11:44:21.897Z"
   },
   {
    "duration": 6,
    "start_time": "2022-10-31T11:44:22.647Z"
   },
   {
    "duration": 169,
    "start_time": "2022-10-31T11:45:54.381Z"
   },
   {
    "duration": 785,
    "start_time": "2022-10-31T11:45:54.551Z"
   },
   {
    "duration": 29,
    "start_time": "2022-10-31T11:45:55.338Z"
   },
   {
    "duration": 166,
    "start_time": "2022-10-31T11:47:15.317Z"
   },
   {
    "duration": 737,
    "start_time": "2022-10-31T11:47:15.485Z"
   },
   {
    "duration": 272,
    "start_time": "2022-10-31T11:47:16.224Z"
   },
   {
    "duration": 170,
    "start_time": "2022-10-31T12:06:18.170Z"
   },
   {
    "duration": 794,
    "start_time": "2022-10-31T12:06:18.342Z"
   },
   {
    "duration": 247,
    "start_time": "2022-10-31T12:06:19.138Z"
   },
   {
    "duration": 178,
    "start_time": "2022-10-31T12:06:33.148Z"
   },
   {
    "duration": 793,
    "start_time": "2022-10-31T12:06:33.329Z"
   },
   {
    "duration": 258,
    "start_time": "2022-10-31T12:06:34.124Z"
   },
   {
    "duration": 168,
    "start_time": "2022-10-31T12:06:45.561Z"
   },
   {
    "duration": 901,
    "start_time": "2022-10-31T12:06:45.731Z"
   },
   {
    "duration": 249,
    "start_time": "2022-10-31T12:06:46.633Z"
   },
   {
    "duration": 175,
    "start_time": "2022-10-31T12:07:00.124Z"
   },
   {
    "duration": 877,
    "start_time": "2022-10-31T12:07:00.302Z"
   },
   {
    "duration": 245,
    "start_time": "2022-10-31T12:07:01.180Z"
   },
   {
    "duration": 167,
    "start_time": "2022-10-31T12:10:33.550Z"
   },
   {
    "duration": 760,
    "start_time": "2022-10-31T12:10:33.721Z"
   },
   {
    "duration": 249,
    "start_time": "2022-10-31T12:10:34.483Z"
   },
   {
    "duration": 410,
    "start_time": "2022-10-31T12:10:34.733Z"
   },
   {
    "duration": 167,
    "start_time": "2022-10-31T12:13:44.103Z"
   },
   {
    "duration": 845,
    "start_time": "2022-10-31T12:13:44.272Z"
   },
   {
    "duration": 237,
    "start_time": "2022-10-31T12:13:45.119Z"
   },
   {
    "duration": 13,
    "start_time": "2022-10-31T12:13:45.359Z"
   },
   {
    "duration": 170,
    "start_time": "2022-10-31T12:14:00.482Z"
   },
   {
    "duration": 799,
    "start_time": "2022-10-31T12:14:00.654Z"
   },
   {
    "duration": 284,
    "start_time": "2022-10-31T12:14:01.454Z"
   },
   {
    "duration": 9,
    "start_time": "2022-10-31T12:14:01.739Z"
   },
   {
    "duration": 158,
    "start_time": "2022-10-31T12:14:18.069Z"
   },
   {
    "duration": 723,
    "start_time": "2022-10-31T12:14:18.230Z"
   },
   {
    "duration": 215,
    "start_time": "2022-10-31T12:14:18.954Z"
   },
   {
    "duration": 11,
    "start_time": "2022-10-31T12:14:19.170Z"
   },
   {
    "duration": 164,
    "start_time": "2022-10-31T12:14:29.708Z"
   },
   {
    "duration": 832,
    "start_time": "2022-10-31T12:14:29.874Z"
   },
   {
    "duration": 247,
    "start_time": "2022-10-31T12:14:30.708Z"
   },
   {
    "duration": 11,
    "start_time": "2022-10-31T12:14:30.958Z"
   },
   {
    "duration": 159,
    "start_time": "2022-10-31T12:14:37.199Z"
   },
   {
    "duration": 737,
    "start_time": "2022-10-31T12:14:37.359Z"
   },
   {
    "duration": 215,
    "start_time": "2022-10-31T12:14:38.098Z"
   },
   {
    "duration": 14,
    "start_time": "2022-10-31T12:14:38.315Z"
   },
   {
    "duration": 160,
    "start_time": "2022-10-31T12:14:41.749Z"
   },
   {
    "duration": 833,
    "start_time": "2022-10-31T12:14:41.911Z"
   },
   {
    "duration": 225,
    "start_time": "2022-10-31T12:14:42.745Z"
   },
   {
    "duration": 8,
    "start_time": "2022-10-31T12:14:42.972Z"
   },
   {
    "duration": 165,
    "start_time": "2022-10-31T12:15:43.559Z"
   },
   {
    "duration": 755,
    "start_time": "2022-10-31T12:15:43.725Z"
   },
   {
    "duration": 230,
    "start_time": "2022-10-31T12:15:44.482Z"
   },
   {
    "duration": 9,
    "start_time": "2022-10-31T12:15:44.721Z"
   },
   {
    "duration": 174,
    "start_time": "2022-10-31T12:15:58.093Z"
   },
   {
    "duration": 906,
    "start_time": "2022-10-31T12:15:58.269Z"
   },
   {
    "duration": 237,
    "start_time": "2022-10-31T12:15:59.177Z"
   },
   {
    "duration": 13,
    "start_time": "2022-10-31T12:15:59.416Z"
   },
   {
    "duration": 160,
    "start_time": "2022-10-31T12:17:24.814Z"
   },
   {
    "duration": 823,
    "start_time": "2022-10-31T12:17:24.976Z"
   },
   {
    "duration": 229,
    "start_time": "2022-10-31T12:17:25.800Z"
   },
   {
    "duration": 11,
    "start_time": "2022-10-31T12:17:26.031Z"
   },
   {
    "duration": 156,
    "start_time": "2022-10-31T12:19:09.616Z"
   },
   {
    "duration": 748,
    "start_time": "2022-10-31T12:19:09.774Z"
   },
   {
    "duration": 228,
    "start_time": "2022-10-31T12:19:10.523Z"
   },
   {
    "duration": 83,
    "start_time": "2022-10-31T12:19:10.754Z"
   },
   {
    "duration": 164,
    "start_time": "2022-10-31T12:19:19.713Z"
   },
   {
    "duration": 782,
    "start_time": "2022-10-31T12:19:19.879Z"
   },
   {
    "duration": 218,
    "start_time": "2022-10-31T12:19:20.663Z"
   },
   {
    "duration": 87,
    "start_time": "2022-10-31T12:19:20.883Z"
   },
   {
    "duration": 167,
    "start_time": "2022-10-31T12:19:29.918Z"
   },
   {
    "duration": 830,
    "start_time": "2022-10-31T12:19:30.086Z"
   },
   {
    "duration": 235,
    "start_time": "2022-10-31T12:19:30.918Z"
   },
   {
    "duration": 450,
    "start_time": "2022-10-31T12:19:31.155Z"
   },
   {
    "duration": 166,
    "start_time": "2022-10-31T12:19:50.712Z"
   },
   {
    "duration": 782,
    "start_time": "2022-10-31T12:19:50.880Z"
   },
   {
    "duration": 242,
    "start_time": "2022-10-31T12:19:51.664Z"
   },
   {
    "duration": 19,
    "start_time": "2022-10-31T12:19:51.908Z"
   },
   {
    "duration": 162,
    "start_time": "2022-10-31T12:20:05.445Z"
   },
   {
    "duration": 915,
    "start_time": "2022-10-31T12:20:05.610Z"
   },
   {
    "duration": 211,
    "start_time": "2022-10-31T12:20:06.527Z"
   },
   {
    "duration": 10,
    "start_time": "2022-10-31T12:20:06.740Z"
   },
   {
    "duration": 158,
    "start_time": "2022-10-31T12:20:28.518Z"
   },
   {
    "duration": 749,
    "start_time": "2022-10-31T12:20:28.678Z"
   },
   {
    "duration": 218,
    "start_time": "2022-10-31T12:20:29.428Z"
   },
   {
    "duration": 72,
    "start_time": "2022-10-31T12:20:29.648Z"
   },
   {
    "duration": 157,
    "start_time": "2022-10-31T12:20:40.613Z"
   },
   {
    "duration": 869,
    "start_time": "2022-10-31T12:20:40.772Z"
   },
   {
    "duration": 240,
    "start_time": "2022-10-31T12:20:41.642Z"
   },
   {
    "duration": 14,
    "start_time": "2022-10-31T12:20:41.883Z"
   },
   {
    "duration": 159,
    "start_time": "2022-10-31T12:20:50.410Z"
   },
   {
    "duration": 769,
    "start_time": "2022-10-31T12:20:50.571Z"
   },
   {
    "duration": 242,
    "start_time": "2022-10-31T12:20:51.342Z"
   },
   {
    "duration": 12,
    "start_time": "2022-10-31T12:20:51.586Z"
   },
   {
    "duration": 163,
    "start_time": "2022-10-31T12:23:46.953Z"
   },
   {
    "duration": 867,
    "start_time": "2022-10-31T12:23:47.118Z"
   },
   {
    "duration": 226,
    "start_time": "2022-10-31T12:23:47.986Z"
   },
   {
    "duration": 21,
    "start_time": "2022-10-31T12:23:48.214Z"
   },
   {
    "duration": 161,
    "start_time": "2022-10-31T12:23:56.604Z"
   },
   {
    "duration": 773,
    "start_time": "2022-10-31T12:23:56.767Z"
   },
   {
    "duration": 225,
    "start_time": "2022-10-31T12:23:57.542Z"
   },
   {
    "duration": 32,
    "start_time": "2022-10-31T12:23:57.769Z"
   },
   {
    "duration": 158,
    "start_time": "2022-10-31T12:24:21.592Z"
   },
   {
    "duration": 754,
    "start_time": "2022-10-31T12:24:21.752Z"
   },
   {
    "duration": 227,
    "start_time": "2022-10-31T12:24:22.508Z"
   },
   {
    "duration": 32,
    "start_time": "2022-10-31T12:24:22.737Z"
   },
   {
    "duration": 161,
    "start_time": "2022-10-31T12:24:30.625Z"
   },
   {
    "duration": 930,
    "start_time": "2022-10-31T12:24:30.788Z"
   },
   {
    "duration": 250,
    "start_time": "2022-10-31T12:24:31.719Z"
   },
   {
    "duration": 354,
    "start_time": "2022-10-31T12:24:31.971Z"
   },
   {
    "duration": 163,
    "start_time": "2022-10-31T12:25:00.876Z"
   },
   {
    "duration": 809,
    "start_time": "2022-10-31T12:25:01.040Z"
   },
   {
    "duration": 223,
    "start_time": "2022-10-31T12:25:01.851Z"
   },
   {
    "duration": 32,
    "start_time": "2022-10-31T12:25:02.076Z"
   },
   {
    "duration": 151,
    "start_time": "2022-10-31T12:25:26.334Z"
   },
   {
    "duration": 866,
    "start_time": "2022-10-31T12:25:26.487Z"
   },
   {
    "duration": 239,
    "start_time": "2022-10-31T12:25:27.354Z"
   },
   {
    "duration": 37,
    "start_time": "2022-10-31T12:25:27.595Z"
   },
   {
    "duration": 158,
    "start_time": "2022-10-31T12:25:40.500Z"
   },
   {
    "duration": 793,
    "start_time": "2022-10-31T12:25:40.660Z"
   },
   {
    "duration": 230,
    "start_time": "2022-10-31T12:25:41.454Z"
   },
   {
    "duration": 41,
    "start_time": "2022-10-31T12:25:41.687Z"
   },
   {
    "duration": 1960,
    "start_time": "2022-11-01T15:19:15.668Z"
   },
   {
    "duration": 747,
    "start_time": "2022-11-01T15:19:17.629Z"
   },
   {
    "duration": 292,
    "start_time": "2022-11-01T15:19:18.377Z"
   },
   {
    "duration": 45,
    "start_time": "2022-11-01T15:19:18.670Z"
   },
   {
    "duration": 160,
    "start_time": "2022-11-01T15:24:01.673Z"
   },
   {
    "duration": 817,
    "start_time": "2022-11-01T15:24:01.835Z"
   },
   {
    "duration": 243,
    "start_time": "2022-11-01T15:24:02.654Z"
   },
   {
    "duration": 61,
    "start_time": "2022-11-01T15:24:02.899Z"
   },
   {
    "duration": 169,
    "start_time": "2022-11-01T15:26:49.589Z"
   },
   {
    "duration": 802,
    "start_time": "2022-11-01T15:26:49.759Z"
   },
   {
    "duration": 223,
    "start_time": "2022-11-01T15:26:50.562Z"
   },
   {
    "duration": 61,
    "start_time": "2022-11-01T15:26:50.787Z"
   },
   {
    "duration": 164,
    "start_time": "2022-11-01T15:27:49.238Z"
   },
   {
    "duration": 714,
    "start_time": "2022-11-01T15:27:49.404Z"
   },
   {
    "duration": 229,
    "start_time": "2022-11-01T15:27:50.120Z"
   },
   {
    "duration": 64,
    "start_time": "2022-11-01T15:27:50.351Z"
   },
   {
    "duration": 190,
    "start_time": "2022-11-01T15:28:27.690Z"
   },
   {
    "duration": 788,
    "start_time": "2022-11-01T15:28:27.882Z"
   },
   {
    "duration": 227,
    "start_time": "2022-11-01T15:28:28.672Z"
   },
   {
    "duration": 64,
    "start_time": "2022-11-01T15:28:28.901Z"
   },
   {
    "duration": 165,
    "start_time": "2022-11-01T15:32:38.266Z"
   },
   {
    "duration": 704,
    "start_time": "2022-11-01T15:32:38.434Z"
   },
   {
    "duration": 218,
    "start_time": "2022-11-01T15:32:39.140Z"
   },
   {
    "duration": 69,
    "start_time": "2022-11-01T15:32:39.361Z"
   },
   {
    "duration": 22,
    "start_time": "2022-11-01T15:32:39.432Z"
   },
   {
    "duration": 157,
    "start_time": "2022-11-01T15:32:54.030Z"
   },
   {
    "duration": 785,
    "start_time": "2022-11-01T15:32:54.189Z"
   },
   {
    "duration": 226,
    "start_time": "2022-11-01T15:32:54.975Z"
   },
   {
    "duration": 59,
    "start_time": "2022-11-01T15:32:55.203Z"
   },
   {
    "duration": 32,
    "start_time": "2022-11-01T15:32:55.263Z"
   },
   {
    "duration": 156,
    "start_time": "2022-11-01T15:33:34.375Z"
   },
   {
    "duration": 812,
    "start_time": "2022-11-01T15:33:34.532Z"
   },
   {
    "duration": 212,
    "start_time": "2022-11-01T15:33:35.345Z"
   },
   {
    "duration": 65,
    "start_time": "2022-11-01T15:33:35.560Z"
   },
   {
    "duration": 54,
    "start_time": "2022-11-01T15:33:35.626Z"
   },
   {
    "duration": 167,
    "start_time": "2022-11-01T15:33:53.763Z"
   },
   {
    "duration": 737,
    "start_time": "2022-11-01T15:33:53.931Z"
   },
   {
    "duration": 219,
    "start_time": "2022-11-01T15:33:54.669Z"
   },
   {
    "duration": 65,
    "start_time": "2022-11-01T15:33:54.890Z"
   },
   {
    "duration": 32,
    "start_time": "2022-11-01T15:33:54.956Z"
   },
   {
    "duration": 15,
    "start_time": "2022-11-01T15:33:54.989Z"
   },
   {
    "duration": 19,
    "start_time": "2022-11-01T15:33:55.005Z"
   },
   {
    "duration": 174,
    "start_time": "2022-11-01T15:35:17.311Z"
   },
   {
    "duration": 990,
    "start_time": "2022-11-01T15:35:17.487Z"
   },
   {
    "duration": 215,
    "start_time": "2022-11-01T15:35:18.479Z"
   },
   {
    "duration": 63,
    "start_time": "2022-11-01T15:35:18.697Z"
   },
   {
    "duration": 30,
    "start_time": "2022-11-01T15:35:18.761Z"
   },
   {
    "duration": 35,
    "start_time": "2022-11-01T15:35:18.793Z"
   },
   {
    "duration": 20,
    "start_time": "2022-11-01T15:35:18.829Z"
   },
   {
    "duration": 43,
    "start_time": "2022-11-01T15:35:18.850Z"
   },
   {
    "duration": 167,
    "start_time": "2022-11-01T15:39:33.665Z"
   },
   {
    "duration": 723,
    "start_time": "2022-11-01T15:39:33.834Z"
   },
   {
    "duration": 206,
    "start_time": "2022-11-01T15:39:34.559Z"
   },
   {
    "duration": 65,
    "start_time": "2022-11-01T15:39:34.766Z"
   },
   {
    "duration": 44,
    "start_time": "2022-11-01T15:39:34.833Z"
   },
   {
    "duration": 27,
    "start_time": "2022-11-01T15:39:34.879Z"
   },
   {
    "duration": 177,
    "start_time": "2022-11-01T15:39:58.001Z"
   },
   {
    "duration": 833,
    "start_time": "2022-11-01T15:39:58.180Z"
   },
   {
    "duration": 220,
    "start_time": "2022-11-01T15:39:59.015Z"
   },
   {
    "duration": 72,
    "start_time": "2022-11-01T15:39:59.237Z"
   },
   {
    "duration": 38,
    "start_time": "2022-11-01T15:39:59.310Z"
   },
   {
    "duration": 125,
    "start_time": "2022-11-01T15:39:59.350Z"
   },
   {
    "duration": 173,
    "start_time": "2022-11-01T15:40:14.168Z"
   },
   {
    "duration": 735,
    "start_time": "2022-11-01T15:40:14.343Z"
   },
   {
    "duration": 221,
    "start_time": "2022-11-01T15:40:15.080Z"
   },
   {
    "duration": 64,
    "start_time": "2022-11-01T15:40:15.302Z"
   },
   {
    "duration": 48,
    "start_time": "2022-11-01T15:40:15.367Z"
   },
   {
    "duration": 36,
    "start_time": "2022-11-01T15:40:15.416Z"
   },
   {
    "duration": 162,
    "start_time": "2022-11-01T15:40:26.140Z"
   },
   {
    "duration": 817,
    "start_time": "2022-11-01T15:40:26.304Z"
   },
   {
    "duration": 213,
    "start_time": "2022-11-01T15:40:27.123Z"
   },
   {
    "duration": 74,
    "start_time": "2022-11-01T15:40:27.338Z"
   },
   {
    "duration": 36,
    "start_time": "2022-11-01T15:40:27.414Z"
   },
   {
    "duration": 43,
    "start_time": "2022-11-01T15:40:27.452Z"
   },
   {
    "duration": 162,
    "start_time": "2022-11-01T15:40:34.308Z"
   },
   {
    "duration": 734,
    "start_time": "2022-11-01T15:40:34.471Z"
   },
   {
    "duration": 213,
    "start_time": "2022-11-01T15:40:35.207Z"
   },
   {
    "duration": 64,
    "start_time": "2022-11-01T15:40:35.422Z"
   },
   {
    "duration": 40,
    "start_time": "2022-11-01T15:40:35.487Z"
   },
   {
    "duration": 27,
    "start_time": "2022-11-01T15:40:35.528Z"
   },
   {
    "duration": 163,
    "start_time": "2022-11-01T15:42:06.511Z"
   },
   {
    "duration": 751,
    "start_time": "2022-11-01T15:42:06.677Z"
   },
   {
    "duration": 227,
    "start_time": "2022-11-01T15:42:07.430Z"
   },
   {
    "duration": 81,
    "start_time": "2022-11-01T15:42:07.660Z"
   },
   {
    "duration": 56,
    "start_time": "2022-11-01T15:42:07.743Z"
   },
   {
    "duration": 98,
    "start_time": "2022-11-01T15:42:07.801Z"
   },
   {
    "duration": 176,
    "start_time": "2022-11-01T15:42:13.736Z"
   },
   {
    "duration": 888,
    "start_time": "2022-11-01T15:42:13.914Z"
   },
   {
    "duration": 239,
    "start_time": "2022-11-01T15:42:14.804Z"
   },
   {
    "duration": 80,
    "start_time": "2022-11-01T15:42:15.045Z"
   },
   {
    "duration": 57,
    "start_time": "2022-11-01T15:42:15.127Z"
   },
   {
    "duration": 75,
    "start_time": "2022-11-01T15:42:15.186Z"
   },
   {
    "duration": 164,
    "start_time": "2022-11-01T15:42:20.781Z"
   },
   {
    "duration": 746,
    "start_time": "2022-11-01T15:42:20.946Z"
   },
   {
    "duration": 225,
    "start_time": "2022-11-01T15:42:21.693Z"
   },
   {
    "duration": 71,
    "start_time": "2022-11-01T15:42:21.920Z"
   },
   {
    "duration": 36,
    "start_time": "2022-11-01T15:42:21.993Z"
   },
   {
    "duration": 33,
    "start_time": "2022-11-01T15:42:22.030Z"
   },
   {
    "duration": 167,
    "start_time": "2022-11-01T15:42:28.450Z"
   },
   {
    "duration": 824,
    "start_time": "2022-11-01T15:42:28.618Z"
   },
   {
    "duration": 212,
    "start_time": "2022-11-01T15:42:29.443Z"
   },
   {
    "duration": 69,
    "start_time": "2022-11-01T15:42:29.656Z"
   },
   {
    "duration": 34,
    "start_time": "2022-11-01T15:42:29.727Z"
   },
   {
    "duration": 35,
    "start_time": "2022-11-01T15:42:29.763Z"
   },
   {
    "duration": 164,
    "start_time": "2022-11-01T15:44:34.340Z"
   },
   {
    "duration": 756,
    "start_time": "2022-11-01T15:44:34.506Z"
   },
   {
    "duration": 215,
    "start_time": "2022-11-01T15:44:35.264Z"
   },
   {
    "duration": 62,
    "start_time": "2022-11-01T15:44:35.481Z"
   },
   {
    "duration": 54,
    "start_time": "2022-11-01T15:44:35.544Z"
   },
   {
    "duration": 311,
    "start_time": "2022-11-01T15:44:35.599Z"
   },
   {
    "duration": 165,
    "start_time": "2022-11-01T15:45:19.970Z"
   },
   {
    "duration": 848,
    "start_time": "2022-11-01T15:45:20.137Z"
   },
   {
    "duration": 206,
    "start_time": "2022-11-01T15:45:20.986Z"
   },
   {
    "duration": 60,
    "start_time": "2022-11-01T15:45:21.194Z"
   },
   {
    "duration": 58,
    "start_time": "2022-11-01T15:45:21.256Z"
   },
   {
    "duration": 31,
    "start_time": "2022-11-01T15:45:21.315Z"
   },
   {
    "duration": 165,
    "start_time": "2022-11-01T15:47:43.852Z"
   },
   {
    "duration": 759,
    "start_time": "2022-11-01T15:47:44.019Z"
   },
   {
    "duration": 206,
    "start_time": "2022-11-01T15:47:44.779Z"
   },
   {
    "duration": 73,
    "start_time": "2022-11-01T15:47:44.987Z"
   },
   {
    "duration": 58,
    "start_time": "2022-11-01T15:47:45.061Z"
   },
   {
    "duration": 32,
    "start_time": "2022-11-01T15:47:45.121Z"
   },
   {
    "duration": 50,
    "start_time": "2022-11-01T15:47:45.155Z"
   },
   {
    "duration": 165,
    "start_time": "2022-11-01T15:50:18.478Z"
   },
   {
    "duration": 855,
    "start_time": "2022-11-01T15:50:18.645Z"
   },
   {
    "duration": 213,
    "start_time": "2022-11-01T15:50:19.501Z"
   },
   {
    "duration": 74,
    "start_time": "2022-11-01T15:50:19.716Z"
   },
   {
    "duration": 40,
    "start_time": "2022-11-01T15:50:19.792Z"
   },
   {
    "duration": 50,
    "start_time": "2022-11-01T15:50:19.833Z"
   },
   {
    "duration": 57,
    "start_time": "2022-11-01T15:50:19.884Z"
   },
   {
    "duration": 166,
    "start_time": "2022-11-01T15:51:19.417Z"
   },
   {
    "duration": 865,
    "start_time": "2022-11-01T15:51:19.584Z"
   },
   {
    "duration": 244,
    "start_time": "2022-11-01T15:51:20.451Z"
   },
   {
    "duration": 71,
    "start_time": "2022-11-01T15:51:20.697Z"
   },
   {
    "duration": 49,
    "start_time": "2022-11-01T15:51:20.769Z"
   },
   {
    "duration": 33,
    "start_time": "2022-11-01T15:51:20.820Z"
   },
   {
    "duration": 73,
    "start_time": "2022-11-01T15:51:20.856Z"
   },
   {
    "duration": 163,
    "start_time": "2022-11-01T15:58:43.826Z"
   },
   {
    "duration": 867,
    "start_time": "2022-11-01T15:58:43.991Z"
   },
   {
    "duration": 220,
    "start_time": "2022-11-01T15:58:44.859Z"
   },
   {
    "duration": 64,
    "start_time": "2022-11-01T15:58:45.080Z"
   },
   {
    "duration": 55,
    "start_time": "2022-11-01T15:58:45.146Z"
   },
   {
    "duration": 34,
    "start_time": "2022-11-01T15:58:45.202Z"
   },
   {
    "duration": 73,
    "start_time": "2022-11-01T15:58:45.237Z"
   },
   {
    "duration": 8,
    "start_time": "2022-11-01T15:58:45.312Z"
   },
   {
    "duration": 161,
    "start_time": "2022-11-01T15:58:58.431Z"
   },
   {
    "duration": 749,
    "start_time": "2022-11-01T15:58:58.594Z"
   },
   {
    "duration": 206,
    "start_time": "2022-11-01T15:58:59.344Z"
   },
   {
    "duration": 70,
    "start_time": "2022-11-01T15:58:59.552Z"
   },
   {
    "duration": 37,
    "start_time": "2022-11-01T15:58:59.624Z"
   },
   {
    "duration": 43,
    "start_time": "2022-11-01T15:58:59.663Z"
   },
   {
    "duration": 69,
    "start_time": "2022-11-01T15:58:59.708Z"
   },
   {
    "duration": 8,
    "start_time": "2022-11-01T15:58:59.779Z"
   },
   {
    "duration": 162,
    "start_time": "2022-11-01T16:03:09.999Z"
   },
   {
    "duration": 805,
    "start_time": "2022-11-01T16:03:10.163Z"
   },
   {
    "duration": 231,
    "start_time": "2022-11-01T16:03:10.969Z"
   },
   {
    "duration": 65,
    "start_time": "2022-11-01T16:03:11.202Z"
   },
   {
    "duration": 47,
    "start_time": "2022-11-01T16:03:11.268Z"
   },
   {
    "duration": 32,
    "start_time": "2022-11-01T16:03:11.317Z"
   },
   {
    "duration": 81,
    "start_time": "2022-11-01T16:03:11.350Z"
   },
   {
    "duration": 11,
    "start_time": "2022-11-01T16:03:11.433Z"
   },
   {
    "duration": 164,
    "start_time": "2022-11-01T16:09:39.036Z"
   },
   {
    "duration": 858,
    "start_time": "2022-11-01T16:09:39.202Z"
   },
   {
    "duration": 229,
    "start_time": "2022-11-01T16:09:40.061Z"
   },
   {
    "duration": 68,
    "start_time": "2022-11-01T16:09:40.292Z"
   },
   {
    "duration": 46,
    "start_time": "2022-11-01T16:09:40.361Z"
   },
   {
    "duration": 33,
    "start_time": "2022-11-01T16:09:40.408Z"
   },
   {
    "duration": 14,
    "start_time": "2022-11-01T16:09:40.442Z"
   },
   {
    "duration": 0,
    "start_time": "2022-11-01T16:09:40.458Z"
   },
   {
    "duration": 0,
    "start_time": "2022-11-01T16:09:40.478Z"
   },
   {
    "duration": 160,
    "start_time": "2022-11-01T16:10:08.807Z"
   },
   {
    "duration": 759,
    "start_time": "2022-11-01T16:10:08.969Z"
   },
   {
    "duration": 248,
    "start_time": "2022-11-01T16:10:09.730Z"
   },
   {
    "duration": 65,
    "start_time": "2022-11-01T16:10:09.980Z"
   },
   {
    "duration": 46,
    "start_time": "2022-11-01T16:10:10.046Z"
   },
   {
    "duration": 30,
    "start_time": "2022-11-01T16:10:10.094Z"
   },
   {
    "duration": 52,
    "start_time": "2022-11-01T16:10:10.126Z"
   },
   {
    "duration": 59,
    "start_time": "2022-11-01T16:10:10.179Z"
   },
   {
    "duration": 8,
    "start_time": "2022-11-01T16:10:10.240Z"
   },
   {
    "duration": 162,
    "start_time": "2022-11-01T16:12:10.846Z"
   },
   {
    "duration": 46,
    "start_time": "2022-11-01T16:12:11.010Z"
   },
   {
    "duration": 904,
    "start_time": "2022-11-01T16:12:11.058Z"
   },
   {
    "duration": 207,
    "start_time": "2022-11-01T16:12:11.965Z"
   },
   {
    "duration": 66,
    "start_time": "2022-11-01T16:12:12.176Z"
   },
   {
    "duration": 56,
    "start_time": "2022-11-01T16:12:12.244Z"
   },
   {
    "duration": 32,
    "start_time": "2022-11-01T16:12:12.302Z"
   },
   {
    "duration": 42,
    "start_time": "2022-11-01T16:12:12.336Z"
   },
   {
    "duration": 56,
    "start_time": "2022-11-01T16:12:12.380Z"
   },
   {
    "duration": 8,
    "start_time": "2022-11-01T16:12:12.438Z"
   },
   {
    "duration": 165,
    "start_time": "2022-11-01T16:13:05.768Z"
   },
   {
    "duration": 110,
    "start_time": "2022-11-01T16:13:05.935Z"
   },
   {
    "duration": 783,
    "start_time": "2022-11-01T16:13:06.047Z"
   },
   {
    "duration": 212,
    "start_time": "2022-11-01T16:13:06.832Z"
   },
   {
    "duration": 67,
    "start_time": "2022-11-01T16:13:07.046Z"
   },
   {
    "duration": 35,
    "start_time": "2022-11-01T16:13:07.114Z"
   },
   {
    "duration": 44,
    "start_time": "2022-11-01T16:13:07.150Z"
   },
   {
    "duration": 30,
    "start_time": "2022-11-01T16:13:07.195Z"
   },
   {
    "duration": 72,
    "start_time": "2022-11-01T16:13:07.226Z"
   },
   {
    "duration": 9,
    "start_time": "2022-11-01T16:13:07.300Z"
   },
   {
    "duration": 173,
    "start_time": "2022-11-01T16:18:00.116Z"
   },
   {
    "duration": 109,
    "start_time": "2022-11-01T16:18:00.291Z"
   },
   {
    "duration": 943,
    "start_time": "2022-11-01T16:18:00.402Z"
   },
   {
    "duration": 224,
    "start_time": "2022-11-01T16:18:01.347Z"
   },
   {
    "duration": 64,
    "start_time": "2022-11-01T16:18:01.572Z"
   },
   {
    "duration": 51,
    "start_time": "2022-11-01T16:18:01.638Z"
   },
   {
    "duration": 30,
    "start_time": "2022-11-01T16:18:01.691Z"
   },
   {
    "duration": 371,
    "start_time": "2022-11-01T16:18:01.722Z"
   },
   {
    "duration": 0,
    "start_time": "2022-11-01T16:18:02.095Z"
   },
   {
    "duration": 166,
    "start_time": "2022-11-01T16:18:13.200Z"
   },
   {
    "duration": 104,
    "start_time": "2022-11-01T16:18:13.368Z"
   },
   {
    "duration": 799,
    "start_time": "2022-11-01T16:18:13.473Z"
   },
   {
    "duration": 213,
    "start_time": "2022-11-01T16:18:14.274Z"
   },
   {
    "duration": 57,
    "start_time": "2022-11-01T16:18:14.489Z"
   },
   {
    "duration": 50,
    "start_time": "2022-11-01T16:18:14.547Z"
   },
   {
    "duration": 33,
    "start_time": "2022-11-01T16:18:14.599Z"
   },
   {
    "duration": 66,
    "start_time": "2022-11-01T16:18:14.634Z"
   },
   {
    "duration": 8,
    "start_time": "2022-11-01T16:18:14.701Z"
   },
   {
    "duration": 165,
    "start_time": "2022-11-01T16:20:01.655Z"
   },
   {
    "duration": 112,
    "start_time": "2022-11-01T16:20:01.822Z"
   },
   {
    "duration": 823,
    "start_time": "2022-11-01T16:20:01.936Z"
   },
   {
    "duration": 239,
    "start_time": "2022-11-01T16:20:02.762Z"
   },
   {
    "duration": 77,
    "start_time": "2022-11-01T16:20:03.003Z"
   },
   {
    "duration": 35,
    "start_time": "2022-11-01T16:20:03.082Z"
   },
   {
    "duration": 31,
    "start_time": "2022-11-01T16:20:03.119Z"
   },
   {
    "duration": 71,
    "start_time": "2022-11-01T16:20:03.152Z"
   },
   {
    "duration": 3204,
    "start_time": "2022-11-01T16:20:03.224Z"
   },
   {
    "duration": 163,
    "start_time": "2022-11-01T16:21:18.288Z"
   },
   {
    "duration": 96,
    "start_time": "2022-11-01T16:21:18.453Z"
   },
   {
    "duration": 798,
    "start_time": "2022-11-01T16:21:18.551Z"
   },
   {
    "duration": 221,
    "start_time": "2022-11-01T16:21:19.351Z"
   },
   {
    "duration": 62,
    "start_time": "2022-11-01T16:21:19.573Z"
   },
   {
    "duration": 49,
    "start_time": "2022-11-01T16:21:19.636Z"
   },
   {
    "duration": 31,
    "start_time": "2022-11-01T16:21:19.686Z"
   },
   {
    "duration": 70,
    "start_time": "2022-11-01T16:21:19.718Z"
   },
   {
    "duration": 1692,
    "start_time": "2022-11-01T16:21:19.790Z"
   },
   {
    "duration": 160,
    "start_time": "2022-11-01T16:22:32.224Z"
   },
   {
    "duration": 108,
    "start_time": "2022-11-01T16:22:32.386Z"
   },
   {
    "duration": 916,
    "start_time": "2022-11-01T16:22:32.495Z"
   },
   {
    "duration": 220,
    "start_time": "2022-11-01T16:22:33.413Z"
   },
   {
    "duration": 70,
    "start_time": "2022-11-01T16:22:33.634Z"
   },
   {
    "duration": 42,
    "start_time": "2022-11-01T16:22:33.705Z"
   },
   {
    "duration": 44,
    "start_time": "2022-11-01T16:22:33.748Z"
   },
   {
    "duration": 62,
    "start_time": "2022-11-01T16:22:33.794Z"
   },
   {
    "duration": 1840,
    "start_time": "2022-11-01T16:22:33.858Z"
   },
   {
    "duration": 171,
    "start_time": "2022-11-01T16:22:41.750Z"
   },
   {
    "duration": 113,
    "start_time": "2022-11-01T16:22:41.924Z"
   },
   {
    "duration": 890,
    "start_time": "2022-11-01T16:22:42.038Z"
   },
   {
    "duration": 240,
    "start_time": "2022-11-01T16:22:42.930Z"
   },
   {
    "duration": 69,
    "start_time": "2022-11-01T16:22:43.171Z"
   },
   {
    "duration": 55,
    "start_time": "2022-11-01T16:22:43.242Z"
   },
   {
    "duration": 32,
    "start_time": "2022-11-01T16:22:43.300Z"
   },
   {
    "duration": 88,
    "start_time": "2022-11-01T16:22:43.334Z"
   },
   {
    "duration": 1169,
    "start_time": "2022-11-01T16:22:43.423Z"
   },
   {
    "duration": 177,
    "start_time": "2022-11-01T16:23:01.962Z"
   },
   {
    "duration": 101,
    "start_time": "2022-11-01T16:23:02.141Z"
   },
   {
    "duration": 811,
    "start_time": "2022-11-01T16:23:02.244Z"
   },
   {
    "duration": 320,
    "start_time": "2022-11-01T16:23:03.056Z"
   },
   {
    "duration": 64,
    "start_time": "2022-11-01T16:23:03.377Z"
   },
   {
    "duration": 50,
    "start_time": "2022-11-01T16:23:03.443Z"
   },
   {
    "duration": 30,
    "start_time": "2022-11-01T16:23:03.494Z"
   },
   {
    "duration": 70,
    "start_time": "2022-11-01T16:23:03.526Z"
   },
   {
    "duration": 8,
    "start_time": "2022-11-01T16:23:03.597Z"
   },
   {
    "duration": 164,
    "start_time": "2022-11-01T16:48:38.439Z"
   },
   {
    "duration": 101,
    "start_time": "2022-11-01T16:48:38.604Z"
   },
   {
    "duration": 771,
    "start_time": "2022-11-01T16:48:38.706Z"
   },
   {
    "duration": 209,
    "start_time": "2022-11-01T16:48:39.479Z"
   },
   {
    "duration": 63,
    "start_time": "2022-11-01T16:48:39.689Z"
   },
   {
    "duration": 56,
    "start_time": "2022-11-01T16:48:39.754Z"
   },
   {
    "duration": 31,
    "start_time": "2022-11-01T16:48:39.811Z"
   },
   {
    "duration": 74,
    "start_time": "2022-11-01T16:48:39.843Z"
   },
   {
    "duration": 11,
    "start_time": "2022-11-01T16:48:39.918Z"
   },
   {
    "duration": 167,
    "start_time": "2022-11-01T17:03:35.692Z"
   },
   {
    "duration": 109,
    "start_time": "2022-11-01T17:03:35.860Z"
   },
   {
    "duration": 866,
    "start_time": "2022-11-01T17:03:35.970Z"
   },
   {
    "duration": 216,
    "start_time": "2022-11-01T17:03:36.838Z"
   },
   {
    "duration": 70,
    "start_time": "2022-11-01T17:03:37.055Z"
   },
   {
    "duration": 40,
    "start_time": "2022-11-01T17:03:37.126Z"
   },
   {
    "duration": 37,
    "start_time": "2022-11-01T17:03:37.168Z"
   },
   {
    "duration": 75,
    "start_time": "2022-11-01T17:03:37.206Z"
   },
   {
    "duration": 11,
    "start_time": "2022-11-01T17:03:37.284Z"
   },
   {
    "duration": 41,
    "start_time": "2022-11-01T17:03:37.298Z"
   },
   {
    "duration": 161,
    "start_time": "2022-11-01T17:03:58.485Z"
   },
   {
    "duration": 115,
    "start_time": "2022-11-01T17:03:58.647Z"
   },
   {
    "duration": 916,
    "start_time": "2022-11-01T17:03:58.763Z"
   },
   {
    "duration": 227,
    "start_time": "2022-11-01T17:03:59.681Z"
   },
   {
    "duration": 73,
    "start_time": "2022-11-01T17:03:59.909Z"
   },
   {
    "duration": 39,
    "start_time": "2022-11-01T17:03:59.984Z"
   },
   {
    "duration": 31,
    "start_time": "2022-11-01T17:04:00.025Z"
   },
   {
    "duration": 73,
    "start_time": "2022-11-01T17:04:00.058Z"
   },
   {
    "duration": 9,
    "start_time": "2022-11-01T17:04:00.133Z"
   },
   {
    "duration": 47,
    "start_time": "2022-11-01T17:04:00.144Z"
   },
   {
    "duration": 167,
    "start_time": "2022-11-01T17:04:36.011Z"
   },
   {
    "duration": 103,
    "start_time": "2022-11-01T17:04:36.180Z"
   },
   {
    "duration": 810,
    "start_time": "2022-11-01T17:04:36.285Z"
   },
   {
    "duration": 226,
    "start_time": "2022-11-01T17:04:37.097Z"
   },
   {
    "duration": 70,
    "start_time": "2022-11-01T17:04:37.324Z"
   },
   {
    "duration": 39,
    "start_time": "2022-11-01T17:04:37.395Z"
   },
   {
    "duration": 45,
    "start_time": "2022-11-01T17:04:37.436Z"
   },
   {
    "duration": 58,
    "start_time": "2022-11-01T17:04:37.483Z"
   },
   {
    "duration": 10,
    "start_time": "2022-11-01T17:04:37.543Z"
   },
   {
    "duration": 93,
    "start_time": "2022-11-01T17:04:37.556Z"
   },
   {
    "duration": 159,
    "start_time": "2022-11-01T17:04:56.063Z"
   },
   {
    "duration": 101,
    "start_time": "2022-11-01T17:04:56.223Z"
   },
   {
    "duration": 797,
    "start_time": "2022-11-01T17:04:56.326Z"
   },
   {
    "duration": 224,
    "start_time": "2022-11-01T17:04:57.125Z"
   },
   {
    "duration": 76,
    "start_time": "2022-11-01T17:04:57.351Z"
   },
   {
    "duration": 49,
    "start_time": "2022-11-01T17:04:57.429Z"
   },
   {
    "duration": 31,
    "start_time": "2022-11-01T17:04:57.480Z"
   },
   {
    "duration": 89,
    "start_time": "2022-11-01T17:04:57.513Z"
   },
   {
    "duration": 10,
    "start_time": "2022-11-01T17:04:57.604Z"
   },
   {
    "duration": 93,
    "start_time": "2022-11-01T17:04:57.616Z"
   },
   {
    "duration": 168,
    "start_time": "2022-11-01T17:08:01.138Z"
   },
   {
    "duration": 112,
    "start_time": "2022-11-01T17:08:01.308Z"
   },
   {
    "duration": 841,
    "start_time": "2022-11-01T17:08:01.421Z"
   },
   {
    "duration": 232,
    "start_time": "2022-11-01T17:08:02.264Z"
   },
   {
    "duration": 63,
    "start_time": "2022-11-01T17:08:02.497Z"
   },
   {
    "duration": 48,
    "start_time": "2022-11-01T17:08:02.562Z"
   },
   {
    "duration": 29,
    "start_time": "2022-11-01T17:08:02.612Z"
   },
   {
    "duration": 86,
    "start_time": "2022-11-01T17:08:02.643Z"
   },
   {
    "duration": 11,
    "start_time": "2022-11-01T17:08:02.731Z"
   },
   {
    "duration": 90,
    "start_time": "2022-11-01T17:08:02.744Z"
   },
   {
    "duration": 167,
    "start_time": "2022-11-01T17:15:51.967Z"
   },
   {
    "duration": 116,
    "start_time": "2022-11-01T17:15:52.135Z"
   },
   {
    "duration": 851,
    "start_time": "2022-11-01T17:15:52.253Z"
   },
   {
    "duration": 230,
    "start_time": "2022-11-01T17:15:53.106Z"
   },
   {
    "duration": 68,
    "start_time": "2022-11-01T17:15:53.337Z"
   },
   {
    "duration": 40,
    "start_time": "2022-11-01T17:15:53.406Z"
   },
   {
    "duration": 46,
    "start_time": "2022-11-01T17:15:53.447Z"
   },
   {
    "duration": 54,
    "start_time": "2022-11-01T17:15:53.495Z"
   },
   {
    "duration": 10,
    "start_time": "2022-11-01T17:15:53.551Z"
   },
   {
    "duration": 1172,
    "start_time": "2022-11-01T17:15:53.578Z"
   },
   {
    "duration": 153,
    "start_time": "2022-11-01T17:16:09.360Z"
   },
   {
    "duration": 102,
    "start_time": "2022-11-01T17:16:09.515Z"
   },
   {
    "duration": 933,
    "start_time": "2022-11-01T17:16:09.618Z"
   },
   {
    "duration": 218,
    "start_time": "2022-11-01T17:16:10.553Z"
   },
   {
    "duration": 63,
    "start_time": "2022-11-01T17:16:10.772Z"
   },
   {
    "duration": 49,
    "start_time": "2022-11-01T17:16:10.837Z"
   },
   {
    "duration": 30,
    "start_time": "2022-11-01T17:16:10.888Z"
   },
   {
    "duration": 77,
    "start_time": "2022-11-01T17:16:10.920Z"
   },
   {
    "duration": 11,
    "start_time": "2022-11-01T17:16:10.999Z"
   },
   {
    "duration": 83,
    "start_time": "2022-11-01T17:16:11.012Z"
   },
   {
    "duration": 161,
    "start_time": "2022-11-01T17:17:17.468Z"
   },
   {
    "duration": 106,
    "start_time": "2022-11-01T17:17:17.631Z"
   },
   {
    "duration": 861,
    "start_time": "2022-11-01T17:17:17.740Z"
   },
   {
    "duration": 208,
    "start_time": "2022-11-01T17:17:18.603Z"
   },
   {
    "duration": 67,
    "start_time": "2022-11-01T17:17:18.813Z"
   },
   {
    "duration": 35,
    "start_time": "2022-11-01T17:17:18.882Z"
   },
   {
    "duration": 29,
    "start_time": "2022-11-01T17:17:18.919Z"
   },
   {
    "duration": 72,
    "start_time": "2022-11-01T17:17:18.949Z"
   },
   {
    "duration": 12,
    "start_time": "2022-11-01T17:17:19.023Z"
   },
   {
    "duration": 1172,
    "start_time": "2022-11-01T17:17:19.036Z"
   },
   {
    "duration": 165,
    "start_time": "2022-11-01T17:17:28.049Z"
   },
   {
    "duration": 117,
    "start_time": "2022-11-01T17:17:28.216Z"
   },
   {
    "duration": 844,
    "start_time": "2022-11-01T17:17:28.334Z"
   },
   {
    "duration": 222,
    "start_time": "2022-11-01T17:17:29.179Z"
   },
   {
    "duration": 75,
    "start_time": "2022-11-01T17:17:29.403Z"
   },
   {
    "duration": 41,
    "start_time": "2022-11-01T17:17:29.480Z"
   },
   {
    "duration": 32,
    "start_time": "2022-11-01T17:17:29.522Z"
   },
   {
    "duration": 76,
    "start_time": "2022-11-01T17:17:29.555Z"
   },
   {
    "duration": 11,
    "start_time": "2022-11-01T17:17:29.633Z"
   },
   {
    "duration": 1334,
    "start_time": "2022-11-01T17:17:29.646Z"
   },
   {
    "duration": 166,
    "start_time": "2022-11-01T17:18:22.284Z"
   },
   {
    "duration": 98,
    "start_time": "2022-11-01T17:18:22.451Z"
   },
   {
    "duration": 759,
    "start_time": "2022-11-01T17:18:22.550Z"
   },
   {
    "duration": 340,
    "start_time": "2022-11-01T17:18:23.312Z"
   },
   {
    "duration": 72,
    "start_time": "2022-11-01T17:18:23.654Z"
   },
   {
    "duration": 40,
    "start_time": "2022-11-01T17:18:23.727Z"
   },
   {
    "duration": 30,
    "start_time": "2022-11-01T17:18:23.777Z"
   },
   {
    "duration": 74,
    "start_time": "2022-11-01T17:18:23.809Z"
   },
   {
    "duration": 10,
    "start_time": "2022-11-01T17:18:23.885Z"
   },
   {
    "duration": 65,
    "start_time": "2022-11-01T17:18:23.897Z"
   },
   {
    "duration": 162,
    "start_time": "2022-11-01T17:18:39.188Z"
   },
   {
    "duration": 110,
    "start_time": "2022-11-01T17:18:39.351Z"
   },
   {
    "duration": 851,
    "start_time": "2022-11-01T17:18:39.462Z"
   },
   {
    "duration": 225,
    "start_time": "2022-11-01T17:18:40.314Z"
   },
   {
    "duration": 69,
    "start_time": "2022-11-01T17:18:40.540Z"
   },
   {
    "duration": 36,
    "start_time": "2022-11-01T17:18:40.611Z"
   },
   {
    "duration": 40,
    "start_time": "2022-11-01T17:18:40.649Z"
   },
   {
    "duration": 56,
    "start_time": "2022-11-01T17:18:40.691Z"
   },
   {
    "duration": 28,
    "start_time": "2022-11-01T17:18:40.749Z"
   },
   {
    "duration": 67,
    "start_time": "2022-11-01T17:18:40.779Z"
   },
   {
    "duration": 166,
    "start_time": "2022-11-01T17:18:50.081Z"
   },
   {
    "duration": 97,
    "start_time": "2022-11-01T17:18:50.248Z"
   },
   {
    "duration": 814,
    "start_time": "2022-11-01T17:18:50.347Z"
   },
   {
    "duration": 205,
    "start_time": "2022-11-01T17:18:51.162Z"
   },
   {
    "duration": 68,
    "start_time": "2022-11-01T17:18:51.369Z"
   },
   {
    "duration": 50,
    "start_time": "2022-11-01T17:18:51.438Z"
   },
   {
    "duration": 31,
    "start_time": "2022-11-01T17:18:51.489Z"
   },
   {
    "duration": 72,
    "start_time": "2022-11-01T17:18:51.521Z"
   },
   {
    "duration": 11,
    "start_time": "2022-11-01T17:18:51.595Z"
   },
   {
    "duration": 79,
    "start_time": "2022-11-01T17:18:51.608Z"
   },
   {
    "duration": 162,
    "start_time": "2022-11-01T17:19:49.931Z"
   },
   {
    "duration": 103,
    "start_time": "2022-11-01T17:19:50.094Z"
   },
   {
    "duration": 843,
    "start_time": "2022-11-01T17:19:50.198Z"
   },
   {
    "duration": 223,
    "start_time": "2022-11-01T17:19:51.043Z"
   },
   {
    "duration": 70,
    "start_time": "2022-11-01T17:19:51.267Z"
   },
   {
    "duration": 48,
    "start_time": "2022-11-01T17:19:51.338Z"
   },
   {
    "duration": 30,
    "start_time": "2022-11-01T17:19:51.388Z"
   },
   {
    "duration": 75,
    "start_time": "2022-11-01T17:19:51.420Z"
   },
   {
    "duration": 10,
    "start_time": "2022-11-01T17:19:51.497Z"
   },
   {
    "duration": 80,
    "start_time": "2022-11-01T17:19:51.510Z"
   },
   {
    "duration": 156,
    "start_time": "2022-11-01T17:20:46.065Z"
   },
   {
    "duration": 96,
    "start_time": "2022-11-01T17:20:46.223Z"
   },
   {
    "duration": 820,
    "start_time": "2022-11-01T17:20:46.321Z"
   },
   {
    "duration": 217,
    "start_time": "2022-11-01T17:20:47.143Z"
   },
   {
    "duration": 78,
    "start_time": "2022-11-01T17:20:47.362Z"
   },
   {
    "duration": 48,
    "start_time": "2022-11-01T17:20:47.442Z"
   },
   {
    "duration": 29,
    "start_time": "2022-11-01T17:20:47.492Z"
   },
   {
    "duration": 73,
    "start_time": "2022-11-01T17:20:47.523Z"
   },
   {
    "duration": 9,
    "start_time": "2022-11-01T17:20:47.598Z"
   },
   {
    "duration": 78,
    "start_time": "2022-11-01T17:20:47.609Z"
   },
   {
    "duration": 165,
    "start_time": "2022-11-01T17:20:57.917Z"
   },
   {
    "duration": 106,
    "start_time": "2022-11-01T17:20:58.084Z"
   },
   {
    "duration": 825,
    "start_time": "2022-11-01T17:20:58.192Z"
   },
   {
    "duration": 244,
    "start_time": "2022-11-01T17:20:59.019Z"
   },
   {
    "duration": 74,
    "start_time": "2022-11-01T17:20:59.265Z"
   },
   {
    "duration": 48,
    "start_time": "2022-11-01T17:20:59.341Z"
   },
   {
    "duration": 28,
    "start_time": "2022-11-01T17:20:59.391Z"
   },
   {
    "duration": 69,
    "start_time": "2022-11-01T17:20:59.421Z"
   },
   {
    "duration": 9,
    "start_time": "2022-11-01T17:20:59.492Z"
   },
   {
    "duration": 78,
    "start_time": "2022-11-01T17:20:59.503Z"
   },
   {
    "duration": 158,
    "start_time": "2022-11-01T17:21:10.972Z"
   },
   {
    "duration": 97,
    "start_time": "2022-11-01T17:21:11.132Z"
   },
   {
    "duration": 975,
    "start_time": "2022-11-01T17:21:11.231Z"
   },
   {
    "duration": 213,
    "start_time": "2022-11-01T17:21:12.208Z"
   },
   {
    "duration": 65,
    "start_time": "2022-11-01T17:21:12.423Z"
   },
   {
    "duration": 36,
    "start_time": "2022-11-01T17:21:12.490Z"
   },
   {
    "duration": 30,
    "start_time": "2022-11-01T17:21:12.528Z"
   },
   {
    "duration": 59,
    "start_time": "2022-11-01T17:21:12.577Z"
   },
   {
    "duration": 12,
    "start_time": "2022-11-01T17:21:12.638Z"
   },
   {
    "duration": 102,
    "start_time": "2022-11-01T17:21:12.653Z"
   },
   {
    "duration": 164,
    "start_time": "2022-11-01T17:21:19.876Z"
   },
   {
    "duration": 107,
    "start_time": "2022-11-01T17:21:20.042Z"
   },
   {
    "duration": 710,
    "start_time": "2022-11-01T17:21:20.151Z"
   },
   {
    "duration": 226,
    "start_time": "2022-11-01T17:21:20.863Z"
   },
   {
    "duration": 61,
    "start_time": "2022-11-01T17:21:21.091Z"
   },
   {
    "duration": 50,
    "start_time": "2022-11-01T17:21:21.154Z"
   },
   {
    "duration": 29,
    "start_time": "2022-11-01T17:21:21.205Z"
   },
   {
    "duration": 73,
    "start_time": "2022-11-01T17:21:21.236Z"
   },
   {
    "duration": 11,
    "start_time": "2022-11-01T17:21:21.311Z"
   },
   {
    "duration": 81,
    "start_time": "2022-11-01T17:21:21.325Z"
   },
   {
    "duration": 170,
    "start_time": "2022-11-01T17:23:19.775Z"
   },
   {
    "duration": 102,
    "start_time": "2022-11-01T17:23:19.947Z"
   },
   {
    "duration": 999,
    "start_time": "2022-11-01T17:23:20.050Z"
   },
   {
    "duration": 217,
    "start_time": "2022-11-01T17:23:21.051Z"
   },
   {
    "duration": 64,
    "start_time": "2022-11-01T17:23:21.269Z"
   },
   {
    "duration": 53,
    "start_time": "2022-11-01T17:23:21.335Z"
   },
   {
    "duration": 33,
    "start_time": "2022-11-01T17:23:21.390Z"
   },
   {
    "duration": 70,
    "start_time": "2022-11-01T17:23:21.425Z"
   },
   {
    "duration": 9,
    "start_time": "2022-11-01T17:23:21.497Z"
   },
   {
    "duration": 86,
    "start_time": "2022-11-01T17:23:21.508Z"
   },
   {
    "duration": 168,
    "start_time": "2022-11-01T17:23:32.510Z"
   },
   {
    "duration": 128,
    "start_time": "2022-11-01T17:23:32.680Z"
   },
   {
    "duration": 767,
    "start_time": "2022-11-01T17:23:32.809Z"
   },
   {
    "duration": 225,
    "start_time": "2022-11-01T17:23:33.577Z"
   },
   {
    "duration": 63,
    "start_time": "2022-11-01T17:23:33.803Z"
   },
   {
    "duration": 38,
    "start_time": "2022-11-01T17:23:33.878Z"
   },
   {
    "duration": 31,
    "start_time": "2022-11-01T17:23:33.918Z"
   },
   {
    "duration": 76,
    "start_time": "2022-11-01T17:23:33.951Z"
   },
   {
    "duration": 11,
    "start_time": "2022-11-01T17:23:34.029Z"
   },
   {
    "duration": 87,
    "start_time": "2022-11-01T17:23:34.042Z"
   },
   {
    "duration": 166,
    "start_time": "2022-11-01T17:23:46.338Z"
   },
   {
    "duration": 105,
    "start_time": "2022-11-01T17:23:46.506Z"
   },
   {
    "duration": 871,
    "start_time": "2022-11-01T17:23:46.613Z"
   },
   {
    "duration": 234,
    "start_time": "2022-11-01T17:23:47.486Z"
   },
   {
    "duration": 85,
    "start_time": "2022-11-01T17:23:47.722Z"
   },
   {
    "duration": 44,
    "start_time": "2022-11-01T17:23:47.809Z"
   },
   {
    "duration": 50,
    "start_time": "2022-11-01T17:23:47.855Z"
   },
   {
    "duration": 88,
    "start_time": "2022-11-01T17:23:47.906Z"
   },
   {
    "duration": 11,
    "start_time": "2022-11-01T17:23:47.996Z"
   },
   {
    "duration": 84,
    "start_time": "2022-11-01T17:23:48.008Z"
   },
   {
    "duration": 171,
    "start_time": "2022-11-01T17:26:14.123Z"
   },
   {
    "duration": 109,
    "start_time": "2022-11-01T17:26:14.296Z"
   },
   {
    "duration": 1030,
    "start_time": "2022-11-01T17:26:14.407Z"
   },
   {
    "duration": 229,
    "start_time": "2022-11-01T17:26:15.440Z"
   },
   {
    "duration": 62,
    "start_time": "2022-11-01T17:26:15.677Z"
   },
   {
    "duration": 47,
    "start_time": "2022-11-01T17:26:15.741Z"
   },
   {
    "duration": 36,
    "start_time": "2022-11-01T17:26:15.790Z"
   },
   {
    "duration": 78,
    "start_time": "2022-11-01T17:26:15.828Z"
   },
   {
    "duration": 11,
    "start_time": "2022-11-01T17:26:15.908Z"
   },
   {
    "duration": 1227,
    "start_time": "2022-11-01T17:26:15.921Z"
   },
   {
    "duration": 164,
    "start_time": "2022-11-01T17:26:27.188Z"
   },
   {
    "duration": 104,
    "start_time": "2022-11-01T17:26:27.354Z"
   },
   {
    "duration": 823,
    "start_time": "2022-11-01T17:26:27.459Z"
   },
   {
    "duration": 232,
    "start_time": "2022-11-01T17:26:28.284Z"
   },
   {
    "duration": 69,
    "start_time": "2022-11-01T17:26:28.518Z"
   },
   {
    "duration": 38,
    "start_time": "2022-11-01T17:26:28.589Z"
   },
   {
    "duration": 30,
    "start_time": "2022-11-01T17:26:28.628Z"
   },
   {
    "duration": 78,
    "start_time": "2022-11-01T17:26:28.660Z"
   },
   {
    "duration": 12,
    "start_time": "2022-11-01T17:26:28.740Z"
   },
   {
    "duration": 83,
    "start_time": "2022-11-01T17:26:28.755Z"
   },
   {
    "duration": 173,
    "start_time": "2022-11-01T17:26:39.624Z"
   },
   {
    "duration": 106,
    "start_time": "2022-11-01T17:26:39.799Z"
   },
   {
    "duration": 1056,
    "start_time": "2022-11-01T17:26:39.906Z"
   },
   {
    "duration": 225,
    "start_time": "2022-11-01T17:26:40.964Z"
   },
   {
    "duration": 64,
    "start_time": "2022-11-01T17:26:41.190Z"
   },
   {
    "duration": 49,
    "start_time": "2022-11-01T17:26:41.256Z"
   },
   {
    "duration": 31,
    "start_time": "2022-11-01T17:26:41.307Z"
   },
   {
    "duration": 70,
    "start_time": "2022-11-01T17:26:41.340Z"
   },
   {
    "duration": 11,
    "start_time": "2022-11-01T17:26:41.412Z"
   },
   {
    "duration": 81,
    "start_time": "2022-11-01T17:26:41.425Z"
   },
   {
    "duration": 167,
    "start_time": "2022-11-01T17:33:04.807Z"
   },
   {
    "duration": 107,
    "start_time": "2022-11-01T17:33:04.977Z"
   },
   {
    "duration": 729,
    "start_time": "2022-11-01T17:33:05.086Z"
   },
   {
    "duration": 231,
    "start_time": "2022-11-01T17:33:05.817Z"
   },
   {
    "duration": 74,
    "start_time": "2022-11-01T17:33:06.049Z"
   },
   {
    "duration": 37,
    "start_time": "2022-11-01T17:33:06.125Z"
   },
   {
    "duration": 35,
    "start_time": "2022-11-01T17:33:06.176Z"
   },
   {
    "duration": 73,
    "start_time": "2022-11-01T17:33:06.213Z"
   },
   {
    "duration": 10,
    "start_time": "2022-11-01T17:33:06.287Z"
   },
   {
    "duration": 81,
    "start_time": "2022-11-01T17:33:06.299Z"
   },
   {
    "duration": 174,
    "start_time": "2022-11-01T17:34:01.077Z"
   },
   {
    "duration": 108,
    "start_time": "2022-11-01T17:34:01.253Z"
   },
   {
    "duration": 1021,
    "start_time": "2022-11-01T17:34:01.362Z"
   },
   {
    "duration": 218,
    "start_time": "2022-11-01T17:34:02.384Z"
   },
   {
    "duration": 64,
    "start_time": "2022-11-01T17:34:02.603Z"
   },
   {
    "duration": 37,
    "start_time": "2022-11-01T17:34:02.677Z"
   },
   {
    "duration": 40,
    "start_time": "2022-11-01T17:34:02.716Z"
   },
   {
    "duration": 78,
    "start_time": "2022-11-01T17:34:02.758Z"
   },
   {
    "duration": 10,
    "start_time": "2022-11-01T17:34:02.838Z"
   },
   {
    "duration": 70,
    "start_time": "2022-11-01T17:34:02.850Z"
   },
   {
    "duration": 161,
    "start_time": "2022-11-01T17:34:14.617Z"
   },
   {
    "duration": 108,
    "start_time": "2022-11-01T17:34:14.780Z"
   },
   {
    "duration": 731,
    "start_time": "2022-11-01T17:34:14.890Z"
   },
   {
    "duration": 232,
    "start_time": "2022-11-01T17:34:15.623Z"
   },
   {
    "duration": 78,
    "start_time": "2022-11-01T17:34:15.857Z"
   },
   {
    "duration": 49,
    "start_time": "2022-11-01T17:34:15.937Z"
   },
   {
    "duration": 30,
    "start_time": "2022-11-01T17:34:15.988Z"
   },
   {
    "duration": 69,
    "start_time": "2022-11-01T17:34:16.020Z"
   },
   {
    "duration": 10,
    "start_time": "2022-11-01T17:34:16.090Z"
   },
   {
    "duration": 80,
    "start_time": "2022-11-01T17:34:16.102Z"
   },
   {
    "duration": 163,
    "start_time": "2022-11-01T17:34:27.122Z"
   },
   {
    "duration": 108,
    "start_time": "2022-11-01T17:34:27.287Z"
   },
   {
    "duration": 936,
    "start_time": "2022-11-01T17:34:27.397Z"
   },
   {
    "duration": 217,
    "start_time": "2022-11-01T17:34:28.335Z"
   },
   {
    "duration": 71,
    "start_time": "2022-11-01T17:34:28.554Z"
   },
   {
    "duration": 35,
    "start_time": "2022-11-01T17:34:28.627Z"
   },
   {
    "duration": 44,
    "start_time": "2022-11-01T17:34:28.664Z"
   },
   {
    "duration": 72,
    "start_time": "2022-11-01T17:34:28.710Z"
   },
   {
    "duration": 11,
    "start_time": "2022-11-01T17:34:28.783Z"
   },
   {
    "duration": 82,
    "start_time": "2022-11-01T17:34:28.796Z"
   },
   {
    "duration": 168,
    "start_time": "2022-11-01T17:41:01.987Z"
   },
   {
    "duration": 108,
    "start_time": "2022-11-01T17:41:02.157Z"
   },
   {
    "duration": 896,
    "start_time": "2022-11-01T17:41:02.267Z"
   },
   {
    "duration": 220,
    "start_time": "2022-11-01T17:41:03.165Z"
   },
   {
    "duration": 58,
    "start_time": "2022-11-01T17:41:03.387Z"
   },
   {
    "duration": 59,
    "start_time": "2022-11-01T17:41:03.447Z"
   },
   {
    "duration": 31,
    "start_time": "2022-11-01T17:41:03.508Z"
   },
   {
    "duration": 76,
    "start_time": "2022-11-01T17:41:03.540Z"
   },
   {
    "duration": 11,
    "start_time": "2022-11-01T17:41:03.618Z"
   },
   {
    "duration": 1238,
    "start_time": "2022-11-01T17:41:03.632Z"
   },
   {
    "duration": 159,
    "start_time": "2022-11-01T17:41:13.253Z"
   },
   {
    "duration": 101,
    "start_time": "2022-11-01T17:41:13.414Z"
   },
   {
    "duration": 855,
    "start_time": "2022-11-01T17:41:13.517Z"
   },
   {
    "duration": 216,
    "start_time": "2022-11-01T17:41:14.376Z"
   },
   {
    "duration": 61,
    "start_time": "2022-11-01T17:41:14.594Z"
   },
   {
    "duration": 48,
    "start_time": "2022-11-01T17:41:14.656Z"
   },
   {
    "duration": 29,
    "start_time": "2022-11-01T17:41:14.705Z"
   },
   {
    "duration": 72,
    "start_time": "2022-11-01T17:41:14.735Z"
   },
   {
    "duration": 10,
    "start_time": "2022-11-01T17:41:14.808Z"
   },
   {
    "duration": 82,
    "start_time": "2022-11-01T17:41:14.821Z"
   },
   {
    "duration": 165,
    "start_time": "2022-11-01T17:41:25.019Z"
   },
   {
    "duration": 115,
    "start_time": "2022-11-01T17:41:25.186Z"
   },
   {
    "duration": 876,
    "start_time": "2022-11-01T17:41:25.303Z"
   },
   {
    "duration": 225,
    "start_time": "2022-11-01T17:41:26.181Z"
   },
   {
    "duration": 72,
    "start_time": "2022-11-01T17:41:26.408Z"
   },
   {
    "duration": 41,
    "start_time": "2022-11-01T17:41:26.481Z"
   },
   {
    "duration": 33,
    "start_time": "2022-11-01T17:41:26.524Z"
   },
   {
    "duration": 72,
    "start_time": "2022-11-01T17:41:26.558Z"
   },
   {
    "duration": 10,
    "start_time": "2022-11-01T17:41:26.631Z"
   },
   {
    "duration": 83,
    "start_time": "2022-11-01T17:41:26.642Z"
   },
   {
    "duration": 177,
    "start_time": "2022-11-01T17:41:37.900Z"
   },
   {
    "duration": 113,
    "start_time": "2022-11-01T17:41:38.079Z"
   },
   {
    "duration": 893,
    "start_time": "2022-11-01T17:41:38.194Z"
   },
   {
    "duration": 220,
    "start_time": "2022-11-01T17:41:39.090Z"
   },
   {
    "duration": 69,
    "start_time": "2022-11-01T17:41:39.311Z"
   },
   {
    "duration": 47,
    "start_time": "2022-11-01T17:41:39.381Z"
   },
   {
    "duration": 29,
    "start_time": "2022-11-01T17:41:39.429Z"
   },
   {
    "duration": 74,
    "start_time": "2022-11-01T17:41:39.460Z"
   },
   {
    "duration": 10,
    "start_time": "2022-11-01T17:41:39.535Z"
   },
   {
    "duration": 89,
    "start_time": "2022-11-01T17:41:39.547Z"
   },
   {
    "duration": 167,
    "start_time": "2022-11-01T17:46:23.966Z"
   },
   {
    "duration": 108,
    "start_time": "2022-11-01T17:46:24.136Z"
   },
   {
    "duration": 756,
    "start_time": "2022-11-01T17:46:24.247Z"
   },
   {
    "duration": 231,
    "start_time": "2022-11-01T17:46:25.006Z"
   },
   {
    "duration": 78,
    "start_time": "2022-11-01T17:46:25.239Z"
   },
   {
    "duration": 38,
    "start_time": "2022-11-01T17:46:25.320Z"
   },
   {
    "duration": 41,
    "start_time": "2022-11-01T17:46:25.359Z"
   },
   {
    "duration": 61,
    "start_time": "2022-11-01T17:46:25.401Z"
   },
   {
    "duration": 21,
    "start_time": "2022-11-01T17:46:25.463Z"
   },
   {
    "duration": 75,
    "start_time": "2022-11-01T17:46:25.486Z"
   },
   {
    "duration": 172,
    "start_time": "2022-11-01T17:53:52.536Z"
   },
   {
    "duration": 134,
    "start_time": "2022-11-01T17:53:52.710Z"
   },
   {
    "duration": 946,
    "start_time": "2022-11-01T17:53:52.847Z"
   },
   {
    "duration": 243,
    "start_time": "2022-11-01T17:53:53.795Z"
   },
   {
    "duration": 61,
    "start_time": "2022-11-01T17:53:54.040Z"
   },
   {
    "duration": 36,
    "start_time": "2022-11-01T17:53:54.103Z"
   },
   {
    "duration": 48,
    "start_time": "2022-11-01T17:53:54.141Z"
   },
   {
    "duration": 58,
    "start_time": "2022-11-01T17:53:54.191Z"
   },
   {
    "duration": 29,
    "start_time": "2022-11-01T17:53:54.251Z"
   },
   {
    "duration": 72,
    "start_time": "2022-11-01T17:53:54.281Z"
   },
   {
    "duration": 47,
    "start_time": "2022-11-01T17:53:54.355Z"
   },
   {
    "duration": 2098,
    "start_time": "2022-11-02T12:07:22.126Z"
   },
   {
    "duration": 121,
    "start_time": "2022-11-02T12:07:24.226Z"
   },
   {
    "duration": 752,
    "start_time": "2022-11-02T12:07:24.348Z"
   },
   {
    "duration": 333,
    "start_time": "2022-11-02T12:07:25.102Z"
   },
   {
    "duration": 68,
    "start_time": "2022-11-02T12:07:25.437Z"
   },
   {
    "duration": 49,
    "start_time": "2022-11-02T12:07:25.507Z"
   },
   {
    "duration": 36,
    "start_time": "2022-11-02T12:07:25.558Z"
   },
   {
    "duration": 80,
    "start_time": "2022-11-02T12:07:25.595Z"
   },
   {
    "duration": 13,
    "start_time": "2022-11-02T12:07:25.677Z"
   },
   {
    "duration": 102,
    "start_time": "2022-11-02T12:07:25.693Z"
   },
   {
    "duration": 44,
    "start_time": "2022-11-02T12:07:25.797Z"
   },
   {
    "duration": 115,
    "start_time": "2022-11-02T12:07:25.843Z"
   },
   {
    "duration": 185,
    "start_time": "2022-11-02T12:12:38.082Z"
   },
   {
    "duration": 110,
    "start_time": "2022-11-02T12:12:38.269Z"
   },
   {
    "duration": 900,
    "start_time": "2022-11-02T12:12:38.380Z"
   },
   {
    "duration": 243,
    "start_time": "2022-11-02T12:12:39.282Z"
   },
   {
    "duration": 62,
    "start_time": "2022-11-02T12:12:39.527Z"
   },
   {
    "duration": 55,
    "start_time": "2022-11-02T12:12:39.590Z"
   },
   {
    "duration": 36,
    "start_time": "2022-11-02T12:12:39.647Z"
   },
   {
    "duration": 84,
    "start_time": "2022-11-02T12:12:39.685Z"
   },
   {
    "duration": 12,
    "start_time": "2022-11-02T12:12:39.771Z"
   },
   {
    "duration": 102,
    "start_time": "2022-11-02T12:12:39.786Z"
   },
   {
    "duration": 42,
    "start_time": "2022-11-02T12:12:39.890Z"
   },
   {
    "duration": 63,
    "start_time": "2022-11-02T12:12:39.933Z"
   },
   {
    "duration": 1005,
    "start_time": "2022-11-02T12:12:39.998Z"
   },
   {
    "duration": 0,
    "start_time": "2022-11-02T12:12:41.005Z"
   },
   {
    "duration": 176,
    "start_time": "2022-11-02T12:13:40.545Z"
   },
   {
    "duration": 125,
    "start_time": "2022-11-02T12:13:40.723Z"
   },
   {
    "duration": 1005,
    "start_time": "2022-11-02T12:13:40.849Z"
   },
   {
    "duration": 268,
    "start_time": "2022-11-02T12:13:41.856Z"
   },
   {
    "duration": 67,
    "start_time": "2022-11-02T12:13:42.125Z"
   },
   {
    "duration": 56,
    "start_time": "2022-11-02T12:13:42.193Z"
   },
   {
    "duration": 34,
    "start_time": "2022-11-02T12:13:42.251Z"
   },
   {
    "duration": 86,
    "start_time": "2022-11-02T12:13:42.287Z"
   },
   {
    "duration": 12,
    "start_time": "2022-11-02T12:13:42.375Z"
   },
   {
    "duration": 100,
    "start_time": "2022-11-02T12:13:42.390Z"
   },
   {
    "duration": 48,
    "start_time": "2022-11-02T12:13:42.491Z"
   },
   {
    "duration": 66,
    "start_time": "2022-11-02T12:13:42.540Z"
   },
   {
    "duration": 18,
    "start_time": "2022-11-02T12:13:42.607Z"
   },
   {
    "duration": 29,
    "start_time": "2022-11-02T12:13:42.627Z"
   },
   {
    "duration": 171,
    "start_time": "2022-11-02T12:26:37.263Z"
   },
   {
    "duration": 110,
    "start_time": "2022-11-02T12:26:37.436Z"
   },
   {
    "duration": 780,
    "start_time": "2022-11-02T12:26:37.548Z"
   },
   {
    "duration": 252,
    "start_time": "2022-11-02T12:26:38.330Z"
   },
   {
    "duration": 74,
    "start_time": "2022-11-02T12:26:38.585Z"
   },
   {
    "duration": 42,
    "start_time": "2022-11-02T12:26:38.660Z"
   },
   {
    "duration": 49,
    "start_time": "2022-11-02T12:26:38.704Z"
   },
   {
    "duration": 85,
    "start_time": "2022-11-02T12:26:38.755Z"
   },
   {
    "duration": 11,
    "start_time": "2022-11-02T12:26:38.842Z"
   },
   {
    "duration": 136,
    "start_time": "2022-11-02T12:26:38.855Z"
   },
   {
    "duration": 46,
    "start_time": "2022-11-02T12:26:38.993Z"
   },
   {
    "duration": 105,
    "start_time": "2022-11-02T12:26:39.041Z"
   },
   {
    "duration": 9,
    "start_time": "2022-11-02T12:26:39.148Z"
   },
   {
    "duration": 39,
    "start_time": "2022-11-02T12:26:39.159Z"
   },
   {
    "duration": 46,
    "start_time": "2022-11-02T12:26:39.199Z"
   },
   {
    "duration": 34,
    "start_time": "2022-11-02T12:26:39.246Z"
   },
   {
    "duration": 173,
    "start_time": "2022-11-02T12:29:23.398Z"
   },
   {
    "duration": 113,
    "start_time": "2022-11-02T12:29:23.573Z"
   },
   {
    "duration": 853,
    "start_time": "2022-11-02T12:29:23.687Z"
   },
   {
    "duration": 253,
    "start_time": "2022-11-02T12:29:24.542Z"
   },
   {
    "duration": 70,
    "start_time": "2022-11-02T12:29:24.797Z"
   },
   {
    "duration": 39,
    "start_time": "2022-11-02T12:29:24.869Z"
   },
   {
    "duration": 33,
    "start_time": "2022-11-02T12:29:24.921Z"
   },
   {
    "duration": 74,
    "start_time": "2022-11-02T12:29:24.956Z"
   },
   {
    "duration": 11,
    "start_time": "2022-11-02T12:29:25.032Z"
   },
   {
    "duration": 88,
    "start_time": "2022-11-02T12:29:25.045Z"
   },
   {
    "duration": 32,
    "start_time": "2022-11-02T12:29:25.135Z"
   },
   {
    "duration": 74,
    "start_time": "2022-11-02T12:29:25.169Z"
   },
   {
    "duration": 6,
    "start_time": "2022-11-02T12:29:25.245Z"
   },
   {
    "duration": 17,
    "start_time": "2022-11-02T12:29:25.253Z"
   },
   {
    "duration": 56,
    "start_time": "2022-11-02T12:29:25.272Z"
   },
   {
    "duration": 0,
    "start_time": "2022-11-02T12:29:25.330Z"
   },
   {
    "duration": 167,
    "start_time": "2022-11-02T12:29:40.772Z"
   },
   {
    "duration": 108,
    "start_time": "2022-11-02T12:29:40.942Z"
   },
   {
    "duration": 790,
    "start_time": "2022-11-02T12:29:41.052Z"
   },
   {
    "duration": 320,
    "start_time": "2022-11-02T12:29:41.844Z"
   },
   {
    "duration": 71,
    "start_time": "2022-11-02T12:29:42.166Z"
   },
   {
    "duration": 40,
    "start_time": "2022-11-02T12:29:42.239Z"
   },
   {
    "duration": 47,
    "start_time": "2022-11-02T12:29:42.282Z"
   },
   {
    "duration": 61,
    "start_time": "2022-11-02T12:29:42.331Z"
   },
   {
    "duration": 31,
    "start_time": "2022-11-02T12:29:42.394Z"
   },
   {
    "duration": 76,
    "start_time": "2022-11-02T12:29:42.428Z"
   },
   {
    "duration": 44,
    "start_time": "2022-11-02T12:29:42.505Z"
   },
   {
    "duration": 74,
    "start_time": "2022-11-02T12:29:42.551Z"
   },
   {
    "duration": 7,
    "start_time": "2022-11-02T12:29:42.627Z"
   },
   {
    "duration": 22,
    "start_time": "2022-11-02T12:29:42.636Z"
   },
   {
    "duration": 762,
    "start_time": "2022-11-02T12:29:42.660Z"
   },
   {
    "duration": 0,
    "start_time": "2022-11-02T12:29:43.425Z"
   },
   {
    "duration": 172,
    "start_time": "2022-11-02T12:29:52.668Z"
   },
   {
    "duration": 118,
    "start_time": "2022-11-02T12:29:52.841Z"
   },
   {
    "duration": 793,
    "start_time": "2022-11-02T12:29:52.961Z"
   },
   {
    "duration": 260,
    "start_time": "2022-11-02T12:29:53.756Z"
   },
   {
    "duration": 63,
    "start_time": "2022-11-02T12:29:54.020Z"
   },
   {
    "duration": 48,
    "start_time": "2022-11-02T12:29:54.084Z"
   },
   {
    "duration": 34,
    "start_time": "2022-11-02T12:29:54.134Z"
   },
   {
    "duration": 79,
    "start_time": "2022-11-02T12:29:54.169Z"
   },
   {
    "duration": 10,
    "start_time": "2022-11-02T12:29:54.250Z"
   },
   {
    "duration": 90,
    "start_time": "2022-11-02T12:29:54.263Z"
   },
   {
    "duration": 33,
    "start_time": "2022-11-02T12:29:54.355Z"
   },
   {
    "duration": 80,
    "start_time": "2022-11-02T12:29:54.389Z"
   },
   {
    "duration": 7,
    "start_time": "2022-11-02T12:29:54.471Z"
   },
   {
    "duration": 47,
    "start_time": "2022-11-02T12:29:54.480Z"
   },
   {
    "duration": 47,
    "start_time": "2022-11-02T12:29:54.529Z"
   },
   {
    "duration": 33,
    "start_time": "2022-11-02T12:29:54.578Z"
   },
   {
    "duration": 172,
    "start_time": "2022-11-02T12:30:20.999Z"
   },
   {
    "duration": 117,
    "start_time": "2022-11-02T12:30:21.173Z"
   },
   {
    "duration": 911,
    "start_time": "2022-11-02T12:30:21.292Z"
   },
   {
    "duration": 260,
    "start_time": "2022-11-02T12:30:22.205Z"
   },
   {
    "duration": 75,
    "start_time": "2022-11-02T12:30:22.467Z"
   },
   {
    "duration": 39,
    "start_time": "2022-11-02T12:30:22.544Z"
   },
   {
    "duration": 54,
    "start_time": "2022-11-02T12:30:22.586Z"
   },
   {
    "duration": 80,
    "start_time": "2022-11-02T12:30:22.642Z"
   },
   {
    "duration": 16,
    "start_time": "2022-11-02T12:30:22.724Z"
   },
   {
    "duration": 96,
    "start_time": "2022-11-02T12:30:22.743Z"
   },
   {
    "duration": 34,
    "start_time": "2022-11-02T12:30:22.841Z"
   },
   {
    "duration": 82,
    "start_time": "2022-11-02T12:30:22.876Z"
   },
   {
    "duration": 7,
    "start_time": "2022-11-02T12:30:22.960Z"
   },
   {
    "duration": 24,
    "start_time": "2022-11-02T12:30:22.969Z"
   },
   {
    "duration": 9,
    "start_time": "2022-11-02T12:30:22.994Z"
   },
   {
    "duration": 25,
    "start_time": "2022-11-02T12:30:23.004Z"
   },
   {
    "duration": 172,
    "start_time": "2022-11-02T12:31:52.075Z"
   },
   {
    "duration": 117,
    "start_time": "2022-11-02T12:31:52.249Z"
   },
   {
    "duration": 821,
    "start_time": "2022-11-02T12:31:52.368Z"
   },
   {
    "duration": 329,
    "start_time": "2022-11-02T12:31:53.191Z"
   },
   {
    "duration": 62,
    "start_time": "2022-11-02T12:31:53.522Z"
   },
   {
    "duration": 55,
    "start_time": "2022-11-02T12:31:53.586Z"
   },
   {
    "duration": 31,
    "start_time": "2022-11-02T12:31:53.642Z"
   },
   {
    "duration": 73,
    "start_time": "2022-11-02T12:31:53.674Z"
   },
   {
    "duration": 10,
    "start_time": "2022-11-02T12:31:53.749Z"
   },
   {
    "duration": 95,
    "start_time": "2022-11-02T12:31:53.761Z"
   },
   {
    "duration": 35,
    "start_time": "2022-11-02T12:31:53.858Z"
   },
   {
    "duration": 71,
    "start_time": "2022-11-02T12:31:53.895Z"
   },
   {
    "duration": 7,
    "start_time": "2022-11-02T12:31:53.968Z"
   },
   {
    "duration": 31,
    "start_time": "2022-11-02T12:31:53.977Z"
   },
   {
    "duration": 23,
    "start_time": "2022-11-02T12:31:54.010Z"
   },
   {
    "duration": 30,
    "start_time": "2022-11-02T12:31:54.035Z"
   },
   {
    "duration": 165,
    "start_time": "2022-11-02T12:32:05.286Z"
   },
   {
    "duration": 107,
    "start_time": "2022-11-02T12:32:05.453Z"
   },
   {
    "duration": 798,
    "start_time": "2022-11-02T12:32:05.562Z"
   },
   {
    "duration": 242,
    "start_time": "2022-11-02T12:32:06.362Z"
   },
   {
    "duration": 65,
    "start_time": "2022-11-02T12:32:06.607Z"
   },
   {
    "duration": 54,
    "start_time": "2022-11-02T12:32:06.674Z"
   },
   {
    "duration": 34,
    "start_time": "2022-11-02T12:32:06.730Z"
   },
   {
    "duration": 76,
    "start_time": "2022-11-02T12:32:06.766Z"
   },
   {
    "duration": 11,
    "start_time": "2022-11-02T12:32:06.844Z"
   },
   {
    "duration": 100,
    "start_time": "2022-11-02T12:32:06.857Z"
   },
   {
    "duration": 33,
    "start_time": "2022-11-02T12:32:06.958Z"
   },
   {
    "duration": 72,
    "start_time": "2022-11-02T12:32:06.993Z"
   },
   {
    "duration": 7,
    "start_time": "2022-11-02T12:32:07.067Z"
   },
   {
    "duration": 66,
    "start_time": "2022-11-02T12:32:07.076Z"
   },
   {
    "duration": 36,
    "start_time": "2022-11-02T12:32:07.144Z"
   },
   {
    "duration": 63,
    "start_time": "2022-11-02T12:32:07.182Z"
   },
   {
    "duration": 168,
    "start_time": "2022-11-02T12:32:40.682Z"
   },
   {
    "duration": 119,
    "start_time": "2022-11-02T12:32:40.852Z"
   },
   {
    "duration": 935,
    "start_time": "2022-11-02T12:32:40.973Z"
   },
   {
    "duration": 246,
    "start_time": "2022-11-02T12:32:41.909Z"
   },
   {
    "duration": 69,
    "start_time": "2022-11-02T12:32:42.158Z"
   },
   {
    "duration": 37,
    "start_time": "2022-11-02T12:32:42.228Z"
   },
   {
    "duration": 33,
    "start_time": "2022-11-02T12:32:42.266Z"
   },
   {
    "duration": 81,
    "start_time": "2022-11-02T12:32:42.300Z"
   },
   {
    "duration": 12,
    "start_time": "2022-11-02T12:32:42.383Z"
   },
   {
    "duration": 95,
    "start_time": "2022-11-02T12:32:42.396Z"
   },
   {
    "duration": 46,
    "start_time": "2022-11-02T12:32:42.492Z"
   },
   {
    "duration": 62,
    "start_time": "2022-11-02T12:32:42.540Z"
   },
   {
    "duration": 17,
    "start_time": "2022-11-02T12:32:42.604Z"
   },
   {
    "duration": 55,
    "start_time": "2022-11-02T12:32:42.623Z"
   },
   {
    "duration": 12,
    "start_time": "2022-11-02T12:32:42.680Z"
   },
   {
    "duration": 15,
    "start_time": "2022-11-02T12:32:42.694Z"
   },
   {
    "duration": 178,
    "start_time": "2022-11-02T12:33:19.968Z"
   },
   {
    "duration": 114,
    "start_time": "2022-11-02T12:33:20.148Z"
   },
   {
    "duration": 806,
    "start_time": "2022-11-02T12:33:20.264Z"
   },
   {
    "duration": 248,
    "start_time": "2022-11-02T12:33:21.072Z"
   },
   {
    "duration": 63,
    "start_time": "2022-11-02T12:33:21.322Z"
   },
   {
    "duration": 51,
    "start_time": "2022-11-02T12:33:21.387Z"
   },
   {
    "duration": 36,
    "start_time": "2022-11-02T12:33:21.440Z"
   },
   {
    "duration": 77,
    "start_time": "2022-11-02T12:33:21.479Z"
   },
   {
    "duration": 11,
    "start_time": "2022-11-02T12:33:21.558Z"
   },
   {
    "duration": 114,
    "start_time": "2022-11-02T12:33:21.571Z"
   },
   {
    "duration": 42,
    "start_time": "2022-11-02T12:33:21.686Z"
   },
   {
    "duration": 59,
    "start_time": "2022-11-02T12:33:21.730Z"
   },
   {
    "duration": 7,
    "start_time": "2022-11-02T12:33:21.790Z"
   },
   {
    "duration": 65,
    "start_time": "2022-11-02T12:33:21.799Z"
   },
   {
    "duration": 78,
    "start_time": "2022-11-02T12:33:21.866Z"
   },
   {
    "duration": 61,
    "start_time": "2022-11-02T12:33:21.946Z"
   },
   {
    "duration": 170,
    "start_time": "2022-11-02T12:34:07.326Z"
   },
   {
    "duration": 115,
    "start_time": "2022-11-02T12:34:07.498Z"
   },
   {
    "duration": 951,
    "start_time": "2022-11-02T12:34:07.615Z"
   },
   {
    "duration": 253,
    "start_time": "2022-11-02T12:34:08.568Z"
   },
   {
    "duration": 73,
    "start_time": "2022-11-02T12:34:08.822Z"
   },
   {
    "duration": 62,
    "start_time": "2022-11-02T12:34:08.899Z"
   },
   {
    "duration": 39,
    "start_time": "2022-11-02T12:34:08.964Z"
   },
   {
    "duration": 90,
    "start_time": "2022-11-02T12:34:09.006Z"
   },
   {
    "duration": 30,
    "start_time": "2022-11-02T12:34:09.098Z"
   },
   {
    "duration": 96,
    "start_time": "2022-11-02T12:34:09.131Z"
   },
   {
    "duration": 37,
    "start_time": "2022-11-02T12:34:09.229Z"
   },
   {
    "duration": 78,
    "start_time": "2022-11-02T12:34:09.268Z"
   },
   {
    "duration": 9,
    "start_time": "2022-11-02T12:34:09.348Z"
   },
   {
    "duration": 20,
    "start_time": "2022-11-02T12:34:09.359Z"
   },
   {
    "duration": 35,
    "start_time": "2022-11-02T12:34:09.381Z"
   },
   {
    "duration": 32,
    "start_time": "2022-11-02T12:34:09.418Z"
   },
   {
    "duration": 170,
    "start_time": "2022-11-02T12:34:17.156Z"
   },
   {
    "duration": 124,
    "start_time": "2022-11-02T12:34:17.328Z"
   },
   {
    "duration": 842,
    "start_time": "2022-11-02T12:34:17.454Z"
   },
   {
    "duration": 251,
    "start_time": "2022-11-02T12:34:18.298Z"
   },
   {
    "duration": 73,
    "start_time": "2022-11-02T12:34:18.551Z"
   },
   {
    "duration": 40,
    "start_time": "2022-11-02T12:34:18.626Z"
   },
   {
    "duration": 55,
    "start_time": "2022-11-02T12:34:18.667Z"
   },
   {
    "duration": 62,
    "start_time": "2022-11-02T12:34:18.723Z"
   },
   {
    "duration": 34,
    "start_time": "2022-11-02T12:34:18.787Z"
   },
   {
    "duration": 189,
    "start_time": "2022-11-02T12:34:18.824Z"
   },
   {
    "duration": 45,
    "start_time": "2022-11-02T12:34:19.015Z"
   },
   {
    "duration": 94,
    "start_time": "2022-11-02T12:34:19.062Z"
   },
   {
    "duration": 9,
    "start_time": "2022-11-02T12:34:19.158Z"
   },
   {
    "duration": 25,
    "start_time": "2022-11-02T12:34:19.170Z"
   },
   {
    "duration": 43,
    "start_time": "2022-11-02T12:34:19.197Z"
   },
   {
    "duration": 11,
    "start_time": "2022-11-02T12:34:19.242Z"
   },
   {
    "duration": 176,
    "start_time": "2022-11-02T12:35:13.629Z"
   },
   {
    "duration": 131,
    "start_time": "2022-11-02T12:35:13.807Z"
   },
   {
    "duration": 846,
    "start_time": "2022-11-02T12:35:13.940Z"
   },
   {
    "duration": 252,
    "start_time": "2022-11-02T12:35:14.788Z"
   },
   {
    "duration": 67,
    "start_time": "2022-11-02T12:35:15.042Z"
   },
   {
    "duration": 41,
    "start_time": "2022-11-02T12:35:15.121Z"
   },
   {
    "duration": 37,
    "start_time": "2022-11-02T12:35:15.164Z"
   },
   {
    "duration": 78,
    "start_time": "2022-11-02T12:35:15.203Z"
   },
   {
    "duration": 12,
    "start_time": "2022-11-02T12:35:15.283Z"
   },
   {
    "duration": 93,
    "start_time": "2022-11-02T12:35:15.320Z"
   },
   {
    "duration": 37,
    "start_time": "2022-11-02T12:35:15.422Z"
   },
   {
    "duration": 76,
    "start_time": "2022-11-02T12:35:15.461Z"
   },
   {
    "duration": 6,
    "start_time": "2022-11-02T12:35:15.539Z"
   },
   {
    "duration": 25,
    "start_time": "2022-11-02T12:35:15.547Z"
   },
   {
    "duration": 21,
    "start_time": "2022-11-02T12:35:15.574Z"
   },
   {
    "duration": 16,
    "start_time": "2022-11-02T12:35:15.598Z"
   },
   {
    "duration": 188,
    "start_time": "2022-11-02T12:35:53.689Z"
   },
   {
    "duration": 119,
    "start_time": "2022-11-02T12:35:53.879Z"
   },
   {
    "duration": 997,
    "start_time": "2022-11-02T12:35:53.999Z"
   },
   {
    "duration": 242,
    "start_time": "2022-11-02T12:35:54.998Z"
   },
   {
    "duration": 61,
    "start_time": "2022-11-02T12:35:55.242Z"
   },
   {
    "duration": 50,
    "start_time": "2022-11-02T12:35:55.305Z"
   },
   {
    "duration": 33,
    "start_time": "2022-11-02T12:35:55.356Z"
   },
   {
    "duration": 80,
    "start_time": "2022-11-02T12:35:55.391Z"
   },
   {
    "duration": 10,
    "start_time": "2022-11-02T12:35:55.473Z"
   },
   {
    "duration": 93,
    "start_time": "2022-11-02T12:35:55.486Z"
   },
   {
    "duration": 45,
    "start_time": "2022-11-02T12:35:55.580Z"
   },
   {
    "duration": 59,
    "start_time": "2022-11-02T12:35:55.627Z"
   },
   {
    "duration": 7,
    "start_time": "2022-11-02T12:35:55.688Z"
   },
   {
    "duration": 34,
    "start_time": "2022-11-02T12:35:55.696Z"
   },
   {
    "duration": 5,
    "start_time": "2022-11-02T12:35:55.731Z"
   },
   {
    "duration": 16,
    "start_time": "2022-11-02T12:35:55.738Z"
   },
   {
    "duration": 186,
    "start_time": "2022-11-02T12:36:37.967Z"
   },
   {
    "duration": 124,
    "start_time": "2022-11-02T12:36:38.155Z"
   },
   {
    "duration": 961,
    "start_time": "2022-11-02T12:36:38.281Z"
   },
   {
    "duration": 267,
    "start_time": "2022-11-02T12:36:39.244Z"
   },
   {
    "duration": 69,
    "start_time": "2022-11-02T12:36:39.512Z"
   },
   {
    "duration": 55,
    "start_time": "2022-11-02T12:36:39.584Z"
   },
   {
    "duration": 45,
    "start_time": "2022-11-02T12:36:39.642Z"
   },
   {
    "duration": 73,
    "start_time": "2022-11-02T12:36:39.689Z"
   },
   {
    "duration": 12,
    "start_time": "2022-11-02T12:36:39.763Z"
   },
   {
    "duration": 113,
    "start_time": "2022-11-02T12:36:39.778Z"
   },
   {
    "duration": 46,
    "start_time": "2022-11-02T12:36:39.892Z"
   },
   {
    "duration": 64,
    "start_time": "2022-11-02T12:36:39.940Z"
   },
   {
    "duration": 21,
    "start_time": "2022-11-02T12:36:40.006Z"
   },
   {
    "duration": 48,
    "start_time": "2022-11-02T12:36:40.030Z"
   },
   {
    "duration": 34,
    "start_time": "2022-11-02T12:36:40.080Z"
   },
   {
    "duration": 54,
    "start_time": "2022-11-02T12:36:40.116Z"
   },
   {
    "duration": 179,
    "start_time": "2022-11-02T12:39:26.186Z"
   },
   {
    "duration": 128,
    "start_time": "2022-11-02T12:39:26.367Z"
   },
   {
    "duration": 935,
    "start_time": "2022-11-02T12:39:26.497Z"
   },
   {
    "duration": 270,
    "start_time": "2022-11-02T12:39:27.435Z"
   },
   {
    "duration": 68,
    "start_time": "2022-11-02T12:39:27.707Z"
   },
   {
    "duration": 47,
    "start_time": "2022-11-02T12:39:27.777Z"
   },
   {
    "duration": 38,
    "start_time": "2022-11-02T12:39:27.825Z"
   },
   {
    "duration": 81,
    "start_time": "2022-11-02T12:39:27.864Z"
   },
   {
    "duration": 11,
    "start_time": "2022-11-02T12:39:27.947Z"
   },
   {
    "duration": 93,
    "start_time": "2022-11-02T12:39:27.961Z"
   },
   {
    "duration": 34,
    "start_time": "2022-11-02T12:39:28.056Z"
   },
   {
    "duration": 78,
    "start_time": "2022-11-02T12:39:28.093Z"
   },
   {
    "duration": 8,
    "start_time": "2022-11-02T12:39:28.173Z"
   },
   {
    "duration": 20,
    "start_time": "2022-11-02T12:39:28.183Z"
   },
   {
    "duration": 5,
    "start_time": "2022-11-02T12:39:28.220Z"
   },
   {
    "duration": 21,
    "start_time": "2022-11-02T12:39:28.227Z"
   },
   {
    "duration": 11,
    "start_time": "2022-11-02T12:39:28.250Z"
   },
   {
    "duration": 167,
    "start_time": "2022-11-02T13:28:26.480Z"
   },
   {
    "duration": 111,
    "start_time": "2022-11-02T13:28:26.648Z"
   },
   {
    "duration": 827,
    "start_time": "2022-11-02T13:28:26.761Z"
   },
   {
    "duration": 238,
    "start_time": "2022-11-02T13:28:27.589Z"
   },
   {
    "duration": 64,
    "start_time": "2022-11-02T13:28:27.829Z"
   },
   {
    "duration": 60,
    "start_time": "2022-11-02T13:28:27.895Z"
   },
   {
    "duration": 35,
    "start_time": "2022-11-02T13:28:27.957Z"
   },
   {
    "duration": 74,
    "start_time": "2022-11-02T13:28:27.994Z"
   },
   {
    "duration": 11,
    "start_time": "2022-11-02T13:28:28.070Z"
   },
   {
    "duration": 98,
    "start_time": "2022-11-02T13:28:28.083Z"
   },
   {
    "duration": 40,
    "start_time": "2022-11-02T13:28:28.182Z"
   },
   {
    "duration": 61,
    "start_time": "2022-11-02T13:28:28.224Z"
   },
   {
    "duration": 7,
    "start_time": "2022-11-02T13:28:28.286Z"
   },
   {
    "duration": 33,
    "start_time": "2022-11-02T13:28:28.295Z"
   },
   {
    "duration": 37,
    "start_time": "2022-11-02T13:28:28.331Z"
   },
   {
    "duration": 38,
    "start_time": "2022-11-02T13:28:28.369Z"
   },
   {
    "duration": 18,
    "start_time": "2022-11-02T13:28:28.409Z"
   },
   {
    "duration": 167,
    "start_time": "2022-11-02T13:29:26.087Z"
   },
   {
    "duration": 120,
    "start_time": "2022-11-02T13:29:26.256Z"
   },
   {
    "duration": 926,
    "start_time": "2022-11-02T13:29:26.377Z"
   },
   {
    "duration": 254,
    "start_time": "2022-11-02T13:29:27.306Z"
   },
   {
    "duration": 69,
    "start_time": "2022-11-02T13:29:27.562Z"
   },
   {
    "duration": 36,
    "start_time": "2022-11-02T13:29:27.633Z"
   },
   {
    "duration": 50,
    "start_time": "2022-11-02T13:29:27.671Z"
   },
   {
    "duration": 61,
    "start_time": "2022-11-02T13:29:27.722Z"
   },
   {
    "duration": 13,
    "start_time": "2022-11-02T13:29:27.785Z"
   },
   {
    "duration": 77,
    "start_time": "2022-11-02T13:29:27.820Z"
   },
   {
    "duration": 47,
    "start_time": "2022-11-02T13:29:27.899Z"
   },
   {
    "duration": 87,
    "start_time": "2022-11-02T13:29:27.948Z"
   },
   {
    "duration": 8,
    "start_time": "2022-11-02T13:29:28.037Z"
   },
   {
    "duration": 18,
    "start_time": "2022-11-02T13:29:28.047Z"
   },
   {
    "duration": 733,
    "start_time": "2022-11-02T13:29:28.067Z"
   },
   {
    "duration": 0,
    "start_time": "2022-11-02T13:29:28.802Z"
   },
   {
    "duration": 0,
    "start_time": "2022-11-02T13:29:28.803Z"
   },
   {
    "duration": 172,
    "start_time": "2022-11-02T13:43:01.315Z"
   },
   {
    "duration": 118,
    "start_time": "2022-11-02T13:43:01.489Z"
   },
   {
    "duration": 849,
    "start_time": "2022-11-02T13:43:01.609Z"
   },
   {
    "duration": 256,
    "start_time": "2022-11-02T13:43:02.460Z"
   },
   {
    "duration": 66,
    "start_time": "2022-11-02T13:43:02.720Z"
   },
   {
    "duration": 56,
    "start_time": "2022-11-02T13:43:02.787Z"
   },
   {
    "duration": 34,
    "start_time": "2022-11-02T13:43:02.844Z"
   },
   {
    "duration": 81,
    "start_time": "2022-11-02T13:43:02.880Z"
   },
   {
    "duration": 12,
    "start_time": "2022-11-02T13:43:02.963Z"
   },
   {
    "duration": 99,
    "start_time": "2022-11-02T13:43:02.979Z"
   },
   {
    "duration": 43,
    "start_time": "2022-11-02T13:43:03.079Z"
   },
   {
    "duration": 61,
    "start_time": "2022-11-02T13:43:03.124Z"
   },
   {
    "duration": 7,
    "start_time": "2022-11-02T13:43:03.186Z"
   },
   {
    "duration": 39,
    "start_time": "2022-11-02T13:43:03.195Z"
   },
   {
    "duration": 1202,
    "start_time": "2022-11-02T13:43:03.236Z"
   },
   {
    "duration": 0,
    "start_time": "2022-11-02T13:43:04.441Z"
   },
   {
    "duration": 0,
    "start_time": "2022-11-02T13:43:04.442Z"
   },
   {
    "duration": 185,
    "start_time": "2022-11-02T13:43:20.439Z"
   },
   {
    "duration": 126,
    "start_time": "2022-11-02T13:43:20.626Z"
   },
   {
    "duration": 846,
    "start_time": "2022-11-02T13:43:20.754Z"
   },
   {
    "duration": 265,
    "start_time": "2022-11-02T13:43:21.603Z"
   },
   {
    "duration": 74,
    "start_time": "2022-11-02T13:43:21.870Z"
   },
   {
    "duration": 37,
    "start_time": "2022-11-02T13:43:21.946Z"
   },
   {
    "duration": 52,
    "start_time": "2022-11-02T13:43:21.985Z"
   },
   {
    "duration": 62,
    "start_time": "2022-11-02T13:43:22.039Z"
   },
   {
    "duration": 27,
    "start_time": "2022-11-02T13:43:22.103Z"
   },
   {
    "duration": 95,
    "start_time": "2022-11-02T13:43:22.132Z"
   },
   {
    "duration": 34,
    "start_time": "2022-11-02T13:43:22.229Z"
   },
   {
    "duration": 92,
    "start_time": "2022-11-02T13:43:22.265Z"
   },
   {
    "duration": 10,
    "start_time": "2022-11-02T13:43:22.359Z"
   },
   {
    "duration": 19,
    "start_time": "2022-11-02T13:43:22.371Z"
   },
   {
    "duration": 29,
    "start_time": "2022-11-02T13:43:22.393Z"
   },
   {
    "duration": 11,
    "start_time": "2022-11-02T13:43:22.424Z"
   },
   {
    "duration": 15,
    "start_time": "2022-11-02T13:43:22.437Z"
   },
   {
    "duration": 170,
    "start_time": "2022-11-02T13:43:51.392Z"
   },
   {
    "duration": 119,
    "start_time": "2022-11-02T13:43:51.564Z"
   },
   {
    "duration": 954,
    "start_time": "2022-11-02T13:43:51.685Z"
   },
   {
    "duration": 273,
    "start_time": "2022-11-02T13:43:52.642Z"
   },
   {
    "duration": 64,
    "start_time": "2022-11-02T13:43:52.917Z"
   },
   {
    "duration": 58,
    "start_time": "2022-11-02T13:43:52.983Z"
   },
   {
    "duration": 33,
    "start_time": "2022-11-02T13:43:53.043Z"
   },
   {
    "duration": 83,
    "start_time": "2022-11-02T13:43:53.078Z"
   },
   {
    "duration": 13,
    "start_time": "2022-11-02T13:43:53.163Z"
   },
   {
    "duration": 96,
    "start_time": "2022-11-02T13:43:53.179Z"
   },
   {
    "duration": 47,
    "start_time": "2022-11-02T13:43:53.277Z"
   },
   {
    "duration": 63,
    "start_time": "2022-11-02T13:43:53.326Z"
   },
   {
    "duration": 7,
    "start_time": "2022-11-02T13:43:53.391Z"
   },
   {
    "duration": 15,
    "start_time": "2022-11-02T13:43:53.421Z"
   },
   {
    "duration": 23,
    "start_time": "2022-11-02T13:43:53.438Z"
   },
   {
    "duration": 22,
    "start_time": "2022-11-02T13:43:53.463Z"
   },
   {
    "duration": 19,
    "start_time": "2022-11-02T13:43:53.487Z"
   },
   {
    "duration": 169,
    "start_time": "2022-11-02T13:44:28.220Z"
   },
   {
    "duration": 120,
    "start_time": "2022-11-02T13:44:28.391Z"
   },
   {
    "duration": 908,
    "start_time": "2022-11-02T13:44:28.513Z"
   },
   {
    "duration": 261,
    "start_time": "2022-11-02T13:44:29.423Z"
   },
   {
    "duration": 77,
    "start_time": "2022-11-02T13:44:29.687Z"
   },
   {
    "duration": 55,
    "start_time": "2022-11-02T13:44:29.767Z"
   },
   {
    "duration": 43,
    "start_time": "2022-11-02T13:44:29.824Z"
   },
   {
    "duration": 79,
    "start_time": "2022-11-02T13:44:29.870Z"
   },
   {
    "duration": 11,
    "start_time": "2022-11-02T13:44:29.951Z"
   },
   {
    "duration": 98,
    "start_time": "2022-11-02T13:44:29.964Z"
   },
   {
    "duration": 35,
    "start_time": "2022-11-02T13:44:30.064Z"
   },
   {
    "duration": 82,
    "start_time": "2022-11-02T13:44:30.101Z"
   },
   {
    "duration": 8,
    "start_time": "2022-11-02T13:44:30.185Z"
   },
   {
    "duration": 80,
    "start_time": "2022-11-02T13:44:30.194Z"
   },
   {
    "duration": 66,
    "start_time": "2022-11-02T13:44:30.276Z"
   },
   {
    "duration": 129,
    "start_time": "2022-11-02T13:44:30.344Z"
   },
   {
    "duration": 72,
    "start_time": "2022-11-02T13:44:30.475Z"
   },
   {
    "duration": 49,
    "start_time": "2022-11-02T14:04:55.349Z"
   },
   {
    "duration": 1838,
    "start_time": "2022-11-03T15:11:00.461Z"
   },
   {
    "duration": 163,
    "start_time": "2022-11-03T15:11:02.302Z"
   },
   {
    "duration": 889,
    "start_time": "2022-11-03T15:11:02.467Z"
   },
   {
    "duration": 349,
    "start_time": "2022-11-03T15:11:03.358Z"
   },
   {
    "duration": 75,
    "start_time": "2022-11-03T15:11:03.709Z"
   },
   {
    "duration": 56,
    "start_time": "2022-11-03T15:11:03.786Z"
   },
   {
    "duration": 72,
    "start_time": "2022-11-03T15:11:03.844Z"
   },
   {
    "duration": 86,
    "start_time": "2022-11-03T15:11:03.918Z"
   },
   {
    "duration": 13,
    "start_time": "2022-11-03T15:11:04.006Z"
   },
   {
    "duration": 106,
    "start_time": "2022-11-03T15:11:04.022Z"
   },
   {
    "duration": 41,
    "start_time": "2022-11-03T15:11:04.130Z"
   },
   {
    "duration": 66,
    "start_time": "2022-11-03T15:11:04.173Z"
   },
   {
    "duration": 18,
    "start_time": "2022-11-03T15:11:04.241Z"
   },
   {
    "duration": 22,
    "start_time": "2022-11-03T15:11:04.262Z"
   },
   {
    "duration": 46,
    "start_time": "2022-11-03T15:11:04.286Z"
   },
   {
    "duration": 44,
    "start_time": "2022-11-03T15:11:04.334Z"
   },
   {
    "duration": 80,
    "start_time": "2022-11-03T15:11:04.379Z"
   },
   {
    "duration": 27,
    "start_time": "2022-11-03T15:11:04.461Z"
   },
   {
    "duration": 17,
    "start_time": "2022-11-03T15:11:42.051Z"
   },
   {
    "duration": 1359,
    "start_time": "2022-11-03T15:16:49.641Z"
   },
   {
    "duration": 120,
    "start_time": "2022-11-03T15:16:51.003Z"
   },
   {
    "duration": 851,
    "start_time": "2022-11-03T15:16:51.125Z"
   },
   {
    "duration": 340,
    "start_time": "2022-11-03T15:16:51.978Z"
   },
   {
    "duration": 81,
    "start_time": "2022-11-03T15:16:52.321Z"
   },
   {
    "duration": 39,
    "start_time": "2022-11-03T15:16:52.404Z"
   },
   {
    "duration": 35,
    "start_time": "2022-11-03T15:16:52.455Z"
   },
   {
    "duration": 81,
    "start_time": "2022-11-03T15:16:52.492Z"
   },
   {
    "duration": 13,
    "start_time": "2022-11-03T15:16:52.575Z"
   },
   {
    "duration": 100,
    "start_time": "2022-11-03T15:16:52.590Z"
   },
   {
    "duration": 36,
    "start_time": "2022-11-03T15:16:52.692Z"
   },
   {
    "duration": 83,
    "start_time": "2022-11-03T15:16:52.730Z"
   },
   {
    "duration": 7,
    "start_time": "2022-11-03T15:16:52.815Z"
   },
   {
    "duration": 8,
    "start_time": "2022-11-03T15:16:52.825Z"
   },
   {
    "duration": 24,
    "start_time": "2022-11-03T15:16:52.835Z"
   },
   {
    "duration": 18,
    "start_time": "2022-11-03T15:16:52.860Z"
   },
   {
    "duration": 9,
    "start_time": "2022-11-03T15:16:52.880Z"
   },
   {
    "duration": 15,
    "start_time": "2022-11-03T15:16:52.892Z"
   },
   {
    "duration": 19,
    "start_time": "2022-11-03T15:16:52.909Z"
   },
   {
    "duration": 13,
    "start_time": "2022-11-03T15:24:17.631Z"
   },
   {
    "duration": 10,
    "start_time": "2022-11-03T15:24:21.543Z"
   },
   {
    "duration": 1298,
    "start_time": "2022-11-03T15:24:28.578Z"
   },
   {
    "duration": 8,
    "start_time": "2022-11-03T15:24:33.785Z"
   },
   {
    "duration": 8,
    "start_time": "2022-11-03T15:24:47.173Z"
   },
   {
    "duration": 7,
    "start_time": "2022-11-03T15:24:53.400Z"
   },
   {
    "duration": 6,
    "start_time": "2022-11-03T15:24:57.906Z"
   },
   {
    "duration": 7,
    "start_time": "2022-11-03T15:25:16.295Z"
   },
   {
    "duration": 7,
    "start_time": "2022-11-03T15:25:21.274Z"
   },
   {
    "duration": 8,
    "start_time": "2022-11-03T15:25:24.743Z"
   },
   {
    "duration": 7,
    "start_time": "2022-11-03T15:25:37.682Z"
   },
   {
    "duration": 6,
    "start_time": "2022-11-03T15:25:41.984Z"
   },
   {
    "duration": 10,
    "start_time": "2022-11-03T15:25:53.001Z"
   },
   {
    "duration": 709,
    "start_time": "2022-11-03T15:25:58.708Z"
   },
   {
    "duration": 8,
    "start_time": "2022-11-03T15:26:03.439Z"
   },
   {
    "duration": 5,
    "start_time": "2022-11-03T15:28:12.136Z"
   },
   {
    "duration": 5,
    "start_time": "2022-11-03T15:28:17.720Z"
   },
   {
    "duration": 1219,
    "start_time": "2022-11-03T16:54:49.724Z"
   },
   {
    "duration": 1068,
    "start_time": "2022-11-03T16:54:50.945Z"
   },
   {
    "duration": 116,
    "start_time": "2022-11-03T16:54:52.015Z"
   },
   {
    "duration": 744,
    "start_time": "2022-11-03T16:54:52.133Z"
   },
   {
    "duration": 4,
    "start_time": "2022-11-03T16:56:56.036Z"
   },
   {
    "duration": 185,
    "start_time": "2022-11-03T16:56:56.042Z"
   },
   {
    "duration": 117,
    "start_time": "2022-11-03T16:56:56.229Z"
   },
   {
    "duration": 832,
    "start_time": "2022-11-03T16:56:56.347Z"
   },
   {
    "duration": 99,
    "start_time": "2022-11-03T16:56:57.181Z"
   },
   {
    "duration": 3,
    "start_time": "2022-11-03T16:57:51.084Z"
   },
   {
    "duration": 169,
    "start_time": "2022-11-03T16:57:51.091Z"
   },
   {
    "duration": 111,
    "start_time": "2022-11-03T16:57:51.262Z"
   },
   {
    "duration": 689,
    "start_time": "2022-11-03T16:57:51.374Z"
   },
   {
    "duration": 36,
    "start_time": "2022-11-03T16:57:52.065Z"
   },
   {
    "duration": 3,
    "start_time": "2022-11-03T16:58:18.377Z"
   },
   {
    "duration": 179,
    "start_time": "2022-11-03T16:58:18.382Z"
   },
   {
    "duration": 115,
    "start_time": "2022-11-03T16:58:18.563Z"
   },
   {
    "duration": 775,
    "start_time": "2022-11-03T16:58:18.680Z"
   },
   {
    "duration": 35,
    "start_time": "2022-11-03T16:58:19.457Z"
   },
   {
    "duration": 3,
    "start_time": "2022-11-03T16:58:49.484Z"
   },
   {
    "duration": 168,
    "start_time": "2022-11-03T16:58:49.489Z"
   },
   {
    "duration": 120,
    "start_time": "2022-11-03T16:58:49.659Z"
   },
   {
    "duration": 761,
    "start_time": "2022-11-03T16:58:49.781Z"
   },
   {
    "duration": 14,
    "start_time": "2022-11-03T16:58:50.545Z"
   },
   {
    "duration": 4,
    "start_time": "2022-11-03T16:59:29.572Z"
   },
   {
    "duration": 188,
    "start_time": "2022-11-03T16:59:29.578Z"
   },
   {
    "duration": 108,
    "start_time": "2022-11-03T16:59:29.768Z"
   },
   {
    "duration": 725,
    "start_time": "2022-11-03T16:59:29.878Z"
   },
   {
    "duration": 13,
    "start_time": "2022-11-03T16:59:30.605Z"
   },
   {
    "duration": 3,
    "start_time": "2022-11-03T17:01:06.522Z"
   },
   {
    "duration": 196,
    "start_time": "2022-11-03T17:01:06.527Z"
   },
   {
    "duration": 125,
    "start_time": "2022-11-03T17:01:06.725Z"
   },
   {
    "duration": 762,
    "start_time": "2022-11-03T17:01:06.852Z"
   },
   {
    "duration": 16,
    "start_time": "2022-11-03T17:01:07.616Z"
   },
   {
    "duration": 4,
    "start_time": "2022-11-03T17:01:33.528Z"
   },
   {
    "duration": 180,
    "start_time": "2022-11-03T17:01:33.535Z"
   },
   {
    "duration": 130,
    "start_time": "2022-11-03T17:01:33.718Z"
   },
   {
    "duration": 841,
    "start_time": "2022-11-03T17:01:33.850Z"
   },
   {
    "duration": 317,
    "start_time": "2022-11-03T17:01:34.693Z"
   },
   {
    "duration": 4,
    "start_time": "2022-11-03T17:01:35.012Z"
   },
   {
    "duration": 4,
    "start_time": "2022-11-03T17:03:19.570Z"
   },
   {
    "duration": 195,
    "start_time": "2022-11-03T17:03:19.575Z"
   },
   {
    "duration": 103,
    "start_time": "2022-11-03T17:03:19.771Z"
   },
   {
    "duration": 728,
    "start_time": "2022-11-03T17:03:19.876Z"
   },
   {
    "duration": 265,
    "start_time": "2022-11-03T17:03:20.606Z"
   },
   {
    "duration": 23,
    "start_time": "2022-11-03T17:03:20.873Z"
   },
   {
    "duration": 4,
    "start_time": "2022-11-03T17:03:45.873Z"
   },
   {
    "duration": 181,
    "start_time": "2022-11-03T17:03:45.880Z"
   },
   {
    "duration": 102,
    "start_time": "2022-11-03T17:03:46.063Z"
   },
   {
    "duration": 879,
    "start_time": "2022-11-03T17:03:46.166Z"
   },
   {
    "duration": 244,
    "start_time": "2022-11-03T17:03:47.047Z"
   },
   {
    "duration": 7,
    "start_time": "2022-11-03T17:03:47.292Z"
   },
   {
    "duration": 3,
    "start_time": "2022-11-03T17:05:52.811Z"
   },
   {
    "duration": 182,
    "start_time": "2022-11-03T17:05:52.817Z"
   },
   {
    "duration": 116,
    "start_time": "2022-11-03T17:05:53.001Z"
   },
   {
    "duration": 838,
    "start_time": "2022-11-03T17:05:53.118Z"
   },
   {
    "duration": 244,
    "start_time": "2022-11-03T17:05:53.958Z"
   },
   {
    "duration": 4,
    "start_time": "2022-11-03T17:12:06.386Z"
   },
   {
    "duration": 199,
    "start_time": "2022-11-03T17:12:06.393Z"
   },
   {
    "duration": 138,
    "start_time": "2022-11-03T17:12:06.594Z"
   },
   {
    "duration": 795,
    "start_time": "2022-11-03T17:12:06.734Z"
   },
   {
    "duration": 265,
    "start_time": "2022-11-03T17:12:07.531Z"
   },
   {
    "duration": 8,
    "start_time": "2022-11-03T17:12:07.798Z"
   },
   {
    "duration": 3,
    "start_time": "2022-11-03T17:12:54.711Z"
   },
   {
    "duration": 170,
    "start_time": "2022-11-03T17:12:54.717Z"
   },
   {
    "duration": 143,
    "start_time": "2022-11-03T17:12:54.892Z"
   },
   {
    "duration": 881,
    "start_time": "2022-11-03T17:12:55.037Z"
   },
   {
    "duration": 304,
    "start_time": "2022-11-03T17:12:55.920Z"
   },
   {
    "duration": 9,
    "start_time": "2022-11-03T17:12:56.226Z"
   },
   {
    "duration": 4,
    "start_time": "2022-11-03T17:13:11.426Z"
   },
   {
    "duration": 217,
    "start_time": "2022-11-03T17:13:11.432Z"
   },
   {
    "duration": 146,
    "start_time": "2022-11-03T17:13:11.652Z"
   },
   {
    "duration": 944,
    "start_time": "2022-11-03T17:13:11.800Z"
   },
   {
    "duration": 283,
    "start_time": "2022-11-03T17:13:12.745Z"
   },
   {
    "duration": 9,
    "start_time": "2022-11-03T17:13:13.030Z"
   },
   {
    "duration": 3,
    "start_time": "2022-11-03T17:13:27.908Z"
   },
   {
    "duration": 183,
    "start_time": "2022-11-03T17:13:27.913Z"
   },
   {
    "duration": 120,
    "start_time": "2022-11-03T17:13:28.098Z"
   },
   {
    "duration": 919,
    "start_time": "2022-11-03T17:13:28.220Z"
   },
   {
    "duration": 285,
    "start_time": "2022-11-03T17:13:29.142Z"
   },
   {
    "duration": 8,
    "start_time": "2022-11-03T17:13:29.429Z"
   },
   {
    "duration": 3,
    "start_time": "2022-11-03T17:14:23.570Z"
   },
   {
    "duration": 176,
    "start_time": "2022-11-03T17:14:23.575Z"
   },
   {
    "duration": 120,
    "start_time": "2022-11-03T17:14:23.753Z"
   },
   {
    "duration": 793,
    "start_time": "2022-11-03T17:14:23.875Z"
   },
   {
    "duration": 339,
    "start_time": "2022-11-03T17:14:24.671Z"
   },
   {
    "duration": 23,
    "start_time": "2022-11-03T17:14:25.013Z"
   },
   {
    "duration": 3,
    "start_time": "2022-11-03T17:14:54.275Z"
   },
   {
    "duration": 208,
    "start_time": "2022-11-03T17:14:54.280Z"
   },
   {
    "duration": 124,
    "start_time": "2022-11-03T17:14:54.489Z"
   },
   {
    "duration": 787,
    "start_time": "2022-11-03T17:14:54.615Z"
   },
   {
    "duration": 264,
    "start_time": "2022-11-03T17:14:55.403Z"
   },
   {
    "duration": 1360,
    "start_time": "2022-11-03T17:14:55.669Z"
   },
   {
    "duration": 3,
    "start_time": "2022-11-03T17:15:30.399Z"
   },
   {
    "duration": 187,
    "start_time": "2022-11-03T17:15:30.406Z"
   },
   {
    "duration": 130,
    "start_time": "2022-11-03T17:15:30.595Z"
   },
   {
    "duration": 870,
    "start_time": "2022-11-03T17:15:30.727Z"
   },
   {
    "duration": 262,
    "start_time": "2022-11-03T17:15:31.599Z"
   },
   {
    "duration": 140,
    "start_time": "2022-11-03T17:15:31.862Z"
   },
   {
    "duration": 3,
    "start_time": "2022-11-03T17:16:03.352Z"
   },
   {
    "duration": 172,
    "start_time": "2022-11-03T17:16:03.365Z"
   },
   {
    "duration": 122,
    "start_time": "2022-11-03T17:16:03.538Z"
   },
   {
    "duration": 779,
    "start_time": "2022-11-03T17:16:03.662Z"
   },
   {
    "duration": 268,
    "start_time": "2022-11-03T17:16:04.443Z"
   },
   {
    "duration": 137,
    "start_time": "2022-11-03T17:16:04.713Z"
   },
   {
    "duration": 3,
    "start_time": "2022-11-03T17:17:08.974Z"
   },
   {
    "duration": 171,
    "start_time": "2022-11-03T17:17:08.978Z"
   },
   {
    "duration": 122,
    "start_time": "2022-11-03T17:17:09.151Z"
   },
   {
    "duration": 853,
    "start_time": "2022-11-03T17:17:09.275Z"
   },
   {
    "duration": 262,
    "start_time": "2022-11-03T17:17:10.130Z"
   },
   {
    "duration": 183,
    "start_time": "2022-11-03T17:17:10.394Z"
   },
   {
    "duration": 3,
    "start_time": "2022-11-03T17:17:30.348Z"
   },
   {
    "duration": 193,
    "start_time": "2022-11-03T17:17:30.353Z"
   },
   {
    "duration": 121,
    "start_time": "2022-11-03T17:17:30.548Z"
   },
   {
    "duration": 876,
    "start_time": "2022-11-03T17:17:30.671Z"
   },
   {
    "duration": 256,
    "start_time": "2022-11-03T17:17:31.549Z"
   },
   {
    "duration": 177,
    "start_time": "2022-11-03T17:17:31.807Z"
   },
   {
    "duration": 3,
    "start_time": "2022-11-03T17:17:54.738Z"
   },
   {
    "duration": 187,
    "start_time": "2022-11-03T17:17:54.744Z"
   },
   {
    "duration": 121,
    "start_time": "2022-11-03T17:17:54.933Z"
   },
   {
    "duration": 812,
    "start_time": "2022-11-03T17:17:55.056Z"
   },
   {
    "duration": 275,
    "start_time": "2022-11-03T17:17:55.870Z"
   },
   {
    "duration": 11,
    "start_time": "2022-11-03T17:17:56.147Z"
   },
   {
    "duration": 3,
    "start_time": "2022-11-03T17:18:07.954Z"
   },
   {
    "duration": 168,
    "start_time": "2022-11-03T17:18:07.959Z"
   },
   {
    "duration": 124,
    "start_time": "2022-11-03T17:18:08.128Z"
   },
   {
    "duration": 777,
    "start_time": "2022-11-03T17:18:08.254Z"
   },
   {
    "duration": 247,
    "start_time": "2022-11-03T17:18:09.033Z"
   },
   {
    "duration": 18,
    "start_time": "2022-11-03T17:18:09.281Z"
   },
   {
    "duration": 4,
    "start_time": "2022-11-03T17:18:33.574Z"
   },
   {
    "duration": 180,
    "start_time": "2022-11-03T17:18:33.590Z"
   },
   {
    "duration": 151,
    "start_time": "2022-11-03T17:18:33.772Z"
   },
   {
    "duration": 944,
    "start_time": "2022-11-03T17:18:33.925Z"
   },
   {
    "duration": 297,
    "start_time": "2022-11-03T17:18:34.871Z"
   },
   {
    "duration": 22,
    "start_time": "2022-11-03T17:18:35.170Z"
   },
   {
    "duration": 3,
    "start_time": "2022-11-03T17:19:01.560Z"
   },
   {
    "duration": 172,
    "start_time": "2022-11-03T17:19:01.577Z"
   },
   {
    "duration": 117,
    "start_time": "2022-11-03T17:19:01.751Z"
   },
   {
    "duration": 790,
    "start_time": "2022-11-03T17:19:01.869Z"
   },
   {
    "duration": 259,
    "start_time": "2022-11-03T17:19:02.660Z"
   },
   {
    "duration": 1315,
    "start_time": "2022-11-03T17:19:02.921Z"
   },
   {
    "duration": 4,
    "start_time": "2022-11-03T17:19:23.589Z"
   },
   {
    "duration": 190,
    "start_time": "2022-11-03T17:19:23.595Z"
   },
   {
    "duration": 109,
    "start_time": "2022-11-03T17:19:23.787Z"
   },
   {
    "duration": 909,
    "start_time": "2022-11-03T17:19:23.898Z"
   },
   {
    "duration": 250,
    "start_time": "2022-11-03T17:19:24.810Z"
   },
   {
    "duration": 9,
    "start_time": "2022-11-03T17:19:25.062Z"
   },
   {
    "duration": 4,
    "start_time": "2022-11-03T17:19:53.004Z"
   },
   {
    "duration": 173,
    "start_time": "2022-11-03T17:19:53.012Z"
   },
   {
    "duration": 117,
    "start_time": "2022-11-03T17:19:53.190Z"
   },
   {
    "duration": 796,
    "start_time": "2022-11-03T17:19:53.308Z"
   },
   {
    "duration": 256,
    "start_time": "2022-11-03T17:19:54.106Z"
   },
   {
    "duration": 1330,
    "start_time": "2022-11-03T17:19:54.364Z"
   },
   {
    "duration": 3,
    "start_time": "2022-11-03T17:20:12.529Z"
   },
   {
    "duration": 174,
    "start_time": "2022-11-03T17:20:12.534Z"
   },
   {
    "duration": 123,
    "start_time": "2022-11-03T17:20:12.710Z"
   },
   {
    "duration": 931,
    "start_time": "2022-11-03T17:20:12.835Z"
   },
   {
    "duration": 267,
    "start_time": "2022-11-03T17:20:13.768Z"
   },
   {
    "duration": 11,
    "start_time": "2022-11-03T17:20:14.036Z"
   },
   {
    "duration": 4,
    "start_time": "2022-11-03T17:20:35.636Z"
   },
   {
    "duration": 176,
    "start_time": "2022-11-03T17:20:35.643Z"
   },
   {
    "duration": 120,
    "start_time": "2022-11-03T17:20:35.820Z"
   },
   {
    "duration": 887,
    "start_time": "2022-11-03T17:20:35.942Z"
   },
   {
    "duration": 275,
    "start_time": "2022-11-03T17:20:36.831Z"
   },
   {
    "duration": 4,
    "start_time": "2022-11-03T17:23:39.036Z"
   },
   {
    "duration": 195,
    "start_time": "2022-11-03T17:23:40.277Z"
   },
   {
    "duration": 0,
    "start_time": "2022-11-03T17:23:41.597Z"
   },
   {
    "duration": 0,
    "start_time": "2022-11-03T17:23:41.599Z"
   },
   {
    "duration": 1,
    "start_time": "2022-11-03T17:23:41.600Z"
   },
   {
    "duration": 0,
    "start_time": "2022-11-03T17:23:41.602Z"
   },
   {
    "duration": 1262,
    "start_time": "2022-11-04T09:09:33.826Z"
   },
   {
    "duration": 540,
    "start_time": "2022-11-04T09:09:35.090Z"
   },
   {
    "duration": 133,
    "start_time": "2022-11-04T09:09:35.632Z"
   },
   {
    "duration": 892,
    "start_time": "2022-11-04T09:09:35.767Z"
   },
   {
    "duration": 360,
    "start_time": "2022-11-04T09:09:36.661Z"
   },
   {
    "duration": 204,
    "start_time": "2022-11-04T09:09:37.023Z"
   },
   {
    "duration": 4,
    "start_time": "2022-11-04T09:11:24.610Z"
   },
   {
    "duration": 206,
    "start_time": "2022-11-04T09:11:24.617Z"
   },
   {
    "duration": 125,
    "start_time": "2022-11-04T09:11:24.825Z"
   },
   {
    "duration": 846,
    "start_time": "2022-11-04T09:11:24.952Z"
   },
   {
    "duration": 271,
    "start_time": "2022-11-04T09:11:25.801Z"
   },
   {
    "duration": 936,
    "start_time": "2022-11-04T09:11:26.074Z"
   },
   {
    "duration": 4,
    "start_time": "2022-11-04T09:12:23.865Z"
   },
   {
    "duration": 278,
    "start_time": "2022-11-04T09:12:23.870Z"
   },
   {
    "duration": 148,
    "start_time": "2022-11-04T09:12:24.151Z"
   },
   {
    "duration": 846,
    "start_time": "2022-11-04T09:12:24.301Z"
   },
   {
    "duration": 270,
    "start_time": "2022-11-04T09:12:25.150Z"
   },
   {
    "duration": 208,
    "start_time": "2022-11-04T09:12:25.422Z"
   },
   {
    "duration": 3,
    "start_time": "2022-11-04T09:12:48.894Z"
   },
   {
    "duration": 186,
    "start_time": "2022-11-04T09:12:48.912Z"
   },
   {
    "duration": 121,
    "start_time": "2022-11-04T09:12:49.100Z"
   },
   {
    "duration": 777,
    "start_time": "2022-11-04T09:12:49.223Z"
   },
   {
    "duration": 269,
    "start_time": "2022-11-04T09:12:50.001Z"
   },
   {
    "duration": 850,
    "start_time": "2022-11-04T09:12:50.272Z"
   },
   {
    "duration": 4,
    "start_time": "2022-11-04T09:13:32.013Z"
   },
   {
    "duration": 236,
    "start_time": "2022-11-04T09:13:32.019Z"
   },
   {
    "duration": 159,
    "start_time": "2022-11-04T09:13:32.257Z"
   },
   {
    "duration": 858,
    "start_time": "2022-11-04T09:13:32.418Z"
   },
   {
    "duration": 424,
    "start_time": "2022-11-04T09:13:33.278Z"
   },
   {
    "duration": 11,
    "start_time": "2022-11-04T09:13:33.705Z"
   },
   {
    "duration": 4,
    "start_time": "2022-11-04T09:13:46.382Z"
   },
   {
    "duration": 223,
    "start_time": "2022-11-04T09:13:46.389Z"
   },
   {
    "duration": 116,
    "start_time": "2022-11-04T09:13:46.613Z"
   },
   {
    "duration": 941,
    "start_time": "2022-11-04T09:13:46.733Z"
   },
   {
    "duration": 281,
    "start_time": "2022-11-04T09:13:47.676Z"
   },
   {
    "duration": 9,
    "start_time": "2022-11-04T09:13:47.959Z"
   },
   {
    "duration": 4,
    "start_time": "2022-11-04T09:14:14.054Z"
   },
   {
    "duration": 203,
    "start_time": "2022-11-04T09:14:14.060Z"
   },
   {
    "duration": 110,
    "start_time": "2022-11-04T09:14:14.265Z"
   },
   {
    "duration": 762,
    "start_time": "2022-11-04T09:14:14.377Z"
   },
   {
    "duration": 260,
    "start_time": "2022-11-04T09:14:15.141Z"
   },
   {
    "duration": 6,
    "start_time": "2022-11-04T09:14:15.403Z"
   },
   {
    "duration": 3,
    "start_time": "2022-11-04T09:14:26.025Z"
   },
   {
    "duration": 216,
    "start_time": "2022-11-04T09:14:26.030Z"
   },
   {
    "duration": 149,
    "start_time": "2022-11-04T09:14:26.249Z"
   },
   {
    "duration": 864,
    "start_time": "2022-11-04T09:14:26.401Z"
   },
   {
    "duration": 261,
    "start_time": "2022-11-04T09:14:27.267Z"
   },
   {
    "duration": 7,
    "start_time": "2022-11-04T09:14:27.534Z"
   },
   {
    "duration": 4,
    "start_time": "2022-11-04T09:14:34.636Z"
   },
   {
    "duration": 211,
    "start_time": "2022-11-04T09:14:34.642Z"
   },
   {
    "duration": 136,
    "start_time": "2022-11-04T09:14:34.855Z"
   },
   {
    "duration": 873,
    "start_time": "2022-11-04T09:14:34.994Z"
   },
   {
    "duration": 320,
    "start_time": "2022-11-04T09:14:35.868Z"
   },
   {
    "duration": 8,
    "start_time": "2022-11-04T09:14:36.190Z"
   },
   {
    "duration": 4,
    "start_time": "2022-11-04T09:14:44.050Z"
   },
   {
    "duration": 212,
    "start_time": "2022-11-04T09:14:44.056Z"
   },
   {
    "duration": 131,
    "start_time": "2022-11-04T09:14:44.270Z"
   },
   {
    "duration": 780,
    "start_time": "2022-11-04T09:14:44.403Z"
   },
   {
    "duration": 274,
    "start_time": "2022-11-04T09:14:45.184Z"
   },
   {
    "duration": 8,
    "start_time": "2022-11-04T09:14:45.460Z"
   },
   {
    "duration": 4,
    "start_time": "2022-11-04T09:15:21.988Z"
   },
   {
    "duration": 193,
    "start_time": "2022-11-04T09:15:21.993Z"
   },
   {
    "duration": 112,
    "start_time": "2022-11-04T09:15:22.188Z"
   },
   {
    "duration": 836,
    "start_time": "2022-11-04T09:15:22.301Z"
   },
   {
    "duration": 248,
    "start_time": "2022-11-04T09:15:23.140Z"
   },
   {
    "duration": 6,
    "start_time": "2022-11-04T09:15:23.390Z"
   },
   {
    "duration": 4,
    "start_time": "2022-11-04T09:17:44.942Z"
   },
   {
    "duration": 193,
    "start_time": "2022-11-04T09:17:44.949Z"
   },
   {
    "duration": 115,
    "start_time": "2022-11-04T09:17:45.144Z"
   },
   {
    "duration": 844,
    "start_time": "2022-11-04T09:17:45.261Z"
   },
   {
    "duration": 343,
    "start_time": "2022-11-04T09:17:46.107Z"
   },
   {
    "duration": 7,
    "start_time": "2022-11-04T09:17:46.452Z"
   },
   {
    "duration": 3,
    "start_time": "2022-11-04T09:18:31.750Z"
   },
   {
    "duration": 189,
    "start_time": "2022-11-04T09:18:31.755Z"
   },
   {
    "duration": 112,
    "start_time": "2022-11-04T09:18:31.946Z"
   },
   {
    "duration": 782,
    "start_time": "2022-11-04T09:18:32.059Z"
   },
   {
    "duration": 263,
    "start_time": "2022-11-04T09:18:32.843Z"
   },
   {
    "duration": 790,
    "start_time": "2022-11-04T09:18:33.108Z"
   },
   {
    "duration": 4,
    "start_time": "2022-11-04T09:18:46.278Z"
   },
   {
    "duration": 232,
    "start_time": "2022-11-04T09:18:46.284Z"
   },
   {
    "duration": 115,
    "start_time": "2022-11-04T09:18:46.518Z"
   },
   {
    "duration": 837,
    "start_time": "2022-11-04T09:18:46.635Z"
   },
   {
    "duration": 262,
    "start_time": "2022-11-04T09:18:47.474Z"
   },
   {
    "duration": 2404,
    "start_time": "2022-11-04T09:18:47.738Z"
   },
   {
    "duration": 3,
    "start_time": "2022-11-04T09:19:14.631Z"
   },
   {
    "duration": 193,
    "start_time": "2022-11-04T09:19:14.636Z"
   },
   {
    "duration": 109,
    "start_time": "2022-11-04T09:19:14.833Z"
   },
   {
    "duration": 792,
    "start_time": "2022-11-04T09:19:14.944Z"
   },
   {
    "duration": 264,
    "start_time": "2022-11-04T09:19:15.738Z"
   },
   {
    "duration": 8,
    "start_time": "2022-11-04T09:19:16.005Z"
   },
   {
    "duration": 4,
    "start_time": "2022-11-04T09:20:53.930Z"
   },
   {
    "duration": 243,
    "start_time": "2022-11-04T09:20:53.936Z"
   },
   {
    "duration": 133,
    "start_time": "2022-11-04T09:20:54.181Z"
   },
   {
    "duration": 865,
    "start_time": "2022-11-04T09:20:54.316Z"
   },
   {
    "duration": 273,
    "start_time": "2022-11-04T09:20:55.184Z"
   },
   {
    "duration": 9,
    "start_time": "2022-11-04T09:20:55.460Z"
   },
   {
    "duration": 4,
    "start_time": "2022-11-04T09:21:21.545Z"
   },
   {
    "duration": 205,
    "start_time": "2022-11-04T09:21:21.551Z"
   },
   {
    "duration": 115,
    "start_time": "2022-11-04T09:21:21.758Z"
   },
   {
    "duration": 880,
    "start_time": "2022-11-04T09:21:21.875Z"
   },
   {
    "duration": 297,
    "start_time": "2022-11-04T09:21:22.758Z"
   },
   {
    "duration": 157,
    "start_time": "2022-11-04T09:21:23.058Z"
   },
   {
    "duration": 4,
    "start_time": "2022-11-04T09:22:01.514Z"
   },
   {
    "duration": 210,
    "start_time": "2022-11-04T09:22:01.521Z"
   },
   {
    "duration": 108,
    "start_time": "2022-11-04T09:22:01.734Z"
   },
   {
    "duration": 784,
    "start_time": "2022-11-04T09:22:01.844Z"
   },
   {
    "duration": 253,
    "start_time": "2022-11-04T09:22:02.633Z"
   },
   {
    "duration": 209,
    "start_time": "2022-11-04T09:22:02.888Z"
   },
   {
    "duration": 4,
    "start_time": "2022-11-04T09:22:27.604Z"
   },
   {
    "duration": 199,
    "start_time": "2022-11-04T09:22:27.610Z"
   },
   {
    "duration": 106,
    "start_time": "2022-11-04T09:22:27.810Z"
   },
   {
    "duration": 784,
    "start_time": "2022-11-04T09:22:27.918Z"
   },
   {
    "duration": 270,
    "start_time": "2022-11-04T09:22:28.704Z"
   },
   {
    "duration": 150,
    "start_time": "2022-11-04T09:22:28.976Z"
   },
   {
    "duration": 4,
    "start_time": "2022-11-04T09:27:20.100Z"
   },
   {
    "duration": 220,
    "start_time": "2022-11-04T09:27:20.106Z"
   },
   {
    "duration": 110,
    "start_time": "2022-11-04T09:27:20.328Z"
   },
   {
    "duration": 834,
    "start_time": "2022-11-04T09:27:20.440Z"
   },
   {
    "duration": 276,
    "start_time": "2022-11-04T09:27:21.276Z"
   },
   {
    "duration": 11,
    "start_time": "2022-11-04T09:27:21.554Z"
   },
   {
    "duration": 0,
    "start_time": "2022-11-04T09:27:21.567Z"
   },
   {
    "duration": 0,
    "start_time": "2022-11-04T09:27:21.568Z"
   },
   {
    "duration": 0,
    "start_time": "2022-11-04T09:27:21.570Z"
   },
   {
    "duration": 0,
    "start_time": "2022-11-04T09:27:21.571Z"
   },
   {
    "duration": 0,
    "start_time": "2022-11-04T09:27:21.572Z"
   },
   {
    "duration": 0,
    "start_time": "2022-11-04T09:27:21.573Z"
   },
   {
    "duration": 0,
    "start_time": "2022-11-04T09:27:21.574Z"
   },
   {
    "duration": 0,
    "start_time": "2022-11-04T09:27:21.575Z"
   },
   {
    "duration": 0,
    "start_time": "2022-11-04T09:27:21.576Z"
   },
   {
    "duration": 0,
    "start_time": "2022-11-04T09:27:21.577Z"
   },
   {
    "duration": 0,
    "start_time": "2022-11-04T09:27:21.579Z"
   },
   {
    "duration": 0,
    "start_time": "2022-11-04T09:27:21.580Z"
   },
   {
    "duration": 0,
    "start_time": "2022-11-04T09:27:21.582Z"
   },
   {
    "duration": 0,
    "start_time": "2022-11-04T09:27:21.583Z"
   },
   {
    "duration": 3,
    "start_time": "2022-11-04T09:27:39.916Z"
   },
   {
    "duration": 206,
    "start_time": "2022-11-04T09:27:39.921Z"
   },
   {
    "duration": 112,
    "start_time": "2022-11-04T09:27:40.132Z"
   },
   {
    "duration": 853,
    "start_time": "2022-11-04T09:27:40.246Z"
   },
   {
    "duration": 251,
    "start_time": "2022-11-04T09:27:41.101Z"
   },
   {
    "duration": 897,
    "start_time": "2022-11-04T09:27:41.353Z"
   },
   {
    "duration": 3,
    "start_time": "2022-11-04T09:27:55.227Z"
   },
   {
    "duration": 194,
    "start_time": "2022-11-04T09:27:55.233Z"
   },
   {
    "duration": 111,
    "start_time": "2022-11-04T09:27:55.429Z"
   },
   {
    "duration": 797,
    "start_time": "2022-11-04T09:27:55.542Z"
   },
   {
    "duration": 326,
    "start_time": "2022-11-04T09:27:56.342Z"
   },
   {
    "duration": 702,
    "start_time": "2022-11-04T09:27:56.670Z"
   },
   {
    "duration": 4,
    "start_time": "2022-11-04T09:28:55.261Z"
   },
   {
    "duration": 194,
    "start_time": "2022-11-04T09:28:55.269Z"
   },
   {
    "duration": 109,
    "start_time": "2022-11-04T09:28:55.465Z"
   },
   {
    "duration": 875,
    "start_time": "2022-11-04T09:28:55.576Z"
   },
   {
    "duration": 305,
    "start_time": "2022-11-04T09:28:56.454Z"
   },
   {
    "duration": 23,
    "start_time": "2022-11-04T09:28:56.760Z"
   },
   {
    "duration": 3,
    "start_time": "2022-11-04T09:30:49.240Z"
   },
   {
    "duration": 193,
    "start_time": "2022-11-04T09:30:49.246Z"
   },
   {
    "duration": 110,
    "start_time": "2022-11-04T09:30:49.441Z"
   },
   {
    "duration": 788,
    "start_time": "2022-11-04T09:30:49.553Z"
   },
   {
    "duration": 261,
    "start_time": "2022-11-04T09:30:50.343Z"
   },
   {
    "duration": 173,
    "start_time": "2022-11-04T09:30:50.606Z"
   },
   {
    "duration": 4,
    "start_time": "2022-11-04T09:32:44.025Z"
   },
   {
    "duration": 186,
    "start_time": "2022-11-04T09:32:44.031Z"
   },
   {
    "duration": 113,
    "start_time": "2022-11-04T09:32:44.220Z"
   },
   {
    "duration": 838,
    "start_time": "2022-11-04T09:32:44.336Z"
   },
   {
    "duration": 257,
    "start_time": "2022-11-04T09:32:45.176Z"
   },
   {
    "duration": 176,
    "start_time": "2022-11-04T09:32:45.435Z"
   },
   {
    "duration": 72,
    "start_time": "2022-11-04T09:32:45.613Z"
   },
   {
    "duration": 4,
    "start_time": "2022-11-04T09:34:20.242Z"
   },
   {
    "duration": 194,
    "start_time": "2022-11-04T09:34:20.248Z"
   },
   {
    "duration": 125,
    "start_time": "2022-11-04T09:34:20.444Z"
   },
   {
    "duration": 882,
    "start_time": "2022-11-04T09:34:20.571Z"
   },
   {
    "duration": 273,
    "start_time": "2022-11-04T09:34:21.456Z"
   },
   {
    "duration": 190,
    "start_time": "2022-11-04T09:34:21.733Z"
   },
   {
    "duration": 3,
    "start_time": "2022-11-04T09:39:08.677Z"
   },
   {
    "duration": 213,
    "start_time": "2022-11-04T09:39:08.683Z"
   },
   {
    "duration": 116,
    "start_time": "2022-11-04T09:39:08.897Z"
   },
   {
    "duration": 824,
    "start_time": "2022-11-04T09:39:09.015Z"
   },
   {
    "duration": 307,
    "start_time": "2022-11-04T09:39:09.842Z"
   },
   {
    "duration": 211,
    "start_time": "2022-11-04T09:39:10.151Z"
   },
   {
    "duration": 4,
    "start_time": "2022-11-04T09:41:55.038Z"
   },
   {
    "duration": 200,
    "start_time": "2022-11-04T09:41:55.043Z"
   },
   {
    "duration": 110,
    "start_time": "2022-11-04T09:41:55.245Z"
   },
   {
    "duration": 852,
    "start_time": "2022-11-04T09:41:55.357Z"
   },
   {
    "duration": 377,
    "start_time": "2022-11-04T09:41:56.212Z"
   },
   {
    "duration": 295,
    "start_time": "2022-11-04T09:41:56.590Z"
   },
   {
    "duration": 3,
    "start_time": "2022-11-04T09:43:19.734Z"
   },
   {
    "duration": 191,
    "start_time": "2022-11-04T09:43:19.740Z"
   },
   {
    "duration": 105,
    "start_time": "2022-11-04T09:43:19.934Z"
   },
   {
    "duration": 866,
    "start_time": "2022-11-04T09:43:20.041Z"
   },
   {
    "duration": 274,
    "start_time": "2022-11-04T09:43:20.910Z"
   },
   {
    "duration": 211,
    "start_time": "2022-11-04T09:43:21.186Z"
   },
   {
    "duration": 3,
    "start_time": "2022-11-04T09:43:56.155Z"
   },
   {
    "duration": 253,
    "start_time": "2022-11-04T09:43:56.162Z"
   },
   {
    "duration": 128,
    "start_time": "2022-11-04T09:43:56.417Z"
   },
   {
    "duration": 777,
    "start_time": "2022-11-04T09:43:56.547Z"
   },
   {
    "duration": 264,
    "start_time": "2022-11-04T09:43:57.327Z"
   },
   {
    "duration": 177,
    "start_time": "2022-11-04T09:43:57.593Z"
   },
   {
    "duration": 4,
    "start_time": "2022-11-04T09:45:08.075Z"
   },
   {
    "duration": 204,
    "start_time": "2022-11-04T09:45:08.081Z"
   },
   {
    "duration": 114,
    "start_time": "2022-11-04T09:45:08.287Z"
   },
   {
    "duration": 849,
    "start_time": "2022-11-04T09:45:08.402Z"
   },
   {
    "duration": 265,
    "start_time": "2022-11-04T09:45:09.253Z"
   },
   {
    "duration": 215,
    "start_time": "2022-11-04T09:45:09.520Z"
   },
   {
    "duration": 4,
    "start_time": "2022-11-04T09:50:51.586Z"
   },
   {
    "duration": 188,
    "start_time": "2022-11-04T09:50:51.593Z"
   },
   {
    "duration": 104,
    "start_time": "2022-11-04T09:50:51.784Z"
   },
   {
    "duration": 786,
    "start_time": "2022-11-04T09:50:51.890Z"
   },
   {
    "duration": 392,
    "start_time": "2022-11-04T09:50:52.678Z"
   },
   {
    "duration": 262,
    "start_time": "2022-11-04T09:50:53.073Z"
   },
   {
    "duration": 71,
    "start_time": "2022-11-04T09:50:53.337Z"
   },
   {
    "duration": 3,
    "start_time": "2022-11-04T09:51:44.900Z"
   },
   {
    "duration": 184,
    "start_time": "2022-11-04T09:51:44.907Z"
   },
   {
    "duration": 121,
    "start_time": "2022-11-04T09:51:45.094Z"
   },
   {
    "duration": 802,
    "start_time": "2022-11-04T09:51:45.218Z"
   },
   {
    "duration": 373,
    "start_time": "2022-11-04T09:51:46.023Z"
   },
   {
    "duration": 220,
    "start_time": "2022-11-04T09:51:46.397Z"
   },
   {
    "duration": 97,
    "start_time": "2022-11-04T09:51:46.619Z"
   },
   {
    "duration": 3,
    "start_time": "2022-11-04T09:53:56.867Z"
   },
   {
    "duration": 189,
    "start_time": "2022-11-04T09:53:56.872Z"
   },
   {
    "duration": 127,
    "start_time": "2022-11-04T09:53:57.063Z"
   },
   {
    "duration": 831,
    "start_time": "2022-11-04T09:53:57.192Z"
   },
   {
    "duration": 280,
    "start_time": "2022-11-04T09:53:58.025Z"
   },
   {
    "duration": 198,
    "start_time": "2022-11-04T09:53:58.307Z"
   },
   {
    "duration": 106,
    "start_time": "2022-11-04T09:53:58.507Z"
   },
   {
    "duration": 4,
    "start_time": "2022-11-04T09:54:31.415Z"
   },
   {
    "duration": 195,
    "start_time": "2022-11-04T09:54:31.421Z"
   },
   {
    "duration": 133,
    "start_time": "2022-11-04T09:54:31.618Z"
   },
   {
    "duration": 826,
    "start_time": "2022-11-04T09:54:31.753Z"
   },
   {
    "duration": 279,
    "start_time": "2022-11-04T09:54:32.582Z"
   },
   {
    "duration": 194,
    "start_time": "2022-11-04T09:54:32.863Z"
   },
   {
    "duration": 100,
    "start_time": "2022-11-04T09:54:33.059Z"
   },
   {
    "duration": 3,
    "start_time": "2022-11-04T09:58:59.062Z"
   },
   {
    "duration": 187,
    "start_time": "2022-11-04T09:58:59.067Z"
   },
   {
    "duration": 127,
    "start_time": "2022-11-04T09:58:59.256Z"
   },
   {
    "duration": 783,
    "start_time": "2022-11-04T09:58:59.385Z"
   },
   {
    "duration": 287,
    "start_time": "2022-11-04T09:59:00.171Z"
   },
   {
    "duration": 198,
    "start_time": "2022-11-04T09:59:00.460Z"
   },
   {
    "duration": 105,
    "start_time": "2022-11-04T09:59:00.660Z"
   },
   {
    "duration": 4,
    "start_time": "2022-11-04T10:01:41.602Z"
   },
   {
    "duration": 212,
    "start_time": "2022-11-04T10:01:41.608Z"
   },
   {
    "duration": 105,
    "start_time": "2022-11-04T10:01:41.822Z"
   },
   {
    "duration": 859,
    "start_time": "2022-11-04T10:01:41.929Z"
   },
   {
    "duration": 268,
    "start_time": "2022-11-04T10:01:42.790Z"
   },
   {
    "duration": 186,
    "start_time": "2022-11-04T10:01:43.059Z"
   },
   {
    "duration": 45,
    "start_time": "2022-11-04T10:01:43.246Z"
   },
   {
    "duration": 3,
    "start_time": "2022-11-04T10:02:08.504Z"
   },
   {
    "duration": 189,
    "start_time": "2022-11-04T10:02:08.509Z"
   },
   {
    "duration": 137,
    "start_time": "2022-11-04T10:02:08.700Z"
   },
   {
    "duration": 868,
    "start_time": "2022-11-04T10:02:08.839Z"
   },
   {
    "duration": 292,
    "start_time": "2022-11-04T10:02:09.710Z"
   },
   {
    "duration": 206,
    "start_time": "2022-11-04T10:02:10.004Z"
   },
   {
    "duration": 74,
    "start_time": "2022-11-04T10:02:10.212Z"
   },
   {
    "duration": 3,
    "start_time": "2022-11-04T10:05:15.871Z"
   },
   {
    "duration": 198,
    "start_time": "2022-11-04T10:05:15.876Z"
   },
   {
    "duration": 119,
    "start_time": "2022-11-04T10:05:16.076Z"
   },
   {
    "duration": 878,
    "start_time": "2022-11-04T10:05:16.197Z"
   },
   {
    "duration": 293,
    "start_time": "2022-11-04T10:05:17.078Z"
   },
   {
    "duration": 260,
    "start_time": "2022-11-04T10:05:17.373Z"
   },
   {
    "duration": 62,
    "start_time": "2022-11-04T10:05:17.635Z"
   },
   {
    "duration": 9,
    "start_time": "2022-11-04T10:05:17.698Z"
   },
   {
    "duration": 4,
    "start_time": "2022-11-04T10:07:40.409Z"
   },
   {
    "duration": 197,
    "start_time": "2022-11-04T10:07:40.416Z"
   },
   {
    "duration": 119,
    "start_time": "2022-11-04T10:07:40.615Z"
   },
   {
    "duration": 878,
    "start_time": "2022-11-04T10:07:40.737Z"
   },
   {
    "duration": 317,
    "start_time": "2022-11-04T10:07:41.618Z"
   },
   {
    "duration": 184,
    "start_time": "2022-11-04T10:07:41.937Z"
   },
   {
    "duration": 81,
    "start_time": "2022-11-04T10:07:42.122Z"
   },
   {
    "duration": 52,
    "start_time": "2022-11-04T10:07:42.205Z"
   },
   {
    "duration": 3,
    "start_time": "2022-11-04T10:08:26.487Z"
   },
   {
    "duration": 187,
    "start_time": "2022-11-04T10:08:26.496Z"
   },
   {
    "duration": 112,
    "start_time": "2022-11-04T10:08:26.685Z"
   },
   {
    "duration": 772,
    "start_time": "2022-11-04T10:08:26.799Z"
   },
   {
    "duration": 321,
    "start_time": "2022-11-04T10:08:27.573Z"
   },
   {
    "duration": 196,
    "start_time": "2022-11-04T10:08:27.896Z"
   },
   {
    "duration": 80,
    "start_time": "2022-11-04T10:08:28.094Z"
   },
   {
    "duration": 40,
    "start_time": "2022-11-04T10:08:28.176Z"
   },
   {
    "duration": 4,
    "start_time": "2022-11-04T10:10:37.976Z"
   },
   {
    "duration": 216,
    "start_time": "2022-11-04T10:10:37.985Z"
   },
   {
    "duration": 112,
    "start_time": "2022-11-04T10:10:38.203Z"
   },
   {
    "duration": 777,
    "start_time": "2022-11-04T10:10:38.316Z"
   },
   {
    "duration": 264,
    "start_time": "2022-11-04T10:10:39.095Z"
   },
   {
    "duration": 194,
    "start_time": "2022-11-04T10:10:39.361Z"
   },
   {
    "duration": 77,
    "start_time": "2022-11-04T10:10:39.557Z"
   },
   {
    "duration": 14,
    "start_time": "2022-11-04T10:10:39.636Z"
   },
   {
    "duration": 4,
    "start_time": "2022-11-04T10:11:33.099Z"
   },
   {
    "duration": 194,
    "start_time": "2022-11-04T10:11:33.105Z"
   },
   {
    "duration": 125,
    "start_time": "2022-11-04T10:11:33.302Z"
   },
   {
    "duration": 821,
    "start_time": "2022-11-04T10:11:33.429Z"
   },
   {
    "duration": 269,
    "start_time": "2022-11-04T10:11:34.252Z"
   },
   {
    "duration": 188,
    "start_time": "2022-11-04T10:11:34.523Z"
   },
   {
    "duration": 74,
    "start_time": "2022-11-04T10:11:34.713Z"
   },
   {
    "duration": 678,
    "start_time": "2022-11-04T10:11:34.789Z"
   },
   {
    "duration": 4,
    "start_time": "2022-11-04T10:12:16.246Z"
   },
   {
    "duration": 252,
    "start_time": "2022-11-04T10:12:16.256Z"
   },
   {
    "duration": 133,
    "start_time": "2022-11-04T10:12:16.510Z"
   },
   {
    "duration": 839,
    "start_time": "2022-11-04T10:12:16.644Z"
   },
   {
    "duration": 278,
    "start_time": "2022-11-04T10:12:17.486Z"
   },
   {
    "duration": 199,
    "start_time": "2022-11-04T10:12:17.766Z"
   },
   {
    "duration": 76,
    "start_time": "2022-11-04T10:12:17.967Z"
   },
   {
    "duration": 50,
    "start_time": "2022-11-04T10:12:18.045Z"
   },
   {
    "duration": 3,
    "start_time": "2022-11-04T10:12:28.079Z"
   },
   {
    "duration": 209,
    "start_time": "2022-11-04T10:12:28.085Z"
   },
   {
    "duration": 113,
    "start_time": "2022-11-04T10:12:28.296Z"
   },
   {
    "duration": 795,
    "start_time": "2022-11-04T10:12:28.411Z"
   },
   {
    "duration": 255,
    "start_time": "2022-11-04T10:12:29.209Z"
   },
   {
    "duration": 214,
    "start_time": "2022-11-04T10:12:29.467Z"
   },
   {
    "duration": 82,
    "start_time": "2022-11-04T10:12:29.686Z"
   },
   {
    "duration": 16,
    "start_time": "2022-11-04T10:12:29.771Z"
   },
   {
    "duration": 3,
    "start_time": "2022-11-04T10:15:00.246Z"
   },
   {
    "duration": 227,
    "start_time": "2022-11-04T10:15:00.254Z"
   },
   {
    "duration": 132,
    "start_time": "2022-11-04T10:15:00.483Z"
   },
   {
    "duration": 865,
    "start_time": "2022-11-04T10:15:00.617Z"
   },
   {
    "duration": 292,
    "start_time": "2022-11-04T10:15:01.484Z"
   },
   {
    "duration": 195,
    "start_time": "2022-11-04T10:15:01.778Z"
   },
   {
    "duration": 82,
    "start_time": "2022-11-04T10:15:01.976Z"
   },
   {
    "duration": 464,
    "start_time": "2022-11-04T10:15:02.060Z"
   },
   {
    "duration": 3,
    "start_time": "2022-11-04T10:15:31.347Z"
   },
   {
    "duration": 206,
    "start_time": "2022-11-04T10:15:31.353Z"
   },
   {
    "duration": 118,
    "start_time": "2022-11-04T10:15:31.561Z"
   },
   {
    "duration": 902,
    "start_time": "2022-11-04T10:15:31.681Z"
   },
   {
    "duration": 330,
    "start_time": "2022-11-04T10:15:32.586Z"
   },
   {
    "duration": 259,
    "start_time": "2022-11-04T10:15:32.918Z"
   },
   {
    "duration": 86,
    "start_time": "2022-11-04T10:15:33.179Z"
   },
   {
    "duration": 430,
    "start_time": "2022-11-04T10:15:33.267Z"
   },
   {
    "duration": 4,
    "start_time": "2022-11-04T10:15:51.413Z"
   },
   {
    "duration": 219,
    "start_time": "2022-11-04T10:15:51.419Z"
   },
   {
    "duration": 133,
    "start_time": "2022-11-04T10:15:51.640Z"
   },
   {
    "duration": 933,
    "start_time": "2022-11-04T10:15:51.774Z"
   },
   {
    "duration": 278,
    "start_time": "2022-11-04T10:15:52.709Z"
   },
   {
    "duration": 199,
    "start_time": "2022-11-04T10:15:52.989Z"
   },
   {
    "duration": 79,
    "start_time": "2022-11-04T10:15:53.190Z"
   },
   {
    "duration": 488,
    "start_time": "2022-11-04T10:15:53.270Z"
   },
   {
    "duration": 4,
    "start_time": "2022-11-04T10:18:03.777Z"
   },
   {
    "duration": 195,
    "start_time": "2022-11-04T10:18:03.783Z"
   },
   {
    "duration": 120,
    "start_time": "2022-11-04T10:18:03.980Z"
   },
   {
    "duration": 877,
    "start_time": "2022-11-04T10:18:04.102Z"
   },
   {
    "duration": 273,
    "start_time": "2022-11-04T10:18:04.982Z"
   },
   {
    "duration": 197,
    "start_time": "2022-11-04T10:18:05.257Z"
   },
   {
    "duration": 83,
    "start_time": "2022-11-04T10:18:05.456Z"
   },
   {
    "duration": 34,
    "start_time": "2022-11-04T10:18:05.541Z"
   },
   {
    "duration": 3,
    "start_time": "2022-11-04T10:18:27.810Z"
   },
   {
    "duration": 192,
    "start_time": "2022-11-04T10:18:27.818Z"
   },
   {
    "duration": 118,
    "start_time": "2022-11-04T10:18:28.013Z"
   },
   {
    "duration": 796,
    "start_time": "2022-11-04T10:18:28.133Z"
   },
   {
    "duration": 331,
    "start_time": "2022-11-04T10:18:28.931Z"
   },
   {
    "duration": 196,
    "start_time": "2022-11-04T10:18:29.264Z"
   },
   {
    "duration": 81,
    "start_time": "2022-11-04T10:18:29.462Z"
   },
   {
    "duration": 670,
    "start_time": "2022-11-04T10:18:29.545Z"
   },
   {
    "duration": 4,
    "start_time": "2022-11-04T10:18:53.028Z"
   },
   {
    "duration": 200,
    "start_time": "2022-11-04T10:18:53.034Z"
   },
   {
    "duration": 116,
    "start_time": "2022-11-04T10:18:53.236Z"
   },
   {
    "duration": 791,
    "start_time": "2022-11-04T10:18:53.354Z"
   },
   {
    "duration": 279,
    "start_time": "2022-11-04T10:18:54.148Z"
   },
   {
    "duration": 200,
    "start_time": "2022-11-04T10:18:54.433Z"
   },
   {
    "duration": 106,
    "start_time": "2022-11-04T10:18:54.636Z"
   },
   {
    "duration": 536,
    "start_time": "2022-11-04T10:18:54.743Z"
   },
   {
    "duration": 4,
    "start_time": "2022-11-04T10:19:17.714Z"
   },
   {
    "duration": 202,
    "start_time": "2022-11-04T10:19:17.724Z"
   },
   {
    "duration": 145,
    "start_time": "2022-11-04T10:19:17.929Z"
   },
   {
    "duration": 944,
    "start_time": "2022-11-04T10:19:18.076Z"
   },
   {
    "duration": 278,
    "start_time": "2022-11-04T10:19:19.021Z"
   },
   {
    "duration": 247,
    "start_time": "2022-11-04T10:19:19.303Z"
   },
   {
    "duration": 92,
    "start_time": "2022-11-04T10:19:19.552Z"
   },
   {
    "duration": 630,
    "start_time": "2022-11-04T10:19:19.646Z"
   },
   {
    "duration": 3,
    "start_time": "2022-11-04T10:24:05.200Z"
   },
   {
    "duration": 199,
    "start_time": "2022-11-04T10:24:05.207Z"
   },
   {
    "duration": 115,
    "start_time": "2022-11-04T10:24:05.408Z"
   },
   {
    "duration": 911,
    "start_time": "2022-11-04T10:24:05.525Z"
   },
   {
    "duration": 330,
    "start_time": "2022-11-04T10:24:06.439Z"
   },
   {
    "duration": 203,
    "start_time": "2022-11-04T10:24:06.771Z"
   },
   {
    "duration": 75,
    "start_time": "2022-11-04T10:24:06.976Z"
   },
   {
    "duration": 36,
    "start_time": "2022-11-04T10:24:07.053Z"
   },
   {
    "duration": 73,
    "start_time": "2022-11-04T10:24:52.166Z"
   },
   {
    "duration": 187,
    "start_time": "2022-11-04T10:24:52.241Z"
   },
   {
    "duration": 110,
    "start_time": "2022-11-04T10:24:52.430Z"
   },
   {
    "duration": 795,
    "start_time": "2022-11-04T10:24:52.543Z"
   },
   {
    "duration": 258,
    "start_time": "2022-11-04T10:24:53.340Z"
   },
   {
    "duration": 195,
    "start_time": "2022-11-04T10:24:53.600Z"
   },
   {
    "duration": 72,
    "start_time": "2022-11-04T10:24:53.797Z"
   },
   {
    "duration": 234,
    "start_time": "2022-11-04T10:24:53.871Z"
   },
   {
    "duration": 4,
    "start_time": "2022-11-04T10:25:09.719Z"
   },
   {
    "duration": 207,
    "start_time": "2022-11-04T10:25:09.725Z"
   },
   {
    "duration": 116,
    "start_time": "2022-11-04T10:25:09.934Z"
   },
   {
    "duration": 776,
    "start_time": "2022-11-04T10:25:10.052Z"
   },
   {
    "duration": 267,
    "start_time": "2022-11-04T10:25:10.830Z"
   },
   {
    "duration": 199,
    "start_time": "2022-11-04T10:25:11.099Z"
   },
   {
    "duration": 79,
    "start_time": "2022-11-04T10:25:11.300Z"
   },
   {
    "duration": 185,
    "start_time": "2022-11-04T10:25:11.381Z"
   },
   {
    "duration": 4,
    "start_time": "2022-11-04T10:29:50.434Z"
   },
   {
    "duration": 198,
    "start_time": "2022-11-04T10:29:50.440Z"
   },
   {
    "duration": 113,
    "start_time": "2022-11-04T10:29:50.640Z"
   },
   {
    "duration": 929,
    "start_time": "2022-11-04T10:29:50.755Z"
   },
   {
    "duration": 265,
    "start_time": "2022-11-04T10:29:51.686Z"
   },
   {
    "duration": 188,
    "start_time": "2022-11-04T10:29:51.953Z"
   },
   {
    "duration": 71,
    "start_time": "2022-11-04T10:29:52.143Z"
   },
   {
    "duration": 183,
    "start_time": "2022-11-04T10:29:52.217Z"
   },
   {
    "duration": 48,
    "start_time": "2022-11-04T10:29:52.403Z"
   },
   {
    "duration": 66,
    "start_time": "2022-11-04T10:29:52.453Z"
   },
   {
    "duration": 15,
    "start_time": "2022-11-04T10:29:52.532Z"
   },
   {
    "duration": 94,
    "start_time": "2022-11-04T10:29:52.549Z"
   },
   {
    "duration": 34,
    "start_time": "2022-11-04T10:29:52.645Z"
   },
   {
    "duration": 84,
    "start_time": "2022-11-04T10:29:52.681Z"
   },
   {
    "duration": 8,
    "start_time": "2022-11-04T10:29:52.767Z"
   },
   {
    "duration": 9,
    "start_time": "2022-11-04T10:29:52.776Z"
   },
   {
    "duration": 10,
    "start_time": "2022-11-04T10:29:52.787Z"
   },
   {
    "duration": 35,
    "start_time": "2022-11-04T10:29:52.799Z"
   },
   {
    "duration": 13,
    "start_time": "2022-11-04T10:29:52.836Z"
   },
   {
    "duration": 21,
    "start_time": "2022-11-04T10:29:52.851Z"
   },
   {
    "duration": 4,
    "start_time": "2022-11-04T10:32:00.130Z"
   },
   {
    "duration": 217,
    "start_time": "2022-11-04T10:32:00.137Z"
   },
   {
    "duration": 123,
    "start_time": "2022-11-04T10:32:00.357Z"
   },
   {
    "duration": 909,
    "start_time": "2022-11-04T10:32:00.482Z"
   },
   {
    "duration": 311,
    "start_time": "2022-11-04T10:32:01.394Z"
   },
   {
    "duration": 242,
    "start_time": "2022-11-04T10:32:01.707Z"
   },
   {
    "duration": 67,
    "start_time": "2022-11-04T10:32:01.950Z"
   },
   {
    "duration": 174,
    "start_time": "2022-11-04T10:32:02.033Z"
   },
   {
    "duration": 201,
    "start_time": "2022-11-04T10:32:02.209Z"
   },
   {
    "duration": 4,
    "start_time": "2022-11-04T10:34:14.690Z"
   },
   {
    "duration": 221,
    "start_time": "2022-11-04T10:34:14.698Z"
   },
   {
    "duration": 119,
    "start_time": "2022-11-04T10:34:14.921Z"
   },
   {
    "duration": 840,
    "start_time": "2022-11-04T10:34:15.041Z"
   },
   {
    "duration": 285,
    "start_time": "2022-11-04T10:34:15.883Z"
   },
   {
    "duration": 244,
    "start_time": "2022-11-04T10:34:16.170Z"
   },
   {
    "duration": 91,
    "start_time": "2022-11-04T10:34:16.417Z"
   },
   {
    "duration": 184,
    "start_time": "2022-11-04T10:34:16.510Z"
   },
   {
    "duration": 189,
    "start_time": "2022-11-04T10:34:16.696Z"
   },
   {
    "duration": 267,
    "start_time": "2022-11-04T10:34:16.886Z"
   },
   {
    "duration": 3,
    "start_time": "2022-11-04T10:34:53.874Z"
   },
   {
    "duration": 206,
    "start_time": "2022-11-04T10:34:53.880Z"
   },
   {
    "duration": 115,
    "start_time": "2022-11-04T10:34:54.088Z"
   },
   {
    "duration": 774,
    "start_time": "2022-11-04T10:34:54.206Z"
   },
   {
    "duration": 268,
    "start_time": "2022-11-04T10:34:54.982Z"
   },
   {
    "duration": 194,
    "start_time": "2022-11-04T10:34:55.252Z"
   },
   {
    "duration": 69,
    "start_time": "2022-11-04T10:34:55.448Z"
   },
   {
    "duration": 182,
    "start_time": "2022-11-04T10:34:55.519Z"
   },
   {
    "duration": 189,
    "start_time": "2022-11-04T10:34:55.702Z"
   },
   {
    "duration": 70,
    "start_time": "2022-11-04T10:34:55.893Z"
   },
   {
    "duration": 4,
    "start_time": "2022-11-04T10:36:40.168Z"
   },
   {
    "duration": 199,
    "start_time": "2022-11-04T10:36:40.174Z"
   },
   {
    "duration": 114,
    "start_time": "2022-11-04T10:36:40.375Z"
   },
   {
    "duration": 842,
    "start_time": "2022-11-04T10:36:40.491Z"
   },
   {
    "duration": 267,
    "start_time": "2022-11-04T10:36:41.336Z"
   },
   {
    "duration": 231,
    "start_time": "2022-11-04T10:36:41.605Z"
   },
   {
    "duration": 69,
    "start_time": "2022-11-04T10:36:41.838Z"
   },
   {
    "duration": 176,
    "start_time": "2022-11-04T10:36:41.909Z"
   },
   {
    "duration": 196,
    "start_time": "2022-11-04T10:36:42.087Z"
   },
   {
    "duration": 222,
    "start_time": "2022-11-04T10:36:42.286Z"
   },
   {
    "duration": 4,
    "start_time": "2022-11-04T10:37:08.286Z"
   },
   {
    "duration": 205,
    "start_time": "2022-11-04T10:37:08.292Z"
   },
   {
    "duration": 126,
    "start_time": "2022-11-04T10:37:08.499Z"
   },
   {
    "duration": 881,
    "start_time": "2022-11-04T10:37:08.628Z"
   },
   {
    "duration": 277,
    "start_time": "2022-11-04T10:37:09.510Z"
   },
   {
    "duration": 202,
    "start_time": "2022-11-04T10:37:09.790Z"
   },
   {
    "duration": 85,
    "start_time": "2022-11-04T10:37:09.994Z"
   },
   {
    "duration": 195,
    "start_time": "2022-11-04T10:37:10.082Z"
   },
   {
    "duration": 201,
    "start_time": "2022-11-04T10:37:10.280Z"
   },
   {
    "duration": 213,
    "start_time": "2022-11-04T10:37:10.483Z"
   },
   {
    "duration": 3,
    "start_time": "2022-11-04T10:37:37.741Z"
   },
   {
    "duration": 218,
    "start_time": "2022-11-04T10:37:37.747Z"
   },
   {
    "duration": 112,
    "start_time": "2022-11-04T10:37:37.966Z"
   },
   {
    "duration": 817,
    "start_time": "2022-11-04T10:37:38.080Z"
   },
   {
    "duration": 330,
    "start_time": "2022-11-04T10:37:38.899Z"
   },
   {
    "duration": 207,
    "start_time": "2022-11-04T10:37:39.234Z"
   },
   {
    "duration": 66,
    "start_time": "2022-11-04T10:37:39.443Z"
   },
   {
    "duration": 200,
    "start_time": "2022-11-04T10:37:39.511Z"
   },
   {
    "duration": 272,
    "start_time": "2022-11-04T10:37:39.715Z"
   },
   {
    "duration": 232,
    "start_time": "2022-11-04T10:37:39.989Z"
   },
   {
    "duration": 23,
    "start_time": "2022-11-04T10:37:40.223Z"
   },
   {
    "duration": 87,
    "start_time": "2022-11-04T10:37:40.248Z"
   },
   {
    "duration": 33,
    "start_time": "2022-11-04T10:37:40.337Z"
   },
   {
    "duration": 80,
    "start_time": "2022-11-04T10:37:40.372Z"
   },
   {
    "duration": 8,
    "start_time": "2022-11-04T10:37:40.454Z"
   },
   {
    "duration": 12,
    "start_time": "2022-11-04T10:37:40.463Z"
   },
   {
    "duration": 25,
    "start_time": "2022-11-04T10:37:40.477Z"
   },
   {
    "duration": 22,
    "start_time": "2022-11-04T10:37:40.504Z"
   },
   {
    "duration": 14,
    "start_time": "2022-11-04T10:37:40.528Z"
   },
   {
    "duration": 12,
    "start_time": "2022-11-04T10:37:40.543Z"
   },
   {
    "duration": 44,
    "start_time": "2022-11-04T10:53:03.881Z"
   },
   {
    "duration": 4,
    "start_time": "2022-11-04T10:53:35.512Z"
   },
   {
    "duration": 207,
    "start_time": "2022-11-04T10:53:35.518Z"
   },
   {
    "duration": 123,
    "start_time": "2022-11-04T10:53:35.727Z"
   },
   {
    "duration": 980,
    "start_time": "2022-11-04T10:53:35.852Z"
   },
   {
    "duration": 275,
    "start_time": "2022-11-04T10:53:36.834Z"
   },
   {
    "duration": 249,
    "start_time": "2022-11-04T10:53:37.111Z"
   },
   {
    "duration": 77,
    "start_time": "2022-11-04T10:53:37.361Z"
   },
   {
    "duration": 185,
    "start_time": "2022-11-04T10:53:37.440Z"
   },
   {
    "duration": 185,
    "start_time": "2022-11-04T10:53:37.627Z"
   },
   {
    "duration": 262,
    "start_time": "2022-11-04T10:53:37.814Z"
   },
   {
    "duration": 12,
    "start_time": "2022-11-04T10:53:38.079Z"
   },
   {
    "duration": 96,
    "start_time": "2022-11-04T10:53:38.093Z"
   },
   {
    "duration": 48,
    "start_time": "2022-11-04T10:53:38.190Z"
   },
   {
    "duration": 57,
    "start_time": "2022-11-04T10:53:38.241Z"
   },
   {
    "duration": 8,
    "start_time": "2022-11-04T10:53:38.301Z"
   },
   {
    "duration": 28,
    "start_time": "2022-11-04T10:53:38.311Z"
   },
   {
    "duration": 56,
    "start_time": "2022-11-04T10:53:38.341Z"
   },
   {
    "duration": 4,
    "start_time": "2022-11-04T10:53:53.842Z"
   },
   {
    "duration": 186,
    "start_time": "2022-11-04T10:53:53.849Z"
   },
   {
    "duration": 111,
    "start_time": "2022-11-04T10:53:54.038Z"
   },
   {
    "duration": 785,
    "start_time": "2022-11-04T10:53:54.151Z"
   },
   {
    "duration": 319,
    "start_time": "2022-11-04T10:53:54.939Z"
   },
   {
    "duration": 188,
    "start_time": "2022-11-04T10:53:55.260Z"
   },
   {
    "duration": 67,
    "start_time": "2022-11-04T10:53:55.450Z"
   },
   {
    "duration": 174,
    "start_time": "2022-11-04T10:53:55.519Z"
   },
   {
    "duration": 196,
    "start_time": "2022-11-04T10:53:55.695Z"
   },
   {
    "duration": 287,
    "start_time": "2022-11-04T10:53:55.893Z"
   },
   {
    "duration": 15,
    "start_time": "2022-11-04T10:53:56.183Z"
   },
   {
    "duration": 98,
    "start_time": "2022-11-04T10:53:56.200Z"
   },
   {
    "duration": 51,
    "start_time": "2022-11-04T10:53:56.300Z"
   },
   {
    "duration": 80,
    "start_time": "2022-11-04T10:53:56.353Z"
   },
   {
    "duration": 10,
    "start_time": "2022-11-04T10:53:56.436Z"
   },
   {
    "duration": 13,
    "start_time": "2022-11-04T10:53:56.448Z"
   },
   {
    "duration": 49,
    "start_time": "2022-11-04T10:53:56.464Z"
   },
   {
    "duration": 4,
    "start_time": "2022-11-04T10:54:10.353Z"
   },
   {
    "duration": 184,
    "start_time": "2022-11-04T10:54:10.361Z"
   },
   {
    "duration": 109,
    "start_time": "2022-11-04T10:54:10.547Z"
   },
   {
    "duration": 785,
    "start_time": "2022-11-04T10:54:10.658Z"
   },
   {
    "duration": 278,
    "start_time": "2022-11-04T10:54:11.445Z"
   },
   {
    "duration": 196,
    "start_time": "2022-11-04T10:54:11.725Z"
   },
   {
    "duration": 71,
    "start_time": "2022-11-04T10:54:11.923Z"
   },
   {
    "duration": 170,
    "start_time": "2022-11-04T10:54:11.996Z"
   },
   {
    "duration": 202,
    "start_time": "2022-11-04T10:54:12.168Z"
   },
   {
    "duration": 289,
    "start_time": "2022-11-04T10:54:12.371Z"
   },
   {
    "duration": 11,
    "start_time": "2022-11-04T10:54:12.662Z"
   },
   {
    "duration": 88,
    "start_time": "2022-11-04T10:54:12.675Z"
   },
   {
    "duration": 32,
    "start_time": "2022-11-04T10:54:12.764Z"
   },
   {
    "duration": 79,
    "start_time": "2022-11-04T10:54:12.797Z"
   },
   {
    "duration": 8,
    "start_time": "2022-11-04T10:54:12.878Z"
   },
   {
    "duration": 8,
    "start_time": "2022-11-04T10:54:12.887Z"
   },
   {
    "duration": 8,
    "start_time": "2022-11-04T10:54:12.897Z"
   },
   {
    "duration": 1281,
    "start_time": "2022-11-05T07:45:00.885Z"
   },
   {
    "duration": 1165,
    "start_time": "2022-11-05T07:45:02.168Z"
   },
   {
    "duration": 119,
    "start_time": "2022-11-05T07:45:03.335Z"
   },
   {
    "duration": 710,
    "start_time": "2022-11-05T07:45:03.456Z"
   },
   {
    "duration": 401,
    "start_time": "2022-11-05T07:45:04.168Z"
   },
   {
    "duration": 178,
    "start_time": "2022-11-05T07:45:04.571Z"
   },
   {
    "duration": 86,
    "start_time": "2022-11-05T07:45:04.750Z"
   },
   {
    "duration": 146,
    "start_time": "2022-11-05T07:45:04.837Z"
   },
   {
    "duration": 175,
    "start_time": "2022-11-05T07:45:04.985Z"
   },
   {
    "duration": 190,
    "start_time": "2022-11-05T07:45:05.162Z"
   },
   {
    "duration": 14,
    "start_time": "2022-11-05T07:45:05.353Z"
   },
   {
    "duration": 76,
    "start_time": "2022-11-05T07:45:05.369Z"
   },
   {
    "duration": 25,
    "start_time": "2022-11-05T07:45:05.447Z"
   },
   {
    "duration": 66,
    "start_time": "2022-11-05T07:45:05.473Z"
   },
   {
    "duration": 10,
    "start_time": "2022-11-05T07:45:05.541Z"
   },
   {
    "duration": 22,
    "start_time": "2022-11-05T07:45:05.553Z"
   },
   {
    "duration": 15,
    "start_time": "2022-11-05T07:45:05.576Z"
   },
   {
    "duration": 114,
    "start_time": "2022-11-05T07:45:05.593Z"
   },
   {
    "duration": 0,
    "start_time": "2022-11-05T07:45:05.709Z"
   },
   {
    "duration": 0,
    "start_time": "2022-11-05T07:45:05.710Z"
   },
   {
    "duration": 4,
    "start_time": "2022-11-05T07:46:27.847Z"
   },
   {
    "duration": 181,
    "start_time": "2022-11-05T07:46:27.853Z"
   },
   {
    "duration": 111,
    "start_time": "2022-11-05T07:46:28.036Z"
   },
   {
    "duration": 806,
    "start_time": "2022-11-05T07:46:28.149Z"
   },
   {
    "duration": 245,
    "start_time": "2022-11-05T07:46:28.957Z"
   },
   {
    "duration": 167,
    "start_time": "2022-11-05T07:46:29.203Z"
   },
   {
    "duration": 75,
    "start_time": "2022-11-05T07:46:29.372Z"
   },
   {
    "duration": 141,
    "start_time": "2022-11-05T07:46:29.449Z"
   },
   {
    "duration": 172,
    "start_time": "2022-11-05T07:46:29.592Z"
   },
   {
    "duration": 194,
    "start_time": "2022-11-05T07:46:29.765Z"
   },
   {
    "duration": 9,
    "start_time": "2022-11-05T07:46:29.961Z"
   },
   {
    "duration": 71,
    "start_time": "2022-11-05T07:46:29.971Z"
   },
   {
    "duration": 28,
    "start_time": "2022-11-05T07:46:30.043Z"
   },
   {
    "duration": 62,
    "start_time": "2022-11-05T07:46:30.072Z"
   },
   {
    "duration": 6,
    "start_time": "2022-11-05T07:46:30.136Z"
   },
   {
    "duration": 26,
    "start_time": "2022-11-05T07:46:30.143Z"
   },
   {
    "duration": 26,
    "start_time": "2022-11-05T07:46:30.171Z"
   },
   {
    "duration": 44,
    "start_time": "2022-11-05T07:46:30.198Z"
   },
   {
    "duration": 0,
    "start_time": "2022-11-05T07:46:30.243Z"
   },
   {
    "duration": 0,
    "start_time": "2022-11-05T07:46:30.244Z"
   },
   {
    "duration": 4,
    "start_time": "2022-11-05T07:48:11.312Z"
   },
   {
    "duration": 193,
    "start_time": "2022-11-05T07:48:11.319Z"
   },
   {
    "duration": 130,
    "start_time": "2022-11-05T07:48:11.515Z"
   },
   {
    "duration": 713,
    "start_time": "2022-11-05T07:48:11.647Z"
   },
   {
    "duration": 239,
    "start_time": "2022-11-05T07:48:12.363Z"
   },
   {
    "duration": 171,
    "start_time": "2022-11-05T07:48:12.604Z"
   },
   {
    "duration": 79,
    "start_time": "2022-11-05T07:48:12.776Z"
   },
   {
    "duration": 143,
    "start_time": "2022-11-05T07:48:12.857Z"
   },
   {
    "duration": 177,
    "start_time": "2022-11-05T07:48:13.002Z"
   },
   {
    "duration": 247,
    "start_time": "2022-11-05T07:48:13.181Z"
   },
   {
    "duration": 11,
    "start_time": "2022-11-05T07:48:13.431Z"
   },
   {
    "duration": 58,
    "start_time": "2022-11-05T07:48:13.444Z"
   },
   {
    "duration": 27,
    "start_time": "2022-11-05T07:48:13.522Z"
   },
   {
    "duration": 55,
    "start_time": "2022-11-05T07:48:13.551Z"
   },
   {
    "duration": 6,
    "start_time": "2022-11-05T07:48:13.622Z"
   },
   {
    "duration": 8,
    "start_time": "2022-11-05T07:48:13.630Z"
   },
   {
    "duration": 7,
    "start_time": "2022-11-05T07:48:13.640Z"
   },
   {
    "duration": 26,
    "start_time": "2022-11-05T07:48:13.649Z"
   },
   {
    "duration": 0,
    "start_time": "2022-11-05T07:48:13.676Z"
   },
   {
    "duration": 0,
    "start_time": "2022-11-05T07:48:13.678Z"
   },
   {
    "duration": 3,
    "start_time": "2022-11-05T07:50:46.421Z"
   },
   {
    "duration": 174,
    "start_time": "2022-11-05T07:50:46.426Z"
   },
   {
    "duration": 106,
    "start_time": "2022-11-05T07:50:46.602Z"
   },
   {
    "duration": 681,
    "start_time": "2022-11-05T07:50:46.709Z"
   },
   {
    "duration": 297,
    "start_time": "2022-11-05T07:50:47.392Z"
   },
   {
    "duration": 198,
    "start_time": "2022-11-05T07:50:47.690Z"
   },
   {
    "duration": 71,
    "start_time": "2022-11-05T07:50:47.890Z"
   },
   {
    "duration": 141,
    "start_time": "2022-11-05T07:50:47.962Z"
   },
   {
    "duration": 168,
    "start_time": "2022-11-05T07:50:48.105Z"
   },
   {
    "duration": 243,
    "start_time": "2022-11-05T07:50:48.274Z"
   },
   {
    "duration": 9,
    "start_time": "2022-11-05T07:50:48.521Z"
   },
   {
    "duration": 57,
    "start_time": "2022-11-05T07:50:48.532Z"
   },
   {
    "duration": 47,
    "start_time": "2022-11-05T07:50:48.591Z"
   },
   {
    "duration": 50,
    "start_time": "2022-11-05T07:50:48.639Z"
   },
   {
    "duration": 7,
    "start_time": "2022-11-05T07:50:48.691Z"
   },
   {
    "duration": 25,
    "start_time": "2022-11-05T07:50:48.700Z"
   },
   {
    "duration": 9,
    "start_time": "2022-11-05T07:50:48.727Z"
   },
   {
    "duration": 26,
    "start_time": "2022-11-05T07:50:48.737Z"
   },
   {
    "duration": 0,
    "start_time": "2022-11-05T07:50:48.765Z"
   },
   {
    "duration": 0,
    "start_time": "2022-11-05T07:50:48.766Z"
   },
   {
    "duration": 4,
    "start_time": "2022-11-05T07:52:19.143Z"
   },
   {
    "duration": 174,
    "start_time": "2022-11-05T07:52:19.148Z"
   },
   {
    "duration": 111,
    "start_time": "2022-11-05T07:52:19.325Z"
   },
   {
    "duration": 685,
    "start_time": "2022-11-05T07:52:19.438Z"
   },
   {
    "duration": 264,
    "start_time": "2022-11-05T07:52:20.125Z"
   },
   {
    "duration": 174,
    "start_time": "2022-11-05T07:52:20.391Z"
   },
   {
    "duration": 76,
    "start_time": "2022-11-05T07:52:20.567Z"
   },
   {
    "duration": 161,
    "start_time": "2022-11-05T07:52:20.645Z"
   },
   {
    "duration": 173,
    "start_time": "2022-11-05T07:52:20.808Z"
   },
   {
    "duration": 255,
    "start_time": "2022-11-05T07:52:20.982Z"
   },
   {
    "duration": 10,
    "start_time": "2022-11-05T07:52:21.239Z"
   },
   {
    "duration": 71,
    "start_time": "2022-11-05T07:52:21.250Z"
   },
   {
    "duration": 27,
    "start_time": "2022-11-05T07:52:21.323Z"
   },
   {
    "duration": 49,
    "start_time": "2022-11-05T07:52:21.351Z"
   },
   {
    "duration": 26,
    "start_time": "2022-11-05T07:52:21.401Z"
   },
   {
    "duration": 8,
    "start_time": "2022-11-05T07:52:21.429Z"
   },
   {
    "duration": 19,
    "start_time": "2022-11-05T07:52:21.439Z"
   },
   {
    "duration": 18,
    "start_time": "2022-11-05T07:52:21.459Z"
   },
   {
    "duration": 22,
    "start_time": "2022-11-05T07:52:21.478Z"
   },
   {
    "duration": 16,
    "start_time": "2022-11-05T07:52:21.502Z"
   },
   {
    "duration": 3,
    "start_time": "2022-11-05T08:01:52.700Z"
   },
   {
    "duration": 171,
    "start_time": "2022-11-05T08:01:52.705Z"
   },
   {
    "duration": 102,
    "start_time": "2022-11-05T08:01:52.878Z"
   },
   {
    "duration": 722,
    "start_time": "2022-11-05T08:01:52.982Z"
   },
   {
    "duration": 255,
    "start_time": "2022-11-05T08:01:53.707Z"
   },
   {
    "duration": 178,
    "start_time": "2022-11-05T08:01:53.964Z"
   },
   {
    "duration": 78,
    "start_time": "2022-11-05T08:01:54.144Z"
   },
   {
    "duration": 166,
    "start_time": "2022-11-05T08:01:54.224Z"
   },
   {
    "duration": 168,
    "start_time": "2022-11-05T08:01:54.392Z"
   },
   {
    "duration": 244,
    "start_time": "2022-11-05T08:01:54.562Z"
   },
   {
    "duration": 17,
    "start_time": "2022-11-05T08:01:54.808Z"
   },
   {
    "duration": 61,
    "start_time": "2022-11-05T08:01:54.827Z"
   },
   {
    "duration": 45,
    "start_time": "2022-11-05T08:01:54.890Z"
   },
   {
    "duration": 50,
    "start_time": "2022-11-05T08:01:54.936Z"
   },
   {
    "duration": 6,
    "start_time": "2022-11-05T08:01:54.988Z"
   },
   {
    "duration": 26,
    "start_time": "2022-11-05T08:01:54.996Z"
   },
   {
    "duration": 13,
    "start_time": "2022-11-05T08:01:55.024Z"
   },
   {
    "duration": 8,
    "start_time": "2022-11-05T08:01:55.039Z"
   },
   {
    "duration": 13,
    "start_time": "2022-11-05T08:01:55.049Z"
   },
   {
    "duration": 13,
    "start_time": "2022-11-05T08:01:55.063Z"
   },
   {
    "duration": 13,
    "start_time": "2022-11-05T08:01:55.078Z"
   },
   {
    "duration": 4,
    "start_time": "2022-11-05T08:03:39.121Z"
   },
   {
    "duration": 177,
    "start_time": "2022-11-05T08:03:39.128Z"
   },
   {
    "duration": 116,
    "start_time": "2022-11-05T08:03:39.307Z"
   },
   {
    "duration": 750,
    "start_time": "2022-11-05T08:03:39.425Z"
   },
   {
    "duration": 259,
    "start_time": "2022-11-05T08:03:40.178Z"
   },
   {
    "duration": 199,
    "start_time": "2022-11-05T08:03:40.439Z"
   },
   {
    "duration": 70,
    "start_time": "2022-11-05T08:03:40.640Z"
   },
   {
    "duration": 161,
    "start_time": "2022-11-05T08:03:40.723Z"
   },
   {
    "duration": 189,
    "start_time": "2022-11-05T08:03:40.885Z"
   },
   {
    "duration": 273,
    "start_time": "2022-11-05T08:03:41.076Z"
   },
   {
    "duration": 12,
    "start_time": "2022-11-05T08:03:41.352Z"
   },
   {
    "duration": 97,
    "start_time": "2022-11-05T08:03:41.365Z"
   },
   {
    "duration": 35,
    "start_time": "2022-11-05T08:03:41.464Z"
   },
   {
    "duration": 70,
    "start_time": "2022-11-05T08:03:41.501Z"
   },
   {
    "duration": 7,
    "start_time": "2022-11-05T08:03:41.573Z"
   },
   {
    "duration": 26,
    "start_time": "2022-11-05T08:03:41.581Z"
   },
   {
    "duration": 38,
    "start_time": "2022-11-05T08:03:41.609Z"
   },
   {
    "duration": 24,
    "start_time": "2022-11-05T08:03:41.649Z"
   },
   {
    "duration": 30,
    "start_time": "2022-11-05T08:03:41.675Z"
   },
   {
    "duration": 51,
    "start_time": "2022-11-05T08:03:41.707Z"
   },
   {
    "duration": 14,
    "start_time": "2022-11-05T08:03:41.760Z"
   },
   {
    "duration": 4,
    "start_time": "2022-11-05T08:07:06.488Z"
   },
   {
    "duration": 177,
    "start_time": "2022-11-05T08:07:06.493Z"
   },
   {
    "duration": 106,
    "start_time": "2022-11-05T08:07:06.672Z"
   },
   {
    "duration": 742,
    "start_time": "2022-11-05T08:07:06.780Z"
   },
   {
    "duration": 252,
    "start_time": "2022-11-05T08:07:07.524Z"
   },
   {
    "duration": 208,
    "start_time": "2022-11-05T08:07:07.778Z"
   },
   {
    "duration": 77,
    "start_time": "2022-11-05T08:07:07.987Z"
   },
   {
    "duration": 150,
    "start_time": "2022-11-05T08:07:08.066Z"
   },
   {
    "duration": 197,
    "start_time": "2022-11-05T08:07:08.218Z"
   },
   {
    "duration": 283,
    "start_time": "2022-11-05T08:07:08.422Z"
   },
   {
    "duration": 27,
    "start_time": "2022-11-05T08:07:08.709Z"
   },
   {
    "duration": 86,
    "start_time": "2022-11-05T08:07:08.737Z"
   },
   {
    "duration": 31,
    "start_time": "2022-11-05T08:07:08.825Z"
   },
   {
    "duration": 69,
    "start_time": "2022-11-05T08:07:08.858Z"
   },
   {
    "duration": 1138,
    "start_time": "2022-11-05T08:07:08.929Z"
   },
   {
    "duration": 0,
    "start_time": "2022-11-05T08:07:10.068Z"
   },
   {
    "duration": 0,
    "start_time": "2022-11-05T08:07:10.070Z"
   },
   {
    "duration": 0,
    "start_time": "2022-11-05T08:07:10.071Z"
   },
   {
    "duration": 0,
    "start_time": "2022-11-05T08:07:10.072Z"
   },
   {
    "duration": 0,
    "start_time": "2022-11-05T08:07:10.073Z"
   },
   {
    "duration": 0,
    "start_time": "2022-11-05T08:07:10.074Z"
   },
   {
    "duration": 3,
    "start_time": "2022-11-05T08:07:38.300Z"
   },
   {
    "duration": 171,
    "start_time": "2022-11-05T08:07:38.307Z"
   },
   {
    "duration": 97,
    "start_time": "2022-11-05T08:07:38.480Z"
   },
   {
    "duration": 727,
    "start_time": "2022-11-05T08:07:38.578Z"
   },
   {
    "duration": 287,
    "start_time": "2022-11-05T08:07:39.307Z"
   },
   {
    "duration": 194,
    "start_time": "2022-11-05T08:07:39.595Z"
   },
   {
    "duration": 75,
    "start_time": "2022-11-05T08:07:39.790Z"
   },
   {
    "duration": 161,
    "start_time": "2022-11-05T08:07:39.866Z"
   },
   {
    "duration": 183,
    "start_time": "2022-11-05T08:07:40.028Z"
   },
   {
    "duration": 209,
    "start_time": "2022-11-05T08:07:40.213Z"
   },
   {
    "duration": 13,
    "start_time": "2022-11-05T08:07:40.424Z"
   },
   {
    "duration": 84,
    "start_time": "2022-11-05T08:07:40.438Z"
   },
   {
    "duration": 35,
    "start_time": "2022-11-05T08:07:40.524Z"
   },
   {
    "duration": 78,
    "start_time": "2022-11-05T08:07:40.560Z"
   },
   {
    "duration": 7,
    "start_time": "2022-11-05T08:07:40.640Z"
   },
   {
    "duration": 31,
    "start_time": "2022-11-05T08:07:40.648Z"
   },
   {
    "duration": 25,
    "start_time": "2022-11-05T08:07:40.681Z"
   },
   {
    "duration": 33,
    "start_time": "2022-11-05T08:07:40.708Z"
   },
   {
    "duration": 54,
    "start_time": "2022-11-05T08:07:40.743Z"
   },
   {
    "duration": 31,
    "start_time": "2022-11-05T08:07:40.799Z"
   },
   {
    "duration": 19,
    "start_time": "2022-11-05T08:07:40.832Z"
   },
   {
    "duration": 3,
    "start_time": "2022-11-05T08:08:29.211Z"
   },
   {
    "duration": 172,
    "start_time": "2022-11-05T08:08:29.219Z"
   },
   {
    "duration": 104,
    "start_time": "2022-11-05T08:08:29.393Z"
   },
   {
    "duration": 784,
    "start_time": "2022-11-05T08:08:29.499Z"
   },
   {
    "duration": 278,
    "start_time": "2022-11-05T08:08:30.285Z"
   },
   {
    "duration": 172,
    "start_time": "2022-11-05T08:08:30.564Z"
   },
   {
    "duration": 66,
    "start_time": "2022-11-05T08:08:30.739Z"
   },
   {
    "duration": 165,
    "start_time": "2022-11-05T08:08:30.806Z"
   },
   {
    "duration": 182,
    "start_time": "2022-11-05T08:08:30.972Z"
   },
   {
    "duration": 185,
    "start_time": "2022-11-05T08:08:31.156Z"
   },
   {
    "duration": 11,
    "start_time": "2022-11-05T08:08:31.344Z"
   },
   {
    "duration": 104,
    "start_time": "2022-11-05T08:08:31.357Z"
   },
   {
    "duration": 27,
    "start_time": "2022-11-05T08:08:31.462Z"
   },
   {
    "duration": 75,
    "start_time": "2022-11-05T08:08:31.490Z"
   },
   {
    "duration": 1132,
    "start_time": "2022-11-05T08:08:31.567Z"
   },
   {
    "duration": 0,
    "start_time": "2022-11-05T08:08:32.701Z"
   },
   {
    "duration": 0,
    "start_time": "2022-11-05T08:08:32.702Z"
   },
   {
    "duration": 0,
    "start_time": "2022-11-05T08:08:32.704Z"
   },
   {
    "duration": 0,
    "start_time": "2022-11-05T08:08:32.705Z"
   },
   {
    "duration": 0,
    "start_time": "2022-11-05T08:08:32.706Z"
   },
   {
    "duration": 0,
    "start_time": "2022-11-05T08:08:32.708Z"
   },
   {
    "duration": 3,
    "start_time": "2022-11-05T08:09:21.370Z"
   },
   {
    "duration": 192,
    "start_time": "2022-11-05T08:09:21.375Z"
   },
   {
    "duration": 98,
    "start_time": "2022-11-05T08:09:21.568Z"
   },
   {
    "duration": 759,
    "start_time": "2022-11-05T08:09:21.668Z"
   },
   {
    "duration": 239,
    "start_time": "2022-11-05T08:09:22.429Z"
   },
   {
    "duration": 170,
    "start_time": "2022-11-05T08:09:22.670Z"
   },
   {
    "duration": 63,
    "start_time": "2022-11-05T08:09:22.842Z"
   },
   {
    "duration": 149,
    "start_time": "2022-11-05T08:09:22.907Z"
   },
   {
    "duration": 165,
    "start_time": "2022-11-05T08:09:23.057Z"
   },
   {
    "duration": 188,
    "start_time": "2022-11-05T08:09:23.224Z"
   },
   {
    "duration": 13,
    "start_time": "2022-11-05T08:09:23.414Z"
   },
   {
    "duration": 62,
    "start_time": "2022-11-05T08:09:23.428Z"
   },
   {
    "duration": 41,
    "start_time": "2022-11-05T08:09:23.492Z"
   },
   {
    "duration": 49,
    "start_time": "2022-11-05T08:09:23.534Z"
   },
   {
    "duration": 1168,
    "start_time": "2022-11-05T08:09:23.585Z"
   },
   {
    "duration": 0,
    "start_time": "2022-11-05T08:09:24.754Z"
   },
   {
    "duration": 0,
    "start_time": "2022-11-05T08:09:24.755Z"
   },
   {
    "duration": 0,
    "start_time": "2022-11-05T08:09:24.756Z"
   },
   {
    "duration": 0,
    "start_time": "2022-11-05T08:09:24.757Z"
   },
   {
    "duration": 0,
    "start_time": "2022-11-05T08:09:24.758Z"
   },
   {
    "duration": 0,
    "start_time": "2022-11-05T08:09:24.759Z"
   },
   {
    "duration": 3,
    "start_time": "2022-11-05T08:10:31.355Z"
   },
   {
    "duration": 208,
    "start_time": "2022-11-05T08:10:31.362Z"
   },
   {
    "duration": 94,
    "start_time": "2022-11-05T08:10:31.572Z"
   },
   {
    "duration": 753,
    "start_time": "2022-11-05T08:10:31.668Z"
   },
   {
    "duration": 236,
    "start_time": "2022-11-05T08:10:32.424Z"
   },
   {
    "duration": 170,
    "start_time": "2022-11-05T08:10:32.662Z"
   },
   {
    "duration": 65,
    "start_time": "2022-11-05T08:10:32.834Z"
   },
   {
    "duration": 157,
    "start_time": "2022-11-05T08:10:32.900Z"
   },
   {
    "duration": 159,
    "start_time": "2022-11-05T08:10:33.058Z"
   },
   {
    "duration": 183,
    "start_time": "2022-11-05T08:10:33.218Z"
   },
   {
    "duration": 18,
    "start_time": "2022-11-05T08:10:33.403Z"
   },
   {
    "duration": 65,
    "start_time": "2022-11-05T08:10:33.423Z"
   },
   {
    "duration": 39,
    "start_time": "2022-11-05T08:10:33.490Z"
   },
   {
    "duration": 51,
    "start_time": "2022-11-05T08:10:33.531Z"
   },
   {
    "duration": 10,
    "start_time": "2022-11-05T08:10:33.583Z"
   },
   {
    "duration": 30,
    "start_time": "2022-11-05T08:10:33.595Z"
   },
   {
    "duration": 0,
    "start_time": "2022-11-05T08:10:33.627Z"
   },
   {
    "duration": 0,
    "start_time": "2022-11-05T08:10:33.628Z"
   },
   {
    "duration": 0,
    "start_time": "2022-11-05T08:10:33.628Z"
   },
   {
    "duration": 0,
    "start_time": "2022-11-05T08:10:33.629Z"
   },
   {
    "duration": 0,
    "start_time": "2022-11-05T08:10:33.630Z"
   },
   {
    "duration": 3,
    "start_time": "2022-11-05T08:19:31.461Z"
   },
   {
    "duration": 171,
    "start_time": "2022-11-05T08:19:31.466Z"
   },
   {
    "duration": 104,
    "start_time": "2022-11-05T08:19:31.639Z"
   },
   {
    "duration": 681,
    "start_time": "2022-11-05T08:19:31.744Z"
   },
   {
    "duration": 260,
    "start_time": "2022-11-05T08:19:32.427Z"
   },
   {
    "duration": 163,
    "start_time": "2022-11-05T08:19:32.688Z"
   },
   {
    "duration": 230,
    "start_time": "2022-11-05T08:19:32.853Z"
   },
   {
    "duration": 140,
    "start_time": "2022-11-05T08:19:33.085Z"
   },
   {
    "duration": 168,
    "start_time": "2022-11-05T08:19:33.227Z"
   },
   {
    "duration": 185,
    "start_time": "2022-11-05T08:19:33.397Z"
   },
   {
    "duration": 11,
    "start_time": "2022-11-05T08:19:33.585Z"
   },
   {
    "duration": 78,
    "start_time": "2022-11-05T08:19:33.598Z"
   },
   {
    "duration": 28,
    "start_time": "2022-11-05T08:19:33.678Z"
   },
   {
    "duration": 61,
    "start_time": "2022-11-05T08:19:33.707Z"
   },
   {
    "duration": 4,
    "start_time": "2022-11-05T08:19:33.770Z"
   },
   {
    "duration": 15,
    "start_time": "2022-11-05T08:19:33.776Z"
   },
   {
    "duration": 0,
    "start_time": "2022-11-05T08:19:33.792Z"
   },
   {
    "duration": 0,
    "start_time": "2022-11-05T08:19:33.793Z"
   },
   {
    "duration": 0,
    "start_time": "2022-11-05T08:19:33.794Z"
   },
   {
    "duration": 0,
    "start_time": "2022-11-05T08:19:33.795Z"
   },
   {
    "duration": 0,
    "start_time": "2022-11-05T08:19:33.796Z"
   },
   {
    "duration": 0,
    "start_time": "2022-11-05T08:19:33.797Z"
   },
   {
    "duration": 3,
    "start_time": "2022-11-05T08:20:26.992Z"
   },
   {
    "duration": 170,
    "start_time": "2022-11-05T08:20:26.998Z"
   },
   {
    "duration": 100,
    "start_time": "2022-11-05T08:20:27.170Z"
   },
   {
    "duration": 756,
    "start_time": "2022-11-05T08:20:27.272Z"
   },
   {
    "duration": 233,
    "start_time": "2022-11-05T08:20:28.031Z"
   },
   {
    "duration": 173,
    "start_time": "2022-11-05T08:20:28.266Z"
   },
   {
    "duration": 62,
    "start_time": "2022-11-05T08:20:28.441Z"
   },
   {
    "duration": 151,
    "start_time": "2022-11-05T08:20:28.505Z"
   },
   {
    "duration": 160,
    "start_time": "2022-11-05T08:20:28.658Z"
   },
   {
    "duration": 175,
    "start_time": "2022-11-05T08:20:28.821Z"
   },
   {
    "duration": 10,
    "start_time": "2022-11-05T08:20:28.998Z"
   },
   {
    "duration": 71,
    "start_time": "2022-11-05T08:20:29.009Z"
   },
   {
    "duration": 28,
    "start_time": "2022-11-05T08:20:29.081Z"
   },
   {
    "duration": 50,
    "start_time": "2022-11-05T08:20:29.121Z"
   },
   {
    "duration": 6,
    "start_time": "2022-11-05T08:20:29.173Z"
   },
   {
    "duration": 13,
    "start_time": "2022-11-05T08:20:29.181Z"
   },
   {
    "duration": 0,
    "start_time": "2022-11-05T08:20:29.195Z"
   },
   {
    "duration": 0,
    "start_time": "2022-11-05T08:20:29.196Z"
   },
   {
    "duration": 0,
    "start_time": "2022-11-05T08:20:29.197Z"
   },
   {
    "duration": 0,
    "start_time": "2022-11-05T08:20:29.198Z"
   },
   {
    "duration": 0,
    "start_time": "2022-11-05T08:20:29.199Z"
   },
   {
    "duration": 0,
    "start_time": "2022-11-05T08:20:29.221Z"
   },
   {
    "duration": 3,
    "start_time": "2022-11-05T08:23:14.274Z"
   },
   {
    "duration": 177,
    "start_time": "2022-11-05T08:23:14.281Z"
   },
   {
    "duration": 106,
    "start_time": "2022-11-05T08:23:14.461Z"
   },
   {
    "duration": 743,
    "start_time": "2022-11-05T08:23:14.569Z"
   },
   {
    "duration": 246,
    "start_time": "2022-11-05T08:23:15.315Z"
   },
   {
    "duration": 164,
    "start_time": "2022-11-05T08:23:15.563Z"
   },
   {
    "duration": 63,
    "start_time": "2022-11-05T08:23:15.728Z"
   },
   {
    "duration": 153,
    "start_time": "2022-11-05T08:23:15.792Z"
   },
   {
    "duration": 191,
    "start_time": "2022-11-05T08:23:15.946Z"
   },
   {
    "duration": 199,
    "start_time": "2022-11-05T08:23:16.139Z"
   },
   {
    "duration": 10,
    "start_time": "2022-11-05T08:23:16.340Z"
   },
   {
    "duration": 73,
    "start_time": "2022-11-05T08:23:16.351Z"
   },
   {
    "duration": 27,
    "start_time": "2022-11-05T08:23:16.426Z"
   },
   {
    "duration": 50,
    "start_time": "2022-11-05T08:23:16.454Z"
   },
   {
    "duration": 20,
    "start_time": "2022-11-05T08:23:16.506Z"
   },
   {
    "duration": 7,
    "start_time": "2022-11-05T08:23:16.528Z"
   },
   {
    "duration": 8,
    "start_time": "2022-11-05T08:23:16.536Z"
   },
   {
    "duration": 8,
    "start_time": "2022-11-05T08:23:16.545Z"
   },
   {
    "duration": 12,
    "start_time": "2022-11-05T08:23:16.554Z"
   },
   {
    "duration": 9,
    "start_time": "2022-11-05T08:23:16.567Z"
   },
   {
    "duration": 11,
    "start_time": "2022-11-05T08:23:16.577Z"
   },
   {
    "duration": 35,
    "start_time": "2022-11-05T08:23:16.589Z"
   },
   {
    "duration": 3,
    "start_time": "2022-11-05T08:36:26.541Z"
   },
   {
    "duration": 170,
    "start_time": "2022-11-05T08:36:26.547Z"
   },
   {
    "duration": 90,
    "start_time": "2022-11-05T08:36:26.721Z"
   },
   {
    "duration": 759,
    "start_time": "2022-11-05T08:36:26.812Z"
   },
   {
    "duration": 241,
    "start_time": "2022-11-05T08:36:27.573Z"
   },
   {
    "duration": 166,
    "start_time": "2022-11-05T08:36:27.821Z"
   },
   {
    "duration": 70,
    "start_time": "2022-11-05T08:36:27.988Z"
   },
   {
    "duration": 146,
    "start_time": "2022-11-05T08:36:28.059Z"
   },
   {
    "duration": 166,
    "start_time": "2022-11-05T08:36:28.207Z"
   },
   {
    "duration": 188,
    "start_time": "2022-11-05T08:36:28.375Z"
   },
   {
    "duration": 9,
    "start_time": "2022-11-05T08:36:28.565Z"
   },
   {
    "duration": 72,
    "start_time": "2022-11-05T08:36:28.576Z"
   },
   {
    "duration": 26,
    "start_time": "2022-11-05T08:36:28.650Z"
   },
   {
    "duration": 66,
    "start_time": "2022-11-05T08:36:28.678Z"
   },
   {
    "duration": 6,
    "start_time": "2022-11-05T08:36:28.745Z"
   },
   {
    "duration": 5,
    "start_time": "2022-11-05T08:36:28.753Z"
   },
   {
    "duration": 8,
    "start_time": "2022-11-05T08:36:28.759Z"
   },
   {
    "duration": 7,
    "start_time": "2022-11-05T08:36:28.768Z"
   },
   {
    "duration": 15,
    "start_time": "2022-11-05T08:36:28.777Z"
   },
   {
    "duration": 0,
    "start_time": "2022-11-05T08:36:28.794Z"
   },
   {
    "duration": 0,
    "start_time": "2022-11-05T08:36:28.795Z"
   },
   {
    "duration": 0,
    "start_time": "2022-11-05T08:36:28.796Z"
   },
   {
    "duration": 4,
    "start_time": "2022-11-05T08:36:55.454Z"
   },
   {
    "duration": 224,
    "start_time": "2022-11-05T08:36:55.460Z"
   },
   {
    "duration": 118,
    "start_time": "2022-11-05T08:36:55.686Z"
   },
   {
    "duration": 738,
    "start_time": "2022-11-05T08:36:55.806Z"
   },
   {
    "duration": 242,
    "start_time": "2022-11-05T08:36:56.546Z"
   },
   {
    "duration": 174,
    "start_time": "2022-11-05T08:36:56.790Z"
   },
   {
    "duration": 72,
    "start_time": "2022-11-05T08:36:56.966Z"
   },
   {
    "duration": 212,
    "start_time": "2022-11-05T08:36:57.040Z"
   },
   {
    "duration": 177,
    "start_time": "2022-11-05T08:36:57.253Z"
   },
   {
    "duration": 186,
    "start_time": "2022-11-05T08:36:57.431Z"
   },
   {
    "duration": 10,
    "start_time": "2022-11-05T08:36:57.619Z"
   },
   {
    "duration": 77,
    "start_time": "2022-11-05T08:36:57.630Z"
   },
   {
    "duration": 30,
    "start_time": "2022-11-05T08:36:57.708Z"
   },
   {
    "duration": 49,
    "start_time": "2022-11-05T08:36:57.740Z"
   },
   {
    "duration": 5,
    "start_time": "2022-11-05T08:36:57.791Z"
   },
   {
    "duration": 27,
    "start_time": "2022-11-05T08:36:57.798Z"
   },
   {
    "duration": 19,
    "start_time": "2022-11-05T08:36:57.827Z"
   },
   {
    "duration": 31,
    "start_time": "2022-11-05T08:36:57.848Z"
   },
   {
    "duration": 30,
    "start_time": "2022-11-05T08:36:57.880Z"
   },
   {
    "duration": 0,
    "start_time": "2022-11-05T08:36:57.912Z"
   },
   {
    "duration": 0,
    "start_time": "2022-11-05T08:36:57.913Z"
   },
   {
    "duration": 0,
    "start_time": "2022-11-05T08:36:57.914Z"
   },
   {
    "duration": 4,
    "start_time": "2022-11-05T08:37:14.059Z"
   },
   {
    "duration": 179,
    "start_time": "2022-11-05T08:37:14.067Z"
   },
   {
    "duration": 111,
    "start_time": "2022-11-05T08:37:14.248Z"
   },
   {
    "duration": 690,
    "start_time": "2022-11-05T08:37:14.361Z"
   },
   {
    "duration": 246,
    "start_time": "2022-11-05T08:37:15.053Z"
   },
   {
    "duration": 237,
    "start_time": "2022-11-05T08:37:15.300Z"
   },
   {
    "duration": 67,
    "start_time": "2022-11-05T08:37:15.539Z"
   },
   {
    "duration": 157,
    "start_time": "2022-11-05T08:37:15.607Z"
   },
   {
    "duration": 166,
    "start_time": "2022-11-05T08:37:15.766Z"
   },
   {
    "duration": 213,
    "start_time": "2022-11-05T08:37:15.934Z"
   },
   {
    "duration": 12,
    "start_time": "2022-11-05T08:37:16.150Z"
   },
   {
    "duration": 104,
    "start_time": "2022-11-05T08:37:16.165Z"
   },
   {
    "duration": 29,
    "start_time": "2022-11-05T08:37:16.271Z"
   },
   {
    "duration": 60,
    "start_time": "2022-11-05T08:37:16.301Z"
   },
   {
    "duration": 7,
    "start_time": "2022-11-05T08:37:16.362Z"
   },
   {
    "duration": 7,
    "start_time": "2022-11-05T08:37:16.370Z"
   },
   {
    "duration": 8,
    "start_time": "2022-11-05T08:37:16.378Z"
   },
   {
    "duration": 8,
    "start_time": "2022-11-05T08:37:16.388Z"
   },
   {
    "duration": 30,
    "start_time": "2022-11-05T08:37:16.397Z"
   },
   {
    "duration": 9,
    "start_time": "2022-11-05T08:37:16.428Z"
   },
   {
    "duration": 9,
    "start_time": "2022-11-05T08:37:16.439Z"
   },
   {
    "duration": 11,
    "start_time": "2022-11-05T08:37:16.450Z"
   },
   {
    "duration": 4,
    "start_time": "2022-11-05T08:39:54.457Z"
   },
   {
    "duration": 173,
    "start_time": "2022-11-05T08:39:54.463Z"
   },
   {
    "duration": 99,
    "start_time": "2022-11-05T08:39:54.638Z"
   },
   {
    "duration": 761,
    "start_time": "2022-11-05T08:39:54.739Z"
   },
   {
    "duration": 248,
    "start_time": "2022-11-05T08:39:55.502Z"
   },
   {
    "duration": 172,
    "start_time": "2022-11-05T08:39:55.751Z"
   },
   {
    "duration": 64,
    "start_time": "2022-11-05T08:39:55.925Z"
   },
   {
    "duration": 213,
    "start_time": "2022-11-05T08:39:55.991Z"
   },
   {
    "duration": 190,
    "start_time": "2022-11-05T08:39:56.206Z"
   },
   {
    "duration": 188,
    "start_time": "2022-11-05T08:39:56.398Z"
   },
   {
    "duration": 9,
    "start_time": "2022-11-05T08:39:56.589Z"
   },
   {
    "duration": 76,
    "start_time": "2022-11-05T08:39:56.600Z"
   },
   {
    "duration": 28,
    "start_time": "2022-11-05T08:39:56.678Z"
   },
   {
    "duration": 60,
    "start_time": "2022-11-05T08:39:56.707Z"
   },
   {
    "duration": 6,
    "start_time": "2022-11-05T08:39:56.769Z"
   },
   {
    "duration": 11,
    "start_time": "2022-11-05T08:39:56.776Z"
   },
   {
    "duration": 21,
    "start_time": "2022-11-05T08:39:56.788Z"
   },
   {
    "duration": 12,
    "start_time": "2022-11-05T08:39:56.810Z"
   },
   {
    "duration": 15,
    "start_time": "2022-11-05T08:39:56.824Z"
   },
   {
    "duration": 15,
    "start_time": "2022-11-05T08:39:56.840Z"
   },
   {
    "duration": 11,
    "start_time": "2022-11-05T08:39:56.856Z"
   },
   {
    "duration": 15,
    "start_time": "2022-11-05T08:39:56.869Z"
   },
   {
    "duration": 8,
    "start_time": "2022-11-05T08:39:56.885Z"
   },
   {
    "duration": 4,
    "start_time": "2022-11-05T08:40:16.443Z"
   },
   {
    "duration": 179,
    "start_time": "2022-11-05T08:40:16.449Z"
   },
   {
    "duration": 101,
    "start_time": "2022-11-05T08:40:16.629Z"
   },
   {
    "duration": 702,
    "start_time": "2022-11-05T08:40:16.731Z"
   },
   {
    "duration": 275,
    "start_time": "2022-11-05T08:40:17.435Z"
   },
   {
    "duration": 173,
    "start_time": "2022-11-05T08:40:17.711Z"
   },
   {
    "duration": 77,
    "start_time": "2022-11-05T08:40:17.886Z"
   },
   {
    "duration": 149,
    "start_time": "2022-11-05T08:40:17.965Z"
   },
   {
    "duration": 157,
    "start_time": "2022-11-05T08:40:18.121Z"
   },
   {
    "duration": 253,
    "start_time": "2022-11-05T08:40:18.279Z"
   },
   {
    "duration": 9,
    "start_time": "2022-11-05T08:40:18.534Z"
   },
   {
    "duration": 63,
    "start_time": "2022-11-05T08:40:18.545Z"
   },
   {
    "duration": 28,
    "start_time": "2022-11-05T08:40:18.621Z"
   },
   {
    "duration": 52,
    "start_time": "2022-11-05T08:40:18.650Z"
   },
   {
    "duration": 22,
    "start_time": "2022-11-05T08:40:18.703Z"
   },
   {
    "duration": 7,
    "start_time": "2022-11-05T08:40:18.727Z"
   },
   {
    "duration": 37,
    "start_time": "2022-11-05T08:40:18.735Z"
   },
   {
    "duration": 24,
    "start_time": "2022-11-05T08:40:18.774Z"
   },
   {
    "duration": 37,
    "start_time": "2022-11-05T08:40:18.800Z"
   },
   {
    "duration": 16,
    "start_time": "2022-11-05T08:40:18.839Z"
   },
   {
    "duration": 10,
    "start_time": "2022-11-05T08:40:18.856Z"
   },
   {
    "duration": 16,
    "start_time": "2022-11-05T08:40:18.867Z"
   },
   {
    "duration": 10,
    "start_time": "2022-11-05T08:40:18.885Z"
   },
   {
    "duration": 3,
    "start_time": "2022-11-05T08:40:48.129Z"
   },
   {
    "duration": 192,
    "start_time": "2022-11-05T08:40:48.134Z"
   },
   {
    "duration": 111,
    "start_time": "2022-11-05T08:40:48.328Z"
   },
   {
    "duration": 693,
    "start_time": "2022-11-05T08:40:48.440Z"
   },
   {
    "duration": 250,
    "start_time": "2022-11-05T08:40:49.135Z"
   },
   {
    "duration": 162,
    "start_time": "2022-11-05T08:40:49.386Z"
   },
   {
    "duration": 73,
    "start_time": "2022-11-05T08:40:49.549Z"
   },
   {
    "duration": 144,
    "start_time": "2022-11-05T08:40:49.623Z"
   },
   {
    "duration": 176,
    "start_time": "2022-11-05T08:40:49.769Z"
   },
   {
    "duration": 255,
    "start_time": "2022-11-05T08:40:49.947Z"
   },
   {
    "duration": 22,
    "start_time": "2022-11-05T08:40:50.206Z"
   },
   {
    "duration": 70,
    "start_time": "2022-11-05T08:40:50.229Z"
   },
   {
    "duration": 41,
    "start_time": "2022-11-05T08:40:50.301Z"
   },
   {
    "duration": 53,
    "start_time": "2022-11-05T08:40:50.344Z"
   },
   {
    "duration": 23,
    "start_time": "2022-11-05T08:40:50.399Z"
   },
   {
    "duration": 10,
    "start_time": "2022-11-05T08:40:50.424Z"
   },
   {
    "duration": 13,
    "start_time": "2022-11-05T08:40:50.436Z"
   },
   {
    "duration": 8,
    "start_time": "2022-11-05T08:40:50.451Z"
   },
   {
    "duration": 21,
    "start_time": "2022-11-05T08:40:50.460Z"
   },
   {
    "duration": 9,
    "start_time": "2022-11-05T08:40:50.482Z"
   },
   {
    "duration": 30,
    "start_time": "2022-11-05T08:40:50.493Z"
   },
   {
    "duration": 15,
    "start_time": "2022-11-05T08:40:50.526Z"
   },
   {
    "duration": 10,
    "start_time": "2022-11-05T08:40:50.543Z"
   },
   {
    "duration": 3,
    "start_time": "2022-11-05T08:41:16.845Z"
   },
   {
    "duration": 168,
    "start_time": "2022-11-05T08:41:16.851Z"
   },
   {
    "duration": 102,
    "start_time": "2022-11-05T08:41:17.022Z"
   },
   {
    "duration": 684,
    "start_time": "2022-11-05T08:41:17.126Z"
   },
   {
    "duration": 244,
    "start_time": "2022-11-05T08:41:17.813Z"
   },
   {
    "duration": 170,
    "start_time": "2022-11-05T08:41:18.058Z"
   },
   {
    "duration": 63,
    "start_time": "2022-11-05T08:41:18.229Z"
   },
   {
    "duration": 157,
    "start_time": "2022-11-05T08:41:18.294Z"
   },
   {
    "duration": 164,
    "start_time": "2022-11-05T08:41:18.452Z"
   },
   {
    "duration": 238,
    "start_time": "2022-11-05T08:41:18.617Z"
   },
   {
    "duration": 9,
    "start_time": "2022-11-05T08:41:18.858Z"
   },
   {
    "duration": 79,
    "start_time": "2022-11-05T08:41:18.869Z"
   },
   {
    "duration": 28,
    "start_time": "2022-11-05T08:41:18.949Z"
   },
   {
    "duration": 64,
    "start_time": "2022-11-05T08:41:18.978Z"
   },
   {
    "duration": 6,
    "start_time": "2022-11-05T08:41:19.044Z"
   },
   {
    "duration": 6,
    "start_time": "2022-11-05T08:41:19.052Z"
   },
   {
    "duration": 11,
    "start_time": "2022-11-05T08:41:19.059Z"
   },
   {
    "duration": 11,
    "start_time": "2022-11-05T08:41:19.071Z"
   },
   {
    "duration": 13,
    "start_time": "2022-11-05T08:41:19.084Z"
   },
   {
    "duration": 24,
    "start_time": "2022-11-05T08:41:19.098Z"
   },
   {
    "duration": 9,
    "start_time": "2022-11-05T08:41:19.123Z"
   },
   {
    "duration": 8,
    "start_time": "2022-11-05T08:41:19.133Z"
   },
   {
    "duration": 3,
    "start_time": "2022-11-05T08:41:19.142Z"
   },
   {
    "duration": 2,
    "start_time": "2022-11-05T08:47:23.156Z"
   },
   {
    "duration": 177,
    "start_time": "2022-11-05T08:47:23.161Z"
   },
   {
    "duration": 124,
    "start_time": "2022-11-05T08:47:23.341Z"
   },
   {
    "duration": 708,
    "start_time": "2022-11-05T08:47:23.467Z"
   },
   {
    "duration": 247,
    "start_time": "2022-11-05T08:47:24.177Z"
   },
   {
    "duration": 162,
    "start_time": "2022-11-05T08:47:24.425Z"
   },
   {
    "duration": 79,
    "start_time": "2022-11-05T08:47:24.589Z"
   },
   {
    "duration": 148,
    "start_time": "2022-11-05T08:47:24.669Z"
   },
   {
    "duration": 161,
    "start_time": "2022-11-05T08:47:24.822Z"
   },
   {
    "duration": 265,
    "start_time": "2022-11-05T08:47:24.984Z"
   },
   {
    "duration": 11,
    "start_time": "2022-11-05T08:47:25.251Z"
   },
   {
    "duration": 77,
    "start_time": "2022-11-05T08:47:25.263Z"
   },
   {
    "duration": 30,
    "start_time": "2022-11-05T08:47:25.342Z"
   },
   {
    "duration": 69,
    "start_time": "2022-11-05T08:47:25.374Z"
   },
   {
    "duration": 7,
    "start_time": "2022-11-05T08:47:25.445Z"
   },
   {
    "duration": 8,
    "start_time": "2022-11-05T08:47:25.454Z"
   },
   {
    "duration": 13,
    "start_time": "2022-11-05T08:47:25.464Z"
   },
   {
    "duration": 16,
    "start_time": "2022-11-05T08:47:25.478Z"
   },
   {
    "duration": 24,
    "start_time": "2022-11-05T08:47:25.496Z"
   },
   {
    "duration": 16,
    "start_time": "2022-11-05T08:47:25.522Z"
   },
   {
    "duration": 19,
    "start_time": "2022-11-05T08:47:25.539Z"
   },
   {
    "duration": 21,
    "start_time": "2022-11-05T08:47:25.559Z"
   },
   {
    "duration": 16,
    "start_time": "2022-11-05T08:47:25.582Z"
   },
   {
    "duration": 3,
    "start_time": "2022-11-05T08:47:57.040Z"
   },
   {
    "duration": 163,
    "start_time": "2022-11-05T08:47:57.045Z"
   },
   {
    "duration": 101,
    "start_time": "2022-11-05T08:47:57.210Z"
   },
   {
    "duration": 711,
    "start_time": "2022-11-05T08:47:57.313Z"
   },
   {
    "duration": 239,
    "start_time": "2022-11-05T08:47:58.027Z"
   },
   {
    "duration": 182,
    "start_time": "2022-11-05T08:47:58.267Z"
   },
   {
    "duration": 75,
    "start_time": "2022-11-05T08:47:58.450Z"
   },
   {
    "duration": 161,
    "start_time": "2022-11-05T08:47:58.527Z"
   },
   {
    "duration": 164,
    "start_time": "2022-11-05T08:47:58.690Z"
   },
   {
    "duration": 250,
    "start_time": "2022-11-05T08:47:58.856Z"
   },
   {
    "duration": 16,
    "start_time": "2022-11-05T08:47:59.108Z"
   },
   {
    "duration": 59,
    "start_time": "2022-11-05T08:47:59.126Z"
   },
   {
    "duration": 46,
    "start_time": "2022-11-05T08:47:59.186Z"
   },
   {
    "duration": 49,
    "start_time": "2022-11-05T08:47:59.233Z"
   },
   {
    "duration": 6,
    "start_time": "2022-11-05T08:47:59.283Z"
   },
   {
    "duration": 31,
    "start_time": "2022-11-05T08:47:59.291Z"
   },
   {
    "duration": 8,
    "start_time": "2022-11-05T08:47:59.323Z"
   },
   {
    "duration": 7,
    "start_time": "2022-11-05T08:47:59.333Z"
   },
   {
    "duration": 15,
    "start_time": "2022-11-05T08:47:59.342Z"
   },
   {
    "duration": 10,
    "start_time": "2022-11-05T08:47:59.358Z"
   },
   {
    "duration": 21,
    "start_time": "2022-11-05T08:47:59.369Z"
   },
   {
    "duration": 33,
    "start_time": "2022-11-05T08:47:59.391Z"
   },
   {
    "duration": 4,
    "start_time": "2022-11-05T08:47:59.425Z"
   },
   {
    "duration": 3,
    "start_time": "2022-11-05T08:49:35.760Z"
   },
   {
    "duration": 175,
    "start_time": "2022-11-05T08:49:35.766Z"
   },
   {
    "duration": 106,
    "start_time": "2022-11-05T08:49:35.943Z"
   },
   {
    "duration": 808,
    "start_time": "2022-11-05T08:49:36.050Z"
   },
   {
    "duration": 250,
    "start_time": "2022-11-05T08:49:36.860Z"
   },
   {
    "duration": 228,
    "start_time": "2022-11-05T08:49:37.111Z"
   },
   {
    "duration": 93,
    "start_time": "2022-11-05T08:49:37.341Z"
   },
   {
    "duration": 174,
    "start_time": "2022-11-05T08:49:37.437Z"
   },
   {
    "duration": 174,
    "start_time": "2022-11-05T08:49:37.612Z"
   },
   {
    "duration": 271,
    "start_time": "2022-11-05T08:49:37.788Z"
   },
   {
    "duration": 8,
    "start_time": "2022-11-05T08:49:38.062Z"
   },
   {
    "duration": 73,
    "start_time": "2022-11-05T08:49:38.072Z"
   },
   {
    "duration": 27,
    "start_time": "2022-11-05T08:49:38.146Z"
   },
   {
    "duration": 66,
    "start_time": "2022-11-05T08:49:38.174Z"
   },
   {
    "duration": 6,
    "start_time": "2022-11-05T08:49:38.242Z"
   },
   {
    "duration": 6,
    "start_time": "2022-11-05T08:49:38.250Z"
   },
   {
    "duration": 9,
    "start_time": "2022-11-05T08:49:38.257Z"
   },
   {
    "duration": 9,
    "start_time": "2022-11-05T08:49:38.267Z"
   },
   {
    "duration": 15,
    "start_time": "2022-11-05T08:49:38.277Z"
   },
   {
    "duration": 9,
    "start_time": "2022-11-05T08:49:38.293Z"
   },
   {
    "duration": 16,
    "start_time": "2022-11-05T08:49:38.321Z"
   },
   {
    "duration": 13,
    "start_time": "2022-11-05T08:49:38.338Z"
   },
   {
    "duration": 5,
    "start_time": "2022-11-05T08:49:38.352Z"
   },
   {
    "duration": 3,
    "start_time": "2022-11-05T08:49:50.141Z"
   },
   {
    "duration": 170,
    "start_time": "2022-11-05T08:49:50.147Z"
   },
   {
    "duration": 90,
    "start_time": "2022-11-05T08:49:50.330Z"
   },
   {
    "duration": 740,
    "start_time": "2022-11-05T08:49:50.421Z"
   },
   {
    "duration": 273,
    "start_time": "2022-11-05T08:49:51.164Z"
   },
   {
    "duration": 172,
    "start_time": "2022-11-05T08:49:51.439Z"
   },
   {
    "duration": 75,
    "start_time": "2022-11-05T08:49:51.612Z"
   },
   {
    "duration": 164,
    "start_time": "2022-11-05T08:49:51.689Z"
   },
   {
    "duration": 179,
    "start_time": "2022-11-05T08:49:51.854Z"
   },
   {
    "duration": 247,
    "start_time": "2022-11-05T08:49:52.034Z"
   },
   {
    "duration": 10,
    "start_time": "2022-11-05T08:49:52.284Z"
   },
   {
    "duration": 81,
    "start_time": "2022-11-05T08:49:52.296Z"
   },
   {
    "duration": 30,
    "start_time": "2022-11-05T08:49:52.378Z"
   },
   {
    "duration": 66,
    "start_time": "2022-11-05T08:49:52.409Z"
   },
   {
    "duration": 7,
    "start_time": "2022-11-05T08:49:52.476Z"
   },
   {
    "duration": 7,
    "start_time": "2022-11-05T08:49:52.484Z"
   },
   {
    "duration": 13,
    "start_time": "2022-11-05T08:49:52.493Z"
   },
   {
    "duration": 19,
    "start_time": "2022-11-05T08:49:52.507Z"
   },
   {
    "duration": 32,
    "start_time": "2022-11-05T08:49:52.528Z"
   },
   {
    "duration": 17,
    "start_time": "2022-11-05T08:49:52.561Z"
   },
   {
    "duration": 27,
    "start_time": "2022-11-05T08:49:52.579Z"
   },
   {
    "duration": 33,
    "start_time": "2022-11-05T08:49:52.608Z"
   },
   {
    "duration": 11,
    "start_time": "2022-11-05T08:49:52.643Z"
   },
   {
    "duration": 1068,
    "start_time": "2022-11-05T08:53:56.451Z"
   },
   {
    "duration": 172,
    "start_time": "2022-11-05T08:53:57.521Z"
   },
   {
    "duration": 108,
    "start_time": "2022-11-05T08:53:57.695Z"
   },
   {
    "duration": 699,
    "start_time": "2022-11-05T08:53:57.805Z"
   },
   {
    "duration": 353,
    "start_time": "2022-11-05T08:53:58.506Z"
   },
   {
    "duration": 165,
    "start_time": "2022-11-05T08:53:58.860Z"
   },
   {
    "duration": 56,
    "start_time": "2022-11-05T08:53:59.026Z"
   },
   {
    "duration": 151,
    "start_time": "2022-11-05T08:53:59.084Z"
   },
   {
    "duration": 165,
    "start_time": "2022-11-05T08:53:59.236Z"
   },
   {
    "duration": 196,
    "start_time": "2022-11-05T08:53:59.403Z"
   },
   {
    "duration": 10,
    "start_time": "2022-11-05T08:53:59.601Z"
   },
   {
    "duration": 81,
    "start_time": "2022-11-05T08:53:59.622Z"
   },
   {
    "duration": 27,
    "start_time": "2022-11-05T08:53:59.705Z"
   },
   {
    "duration": 52,
    "start_time": "2022-11-05T08:53:59.734Z"
   },
   {
    "duration": 7,
    "start_time": "2022-11-05T08:53:59.788Z"
   },
   {
    "duration": 24,
    "start_time": "2022-11-05T08:53:59.796Z"
   },
   {
    "duration": 27,
    "start_time": "2022-11-05T08:53:59.821Z"
   },
   {
    "duration": 28,
    "start_time": "2022-11-05T08:53:59.849Z"
   },
   {
    "duration": 30,
    "start_time": "2022-11-05T08:53:59.879Z"
   },
   {
    "duration": 14,
    "start_time": "2022-11-05T08:53:59.911Z"
   },
   {
    "duration": 20,
    "start_time": "2022-11-05T08:53:59.926Z"
   },
   {
    "duration": 20,
    "start_time": "2022-11-05T08:53:59.948Z"
   },
   {
    "duration": 19,
    "start_time": "2022-11-05T08:53:59.970Z"
   },
   {
    "duration": 1027,
    "start_time": "2022-11-05T23:29:23.817Z"
   },
   {
    "duration": 701,
    "start_time": "2022-11-05T23:29:24.846Z"
   },
   {
    "duration": 104,
    "start_time": "2022-11-05T23:29:25.548Z"
   },
   {
    "duration": 657,
    "start_time": "2022-11-05T23:29:25.654Z"
   },
   {
    "duration": 352,
    "start_time": "2022-11-05T23:29:26.313Z"
   },
   {
    "duration": 172,
    "start_time": "2022-11-05T23:29:26.667Z"
   },
   {
    "duration": 68,
    "start_time": "2022-11-05T23:29:26.841Z"
   },
   {
    "duration": 147,
    "start_time": "2022-11-05T23:29:26.911Z"
   },
   {
    "duration": 164,
    "start_time": "2022-11-05T23:29:27.060Z"
   },
   {
    "duration": 205,
    "start_time": "2022-11-05T23:29:27.227Z"
   },
   {
    "duration": 11,
    "start_time": "2022-11-05T23:29:27.434Z"
   },
   {
    "duration": 82,
    "start_time": "2022-11-05T23:29:27.446Z"
   },
   {
    "duration": 28,
    "start_time": "2022-11-05T23:29:27.530Z"
   },
   {
    "duration": 77,
    "start_time": "2022-11-05T23:29:27.560Z"
   },
   {
    "duration": 6,
    "start_time": "2022-11-05T23:29:27.638Z"
   },
   {
    "duration": 7,
    "start_time": "2022-11-05T23:29:27.646Z"
   },
   {
    "duration": 7,
    "start_time": "2022-11-05T23:29:27.654Z"
   },
   {
    "duration": 3,
    "start_time": "2022-11-05T23:29:27.676Z"
   },
   {
    "duration": 13,
    "start_time": "2022-11-05T23:29:27.681Z"
   },
   {
    "duration": 9,
    "start_time": "2022-11-05T23:29:27.695Z"
   },
   {
    "duration": 8,
    "start_time": "2022-11-05T23:29:27.706Z"
   },
   {
    "duration": 9,
    "start_time": "2022-11-05T23:29:27.715Z"
   },
   {
    "duration": 5,
    "start_time": "2022-11-05T23:29:27.725Z"
   },
   {
    "duration": 1054,
    "start_time": "2022-11-05T23:31:52.296Z"
   },
   {
    "duration": 171,
    "start_time": "2022-11-05T23:31:53.351Z"
   },
   {
    "duration": 111,
    "start_time": "2022-11-05T23:31:53.524Z"
   },
   {
    "duration": 700,
    "start_time": "2022-11-05T23:31:53.637Z"
   },
   {
    "duration": 343,
    "start_time": "2022-11-05T23:31:54.338Z"
   },
   {
    "duration": 169,
    "start_time": "2022-11-05T23:31:54.683Z"
   },
   {
    "duration": 66,
    "start_time": "2022-11-05T23:31:54.853Z"
   },
   {
    "duration": 137,
    "start_time": "2022-11-05T23:31:54.921Z"
   },
   {
    "duration": 159,
    "start_time": "2022-11-05T23:31:55.059Z"
   },
   {
    "duration": 182,
    "start_time": "2022-11-05T23:31:55.221Z"
   },
   {
    "duration": 10,
    "start_time": "2022-11-05T23:31:55.405Z"
   },
   {
    "duration": 80,
    "start_time": "2022-11-05T23:31:55.417Z"
   },
   {
    "duration": 27,
    "start_time": "2022-11-05T23:31:55.499Z"
   },
   {
    "duration": 64,
    "start_time": "2022-11-05T23:31:55.528Z"
   },
   {
    "duration": 6,
    "start_time": "2022-11-05T23:31:55.593Z"
   },
   {
    "duration": 6,
    "start_time": "2022-11-05T23:31:55.600Z"
   },
   {
    "duration": 8,
    "start_time": "2022-11-05T23:31:55.608Z"
   },
   {
    "duration": 13,
    "start_time": "2022-11-05T23:31:55.617Z"
   },
   {
    "duration": 12,
    "start_time": "2022-11-05T23:31:55.631Z"
   },
   {
    "duration": 9,
    "start_time": "2022-11-05T23:31:55.644Z"
   },
   {
    "duration": 25,
    "start_time": "2022-11-05T23:31:55.654Z"
   },
   {
    "duration": 9,
    "start_time": "2022-11-05T23:31:55.680Z"
   },
   {
    "duration": 4,
    "start_time": "2022-11-05T23:31:55.690Z"
   },
   {
    "duration": 1101,
    "start_time": "2022-11-05T23:35:32.649Z"
   },
   {
    "duration": 173,
    "start_time": "2022-11-05T23:35:33.752Z"
   },
   {
    "duration": 114,
    "start_time": "2022-11-05T23:35:33.927Z"
   },
   {
    "duration": 656,
    "start_time": "2022-11-05T23:35:34.042Z"
   },
   {
    "duration": 356,
    "start_time": "2022-11-05T23:35:34.699Z"
   },
   {
    "duration": 159,
    "start_time": "2022-11-05T23:35:35.056Z"
   },
   {
    "duration": 68,
    "start_time": "2022-11-05T23:35:35.217Z"
   },
   {
    "duration": 140,
    "start_time": "2022-11-05T23:35:35.287Z"
   },
   {
    "duration": 156,
    "start_time": "2022-11-05T23:35:35.429Z"
   },
   {
    "duration": 181,
    "start_time": "2022-11-05T23:35:35.588Z"
   },
   {
    "duration": 14,
    "start_time": "2022-11-05T23:35:35.771Z"
   },
   {
    "duration": 64,
    "start_time": "2022-11-05T23:35:35.786Z"
   },
   {
    "duration": 45,
    "start_time": "2022-11-05T23:35:35.851Z"
   },
   {
    "duration": 48,
    "start_time": "2022-11-05T23:35:35.898Z"
   },
   {
    "duration": 6,
    "start_time": "2022-11-05T23:35:35.948Z"
   },
   {
    "duration": 22,
    "start_time": "2022-11-05T23:35:35.955Z"
   },
   {
    "duration": 13,
    "start_time": "2022-11-05T23:35:35.979Z"
   },
   {
    "duration": 18,
    "start_time": "2022-11-05T23:35:35.993Z"
   },
   {
    "duration": 15,
    "start_time": "2022-11-05T23:35:36.013Z"
   },
   {
    "duration": 11,
    "start_time": "2022-11-05T23:35:36.030Z"
   },
   {
    "duration": 8,
    "start_time": "2022-11-05T23:35:36.042Z"
   },
   {
    "duration": 9,
    "start_time": "2022-11-05T23:35:36.051Z"
   },
   {
    "duration": 4,
    "start_time": "2022-11-05T23:35:36.061Z"
   },
   {
    "duration": 4,
    "start_time": "2022-11-05T23:48:23.933Z"
   },
   {
    "duration": 1061,
    "start_time": "2022-11-05T23:57:44.106Z"
   },
   {
    "duration": 181,
    "start_time": "2022-11-05T23:57:45.169Z"
   },
   {
    "duration": 119,
    "start_time": "2022-11-05T23:57:45.352Z"
   },
   {
    "duration": 695,
    "start_time": "2022-11-05T23:57:45.476Z"
   },
   {
    "duration": 385,
    "start_time": "2022-11-05T23:57:46.173Z"
   },
   {
    "duration": 167,
    "start_time": "2022-11-05T23:57:46.560Z"
   },
   {
    "duration": 73,
    "start_time": "2022-11-05T23:57:46.728Z"
   },
   {
    "duration": 150,
    "start_time": "2022-11-05T23:57:46.803Z"
   },
   {
    "duration": 166,
    "start_time": "2022-11-05T23:57:46.955Z"
   },
   {
    "duration": 188,
    "start_time": "2022-11-05T23:57:47.123Z"
   },
   {
    "duration": 12,
    "start_time": "2022-11-05T23:57:47.312Z"
   },
   {
    "duration": 81,
    "start_time": "2022-11-05T23:57:47.325Z"
   },
   {
    "duration": 27,
    "start_time": "2022-11-05T23:57:47.408Z"
   },
   {
    "duration": 60,
    "start_time": "2022-11-05T23:57:47.437Z"
   },
   {
    "duration": 7,
    "start_time": "2022-11-05T23:57:47.498Z"
   },
   {
    "duration": 7,
    "start_time": "2022-11-05T23:57:47.506Z"
   },
   {
    "duration": 8,
    "start_time": "2022-11-05T23:57:47.515Z"
   },
   {
    "duration": 8,
    "start_time": "2022-11-05T23:57:47.524Z"
   },
   {
    "duration": 12,
    "start_time": "2022-11-05T23:57:47.533Z"
   },
   {
    "duration": 31,
    "start_time": "2022-11-05T23:57:47.547Z"
   },
   {
    "duration": 11,
    "start_time": "2022-11-05T23:57:47.580Z"
   },
   {
    "duration": 16,
    "start_time": "2022-11-05T23:57:47.593Z"
   },
   {
    "duration": 10,
    "start_time": "2022-11-05T23:57:47.611Z"
   },
   {
    "duration": 1399,
    "start_time": "2022-11-06T08:56:19.802Z"
   },
   {
    "duration": 719,
    "start_time": "2022-11-06T08:56:21.203Z"
   },
   {
    "duration": 104,
    "start_time": "2022-11-06T08:56:21.924Z"
   },
   {
    "duration": 739,
    "start_time": "2022-11-06T08:56:22.031Z"
   },
   {
    "duration": 357,
    "start_time": "2022-11-06T08:56:22.771Z"
   },
   {
    "duration": 163,
    "start_time": "2022-11-06T08:56:23.130Z"
   },
   {
    "duration": 63,
    "start_time": "2022-11-06T08:56:23.295Z"
   },
   {
    "duration": 142,
    "start_time": "2022-11-06T08:56:23.359Z"
   },
   {
    "duration": 158,
    "start_time": "2022-11-06T08:56:23.502Z"
   },
   {
    "duration": 270,
    "start_time": "2022-11-06T08:56:23.661Z"
   },
   {
    "duration": 0,
    "start_time": "2022-11-06T08:56:23.932Z"
   },
   {
    "duration": 0,
    "start_time": "2022-11-06T08:56:23.933Z"
   },
   {
    "duration": 0,
    "start_time": "2022-11-06T08:56:23.934Z"
   },
   {
    "duration": 0,
    "start_time": "2022-11-06T08:56:23.935Z"
   },
   {
    "duration": 0,
    "start_time": "2022-11-06T08:56:23.936Z"
   },
   {
    "duration": 0,
    "start_time": "2022-11-06T08:56:23.937Z"
   },
   {
    "duration": 0,
    "start_time": "2022-11-06T08:56:23.939Z"
   },
   {
    "duration": 0,
    "start_time": "2022-11-06T08:56:23.940Z"
   },
   {
    "duration": 0,
    "start_time": "2022-11-06T08:56:23.940Z"
   },
   {
    "duration": 0,
    "start_time": "2022-11-06T08:56:23.941Z"
   },
   {
    "duration": 0,
    "start_time": "2022-11-06T08:56:23.942Z"
   },
   {
    "duration": 0,
    "start_time": "2022-11-06T08:56:23.943Z"
   },
   {
    "duration": 0,
    "start_time": "2022-11-06T08:56:23.944Z"
   },
   {
    "duration": 3,
    "start_time": "2022-11-06T08:59:39.127Z"
   },
   {
    "duration": 157,
    "start_time": "2022-11-06T08:59:39.141Z"
   },
   {
    "duration": 96,
    "start_time": "2022-11-06T08:59:39.299Z"
   },
   {
    "duration": 750,
    "start_time": "2022-11-06T08:59:39.397Z"
   },
   {
    "duration": 225,
    "start_time": "2022-11-06T08:59:40.148Z"
   },
   {
    "duration": 166,
    "start_time": "2022-11-06T08:59:40.376Z"
   },
   {
    "duration": 55,
    "start_time": "2022-11-06T08:59:40.543Z"
   },
   {
    "duration": 158,
    "start_time": "2022-11-06T08:59:40.599Z"
   },
   {
    "duration": 168,
    "start_time": "2022-11-06T08:59:40.759Z"
   },
   {
    "duration": 207,
    "start_time": "2022-11-06T08:59:40.929Z"
   },
   {
    "duration": 12,
    "start_time": "2022-11-06T08:59:41.138Z"
   },
   {
    "duration": 77,
    "start_time": "2022-11-06T08:59:41.152Z"
   },
   {
    "duration": 32,
    "start_time": "2022-11-06T08:59:41.231Z"
   },
   {
    "duration": 70,
    "start_time": "2022-11-06T08:59:41.264Z"
   },
   {
    "duration": 6,
    "start_time": "2022-11-06T08:59:41.337Z"
   },
   {
    "duration": 7,
    "start_time": "2022-11-06T08:59:41.344Z"
   },
   {
    "duration": 12,
    "start_time": "2022-11-06T08:59:41.352Z"
   },
   {
    "duration": 11,
    "start_time": "2022-11-06T08:59:41.366Z"
   },
   {
    "duration": 17,
    "start_time": "2022-11-06T08:59:41.379Z"
   },
   {
    "duration": 25,
    "start_time": "2022-11-06T08:59:41.398Z"
   },
   {
    "duration": 9,
    "start_time": "2022-11-06T08:59:41.424Z"
   },
   {
    "duration": 8,
    "start_time": "2022-11-06T08:59:41.435Z"
   },
   {
    "duration": 7,
    "start_time": "2022-11-06T08:59:41.445Z"
   },
   {
    "duration": 4,
    "start_time": "2022-11-06T09:02:56.182Z"
   },
   {
    "duration": 168,
    "start_time": "2022-11-06T09:02:56.188Z"
   },
   {
    "duration": 110,
    "start_time": "2022-11-06T09:02:56.357Z"
   },
   {
    "duration": 685,
    "start_time": "2022-11-06T09:02:56.469Z"
   },
   {
    "duration": 227,
    "start_time": "2022-11-06T09:02:57.156Z"
   },
   {
    "duration": 179,
    "start_time": "2022-11-06T09:02:57.384Z"
   },
   {
    "duration": 62,
    "start_time": "2022-11-06T09:02:57.564Z"
   },
   {
    "duration": 151,
    "start_time": "2022-11-06T09:02:57.627Z"
   },
   {
    "duration": 167,
    "start_time": "2022-11-06T09:02:57.779Z"
   },
   {
    "duration": 235,
    "start_time": "2022-11-06T09:02:57.947Z"
   },
   {
    "duration": 10,
    "start_time": "2022-11-06T09:02:58.184Z"
   },
   {
    "duration": 74,
    "start_time": "2022-11-06T09:02:58.195Z"
   },
   {
    "duration": 27,
    "start_time": "2022-11-06T09:02:58.270Z"
   },
   {
    "duration": 64,
    "start_time": "2022-11-06T09:02:58.298Z"
   },
   {
    "duration": 7,
    "start_time": "2022-11-06T09:02:58.363Z"
   },
   {
    "duration": 7,
    "start_time": "2022-11-06T09:02:58.371Z"
   },
   {
    "duration": 14,
    "start_time": "2022-11-06T09:02:58.379Z"
   },
   {
    "duration": 10,
    "start_time": "2022-11-06T09:02:58.395Z"
   },
   {
    "duration": 20,
    "start_time": "2022-11-06T09:02:58.407Z"
   },
   {
    "duration": 9,
    "start_time": "2022-11-06T09:02:58.428Z"
   },
   {
    "duration": 9,
    "start_time": "2022-11-06T09:02:58.439Z"
   },
   {
    "duration": 8,
    "start_time": "2022-11-06T09:02:58.450Z"
   },
   {
    "duration": 4,
    "start_time": "2022-11-06T09:02:58.460Z"
   },
   {
    "duration": 3,
    "start_time": "2022-11-06T09:03:52.847Z"
   },
   {
    "duration": 163,
    "start_time": "2022-11-06T09:03:52.854Z"
   },
   {
    "duration": 103,
    "start_time": "2022-11-06T09:03:53.021Z"
   },
   {
    "duration": 680,
    "start_time": "2022-11-06T09:03:53.125Z"
   },
   {
    "duration": 225,
    "start_time": "2022-11-06T09:03:53.807Z"
   },
   {
    "duration": 196,
    "start_time": "2022-11-06T09:03:54.033Z"
   },
   {
    "duration": 57,
    "start_time": "2022-11-06T09:03:54.230Z"
   },
   {
    "duration": 151,
    "start_time": "2022-11-06T09:03:54.288Z"
   },
   {
    "duration": 192,
    "start_time": "2022-11-06T09:03:54.440Z"
   },
   {
    "duration": 293,
    "start_time": "2022-11-06T09:03:54.633Z"
   },
   {
    "duration": 9,
    "start_time": "2022-11-06T09:03:54.928Z"
   },
   {
    "duration": 57,
    "start_time": "2022-11-06T09:03:54.938Z"
   },
   {
    "duration": 42,
    "start_time": "2022-11-06T09:03:54.997Z"
   },
   {
    "duration": 49,
    "start_time": "2022-11-06T09:03:55.040Z"
   },
   {
    "duration": 6,
    "start_time": "2022-11-06T09:03:55.091Z"
   },
   {
    "duration": 26,
    "start_time": "2022-11-06T09:03:55.098Z"
   },
   {
    "duration": 9,
    "start_time": "2022-11-06T09:03:55.125Z"
   },
   {
    "duration": 8,
    "start_time": "2022-11-06T09:03:55.135Z"
   },
   {
    "duration": 12,
    "start_time": "2022-11-06T09:03:55.145Z"
   },
   {
    "duration": 8,
    "start_time": "2022-11-06T09:03:55.159Z"
   },
   {
    "duration": 12,
    "start_time": "2022-11-06T09:03:55.168Z"
   },
   {
    "duration": 9,
    "start_time": "2022-11-06T09:03:55.181Z"
   },
   {
    "duration": 30,
    "start_time": "2022-11-06T09:03:55.192Z"
   },
   {
    "duration": 1327,
    "start_time": "2022-11-07T07:26:30.388Z"
   },
   {
    "duration": 299,
    "start_time": "2022-11-07T07:26:31.717Z"
   },
   {
    "duration": 127,
    "start_time": "2022-11-07T07:26:32.017Z"
   },
   {
    "duration": 778,
    "start_time": "2022-11-07T07:26:32.147Z"
   },
   {
    "duration": 406,
    "start_time": "2022-11-07T07:26:32.927Z"
   },
   {
    "duration": 196,
    "start_time": "2022-11-07T07:26:33.335Z"
   },
   {
    "duration": 60,
    "start_time": "2022-11-07T07:26:33.532Z"
   },
   {
    "duration": 2,
    "start_time": "2022-11-07T07:27:29.417Z"
   },
   {
    "duration": 177,
    "start_time": "2022-11-07T07:27:29.421Z"
   },
   {
    "duration": 121,
    "start_time": "2022-11-07T07:27:29.600Z"
   },
   {
    "duration": 798,
    "start_time": "2022-11-07T07:27:29.722Z"
   },
   {
    "duration": 251,
    "start_time": "2022-11-07T07:27:30.522Z"
   },
   {
    "duration": 209,
    "start_time": "2022-11-07T07:27:30.775Z"
   },
   {
    "duration": 60,
    "start_time": "2022-11-07T07:27:30.985Z"
   },
   {
    "duration": 4,
    "start_time": "2022-11-07T07:31:13.861Z"
   },
   {
    "duration": 177,
    "start_time": "2022-11-07T07:31:13.867Z"
   },
   {
    "duration": 122,
    "start_time": "2022-11-07T07:31:14.046Z"
   },
   {
    "duration": 900,
    "start_time": "2022-11-07T07:31:14.170Z"
   },
   {
    "duration": 258,
    "start_time": "2022-11-07T07:31:15.072Z"
   },
   {
    "duration": 201,
    "start_time": "2022-11-07T07:31:15.332Z"
   },
   {
    "duration": 50,
    "start_time": "2022-11-07T07:31:15.534Z"
   },
   {
    "duration": 168,
    "start_time": "2022-11-07T07:31:15.586Z"
   },
   {
    "duration": 37,
    "start_time": "2022-11-07T07:31:15.756Z"
   },
   {
    "duration": 3,
    "start_time": "2022-11-07T07:31:46.925Z"
   },
   {
    "duration": 169,
    "start_time": "2022-11-07T07:31:46.931Z"
   },
   {
    "duration": 121,
    "start_time": "2022-11-07T07:31:47.102Z"
   },
   {
    "duration": 860,
    "start_time": "2022-11-07T07:31:47.225Z"
   },
   {
    "duration": 251,
    "start_time": "2022-11-07T07:31:48.088Z"
   },
   {
    "duration": 197,
    "start_time": "2022-11-07T07:31:48.340Z"
   },
   {
    "duration": 52,
    "start_time": "2022-11-07T07:31:48.539Z"
   },
   {
    "duration": 184,
    "start_time": "2022-11-07T07:31:48.611Z"
   },
   {
    "duration": 44,
    "start_time": "2022-11-07T07:31:48.797Z"
   },
   {
    "duration": 3,
    "start_time": "2022-11-07T07:32:40.243Z"
   },
   {
    "duration": 177,
    "start_time": "2022-11-07T07:32:40.248Z"
   },
   {
    "duration": 122,
    "start_time": "2022-11-07T07:32:40.427Z"
   },
   {
    "duration": 789,
    "start_time": "2022-11-07T07:32:40.551Z"
   },
   {
    "duration": 246,
    "start_time": "2022-11-07T07:32:41.341Z"
   },
   {
    "duration": 256,
    "start_time": "2022-11-07T07:32:41.589Z"
   },
   {
    "duration": 66,
    "start_time": "2022-11-07T07:32:41.846Z"
   },
   {
    "duration": 166,
    "start_time": "2022-11-07T07:32:41.914Z"
   },
   {
    "duration": 43,
    "start_time": "2022-11-07T07:32:42.082Z"
   },
   {
    "duration": 3,
    "start_time": "2022-11-07T07:32:55.042Z"
   },
   {
    "duration": 171,
    "start_time": "2022-11-07T07:32:55.047Z"
   },
   {
    "duration": 124,
    "start_time": "2022-11-07T07:32:55.220Z"
   },
   {
    "duration": 780,
    "start_time": "2022-11-07T07:32:55.346Z"
   },
   {
    "duration": 270,
    "start_time": "2022-11-07T07:32:56.128Z"
   },
   {
    "duration": 212,
    "start_time": "2022-11-07T07:32:56.399Z"
   },
   {
    "duration": 49,
    "start_time": "2022-11-07T07:32:56.613Z"
   },
   {
    "duration": 171,
    "start_time": "2022-11-07T07:32:56.664Z"
   },
   {
    "duration": 35,
    "start_time": "2022-11-07T07:32:56.836Z"
   },
   {
    "duration": 4,
    "start_time": "2022-11-07T07:38:18.625Z"
   },
   {
    "duration": 187,
    "start_time": "2022-11-07T07:38:18.633Z"
   },
   {
    "duration": 133,
    "start_time": "2022-11-07T07:38:18.822Z"
   },
   {
    "duration": 921,
    "start_time": "2022-11-07T07:38:18.957Z"
   },
   {
    "duration": 284,
    "start_time": "2022-11-07T07:38:19.880Z"
   },
   {
    "duration": 192,
    "start_time": "2022-11-07T07:38:20.166Z"
   },
   {
    "duration": 62,
    "start_time": "2022-11-07T07:38:20.360Z"
   },
   {
    "duration": 167,
    "start_time": "2022-11-07T07:38:20.424Z"
   },
   {
    "duration": 42,
    "start_time": "2022-11-07T07:38:20.593Z"
   },
   {
    "duration": 186,
    "start_time": "2022-11-07T07:38:20.637Z"
   },
   {
    "duration": 225,
    "start_time": "2022-11-07T07:38:20.826Z"
   },
   {
    "duration": 10,
    "start_time": "2022-11-07T07:38:21.052Z"
   },
   {
    "duration": 95,
    "start_time": "2022-11-07T07:38:21.064Z"
   },
   {
    "duration": 33,
    "start_time": "2022-11-07T07:38:21.161Z"
   },
   {
    "duration": 82,
    "start_time": "2022-11-07T07:38:21.195Z"
   },
   {
    "duration": 6,
    "start_time": "2022-11-07T07:38:21.279Z"
   },
   {
    "duration": 22,
    "start_time": "2022-11-07T07:38:21.287Z"
   },
   {
    "duration": 14,
    "start_time": "2022-11-07T07:38:21.311Z"
   },
   {
    "duration": 15,
    "start_time": "2022-11-07T07:38:21.327Z"
   },
   {
    "duration": 23,
    "start_time": "2022-11-07T07:38:21.344Z"
   },
   {
    "duration": 10,
    "start_time": "2022-11-07T07:38:21.368Z"
   },
   {
    "duration": 9,
    "start_time": "2022-11-07T07:38:21.380Z"
   },
   {
    "duration": 23,
    "start_time": "2022-11-07T07:38:21.391Z"
   },
   {
    "duration": 14,
    "start_time": "2022-11-07T07:38:21.416Z"
   },
   {
    "duration": 3,
    "start_time": "2022-11-07T07:41:58.911Z"
   },
   {
    "duration": 205,
    "start_time": "2022-11-07T07:41:58.917Z"
   },
   {
    "duration": 132,
    "start_time": "2022-11-07T07:41:59.125Z"
   },
   {
    "duration": 848,
    "start_time": "2022-11-07T07:41:59.259Z"
   },
   {
    "duration": 247,
    "start_time": "2022-11-07T07:42:00.109Z"
   },
   {
    "duration": 194,
    "start_time": "2022-11-07T07:42:00.357Z"
   },
   {
    "duration": 64,
    "start_time": "2022-11-07T07:42:00.554Z"
   },
   {
    "duration": 168,
    "start_time": "2022-11-07T07:42:00.619Z"
   },
   {
    "duration": 45,
    "start_time": "2022-11-07T07:42:00.788Z"
   },
   {
    "duration": 208,
    "start_time": "2022-11-07T07:42:00.834Z"
   },
   {
    "duration": 223,
    "start_time": "2022-11-07T07:42:01.046Z"
   },
   {
    "duration": 14,
    "start_time": "2022-11-07T07:42:01.271Z"
   },
   {
    "duration": 88,
    "start_time": "2022-11-07T07:42:01.287Z"
   },
   {
    "duration": 44,
    "start_time": "2022-11-07T07:42:01.376Z"
   },
   {
    "duration": 56,
    "start_time": "2022-11-07T07:42:01.422Z"
   },
   {
    "duration": 6,
    "start_time": "2022-11-07T07:42:01.480Z"
   },
   {
    "duration": 21,
    "start_time": "2022-11-07T07:42:01.488Z"
   },
   {
    "duration": 212,
    "start_time": "2022-11-07T07:42:01.510Z"
   },
   {
    "duration": 0,
    "start_time": "2022-11-07T07:42:01.723Z"
   },
   {
    "duration": 0,
    "start_time": "2022-11-07T07:42:01.724Z"
   },
   {
    "duration": 0,
    "start_time": "2022-11-07T07:42:01.725Z"
   },
   {
    "duration": 0,
    "start_time": "2022-11-07T07:42:01.726Z"
   },
   {
    "duration": 1,
    "start_time": "2022-11-07T07:42:01.727Z"
   },
   {
    "duration": 0,
    "start_time": "2022-11-07T07:42:01.728Z"
   },
   {
    "duration": 3,
    "start_time": "2022-11-07T07:42:29.919Z"
   },
   {
    "duration": 177,
    "start_time": "2022-11-07T07:42:29.924Z"
   },
   {
    "duration": 109,
    "start_time": "2022-11-07T07:42:30.103Z"
   },
   {
    "duration": 871,
    "start_time": "2022-11-07T07:42:30.213Z"
   },
   {
    "duration": 250,
    "start_time": "2022-11-07T07:42:31.086Z"
   },
   {
    "duration": 196,
    "start_time": "2022-11-07T07:42:31.337Z"
   },
   {
    "duration": 53,
    "start_time": "2022-11-07T07:42:31.534Z"
   },
   {
    "duration": 175,
    "start_time": "2022-11-07T07:42:31.589Z"
   },
   {
    "duration": 47,
    "start_time": "2022-11-07T07:42:31.766Z"
   },
   {
    "duration": 182,
    "start_time": "2022-11-07T07:42:31.815Z"
   },
   {
    "duration": 229,
    "start_time": "2022-11-07T07:42:32.000Z"
   },
   {
    "duration": 11,
    "start_time": "2022-11-07T07:42:32.231Z"
   },
   {
    "duration": 87,
    "start_time": "2022-11-07T07:42:32.244Z"
   },
   {
    "duration": 32,
    "start_time": "2022-11-07T07:42:32.333Z"
   },
   {
    "duration": 74,
    "start_time": "2022-11-07T07:42:32.366Z"
   },
   {
    "duration": 7,
    "start_time": "2022-11-07T07:42:32.442Z"
   },
   {
    "duration": 31,
    "start_time": "2022-11-07T07:42:32.451Z"
   },
   {
    "duration": 15,
    "start_time": "2022-11-07T07:42:32.484Z"
   },
   {
    "duration": 34,
    "start_time": "2022-11-07T07:42:32.500Z"
   },
   {
    "duration": 43,
    "start_time": "2022-11-07T07:42:32.535Z"
   },
   {
    "duration": 28,
    "start_time": "2022-11-07T07:42:32.580Z"
   },
   {
    "duration": 27,
    "start_time": "2022-11-07T07:42:32.609Z"
   },
   {
    "duration": 24,
    "start_time": "2022-11-07T07:42:32.638Z"
   },
   {
    "duration": 5,
    "start_time": "2022-11-07T07:42:32.664Z"
   },
   {
    "duration": 2,
    "start_time": "2022-11-07T07:43:47.257Z"
   },
   {
    "duration": 178,
    "start_time": "2022-11-07T07:43:47.263Z"
   },
   {
    "duration": 113,
    "start_time": "2022-11-07T07:43:47.442Z"
   },
   {
    "duration": 866,
    "start_time": "2022-11-07T07:43:47.557Z"
   },
   {
    "duration": 247,
    "start_time": "2022-11-07T07:43:48.426Z"
   },
   {
    "duration": 189,
    "start_time": "2022-11-07T07:43:48.675Z"
   },
   {
    "duration": 60,
    "start_time": "2022-11-07T07:43:48.865Z"
   },
   {
    "duration": 164,
    "start_time": "2022-11-07T07:43:48.926Z"
   },
   {
    "duration": 44,
    "start_time": "2022-11-07T07:43:49.093Z"
   },
   {
    "duration": 183,
    "start_time": "2022-11-07T07:43:49.139Z"
   },
   {
    "duration": 217,
    "start_time": "2022-11-07T07:43:49.325Z"
   },
   {
    "duration": 11,
    "start_time": "2022-11-07T07:43:49.543Z"
   },
   {
    "duration": 83,
    "start_time": "2022-11-07T07:43:49.555Z"
   },
   {
    "duration": 32,
    "start_time": "2022-11-07T07:43:49.639Z"
   },
   {
    "duration": 72,
    "start_time": "2022-11-07T07:43:49.672Z"
   },
   {
    "duration": 6,
    "start_time": "2022-11-07T07:43:49.746Z"
   },
   {
    "duration": 10,
    "start_time": "2022-11-07T07:43:49.753Z"
   },
   {
    "duration": 9,
    "start_time": "2022-11-07T07:43:49.764Z"
   },
   {
    "duration": 7,
    "start_time": "2022-11-07T07:43:49.775Z"
   },
   {
    "duration": 48,
    "start_time": "2022-11-07T07:43:49.784Z"
   },
   {
    "duration": 31,
    "start_time": "2022-11-07T07:43:49.834Z"
   },
   {
    "duration": 62,
    "start_time": "2022-11-07T07:43:49.867Z"
   },
   {
    "duration": 32,
    "start_time": "2022-11-07T07:43:49.930Z"
   },
   {
    "duration": 4,
    "start_time": "2022-11-07T07:43:49.964Z"
   },
   {
    "duration": 3,
    "start_time": "2022-11-07T07:48:00.821Z"
   },
   {
    "duration": 195,
    "start_time": "2022-11-07T07:48:00.826Z"
   },
   {
    "duration": 116,
    "start_time": "2022-11-07T07:48:01.023Z"
   },
   {
    "duration": 837,
    "start_time": "2022-11-07T07:48:01.141Z"
   },
   {
    "duration": 263,
    "start_time": "2022-11-07T07:48:01.980Z"
   },
   {
    "duration": 203,
    "start_time": "2022-11-07T07:48:02.245Z"
   },
   {
    "duration": 69,
    "start_time": "2022-11-07T07:48:02.449Z"
   },
   {
    "duration": 172,
    "start_time": "2022-11-07T07:48:02.525Z"
   },
   {
    "duration": 47,
    "start_time": "2022-11-07T07:48:02.698Z"
   },
   {
    "duration": 204,
    "start_time": "2022-11-07T07:48:02.747Z"
   },
   {
    "duration": 282,
    "start_time": "2022-11-07T07:48:02.952Z"
   },
   {
    "duration": 11,
    "start_time": "2022-11-07T07:48:03.235Z"
   },
   {
    "duration": 115,
    "start_time": "2022-11-07T07:48:03.249Z"
   },
   {
    "duration": 32,
    "start_time": "2022-11-07T07:48:03.366Z"
   },
   {
    "duration": 76,
    "start_time": "2022-11-07T07:48:03.400Z"
   },
   {
    "duration": 7,
    "start_time": "2022-11-07T07:48:03.478Z"
   },
   {
    "duration": 52,
    "start_time": "2022-11-07T07:48:03.487Z"
   },
   {
    "duration": 17,
    "start_time": "2022-11-07T07:48:03.540Z"
   },
   {
    "duration": 18,
    "start_time": "2022-11-07T07:48:03.559Z"
   },
   {
    "duration": 137,
    "start_time": "2022-11-07T07:48:03.578Z"
   },
   {
    "duration": 0,
    "start_time": "2022-11-07T07:48:03.720Z"
   },
   {
    "duration": 0,
    "start_time": "2022-11-07T07:48:03.721Z"
   },
   {
    "duration": 0,
    "start_time": "2022-11-07T07:48:03.722Z"
   },
   {
    "duration": 0,
    "start_time": "2022-11-07T07:48:03.725Z"
   },
   {
    "duration": 3,
    "start_time": "2022-11-07T07:51:54.210Z"
   },
   {
    "duration": 185,
    "start_time": "2022-11-07T07:51:54.215Z"
   },
   {
    "duration": 133,
    "start_time": "2022-11-07T07:51:54.402Z"
   },
   {
    "duration": 827,
    "start_time": "2022-11-07T07:51:54.536Z"
   },
   {
    "duration": 244,
    "start_time": "2022-11-07T07:51:55.365Z"
   },
   {
    "duration": 194,
    "start_time": "2022-11-07T07:51:55.610Z"
   },
   {
    "duration": 51,
    "start_time": "2022-11-07T07:51:55.809Z"
   },
   {
    "duration": 177,
    "start_time": "2022-11-07T07:51:55.861Z"
   },
   {
    "duration": 36,
    "start_time": "2022-11-07T07:51:56.040Z"
   },
   {
    "duration": 192,
    "start_time": "2022-11-07T07:51:56.078Z"
   },
   {
    "duration": 210,
    "start_time": "2022-11-07T07:51:56.273Z"
   },
   {
    "duration": 23,
    "start_time": "2022-11-07T07:51:56.485Z"
   },
   {
    "duration": 75,
    "start_time": "2022-11-07T07:51:56.510Z"
   },
   {
    "duration": 46,
    "start_time": "2022-11-07T07:51:56.586Z"
   },
   {
    "duration": 56,
    "start_time": "2022-11-07T07:51:56.634Z"
   },
   {
    "duration": 18,
    "start_time": "2022-11-07T07:51:56.692Z"
   },
   {
    "duration": 7,
    "start_time": "2022-11-07T07:51:56.711Z"
   },
   {
    "duration": 8,
    "start_time": "2022-11-07T07:51:56.719Z"
   },
   {
    "duration": 10,
    "start_time": "2022-11-07T07:51:56.728Z"
   },
   {
    "duration": 27,
    "start_time": "2022-11-07T07:51:56.739Z"
   },
   {
    "duration": 58,
    "start_time": "2022-11-07T07:51:56.767Z"
   },
   {
    "duration": 25,
    "start_time": "2022-11-07T07:51:56.826Z"
   },
   {
    "duration": 57,
    "start_time": "2022-11-07T07:51:56.852Z"
   },
   {
    "duration": 5,
    "start_time": "2022-11-07T07:51:56.910Z"
   },
   {
    "duration": 3,
    "start_time": "2022-11-07T07:53:19.121Z"
   },
   {
    "duration": 184,
    "start_time": "2022-11-07T07:53:19.126Z"
   },
   {
    "duration": 133,
    "start_time": "2022-11-07T07:53:19.311Z"
   },
   {
    "duration": 958,
    "start_time": "2022-11-07T07:53:19.446Z"
   },
   {
    "duration": 281,
    "start_time": "2022-11-07T07:53:20.408Z"
   },
   {
    "duration": 213,
    "start_time": "2022-11-07T07:53:20.691Z"
   },
   {
    "duration": 55,
    "start_time": "2022-11-07T07:53:20.905Z"
   },
   {
    "duration": 176,
    "start_time": "2022-11-07T07:53:20.961Z"
   },
   {
    "duration": 36,
    "start_time": "2022-11-07T07:53:21.139Z"
   },
   {
    "duration": 197,
    "start_time": "2022-11-07T07:53:21.177Z"
   },
   {
    "duration": 212,
    "start_time": "2022-11-07T07:53:21.377Z"
   },
   {
    "duration": 21,
    "start_time": "2022-11-07T07:53:21.591Z"
   },
   {
    "duration": 71,
    "start_time": "2022-11-07T07:53:21.613Z"
   },
   {
    "duration": 45,
    "start_time": "2022-11-07T07:53:21.686Z"
   },
   {
    "duration": 61,
    "start_time": "2022-11-07T07:53:21.733Z"
   },
   {
    "duration": 18,
    "start_time": "2022-11-07T07:53:21.795Z"
   },
   {
    "duration": 8,
    "start_time": "2022-11-07T07:53:21.814Z"
   },
   {
    "duration": 7,
    "start_time": "2022-11-07T07:53:21.824Z"
   },
   {
    "duration": 8,
    "start_time": "2022-11-07T07:53:21.832Z"
   },
   {
    "duration": 14,
    "start_time": "2022-11-07T07:53:21.841Z"
   },
   {
    "duration": 11,
    "start_time": "2022-11-07T07:53:21.856Z"
   },
   {
    "duration": 48,
    "start_time": "2022-11-07T07:53:21.868Z"
   },
   {
    "duration": 15,
    "start_time": "2022-11-07T07:53:21.917Z"
   },
   {
    "duration": 5,
    "start_time": "2022-11-07T07:53:21.935Z"
   },
   {
    "duration": 3,
    "start_time": "2022-11-07T07:53:55.245Z"
   },
   {
    "duration": 192,
    "start_time": "2022-11-07T07:53:55.250Z"
   },
   {
    "duration": 121,
    "start_time": "2022-11-07T07:53:55.444Z"
   },
   {
    "duration": 972,
    "start_time": "2022-11-07T07:53:55.567Z"
   },
   {
    "duration": 261,
    "start_time": "2022-11-07T07:53:56.541Z"
   },
   {
    "duration": 189,
    "start_time": "2022-11-07T07:53:56.808Z"
   },
   {
    "duration": 59,
    "start_time": "2022-11-07T07:53:56.999Z"
   },
   {
    "duration": 175,
    "start_time": "2022-11-07T07:53:57.059Z"
   },
   {
    "duration": 43,
    "start_time": "2022-11-07T07:53:57.236Z"
   },
   {
    "duration": 218,
    "start_time": "2022-11-07T07:53:57.281Z"
   },
   {
    "duration": 214,
    "start_time": "2022-11-07T07:53:57.510Z"
   },
   {
    "duration": 10,
    "start_time": "2022-11-07T07:53:57.725Z"
   },
   {
    "duration": 86,
    "start_time": "2022-11-07T07:53:57.737Z"
   },
   {
    "duration": 33,
    "start_time": "2022-11-07T07:53:57.824Z"
   },
   {
    "duration": 77,
    "start_time": "2022-11-07T07:53:57.859Z"
   },
   {
    "duration": 7,
    "start_time": "2022-11-07T07:53:57.938Z"
   },
   {
    "duration": 9,
    "start_time": "2022-11-07T07:53:57.946Z"
   },
   {
    "duration": 10,
    "start_time": "2022-11-07T07:53:57.956Z"
   },
   {
    "duration": 23,
    "start_time": "2022-11-07T07:53:57.967Z"
   },
   {
    "duration": 32,
    "start_time": "2022-11-07T07:53:57.991Z"
   },
   {
    "duration": 26,
    "start_time": "2022-11-07T07:53:58.025Z"
   },
   {
    "duration": 58,
    "start_time": "2022-11-07T07:53:58.052Z"
   },
   {
    "duration": 25,
    "start_time": "2022-11-07T07:53:58.112Z"
   },
   {
    "duration": 5,
    "start_time": "2022-11-07T07:53:58.138Z"
   },
   {
    "duration": 3,
    "start_time": "2022-11-07T07:57:05.053Z"
   },
   {
    "duration": 181,
    "start_time": "2022-11-07T07:57:05.057Z"
   },
   {
    "duration": 132,
    "start_time": "2022-11-07T07:57:05.240Z"
   },
   {
    "duration": 875,
    "start_time": "2022-11-07T07:57:05.374Z"
   },
   {
    "duration": 248,
    "start_time": "2022-11-07T07:57:06.252Z"
   },
   {
    "duration": 203,
    "start_time": "2022-11-07T07:57:06.509Z"
   },
   {
    "duration": 53,
    "start_time": "2022-11-07T07:57:06.713Z"
   },
   {
    "duration": 175,
    "start_time": "2022-11-07T07:57:06.767Z"
   },
   {
    "duration": 35,
    "start_time": "2022-11-07T07:57:06.944Z"
   },
   {
    "duration": 185,
    "start_time": "2022-11-07T07:57:06.981Z"
   },
   {
    "duration": 218,
    "start_time": "2022-11-07T07:57:07.169Z"
   },
   {
    "duration": 21,
    "start_time": "2022-11-07T07:57:07.389Z"
   },
   {
    "duration": 74,
    "start_time": "2022-11-07T07:57:07.412Z"
   },
   {
    "duration": 47,
    "start_time": "2022-11-07T07:57:07.488Z"
   },
   {
    "duration": 72,
    "start_time": "2022-11-07T07:57:07.537Z"
   },
   {
    "duration": 7,
    "start_time": "2022-11-07T07:57:07.611Z"
   },
   {
    "duration": 7,
    "start_time": "2022-11-07T07:57:07.620Z"
   },
   {
    "duration": 58,
    "start_time": "2022-11-07T07:57:07.629Z"
   },
   {
    "duration": 0,
    "start_time": "2022-11-07T07:57:07.688Z"
   },
   {
    "duration": 0,
    "start_time": "2022-11-07T07:57:07.689Z"
   },
   {
    "duration": 0,
    "start_time": "2022-11-07T07:57:07.690Z"
   },
   {
    "duration": 0,
    "start_time": "2022-11-07T07:57:07.691Z"
   },
   {
    "duration": 0,
    "start_time": "2022-11-07T07:57:07.692Z"
   },
   {
    "duration": 0,
    "start_time": "2022-11-07T07:57:07.693Z"
   },
   {
    "duration": 3,
    "start_time": "2022-11-07T07:57:25.045Z"
   },
   {
    "duration": 180,
    "start_time": "2022-11-07T07:57:25.049Z"
   },
   {
    "duration": 123,
    "start_time": "2022-11-07T07:57:25.230Z"
   },
   {
    "duration": 816,
    "start_time": "2022-11-07T07:57:25.355Z"
   },
   {
    "duration": 307,
    "start_time": "2022-11-07T07:57:26.174Z"
   },
   {
    "duration": 199,
    "start_time": "2022-11-07T07:57:26.484Z"
   },
   {
    "duration": 62,
    "start_time": "2022-11-07T07:57:26.685Z"
   },
   {
    "duration": 174,
    "start_time": "2022-11-07T07:57:26.748Z"
   },
   {
    "duration": 39,
    "start_time": "2022-11-07T07:57:26.924Z"
   },
   {
    "duration": 187,
    "start_time": "2022-11-07T07:57:26.965Z"
   },
   {
    "duration": 222,
    "start_time": "2022-11-07T07:57:27.155Z"
   },
   {
    "duration": 10,
    "start_time": "2022-11-07T07:57:27.379Z"
   },
   {
    "duration": 86,
    "start_time": "2022-11-07T07:57:27.391Z"
   },
   {
    "duration": 46,
    "start_time": "2022-11-07T07:57:27.478Z"
   },
   {
    "duration": 58,
    "start_time": "2022-11-07T07:57:27.526Z"
   },
   {
    "duration": 6,
    "start_time": "2022-11-07T07:57:27.586Z"
   },
   {
    "duration": 15,
    "start_time": "2022-11-07T07:57:27.594Z"
   },
   {
    "duration": 7,
    "start_time": "2022-11-07T07:57:27.611Z"
   },
   {
    "duration": 7,
    "start_time": "2022-11-07T07:57:27.620Z"
   },
   {
    "duration": 27,
    "start_time": "2022-11-07T07:57:27.629Z"
   },
   {
    "duration": 62,
    "start_time": "2022-11-07T07:57:27.657Z"
   },
   {
    "duration": 27,
    "start_time": "2022-11-07T07:57:27.721Z"
   },
   {
    "duration": 26,
    "start_time": "2022-11-07T07:57:27.750Z"
   },
   {
    "duration": 35,
    "start_time": "2022-11-07T07:57:27.777Z"
   },
   {
    "duration": 3,
    "start_time": "2022-11-07T07:57:51.904Z"
   },
   {
    "duration": 175,
    "start_time": "2022-11-07T07:57:51.909Z"
   },
   {
    "duration": 111,
    "start_time": "2022-11-07T07:57:52.087Z"
   },
   {
    "duration": 895,
    "start_time": "2022-11-07T07:57:52.200Z"
   },
   {
    "duration": 241,
    "start_time": "2022-11-07T07:57:53.097Z"
   },
   {
    "duration": 197,
    "start_time": "2022-11-07T07:57:53.340Z"
   },
   {
    "duration": 52,
    "start_time": "2022-11-07T07:57:53.538Z"
   },
   {
    "duration": 179,
    "start_time": "2022-11-07T07:57:53.591Z"
   },
   {
    "duration": 41,
    "start_time": "2022-11-07T07:57:53.771Z"
   },
   {
    "duration": 185,
    "start_time": "2022-11-07T07:57:53.814Z"
   },
   {
    "duration": 204,
    "start_time": "2022-11-07T07:57:54.001Z"
   },
   {
    "duration": 11,
    "start_time": "2022-11-07T07:57:54.209Z"
   },
   {
    "duration": 70,
    "start_time": "2022-11-07T07:57:54.221Z"
   },
   {
    "duration": 45,
    "start_time": "2022-11-07T07:57:54.293Z"
   },
   {
    "duration": 80,
    "start_time": "2022-11-07T07:57:54.339Z"
   },
   {
    "duration": 8,
    "start_time": "2022-11-07T07:57:54.421Z"
   },
   {
    "duration": 11,
    "start_time": "2022-11-07T07:57:54.431Z"
   },
   {
    "duration": 28,
    "start_time": "2022-11-07T07:57:54.444Z"
   },
   {
    "duration": 11,
    "start_time": "2022-11-07T07:57:54.474Z"
   },
   {
    "duration": 23,
    "start_time": "2022-11-07T07:57:54.488Z"
   },
   {
    "duration": 16,
    "start_time": "2022-11-07T07:57:54.513Z"
   },
   {
    "duration": 20,
    "start_time": "2022-11-07T07:57:54.530Z"
   },
   {
    "duration": 18,
    "start_time": "2022-11-07T07:57:54.552Z"
   },
   {
    "duration": 7,
    "start_time": "2022-11-07T07:57:54.572Z"
   },
   {
    "duration": 4,
    "start_time": "2022-11-07T08:02:33.929Z"
   },
   {
    "duration": 180,
    "start_time": "2022-11-07T08:02:33.935Z"
   },
   {
    "duration": 118,
    "start_time": "2022-11-07T08:02:34.118Z"
   },
   {
    "duration": 845,
    "start_time": "2022-11-07T08:02:34.238Z"
   },
   {
    "duration": 252,
    "start_time": "2022-11-07T08:02:35.086Z"
   },
   {
    "duration": 198,
    "start_time": "2022-11-07T08:02:35.339Z"
   },
   {
    "duration": 51,
    "start_time": "2022-11-07T08:02:35.539Z"
   },
   {
    "duration": 231,
    "start_time": "2022-11-07T08:02:35.592Z"
   },
   {
    "duration": 36,
    "start_time": "2022-11-07T08:02:35.825Z"
   },
   {
    "duration": 193,
    "start_time": "2022-11-07T08:02:35.863Z"
   },
   {
    "duration": 220,
    "start_time": "2022-11-07T08:02:36.058Z"
   },
   {
    "duration": 12,
    "start_time": "2022-11-07T08:02:36.280Z"
   },
   {
    "duration": 70,
    "start_time": "2022-11-07T08:02:36.308Z"
   },
   {
    "duration": 45,
    "start_time": "2022-11-07T08:02:36.380Z"
   },
   {
    "duration": 65,
    "start_time": "2022-11-07T08:02:36.427Z"
   },
   {
    "duration": 19,
    "start_time": "2022-11-07T08:02:36.494Z"
   },
   {
    "duration": 14,
    "start_time": "2022-11-07T08:02:36.515Z"
   },
   {
    "duration": 10,
    "start_time": "2022-11-07T08:02:36.530Z"
   },
   {
    "duration": 3,
    "start_time": "2022-11-07T08:09:04.837Z"
   },
   {
    "duration": 172,
    "start_time": "2022-11-07T08:09:04.841Z"
   },
   {
    "duration": 113,
    "start_time": "2022-11-07T08:09:05.015Z"
   },
   {
    "duration": 809,
    "start_time": "2022-11-07T08:09:05.130Z"
   },
   {
    "duration": 256,
    "start_time": "2022-11-07T08:09:05.942Z"
   },
   {
    "duration": 248,
    "start_time": "2022-11-07T08:09:06.200Z"
   },
   {
    "duration": 64,
    "start_time": "2022-11-07T08:09:06.450Z"
   },
   {
    "duration": 170,
    "start_time": "2022-11-07T08:09:06.516Z"
   },
   {
    "duration": 42,
    "start_time": "2022-11-07T08:09:06.687Z"
   },
   {
    "duration": 185,
    "start_time": "2022-11-07T08:09:06.731Z"
   },
   {
    "duration": 209,
    "start_time": "2022-11-07T08:09:06.919Z"
   },
   {
    "duration": 12,
    "start_time": "2022-11-07T08:09:07.130Z"
   },
   {
    "duration": 88,
    "start_time": "2022-11-07T08:09:07.144Z"
   },
   {
    "duration": 33,
    "start_time": "2022-11-07T08:09:07.234Z"
   },
   {
    "duration": 79,
    "start_time": "2022-11-07T08:09:07.268Z"
   },
   {
    "duration": 7,
    "start_time": "2022-11-07T08:09:07.348Z"
   },
   {
    "duration": 10,
    "start_time": "2022-11-07T08:09:07.356Z"
   },
   {
    "duration": 8,
    "start_time": "2022-11-07T08:09:07.368Z"
   },
   {
    "duration": 9,
    "start_time": "2022-11-07T08:09:07.378Z"
   },
   {
    "duration": 22,
    "start_time": "2022-11-07T08:09:07.388Z"
   },
   {
    "duration": 15,
    "start_time": "2022-11-07T08:09:07.412Z"
   },
   {
    "duration": 23,
    "start_time": "2022-11-07T08:09:07.428Z"
   },
   {
    "duration": 0,
    "start_time": "2022-11-07T08:09:07.452Z"
   },
   {
    "duration": 0,
    "start_time": "2022-11-07T08:09:07.453Z"
   },
   {
    "duration": 0,
    "start_time": "2022-11-07T08:09:07.454Z"
   },
   {
    "duration": 0,
    "start_time": "2022-11-07T08:09:07.456Z"
   },
   {
    "duration": 3,
    "start_time": "2022-11-07T08:12:10.272Z"
   },
   {
    "duration": 178,
    "start_time": "2022-11-07T08:12:10.276Z"
   },
   {
    "duration": 108,
    "start_time": "2022-11-07T08:12:10.456Z"
   },
   {
    "duration": 797,
    "start_time": "2022-11-07T08:12:10.566Z"
   },
   {
    "duration": 299,
    "start_time": "2022-11-07T08:12:11.365Z"
   },
   {
    "duration": 204,
    "start_time": "2022-11-07T08:12:11.667Z"
   },
   {
    "duration": 58,
    "start_time": "2022-11-07T08:12:11.873Z"
   },
   {
    "duration": 168,
    "start_time": "2022-11-07T08:12:11.932Z"
   },
   {
    "duration": 42,
    "start_time": "2022-11-07T08:12:12.101Z"
   },
   {
    "duration": 190,
    "start_time": "2022-11-07T08:12:12.145Z"
   },
   {
    "duration": 205,
    "start_time": "2022-11-07T08:12:12.337Z"
   },
   {
    "duration": 11,
    "start_time": "2022-11-07T08:12:12.543Z"
   },
   {
    "duration": 87,
    "start_time": "2022-11-07T08:12:12.555Z"
   },
   {
    "duration": 32,
    "start_time": "2022-11-07T08:12:12.644Z"
   },
   {
    "duration": 68,
    "start_time": "2022-11-07T08:12:12.677Z"
   },
   {
    "duration": 8,
    "start_time": "2022-11-07T08:12:12.746Z"
   },
   {
    "duration": 7,
    "start_time": "2022-11-07T08:12:12.755Z"
   },
   {
    "duration": 7,
    "start_time": "2022-11-07T08:12:12.764Z"
   },
   {
    "duration": 8,
    "start_time": "2022-11-07T08:12:12.773Z"
   },
   {
    "duration": 39,
    "start_time": "2022-11-07T08:12:12.782Z"
   },
   {
    "duration": 12,
    "start_time": "2022-11-07T08:12:12.822Z"
   },
   {
    "duration": 9,
    "start_time": "2022-11-07T08:12:12.836Z"
   },
   {
    "duration": 12,
    "start_time": "2022-11-07T08:12:12.847Z"
   },
   {
    "duration": 6,
    "start_time": "2022-11-07T08:12:12.860Z"
   },
   {
    "duration": 1826,
    "start_time": "2022-11-08T23:00:59.347Z"
   },
   {
    "duration": 400,
    "start_time": "2022-11-08T23:01:01.175Z"
   },
   {
    "duration": 310,
    "start_time": "2022-11-08T23:01:01.581Z"
   },
   {
    "duration": 1416,
    "start_time": "2022-11-08T23:01:01.947Z"
   },
   {
    "duration": 793,
    "start_time": "2022-11-08T23:01:03.364Z"
   },
   {
    "duration": 435,
    "start_time": "2022-11-08T23:01:04.159Z"
   },
   {
    "duration": 131,
    "start_time": "2022-11-08T23:01:04.647Z"
   },
   {
    "duration": 316,
    "start_time": "2022-11-08T23:01:04.780Z"
   },
   {
    "duration": 150,
    "start_time": "2022-11-08T23:01:05.098Z"
   },
   {
    "duration": 432,
    "start_time": "2022-11-08T23:01:05.251Z"
   },
   {
    "duration": 466,
    "start_time": "2022-11-08T23:01:05.685Z"
   },
   {
    "duration": 12,
    "start_time": "2022-11-08T23:01:06.152Z"
   },
   {
    "duration": 182,
    "start_time": "2022-11-08T23:01:06.167Z"
   },
   {
    "duration": 31,
    "start_time": "2022-11-08T23:01:06.350Z"
   },
   {
    "duration": 166,
    "start_time": "2022-11-08T23:01:06.382Z"
   },
   {
    "duration": 7,
    "start_time": "2022-11-08T23:01:06.550Z"
   },
   {
    "duration": 8,
    "start_time": "2022-11-08T23:01:06.558Z"
   },
   {
    "duration": 12,
    "start_time": "2022-11-08T23:01:06.568Z"
   },
   {
    "duration": 70,
    "start_time": "2022-11-08T23:01:06.581Z"
   },
   {
    "duration": 14,
    "start_time": "2022-11-08T23:01:06.652Z"
   },
   {
    "duration": 9,
    "start_time": "2022-11-08T23:01:06.668Z"
   },
   {
    "duration": 76,
    "start_time": "2022-11-08T23:01:06.679Z"
   },
   {
    "duration": 10,
    "start_time": "2022-11-08T23:01:06.757Z"
   },
   {
    "duration": 5,
    "start_time": "2022-11-08T23:01:06.768Z"
   },
   {
    "duration": 7,
    "start_time": "2022-11-08T23:02:53.129Z"
   },
   {
    "duration": 7,
    "start_time": "2022-11-08T23:03:05.550Z"
   },
   {
    "duration": 368,
    "start_time": "2022-11-08T23:03:09.880Z"
   },
   {
    "duration": 1946,
    "start_time": "2022-11-08T23:03:16.918Z"
   },
   {
    "duration": 396,
    "start_time": "2022-11-08T23:03:18.866Z"
   },
   {
    "duration": 226,
    "start_time": "2022-11-08T23:03:19.264Z"
   },
   {
    "duration": 1438,
    "start_time": "2022-11-08T23:03:19.547Z"
   },
   {
    "duration": 810,
    "start_time": "2022-11-08T23:03:20.986Z"
   },
   {
    "duration": 339,
    "start_time": "2022-11-08T23:03:21.848Z"
   },
   {
    "duration": 165,
    "start_time": "2022-11-08T23:03:22.189Z"
   },
   {
    "duration": 312,
    "start_time": "2022-11-08T23:03:22.355Z"
   },
   {
    "duration": 106,
    "start_time": "2022-11-08T23:03:22.669Z"
   },
   {
    "duration": 371,
    "start_time": "2022-11-08T23:03:22.778Z"
   },
   {
    "duration": 398,
    "start_time": "2022-11-08T23:03:23.151Z"
   },
   {
    "duration": 11,
    "start_time": "2022-11-08T23:03:23.551Z"
   },
   {
    "duration": 129,
    "start_time": "2022-11-08T23:03:23.563Z"
   },
   {
    "duration": 82,
    "start_time": "2022-11-08T23:03:23.694Z"
   },
   {
    "duration": 173,
    "start_time": "2022-11-08T23:03:23.777Z"
   },
   {
    "duration": 8,
    "start_time": "2022-11-08T23:03:23.951Z"
   },
   {
    "duration": 9,
    "start_time": "2022-11-08T23:03:23.960Z"
   },
   {
    "duration": 7,
    "start_time": "2022-11-08T23:03:23.971Z"
   },
   {
    "duration": 68,
    "start_time": "2022-11-08T23:03:23.980Z"
   },
   {
    "duration": 11,
    "start_time": "2022-11-08T23:03:24.050Z"
   },
   {
    "duration": 13,
    "start_time": "2022-11-08T23:03:24.063Z"
   },
   {
    "duration": 70,
    "start_time": "2022-11-08T23:03:24.078Z"
   },
   {
    "duration": 9,
    "start_time": "2022-11-08T23:03:24.150Z"
   },
   {
    "duration": 6,
    "start_time": "2022-11-08T23:03:24.160Z"
   },
   {
    "duration": 1788,
    "start_time": "2022-11-08T23:06:51.402Z"
   },
   {
    "duration": 387,
    "start_time": "2022-11-08T23:06:53.192Z"
   },
   {
    "duration": 271,
    "start_time": "2022-11-08T23:06:53.581Z"
   },
   {
    "duration": 1430,
    "start_time": "2022-11-08T23:06:53.853Z"
   },
   {
    "duration": 980,
    "start_time": "2022-11-08T23:06:55.285Z"
   },
   {
    "duration": 386,
    "start_time": "2022-11-08T23:06:56.267Z"
   },
   {
    "duration": 125,
    "start_time": "2022-11-08T23:06:56.655Z"
   },
   {
    "duration": 302,
    "start_time": "2022-11-08T23:06:56.782Z"
   },
   {
    "duration": 92,
    "start_time": "2022-11-08T23:06:57.086Z"
   },
   {
    "duration": 394,
    "start_time": "2022-11-08T23:06:57.181Z"
   },
   {
    "duration": 399,
    "start_time": "2022-11-08T23:06:57.577Z"
   },
   {
    "duration": 10,
    "start_time": "2022-11-08T23:06:57.978Z"
   },
   {
    "duration": 178,
    "start_time": "2022-11-08T23:06:57.990Z"
   },
   {
    "duration": 82,
    "start_time": "2022-11-08T23:06:58.169Z"
   },
   {
    "duration": 120,
    "start_time": "2022-11-08T23:06:58.253Z"
   },
   {
    "duration": 8,
    "start_time": "2022-11-08T23:06:58.374Z"
   },
   {
    "duration": 64,
    "start_time": "2022-11-08T23:06:58.384Z"
   },
   {
    "duration": 18,
    "start_time": "2022-11-08T23:06:58.450Z"
   },
   {
    "duration": 10,
    "start_time": "2022-11-08T23:06:58.470Z"
   },
   {
    "duration": 13,
    "start_time": "2022-11-08T23:06:58.481Z"
   },
   {
    "duration": 12,
    "start_time": "2022-11-08T23:06:58.548Z"
   },
   {
    "duration": 13,
    "start_time": "2022-11-08T23:06:58.562Z"
   },
   {
    "duration": 71,
    "start_time": "2022-11-08T23:06:58.577Z"
   },
   {
    "duration": 5,
    "start_time": "2022-11-08T23:06:58.650Z"
   }
  ],
  "kernelspec": {
   "display_name": "Python 3 (ipykernel)",
   "language": "python",
   "name": "python3"
  },
  "language_info": {
   "codemirror_mode": {
    "name": "ipython",
    "version": 3
   },
   "file_extension": ".py",
   "mimetype": "text/x-python",
   "name": "python",
   "nbconvert_exporter": "python",
   "pygments_lexer": "ipython3",
   "version": "3.9.12"
  },
  "toc": {
   "base_numbering": 1,
   "nav_menu": {},
   "number_sections": true,
   "sideBar": true,
   "skip_h1_title": true,
   "title_cell": "Table of Contents",
   "title_sidebar": "Contents",
   "toc_cell": false,
   "toc_position": {
    "height": "calc(100% - 180px)",
    "left": "10px",
    "top": "150px",
    "width": "325.594px"
   },
   "toc_section_display": true,
   "toc_window_display": true
  }
 },
 "nbformat": 4,
 "nbformat_minor": 2
}
