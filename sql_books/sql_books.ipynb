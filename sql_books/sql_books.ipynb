{
 "cells": [
  {
   "cell_type": "markdown",
   "id": "b2f94474",
   "metadata": {},
   "source": [
    "# Анализ базы данных сервиса для чтения книг\n",
    "\n",
    "\n",
    "## Цели исследования:\n",
    "1. Изучить информацию о книгах, издательствах, авторах, а также пользовательских обзорах книг.\n",
    "2. Сформулировать ценностное предложение для нового продукта."
   ]
  },
  {
   "cell_type": "code",
   "execution_count": 1,
   "id": "47a82fdb",
   "metadata": {},
   "outputs": [],
   "source": [
    "# импортируем библиотеки\n",
    "import pandas as pd\n",
    "from sqlalchemy import create_engine\n",
    "# устанавливаем параметры\n",
    "db_config = {'user': 'praktikum_student', # имя пользователя\n",
    "'pwd': 'Sdf4$2;d-d30pp', # пароль\n",
    "'host': 'rc1b-wcoijxj3yxfsf3fs.mdb.yandexcloud.net',\n",
    "'port': 6432, # порт подключения\n",
    "'db': 'data-analyst-final-project-db'} # название базы данных\n",
    "connection_string = 'postgresql://{}:{}@{}:{}/{}'.format(db_config['user'],\n",
    " db_config['pwd'],\n",
    " db_config['host'],\n",
    " db_config['port'],\n",
    " db_config['db'])\n",
    "# сохраняем коннектор\n",
    "engine = create_engine(connection_string, connect_args={'sslmode':'require'}) "
   ]
  },
  {
   "cell_type": "code",
   "execution_count": 2,
   "id": "bf57fc87",
   "metadata": {},
   "outputs": [],
   "source": [
    "con = engine\n",
    "#функция для вызова sql запроса\n",
    "def select(sql):\n",
    "    return pd.read_sql(sql,con)"
   ]
  },
  {
   "cell_type": "code",
   "execution_count": 3,
   "id": "88384bc7",
   "metadata": {},
   "outputs": [
    {
     "data": {
      "text/html": [
       "<div>\n",
       "<style scoped>\n",
       "    .dataframe tbody tr th:only-of-type {\n",
       "        vertical-align: middle;\n",
       "    }\n",
       "\n",
       "    .dataframe tbody tr th {\n",
       "        vertical-align: top;\n",
       "    }\n",
       "\n",
       "    .dataframe thead th {\n",
       "        text-align: right;\n",
       "    }\n",
       "</style>\n",
       "<table border=\"1\" class=\"dataframe\">\n",
       "  <thead>\n",
       "    <tr style=\"text-align: right;\">\n",
       "      <th></th>\n",
       "      <th>book_id</th>\n",
       "      <th>author_id</th>\n",
       "      <th>title</th>\n",
       "      <th>num_pages</th>\n",
       "      <th>publication_date</th>\n",
       "      <th>publisher_id</th>\n",
       "    </tr>\n",
       "  </thead>\n",
       "  <tbody>\n",
       "    <tr>\n",
       "      <th>0</th>\n",
       "      <td>1</td>\n",
       "      <td>546</td>\n",
       "      <td>'Salem's Lot</td>\n",
       "      <td>594</td>\n",
       "      <td>2005-11-01</td>\n",
       "      <td>93</td>\n",
       "    </tr>\n",
       "    <tr>\n",
       "      <th>1</th>\n",
       "      <td>2</td>\n",
       "      <td>465</td>\n",
       "      <td>1 000 Places to See Before You Die</td>\n",
       "      <td>992</td>\n",
       "      <td>2003-05-22</td>\n",
       "      <td>336</td>\n",
       "    </tr>\n",
       "    <tr>\n",
       "      <th>2</th>\n",
       "      <td>3</td>\n",
       "      <td>407</td>\n",
       "      <td>13 Little Blue Envelopes (Little Blue Envelope...</td>\n",
       "      <td>322</td>\n",
       "      <td>2010-12-21</td>\n",
       "      <td>135</td>\n",
       "    </tr>\n",
       "    <tr>\n",
       "      <th>3</th>\n",
       "      <td>4</td>\n",
       "      <td>82</td>\n",
       "      <td>1491: New Revelations of the Americas Before C...</td>\n",
       "      <td>541</td>\n",
       "      <td>2006-10-10</td>\n",
       "      <td>309</td>\n",
       "    </tr>\n",
       "    <tr>\n",
       "      <th>4</th>\n",
       "      <td>5</td>\n",
       "      <td>125</td>\n",
       "      <td>1776</td>\n",
       "      <td>386</td>\n",
       "      <td>2006-07-04</td>\n",
       "      <td>268</td>\n",
       "    </tr>\n",
       "    <tr>\n",
       "      <th>5</th>\n",
       "      <td>6</td>\n",
       "      <td>257</td>\n",
       "      <td>1st to Die (Women's Murder Club  #1)</td>\n",
       "      <td>424</td>\n",
       "      <td>2005-05-20</td>\n",
       "      <td>116</td>\n",
       "    </tr>\n",
       "    <tr>\n",
       "      <th>6</th>\n",
       "      <td>7</td>\n",
       "      <td>258</td>\n",
       "      <td>2nd Chance (Women's Murder Club  #2)</td>\n",
       "      <td>400</td>\n",
       "      <td>2005-05-20</td>\n",
       "      <td>116</td>\n",
       "    </tr>\n",
       "    <tr>\n",
       "      <th>7</th>\n",
       "      <td>8</td>\n",
       "      <td>260</td>\n",
       "      <td>4th of July (Women's Murder Club  #4)</td>\n",
       "      <td>448</td>\n",
       "      <td>2006-06-01</td>\n",
       "      <td>318</td>\n",
       "    </tr>\n",
       "    <tr>\n",
       "      <th>8</th>\n",
       "      <td>9</td>\n",
       "      <td>563</td>\n",
       "      <td>A Beautiful Mind</td>\n",
       "      <td>461</td>\n",
       "      <td>2002-02-04</td>\n",
       "      <td>104</td>\n",
       "    </tr>\n",
       "    <tr>\n",
       "      <th>9</th>\n",
       "      <td>10</td>\n",
       "      <td>445</td>\n",
       "      <td>A Bend in the Road</td>\n",
       "      <td>341</td>\n",
       "      <td>2005-04-01</td>\n",
       "      <td>116</td>\n",
       "    </tr>\n",
       "  </tbody>\n",
       "</table>\n",
       "</div>"
      ],
      "text/plain": [
       "   book_id  author_id                                              title  \\\n",
       "0        1        546                                       'Salem's Lot   \n",
       "1        2        465                 1 000 Places to See Before You Die   \n",
       "2        3        407  13 Little Blue Envelopes (Little Blue Envelope...   \n",
       "3        4         82  1491: New Revelations of the Americas Before C...   \n",
       "4        5        125                                               1776   \n",
       "5        6        257               1st to Die (Women's Murder Club  #1)   \n",
       "6        7        258               2nd Chance (Women's Murder Club  #2)   \n",
       "7        8        260              4th of July (Women's Murder Club  #4)   \n",
       "8        9        563                                   A Beautiful Mind   \n",
       "9       10        445                                 A Bend in the Road   \n",
       "\n",
       "   num_pages publication_date  publisher_id  \n",
       "0        594       2005-11-01            93  \n",
       "1        992       2003-05-22           336  \n",
       "2        322       2010-12-21           135  \n",
       "3        541       2006-10-10           309  \n",
       "4        386       2006-07-04           268  \n",
       "5        424       2005-05-20           116  \n",
       "6        400       2005-05-20           116  \n",
       "7        448       2006-06-01           318  \n",
       "8        461       2002-02-04           104  \n",
       "9        341       2005-04-01           116  "
      ]
     },
     "execution_count": 3,
     "metadata": {},
     "output_type": "execute_result"
    }
   ],
   "source": [
    "check1='''select * from books limit 10'''\n",
    "select(check1)"
   ]
  },
  {
   "cell_type": "code",
   "execution_count": 4,
   "id": "fee72f82",
   "metadata": {},
   "outputs": [
    {
     "data": {
      "text/html": [
       "<div>\n",
       "<style scoped>\n",
       "    .dataframe tbody tr th:only-of-type {\n",
       "        vertical-align: middle;\n",
       "    }\n",
       "\n",
       "    .dataframe tbody tr th {\n",
       "        vertical-align: top;\n",
       "    }\n",
       "\n",
       "    .dataframe thead th {\n",
       "        text-align: right;\n",
       "    }\n",
       "</style>\n",
       "<table border=\"1\" class=\"dataframe\">\n",
       "  <thead>\n",
       "    <tr style=\"text-align: right;\">\n",
       "      <th></th>\n",
       "      <th>author_id</th>\n",
       "      <th>author</th>\n",
       "    </tr>\n",
       "  </thead>\n",
       "  <tbody>\n",
       "    <tr>\n",
       "      <th>0</th>\n",
       "      <td>1</td>\n",
       "      <td>A.S. Byatt</td>\n",
       "    </tr>\n",
       "    <tr>\n",
       "      <th>1</th>\n",
       "      <td>2</td>\n",
       "      <td>Aesop/Laura Harris/Laura Gibbs</td>\n",
       "    </tr>\n",
       "    <tr>\n",
       "      <th>2</th>\n",
       "      <td>3</td>\n",
       "      <td>Agatha Christie</td>\n",
       "    </tr>\n",
       "    <tr>\n",
       "      <th>3</th>\n",
       "      <td>4</td>\n",
       "      <td>Alan Brennert</td>\n",
       "    </tr>\n",
       "    <tr>\n",
       "      <th>4</th>\n",
       "      <td>5</td>\n",
       "      <td>Alan Moore/David   Lloyd</td>\n",
       "    </tr>\n",
       "    <tr>\n",
       "      <th>5</th>\n",
       "      <td>6</td>\n",
       "      <td>Alan Paton</td>\n",
       "    </tr>\n",
       "    <tr>\n",
       "      <th>6</th>\n",
       "      <td>7</td>\n",
       "      <td>Albert Camus/Justin O'Brien</td>\n",
       "    </tr>\n",
       "    <tr>\n",
       "      <th>7</th>\n",
       "      <td>8</td>\n",
       "      <td>Aldous Huxley</td>\n",
       "    </tr>\n",
       "    <tr>\n",
       "      <th>8</th>\n",
       "      <td>9</td>\n",
       "      <td>Aldous Huxley/Christopher Hitchens</td>\n",
       "    </tr>\n",
       "    <tr>\n",
       "      <th>9</th>\n",
       "      <td>10</td>\n",
       "      <td>Aleksandr Solzhenitsyn/H.T. Willetts</td>\n",
       "    </tr>\n",
       "  </tbody>\n",
       "</table>\n",
       "</div>"
      ],
      "text/plain": [
       "   author_id                                author\n",
       "0          1                            A.S. Byatt\n",
       "1          2        Aesop/Laura Harris/Laura Gibbs\n",
       "2          3                       Agatha Christie\n",
       "3          4                         Alan Brennert\n",
       "4          5              Alan Moore/David   Lloyd\n",
       "5          6                            Alan Paton\n",
       "6          7           Albert Camus/Justin O'Brien\n",
       "7          8                         Aldous Huxley\n",
       "8          9    Aldous Huxley/Christopher Hitchens\n",
       "9         10  Aleksandr Solzhenitsyn/H.T. Willetts"
      ]
     },
     "execution_count": 4,
     "metadata": {},
     "output_type": "execute_result"
    }
   ],
   "source": [
    "check2='''select * from authors limit 10'''\n",
    "select(check2)"
   ]
  },
  {
   "cell_type": "code",
   "execution_count": 5,
   "id": "c104e046",
   "metadata": {},
   "outputs": [
    {
     "data": {
      "text/html": [
       "<div>\n",
       "<style scoped>\n",
       "    .dataframe tbody tr th:only-of-type {\n",
       "        vertical-align: middle;\n",
       "    }\n",
       "\n",
       "    .dataframe tbody tr th {\n",
       "        vertical-align: top;\n",
       "    }\n",
       "\n",
       "    .dataframe thead th {\n",
       "        text-align: right;\n",
       "    }\n",
       "</style>\n",
       "<table border=\"1\" class=\"dataframe\">\n",
       "  <thead>\n",
       "    <tr style=\"text-align: right;\">\n",
       "      <th></th>\n",
       "      <th>publisher_id</th>\n",
       "      <th>publisher</th>\n",
       "    </tr>\n",
       "  </thead>\n",
       "  <tbody>\n",
       "    <tr>\n",
       "      <th>0</th>\n",
       "      <td>1</td>\n",
       "      <td>Ace</td>\n",
       "    </tr>\n",
       "    <tr>\n",
       "      <th>1</th>\n",
       "      <td>2</td>\n",
       "      <td>Ace Book</td>\n",
       "    </tr>\n",
       "    <tr>\n",
       "      <th>2</th>\n",
       "      <td>3</td>\n",
       "      <td>Ace Books</td>\n",
       "    </tr>\n",
       "    <tr>\n",
       "      <th>3</th>\n",
       "      <td>4</td>\n",
       "      <td>Ace Hardcover</td>\n",
       "    </tr>\n",
       "    <tr>\n",
       "      <th>4</th>\n",
       "      <td>5</td>\n",
       "      <td>Addison Wesley Publishing Company</td>\n",
       "    </tr>\n",
       "    <tr>\n",
       "      <th>5</th>\n",
       "      <td>6</td>\n",
       "      <td>Aladdin</td>\n",
       "    </tr>\n",
       "    <tr>\n",
       "      <th>6</th>\n",
       "      <td>7</td>\n",
       "      <td>Aladdin Paperbacks</td>\n",
       "    </tr>\n",
       "    <tr>\n",
       "      <th>7</th>\n",
       "      <td>8</td>\n",
       "      <td>Albin Michel</td>\n",
       "    </tr>\n",
       "    <tr>\n",
       "      <th>8</th>\n",
       "      <td>9</td>\n",
       "      <td>Alfred A. Knopf</td>\n",
       "    </tr>\n",
       "    <tr>\n",
       "      <th>9</th>\n",
       "      <td>10</td>\n",
       "      <td>Alfred A. Knopf Books for Young Readers</td>\n",
       "    </tr>\n",
       "  </tbody>\n",
       "</table>\n",
       "</div>"
      ],
      "text/plain": [
       "   publisher_id                                publisher\n",
       "0             1                                      Ace\n",
       "1             2                                 Ace Book\n",
       "2             3                                Ace Books\n",
       "3             4                            Ace Hardcover\n",
       "4             5        Addison Wesley Publishing Company\n",
       "5             6                                  Aladdin\n",
       "6             7                       Aladdin Paperbacks\n",
       "7             8                             Albin Michel\n",
       "8             9                          Alfred A. Knopf\n",
       "9            10  Alfred A. Knopf Books for Young Readers"
      ]
     },
     "execution_count": 5,
     "metadata": {},
     "output_type": "execute_result"
    }
   ],
   "source": [
    "check3='''select * from publishers limit 10'''\n",
    "select(check3)"
   ]
  },
  {
   "cell_type": "code",
   "execution_count": 6,
   "id": "806e8244",
   "metadata": {},
   "outputs": [
    {
     "data": {
      "text/html": [
       "<div>\n",
       "<style scoped>\n",
       "    .dataframe tbody tr th:only-of-type {\n",
       "        vertical-align: middle;\n",
       "    }\n",
       "\n",
       "    .dataframe tbody tr th {\n",
       "        vertical-align: top;\n",
       "    }\n",
       "\n",
       "    .dataframe thead th {\n",
       "        text-align: right;\n",
       "    }\n",
       "</style>\n",
       "<table border=\"1\" class=\"dataframe\">\n",
       "  <thead>\n",
       "    <tr style=\"text-align: right;\">\n",
       "      <th></th>\n",
       "      <th>rating_id</th>\n",
       "      <th>book_id</th>\n",
       "      <th>username</th>\n",
       "      <th>rating</th>\n",
       "    </tr>\n",
       "  </thead>\n",
       "  <tbody>\n",
       "    <tr>\n",
       "      <th>0</th>\n",
       "      <td>1</td>\n",
       "      <td>1</td>\n",
       "      <td>ryanfranco</td>\n",
       "      <td>4</td>\n",
       "    </tr>\n",
       "    <tr>\n",
       "      <th>1</th>\n",
       "      <td>2</td>\n",
       "      <td>1</td>\n",
       "      <td>grantpatricia</td>\n",
       "      <td>2</td>\n",
       "    </tr>\n",
       "    <tr>\n",
       "      <th>2</th>\n",
       "      <td>3</td>\n",
       "      <td>1</td>\n",
       "      <td>brandtandrea</td>\n",
       "      <td>5</td>\n",
       "    </tr>\n",
       "    <tr>\n",
       "      <th>3</th>\n",
       "      <td>4</td>\n",
       "      <td>2</td>\n",
       "      <td>lorichen</td>\n",
       "      <td>3</td>\n",
       "    </tr>\n",
       "    <tr>\n",
       "      <th>4</th>\n",
       "      <td>5</td>\n",
       "      <td>2</td>\n",
       "      <td>mariokeller</td>\n",
       "      <td>2</td>\n",
       "    </tr>\n",
       "    <tr>\n",
       "      <th>5</th>\n",
       "      <td>6</td>\n",
       "      <td>3</td>\n",
       "      <td>johnsonamanda</td>\n",
       "      <td>4</td>\n",
       "    </tr>\n",
       "    <tr>\n",
       "      <th>6</th>\n",
       "      <td>7</td>\n",
       "      <td>3</td>\n",
       "      <td>scotttamara</td>\n",
       "      <td>5</td>\n",
       "    </tr>\n",
       "    <tr>\n",
       "      <th>7</th>\n",
       "      <td>8</td>\n",
       "      <td>3</td>\n",
       "      <td>lesliegibbs</td>\n",
       "      <td>5</td>\n",
       "    </tr>\n",
       "    <tr>\n",
       "      <th>8</th>\n",
       "      <td>9</td>\n",
       "      <td>4</td>\n",
       "      <td>abbottjames</td>\n",
       "      <td>5</td>\n",
       "    </tr>\n",
       "    <tr>\n",
       "      <th>9</th>\n",
       "      <td>10</td>\n",
       "      <td>4</td>\n",
       "      <td>valenciaanne</td>\n",
       "      <td>4</td>\n",
       "    </tr>\n",
       "  </tbody>\n",
       "</table>\n",
       "</div>"
      ],
      "text/plain": [
       "   rating_id  book_id       username  rating\n",
       "0          1        1     ryanfranco       4\n",
       "1          2        1  grantpatricia       2\n",
       "2          3        1   brandtandrea       5\n",
       "3          4        2       lorichen       3\n",
       "4          5        2    mariokeller       2\n",
       "5          6        3  johnsonamanda       4\n",
       "6          7        3    scotttamara       5\n",
       "7          8        3    lesliegibbs       5\n",
       "8          9        4    abbottjames       5\n",
       "9         10        4   valenciaanne       4"
      ]
     },
     "execution_count": 6,
     "metadata": {},
     "output_type": "execute_result"
    }
   ],
   "source": [
    "check4='''select * from ratings limit 10'''\n",
    "select(check4)"
   ]
  },
  {
   "cell_type": "code",
   "execution_count": 7,
   "id": "25101cd2",
   "metadata": {},
   "outputs": [
    {
     "data": {
      "text/html": [
       "<div>\n",
       "<style scoped>\n",
       "    .dataframe tbody tr th:only-of-type {\n",
       "        vertical-align: middle;\n",
       "    }\n",
       "\n",
       "    .dataframe tbody tr th {\n",
       "        vertical-align: top;\n",
       "    }\n",
       "\n",
       "    .dataframe thead th {\n",
       "        text-align: right;\n",
       "    }\n",
       "</style>\n",
       "<table border=\"1\" class=\"dataframe\">\n",
       "  <thead>\n",
       "    <tr style=\"text-align: right;\">\n",
       "      <th></th>\n",
       "      <th>review_id</th>\n",
       "      <th>book_id</th>\n",
       "      <th>username</th>\n",
       "      <th>text</th>\n",
       "    </tr>\n",
       "  </thead>\n",
       "  <tbody>\n",
       "    <tr>\n",
       "      <th>0</th>\n",
       "      <td>1</td>\n",
       "      <td>1</td>\n",
       "      <td>brandtandrea</td>\n",
       "      <td>Mention society tell send professor analysis. ...</td>\n",
       "    </tr>\n",
       "    <tr>\n",
       "      <th>1</th>\n",
       "      <td>2</td>\n",
       "      <td>1</td>\n",
       "      <td>ryanfranco</td>\n",
       "      <td>Foot glass pretty audience hit themselves. Amo...</td>\n",
       "    </tr>\n",
       "    <tr>\n",
       "      <th>2</th>\n",
       "      <td>3</td>\n",
       "      <td>2</td>\n",
       "      <td>lorichen</td>\n",
       "      <td>Listen treat keep worry. Miss husband tax but ...</td>\n",
       "    </tr>\n",
       "    <tr>\n",
       "      <th>3</th>\n",
       "      <td>4</td>\n",
       "      <td>3</td>\n",
       "      <td>johnsonamanda</td>\n",
       "      <td>Finally month interesting blue could nature cu...</td>\n",
       "    </tr>\n",
       "    <tr>\n",
       "      <th>4</th>\n",
       "      <td>5</td>\n",
       "      <td>3</td>\n",
       "      <td>scotttamara</td>\n",
       "      <td>Nation purpose heavy give wait song will. List...</td>\n",
       "    </tr>\n",
       "    <tr>\n",
       "      <th>5</th>\n",
       "      <td>6</td>\n",
       "      <td>3</td>\n",
       "      <td>lesliegibbs</td>\n",
       "      <td>Analysis no several cause international.</td>\n",
       "    </tr>\n",
       "    <tr>\n",
       "      <th>6</th>\n",
       "      <td>7</td>\n",
       "      <td>4</td>\n",
       "      <td>valenciaanne</td>\n",
       "      <td>One there cost another. Say type save. With pe...</td>\n",
       "    </tr>\n",
       "    <tr>\n",
       "      <th>7</th>\n",
       "      <td>8</td>\n",
       "      <td>4</td>\n",
       "      <td>abbottjames</td>\n",
       "      <td>Within enough mother. There at system full rec...</td>\n",
       "    </tr>\n",
       "    <tr>\n",
       "      <th>8</th>\n",
       "      <td>9</td>\n",
       "      <td>5</td>\n",
       "      <td>npowers</td>\n",
       "      <td>Thank now focus realize economy focus fly. Ite...</td>\n",
       "    </tr>\n",
       "    <tr>\n",
       "      <th>9</th>\n",
       "      <td>10</td>\n",
       "      <td>5</td>\n",
       "      <td>staylor</td>\n",
       "      <td>Game push lot reduce where remember. Including...</td>\n",
       "    </tr>\n",
       "  </tbody>\n",
       "</table>\n",
       "</div>"
      ],
      "text/plain": [
       "   review_id  book_id       username  \\\n",
       "0          1        1   brandtandrea   \n",
       "1          2        1     ryanfranco   \n",
       "2          3        2       lorichen   \n",
       "3          4        3  johnsonamanda   \n",
       "4          5        3    scotttamara   \n",
       "5          6        3    lesliegibbs   \n",
       "6          7        4   valenciaanne   \n",
       "7          8        4    abbottjames   \n",
       "8          9        5        npowers   \n",
       "9         10        5        staylor   \n",
       "\n",
       "                                                text  \n",
       "0  Mention society tell send professor analysis. ...  \n",
       "1  Foot glass pretty audience hit themselves. Amo...  \n",
       "2  Listen treat keep worry. Miss husband tax but ...  \n",
       "3  Finally month interesting blue could nature cu...  \n",
       "4  Nation purpose heavy give wait song will. List...  \n",
       "5           Analysis no several cause international.  \n",
       "6  One there cost another. Say type save. With pe...  \n",
       "7  Within enough mother. There at system full rec...  \n",
       "8  Thank now focus realize economy focus fly. Ite...  \n",
       "9  Game push lot reduce where remember. Including...  "
      ]
     },
     "execution_count": 7,
     "metadata": {},
     "output_type": "execute_result"
    }
   ],
   "source": [
    "check5='''select * from reviews limit 10'''\n",
    "select(check5)"
   ]
  },
  {
   "cell_type": "code",
   "execution_count": 8,
   "id": "26976c7b",
   "metadata": {},
   "outputs": [
    {
     "data": {
      "text/html": [
       "<div>\n",
       "<style scoped>\n",
       "    .dataframe tbody tr th:only-of-type {\n",
       "        vertical-align: middle;\n",
       "    }\n",
       "\n",
       "    .dataframe tbody tr th {\n",
       "        vertical-align: top;\n",
       "    }\n",
       "\n",
       "    .dataframe thead th {\n",
       "        text-align: right;\n",
       "    }\n",
       "</style>\n",
       "<table border=\"1\" class=\"dataframe\">\n",
       "  <thead>\n",
       "    <tr style=\"text-align: right;\">\n",
       "      <th></th>\n",
       "      <th>count</th>\n",
       "    </tr>\n",
       "  </thead>\n",
       "  <tbody>\n",
       "    <tr>\n",
       "      <th>0</th>\n",
       "      <td>819</td>\n",
       "    </tr>\n",
       "  </tbody>\n",
       "</table>\n",
       "</div>"
      ],
      "text/plain": [
       "   count\n",
       "0    819"
      ]
     },
     "execution_count": 8,
     "metadata": {},
     "output_type": "execute_result"
    }
   ],
   "source": [
    "query1='''select COUNT(DISTINCT book_id) \n",
    "from books \n",
    "where publication_date > '2000-01-01'\n",
    "'''\n",
    "select(query1) "
   ]
  },
  {
   "cell_type": "markdown",
   "id": "718c0c34",
   "metadata": {},
   "source": [
    "**819 книг вышло после 1 января 2000 года. Всего книг в таблице - 1000.**"
   ]
  },
  {
   "cell_type": "code",
   "execution_count": 9,
   "id": "ab3ba9b0",
   "metadata": {},
   "outputs": [
    {
     "data": {
      "text/html": [
       "<div>\n",
       "<style scoped>\n",
       "    .dataframe tbody tr th:only-of-type {\n",
       "        vertical-align: middle;\n",
       "    }\n",
       "\n",
       "    .dataframe tbody tr th {\n",
       "        vertical-align: top;\n",
       "    }\n",
       "\n",
       "    .dataframe thead th {\n",
       "        text-align: right;\n",
       "    }\n",
       "</style>\n",
       "<table border=\"1\" class=\"dataframe\">\n",
       "  <thead>\n",
       "    <tr style=\"text-align: right;\">\n",
       "      <th></th>\n",
       "      <th>book_id</th>\n",
       "      <th>title</th>\n",
       "      <th>reviews</th>\n",
       "      <th>avg_rating</th>\n",
       "    </tr>\n",
       "  </thead>\n",
       "  <tbody>\n",
       "    <tr>\n",
       "      <th>0</th>\n",
       "      <td>1</td>\n",
       "      <td>'Salem's Lot</td>\n",
       "      <td>2</td>\n",
       "      <td>3.666667</td>\n",
       "    </tr>\n",
       "    <tr>\n",
       "      <th>1</th>\n",
       "      <td>2</td>\n",
       "      <td>1 000 Places to See Before You Die</td>\n",
       "      <td>1</td>\n",
       "      <td>2.500000</td>\n",
       "    </tr>\n",
       "    <tr>\n",
       "      <th>2</th>\n",
       "      <td>3</td>\n",
       "      <td>13 Little Blue Envelopes (Little Blue Envelope...</td>\n",
       "      <td>3</td>\n",
       "      <td>4.666667</td>\n",
       "    </tr>\n",
       "    <tr>\n",
       "      <th>3</th>\n",
       "      <td>4</td>\n",
       "      <td>1491: New Revelations of the Americas Before C...</td>\n",
       "      <td>2</td>\n",
       "      <td>4.500000</td>\n",
       "    </tr>\n",
       "    <tr>\n",
       "      <th>4</th>\n",
       "      <td>5</td>\n",
       "      <td>1776</td>\n",
       "      <td>4</td>\n",
       "      <td>4.000000</td>\n",
       "    </tr>\n",
       "    <tr>\n",
       "      <th>...</th>\n",
       "      <td>...</td>\n",
       "      <td>...</td>\n",
       "      <td>...</td>\n",
       "      <td>...</td>\n",
       "    </tr>\n",
       "    <tr>\n",
       "      <th>995</th>\n",
       "      <td>996</td>\n",
       "      <td>Wyrd Sisters (Discworld  #6; Witches #2)</td>\n",
       "      <td>3</td>\n",
       "      <td>3.666667</td>\n",
       "    </tr>\n",
       "    <tr>\n",
       "      <th>996</th>\n",
       "      <td>997</td>\n",
       "      <td>Xenocide (Ender's Saga  #3)</td>\n",
       "      <td>3</td>\n",
       "      <td>3.400000</td>\n",
       "    </tr>\n",
       "    <tr>\n",
       "      <th>997</th>\n",
       "      <td>998</td>\n",
       "      <td>Year of Wonders</td>\n",
       "      <td>4</td>\n",
       "      <td>3.200000</td>\n",
       "    </tr>\n",
       "    <tr>\n",
       "      <th>998</th>\n",
       "      <td>999</td>\n",
       "      <td>You Suck (A Love Story  #2)</td>\n",
       "      <td>2</td>\n",
       "      <td>4.500000</td>\n",
       "    </tr>\n",
       "    <tr>\n",
       "      <th>999</th>\n",
       "      <td>1000</td>\n",
       "      <td>Zen and the Art of Motorcycle Maintenance: An ...</td>\n",
       "      <td>4</td>\n",
       "      <td>3.833333</td>\n",
       "    </tr>\n",
       "  </tbody>\n",
       "</table>\n",
       "<p>1000 rows × 4 columns</p>\n",
       "</div>"
      ],
      "text/plain": [
       "     book_id                                              title  reviews  \\\n",
       "0          1                                       'Salem's Lot        2   \n",
       "1          2                 1 000 Places to See Before You Die        1   \n",
       "2          3  13 Little Blue Envelopes (Little Blue Envelope...        3   \n",
       "3          4  1491: New Revelations of the Americas Before C...        2   \n",
       "4          5                                               1776        4   \n",
       "..       ...                                                ...      ...   \n",
       "995      996           Wyrd Sisters (Discworld  #6; Witches #2)        3   \n",
       "996      997                        Xenocide (Ender's Saga  #3)        3   \n",
       "997      998                                    Year of Wonders        4   \n",
       "998      999                        You Suck (A Love Story  #2)        2   \n",
       "999     1000  Zen and the Art of Motorcycle Maintenance: An ...        4   \n",
       "\n",
       "     avg_rating  \n",
       "0      3.666667  \n",
       "1      2.500000  \n",
       "2      4.666667  \n",
       "3      4.500000  \n",
       "4      4.000000  \n",
       "..          ...  \n",
       "995    3.666667  \n",
       "996    3.400000  \n",
       "997    3.200000  \n",
       "998    4.500000  \n",
       "999    3.833333  \n",
       "\n",
       "[1000 rows x 4 columns]"
      ]
     },
     "execution_count": 9,
     "metadata": {},
     "output_type": "execute_result"
    }
   ],
   "source": [
    "query2='''SELECT b.book_id, title, COUNT(DISTINCT re.review_id) AS reviews, AVG(ra.rating) as avg_rating\n",
    "FROM books b\n",
    "LEFT JOIN ratings ra ON b.book_id=ra.book_id\n",
    "LEFT JOIN reviews re ON b.book_id=re.book_id\n",
    "GROUP BY b.book_id, title\n",
    "'''\n",
    "select(query2) "
   ]
  },
  {
   "cell_type": "markdown",
   "id": "733e2ddc",
   "metadata": {},
   "source": [
    "**Для каждой книги посчитал количество обзоров и среднюю оценку, даже если где-то в данных пропуск.**"
   ]
  },
  {
   "cell_type": "code",
   "execution_count": 10,
   "id": "a992089e",
   "metadata": {},
   "outputs": [
    {
     "data": {
      "text/html": [
       "<div>\n",
       "<style scoped>\n",
       "    .dataframe tbody tr th:only-of-type {\n",
       "        vertical-align: middle;\n",
       "    }\n",
       "\n",
       "    .dataframe tbody tr th {\n",
       "        vertical-align: top;\n",
       "    }\n",
       "\n",
       "    .dataframe thead th {\n",
       "        text-align: right;\n",
       "    }\n",
       "</style>\n",
       "<table border=\"1\" class=\"dataframe\">\n",
       "  <thead>\n",
       "    <tr style=\"text-align: right;\">\n",
       "      <th></th>\n",
       "      <th>publisher</th>\n",
       "      <th>count</th>\n",
       "    </tr>\n",
       "  </thead>\n",
       "  <tbody>\n",
       "    <tr>\n",
       "      <th>0</th>\n",
       "      <td>Penguin Books</td>\n",
       "      <td>42</td>\n",
       "    </tr>\n",
       "  </tbody>\n",
       "</table>\n",
       "</div>"
      ],
      "text/plain": [
       "       publisher  count\n",
       "0  Penguin Books     42"
      ]
     },
     "execution_count": 10,
     "metadata": {},
     "output_type": "execute_result"
    }
   ],
   "source": [
    "query3='''SELECT p.publisher, COUNT(b.book_id) \n",
    "FROM books b\n",
    "JOIN publishers p on b.publisher_id=p.publisher_id\n",
    "WHERE b.num_pages>50\n",
    "GROUP BY p.publisher\n",
    "ORDER BY COUNT(b.book_id) DESC\n",
    "LIMIT 1'''\n",
    "select(query3) "
   ]
  },
  {
   "cell_type": "markdown",
   "id": "fc604bc0",
   "metadata": {},
   "source": [
    "**Penguin Books - издательство, которое выпустило наибольшее число книг толще 50 страниц.**"
   ]
  },
  {
   "cell_type": "code",
   "execution_count": 11,
   "id": "ba930cb7",
   "metadata": {},
   "outputs": [
    {
     "data": {
      "text/html": [
       "<div>\n",
       "<style scoped>\n",
       "    .dataframe tbody tr th:only-of-type {\n",
       "        vertical-align: middle;\n",
       "    }\n",
       "\n",
       "    .dataframe tbody tr th {\n",
       "        vertical-align: top;\n",
       "    }\n",
       "\n",
       "    .dataframe thead th {\n",
       "        text-align: right;\n",
       "    }\n",
       "</style>\n",
       "<table border=\"1\" class=\"dataframe\">\n",
       "  <thead>\n",
       "    <tr style=\"text-align: right;\">\n",
       "      <th></th>\n",
       "      <th>author</th>\n",
       "    </tr>\n",
       "  </thead>\n",
       "  <tbody>\n",
       "    <tr>\n",
       "      <th>0</th>\n",
       "      <td>J.K. Rowling/Mary GrandPré</td>\n",
       "    </tr>\n",
       "  </tbody>\n",
       "</table>\n",
       "</div>"
      ],
      "text/plain": [
       "                       author\n",
       "0  J.K. Rowling/Mary GrandPré"
      ]
     },
     "execution_count": 11,
     "metadata": {},
     "output_type": "execute_result"
    }
   ],
   "source": [
    "query4='''WITH data as (SELECT b.book_id, b.author_id, AVG(ra.rating) as avg_rating\n",
    "FROM books b\n",
    "FULL JOIN ratings ra ON b.book_id=ra.book_id\n",
    "GROUP BY b.book_id, b.author_id\n",
    "HAVING COUNT(ra.rating_id)>=50\n",
    "ORDER BY AVG(ra.rating) DESC\n",
    "LIMIT 1)\n",
    "\n",
    "SELECT author\n",
    "FROM authors a\n",
    "JOIN data d on a.author_id=d.author_id\n",
    "'''\n",
    "select(query4) "
   ]
  },
  {
   "cell_type": "markdown",
   "id": "dc462968",
   "metadata": {},
   "source": [
    "**J.K. Rowling - автор с самой высокой средней оценкой книг. Mary GrandPré - иллюстратор книг о Гарри Поттере.**"
   ]
  },
  {
   "cell_type": "code",
   "execution_count": 17,
   "id": "a2be6e42",
   "metadata": {},
   "outputs": [
    {
     "data": {
      "text/html": [
       "<div>\n",
       "<style scoped>\n",
       "    .dataframe tbody tr th:only-of-type {\n",
       "        vertical-align: middle;\n",
       "    }\n",
       "\n",
       "    .dataframe tbody tr th {\n",
       "        vertical-align: top;\n",
       "    }\n",
       "\n",
       "    .dataframe thead th {\n",
       "        text-align: right;\n",
       "    }\n",
       "</style>\n",
       "<table border=\"1\" class=\"dataframe\">\n",
       "  <thead>\n",
       "    <tr style=\"text-align: right;\">\n",
       "      <th></th>\n",
       "      <th>avg</th>\n",
       "    </tr>\n",
       "  </thead>\n",
       "  <tbody>\n",
       "    <tr>\n",
       "      <th>0</th>\n",
       "      <td>24.333333</td>\n",
       "    </tr>\n",
       "  </tbody>\n",
       "</table>\n",
       "</div>"
      ],
      "text/plain": [
       "         avg\n",
       "0  24.333333"
      ]
     },
     "execution_count": 17,
     "metadata": {},
     "output_type": "execute_result"
    }
   ],
   "source": [
    "query5='''\n",
    "\n",
    "SELECT AVG(t.cnt)\n",
    "\n",
    "FROM \n",
    "(SELECT re.username, COUNT(re.review_id) as cnt\n",
    "\n",
    "FROM reviews re\n",
    "WHERE re.username IN (\n",
    "SELECT ra.username\n",
    "FROM ratings ra \n",
    "GROUP BY ra.username\n",
    "HAVING COUNT(ra.rating_id)>50)\n",
    "GROUP BY 1) t\n",
    "\n",
    "\n",
    "'''\n",
    "select(query5) \n"
   ]
  },
  {
   "cell_type": "markdown",
   "id": "17518d7e",
   "metadata": {},
   "source": [
    "**24 - среднее количество обзоров от пользователей, которые поставили больше 50 оценок.**"
   ]
  },
  {
   "cell_type": "markdown",
   "id": "870b9923",
   "metadata": {},
   "source": [
    "# Общий вывод\n",
    "\n",
    "\n"
   ]
  },
  {
   "cell_type": "markdown",
   "id": "30745494",
   "metadata": {},
   "source": [
    "**819 книг вышло после 1 января 2000 года. Всего книг в таблице - 1000.**\n",
    "\n",
    "**Penguin Books - издательство, которое выпустило наибольшее число книг толще 50 страниц.**\n",
    "\n",
    "**J.K. Rowling - автор с самой высокой средней оценкой книг. Mary GrandPré - иллюстратор книг о Гарри Поттере.**\n",
    "\n",
    "**24 - среднее количество обзоров от пользователей, которые поставили больше 50 оценок.**"
   ]
  }
 ],
 "metadata": {
  "ExecuteTimeLog": [
   {
    "duration": 8555,
    "start_time": "2023-01-11T23:24:04.428Z"
   },
   {
    "duration": 3,
    "start_time": "2023-01-11T23:24:12.985Z"
   },
   {
    "duration": 137,
    "start_time": "2023-01-11T23:24:12.990Z"
   },
   {
    "duration": 12,
    "start_time": "2023-01-11T23:24:13.130Z"
   },
   {
    "duration": 30,
    "start_time": "2023-01-11T23:24:13.144Z"
   },
   {
    "duration": 32,
    "start_time": "2023-01-11T23:24:13.176Z"
   },
   {
    "duration": 30,
    "start_time": "2023-01-11T23:24:13.209Z"
   },
   {
    "duration": 32,
    "start_time": "2023-01-11T23:24:13.241Z"
   },
   {
    "duration": 61,
    "start_time": "2023-01-11T23:24:13.275Z"
   },
   {
    "duration": 13,
    "start_time": "2023-01-11T23:24:13.340Z"
   },
   {
    "duration": 40,
    "start_time": "2023-01-11T23:24:13.355Z"
   },
   {
    "duration": 31,
    "start_time": "2023-01-11T23:24:13.397Z"
   },
   {
    "duration": 186,
    "start_time": "2023-01-11T23:25:43.914Z"
   },
   {
    "duration": 25,
    "start_time": "2023-01-11T23:26:20.514Z"
   },
   {
    "duration": 20,
    "start_time": "2023-01-11T23:26:50.679Z"
   },
   {
    "duration": 12,
    "start_time": "2023-01-11T23:27:15.560Z"
   },
   {
    "duration": 20,
    "start_time": "2023-01-11T23:30:48.659Z"
   },
   {
    "duration": 21,
    "start_time": "2023-01-11T23:30:57.700Z"
   },
   {
    "duration": 6141,
    "start_time": "2023-01-12T04:03:20.990Z"
   },
   {
    "duration": 3,
    "start_time": "2023-01-12T04:03:27.133Z"
   },
   {
    "duration": 285,
    "start_time": "2023-01-12T04:03:27.137Z"
   },
   {
    "duration": 75,
    "start_time": "2023-01-12T04:03:27.424Z"
   },
   {
    "duration": 76,
    "start_time": "2023-01-12T04:03:27.501Z"
   },
   {
    "duration": 77,
    "start_time": "2023-01-12T04:03:27.579Z"
   },
   {
    "duration": 77,
    "start_time": "2023-01-12T04:03:27.657Z"
   },
   {
    "duration": 76,
    "start_time": "2023-01-12T04:03:27.735Z"
   },
   {
    "duration": 112,
    "start_time": "2023-01-12T04:03:27.813Z"
   },
   {
    "duration": 77,
    "start_time": "2023-01-12T04:03:27.927Z"
   },
   {
    "duration": 79,
    "start_time": "2023-01-12T04:03:28.006Z"
   },
   {
    "duration": 82,
    "start_time": "2023-01-12T04:03:28.087Z"
   },
   {
    "duration": 47,
    "start_time": "2023-01-12T05:24:38.568Z"
   },
   {
    "duration": 8520,
    "start_time": "2023-01-12T05:24:42.559Z"
   },
   {
    "duration": 3,
    "start_time": "2023-01-12T05:24:51.082Z"
   },
   {
    "duration": 90,
    "start_time": "2023-01-12T05:24:51.087Z"
   },
   {
    "duration": 11,
    "start_time": "2023-01-12T05:24:51.179Z"
   },
   {
    "duration": 11,
    "start_time": "2023-01-12T05:24:51.191Z"
   },
   {
    "duration": 10,
    "start_time": "2023-01-12T05:24:51.204Z"
   },
   {
    "duration": 11,
    "start_time": "2023-01-12T05:24:51.216Z"
   },
   {
    "duration": 11,
    "start_time": "2023-01-12T05:24:51.228Z"
   },
   {
    "duration": 26,
    "start_time": "2023-01-12T05:24:51.241Z"
   },
   {
    "duration": 10,
    "start_time": "2023-01-12T05:24:51.270Z"
   },
   {
    "duration": 14,
    "start_time": "2023-01-12T05:24:51.282Z"
   },
   {
    "duration": 18,
    "start_time": "2023-01-12T05:24:51.297Z"
   },
   {
    "duration": 11,
    "start_time": "2023-01-12T05:26:02.424Z"
   },
   {
    "duration": 10,
    "start_time": "2023-01-12T05:26:17.327Z"
   },
   {
    "duration": 10,
    "start_time": "2023-01-12T05:26:25.432Z"
   },
   {
    "duration": 27,
    "start_time": "2023-01-12T05:27:41.590Z"
   },
   {
    "duration": 35,
    "start_time": "2023-01-12T05:28:24.126Z"
   },
   {
    "duration": 29,
    "start_time": "2023-01-12T05:28:33.753Z"
   },
   {
    "duration": 29,
    "start_time": "2023-01-12T05:28:39.129Z"
   },
   {
    "duration": 30,
    "start_time": "2023-01-12T05:29:11.882Z"
   },
   {
    "duration": 25,
    "start_time": "2023-01-12T05:30:20.832Z"
   },
   {
    "duration": 28,
    "start_time": "2023-01-12T05:30:26.909Z"
   },
   {
    "duration": 18,
    "start_time": "2023-01-12T05:31:54.407Z"
   },
   {
    "duration": 19,
    "start_time": "2023-01-12T05:33:39.793Z"
   },
   {
    "duration": 18,
    "start_time": "2023-01-12T05:34:31.817Z"
   },
   {
    "duration": 20,
    "start_time": "2023-01-12T05:36:41.819Z"
   },
   {
    "duration": 18,
    "start_time": "2023-01-12T05:37:03.426Z"
   },
   {
    "duration": 21,
    "start_time": "2023-01-12T05:38:35.674Z"
   },
   {
    "duration": 119,
    "start_time": "2023-01-12T05:40:26.023Z"
   },
   {
    "duration": 112,
    "start_time": "2023-01-12T05:40:34.085Z"
   },
   {
    "duration": 28,
    "start_time": "2023-01-12T05:40:35.801Z"
   },
   {
    "duration": 30,
    "start_time": "2023-01-12T05:42:08.896Z"
   },
   {
    "duration": 18,
    "start_time": "2023-01-12T05:45:17.491Z"
   },
   {
    "duration": 4,
    "start_time": "2023-01-12T05:45:21.192Z"
   },
   {
    "duration": 11,
    "start_time": "2023-01-12T05:45:21.198Z"
   },
   {
    "duration": 45,
    "start_time": "2023-01-12T05:45:21.211Z"
   },
   {
    "duration": 10,
    "start_time": "2023-01-12T05:45:21.258Z"
   },
   {
    "duration": 9,
    "start_time": "2023-01-12T05:45:21.270Z"
   },
   {
    "duration": 11,
    "start_time": "2023-01-12T05:45:21.281Z"
   },
   {
    "duration": 10,
    "start_time": "2023-01-12T05:45:21.293Z"
   },
   {
    "duration": 9,
    "start_time": "2023-01-12T05:45:21.305Z"
   },
   {
    "duration": 29,
    "start_time": "2023-01-12T05:45:21.316Z"
   },
   {
    "duration": 12,
    "start_time": "2023-01-12T05:45:21.347Z"
   },
   {
    "duration": 12,
    "start_time": "2023-01-12T05:45:21.361Z"
   },
   {
    "duration": 18,
    "start_time": "2023-01-12T05:45:21.374Z"
   },
   {
    "duration": 18,
    "start_time": "2023-01-12T05:47:37.554Z"
   },
   {
    "duration": 18,
    "start_time": "2023-01-12T05:47:42.296Z"
   },
   {
    "duration": 26,
    "start_time": "2023-01-12T05:50:45.252Z"
   },
   {
    "duration": 19,
    "start_time": "2023-01-12T05:51:11.716Z"
   },
   {
    "duration": 19,
    "start_time": "2023-01-12T05:51:16.029Z"
   },
   {
    "duration": 18,
    "start_time": "2023-01-12T05:51:20.105Z"
   },
   {
    "duration": 20,
    "start_time": "2023-01-12T05:52:53.048Z"
   },
   {
    "duration": 115,
    "start_time": "2023-01-12T05:52:58.984Z"
   },
   {
    "duration": 20,
    "start_time": "2023-01-12T05:53:02.095Z"
   },
   {
    "duration": 5,
    "start_time": "2023-01-12T05:53:31.437Z"
   },
   {
    "duration": 18,
    "start_time": "2023-01-12T05:53:31.445Z"
   },
   {
    "duration": 63,
    "start_time": "2023-01-12T05:53:31.465Z"
   },
   {
    "duration": 14,
    "start_time": "2023-01-12T05:53:31.530Z"
   },
   {
    "duration": 14,
    "start_time": "2023-01-12T05:53:31.547Z"
   },
   {
    "duration": 28,
    "start_time": "2023-01-12T05:53:31.563Z"
   },
   {
    "duration": 37,
    "start_time": "2023-01-12T05:53:31.592Z"
   },
   {
    "duration": 14,
    "start_time": "2023-01-12T05:53:31.631Z"
   },
   {
    "duration": 49,
    "start_time": "2023-01-12T05:53:31.647Z"
   },
   {
    "duration": 14,
    "start_time": "2023-01-12T05:53:31.698Z"
   },
   {
    "duration": 18,
    "start_time": "2023-01-12T05:53:31.714Z"
   },
   {
    "duration": 18,
    "start_time": "2023-01-12T05:53:31.734Z"
   },
   {
    "duration": 26,
    "start_time": "2023-01-12T05:54:21.073Z"
   },
   {
    "duration": 13,
    "start_time": "2023-01-12T05:56:50.450Z"
   },
   {
    "duration": 94,
    "start_time": "2023-01-12T05:59:09.990Z"
   },
   {
    "duration": 100,
    "start_time": "2023-01-12T06:01:38.787Z"
   },
   {
    "duration": 109,
    "start_time": "2023-01-12T06:02:01.763Z"
   },
   {
    "duration": 93,
    "start_time": "2023-01-12T06:02:50.983Z"
   },
   {
    "duration": 91,
    "start_time": "2023-01-12T06:02:54.817Z"
   },
   {
    "duration": 99,
    "start_time": "2023-01-12T06:03:26.650Z"
   },
   {
    "duration": 130,
    "start_time": "2023-01-12T06:03:33.957Z"
   },
   {
    "duration": 14,
    "start_time": "2023-01-12T06:03:47.717Z"
   },
   {
    "duration": 14,
    "start_time": "2023-01-12T06:04:51.671Z"
   },
   {
    "duration": 14,
    "start_time": "2023-01-12T06:04:54.350Z"
   },
   {
    "duration": 96,
    "start_time": "2023-01-12T06:05:05.474Z"
   },
   {
    "duration": 13,
    "start_time": "2023-01-12T06:05:09.207Z"
   },
   {
    "duration": 12,
    "start_time": "2023-01-12T06:05:16.680Z"
   },
   {
    "duration": 14,
    "start_time": "2023-01-12T06:09:22.254Z"
   },
   {
    "duration": 15,
    "start_time": "2023-01-12T06:09:25.197Z"
   },
   {
    "duration": 14687,
    "start_time": "2023-01-12T18:26:39.625Z"
   },
   {
    "duration": 3,
    "start_time": "2023-01-12T18:26:54.315Z"
   },
   {
    "duration": 210,
    "start_time": "2023-01-12T18:26:54.320Z"
   },
   {
    "duration": 65,
    "start_time": "2023-01-12T18:26:54.534Z"
   },
   {
    "duration": 11,
    "start_time": "2023-01-12T18:26:54.600Z"
   },
   {
    "duration": 12,
    "start_time": "2023-01-12T18:26:54.613Z"
   },
   {
    "duration": 76,
    "start_time": "2023-01-12T18:26:54.629Z"
   },
   {
    "duration": 65,
    "start_time": "2023-01-12T18:26:54.707Z"
   },
   {
    "duration": 56,
    "start_time": "2023-01-12T18:26:54.774Z"
   },
   {
    "duration": 59,
    "start_time": "2023-01-12T18:26:54.833Z"
   },
   {
    "duration": 16,
    "start_time": "2023-01-12T18:26:54.894Z"
   },
   {
    "duration": 22,
    "start_time": "2023-01-12T18:26:54.912Z"
   },
   {
    "duration": 481,
    "start_time": "2023-01-12T18:27:31.922Z"
   },
   {
    "duration": 127,
    "start_time": "2023-01-12T18:28:42.306Z"
   },
   {
    "duration": 219,
    "start_time": "2023-01-12T18:39:01.015Z"
   },
   {
    "duration": 172,
    "start_time": "2023-01-12T18:39:16.447Z"
   },
   {
    "duration": 433,
    "start_time": "2023-01-12T18:40:05.528Z"
   },
   {
    "duration": 242,
    "start_time": "2023-01-12T18:41:05.775Z"
   },
   {
    "duration": 78,
    "start_time": "2023-01-12T18:41:33.224Z"
   },
   {
    "duration": 41,
    "start_time": "2023-01-12T18:41:53.349Z"
   },
   {
    "duration": 8287,
    "start_time": "2023-01-12T19:02:06.587Z"
   },
   {
    "duration": 2,
    "start_time": "2023-01-12T19:02:14.876Z"
   },
   {
    "duration": 67,
    "start_time": "2023-01-12T19:02:14.880Z"
   },
   {
    "duration": 11,
    "start_time": "2023-01-12T19:02:14.950Z"
   },
   {
    "duration": 11,
    "start_time": "2023-01-12T19:02:14.963Z"
   },
   {
    "duration": 12,
    "start_time": "2023-01-12T19:02:14.976Z"
   },
   {
    "duration": 11,
    "start_time": "2023-01-12T19:02:14.990Z"
   },
   {
    "duration": 35,
    "start_time": "2023-01-12T19:02:15.003Z"
   },
   {
    "duration": 31,
    "start_time": "2023-01-12T19:02:15.043Z"
   },
   {
    "duration": 13,
    "start_time": "2023-01-12T19:02:15.077Z"
   },
   {
    "duration": 18,
    "start_time": "2023-01-12T19:02:15.092Z"
   },
   {
    "duration": 15,
    "start_time": "2023-01-12T19:02:15.112Z"
   },
   {
    "duration": 170,
    "start_time": "2023-01-12T19:04:40.154Z"
   },
   {
    "duration": 91,
    "start_time": "2023-01-12T19:04:44.110Z"
   },
   {
    "duration": 91,
    "start_time": "2023-01-12T19:05:01.184Z"
   },
   {
    "duration": 112,
    "start_time": "2023-01-12T19:05:26.487Z"
   },
   {
    "duration": 17,
    "start_time": "2023-01-12T19:05:53.285Z"
   }
  ],
  "kernelspec": {
   "display_name": "Python 3 (ipykernel)",
   "language": "python",
   "name": "python3"
  },
  "language_info": {
   "codemirror_mode": {
    "name": "ipython",
    "version": 3
   },
   "file_extension": ".py",
   "mimetype": "text/x-python",
   "name": "python",
   "nbconvert_exporter": "python",
   "pygments_lexer": "ipython3",
   "version": "3.9.12"
  },
  "toc": {
   "base_numbering": 1,
   "nav_menu": {},
   "number_sections": true,
   "sideBar": true,
   "skip_h1_title": true,
   "title_cell": "Table of Contents",
   "title_sidebar": "Contents",
   "toc_cell": false,
   "toc_position": {},
   "toc_section_display": true,
   "toc_window_display": false
  }
 },
 "nbformat": 4,
 "nbformat_minor": 5
}
